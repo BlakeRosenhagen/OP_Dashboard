{
 "cells": [
  {
   "cell_type": "code",
   "execution_count": null,
   "metadata": {},
   "outputs": [],
   "source": [
    "import pandas as pd\n",
    "import index\n",
    "import homepage\n",
    "from prep import get_data\n",
    "import plotly.graph_objects as go"
   ]
  },
  {
   "cell_type": "code",
   "execution_count": null,
   "metadata": {},
   "outputs": [],
   "source": [
    "run index"
   ]
  },
  {
   "cell_type": "code",
   "execution_count": null,
   "metadata": {},
   "outputs": [],
   "source": [
    " df, df_num, df_noncumun_whole, noncumun_dfs = get_data()"
   ]
  },
  {
   "cell_type": "code",
   "execution_count": null,
   "metadata": {},
   "outputs": [],
   "source": [
    "pd.set_option('display.max_columns', None)\n",
    "df_num"
   ]
  },
  {
   "cell_type": "code",
   "execution_count": null,
   "metadata": {},
   "outputs": [],
   "source": [
    "df_num[df_num[\"ExpectedOrderDate\"] >= pd.to_datetime('2020-1-1')].groupby(\"ExpectedOrderDate\").mean().index"
   ]
  },
  {
   "cell_type": "code",
   "execution_count": null,
   "metadata": {},
   "outputs": [],
   "source": [
    "df_num[df_num[\"ExpectedOrderDate\"]>2020-1-1].groupby(\"ExpectedOrderDate\").mean()[\"PotentialValue\"]"
   ]
  },
  {
   "cell_type": "code",
   "execution_count": null,
   "metadata": {},
   "outputs": [],
   "source": [
    "list(df_num[df_num[\"Type\"]==t].groupby(\"ExpectedOrderDateM\").mean()[numerical_group].index)"
   ]
  },
  {
   "cell_type": "code",
   "execution_count": null,
   "metadata": {
    "scrolled": false
   },
   "outputs": [],
   "source": [
    "fig = go.Figure()\n",
    "\n",
    "group = \"Notes\"\n",
    "numerical_group = \"PotentialValue\"\n",
    "agg_method = \"sum\"\n",
    "for t in df_num[group].unique():\n",
    "    #for future filtering with date range\n",
    "    df_num = df_num[df_num[\"ExpectedOrderDate\"] >= pd.to_datetime('2020-1-1')]\n",
    "    \n",
    "    if agg_method == \"sum\":\n",
    "        fig.add_trace(go.Bar(x=df_num[df_num[group]==t].groupby(\"ExpectedOrderDate\").sum()[[numerical_group]].index,\n",
    "                             y=list(df_num[df_num[group]==t].groupby(\"ExpectedOrderDate\").sum()[numerical_group]),\n",
    "                             name=t))\n",
    "    if agg_method == \"mean\":\n",
    "        fig.add_trace(go.Bar(x=df_num[df_num[group]==t].groupby(\"ExpectedOrderDate\").mean()[[numerical_group]].index,\n",
    "                             y=list(df_num[df_num[group]==t].groupby(\"ExpectedOrderDate\").mean()[numerical_group]),\n",
    "                             name=t))\n",
    "    if agg_method == \"median\":\n",
    "        fig.add_trace(go.Bar(x=df_num[df_num[group]==t].groupby(\"ExpectedOrderDate\").median()[[numerical_group]].index,\n",
    "                             y=list(df_num[df_num[group]==t].groupby(\"ExpectedOrderDate\").median()[numerical_group]),\n",
    "                             name=t))\n",
    "    if agg_method == \"std\":\n",
    "        fig.add_trace(go.Bar(x=df_num[df_num[group]==t].groupby(\"ExpectedOrderDate\").std()[[numerical_group]].index,\n",
    "                             y=list(df_num[df_num[group]==t].groupby(\"ExpectedOrderDate\").std()[numerical_group]),\n",
    "                             name=t))\n",
    "\n",
    "fig.update_layout(title = \"{} of {} grouped by {}\".format(agg_method,numerical_group,group),\n",
    "                  barmode='stack', \n",
    "                  xaxis={'categoryorder':'category ascending'},\n",
    "                  legend_title_text= group,\n",
    "                  xaxis_title=\"Date\",\n",
    "                  yaxis_title=\"{} {}\".format(numerical_group, agg_method),\n",
    "                  font=dict(\n",
    "                      #family=\"Courier New, monospace\",\n",
    "                      size=12,\n",
    "                      color=\"#000000\"\n",
    "                    ))\n",
    "fig.show()"
   ]
  },
  {
   "cell_type": "code",
   "execution_count": null,
   "metadata": {},
   "outputs": [],
   "source": [
    "included_columns_date = [\"Div\",\"Branch\",\"OAM\",\"LeadType\",\"Type\",\"New\",\"Stage\"]"
   ]
  },
  {
   "cell_type": "code",
   "execution_count": null,
   "metadata": {},
   "outputs": [],
   "source": []
  }
 ],
 "metadata": {
  "kernelspec": {
   "display_name": "Python 3",
   "language": "python",
   "name": "python3"
  },
  "language_info": {
   "codemirror_mode": {
    "name": "ipython",
    "version": 3
   },
   "file_extension": ".py",
   "mimetype": "text/x-python",
   "name": "python",
   "nbconvert_exporter": "python",
   "pygments_lexer": "ipython3",
   "version": "3.7.3"
  }
 },
 "nbformat": 4,
 "nbformat_minor": 2
}

{
 "cells": [
  {
   "cell_type": "code",
   "execution_count": null,
   "metadata": {
    "scrolled": false
   },
   "outputs": [],
   "source": [
    "import index\n",
    "import homepage"
   ]
  },
  {
   "cell_type": "code",
   "execution_count": null,
   "metadata": {},
   "outputs": [],
   "source": [
    "run index"
   ]
  },
  {
   "cell_type": "code",
   "execution_count": null,
   "metadata": {},
   "outputs": [],
   "source": [
    "import interact"
   ]
  },
  {
   "cell_type": "code",
   "execution_count": null,
   "metadata": {},
   "outputs": [],
   "source": [
    "run interact"
   ]
  },
  {
   "cell_type": "code",
   "execution_count": 1,
   "metadata": {},
   "outputs": [],
   "source": [
    "import pandas as pd\n",
    "import dash\n",
    "import dash_core_components as dcc\n",
    "import dash_html_components as html\n",
    "import dash_bootstrap_components as dbc\n",
    "from dash.dependencies import Output, Input\n",
    "import plotly.graph_objects as go\n",
    "import plotly.express as px\n",
    "from plotly.subplots import make_subplots\n",
    "from prep import get_data\n",
    "import numpy as np\n",
    "import json"
   ]
  },
  {
   "cell_type": "code",
   "execution_count": null,
   "metadata": {},
   "outputs": [],
   "source": [
    "dff = df_num[(df_num[\"ExpectedOrderDate\"] == \"2020-07-15\") & (df_num['Stage'] == \"On Hold\")]\n",
    "[i for i in dff.index]"
   ]
  },
  {
   "cell_type": "code",
   "execution_count": null,
   "metadata": {},
   "outputs": [],
   "source": [
    "layout = {\n",
    "   plot_bgcolor: \"rgba(0,0,0,0)\",\n",
    "   paper_bgcolor: \"rgba(0,0,0,0)\"\n",
    "}"
   ]
  },
  {
   "cell_type": "code",
   "execution_count": null,
   "metadata": {},
   "outputs": [],
   "source": [
    "dff = px.data.gapminder()\n",
    "fig = px.scatter(df_num, x='ProbPercent', y='PotentialValue', color='Stage', #size='pop',\n",
    "                facet_col='Type', facet_col_wrap=4, marginal_x='box')\n",
    "\n",
    "fig.update_layout(\n",
    "    \n",
    "    #margin=dict(l=0, r=0, t=0, b=0),\n",
    "    paper_bgcolor=\"lightcyan\",\n",
    "    plot_bgcolor='lightsteelblue' #gainsboro, lightsteelblue lightsalmon lightgreen lightpink lightcyan lightblue black\n",
    ")\n",
    "\n",
    "fig.show()"
   ]
  },
  {
   "cell_type": "code",
   "execution_count": 2,
   "metadata": {},
   "outputs": [
    {
     "name": "stderr",
     "output_type": "stream",
     "text": [
      "C:\\Users\\blake\\Documents\\Future\\GitHub_Repo_Projects\\awc\\clean\\clean\\prep.py:116: SettingWithCopyWarning:\n",
      "\n",
      "\n",
      "A value is trying to be set on a copy of a slice from a DataFrame.\n",
      "Try using .loc[row_indexer,col_indexer] = value instead\n",
      "\n",
      "See the caveats in the documentation: http://pandas.pydata.org/pandas-docs/stable/indexing.html#indexing-view-versus-copy\n",
      "\n",
      "C:\\Users\\blake\\Documents\\Future\\GitHub_Repo_Projects\\awc\\clean\\clean\\prep.py:117: SettingWithCopyWarning:\n",
      "\n",
      "\n",
      "A value is trying to be set on a copy of a slice from a DataFrame.\n",
      "Try using .loc[row_indexer,col_indexer] = value instead\n",
      "\n",
      "See the caveats in the documentation: http://pandas.pydata.org/pandas-docs/stable/indexing.html#indexing-view-versus-copy\n",
      "\n",
      "C:\\Users\\blake\\Documents\\Future\\GitHub_Repo_Projects\\awc\\clean\\clean\\prep.py:118: SettingWithCopyWarning:\n",
      "\n",
      "\n",
      "A value is trying to be set on a copy of a slice from a DataFrame.\n",
      "Try using .loc[row_indexer,col_indexer] = value instead\n",
      "\n",
      "See the caveats in the documentation: http://pandas.pydata.org/pandas-docs/stable/indexing.html#indexing-view-versus-copy\n",
      "\n",
      "C:\\Users\\blake\\Documents\\Future\\GitHub_Repo_Projects\\awc\\clean\\clean\\prep.py:120: SettingWithCopyWarning:\n",
      "\n",
      "\n",
      "A value is trying to be set on a copy of a slice from a DataFrame.\n",
      "Try using .loc[row_indexer,col_indexer] = value instead\n",
      "\n",
      "See the caveats in the documentation: http://pandas.pydata.org/pandas-docs/stable/indexing.html#indexing-view-versus-copy\n",
      "\n",
      "C:\\Users\\blake\\Documents\\Future\\GitHub_Repo_Projects\\awc\\clean\\clean\\prep.py:124: SettingWithCopyWarning:\n",
      "\n",
      "\n",
      "A value is trying to be set on a copy of a slice from a DataFrame.\n",
      "Try using .loc[row_indexer,col_indexer] = value instead\n",
      "\n",
      "See the caveats in the documentation: http://pandas.pydata.org/pandas-docs/stable/indexing.html#indexing-view-versus-copy\n",
      "\n",
      "C:\\Users\\blake\\Documents\\Future\\GitHub_Repo_Projects\\awc\\clean\\clean\\prep.py:125: SettingWithCopyWarning:\n",
      "\n",
      "\n",
      "A value is trying to be set on a copy of a slice from a DataFrame.\n",
      "Try using .loc[row_indexer,col_indexer] = value instead\n",
      "\n",
      "See the caveats in the documentation: http://pandas.pydata.org/pandas-docs/stable/indexing.html#indexing-view-versus-copy\n",
      "\n",
      "C:\\Users\\blake\\Documents\\Future\\GitHub_Repo_Projects\\awc\\clean\\clean\\prep.py:127: SettingWithCopyWarning:\n",
      "\n",
      "\n",
      "A value is trying to be set on a copy of a slice from a DataFrame.\n",
      "Try using .loc[row_indexer,col_indexer] = value instead\n",
      "\n",
      "See the caveats in the documentation: http://pandas.pydata.org/pandas-docs/stable/indexing.html#indexing-view-versus-copy\n",
      "\n",
      "C:\\Users\\blake\\Anaconda3\\lib\\site-packages\\pandas\\core\\frame.py:6692: FutureWarning:\n",
      "\n",
      "Sorting because non-concatenation axis is not aligned. A future version\n",
      "of pandas will change to not sort by default.\n",
      "\n",
      "To accept the future behavior, pass 'sort=False'.\n",
      "\n",
      "To retain the current behavior and silence the warning, pass 'sort=True'.\n",
      "\n",
      "\n"
     ]
    }
   ],
   "source": [
    " df, df_num, df_noncumun_whole, noncumun_dfs = get_data()"
   ]
  },
  {
   "cell_type": "code",
   "execution_count": null,
   "metadata": {},
   "outputs": [],
   "source": [
    "json.dumps(df_num.iloc[12:22].to_dict('records'))"
   ]
  },
  {
   "cell_type": "code",
   "execution_count": null,
   "metadata": {},
   "outputs": [],
   "source": [
    "data = {\n",
    "  \"points\": [\n",
    "    {\n",
    "      \"curveNumber\": 0,\n",
    "      \"pointNumber\": 9,\n",
    "      \"pointIndex\": 9,\n",
    "      \"x\": \"2020-06-15\",\n",
    "      \"y\": 5185840,\n",
    "      \"label\": \"2020-06-15\",\n",
    "      \"value\": 5185840,\n",
    "      \"customdata\": [\n",
    "        11,\n",
    "        12,\n",
    "        17,\n",
    "        26\n",
    "      ]\n",
    "    },\n",
    "    {\n",
    "      \"curveNumber\": 0,\n",
    "      \"pointNumber\": 11,\n",
    "      \"pointIndex\": 11,\n",
    "      \"x\": \"2020-07-01\",\n",
    "      \"y\": 312226,\n",
    "      \"label\": \"2020-07-01\",\n",
    "      \"value\": 312226,\n",
    "      \"customdata\": [\n",
    "        9,\n",
    "        10,\n",
    "        31,\n",
    "        33,\n",
    "        39,\n",
    "        40,\n",
    "        50,\n",
    "        51,\n",
    "        52\n",
    "      ]\n",
    "    },\n",
    "    {\n",
    "      \"curveNumber\": 0,\n",
    "      \"pointNumber\": 11,\n",
    "      \"pointIndex\": 11,\n",
    "      \"x\": \"2020-07-01\",\n",
    "      \"y\": 312226,\n",
    "      \"label\": \"2020-07-01\",\n",
    "      \"value\": 312226,\n",
    "      \"customdata\": [\n",
    "        9,\n",
    "        10,\n",
    "        332322,\n",
    "        33,\n",
    "        39,\n",
    "        40,\n",
    "        50,\n",
    "        51,\n",
    "        52\n",
    "      ]\n",
    "    },\n",
    "      ]}\n",
    "\n",
    "\n",
    "\n",
    "\n",
    "\n",
    "[*data['points'][1]['customdata']]"
   ]
  },
  {
   "cell_type": "code",
   "execution_count": null,
   "metadata": {},
   "outputs": [],
   "source": [
    "for i in [*data['points'][i]['customdata']]"
   ]
  },
  {
   "cell_type": "code",
   "execution_count": null,
   "metadata": {},
   "outputs": [],
   "source": [
    "[i for i in df_num.index]"
   ]
  },
  {
   "cell_type": "code",
   "execution_count": null,
   "metadata": {},
   "outputs": [],
   "source": [
    "print(df_num.index[100])"
   ]
  },
  {
   "cell_type": "code",
   "execution_count": null,
   "metadata": {},
   "outputs": [],
   "source": [
    "idlist = [i['customdata'] for i in data['points'][i]]\n",
    "idlist"
   ]
  },
  {
   "cell_type": "code",
   "execution_count": null,
   "metadata": {},
   "outputs": [],
   "source": [
    "idlist = []\n",
    "for i in data['points']:\n",
    "    idlist.append(i['customdata'])\n",
    "idlist = [val for sublist in idlist for val in sublist]\n",
    "df_table = df_num[df_num.index.isin(idlist)]"
   ]
  },
  {
   "cell_type": "code",
   "execution_count": null,
   "metadata": {},
   "outputs": [],
   "source": [
    "flattened = [val for sublist in idlist for val in sublist]\n",
    "flattened"
   ]
  },
  {
   "cell_type": "code",
   "execution_count": null,
   "metadata": {},
   "outputs": [],
   "source": [
    "df_table = df_num[df_num.index.isin([13,23,177,33,177,23,None])]\n",
    "df_table"
   ]
  },
  {
   "cell_type": "code",
   "execution_count": null,
   "metadata": {},
   "outputs": [],
   "source": [
    "pd.set_option('display.max_columns', None)"
   ]
  },
  {
   "cell_type": "code",
   "execution_count": null,
   "metadata": {},
   "outputs": [],
   "source": [
    "agg_methods = ['sum','count','sum_ratio','count_ratio']"
   ]
  },
  {
   "cell_type": "code",
   "execution_count": null,
   "metadata": {},
   "outputs": [],
   "source": [
    "fig = go.Figure()\n",
    "\n",
    "stages = [['Won'],['Quoting','Discovery (S.P.I.N.)','Working', 'On Hold','Solution Development'],['Lost (why?)']\n",
    "names = [\"Won\",\"Ongoing\",\"Lost\"]\n",
    "\n",
    "if mode == 'Proportions':\n",
    "    if scope == 'By Branch':\n",
    "        if agg_method == 'Sum':\n",
    "            for i in range(len(stages)):\n",
    "              dff = df_num\n",
    "              dff[\"Stage\"] = df_num[\"Stage\"].replace(['Quoting','Discovery (S.P.I.N.)','Working',\n",
    "                                  'On Hold','Solution Development'], 'Ongoing')\n",
    "              dff = df_num[df_num[\"Stage\"]==stages[i]].groupby(\"Branch\").sum()[\"PotentialValue\"]\n",
    "              fig.add_trace(go.Bar(\n",
    "                y=df_num[\"Branch\"].unique(),\n",
    "                x=[dff[b] for b in df_num[\"Branch\"].unique() if b in dff.index]\n",
    "                name=names[i],\n",
    "                orientation='h',\n",
    "                marker=dict(\n",
    "                    color='rgba(246, 78, 139, 0.6)',\n",
    "                    line=dict(color='rgba(246, 78, 139, 1.0)', width=3)\n",
    "                )\n",
    "            ))\n",
    "        elif agg_method == 'Count':\n",
    "            for i in range(len(stages)):\n",
    "                dff = df_num[df_num[\"Stage\"]==stages[i]].groupby(\"Branch\").count()[\"PotentialValue\"]\n",
    "                fig.add_trace(go.Bar(\n",
    "                    y=df_num[\"Branch\"].unique(),\n",
    "                    x=[dff[b] for b in df_num[\"Branch\"].unique() if b in dff.index]\n",
    "                    name=names[i],\n",
    "                    orientation='h',\n",
    "                    marker=dict(\n",
    "                        color='rgba(246, 78, 139, 0.6)',\n",
    "                        line=dict(color='rgba(246, 78, 139, 1.0)', width=3)\n",
    "                    )\n",
    "                ))\n",
    "    elif scope == 'As Whole':\n",
    "          \n",
    "if mode == 'Ratio':\n",
    "\n",
    "fig.update_layout(barmode='stack')\n",
    "fig.show()"
   ]
  },
  {
   "cell_type": "code",
   "execution_count": null,
   "metadata": {},
   "outputs": [],
   "source": [
    "# fixed on all data shown while hover"
   ]
  },
  {
   "cell_type": "code",
   "execution_count": null,
   "metadata": {},
   "outputs": [],
   "source": [
    "df_num.columns"
   ]
  },
  {
   "cell_type": "code",
   "execution_count": null,
   "metadata": {},
   "outputs": [],
   "source": [
    "stages = [['Won'],['Quoting','Discovery (S.P.I.N.)','Working', 'On Hold','Solution Development'],['Lost (why?)']\n",
    "names = [\"Won\",\"Ongoing\",\"Lost\"]"
   ]
  },
  {
   "cell_type": "code",
   "execution_count": null,
   "metadata": {},
   "outputs": [],
   "source": [
    "df_num[df_num[\"Stage\"].isin(['Quoting','Discovery (S.P.I.N.)','Working', 'On Hold','Solution Development'])]\n",
    "df_num[df_num[\"Stage\"].isin(['Won','Lost (why?)'])\n",
    "       dff = df_num[df_num[\"Stage\"].isin(['Won','Lost (why?)'])"
   ]
  },
  {
   "cell_type": "code",
   "execution_count": null,
   "metadata": {},
   "outputs": [],
   "source": [
    "dsa = ['Div','Branch','OAM','LeadType','Customer',\n",
    "    'Type','New','City, St','KeyVendor','Stage','UpdateDate']"
   ]
  },
  {
   "cell_type": "code",
   "execution_count": null,
   "metadata": {},
   "outputs": [],
   "source": [
    "pathmode included numerical"
   ]
  },
  {
   "cell_type": "code",
   "execution_count": null,
   "metadata": {},
   "outputs": [],
   "source": [
    "# html.Div(id='control_tabsA1', className='control_tabs', children=[\n",
    "            dcc.Tabs(id='tabs', value='Sunburst', children=[\n",
    "                dcc.Tab(\n",
    "                    label='Sunburst',\n",
    "                    value='Sunburst',\n",
    "                    children=html.Div(className='control-tab', children=[\n",
    "                        dcc.Dropdown(id='dropdownA1structure',options=[{'label':k 'value':k} for k in structure_options])\n",
    "                        dcc.RadioItems(id='radioA1astages',\n",
    "                                       options=[\n",
    "                                           {'label': 'All', 'value': 'All'},\n",
    "                                           {'label': 'W vs L', 'value': 'W vs L'},\n",
    "                                           {'label': 'W vs O vs L', 'value': 'W vs O vs L'}\n",
    "                                       ]\n",
    "                                       value = 'All'\n",
    "                                       labelStyle={'display': 'inline-block'},\n",
    "                                       className=\"dcc_control\"\n",
    "                                      ),\n",
    "                        dcc.RadioItems(id='radioA1anumerical',\n",
    "                                       options=[\n",
    "                                           {'label': 'Sum', 'value': 'Sum'},\n",
    "                                           {'label': 'Count', 'value': 'Count'},\n",
    "                                       ],\n",
    "                                       value = 'Sum'\n",
    "                                       labelStyle={'display': 'inline-block'},\n",
    "                                       className=\"dcc_control\"\n",
    "                                      ),\n",
    "                    ])\n",
    "                ),\n",
    "                dcc.Tab(\n",
    "                    label='Horizontal',\n",
    "                    value='Horizontal',\n",
    "                    children=html.Div(className='control-tab', children=[\n",
    "                        \n",
    "                    ])\n",
    "                )\n",
    "            ])\n",
    "]),"
   ]
  },
  {
   "cell_type": "code",
   "execution_count": null,
   "metadata": {},
   "outputs": [],
   "source": [
    "\n",
    "structure_options = ['Proportions of Branches Stage group',\n",
    "                    'Proportions of Branches by OAM by Stage group',\n",
    "                    'Proportions of Stage group by OAM',\n",
    "                    'Proportions of Stage group by Customer']\n",
    "\n",
    "\n",
    "\n",
    "html.Div([\n",
    "    dcc.Dropdown(id='dropdownA1structure',options=[{'label':k 'value':k} for k in structure_options])\n",
    "\n",
    "\n",
    "    dcc.RadioItems(id='radioA1astages',\n",
    "                   options=[\n",
    "                       {'label': 'All', 'value': 'All'},\n",
    "                       {'label': 'W vs L', 'value': 'W vs L'},\n",
    "                       {'label': 'W vs O vs L', 'value': 'W vs O vs L'}\n",
    "                   ]\n",
    "                   value = 'All'\n",
    "                   labelStyle={'display': 'inline-block'},\n",
    "                   className=\"dcc_control\"\n",
    "                  ),\n",
    "\n",
    "\n",
    "    dcc.RadioItems(id='radioA1anumerical',\n",
    "                   options=[\n",
    "                       {'label': 'Sum', 'value': 'Sum'},\n",
    "                       {'label': 'Count', 'value': 'Count'},\n",
    "                   ],\n",
    "                   value = 'Sum'\n",
    "                   labelStyle={'display': 'inline-block'},\n",
    "                   className=\"dcc_control\"\n",
    "                  ),\n",
    "])\n",
    "                     "
   ]
  },
  {
   "cell_type": "code",
   "execution_count": null,
   "metadata": {},
   "outputs": [],
   "source": [
    "ggroup_options = ['Div','Branch','OAM','LeadType','Customer',\n",
    "    'Type','New','City, St','KeyVendor','Stage','UpdateDate']\n",
    "group_options = ['Branch','LeadType','Type','New','Stage','OAM','Customer',\"KeyVendor\"]\n",
    "goptions = ['New','LeadType','Stage','Type','OAM','Branch']"
   ]
  },
  {
   "cell_type": "code",
   "execution_count": null,
   "metadata": {},
   "outputs": [],
   "source": [
    "\n",
    "fig = go.Figure()\n",
    "\n",
    "path_mode = 'Proportions of Stage group by OAM'\n",
    "included = 'All'\n",
    "numerical = 'Sum'\n",
    "\n",
    "values = 'PotentialValue' if numerical == 'Sum' else [1]*len(df_num)\n",
    "\n",
    "\n",
    "df, df_num, df_noncumun_whole, noncumun_dfs = get_data()\n",
    "\n",
    "if included == 'All':\n",
    "    dff = df_num\n",
    "elif included == 'Win vs Lose':\n",
    "    dff= df_num[df_num[\"Stage\"].isin(['Won','Lost (why?)'])]\n",
    "elif included == 'Win vs Ongoing vs Lose':\n",
    "    dff = df_num\n",
    "    dff[\"Stage\"] = df_num[\"Stage\"].replace(['Quoting','Discovery (S.P.I.N.)','Working',\n",
    "                                  'On Hold','Solution Development'], 'Ongoing')\n",
    "\n",
    "if path_mode == 'Proportions of Branches Stage group':\n",
    "    fig = px.sunburst(dff, path=['Branch','Stage'], values=values, color='Stage')\n",
    "    title = \"Proportions of Branches by {} stages according to {}\".format(included, numerical)\n",
    "if path_mode == 'Proportions of Branches by OAM by Stage group':\n",
    "    fig = px.sunburst(dff, path=['Branch','OAM','Stage'], values=values, color='Stage')\n",
    "    title = \"Proportions of Branches by OAM by {} stages according to {}\".format(included, numerical)\n",
    "if path_mode == 'Proportions of Stage group by OAM':\n",
    "    fig = px.sunburst(dff, path=['Stage','OAM'], values=values, color='Stage')\n",
    "    title = \"Proportions of {} stages by OAM according to {}\".format(included, numerical)\n",
    "if path_mode == 'Proportions of Stage group by Customer':\n",
    "    fig = px.sunburst(dff, path=['Stage','Customer'], values=values, color='Stage')\n",
    "    title=\"Proportions of OAM by {} stages according to {}\"(included, numerical)\n",
    "\n",
    "fig.update_layout(title = title,\n",
    "                  #width=1750,\n",
    "                  #height=500,\n",
    "                  font=dict(\n",
    "                      #family=\"Courier New, monospace\",\n",
    "                      size=12,\n",
    "                      color=\"#000000\"\n",
    "                        )\n",
    "                 )\n",
    "fig.show()"
   ]
  },
  {
   "cell_type": "code",
   "execution_count": null,
   "metadata": {},
   "outputs": [],
   "source": [
    "colorlist = [ 'aliceblue', 'antiquewhite', 'aqua', 'aquamarine', 'azure',\n",
    "        'beige', 'bisque', 'black', 'blanchedalmond', 'blue',\n",
    "        'blueviolet', 'brown', 'burlywood', 'cadetblue',\n",
    "        'chartreuse', 'chocolate', 'coral', 'cornflowerblue',\n",
    "        'cornsilk', 'crimson', 'cyan', 'darkblue', 'darkcyan',\n",
    "        'darkgoldenrod', 'darkgray', 'darkgrey', 'darkgreen',\n",
    "        'darkkhaki''darkmagenta', 'darkolivegreen', 'darkorange',\n",
    "        'darkorchid', 'darkred', 'darksalmon', 'darkseagreen',\n",
    "        'darkslateblue', 'darkslategray', 'darkslategrey',\n",
    "        'darkturquoise', 'darkviolet', 'deeppink', 'deepskyblue',\n",
    "        'dimgray', 'dimgrey', 'dodgerblue', 'firebrick',\n",
    "        'floralwhite', 'forestgreen', 'fuchsia', 'gainsboro',\n",
    "        'ghostwhite', 'gold', 'goldenrod', 'gray', 'grey', 'green',\n",
    "        'greenyellow', 'honeydew', 'hotpink', 'indianred', 'indigo',\n",
    "        'ivory', 'khaki', 'lavender', 'lavenderblush', 'lawngreen']\n",
    "        lemonchiffon, lightblue, lightcoral, lightcyan,\n",
    "        lightgoldenrodyellow, lightgray, lightgrey,\n",
    "        lightgreen, lightpink, lightsalmon, lightseagreen,\n",
    "        lightskyblue, lightslategray, lightslategrey,\n",
    "        lightsteelblue, lightyellow, lime, limegreen,\n",
    "        linen, magenta, maroon, mediumaquamarine,\n",
    "        mediumblue, mediumorchid, mediumpurple,\n",
    "        mediumseagreen, mediumslateblue, mediumspringgreen,\n",
    "        mediumturquoise, mediumvioletred, midnightblue,\n",
    "        mintcream, mistyrose, moccasin, navajowhite, navy,\n",
    "        oldlace, olive, olivedrab, orange, orangered,\n",
    "        orchid, palegoldenrod, palegreen, paleturquoise,\n",
    "        palevioletred, papayawhip, peachpuff, peru, pink,\n",
    "        plum, powderblue, purple, red, rosybrown,\n",
    "        royalblue, saddlebrown, salmon, sandybrown,\n",
    "        seagreen, seashell, sienna, silver, skyblue,\n",
    "        slateblue, slategray, slategrey, snow, springgreen,\n",
    "        steelblue, tan, teal, thistle, tomato, turquoise,\n",
    "        violet, wheat, white, whitesmoke, yellow,\n",
    "        yellowgreen]"
   ]
  },
  {
   "cell_type": "code",
   "execution_count": null,
   "metadata": {},
   "outputs": [],
   "source": [
    "df, df_num, df_noncumun_whole, noncumun_dfs = get_data()"
   ]
  },
  {
   "cell_type": "code",
   "execution_count": null,
   "metadata": {},
   "outputs": [],
   "source": [
    "df_parcat[dimension]"
   ]
  },
  {
   "cell_type": "code",
   "execution_count": null,
   "metadata": {},
   "outputs": [],
   "source": [
    "colordict[dimension]"
   ]
  },
  {
   "cell_type": "code",
   "execution_count": null,
   "metadata": {},
   "outputs": [],
   "source": [
    "\n",
    "\n",
    "df, df_num, df_noncumun_whole, noncumun_dfs = get_data()\n",
    "\n",
    "ggroup_options = ['Div','Branch','OAM','LeadType','Customer',\n",
    "    'Type','New','City, St','KeyVendor','Stage','UpdateDate']\n",
    "group_options = ['Branch','LeadType','Type','New','Stage','OAM']\n",
    "goptions = ['New','Branch','LeadType','Stage','Type','OAM']\n",
    "\n",
    "\n",
    "d_code = {}\n",
    "for d in goptions:\n",
    "    d_code[d] = {j:i for i,j in enumerate(df_num[d].unique())}\n",
    "\n",
    "\n",
    "df_parcat = df_num\n",
    "\n",
    "dimensions = []\n",
    "for d in goptions:\n",
    "    \n",
    "    uniques = [j for i,j in enumerate(df_parcat[d].unique())]\n",
    "    codes = [i for i,j in enumerate(df_parcat[d].unique())]\n",
    "    \n",
    "    df_parcat[d] = df_parcat[d].replace(uniques,codes)\n",
    "    dimensions.append(go.parcats.Dimension(\n",
    "        values=df_parcat[d],\n",
    "        label=d,\n",
    "        categoryarray=list(d_code[d].values()),\n",
    "        ticktext=list(d_code[d].keys()),\n",
    "        ))\n",
    "\n",
    "\n",
    "colorlist = ['mediumturquoise', 'mediumvioletred', 'midnightblue',\n",
    "            'mintcream', 'mistyrose', 'moccasin', 'navajowhite', 'navy',\n",
    "            'oldlace', 'olive', 'olivedrab', 'orange', 'pink',\n",
    "            'orchid', 'palegoldenrod', 'palegreen', 'paleturquoise',\n",
    "            'black', 'papayawhip', 'orange', 'peru', 'pink',\n",
    "             'aliceblue', 'red', 'aqua', 'aquamarine', 'azure',\n",
    "            'beige', 'bisque', 'black', 'blanchedalmond', 'blue',\n",
    "            'blueviolet', 'brown', 'burlywood', 'cadetblue',\n",
    "            'chartreuse', 'chocolate', 'coral', 'cornflowerblue',\n",
    "            'cornsilk', 'crimson', 'cyan', 'darkblue', 'darkcyan',\n",
    "            'darkgoldenrod', 'darkgray', 'darkgrey', 'darkgreen',\n",
    "            'darkkhaki']    \n",
    "colordict = {'Branch':['greenyellow', 'orange', 'hotpink', 'darkgreen','cyan','brown','blueviolet'],\n",
    "             'LeadType':['yellow','darkgoldenrod','aqua','blue','blueviolet','darkgreen','aliceblue','lawngreen'],\n",
    "             'Type':['Orange','green','cyan','violet'],\n",
    "             'New':['cadetblue', 'burlywood', 'brown'],\n",
    "             'Stage':['palegoldenrod', 'forestgreen', 'paleturquoise','orange','brown', 'palegreen', 'fuchsia'],\n",
    "             'OAM':['orchid', 'palegoldenrod', 'palegreen', 'paleturquoise',\n",
    "                'tomato', 'turquoise','violet', 'darkgreen', 'peru', 'pink',\n",
    "                'plum', 'powderblue', 'purple', 'red', 'rosybrown',\n",
    "                'royalblue', 'saddlebrown', 'salmon', 'sandybrown',\n",
    "                'seagreen', 'seashell', 'gold', 'silver', 'skyblue',]}\n",
    "    \n",
    "#np.random.choice(5, 3)\n",
    "dimension = \"LeadType\"\n",
    "# Create parcats trace\n",
    "color = df_parcat[dimension];\n",
    "#colorscale = [[0, 'lightsteelblue'], [1, 'mediumseagreen']];\n",
    "#colorscale = [[color.unique()[i],colorlist[i]] for i in range(len(color.unique()))]\n",
    "colorscale = colorlist;\n",
    "\n",
    "\n",
    "\n",
    "fig = go.Figure(data = [go.Parcats(dimensions=dimensions,\n",
    "        line={'color': color, 'colorscale': list(colordict[dimension])},\n",
    "        hoveron='color', hoverinfo='count+probability',\n",
    "        labelfont={'size': 18, 'family': 'Times'},\n",
    "        tickfont={'size': 16, 'family': 'Times'},\n",
    "        arrangement='freeform')])\n",
    "\n",
    "\n",
    "title = \"Parallel Categories\"\n",
    "fig.update_layout(title = title,\n",
    "                  #width=1750,\n",
    "                  #height=500,\n",
    "                  font=dict(\n",
    "                      #family=\"Courier New, monospace\",\n",
    "                      size=12,\n",
    "                      color=\"#000000\"\n",
    "                        )\n",
    "                 )\n",
    "fig.show()"
   ]
  },
  {
   "cell_type": "code",
   "execution_count": null,
   "metadata": {},
   "outputs": [],
   "source": [
    "'New','Branch','LeadType','Stage','Type'"
   ]
  },
  {
   "cell_type": "markdown",
   "metadata": {},
   "source": [
    "###### list([np.random.choice(list(colorlist),len(df_num.OAM.unique()))])"
   ]
  },
  {
   "cell_type": "code",
   "execution_count": null,
   "metadata": {},
   "outputs": [],
   "source": [
    "dcc.RangeSlider(\n",
    "    min=0,\n",
    "    max=10,\n",
    "    step=None,\n",
    "    marks={\n",
    "        0: '0 °F',\n",
    "        3: '3 °F',\n",
    "        5: '5 °F',\n",
    "        7.65: '7.65 °F',\n",
    "        10: '10 °F'\n",
    "    },\n",
    "    value=[3, 7.65]\n",
    ")  "
   ]
  },
  {
   "cell_type": "code",
   "execution_count": null,
   "metadata": {},
   "outputs": [],
   "source": [
    "df_num.iloc[[16, 33, 34, 37, 38, 44, 45, 163, 164, 165, 166, 167, 168,\n",
    "                       169, 170, 196]]"
   ]
  },
  {
   "cell_type": "code",
   "execution_count": null,
   "metadata": {},
   "outputs": [],
   "source": [
    "df_num.columns"
   ]
  },
  {
   "cell_type": "code",
   "execution_count": null,
   "metadata": {},
   "outputs": [],
   "source": [
    "\"Branch\", \"OAM\", \"LeadType\", \"Customer\", \"Type\", \"New\", \"Stage\", \"KeyVendor\""
   ]
  },
  {
   "cell_type": "code",
   "execution_count": null,
   "metadata": {},
   "outputs": [],
   "source": [
    "import json\n",
    "\n",
    "import dash\n",
    "import dash_core_components as dcc\n",
    "import dash_html_components as html\n",
    "from dash.dependencies import Input, Output\n",
    "\n",
    "external_stylesheets = ['https://codepen.io/chriddyp/pen/bWLwgP.css']\n",
    "\n",
    "app = dash.Dash(__name__, external_stylesheets=external_stylesheets)\n",
    "\n",
    "styles = {\n",
    "    'pre': {\n",
    "        'border': 'thin lightgrey solid',\n",
    "        'overflowX': 'scroll'\n",
    "    }\n",
    "}\n",
    "\n",
    "app.layout = html.Div([\n",
    "    dcc.Graph(\n",
    "        id='basic-interactions',\n",
    "        figure={\n",
    "            'data': [\n",
    "                {\n",
    "                    'x': [1, 2, 3, 4],\n",
    "                    'y': [4, 1, 3, 5],\n",
    "                    'text': ['a', 'b', 'c', 'd'],\n",
    "                    'customdata': ['c.a', 'c.b', 'c.c', 'c.d'],\n",
    "                    'name': 'Trace 1',\n",
    "                    'mode': 'markers',\n",
    "                    'marker': {'size': 12}\n",
    "                },\n",
    "                {\n",
    "                    'x': [1, 2, 3, 4],\n",
    "                    'y': [9, 4, 1, 4],\n",
    "                    'text': ['w', 'x', 'y', 'z'],\n",
    "                    'customdata': ['c.w', 'c.x', 'c.y', 'c.z'],\n",
    "                    'name': 'Trace 2',\n",
    "                    'mode': 'markers',\n",
    "                    'marker': {'size': 12}\n",
    "                }\n",
    "            ],\n",
    "            'layout': {\n",
    "                'clickmode': 'event+select'\n",
    "            }\n",
    "        }\n",
    "    ),\n",
    "\n",
    "    html.Div(className='row', children=[\n",
    "        html.Div([\n",
    "            dcc.Markdown(\"\"\"\n",
    "                **Hover Data**\n",
    "\n",
    "                Mouse over values in the graph.\n",
    "            \"\"\"),\n",
    "            html.Pre(id='hover-data', style=styles['pre'])\n",
    "        ], className='three columns'),\n",
    "\n",
    "        html.Div([\n",
    "            dcc.Markdown(\"\"\"\n",
    "                **Click Data**\n",
    "\n",
    "                Click on points in the graph.\n",
    "            \"\"\"),\n",
    "            html.Pre(id='click-data', style=styles['pre']),\n",
    "        ], className='three columns'),\n",
    "\n",
    "        html.Div([\n",
    "            dcc.Markdown(\"\"\"\n",
    "                **Selection Data**\n",
    "\n",
    "                Choose the lasso or rectangle tool in the graph's menu\n",
    "                bar and then select points in the graph.\n",
    "\n",
    "                Note that if `layout.clickmode = 'event+select'`, selection data also \n",
    "                accumulates (or un-accumulates) selected data if you hold down the shift\n",
    "                button while clicking.\n",
    "            \"\"\"),\n",
    "            html.Pre(id='selected-data', style=styles['pre']),\n",
    "        ], className='three columns'),\n",
    "\n",
    "        html.Div([\n",
    "            dcc.Markdown(\"\"\"\n",
    "                **Zoom and Relayout Data**\n",
    "\n",
    "                Click and drag on the graph to zoom or click on the zoom\n",
    "                buttons in the graph's menu bar.\n",
    "                Clicking on legend items will also fire\n",
    "                this event.\n",
    "            \"\"\"),\n",
    "            html.Pre(id='relayout-data', style=styles['pre']),\n",
    "        ], className='three columns')\n",
    "    ])\n",
    "])\n",
    "\n",
    "\n",
    "@app.callback(\n",
    "    Output('hover-data', 'children'),\n",
    "    [Input('basic-interactions', 'hoverData')])\n",
    "def display_hover_data(hoverData):\n",
    "    return json.dumps(hoverData, indent=2)\n",
    "\n",
    "\n",
    "@app.callback(\n",
    "    Output('click-data', 'children'),\n",
    "    [Input('basic-interactions', 'clickData')])\n",
    "def display_click_data(clickData):\n",
    "    return json.dumps(clickData, indent=2)\n",
    "\n",
    "\n",
    "@app.callback(\n",
    "    Output('selected-data', 'children'),\n",
    "    [Input('basic-interactions', 'selectedData')])\n",
    "def display_selected_data(selectedData):\n",
    "    return json.dumps(selectedData, indent=2)\n",
    "\n",
    "\n",
    "@app.callback(\n",
    "    Output('relayout-data', 'children'),\n",
    "    [Input('basic-interactions', 'relayoutData')])\n",
    "def display_relayout_data(relayoutData):\n",
    "    return json.dumps(relayoutData, indent=2)\n",
    "\n",
    "\n",
    "if __name__ == '__main__':\n",
    "    app.run_server(debug=True)"
   ]
  },
  {
   "cell_type": "markdown",
   "metadata": {},
   "source": [
    "# left top"
   ]
  },
  {
   "cell_type": "code",
   "execution_count": null,
   "metadata": {},
   "outputs": [],
   "source": [
    "df = px.data.tips()\n",
    "\n",
    "fig = px.density_contour(df, x=\"total_bill\", y=\"tip\", marginal_x=\"histogram\", marginal_y=\"histogram\")\n",
    "fig.show()"
   ]
  },
  {
   "cell_type": "code",
   "execution_count": null,
   "metadata": {},
   "outputs": [],
   "source": [
    "fig = px.density_contour(df, x=\"total_bill\", y=\"tip\")\n",
    "fig.update_traces(contours_coloring=\"fill\", contours_showlabels = True)\n",
    "fig.show()\n"
   ]
  },
  {
   "cell_type": "code",
   "execution_count": null,
   "metadata": {},
   "outputs": [],
   "source": [
    "df = px.data.iris()\n",
    "fig = px.density_contour(df, x=\"sepal_width\", y=\"sepal_length\", color=\"species\", marginal_x=\"rug\", marginal_y=\"histogram\")\n",
    "fig.show()"
   ]
  },
  {
   "cell_type": "code",
   "execution_count": null,
   "metadata": {},
   "outputs": [],
   "source": [
    "df = px.data.iris()\n",
    "fig = px.scatter(df, x=\"sepal_width\", y=\"sepal_length\", color=\"species\", marginal_y=\"violin\",\n",
    "           marginal_x=\"box\", trendline=\"lowess\", template=\"simple_white\")\n",
    "\n",
    "fig.show()"
   ]
  },
  {
   "cell_type": "markdown",
   "metadata": {},
   "source": [
    "# left top end"
   ]
  },
  {
   "cell_type": "markdown",
   "metadata": {},
   "source": [
    "# right top\n"
   ]
  },
  {
   "cell_type": "code",
   "execution_count": null,
   "metadata": {},
   "outputs": [],
   "source": [
    "marginals = [\"rug\", \"histogram\", \"violin\"]\n",
    "\n",
    "def build_graphB1(marginal=\"None\", trendline):\n",
    "    if marginal == \"None\": marginal_x, marginal_y = None\n",
    "    \n",
    "    if color == \"None\": color = None\n",
    "    \n",
    "    if trendline == \"Ordinary Least Squares Regression\": trendline = 'ols'\n",
    "    elif trendline == \"Locally Weighted Smoothing\": trendline = 'lowess'\n",
    "    \n",
    "    \n",
    "    \n",
    "    df = px.data.tips()\n",
    "\n",
    "    \n",
    "    if mode == \"Scatter\"\n",
    "        fig = px.scatter(df, x=x_axis, y=\"sepal_length\", color=\"species\", marginal_y=marginal,\n",
    "           marginal_x=marginal, trendline=\"ols\")\n",
    "    if mode == \"Heat\"\n",
    "        fig = px.density_heatmap(df, x=x_axis, y=\"tip\", marginal_x=marginal, marginal_y=marginal)\n",
    "    if mode == \"Density\"\n",
    "        #fig = px.density_contour(df, x=\"total_bill\", y=\"tip\", marginal_x=marginal_x, marginal_y=marginal_y)\n",
    "        fig = px.density_contour(df, x=x_axis, y=\"sepal_length\", color=\"species\", marginal_x=marginal, marginal_y=marginal)\n",
    "        \n",
    "    if mode == \"Density Fill\"\n",
    "        fig = px.density_contour(df, x=\"total_bill\", y=\"tip\")\n",
    "        fig.update_traces(contours_coloring=\"fill\", contours_showlabels = True)\n",
    "    \n",
    "    \n",
    "    fig.show()"
   ]
  },
  {
   "cell_type": "code",
   "execution_count": null,
   "metadata": {
    "scrolled": false
   },
   "outputs": [],
   "source": [
    "import plotly.express as px\n",
    "df = df_num[df_num[\"PotentialValue\"] <=1000000]\n",
    "\n",
    "fig = px.density_contour(df, x=\"ProbPercent\", y=\"PotentialValue\", facet_col=\"LeadType\", color=\"Type\",facet_col_wrap=4)\n",
    "\n",
    "fig.show()\n",
    "\n"
   ]
  },
  {
   "cell_type": "code",
   "execution_count": null,
   "metadata": {},
   "outputs": [],
   "source": [
    "#optional\n",
    "import plotly.express as px\n",
    "df = px.data.tips()\n",
    "\n",
    "fig = px.density_contour(df, x=\"total_bill\", y=\"tip\", marginal_x=\"histogram\", marginal_y=\"histogram\")\n",
    "fig.show()"
   ]
  },
  {
   "cell_type": "code",
   "execution_count": null,
   "metadata": {},
   "outputs": [],
   "source": [
    "df = px.data.iris()\n",
    "fig = px.density_contour(df, x=\"sepal_width\", y=\"sepal_length\", color=\"species\", marginal_x=\"rug\", marginal_y=\"histogram\")\n",
    "fig.show()"
   ]
  },
  {
   "cell_type": "code",
   "execution_count": null,
   "metadata": {},
   "outputs": [],
   "source": [
    "df = px.data.tips()\n",
    "\n",
    "fig = px.density_heatmap(df, x=\"total_bill\", y=\"tip\", marginal_x=\"histogram\", marginal_y=\"histogram\")\n",
    "fig.show()"
   ]
  },
  {
   "cell_type": "code",
   "execution_count": null,
   "metadata": {},
   "outputs": [],
   "source": [
    "df = px.data.iris()\n",
    "fig = px.scatter(df, x=\"sepal_width\", y=\"sepal_length\", color=\"species\", marginal_y=\"violin\",\n",
    "           marginal_x=\"box\", trendline=\"ols\", template=\"simple_white\")\n",
    "fig.show()"
   ]
  },
  {
   "cell_type": "code",
   "execution_count": null,
   "metadata": {},
   "outputs": [],
   "source": [
    "marginal_x\n",
    "trendline\n",
    "\n",
    "\n",
    "Greys,YlGnBu,Greens,YlOrR d,Bluered,RdBu,Reds,Blues,Picnic,Rainbow,\n",
    "Portland,Jet,H ot,Blackbody,Earth,Electric,Viridis,Cividis"
   ]
  },
  {
   "cell_type": "code",
   "execution_count": null,
   "metadata": {},
   "outputs": [],
   "source": [
    "import plotly.express as px\n",
    "df = px.data.tips()\n",
    "\n",
    "fig = px.density_contour(df, x=\"total_bill\", y=\"tip\",marginal_x=\"histogram\", marginal_y=\"histogram\",trendline='ols')\n",
    "#fig.update_traces(contours_coloring=\"fill\", contours_showlabels = True)\n",
    "\n",
    "fig.show()"
   ]
  },
  {
   "cell_type": "code",
   "execution_count": null,
   "metadata": {},
   "outputs": [],
   "source": [
    "df = px.data.tips()\n",
    "\n",
    "df = px.data.tips()\n",
    "\n",
    "fig = px.density_heatmap(df, x=\"total_bill\", y=\"tip\", marginal_x=\"violin\", marginal_y=\"violin\")\n",
    "\n",
    "#fig = px.density_contour(df, x=\"total_bill\", y=\"tip\")#,marginal_y=\"histogram\")\n",
    "#fig.update_traces(contours_coloring=\"fill\", contours_showlabels = True)\n",
    "\n",
    "# Add drowdowns\n",
    "# button_layer_1_height = 1.08\n",
    "button_layer_1_height = 1.12\n",
    "button_layer_2_height = 1.065\n",
    "\n",
    "fig.update_layout(\n",
    "    updatemenus=[\n",
    "        dict(\n",
    "            buttons=list([\n",
    "                dict(\n",
    "                    args=[\"colorscale\", \"Viridis\"],\n",
    "                    label=\"Viridis\",\n",
    "                    method=\"restyle\"\n",
    "                ),\n",
    "                dict(\n",
    "                    args=[\"colorscale\", \"Cividis\"],\n",
    "                    label=\"Cividis\",\n",
    "                    method=\"restyle\"\n",
    "                ),\n",
    "                dict(\n",
    "                    args=[\"colorscale\", \"Blues\"],\n",
    "                    label=\"Blues\",\n",
    "                    method=\"restyle\"\n",
    "                ),\n",
    "                dict(\n",
    "                    args=[\"colorscale\", \"Greens\"],\n",
    "                    label=\"Greens\",\n",
    "                    method=\"restyle\"\n",
    "                ),\n",
    "            ]),\n",
    "            direction=\"down\",\n",
    "            pad={\"r\": 10, \"t\": 10},\n",
    "            showactive=True,\n",
    "            x=0.1,\n",
    "            xanchor=\"left\",\n",
    "            y=button_layer_1_height,\n",
    "            yanchor=\"top\"\n",
    "        ),\n",
    "        dict(\n",
    "            buttons=list([\n",
    "                dict(\n",
    "                    args=[\"reversescale\", False],\n",
    "                    label=\"False\",\n",
    "                    method=\"restyle\"\n",
    "                ),\n",
    "                dict(\n",
    "                    args=[\"reversescale\", True],\n",
    "                    label=\"True\",\n",
    "                    method=\"restyle\"\n",
    "                )\n",
    "            ]),\n",
    "            direction=\"down\",\n",
    "            pad={\"r\": 10, \"t\": 10},\n",
    "            showactive=True,\n",
    "            x=0.37,\n",
    "            xanchor=\"left\",\n",
    "            y=button_layer_1_height,\n",
    "            yanchor=\"top\"\n",
    "        ),\n",
    "        dict(\n",
    "            buttons=list([\n",
    "                dict(\n",
    "                    args=[{\"contours.showlines\": False, \"type\": \"contour\"}],\n",
    "                    label=\"Hide lines\",\n",
    "                    method=\"restyle\"\n",
    "                ),\n",
    "                dict(\n",
    "                    args=[{\"contours.showlines\": True, \"type\": \"contour\"}],\n",
    "                    label=\"Show lines\",\n",
    "                    method=\"restyle\"\n",
    "                ),\n",
    "            ]),\n",
    "            direction=\"down\",\n",
    "            pad={\"r\": 10, \"t\": 10},\n",
    "            showactive=True,\n",
    "            x=0.58,\n",
    "            xanchor=\"left\",\n",
    "            y=button_layer_1_height,\n",
    "            yanchor=\"top\"\n",
    "        ),\n",
    "    ]\n",
    ")\n",
    "\n",
    "fig.update_layout(\n",
    "    annotations=[\n",
    "        dict(text=\"colorscale\", x=0, xref=\"paper\", y=1.08, yref=\"paper\",\n",
    "                             align=\"left\", showarrow=False),\n",
    "        dict(text=\"Reverse<br>Colorscale\", x=0.25, xref=\"paper\", y=1.10,\n",
    "                             yref=\"paper\", showarrow=False),\n",
    "        dict(text=\"Lines\", x=0.54, xref=\"paper\", y=1.08, yref=\"paper\",\n",
    "                             showarrow=False)\n",
    "    ])\n",
    "fig.show()"
   ]
  },
  {
   "cell_type": "markdown",
   "metadata": {},
   "source": [
    "# right top end\n"
   ]
  },
  {
   "cell_type": "markdown",
   "metadata": {},
   "source": [
    "# right bottom\n"
   ]
  },
  {
   "cell_type": "code",
   "execution_count": null,
   "metadata": {},
   "outputs": [],
   "source": []
  },
  {
   "cell_type": "code",
   "execution_count": null,
   "metadata": {},
   "outputs": [],
   "source": [
    "def df_filter(dff = None, series=None, minimum=None, maximum=None):\n",
    "    if minimum == 0 and not maximum:\n",
    "        dff = dff[dff[series] >= 0]\n",
    "        return dff\n",
    "    if not minimum and maximum == 0:\n",
    "        dff = dff[dff[series] <= 0]\n",
    "        return dff\n",
    "    if minimum == 0 and maximum:\n",
    "        dff = dff[(dff[series] >= 0) & (dff[series] <= maximum)]\n",
    "        return dff\n",
    "    elif minimum and maximum == 0:\n",
    "        dff = dff[(dff[series] >= minimax) & (dff[series] <= 0)]\n",
    "        return dff\n",
    "    elif minimum == 0 and maximum == 0:\n",
    "        dff = dff[(dff[series] >= 0) & (dff[series] <= 0)]\n",
    "        return dff\n",
    "    elif minimum and maximum:\n",
    "        dff = dff[(dff[series] >= minimum) & (dff[series] <= maximum)]\n",
    "        return dff\n",
    "    elif minimum:\n",
    "        dff = dff[dff[series] >= minimum]\n",
    "        return dff\n",
    "    elif maximum:\n",
    "        dff = dff[dff[series] <= maximum]\n",
    "        return dff\n",
    "    return dff"
   ]
  },
  {
   "cell_type": "code",
   "execution_count": null,
   "metadata": {},
   "outputs": [],
   "source": [
    "dff = df_num\n",
    "dff = dff[(dff['EOD_delta'] >= -20) & (dff['EOD_delta'] <= 1000)]\n",
    "len(dff)\n",
    "dff"
   ]
  },
  {
   "cell_type": "code",
   "execution_count": null,
   "metadata": {},
   "outputs": [],
   "source": [
    "def value_none(value):\n",
    "    if value == \"None\":\n",
    "        value = None\n",
    "    return value"
   ]
  },
  {
   "cell_type": "code",
   "execution_count": null,
   "metadata": {},
   "outputs": [],
   "source": [
    "def build_graphBA3(color_sel,size_sel,symbol_sel,x_min,x_max,y_min,y_max,z_min,z_max):\n",
    "    dff = df_num\n",
    "    \n",
    "    for v in [color_sel,size_sel,symbol_sel,x_min,x_max,y_min,y_max,z_min,z_max]:\n",
    "        value_none(v)\n",
    "    \n",
    "    color_sel = value_none(color_sel)\n",
    "    size_sel = value_none(size_sel) \n",
    "    symbol_sel = value_none(symbol_sel)\n",
    "    x_min = value_none(x_min)\n",
    "    x_max = value_none(x_max)\n",
    "    y_min = value_none(y_min)\n",
    "    y_max = value_none(y_max)\n",
    "    z_min = value_none(z_min)\n",
    "    z_max = value_none(z_max)\n",
    "    \n",
    "    dff = df_num\n",
    "    dff1 = df_filter(dff,'ProbPercent',x_min,x_max)\n",
    "    dff2 = df_filter(dff1,'EOD_delta',y_min,y_max)\n",
    "    dff3 = df_filter(dff2,'PotentialValue',z_min,z_max)\n",
    "    \n",
    "    if not color_sel and not symbol_sel:\n",
    "        showlegend = True\n",
    "    elif color_sel and not symbol_sel:\n",
    "        showlegend = True\n",
    "    elif not color_sel and symbol_sel:\n",
    "        showlegend = True\n",
    "    elif color_sel and symbol_sel:\n",
    "        if color_sel == symbol_sel:\n",
    "            showlegend = True\n",
    "            print(\"both active and same\")\n",
    "        elif color_sel != symbol_sel:\n",
    "            print(\"both active and not same\")\n",
    "            showlegend = False\n",
    "\n",
    "    df = px.data.iris()\n",
    "    fig = px.scatter_3d(dff3, x='ProbPercent', y='EOD_delta', z='PotentialValue',\n",
    "                        color=color_sel,\n",
    "                        size=size_sel, size_max=18,\n",
    "                        symbol=symbol_sel,\n",
    "                        opacity=0.6)\n",
    "\n",
    "    # tight layout\n",
    "    #fig.update_layout(margin=dict(l=0, r=0, b=0, t=0))\n",
    "    fig.update_layout(margin=dict(l=0, r=0, b=0, t=0),\n",
    "        scene = dict(\n",
    "            xaxis = dict(\n",
    "                backgroundcolor=\"rgb(245, 236, 218)\",\n",
    "                gridcolor=\"white\",\n",
    "                showbackground=True,\n",
    "                zerolinecolor=\"white\",),\n",
    "            yaxis = dict(\n",
    "                backgroundcolor=\"rgb(206, 240, 194)\",\n",
    "                gridcolor=\"white\",\n",
    "                showbackground=True,\n",
    "                zerolinecolor=\"white\"),\n",
    "            zaxis = dict(\n",
    "                backgroundcolor=\"rgb(241, 217, 252)\",\n",
    "                gridcolor=\"white\",\n",
    "                showbackground=True,\n",
    "                zerolinecolor=\"white\",),),\n",
    "            width=700,\n",
    "            showlegend=showlegend)\n",
    "    \n",
    "    fig.show()\n",
    "    #graph = dcc.Graph(figure = fig)\n",
    "\n",
    "    #return graph\n"
   ]
  },
  {
   "cell_type": "code",
   "execution_count": null,
   "metadata": {
    "scrolled": false
   },
   "outputs": [],
   "source": [
    "build_graphBA3(\"ExpectedValue\",\"None\",\"Branch\",\"None\",\"None\",\"None\",\"None\",\"None\",\"None\")"
   ]
  },
  {
   "cell_type": "code",
   "execution_count": null,
   "metadata": {},
   "outputs": [],
   "source": [
    "df_num.columns"
   ]
  },
  {
   "cell_type": "code",
   "execution_count": null,
   "metadata": {},
   "outputs": [],
   "source": [
    "'New','Branch','LeadType','Stage','Type'"
   ]
  },
  {
   "cell_type": "code",
   "execution_count": null,
   "metadata": {},
   "outputs": [],
   "source": [
    "X, Y, Z = np.mgrid[:l, :l, :l]"
   ]
  },
  {
   "cell_type": "code",
   "execution_count": null,
   "metadata": {},
   "outputs": [],
   "source": [
    "pts = (l * np.random.rand(3, 15)).astype(np.int)\n",
    "pts"
   ]
  },
  {
   "cell_type": "code",
   "execution_count": null,
   "metadata": {},
   "outputs": [],
   "source": [
    "print(\"Y 30 x 30 x 30\")\n",
    "print(Y)\n",
    "print(\"vol\")\n",
    "print(vol)\n",
    "print(\"pts\")\n",
    "print(pts)"
   ]
  },
  {
   "cell_type": "code",
   "execution_count": null,
   "metadata": {},
   "outputs": [],
   "source": [
    "for indices in pts:\n",
    "    print(indices)\n",
    "    print(\"d\")"
   ]
  },
  {
   "cell_type": "code",
   "execution_count": null,
   "metadata": {},
   "outputs": [],
   "source": [
    "len(Y.flatten())"
   ]
  },
  {
   "cell_type": "code",
   "execution_count": null,
   "metadata": {},
   "outputs": [],
   "source": [
    "pts"
   ]
  },
  {
   "cell_type": "code",
   "execution_count": null,
   "metadata": {},
   "outputs": [],
   "source": [
    "df_num[\"PotentialValue\"]"
   ]
  },
  {
   "cell_type": "code",
   "execution_count": null,
   "metadata": {},
   "outputs": [],
   "source": [
    "ptstest = np.array([[29,29,29,29,0,20,20],[0,0,20,0,0,4,16],[21,0,0,0,5,10,26]])"
   ]
  },
  {
   "cell_type": "code",
   "execution_count": null,
   "metadata": {},
   "outputs": [],
   "source": [
    "import numpy as np\n",
    "import plotly.graph_objects as go\n",
    "\n",
    "# Generate nicely looking random 3D-field\n",
    "np.random.seed(0)\n",
    "l = 50\n",
    "ll = 50\n",
    "X, Y,  = np.mgrid[:l, :l, ]\n",
    "Z = np.mgrid[:ll,:ll,:ll]\n",
    "vol = np.zeros((l, l, l))\n",
    "pts = (l * np.random.rand(3, 15)).astype(np.int)\n",
    "vol[tuple(indices for indices in ptstest)] = 1\n",
    "from scipy import ndimage\n",
    "vol = ndimage.gaussian_filter(vol, 2)\n",
    "vol /= vol.max()\n",
    "\n",
    "fig = go.Figure(data=go.Volume(\n",
    "    x=X.flatten(), y=Y.flatten(), z=Z.flatten(),\n",
    "    value=vol.flatten(),\n",
    "    isomin=0.2,\n",
    "    isomax=0.7,\n",
    "    opacity=0.1,\n",
    "    surface_count=30,\n",
    "    ))\n",
    "fig.update_layout(scene_xaxis_showticklabels=True,\n",
    "                  scene_yaxis_showticklabels=True,\n",
    "                  scene_zaxis_showticklabels=True)\n",
    "fig.show()"
   ]
  },
  {
   "cell_type": "code",
   "execution_count": null,
   "metadata": {},
   "outputs": [],
   "source": []
  },
  {
   "cell_type": "markdown",
   "metadata": {},
   "source": [
    "# right bottom end"
   ]
  },
  {
   "cell_type": "code",
   "execution_count": null,
   "metadata": {},
   "outputs": [],
   "source": [
    "#customizing hover layer\n",
    "import plotly.express as px\n",
    "\n",
    "df = px.data.gapminder().query(\"continent=='Oceania'\")\n",
    "\n",
    "fig = px.line(df, x=\"year\", y=\"lifeExp\", color=\"country\", title=\"Custom layout.hoverlabel formatting\")\n",
    "fig.update_traces(mode=\"markers+lines\")\n",
    "\n",
    "fig.update_layout(\n",
    "    hoverlabel=dict(\n",
    "        bgcolor=\"white\", \n",
    "        font_size=16, \n",
    "        font_family=\"Rockwell\"\n",
    "    )\n",
    ")\n",
    "\n",
    "fig.show()"
   ]
  },
  {
   "cell_type": "code",
   "execution_count": null,
   "metadata": {},
   "outputs": [],
   "source": []
  },
  {
   "cell_type": "code",
   "execution_count": null,
   "metadata": {},
   "outputs": [],
   "source": [
    "#spike lines\n",
    "import plotly.express as px\n",
    "\n",
    "df = px.data.gapminder().query(\"continent=='Oceania'\")\n",
    "\n",
    "fig = px.line(df, x=\"year\", y=\"lifeExp\", color=\"country\", title=\"Spike lines active\",custom_data=['country'])\n",
    "fig.update_traces(mode=\"markers+lines\")\n",
    "\n",
    "fig.update_xaxes(showspikes=True)\n",
    "fig.update_yaxes(showspikes=True)\n",
    "\n",
    "fig.show()\n",
    "print(fig)"
   ]
  },
  {
   "cell_type": "code",
   "execution_count": null,
   "metadata": {},
   "outputs": [],
   "source": [
    "import plotly.graph_objects as go\n",
    "from plotly.subplots import make_subplots\n",
    "\n",
    "import pandas as pd\n"
   ]
  },
  {
   "cell_type": "code",
   "execution_count": null,
   "metadata": {},
   "outputs": [],
   "source": [
    "def buildBA2(group, numerical,):# selectedData):\n",
    "    dff = df_num.iloc[[34,4,64,54,200,196,48]]\n",
    "    if numerical == \"Count\":\n",
    "        fig = px.pie(dff, values=[1]*len(dff), names=group,\n",
    "                    title='Proportion',\n",
    "                )#hover_data=['PotentialValue'], labels={'lifeExp':'life expectancy'})\n",
    "    elif numerical == \"Sum\":\n",
    "        fig = px.pie(dff, values='PotentialValue', names=group,\n",
    "                        title='Proportion',\n",
    "                    )#hover_data=['PotentialValue'], labels={'lifeExp':'life expectancy'})\n",
    "    fig.update_traces(textposition='inside', textinfo='percent+label')\n",
    "    \n",
    "    fig.show()\n",
    "buildBA2(\"Customer\", \"Sum\")"
   ]
  },
  {
   "cell_type": "code",
   "execution_count": null,
   "metadata": {},
   "outputs": [],
   "source": [
    "def build_graphBA2(group, numerical,):# selectedData):\n",
    "    dff = df_num.iloc[[34,4,64,54,200,196,48]]\n",
    "    if numerical == \"Count\":\n",
    "        fig = px.pie(dff, values=[1]*len(dff), names=group,\n",
    "                    title='Proportion',\n",
    "                )#hover_data=['PotentialValue'], labels={'lifeExp':'life expectancy'})\n",
    "    elif numerical == \"Sum\":\n",
    "        fig = px.pie(dff, values='PotentialValue', names=group,\n",
    "                        title='Proportion',\n",
    "                    )#hover_data=['PotentialValue'], labels={'lifeExp':'life expectancy'})\n",
    "    fig.update_traces(textposition='inside', textinfo='percent+label')\n",
    "    \n",
    "    fig.show()\n",
    "build_graphBA2(\"KeyVendor\",\"Sum\")"
   ]
  },
  {
   "cell_type": "code",
   "execution_count": null,
   "metadata": {},
   "outputs": [],
   "source": [
    "def build_graphBA2(dimensions):\n",
    "    if len(dimensions) \n",
    "\n",
    "    # Initialize figure with subplots\n",
    "    fig = make_subplots(\n",
    "        rows=3, cols=3,\n",
    "        column_widths=[0.6, 0.4],\n",
    "        row_heights=[0.4, 0.6],\n",
    "        #specs=[[{\"type\": \"scattergeo\", \"rowspan\": 2}, {\"type\": \"bar\"}],\n",
    "        #       [            None                    , {\"type\": \"surface\"}]])\n",
    "        \n",
    "    # Add scattergeo globe map of volcano locations\n",
    "    fig.add_trace(\n",
    "        go.Scattergeo(lat=df[\"Latitude\"],\n",
    "                      lon=df[\"Longitude\"],\n",
    "                      mode=\"markers\",\n",
    "                      hoverinfo=\"text\",\n",
    "                      showlegend=False,\n",
    "                      marker=dict(color=\"crimson\", size=4, opacity=0.8)),\n",
    "        row=1, col=1\n",
    "    )\n",
    "\n",
    "    # Add locations bar chart\n",
    "    fig.add_trace(\n",
    "        go.Bar(x=freq[\"x\"][0:10],y=freq[\"Country\"][0:10], marker=dict(color=\"crimson\"), showlegend=False),\n",
    "        row=1, col=2\n",
    "    )\n",
    "\n",
    "    # Add 3d surface of volcano\n",
    "    fig.add_trace(\n",
    "        go.Surface(z=df_v.values.tolist(), showscale=False),\n",
    "        row=2, col=2\n",
    "    )\n",
    "\n",
    "    # Update geo subplot properties\n",
    "    fig.update_geos(\n",
    "        projection_type=\"orthographic\",\n",
    "        landcolor=\"white\",\n",
    "        oceancolor=\"MidnightBlue\",\n",
    "        showocean=True,\n",
    "        lakecolor=\"LightBlue\"\n",
    "    )\n",
    "\n",
    "    # Rotate x-axis labels\n",
    "    fig.update_xaxes(tickangle=45)\n",
    "\n",
    "    # Set theme, margin, and annotation in layout\n",
    "    fig.update_layout(\n",
    "        template=\"plotly_dark\",\n",
    "        margin=dict(r=10, t=25, b=40, l=60),\n",
    "        annotations=[\n",
    "            dict(\n",
    "                text=\"Source: NOAA\",\n",
    "                showarrow=False,\n",
    "                xref=\"paper\",\n",
    "                yref=\"paper\",\n",
    "                x=0,\n",
    "                y=0)\n",
    "        ]\n",
    "    )\n",
    "\n",
    "    fig.show()"
   ]
  },
  {
   "cell_type": "code",
   "execution_count": null,
   "metadata": {},
   "outputs": [],
   "source": [
    "fig = px.scatter_3d(df_num, x='ProbPercent', y='EOD_delta', z='PotentialValue',\n",
    "                        color='ProbPercent',\n",
    "                        #size=size_sel, size_max=18,\n",
    "                        #symbol=symbol_sel,\n",
    "                        opacity=0.6)\n",
    "\n",
    "fig.update_layout(scene = dict(\n",
    "                    xaxis = dict(\n",
    "                         backgroundcolor=\"rgb(200, 200, 230)\",\n",
    "                         gridcolor=\"white\",\n",
    "                         showbackground=True,\n",
    "                         zerolinecolor=\"white\",),\n",
    "                    yaxis = dict(\n",
    "                        backgroundcolor=\"rgb(230, 200,230)\",\n",
    "                        gridcolor=\"white\",\n",
    "                        showbackground=True,\n",
    "                        zerolinecolor=\"white\"),\n",
    "                    zaxis = dict(\n",
    "                        backgroundcolor=\"rgb(230, 230,200)\",\n",
    "                        gridcolor=\"white\",\n",
    "                        showbackground=True,\n",
    "                        zerolinecolor=\"white\",),),\n",
    "                    width=700,\n",
    "                    margin=dict(\n",
    "                    r=10, l=10,\n",
    "                    b=10, t=10)\n",
    "                  )\n",
    "fig.show()"
   ]
  },
  {
   "cell_type": "code",
   "execution_count": 125,
   "metadata": {},
   "outputs": [
    {
     "data": {
      "text/plain": [
       "Stage\n",
       "Working                 13293908\n",
       "Quoting                  7442381\n",
       "On Hold                  4543000\n",
       "Discovery (S.P.I.N.)     3658404\n",
       "Won                      1338107\n",
       "Solution Development      915000\n",
       "Lost (why?)                50000\n",
       "Name: PotentialValue, dtype: int32"
      ]
     },
     "execution_count": 125,
     "metadata": {},
     "output_type": "execute_result"
    }
   ],
   "source": [
    "df_num.groupby(\"Stage\").sum()[\"PotentialValue\"].sort_values(ascending=False)"
   ]
  },
  {
   "cell_type": "code",
   "execution_count": 118,
   "metadata": {},
   "outputs": [
    {
     "data": {
      "application/vnd.plotly.v1+json": {
       "config": {
        "plotlyServerURL": "https://plot.ly"
       },
       "data": [
        {
         "domain": {
          "x": [
           0,
           0.5
          ],
          "y": [
           0.55,
           1
          ]
         },
         "hoverinfo": "label+percent+name",
         "labels": [
          "Houston OEM",
          "Austin",
          "Houston NOV",
          "Midland",
          "San Antonio",
          "OKC",
          "Corpus Christi"
         ],
         "marker": {
          "colors": [
           "greenyellow",
           "orange",
           "hotpink",
           "darkgreen",
           "cyan",
           "brown",
           "blueviolet"
          ]
         },
         "name": "Branch",
         "textinfo": "label+value",
         "title": {
          "text": "Branch"
         },
         "type": "pie",
         "values": [
          90,
          58,
          34,
          25,
          13,
          8,
          1
         ]
        },
        {
         "domain": {
          "x": [
           0.5,
           1
          ],
          "y": [
           0.55,
           1
          ]
         },
         "hoverinfo": "label+percent+name",
         "labels": [
          "Customer",
          "Vendor",
          "AWC Internal",
          "Colleague",
          "Prospecting",
          "Other",
          "colleague",
          "ADC"
         ],
         "marker": {
          "colors": [
           "yellow",
           "darkgoldenrod",
           "aqua",
           "blue",
           "blueviolet",
           "darkgreen",
           "aliceblue",
           "lawngreen"
          ]
         },
         "name": "LeadType",
         "textinfo": "label+value",
         "title": {
          "text": "LeadType"
         },
         "type": "pie",
         "values": [
          90,
          58,
          34,
          25,
          13,
          8,
          1
         ]
        },
        {
         "domain": {
          "x": [
           0,
           0.5
          ],
          "y": [
           0,
           0.45
          ]
         },
         "hoverinfo": "label+percent+name",
         "labels": [
          "Dane Ellis",
          "Sean Marroquin",
          "Emma Mulcrone",
          "John Dodge",
          "Mike Walshe",
          "Julie Hope",
          "Jacob Burleson",
          "Kurt Rosenhagen",
          "Adam Tacker",
          "David Wagner",
          "John Womack",
          "Darren Ripple",
          "Miguel Grillo",
          "Andy Horn",
          "Casey Goldapp",
          "Scott Hines",
          "David Snuggs",
          "Jeramie Bartlett",
          "Erik Pierce",
          "Greg Ellis",
          "Brian Corbell"
         ],
         "marker": {
          "colors": [
           "orchid",
           "palegoldenrod",
           "palegreen",
           "paleturquoise",
           "tomato",
           "turquoise",
           "violet",
           "darkgreen",
           "peru",
           "pink",
           "plum",
           "powderblue",
           "purple",
           "red",
           "rosybrown",
           "royalblue",
           "saddlebrown",
           "salmon",
           "sandybrown",
           "seagreen",
           "seashell",
           "gold",
           "silver",
           "skyblue"
          ]
         },
         "name": "OAM",
         "textinfo": "label+value",
         "title": {
          "text": "OAM"
         },
         "type": "pie",
         "values": [
          90,
          58,
          34,
          25,
          13,
          8,
          1
         ]
        },
        {
         "domain": {
          "x": [
           0.5,
           1
          ],
          "y": [
           0,
           0.45
          ]
         },
         "hoverinfo": "label+percent+name",
         "labels": [
          "Quoting",
          "Working",
          "Discovery (S.P.I.N.)",
          "Won",
          "On Hold",
          "Solution Development",
          "Lost (why?)"
         ],
         "marker": {
          "colors": [
           "palegoldenrod",
           "forestgreen",
           "paleturquoise",
           "orange",
           "brown",
           "palegreen",
           "fuchsia"
          ]
         },
         "name": "Stage",
         "textinfo": "label+value",
         "title": {
          "text": "Stage"
         },
         "type": "pie",
         "values": [
          90,
          58,
          34,
          25,
          13,
          8,
          1
         ]
        }
       ],
       "layout": {
        "margin": {
         "b": 0,
         "l": 0,
         "r": 0,
         "t": 30
        },
        "showlegend": false,
        "template": {
         "data": {
          "bar": [
           {
            "error_x": {
             "color": "#2a3f5f"
            },
            "error_y": {
             "color": "#2a3f5f"
            },
            "marker": {
             "line": {
              "color": "#E5ECF6",
              "width": 0.5
             }
            },
            "type": "bar"
           }
          ],
          "barpolar": [
           {
            "marker": {
             "line": {
              "color": "#E5ECF6",
              "width": 0.5
             }
            },
            "type": "barpolar"
           }
          ],
          "carpet": [
           {
            "aaxis": {
             "endlinecolor": "#2a3f5f",
             "gridcolor": "white",
             "linecolor": "white",
             "minorgridcolor": "white",
             "startlinecolor": "#2a3f5f"
            },
            "baxis": {
             "endlinecolor": "#2a3f5f",
             "gridcolor": "white",
             "linecolor": "white",
             "minorgridcolor": "white",
             "startlinecolor": "#2a3f5f"
            },
            "type": "carpet"
           }
          ],
          "choropleth": [
           {
            "colorbar": {
             "outlinewidth": 0,
             "ticks": ""
            },
            "type": "choropleth"
           }
          ],
          "contour": [
           {
            "colorbar": {
             "outlinewidth": 0,
             "ticks": ""
            },
            "colorscale": [
             [
              0,
              "#0d0887"
             ],
             [
              0.1111111111111111,
              "#46039f"
             ],
             [
              0.2222222222222222,
              "#7201a8"
             ],
             [
              0.3333333333333333,
              "#9c179e"
             ],
             [
              0.4444444444444444,
              "#bd3786"
             ],
             [
              0.5555555555555556,
              "#d8576b"
             ],
             [
              0.6666666666666666,
              "#ed7953"
             ],
             [
              0.7777777777777778,
              "#fb9f3a"
             ],
             [
              0.8888888888888888,
              "#fdca26"
             ],
             [
              1,
              "#f0f921"
             ]
            ],
            "type": "contour"
           }
          ],
          "contourcarpet": [
           {
            "colorbar": {
             "outlinewidth": 0,
             "ticks": ""
            },
            "type": "contourcarpet"
           }
          ],
          "heatmap": [
           {
            "colorbar": {
             "outlinewidth": 0,
             "ticks": ""
            },
            "colorscale": [
             [
              0,
              "#0d0887"
             ],
             [
              0.1111111111111111,
              "#46039f"
             ],
             [
              0.2222222222222222,
              "#7201a8"
             ],
             [
              0.3333333333333333,
              "#9c179e"
             ],
             [
              0.4444444444444444,
              "#bd3786"
             ],
             [
              0.5555555555555556,
              "#d8576b"
             ],
             [
              0.6666666666666666,
              "#ed7953"
             ],
             [
              0.7777777777777778,
              "#fb9f3a"
             ],
             [
              0.8888888888888888,
              "#fdca26"
             ],
             [
              1,
              "#f0f921"
             ]
            ],
            "type": "heatmap"
           }
          ],
          "heatmapgl": [
           {
            "colorbar": {
             "outlinewidth": 0,
             "ticks": ""
            },
            "colorscale": [
             [
              0,
              "#0d0887"
             ],
             [
              0.1111111111111111,
              "#46039f"
             ],
             [
              0.2222222222222222,
              "#7201a8"
             ],
             [
              0.3333333333333333,
              "#9c179e"
             ],
             [
              0.4444444444444444,
              "#bd3786"
             ],
             [
              0.5555555555555556,
              "#d8576b"
             ],
             [
              0.6666666666666666,
              "#ed7953"
             ],
             [
              0.7777777777777778,
              "#fb9f3a"
             ],
             [
              0.8888888888888888,
              "#fdca26"
             ],
             [
              1,
              "#f0f921"
             ]
            ],
            "type": "heatmapgl"
           }
          ],
          "histogram": [
           {
            "marker": {
             "colorbar": {
              "outlinewidth": 0,
              "ticks": ""
             }
            },
            "type": "histogram"
           }
          ],
          "histogram2d": [
           {
            "colorbar": {
             "outlinewidth": 0,
             "ticks": ""
            },
            "colorscale": [
             [
              0,
              "#0d0887"
             ],
             [
              0.1111111111111111,
              "#46039f"
             ],
             [
              0.2222222222222222,
              "#7201a8"
             ],
             [
              0.3333333333333333,
              "#9c179e"
             ],
             [
              0.4444444444444444,
              "#bd3786"
             ],
             [
              0.5555555555555556,
              "#d8576b"
             ],
             [
              0.6666666666666666,
              "#ed7953"
             ],
             [
              0.7777777777777778,
              "#fb9f3a"
             ],
             [
              0.8888888888888888,
              "#fdca26"
             ],
             [
              1,
              "#f0f921"
             ]
            ],
            "type": "histogram2d"
           }
          ],
          "histogram2dcontour": [
           {
            "colorbar": {
             "outlinewidth": 0,
             "ticks": ""
            },
            "colorscale": [
             [
              0,
              "#0d0887"
             ],
             [
              0.1111111111111111,
              "#46039f"
             ],
             [
              0.2222222222222222,
              "#7201a8"
             ],
             [
              0.3333333333333333,
              "#9c179e"
             ],
             [
              0.4444444444444444,
              "#bd3786"
             ],
             [
              0.5555555555555556,
              "#d8576b"
             ],
             [
              0.6666666666666666,
              "#ed7953"
             ],
             [
              0.7777777777777778,
              "#fb9f3a"
             ],
             [
              0.8888888888888888,
              "#fdca26"
             ],
             [
              1,
              "#f0f921"
             ]
            ],
            "type": "histogram2dcontour"
           }
          ],
          "mesh3d": [
           {
            "colorbar": {
             "outlinewidth": 0,
             "ticks": ""
            },
            "type": "mesh3d"
           }
          ],
          "parcoords": [
           {
            "line": {
             "colorbar": {
              "outlinewidth": 0,
              "ticks": ""
             }
            },
            "type": "parcoords"
           }
          ],
          "pie": [
           {
            "automargin": true,
            "type": "pie"
           }
          ],
          "scatter": [
           {
            "marker": {
             "colorbar": {
              "outlinewidth": 0,
              "ticks": ""
             }
            },
            "type": "scatter"
           }
          ],
          "scatter3d": [
           {
            "line": {
             "colorbar": {
              "outlinewidth": 0,
              "ticks": ""
             }
            },
            "marker": {
             "colorbar": {
              "outlinewidth": 0,
              "ticks": ""
             }
            },
            "type": "scatter3d"
           }
          ],
          "scattercarpet": [
           {
            "marker": {
             "colorbar": {
              "outlinewidth": 0,
              "ticks": ""
             }
            },
            "type": "scattercarpet"
           }
          ],
          "scattergeo": [
           {
            "marker": {
             "colorbar": {
              "outlinewidth": 0,
              "ticks": ""
             }
            },
            "type": "scattergeo"
           }
          ],
          "scattergl": [
           {
            "marker": {
             "colorbar": {
              "outlinewidth": 0,
              "ticks": ""
             }
            },
            "type": "scattergl"
           }
          ],
          "scattermapbox": [
           {
            "marker": {
             "colorbar": {
              "outlinewidth": 0,
              "ticks": ""
             }
            },
            "type": "scattermapbox"
           }
          ],
          "scatterpolar": [
           {
            "marker": {
             "colorbar": {
              "outlinewidth": 0,
              "ticks": ""
             }
            },
            "type": "scatterpolar"
           }
          ],
          "scatterpolargl": [
           {
            "marker": {
             "colorbar": {
              "outlinewidth": 0,
              "ticks": ""
             }
            },
            "type": "scatterpolargl"
           }
          ],
          "scatterternary": [
           {
            "marker": {
             "colorbar": {
              "outlinewidth": 0,
              "ticks": ""
             }
            },
            "type": "scatterternary"
           }
          ],
          "surface": [
           {
            "colorbar": {
             "outlinewidth": 0,
             "ticks": ""
            },
            "colorscale": [
             [
              0,
              "#0d0887"
             ],
             [
              0.1111111111111111,
              "#46039f"
             ],
             [
              0.2222222222222222,
              "#7201a8"
             ],
             [
              0.3333333333333333,
              "#9c179e"
             ],
             [
              0.4444444444444444,
              "#bd3786"
             ],
             [
              0.5555555555555556,
              "#d8576b"
             ],
             [
              0.6666666666666666,
              "#ed7953"
             ],
             [
              0.7777777777777778,
              "#fb9f3a"
             ],
             [
              0.8888888888888888,
              "#fdca26"
             ],
             [
              1,
              "#f0f921"
             ]
            ],
            "type": "surface"
           }
          ],
          "table": [
           {
            "cells": {
             "fill": {
              "color": "#EBF0F8"
             },
             "line": {
              "color": "white"
             }
            },
            "header": {
             "fill": {
              "color": "#C8D4E3"
             },
             "line": {
              "color": "white"
             }
            },
            "type": "table"
           }
          ]
         },
         "layout": {
          "annotationdefaults": {
           "arrowcolor": "#2a3f5f",
           "arrowhead": 0,
           "arrowwidth": 1
          },
          "coloraxis": {
           "colorbar": {
            "outlinewidth": 0,
            "ticks": ""
           }
          },
          "colorscale": {
           "diverging": [
            [
             0,
             "#8e0152"
            ],
            [
             0.1,
             "#c51b7d"
            ],
            [
             0.2,
             "#de77ae"
            ],
            [
             0.3,
             "#f1b6da"
            ],
            [
             0.4,
             "#fde0ef"
            ],
            [
             0.5,
             "#f7f7f7"
            ],
            [
             0.6,
             "#e6f5d0"
            ],
            [
             0.7,
             "#b8e186"
            ],
            [
             0.8,
             "#7fbc41"
            ],
            [
             0.9,
             "#4d9221"
            ],
            [
             1,
             "#276419"
            ]
           ],
           "sequential": [
            [
             0,
             "#0d0887"
            ],
            [
             0.1111111111111111,
             "#46039f"
            ],
            [
             0.2222222222222222,
             "#7201a8"
            ],
            [
             0.3333333333333333,
             "#9c179e"
            ],
            [
             0.4444444444444444,
             "#bd3786"
            ],
            [
             0.5555555555555556,
             "#d8576b"
            ],
            [
             0.6666666666666666,
             "#ed7953"
            ],
            [
             0.7777777777777778,
             "#fb9f3a"
            ],
            [
             0.8888888888888888,
             "#fdca26"
            ],
            [
             1,
             "#f0f921"
            ]
           ],
           "sequentialminus": [
            [
             0,
             "#0d0887"
            ],
            [
             0.1111111111111111,
             "#46039f"
            ],
            [
             0.2222222222222222,
             "#7201a8"
            ],
            [
             0.3333333333333333,
             "#9c179e"
            ],
            [
             0.4444444444444444,
             "#bd3786"
            ],
            [
             0.5555555555555556,
             "#d8576b"
            ],
            [
             0.6666666666666666,
             "#ed7953"
            ],
            [
             0.7777777777777778,
             "#fb9f3a"
            ],
            [
             0.8888888888888888,
             "#fdca26"
            ],
            [
             1,
             "#f0f921"
            ]
           ]
          },
          "colorway": [
           "#636efa",
           "#EF553B",
           "#00cc96",
           "#ab63fa",
           "#FFA15A",
           "#19d3f3",
           "#FF6692",
           "#B6E880",
           "#FF97FF",
           "#FECB52"
          ],
          "font": {
           "color": "#2a3f5f"
          },
          "geo": {
           "bgcolor": "white",
           "lakecolor": "white",
           "landcolor": "#E5ECF6",
           "showlakes": true,
           "showland": true,
           "subunitcolor": "white"
          },
          "hoverlabel": {
           "align": "left"
          },
          "hovermode": "closest",
          "mapbox": {
           "style": "light"
          },
          "paper_bgcolor": "white",
          "plot_bgcolor": "#E5ECF6",
          "polar": {
           "angularaxis": {
            "gridcolor": "white",
            "linecolor": "white",
            "ticks": ""
           },
           "bgcolor": "#E5ECF6",
           "radialaxis": {
            "gridcolor": "white",
            "linecolor": "white",
            "ticks": ""
           }
          },
          "scene": {
           "xaxis": {
            "backgroundcolor": "#E5ECF6",
            "gridcolor": "white",
            "gridwidth": 2,
            "linecolor": "white",
            "showbackground": true,
            "ticks": "",
            "zerolinecolor": "white"
           },
           "yaxis": {
            "backgroundcolor": "#E5ECF6",
            "gridcolor": "white",
            "gridwidth": 2,
            "linecolor": "white",
            "showbackground": true,
            "ticks": "",
            "zerolinecolor": "white"
           },
           "zaxis": {
            "backgroundcolor": "#E5ECF6",
            "gridcolor": "white",
            "gridwidth": 2,
            "linecolor": "white",
            "showbackground": true,
            "ticks": "",
            "zerolinecolor": "white"
           }
          },
          "shapedefaults": {
           "line": {
            "color": "#2a3f5f"
           }
          },
          "ternary": {
           "aaxis": {
            "gridcolor": "white",
            "linecolor": "white",
            "ticks": ""
           },
           "baxis": {
            "gridcolor": "white",
            "linecolor": "white",
            "ticks": ""
           },
           "bgcolor": "#E5ECF6",
           "caxis": {
            "gridcolor": "white",
            "linecolor": "white",
            "ticks": ""
           }
          },
          "title": {
           "x": 0.05
          },
          "xaxis": {
           "automargin": true,
           "gridcolor": "white",
           "linecolor": "white",
           "ticks": "",
           "title": {
            "standoff": 15
           },
           "zerolinecolor": "white",
           "zerolinewidth": 2
          },
          "yaxis": {
           "automargin": true,
           "gridcolor": "white",
           "linecolor": "white",
           "ticks": "",
           "title": {
            "standoff": 15
           },
           "zerolinecolor": "white",
           "zerolinewidth": 2
          }
         }
        },
        "title": {
         "text": "Positional/Source Info Pie Charts"
        }
       }
      },
      "text/html": [
       "<div>\n",
       "        \n",
       "        \n",
       "            <div id=\"e62136d9-ee6e-44ff-9f98-baa940367791\" class=\"plotly-graph-div\" style=\"height:525px; width:100%;\"></div>\n",
       "            <script type=\"text/javascript\">\n",
       "                require([\"plotly\"], function(Plotly) {\n",
       "                    window.PLOTLYENV=window.PLOTLYENV || {};\n",
       "                    \n",
       "                if (document.getElementById(\"e62136d9-ee6e-44ff-9f98-baa940367791\")) {\n",
       "                    Plotly.newPlot(\n",
       "                        'e62136d9-ee6e-44ff-9f98-baa940367791',\n",
       "                        [{\"domain\": {\"x\": [0.0, 0.5], \"y\": [0.55, 1.0]}, \"hoverinfo\": \"label+percent+name\", \"labels\": [\"Houston OEM\", \"Austin\", \"Houston NOV\", \"Midland\", \"San Antonio\", \"OKC\", \"Corpus Christi\"], \"marker\": {\"colors\": [\"greenyellow\", \"orange\", \"hotpink\", \"darkgreen\", \"cyan\", \"brown\", \"blueviolet\"]}, \"name\": \"Branch\", \"textinfo\": \"label+value\", \"title\": {\"text\": \"Branch\"}, \"type\": \"pie\", \"values\": [90, 58, 34, 25, 13, 8, 1]}, {\"domain\": {\"x\": [0.5, 1.0], \"y\": [0.55, 1.0]}, \"hoverinfo\": \"label+percent+name\", \"labels\": [\"Customer\", \"Vendor\", \"AWC Internal\", \"Colleague\", \"Prospecting\", \"Other\", \"colleague\", \"ADC\"], \"marker\": {\"colors\": [\"yellow\", \"darkgoldenrod\", \"aqua\", \"blue\", \"blueviolet\", \"darkgreen\", \"aliceblue\", \"lawngreen\"]}, \"name\": \"LeadType\", \"textinfo\": \"label+value\", \"title\": {\"text\": \"LeadType\"}, \"type\": \"pie\", \"values\": [90, 58, 34, 25, 13, 8, 1]}, {\"domain\": {\"x\": [0.0, 0.5], \"y\": [0.0, 0.45]}, \"hoverinfo\": \"label+percent+name\", \"labels\": [\"Dane Ellis\", \"Sean Marroquin\", \"Emma Mulcrone\", \"John Dodge\", \"Mike Walshe\", \"Julie Hope\", \"Jacob Burleson\", \"Kurt Rosenhagen\", \"Adam Tacker\", \"David Wagner\", \"John Womack\", \"Darren Ripple\", \"Miguel Grillo\", \"Andy Horn\", \"Casey Goldapp\", \"Scott Hines\", \"David Snuggs\", \"Jeramie Bartlett\", \"Erik Pierce\", \"Greg Ellis\", \"Brian Corbell\"], \"marker\": {\"colors\": [\"orchid\", \"palegoldenrod\", \"palegreen\", \"paleturquoise\", \"tomato\", \"turquoise\", \"violet\", \"darkgreen\", \"peru\", \"pink\", \"plum\", \"powderblue\", \"purple\", \"red\", \"rosybrown\", \"royalblue\", \"saddlebrown\", \"salmon\", \"sandybrown\", \"seagreen\", \"seashell\", \"gold\", \"silver\", \"skyblue\"]}, \"name\": \"OAM\", \"textinfo\": \"label+value\", \"title\": {\"text\": \"OAM\"}, \"type\": \"pie\", \"values\": [90, 58, 34, 25, 13, 8, 1]}, {\"domain\": {\"x\": [0.5, 1.0], \"y\": [0.0, 0.45]}, \"hoverinfo\": \"label+percent+name\", \"labels\": [\"Quoting\", \"Working\", \"Discovery (S.P.I.N.)\", \"Won\", \"On Hold\", \"Solution Development\", \"Lost (why?)\"], \"marker\": {\"colors\": [\"palegoldenrod\", \"forestgreen\", \"paleturquoise\", \"orange\", \"brown\", \"palegreen\", \"fuchsia\"]}, \"name\": \"Stage\", \"textinfo\": \"label+value\", \"title\": {\"text\": \"Stage\"}, \"type\": \"pie\", \"values\": [90, 58, 34, 25, 13, 8, 1]}],\n",
       "                        {\"margin\": {\"b\": 0, \"l\": 0, \"r\": 0, \"t\": 30}, \"showlegend\": false, \"template\": {\"data\": {\"bar\": [{\"error_x\": {\"color\": \"#2a3f5f\"}, \"error_y\": {\"color\": \"#2a3f5f\"}, \"marker\": {\"line\": {\"color\": \"#E5ECF6\", \"width\": 0.5}}, \"type\": \"bar\"}], \"barpolar\": [{\"marker\": {\"line\": {\"color\": \"#E5ECF6\", \"width\": 0.5}}, \"type\": \"barpolar\"}], \"carpet\": [{\"aaxis\": {\"endlinecolor\": \"#2a3f5f\", \"gridcolor\": \"white\", \"linecolor\": \"white\", \"minorgridcolor\": \"white\", \"startlinecolor\": \"#2a3f5f\"}, \"baxis\": {\"endlinecolor\": \"#2a3f5f\", \"gridcolor\": \"white\", \"linecolor\": \"white\", \"minorgridcolor\": \"white\", \"startlinecolor\": \"#2a3f5f\"}, \"type\": \"carpet\"}], \"choropleth\": [{\"colorbar\": {\"outlinewidth\": 0, \"ticks\": \"\"}, \"type\": \"choropleth\"}], \"contour\": [{\"colorbar\": {\"outlinewidth\": 0, \"ticks\": \"\"}, \"colorscale\": [[0.0, \"#0d0887\"], [0.1111111111111111, \"#46039f\"], [0.2222222222222222, \"#7201a8\"], [0.3333333333333333, \"#9c179e\"], [0.4444444444444444, \"#bd3786\"], [0.5555555555555556, \"#d8576b\"], [0.6666666666666666, \"#ed7953\"], [0.7777777777777778, \"#fb9f3a\"], [0.8888888888888888, \"#fdca26\"], [1.0, \"#f0f921\"]], \"type\": \"contour\"}], \"contourcarpet\": [{\"colorbar\": {\"outlinewidth\": 0, \"ticks\": \"\"}, \"type\": \"contourcarpet\"}], \"heatmap\": [{\"colorbar\": {\"outlinewidth\": 0, \"ticks\": \"\"}, \"colorscale\": [[0.0, \"#0d0887\"], [0.1111111111111111, \"#46039f\"], [0.2222222222222222, \"#7201a8\"], [0.3333333333333333, \"#9c179e\"], [0.4444444444444444, \"#bd3786\"], [0.5555555555555556, \"#d8576b\"], [0.6666666666666666, \"#ed7953\"], [0.7777777777777778, \"#fb9f3a\"], [0.8888888888888888, \"#fdca26\"], [1.0, \"#f0f921\"]], \"type\": \"heatmap\"}], \"heatmapgl\": [{\"colorbar\": {\"outlinewidth\": 0, \"ticks\": \"\"}, \"colorscale\": [[0.0, \"#0d0887\"], [0.1111111111111111, \"#46039f\"], [0.2222222222222222, \"#7201a8\"], [0.3333333333333333, \"#9c179e\"], [0.4444444444444444, \"#bd3786\"], [0.5555555555555556, \"#d8576b\"], [0.6666666666666666, \"#ed7953\"], [0.7777777777777778, \"#fb9f3a\"], [0.8888888888888888, \"#fdca26\"], [1.0, \"#f0f921\"]], \"type\": \"heatmapgl\"}], \"histogram\": [{\"marker\": {\"colorbar\": {\"outlinewidth\": 0, \"ticks\": \"\"}}, \"type\": \"histogram\"}], \"histogram2d\": [{\"colorbar\": {\"outlinewidth\": 0, \"ticks\": \"\"}, \"colorscale\": [[0.0, \"#0d0887\"], [0.1111111111111111, \"#46039f\"], [0.2222222222222222, \"#7201a8\"], [0.3333333333333333, \"#9c179e\"], [0.4444444444444444, \"#bd3786\"], [0.5555555555555556, \"#d8576b\"], [0.6666666666666666, \"#ed7953\"], [0.7777777777777778, \"#fb9f3a\"], [0.8888888888888888, \"#fdca26\"], [1.0, \"#f0f921\"]], \"type\": \"histogram2d\"}], \"histogram2dcontour\": [{\"colorbar\": {\"outlinewidth\": 0, \"ticks\": \"\"}, \"colorscale\": [[0.0, \"#0d0887\"], [0.1111111111111111, \"#46039f\"], [0.2222222222222222, \"#7201a8\"], [0.3333333333333333, \"#9c179e\"], [0.4444444444444444, \"#bd3786\"], [0.5555555555555556, \"#d8576b\"], [0.6666666666666666, \"#ed7953\"], [0.7777777777777778, \"#fb9f3a\"], [0.8888888888888888, \"#fdca26\"], [1.0, \"#f0f921\"]], \"type\": \"histogram2dcontour\"}], \"mesh3d\": [{\"colorbar\": {\"outlinewidth\": 0, \"ticks\": \"\"}, \"type\": \"mesh3d\"}], \"parcoords\": [{\"line\": {\"colorbar\": {\"outlinewidth\": 0, \"ticks\": \"\"}}, \"type\": \"parcoords\"}], \"pie\": [{\"automargin\": true, \"type\": \"pie\"}], \"scatter\": [{\"marker\": {\"colorbar\": {\"outlinewidth\": 0, \"ticks\": \"\"}}, \"type\": \"scatter\"}], \"scatter3d\": [{\"line\": {\"colorbar\": {\"outlinewidth\": 0, \"ticks\": \"\"}}, \"marker\": {\"colorbar\": {\"outlinewidth\": 0, \"ticks\": \"\"}}, \"type\": \"scatter3d\"}], \"scattercarpet\": [{\"marker\": {\"colorbar\": {\"outlinewidth\": 0, \"ticks\": \"\"}}, \"type\": \"scattercarpet\"}], \"scattergeo\": [{\"marker\": {\"colorbar\": {\"outlinewidth\": 0, \"ticks\": \"\"}}, \"type\": \"scattergeo\"}], \"scattergl\": [{\"marker\": {\"colorbar\": {\"outlinewidth\": 0, \"ticks\": \"\"}}, \"type\": \"scattergl\"}], \"scattermapbox\": [{\"marker\": {\"colorbar\": {\"outlinewidth\": 0, \"ticks\": \"\"}}, \"type\": \"scattermapbox\"}], \"scatterpolar\": [{\"marker\": {\"colorbar\": {\"outlinewidth\": 0, \"ticks\": \"\"}}, \"type\": \"scatterpolar\"}], \"scatterpolargl\": [{\"marker\": {\"colorbar\": {\"outlinewidth\": 0, \"ticks\": \"\"}}, \"type\": \"scatterpolargl\"}], \"scatterternary\": [{\"marker\": {\"colorbar\": {\"outlinewidth\": 0, \"ticks\": \"\"}}, \"type\": \"scatterternary\"}], \"surface\": [{\"colorbar\": {\"outlinewidth\": 0, \"ticks\": \"\"}, \"colorscale\": [[0.0, \"#0d0887\"], [0.1111111111111111, \"#46039f\"], [0.2222222222222222, \"#7201a8\"], [0.3333333333333333, \"#9c179e\"], [0.4444444444444444, \"#bd3786\"], [0.5555555555555556, \"#d8576b\"], [0.6666666666666666, \"#ed7953\"], [0.7777777777777778, \"#fb9f3a\"], [0.8888888888888888, \"#fdca26\"], [1.0, \"#f0f921\"]], \"type\": \"surface\"}], \"table\": [{\"cells\": {\"fill\": {\"color\": \"#EBF0F8\"}, \"line\": {\"color\": \"white\"}}, \"header\": {\"fill\": {\"color\": \"#C8D4E3\"}, \"line\": {\"color\": \"white\"}}, \"type\": \"table\"}]}, \"layout\": {\"annotationdefaults\": {\"arrowcolor\": \"#2a3f5f\", \"arrowhead\": 0, \"arrowwidth\": 1}, \"coloraxis\": {\"colorbar\": {\"outlinewidth\": 0, \"ticks\": \"\"}}, \"colorscale\": {\"diverging\": [[0, \"#8e0152\"], [0.1, \"#c51b7d\"], [0.2, \"#de77ae\"], [0.3, \"#f1b6da\"], [0.4, \"#fde0ef\"], [0.5, \"#f7f7f7\"], [0.6, \"#e6f5d0\"], [0.7, \"#b8e186\"], [0.8, \"#7fbc41\"], [0.9, \"#4d9221\"], [1, \"#276419\"]], \"sequential\": [[0.0, \"#0d0887\"], [0.1111111111111111, \"#46039f\"], [0.2222222222222222, \"#7201a8\"], [0.3333333333333333, \"#9c179e\"], [0.4444444444444444, \"#bd3786\"], [0.5555555555555556, \"#d8576b\"], [0.6666666666666666, \"#ed7953\"], [0.7777777777777778, \"#fb9f3a\"], [0.8888888888888888, \"#fdca26\"], [1.0, \"#f0f921\"]], \"sequentialminus\": [[0.0, \"#0d0887\"], [0.1111111111111111, \"#46039f\"], [0.2222222222222222, \"#7201a8\"], [0.3333333333333333, \"#9c179e\"], [0.4444444444444444, \"#bd3786\"], [0.5555555555555556, \"#d8576b\"], [0.6666666666666666, \"#ed7953\"], [0.7777777777777778, \"#fb9f3a\"], [0.8888888888888888, \"#fdca26\"], [1.0, \"#f0f921\"]]}, \"colorway\": [\"#636efa\", \"#EF553B\", \"#00cc96\", \"#ab63fa\", \"#FFA15A\", \"#19d3f3\", \"#FF6692\", \"#B6E880\", \"#FF97FF\", \"#FECB52\"], \"font\": {\"color\": \"#2a3f5f\"}, \"geo\": {\"bgcolor\": \"white\", \"lakecolor\": \"white\", \"landcolor\": \"#E5ECF6\", \"showlakes\": true, \"showland\": true, \"subunitcolor\": \"white\"}, \"hoverlabel\": {\"align\": \"left\"}, \"hovermode\": \"closest\", \"mapbox\": {\"style\": \"light\"}, \"paper_bgcolor\": \"white\", \"plot_bgcolor\": \"#E5ECF6\", \"polar\": {\"angularaxis\": {\"gridcolor\": \"white\", \"linecolor\": \"white\", \"ticks\": \"\"}, \"bgcolor\": \"#E5ECF6\", \"radialaxis\": {\"gridcolor\": \"white\", \"linecolor\": \"white\", \"ticks\": \"\"}}, \"scene\": {\"xaxis\": {\"backgroundcolor\": \"#E5ECF6\", \"gridcolor\": \"white\", \"gridwidth\": 2, \"linecolor\": \"white\", \"showbackground\": true, \"ticks\": \"\", \"zerolinecolor\": \"white\"}, \"yaxis\": {\"backgroundcolor\": \"#E5ECF6\", \"gridcolor\": \"white\", \"gridwidth\": 2, \"linecolor\": \"white\", \"showbackground\": true, \"ticks\": \"\", \"zerolinecolor\": \"white\"}, \"zaxis\": {\"backgroundcolor\": \"#E5ECF6\", \"gridcolor\": \"white\", \"gridwidth\": 2, \"linecolor\": \"white\", \"showbackground\": true, \"ticks\": \"\", \"zerolinecolor\": \"white\"}}, \"shapedefaults\": {\"line\": {\"color\": \"#2a3f5f\"}}, \"ternary\": {\"aaxis\": {\"gridcolor\": \"white\", \"linecolor\": \"white\", \"ticks\": \"\"}, \"baxis\": {\"gridcolor\": \"white\", \"linecolor\": \"white\", \"ticks\": \"\"}, \"bgcolor\": \"#E5ECF6\", \"caxis\": {\"gridcolor\": \"white\", \"linecolor\": \"white\", \"ticks\": \"\"}}, \"title\": {\"x\": 0.05}, \"xaxis\": {\"automargin\": true, \"gridcolor\": \"white\", \"linecolor\": \"white\", \"ticks\": \"\", \"title\": {\"standoff\": 15}, \"zerolinecolor\": \"white\", \"zerolinewidth\": 2}, \"yaxis\": {\"automargin\": true, \"gridcolor\": \"white\", \"linecolor\": \"white\", \"ticks\": \"\", \"title\": {\"standoff\": 15}, \"zerolinecolor\": \"white\", \"zerolinewidth\": 2}}}, \"title\": {\"text\": \"Positional/Source Info Pie Charts\"}},\n",
       "                        {\"responsive\": true}\n",
       "                    ).then(function(){\n",
       "                            \n",
       "var gd = document.getElementById('e62136d9-ee6e-44ff-9f98-baa940367791');\n",
       "var x = new MutationObserver(function (mutations, observer) {{\n",
       "        var display = window.getComputedStyle(gd).display;\n",
       "        if (!display || display === 'none') {{\n",
       "            console.log([gd, 'removed!']);\n",
       "            Plotly.purge(gd);\n",
       "            observer.disconnect();\n",
       "        }}\n",
       "}});\n",
       "\n",
       "// Listen for the removal of the full notebook cells\n",
       "var notebookContainer = gd.closest('#notebook-container');\n",
       "if (notebookContainer) {{\n",
       "    x.observe(notebookContainer, {childList: true});\n",
       "}}\n",
       "\n",
       "// Listen for the clearing of the current output cell\n",
       "var outputEl = gd.closest('.output');\n",
       "if (outputEl) {{\n",
       "    x.observe(outputEl, {childList: true});\n",
       "}}\n",
       "\n",
       "                        })\n",
       "                };\n",
       "                });\n",
       "            </script>\n",
       "        </div>"
      ]
     },
     "metadata": {},
     "output_type": "display_data"
    }
   ],
   "source": [
    "dff = df_num\n",
    "\n",
    "\n",
    "mode = \"Count\"\n",
    "group_sel = \"Positional/Source Info\"\n",
    "\n",
    "\n",
    "\n",
    "# Define color sets of paintings\n",
    "night_colors = ['rgb(56, 75, 126)', 'rgb(18, 36, 37)', 'rgb(34, 53, 101)',\n",
    "                'rgb(36, 55, 57)', 'rgb(6, 4, 4)']\n",
    "sunflowers_colors = ['rgb(177, 127, 38)', 'rgb(205, 152, 36)', 'rgb(99, 79, 37)',\n",
    "                     'rgb(129, 180, 179)', 'rgb(124, 103, 37)']\n",
    "irises_colors = ['rgb(33, 75, 99)', 'rgb(79, 129, 102)', 'rgb(151, 179, 100)',\n",
    "                 'rgb(175, 49, 35)', 'rgb(36, 73, 147)']\n",
    "cafe_colors =  ['rgb(146, 123, 21)', 'rgb(177, 180, 34)', 'rgb(206, 206, 40)',\n",
    "                'rgb(175, 51, 21)', 'rgb(35, 36, 21)']\n",
    "\n",
    "color_dict = {'Branch':['greenyellow', 'orange', 'hotpink', 'darkgreen','cyan','brown','blueviolet'],\n",
    "             'LeadType':['yellow','darkgoldenrod','aqua','blue','blueviolet','darkgreen','aliceblue','lawngreen'],\n",
    "             'Type':['Orange','green','cyan','violet'],\n",
    "             'New':['cadetblue', 'burlywood', 'brown'],\n",
    "             'Stage':['palegoldenrod', 'forestgreen', 'paleturquoise','orange','brown', 'palegreen', 'fuchsia'],\n",
    "             'OAM':['orchid', 'palegoldenrod', 'palegreen', 'paleturquoise',\n",
    "                'tomato', 'turquoise','violet', 'darkgreen', 'peru', 'pink',\n",
    "                'plum', 'powderblue', 'purple', 'red', 'rosybrown',\n",
    "                'royalblue', 'saddlebrown', 'salmon', 'sandybrown',\n",
    "                'seagreen', 'seashell', 'gold', 'silver', 'skyblue',],\n",
    "            'KeyVendor':['beige', 'bisque', 'black', 'blanchedalmond', 'blue',\n",
    "                          'blueviolet', 'brown', 'burlywood', 'cadetblue',\n",
    "                          'chartreuse', 'chocolate', 'coral', 'cornflowerblue',\n",
    "                          'cornsilk', 'crimson', 'cyan', 'darkblue', 'darkcyan',\n",
    "                          'darkgoldenrod', 'darkgray', 'darkgrey', 'darkgreen',\n",
    "                          'darkkhaki'],\n",
    "             \"Customer\": ['mediumturquoise', 'mediumvioletred', 'midnightblue',\n",
    "                          'mintcream', 'mistyrose', 'moccasin', 'navajowhite', 'navy',\n",
    "                          'oldlace', 'olive', 'olivedrab', 'orange', 'pink',\n",
    "                          'orchid', 'palegoldenrod', 'palegreen', 'paleturquoise',\n",
    "                          'black', 'papayawhip', 'orange', 'peru', 'pink',\n",
    "                          'aliceblue', 'red', 'aqua', 'aquamarine', 'azure',\n",
    "                          'beige', 'bisque', 'black', 'blanchedalmond', 'blue',\n",
    "                          'blueviolet', 'brown', 'burlywood', 'cadetblue',\n",
    "                          'chartreuse', 'chocolate', 'coral', 'cornflowerblue',\n",
    "                          'cornsilk', 'crimson', 'cyan', 'darkblue', 'darkcyan',\n",
    "                          'darkgoldenrod', 'darkgray', 'darkgrey', 'darkgreen',\n",
    "                          'darkkhaki']}\n",
    "             \n",
    "# Create subplots, using 'domain' type for pie charts\n",
    "specs = [[{'type':'domain'}, {'type':'domain'}],\n",
    "         [{'type':'domain'}, {'type':'domain'}],]\n",
    "fig = make_subplots(rows=2, cols=2, specs=specs,horizontal_spacing=0,vertical_spacing=0.1)\n",
    "\n",
    "groups1 = [\"Branch\",\"LeadType\",\"OAM\",\"Stage\"] #Positional/Source Info\n",
    "\n",
    "groups2 = [\"Customer\",\"KeyVendor\",\"New\",\"Type\"] #Customer/Vendor Info\n",
    "\n",
    "rowcol = {\"1\":(1,1), \"2\":(1,2),\n",
    "          \"3\":(2,1), \"4\":(2,2)}\n",
    "\n",
    "groups = groups1 if group_sel == \"Positional/Source Info\" else groups2\n",
    "\n",
    "if mode == \"Count\":\n",
    "    for i,group in enumerate(groups):\n",
    "        \n",
    "        fig.add_trace(go.Pie(labels=df_num[group].value_counts().sort_values(ascending=False).index,\n",
    "                             values=list(df_num[\"Stage\"].value_counts().sort_values(ascending=False)), \n",
    "                             name=group,\n",
    "                             title=group,\n",
    "                             marker_colors=color_dict[group]), rowcol[str(i+1)][0], rowcol[str(i+1)][1])\n",
    "elif mode == \"PV Sum\"\n",
    "        \n",
    "        \n",
    "# Tune layout and hover info\n",
    "fig.update_traces(hoverinfo='label+percent+name', textinfo='label+value')\n",
    "fig.update(\n",
    "    layout_title_text='Positional/Source Info Pie Charts' if group_sel == \"Positional/Source Info\" else\\\n",
    "                                    \"Customer/Vendor Info\",\n",
    "           layout_showlegend=False)\n",
    "\n",
    "fig.update_layout(\n",
    "    margin=dict(l=0, r=0, t=30,b=0),\n",
    "    #paper_bgcolor=\"lightcyan\",\n",
    "    #plot_bgcolor='lightsteelblue' #gainsboro, lightsteelblue lightsalmon lightgreen lightpink lightcyan lightblue black\n",
    ")\n",
    "\n",
    "\n",
    "#fig = go.Figure(fig)\n",
    "fig.show()"
   ]
  },
  {
   "cell_type": "code",
   "execution_count": 76,
   "metadata": {},
   "outputs": [
    {
     "name": "stdout",
     "output_type": "stream",
     "text": [
      "Help on function make_subplots in module plotly.subplots:\n",
      "\n",
      "make_subplots(rows=1, cols=1, shared_xaxes=False, shared_yaxes=False, start_cell='top-left', print_grid=False, horizontal_spacing=None, vertical_spacing=None, subplot_titles=None, column_widths=None, row_heights=None, specs=None, insets=None, column_titles=None, row_titles=None, x_title=None, y_title=None, **kwargs)\n",
      "    Return an instance of plotly.graph_objs.Figure with predefined subplots\n",
      "    configured in 'layout'.\n",
      "    \n",
      "    Parameters\n",
      "    ----------\n",
      "    rows: int (default 1)\n",
      "        Number of rows in the subplot grid. Must be greater than zero.\n",
      "    \n",
      "    cols: int (default 1)\n",
      "        Number of columns in the subplot grid. Must be greater than zero.\n",
      "    \n",
      "    shared_xaxes: boolean or str (default False)\n",
      "        Assign shared (linked) x-axes for 2D cartesian subplots\n",
      "    \n",
      "          - True or 'columns': Share axes among subplots in the same column\n",
      "          - 'rows': Share axes among subplots in the same row\n",
      "          - 'all': Share axes across all subplots in the grid.\n",
      "    \n",
      "    shared_yaxes: boolean or str (default False)\n",
      "        Assign shared (linked) y-axes for 2D cartesian subplots\n",
      "    \n",
      "          - 'columns': Share axes among subplots in the same column\n",
      "          - True or 'rows': Share axes among subplots in the same row\n",
      "          - 'all': Share axes across all subplots in the grid.\n",
      "    \n",
      "    start_cell: 'bottom-left' or 'top-left' (default 'top-left')\n",
      "        Choose the starting cell in the subplot grid used to set the\n",
      "        domains_grid of the subplots.\n",
      "    \n",
      "          - 'top-left': Subplots are numbered with (1, 1) in the top\n",
      "                        left corner\n",
      "          - 'bottom-left': Subplots are numbererd with (1, 1) in the bottom\n",
      "                           left corner\n",
      "    \n",
      "    print_grid: boolean (default True):\n",
      "        If True, prints a string representation of the plot grid.  Grid may\n",
      "        also be printed using the `Figure.print_grid()` method on the\n",
      "        resulting figure.\n",
      "    \n",
      "    horizontal_spacing: float (default 0.2 / cols)\n",
      "        Space between subplot columns in normalized plot coordinates. Must be\n",
      "        a float between 0 and 1.\n",
      "    \n",
      "        Applies to all columns (use 'specs' subplot-dependents spacing)\n",
      "    \n",
      "    vertical_spacing: float (default 0.3 / rows)\n",
      "        Space between subplot rows in normalized plot coordinates. Must be\n",
      "        a float between 0 and 1.\n",
      "    \n",
      "        Applies to all rows (use 'specs' subplot-dependents spacing)\n",
      "    \n",
      "    subplot_titles: list of str or None (default None)\n",
      "        Title of each subplot as a list in row-major ordering.\n",
      "    \n",
      "        Empty strings (\"\") can be included in the list if no subplot title\n",
      "        is desired in that space so that the titles are properly indexed.\n",
      "    \n",
      "    specs: list of lists of dict or None (default None)\n",
      "        Per subplot specifications of subplot type, row/column spanning, and\n",
      "        spacing.\n",
      "    \n",
      "        ex1: specs=[[{}, {}], [{'colspan': 2}, None]]\n",
      "    \n",
      "        ex2: specs=[[{'rowspan': 2}, {}], [None, {}]]\n",
      "    \n",
      "        - Indices of the outer list correspond to subplot grid rows\n",
      "          starting from the top, if start_cell='top-left',\n",
      "          or bottom, if start_cell='bottom-left'.\n",
      "          The number of rows in 'specs' must be equal to 'rows'.\n",
      "    \n",
      "        - Indices of the inner lists correspond to subplot grid columns\n",
      "          starting from the left. The number of columns in 'specs'\n",
      "          must be equal to 'cols'.\n",
      "    \n",
      "        - Each item in the 'specs' list corresponds to one subplot\n",
      "          in a subplot grid. (N.B. The subplot grid has exactly 'rows'\n",
      "          times 'cols' cells.)\n",
      "    \n",
      "        - Use None for a blank a subplot cell (or to move past a col/row span).\n",
      "    \n",
      "        - Note that specs[0][0] has the specs of the 'start_cell' subplot.\n",
      "    \n",
      "        - Each item in 'specs' is a dictionary.\n",
      "            The available keys are:\n",
      "            * type (string, default 'xy'): Subplot type. One of\n",
      "                - 'xy': 2D Cartesian subplot type for scatter, bar, etc.\n",
      "                - 'scene': 3D Cartesian subplot for scatter3d, cone, etc.\n",
      "                - 'polar': Polar subplot for scatterpolar, barpolar, etc.\n",
      "                - 'ternary': Ternary subplot for scatterternary\n",
      "                - 'mapbox': Mapbox subplot for scattermapbox\n",
      "                - 'domain': Subplot type for traces that are individually\n",
      "                            positioned. pie, parcoords, parcats, etc.\n",
      "                - trace type: A trace type which will be used to determine\n",
      "                              the appropriate subplot type for that trace\n",
      "    \n",
      "            * secondary_y (bool, default False): If True, create a secondary\n",
      "                y-axis positioned on the right side of the subplot. Only valid\n",
      "                if type='xy'.\n",
      "            * colspan (int, default 1): number of subplot columns\n",
      "                for this subplot to span.\n",
      "            * rowspan (int, default 1): number of subplot rows\n",
      "                for this subplot to span.\n",
      "            * l (float, default 0.0): padding left of cell\n",
      "            * r (float, default 0.0): padding right of cell\n",
      "            * t (float, default 0.0): padding right of cell\n",
      "            * b (float, default 0.0): padding bottom of cell\n",
      "    \n",
      "        - Note: Use 'horizontal_spacing' and 'vertical_spacing' to adjust\n",
      "          the spacing in between the subplots.\n",
      "    \n",
      "    insets: list of dict or None (default None):\n",
      "        Inset specifications.  Insets are subplots that overlay grid subplots\n",
      "    \n",
      "        - Each item in 'insets' is a dictionary.\n",
      "            The available keys are:\n",
      "    \n",
      "            * cell (tuple, default=(1,1)): (row, col) index of the\n",
      "                subplot cell to overlay inset axes onto.\n",
      "            * type (string, default 'xy'): Subplot type\n",
      "            * l (float, default=0.0): padding left of inset\n",
      "                  in fraction of cell width\n",
      "            * w (float or 'to_end', default='to_end') inset width\n",
      "                  in fraction of cell width ('to_end': to cell right edge)\n",
      "            * b (float, default=0.0): padding bottom of inset\n",
      "                  in fraction of cell height\n",
      "            * h (float or 'to_end', default='to_end') inset height\n",
      "                  in fraction of cell height ('to_end': to cell top edge)\n",
      "    \n",
      "    column_widths: list of numbers or None (default None)\n",
      "        list of length `cols` of the relative widths of each column of suplots.\n",
      "        Values are normalized internally and used to distribute overall width\n",
      "        of the figure (excluding padding) among the columns.\n",
      "    \n",
      "        For backward compatibility, may also be specified using the\n",
      "        `column_width` keyword argument.\n",
      "    \n",
      "    row_heights: list of numbers or None (default None)\n",
      "        list of length `rows` of the relative heights of each row of subplots.\n",
      "        If start_cell='top-left' then row heights are applied top to bottom.\n",
      "        Otherwise, if start_cell='bottom-left' then row heights are applied\n",
      "        bottom to top.\n",
      "    \n",
      "        For backward compatibility, may also be specified using the\n",
      "        `row_width` kwarg. If specified as `row_width`, then the width values\n",
      "        are applied from bottom to top regardless of the value of start_cell.\n",
      "        This matches the legacy behavior of the `row_width` argument.\n",
      "    \n",
      "    column_titles: list of str or None (default None)\n",
      "        list of length `cols` of titles to place above the top subplot in\n",
      "        each column.\n",
      "    \n",
      "    row_titles: list of str or None (default None)\n",
      "        list of length `rows` of titles to place on the right side of each\n",
      "        row of subplots. If start_cell='top-left' then row titles are\n",
      "        applied top to bottom. Otherwise, if start_cell='bottom-left' then\n",
      "        row titles are applied bottom to top.\n",
      "    \n",
      "    x_title: str or None (default None)\n",
      "        Title to place below the bottom row of subplots,\n",
      "        centered horizontally\n",
      "    \n",
      "    y_title: str or None (default None)\n",
      "        Title to place to the left of the left column of subplots,\n",
      "       centered vertically\n",
      "    \n",
      "    Examples\n",
      "    --------\n",
      "    \n",
      "    Example 1:\n",
      "    \n",
      "    >>> # Stack two subplots vertically, and add a scatter trace to each\n",
      "    >>> from plotly.subplots import make_subplots\n",
      "    >>> import plotly.graph_objects as go\n",
      "    >>> fig = make_subplots(rows=2)\n",
      "    \n",
      "    This is the format of your plot grid:\n",
      "    [ (1,1) xaxis1,yaxis1 ]\n",
      "    [ (2,1) xaxis2,yaxis2 ]\n",
      "    \n",
      "    >>> fig.add_scatter(y=[2, 1, 3], row=1, col=1) # doctest: +ELLIPSIS\n",
      "    Figure(...)\n",
      "    >>> fig.add_scatter(y=[1, 3, 2], row=2, col=1) # doctest: +ELLIPSIS\n",
      "    Figure(...)\n",
      "    \n",
      "    or see Figure.append_trace\n",
      "    \n",
      "    Example 2:\n",
      "    \n",
      "    >>> # Stack a scatter plot\n",
      "    >>> fig = make_subplots(rows=2, shared_xaxes=True)\n",
      "    \n",
      "    This is the format of your plot grid:\n",
      "    [ (1,1) xaxis1,yaxis1 ]\n",
      "    [ (2,1) xaxis2,yaxis2 ]\n",
      "    \n",
      "    >>> fig.add_scatter(y=[2, 1, 3], row=1, col=1) # doctest: +ELLIPSIS\n",
      "    Figure(...)\n",
      "    >>> fig.add_scatter(y=[1, 3, 2], row=2, col=1) # doctest: +ELLIPSIS\n",
      "    Figure(...)\n",
      "    \n",
      "    Example 3:\n",
      "    \n",
      "    >>> # irregular subplot layout (more examples below under 'specs')\n",
      "    >>> fig = make_subplots(rows=2, cols=2,\n",
      "    ...                     specs=[[{}, {}],\n",
      "    ...                     [{'colspan': 2}, None]])\n",
      "    \n",
      "    This is the format of your plot grid:\n",
      "    [ (1,1) xaxis1,yaxis1 ]  [ (1,2) xaxis2,yaxis2 ]\n",
      "    [ (2,1) xaxis3,yaxis3           -              ]\n",
      "    \n",
      "    >>> fig.add_trace(go.Scatter(x=[1,2,3], y=[2,1,2]), row=1, col=1) # doctest: +ELLIPSIS\n",
      "    Figure(...)\n",
      "    >>> fig.add_trace(go.Scatter(x=[1,2,3], y=[2,1,2]), row=1, col=2) # doctest: +ELLIPSIS\n",
      "    Figure(...)\n",
      "    >>> fig.add_trace(go.Scatter(x=[1,2,3], y=[2,1,2]), row=2, col=1) # doctest: +ELLIPSIS\n",
      "    Figure(...)\n",
      "    \n",
      "    Example 4:\n",
      "    \n",
      "    >>> # insets\n",
      "    >>> fig = make_subplots(insets=[{'cell': (1,1), 'l': 0.7, 'b': 0.3}])\n",
      "    \n",
      "    This is the format of your plot grid:\n",
      "    [ (1,1) xaxis1,yaxis1 ]\n",
      "    \n",
      "    With insets:\n",
      "    [ xaxis2,yaxis2 ] over [ (1,1) xaxis1,yaxis1 ]\n",
      "    \n",
      "    >>> fig.add_scatter(x=[1,2,3], y=[2,1,1]) # doctest: +ELLIPSIS\n",
      "    Figure(...)\n",
      "    >>> fig.add_scatter(x=[1,2,3], y=[2,1,2], xaxis='x2', yaxis='y2') # doctest: +ELLIPSIS\n",
      "    Figure(...)\n",
      "    \n",
      "    Example 5:\n",
      "    \n",
      "    >>> # include subplot titles\n",
      "    >>> fig = make_subplots(rows=2, subplot_titles=('Plot 1','Plot 2'))\n",
      "    \n",
      "    This is the format of your plot grid:\n",
      "    [ (1,1) x1,y1 ]\n",
      "    [ (2,1) x2,y2 ]\n",
      "    \n",
      "    >>> fig.add_scatter(x=[1,2,3], y=[2,1,2], row=1, col=1) # doctest: +ELLIPSIS\n",
      "    Figure(...)\n",
      "    >>> fig.add_bar(x=[1,2,3], y=[2,1,2], row=2, col=1) # doctest: +ELLIPSIS\n",
      "    Figure(...)\n",
      "    \n",
      "    Example 6:\n",
      "    \n",
      "    Subplot with mixed subplot types\n",
      "    \n",
      "    >>> fig = make_subplots(rows=2, cols=2,\n",
      "    ...                     specs=[[{'type': 'xy'},    {'type': 'polar'}],\n",
      "    ...                            [{'type': 'scene'}, {'type': 'ternary'}]])\n",
      "    \n",
      "    >>> fig.add_traces(\n",
      "    ...     [go.Scatter(y=[2, 3, 1]),\n",
      "    ...      go.Scatterpolar(r=[1, 3, 2], theta=[0, 45, 90]),\n",
      "    ...      go.Scatter3d(x=[1, 2, 1], y=[2, 3, 1], z=[0, 3, 5]),\n",
      "    ...      go.Scatterternary(a=[0.1, 0.2, 0.1],\n",
      "    ...                        b=[0.2, 0.3, 0.1],\n",
      "    ...                        c=[0.7, 0.5, 0.8])],\n",
      "    ...     rows=[1, 1, 2, 2],\n",
      "    ...     cols=[1, 2, 1, 2]) # doctest: +ELLIPSIS\n",
      "    Figure(...)\n",
      "\n"
     ]
    }
   ],
   "source": [
    "help(make_subplots)"
   ]
  },
  {
   "cell_type": "code",
   "execution_count": null,
   "metadata": {},
   "outputs": [],
   "source": [
    "textinfo = label+value+percent\n",
    "\n",
    "goverinfo = label+percent+name"
   ]
  },
  {
   "cell_type": "code",
   "execution_count": 99,
   "metadata": {},
   "outputs": [
    {
     "data": {
      "application/vnd.plotly.v1+json": {
       "config": {
        "plotlyServerURL": "https://plot.ly"
       },
       "data": [
        {
         "domain": {
          "x": [
           0,
           0.5
          ],
          "y": [
           0.525,
           1
          ]
         },
         "hoverinfo": "label+value+percent+name",
         "labels": [
          "1st",
          "2nd",
          "3rd",
          "4th",
          "5th"
         ],
         "marker": {
          "colors": [
           "rgb(56, 75, 126)",
           "rgb(18, 36, 37)",
           "rgb(34, 53, 101)",
           "rgb(36, 55, 57)",
           "rgb(6, 4, 4)"
          ]
         },
         "name": "name",
         "textinfo": "label+percent+value",
         "title": {
          "text": "ddd"
         },
         "type": "pie",
         "values": [
          38,
          27,
          18,
          10,
          7
         ]
        },
        {
         "domain": {
          "x": [
           0.5,
           1
          ],
          "y": [
           0.525,
           1
          ]
         },
         "hoverinfo": "label+value+percent+name",
         "labels": [
          "lable1",
          "lable2",
          "lable3",
          "lable4",
          "lable5"
         ],
         "marker": {
          "colors": [
           "rgb(177, 127, 38)",
           "rgb(205, 152, 36)",
           "rgb(99, 79, 37)",
           "rgb(129, 180, 179)",
           "rgb(124, 103, 37)"
          ]
         },
         "name": "Sunflowers",
         "textinfo": "label+percent+value",
         "type": "pie",
         "values": [
          28,
          26,
          21,
          15,
          10
         ]
        },
        {
         "domain": {
          "x": [
           0,
           0.5
          ],
          "y": [
           0,
           0.475
          ]
         },
         "hoverinfo": "label+value+percent+name",
         "labels": [
          "1st",
          "2nd",
          "3rd",
          "4th",
          "5th"
         ],
         "marker": {
          "colors": [
           "rgb(33, 75, 99)",
           "rgb(79, 129, 102)",
           "rgb(151, 179, 100)",
           "rgb(175, 49, 35)",
           "rgb(36, 73, 147)"
          ]
         },
         "name": "Irises",
         "textinfo": "label+percent+value",
         "type": "pie",
         "values": [
          38,
          19,
          16,
          14,
          13
         ]
        },
        {
         "domain": {
          "x": [
           0.5,
           1
          ],
          "y": [
           0,
           0.475
          ]
         },
         "hoverinfo": "label+value+percent+name",
         "labels": [
          "1st",
          "2nd",
          "3rd",
          "4th",
          "5th"
         ],
         "marker": {
          "colors": [
           "rgb(146, 123, 21)",
           "rgb(177, 180, 34)",
           "rgb(206, 206, 40)",
           "rgb(175, 51, 21)",
           "rgb(35, 36, 21)"
          ]
         },
         "name": "The Night Café",
         "textinfo": "label+percent+value",
         "type": "pie",
         "values": [
          31,
          24,
          19,
          18,
          8
         ]
        }
       ],
       "layout": {
        "margin": {
         "b": 0,
         "l": 0,
         "r": 0,
         "t": 30
        },
        "showlegend": true,
        "template": {
         "data": {
          "bar": [
           {
            "error_x": {
             "color": "#2a3f5f"
            },
            "error_y": {
             "color": "#2a3f5f"
            },
            "marker": {
             "line": {
              "color": "#E5ECF6",
              "width": 0.5
             }
            },
            "type": "bar"
           }
          ],
          "barpolar": [
           {
            "marker": {
             "line": {
              "color": "#E5ECF6",
              "width": 0.5
             }
            },
            "type": "barpolar"
           }
          ],
          "carpet": [
           {
            "aaxis": {
             "endlinecolor": "#2a3f5f",
             "gridcolor": "white",
             "linecolor": "white",
             "minorgridcolor": "white",
             "startlinecolor": "#2a3f5f"
            },
            "baxis": {
             "endlinecolor": "#2a3f5f",
             "gridcolor": "white",
             "linecolor": "white",
             "minorgridcolor": "white",
             "startlinecolor": "#2a3f5f"
            },
            "type": "carpet"
           }
          ],
          "choropleth": [
           {
            "colorbar": {
             "outlinewidth": 0,
             "ticks": ""
            },
            "type": "choropleth"
           }
          ],
          "contour": [
           {
            "colorbar": {
             "outlinewidth": 0,
             "ticks": ""
            },
            "colorscale": [
             [
              0,
              "#0d0887"
             ],
             [
              0.1111111111111111,
              "#46039f"
             ],
             [
              0.2222222222222222,
              "#7201a8"
             ],
             [
              0.3333333333333333,
              "#9c179e"
             ],
             [
              0.4444444444444444,
              "#bd3786"
             ],
             [
              0.5555555555555556,
              "#d8576b"
             ],
             [
              0.6666666666666666,
              "#ed7953"
             ],
             [
              0.7777777777777778,
              "#fb9f3a"
             ],
             [
              0.8888888888888888,
              "#fdca26"
             ],
             [
              1,
              "#f0f921"
             ]
            ],
            "type": "contour"
           }
          ],
          "contourcarpet": [
           {
            "colorbar": {
             "outlinewidth": 0,
             "ticks": ""
            },
            "type": "contourcarpet"
           }
          ],
          "heatmap": [
           {
            "colorbar": {
             "outlinewidth": 0,
             "ticks": ""
            },
            "colorscale": [
             [
              0,
              "#0d0887"
             ],
             [
              0.1111111111111111,
              "#46039f"
             ],
             [
              0.2222222222222222,
              "#7201a8"
             ],
             [
              0.3333333333333333,
              "#9c179e"
             ],
             [
              0.4444444444444444,
              "#bd3786"
             ],
             [
              0.5555555555555556,
              "#d8576b"
             ],
             [
              0.6666666666666666,
              "#ed7953"
             ],
             [
              0.7777777777777778,
              "#fb9f3a"
             ],
             [
              0.8888888888888888,
              "#fdca26"
             ],
             [
              1,
              "#f0f921"
             ]
            ],
            "type": "heatmap"
           }
          ],
          "heatmapgl": [
           {
            "colorbar": {
             "outlinewidth": 0,
             "ticks": ""
            },
            "colorscale": [
             [
              0,
              "#0d0887"
             ],
             [
              0.1111111111111111,
              "#46039f"
             ],
             [
              0.2222222222222222,
              "#7201a8"
             ],
             [
              0.3333333333333333,
              "#9c179e"
             ],
             [
              0.4444444444444444,
              "#bd3786"
             ],
             [
              0.5555555555555556,
              "#d8576b"
             ],
             [
              0.6666666666666666,
              "#ed7953"
             ],
             [
              0.7777777777777778,
              "#fb9f3a"
             ],
             [
              0.8888888888888888,
              "#fdca26"
             ],
             [
              1,
              "#f0f921"
             ]
            ],
            "type": "heatmapgl"
           }
          ],
          "histogram": [
           {
            "marker": {
             "colorbar": {
              "outlinewidth": 0,
              "ticks": ""
             }
            },
            "type": "histogram"
           }
          ],
          "histogram2d": [
           {
            "colorbar": {
             "outlinewidth": 0,
             "ticks": ""
            },
            "colorscale": [
             [
              0,
              "#0d0887"
             ],
             [
              0.1111111111111111,
              "#46039f"
             ],
             [
              0.2222222222222222,
              "#7201a8"
             ],
             [
              0.3333333333333333,
              "#9c179e"
             ],
             [
              0.4444444444444444,
              "#bd3786"
             ],
             [
              0.5555555555555556,
              "#d8576b"
             ],
             [
              0.6666666666666666,
              "#ed7953"
             ],
             [
              0.7777777777777778,
              "#fb9f3a"
             ],
             [
              0.8888888888888888,
              "#fdca26"
             ],
             [
              1,
              "#f0f921"
             ]
            ],
            "type": "histogram2d"
           }
          ],
          "histogram2dcontour": [
           {
            "colorbar": {
             "outlinewidth": 0,
             "ticks": ""
            },
            "colorscale": [
             [
              0,
              "#0d0887"
             ],
             [
              0.1111111111111111,
              "#46039f"
             ],
             [
              0.2222222222222222,
              "#7201a8"
             ],
             [
              0.3333333333333333,
              "#9c179e"
             ],
             [
              0.4444444444444444,
              "#bd3786"
             ],
             [
              0.5555555555555556,
              "#d8576b"
             ],
             [
              0.6666666666666666,
              "#ed7953"
             ],
             [
              0.7777777777777778,
              "#fb9f3a"
             ],
             [
              0.8888888888888888,
              "#fdca26"
             ],
             [
              1,
              "#f0f921"
             ]
            ],
            "type": "histogram2dcontour"
           }
          ],
          "mesh3d": [
           {
            "colorbar": {
             "outlinewidth": 0,
             "ticks": ""
            },
            "type": "mesh3d"
           }
          ],
          "parcoords": [
           {
            "line": {
             "colorbar": {
              "outlinewidth": 0,
              "ticks": ""
             }
            },
            "type": "parcoords"
           }
          ],
          "pie": [
           {
            "automargin": true,
            "type": "pie"
           }
          ],
          "scatter": [
           {
            "marker": {
             "colorbar": {
              "outlinewidth": 0,
              "ticks": ""
             }
            },
            "type": "scatter"
           }
          ],
          "scatter3d": [
           {
            "line": {
             "colorbar": {
              "outlinewidth": 0,
              "ticks": ""
             }
            },
            "marker": {
             "colorbar": {
              "outlinewidth": 0,
              "ticks": ""
             }
            },
            "type": "scatter3d"
           }
          ],
          "scattercarpet": [
           {
            "marker": {
             "colorbar": {
              "outlinewidth": 0,
              "ticks": ""
             }
            },
            "type": "scattercarpet"
           }
          ],
          "scattergeo": [
           {
            "marker": {
             "colorbar": {
              "outlinewidth": 0,
              "ticks": ""
             }
            },
            "type": "scattergeo"
           }
          ],
          "scattergl": [
           {
            "marker": {
             "colorbar": {
              "outlinewidth": 0,
              "ticks": ""
             }
            },
            "type": "scattergl"
           }
          ],
          "scattermapbox": [
           {
            "marker": {
             "colorbar": {
              "outlinewidth": 0,
              "ticks": ""
             }
            },
            "type": "scattermapbox"
           }
          ],
          "scatterpolar": [
           {
            "marker": {
             "colorbar": {
              "outlinewidth": 0,
              "ticks": ""
             }
            },
            "type": "scatterpolar"
           }
          ],
          "scatterpolargl": [
           {
            "marker": {
             "colorbar": {
              "outlinewidth": 0,
              "ticks": ""
             }
            },
            "type": "scatterpolargl"
           }
          ],
          "scatterternary": [
           {
            "marker": {
             "colorbar": {
              "outlinewidth": 0,
              "ticks": ""
             }
            },
            "type": "scatterternary"
           }
          ],
          "surface": [
           {
            "colorbar": {
             "outlinewidth": 0,
             "ticks": ""
            },
            "colorscale": [
             [
              0,
              "#0d0887"
             ],
             [
              0.1111111111111111,
              "#46039f"
             ],
             [
              0.2222222222222222,
              "#7201a8"
             ],
             [
              0.3333333333333333,
              "#9c179e"
             ],
             [
              0.4444444444444444,
              "#bd3786"
             ],
             [
              0.5555555555555556,
              "#d8576b"
             ],
             [
              0.6666666666666666,
              "#ed7953"
             ],
             [
              0.7777777777777778,
              "#fb9f3a"
             ],
             [
              0.8888888888888888,
              "#fdca26"
             ],
             [
              1,
              "#f0f921"
             ]
            ],
            "type": "surface"
           }
          ],
          "table": [
           {
            "cells": {
             "fill": {
              "color": "#EBF0F8"
             },
             "line": {
              "color": "white"
             }
            },
            "header": {
             "fill": {
              "color": "#C8D4E3"
             },
             "line": {
              "color": "white"
             }
            },
            "type": "table"
           }
          ]
         },
         "layout": {
          "annotationdefaults": {
           "arrowcolor": "#2a3f5f",
           "arrowhead": 0,
           "arrowwidth": 1
          },
          "coloraxis": {
           "colorbar": {
            "outlinewidth": 0,
            "ticks": ""
           }
          },
          "colorscale": {
           "diverging": [
            [
             0,
             "#8e0152"
            ],
            [
             0.1,
             "#c51b7d"
            ],
            [
             0.2,
             "#de77ae"
            ],
            [
             0.3,
             "#f1b6da"
            ],
            [
             0.4,
             "#fde0ef"
            ],
            [
             0.5,
             "#f7f7f7"
            ],
            [
             0.6,
             "#e6f5d0"
            ],
            [
             0.7,
             "#b8e186"
            ],
            [
             0.8,
             "#7fbc41"
            ],
            [
             0.9,
             "#4d9221"
            ],
            [
             1,
             "#276419"
            ]
           ],
           "sequential": [
            [
             0,
             "#0d0887"
            ],
            [
             0.1111111111111111,
             "#46039f"
            ],
            [
             0.2222222222222222,
             "#7201a8"
            ],
            [
             0.3333333333333333,
             "#9c179e"
            ],
            [
             0.4444444444444444,
             "#bd3786"
            ],
            [
             0.5555555555555556,
             "#d8576b"
            ],
            [
             0.6666666666666666,
             "#ed7953"
            ],
            [
             0.7777777777777778,
             "#fb9f3a"
            ],
            [
             0.8888888888888888,
             "#fdca26"
            ],
            [
             1,
             "#f0f921"
            ]
           ],
           "sequentialminus": [
            [
             0,
             "#0d0887"
            ],
            [
             0.1111111111111111,
             "#46039f"
            ],
            [
             0.2222222222222222,
             "#7201a8"
            ],
            [
             0.3333333333333333,
             "#9c179e"
            ],
            [
             0.4444444444444444,
             "#bd3786"
            ],
            [
             0.5555555555555556,
             "#d8576b"
            ],
            [
             0.6666666666666666,
             "#ed7953"
            ],
            [
             0.7777777777777778,
             "#fb9f3a"
            ],
            [
             0.8888888888888888,
             "#fdca26"
            ],
            [
             1,
             "#f0f921"
            ]
           ]
          },
          "colorway": [
           "#636efa",
           "#EF553B",
           "#00cc96",
           "#ab63fa",
           "#FFA15A",
           "#19d3f3",
           "#FF6692",
           "#B6E880",
           "#FF97FF",
           "#FECB52"
          ],
          "font": {
           "color": "#2a3f5f"
          },
          "geo": {
           "bgcolor": "white",
           "lakecolor": "white",
           "landcolor": "#E5ECF6",
           "showlakes": true,
           "showland": true,
           "subunitcolor": "white"
          },
          "hoverlabel": {
           "align": "left"
          },
          "hovermode": "closest",
          "mapbox": {
           "style": "light"
          },
          "paper_bgcolor": "white",
          "plot_bgcolor": "#E5ECF6",
          "polar": {
           "angularaxis": {
            "gridcolor": "white",
            "linecolor": "white",
            "ticks": ""
           },
           "bgcolor": "#E5ECF6",
           "radialaxis": {
            "gridcolor": "white",
            "linecolor": "white",
            "ticks": ""
           }
          },
          "scene": {
           "xaxis": {
            "backgroundcolor": "#E5ECF6",
            "gridcolor": "white",
            "gridwidth": 2,
            "linecolor": "white",
            "showbackground": true,
            "ticks": "",
            "zerolinecolor": "white"
           },
           "yaxis": {
            "backgroundcolor": "#E5ECF6",
            "gridcolor": "white",
            "gridwidth": 2,
            "linecolor": "white",
            "showbackground": true,
            "ticks": "",
            "zerolinecolor": "white"
           },
           "zaxis": {
            "backgroundcolor": "#E5ECF6",
            "gridcolor": "white",
            "gridwidth": 2,
            "linecolor": "white",
            "showbackground": true,
            "ticks": "",
            "zerolinecolor": "white"
           }
          },
          "shapedefaults": {
           "line": {
            "color": "#2a3f5f"
           }
          },
          "ternary": {
           "aaxis": {
            "gridcolor": "white",
            "linecolor": "white",
            "ticks": ""
           },
           "baxis": {
            "gridcolor": "white",
            "linecolor": "white",
            "ticks": ""
           },
           "bgcolor": "#E5ECF6",
           "caxis": {
            "gridcolor": "white",
            "linecolor": "white",
            "ticks": ""
           }
          },
          "title": {
           "x": 0.05
          },
          "xaxis": {
           "automargin": true,
           "gridcolor": "white",
           "linecolor": "white",
           "ticks": "",
           "title": {
            "standoff": 15
           },
           "zerolinecolor": "white",
           "zerolinewidth": 2
          },
          "yaxis": {
           "automargin": true,
           "gridcolor": "white",
           "linecolor": "white",
           "ticks": "",
           "title": {
            "standoff": 15
           },
           "zerolinecolor": "white",
           "zerolinewidth": 2
          }
         }
        },
        "title": {
         "text": "Van Gogh: 5 Most Prominent Colors Shown Proportionally"
        }
       }
      },
      "text/html": [
       "<div>\n",
       "        \n",
       "        \n",
       "            <div id=\"a2e0c29f-774d-4ded-b041-b60042c97a81\" class=\"plotly-graph-div\" style=\"height:525px; width:100%;\"></div>\n",
       "            <script type=\"text/javascript\">\n",
       "                require([\"plotly\"], function(Plotly) {\n",
       "                    window.PLOTLYENV=window.PLOTLYENV || {};\n",
       "                    \n",
       "                if (document.getElementById(\"a2e0c29f-774d-4ded-b041-b60042c97a81\")) {\n",
       "                    Plotly.newPlot(\n",
       "                        'a2e0c29f-774d-4ded-b041-b60042c97a81',\n",
       "                        [{\"domain\": {\"x\": [0.0, 0.5], \"y\": [0.525, 1.0]}, \"hoverinfo\": \"label+value+percent+name\", \"labels\": [\"1st\", \"2nd\", \"3rd\", \"4th\", \"5th\"], \"marker\": {\"colors\": [\"rgb(56, 75, 126)\", \"rgb(18, 36, 37)\", \"rgb(34, 53, 101)\", \"rgb(36, 55, 57)\", \"rgb(6, 4, 4)\"]}, \"name\": \"name\", \"textinfo\": \"label+percent+value\", \"title\": {\"text\": \"ddd\"}, \"type\": \"pie\", \"values\": [38, 27, 18, 10, 7]}, {\"domain\": {\"x\": [0.5, 1.0], \"y\": [0.525, 1.0]}, \"hoverinfo\": \"label+value+percent+name\", \"labels\": [\"lable1\", \"lable2\", \"lable3\", \"lable4\", \"lable5\"], \"marker\": {\"colors\": [\"rgb(177, 127, 38)\", \"rgb(205, 152, 36)\", \"rgb(99, 79, 37)\", \"rgb(129, 180, 179)\", \"rgb(124, 103, 37)\"]}, \"name\": \"Sunflowers\", \"textinfo\": \"label+percent+value\", \"type\": \"pie\", \"values\": [28, 26, 21, 15, 10]}, {\"domain\": {\"x\": [0.0, 0.5], \"y\": [0.0, 0.475]}, \"hoverinfo\": \"label+value+percent+name\", \"labels\": [\"1st\", \"2nd\", \"3rd\", \"4th\", \"5th\"], \"marker\": {\"colors\": [\"rgb(33, 75, 99)\", \"rgb(79, 129, 102)\", \"rgb(151, 179, 100)\", \"rgb(175, 49, 35)\", \"rgb(36, 73, 147)\"]}, \"name\": \"Irises\", \"textinfo\": \"label+percent+value\", \"type\": \"pie\", \"values\": [38, 19, 16, 14, 13]}, {\"domain\": {\"x\": [0.5, 1.0], \"y\": [0.0, 0.475]}, \"hoverinfo\": \"label+value+percent+name\", \"labels\": [\"1st\", \"2nd\", \"3rd\", \"4th\", \"5th\"], \"marker\": {\"colors\": [\"rgb(146, 123, 21)\", \"rgb(177, 180, 34)\", \"rgb(206, 206, 40)\", \"rgb(175, 51, 21)\", \"rgb(35, 36, 21)\"]}, \"name\": \"The Night Caf\\u00e9\", \"textinfo\": \"label+percent+value\", \"type\": \"pie\", \"values\": [31, 24, 19, 18, 8]}],\n",
       "                        {\"margin\": {\"b\": 0, \"l\": 0, \"r\": 0, \"t\": 30}, \"showlegend\": true, \"template\": {\"data\": {\"bar\": [{\"error_x\": {\"color\": \"#2a3f5f\"}, \"error_y\": {\"color\": \"#2a3f5f\"}, \"marker\": {\"line\": {\"color\": \"#E5ECF6\", \"width\": 0.5}}, \"type\": \"bar\"}], \"barpolar\": [{\"marker\": {\"line\": {\"color\": \"#E5ECF6\", \"width\": 0.5}}, \"type\": \"barpolar\"}], \"carpet\": [{\"aaxis\": {\"endlinecolor\": \"#2a3f5f\", \"gridcolor\": \"white\", \"linecolor\": \"white\", \"minorgridcolor\": \"white\", \"startlinecolor\": \"#2a3f5f\"}, \"baxis\": {\"endlinecolor\": \"#2a3f5f\", \"gridcolor\": \"white\", \"linecolor\": \"white\", \"minorgridcolor\": \"white\", \"startlinecolor\": \"#2a3f5f\"}, \"type\": \"carpet\"}], \"choropleth\": [{\"colorbar\": {\"outlinewidth\": 0, \"ticks\": \"\"}, \"type\": \"choropleth\"}], \"contour\": [{\"colorbar\": {\"outlinewidth\": 0, \"ticks\": \"\"}, \"colorscale\": [[0.0, \"#0d0887\"], [0.1111111111111111, \"#46039f\"], [0.2222222222222222, \"#7201a8\"], [0.3333333333333333, \"#9c179e\"], [0.4444444444444444, \"#bd3786\"], [0.5555555555555556, \"#d8576b\"], [0.6666666666666666, \"#ed7953\"], [0.7777777777777778, \"#fb9f3a\"], [0.8888888888888888, \"#fdca26\"], [1.0, \"#f0f921\"]], \"type\": \"contour\"}], \"contourcarpet\": [{\"colorbar\": {\"outlinewidth\": 0, \"ticks\": \"\"}, \"type\": \"contourcarpet\"}], \"heatmap\": [{\"colorbar\": {\"outlinewidth\": 0, \"ticks\": \"\"}, \"colorscale\": [[0.0, \"#0d0887\"], [0.1111111111111111, \"#46039f\"], [0.2222222222222222, \"#7201a8\"], [0.3333333333333333, \"#9c179e\"], [0.4444444444444444, \"#bd3786\"], [0.5555555555555556, \"#d8576b\"], [0.6666666666666666, \"#ed7953\"], [0.7777777777777778, \"#fb9f3a\"], [0.8888888888888888, \"#fdca26\"], [1.0, \"#f0f921\"]], \"type\": \"heatmap\"}], \"heatmapgl\": [{\"colorbar\": {\"outlinewidth\": 0, \"ticks\": \"\"}, \"colorscale\": [[0.0, \"#0d0887\"], [0.1111111111111111, \"#46039f\"], [0.2222222222222222, \"#7201a8\"], [0.3333333333333333, \"#9c179e\"], [0.4444444444444444, \"#bd3786\"], [0.5555555555555556, \"#d8576b\"], [0.6666666666666666, \"#ed7953\"], [0.7777777777777778, \"#fb9f3a\"], [0.8888888888888888, \"#fdca26\"], [1.0, \"#f0f921\"]], \"type\": \"heatmapgl\"}], \"histogram\": [{\"marker\": {\"colorbar\": {\"outlinewidth\": 0, \"ticks\": \"\"}}, \"type\": \"histogram\"}], \"histogram2d\": [{\"colorbar\": {\"outlinewidth\": 0, \"ticks\": \"\"}, \"colorscale\": [[0.0, \"#0d0887\"], [0.1111111111111111, \"#46039f\"], [0.2222222222222222, \"#7201a8\"], [0.3333333333333333, \"#9c179e\"], [0.4444444444444444, \"#bd3786\"], [0.5555555555555556, \"#d8576b\"], [0.6666666666666666, \"#ed7953\"], [0.7777777777777778, \"#fb9f3a\"], [0.8888888888888888, \"#fdca26\"], [1.0, \"#f0f921\"]], \"type\": \"histogram2d\"}], \"histogram2dcontour\": [{\"colorbar\": {\"outlinewidth\": 0, \"ticks\": \"\"}, \"colorscale\": [[0.0, \"#0d0887\"], [0.1111111111111111, \"#46039f\"], [0.2222222222222222, \"#7201a8\"], [0.3333333333333333, \"#9c179e\"], [0.4444444444444444, \"#bd3786\"], [0.5555555555555556, \"#d8576b\"], [0.6666666666666666, \"#ed7953\"], [0.7777777777777778, \"#fb9f3a\"], [0.8888888888888888, \"#fdca26\"], [1.0, \"#f0f921\"]], \"type\": \"histogram2dcontour\"}], \"mesh3d\": [{\"colorbar\": {\"outlinewidth\": 0, \"ticks\": \"\"}, \"type\": \"mesh3d\"}], \"parcoords\": [{\"line\": {\"colorbar\": {\"outlinewidth\": 0, \"ticks\": \"\"}}, \"type\": \"parcoords\"}], \"pie\": [{\"automargin\": true, \"type\": \"pie\"}], \"scatter\": [{\"marker\": {\"colorbar\": {\"outlinewidth\": 0, \"ticks\": \"\"}}, \"type\": \"scatter\"}], \"scatter3d\": [{\"line\": {\"colorbar\": {\"outlinewidth\": 0, \"ticks\": \"\"}}, \"marker\": {\"colorbar\": {\"outlinewidth\": 0, \"ticks\": \"\"}}, \"type\": \"scatter3d\"}], \"scattercarpet\": [{\"marker\": {\"colorbar\": {\"outlinewidth\": 0, \"ticks\": \"\"}}, \"type\": \"scattercarpet\"}], \"scattergeo\": [{\"marker\": {\"colorbar\": {\"outlinewidth\": 0, \"ticks\": \"\"}}, \"type\": \"scattergeo\"}], \"scattergl\": [{\"marker\": {\"colorbar\": {\"outlinewidth\": 0, \"ticks\": \"\"}}, \"type\": \"scattergl\"}], \"scattermapbox\": [{\"marker\": {\"colorbar\": {\"outlinewidth\": 0, \"ticks\": \"\"}}, \"type\": \"scattermapbox\"}], \"scatterpolar\": [{\"marker\": {\"colorbar\": {\"outlinewidth\": 0, \"ticks\": \"\"}}, \"type\": \"scatterpolar\"}], \"scatterpolargl\": [{\"marker\": {\"colorbar\": {\"outlinewidth\": 0, \"ticks\": \"\"}}, \"type\": \"scatterpolargl\"}], \"scatterternary\": [{\"marker\": {\"colorbar\": {\"outlinewidth\": 0, \"ticks\": \"\"}}, \"type\": \"scatterternary\"}], \"surface\": [{\"colorbar\": {\"outlinewidth\": 0, \"ticks\": \"\"}, \"colorscale\": [[0.0, \"#0d0887\"], [0.1111111111111111, \"#46039f\"], [0.2222222222222222, \"#7201a8\"], [0.3333333333333333, \"#9c179e\"], [0.4444444444444444, \"#bd3786\"], [0.5555555555555556, \"#d8576b\"], [0.6666666666666666, \"#ed7953\"], [0.7777777777777778, \"#fb9f3a\"], [0.8888888888888888, \"#fdca26\"], [1.0, \"#f0f921\"]], \"type\": \"surface\"}], \"table\": [{\"cells\": {\"fill\": {\"color\": \"#EBF0F8\"}, \"line\": {\"color\": \"white\"}}, \"header\": {\"fill\": {\"color\": \"#C8D4E3\"}, \"line\": {\"color\": \"white\"}}, \"type\": \"table\"}]}, \"layout\": {\"annotationdefaults\": {\"arrowcolor\": \"#2a3f5f\", \"arrowhead\": 0, \"arrowwidth\": 1}, \"coloraxis\": {\"colorbar\": {\"outlinewidth\": 0, \"ticks\": \"\"}}, \"colorscale\": {\"diverging\": [[0, \"#8e0152\"], [0.1, \"#c51b7d\"], [0.2, \"#de77ae\"], [0.3, \"#f1b6da\"], [0.4, \"#fde0ef\"], [0.5, \"#f7f7f7\"], [0.6, \"#e6f5d0\"], [0.7, \"#b8e186\"], [0.8, \"#7fbc41\"], [0.9, \"#4d9221\"], [1, \"#276419\"]], \"sequential\": [[0.0, \"#0d0887\"], [0.1111111111111111, \"#46039f\"], [0.2222222222222222, \"#7201a8\"], [0.3333333333333333, \"#9c179e\"], [0.4444444444444444, \"#bd3786\"], [0.5555555555555556, \"#d8576b\"], [0.6666666666666666, \"#ed7953\"], [0.7777777777777778, \"#fb9f3a\"], [0.8888888888888888, \"#fdca26\"], [1.0, \"#f0f921\"]], \"sequentialminus\": [[0.0, \"#0d0887\"], [0.1111111111111111, \"#46039f\"], [0.2222222222222222, \"#7201a8\"], [0.3333333333333333, \"#9c179e\"], [0.4444444444444444, \"#bd3786\"], [0.5555555555555556, \"#d8576b\"], [0.6666666666666666, \"#ed7953\"], [0.7777777777777778, \"#fb9f3a\"], [0.8888888888888888, \"#fdca26\"], [1.0, \"#f0f921\"]]}, \"colorway\": [\"#636efa\", \"#EF553B\", \"#00cc96\", \"#ab63fa\", \"#FFA15A\", \"#19d3f3\", \"#FF6692\", \"#B6E880\", \"#FF97FF\", \"#FECB52\"], \"font\": {\"color\": \"#2a3f5f\"}, \"geo\": {\"bgcolor\": \"white\", \"lakecolor\": \"white\", \"landcolor\": \"#E5ECF6\", \"showlakes\": true, \"showland\": true, \"subunitcolor\": \"white\"}, \"hoverlabel\": {\"align\": \"left\"}, \"hovermode\": \"closest\", \"mapbox\": {\"style\": \"light\"}, \"paper_bgcolor\": \"white\", \"plot_bgcolor\": \"#E5ECF6\", \"polar\": {\"angularaxis\": {\"gridcolor\": \"white\", \"linecolor\": \"white\", \"ticks\": \"\"}, \"bgcolor\": \"#E5ECF6\", \"radialaxis\": {\"gridcolor\": \"white\", \"linecolor\": \"white\", \"ticks\": \"\"}}, \"scene\": {\"xaxis\": {\"backgroundcolor\": \"#E5ECF6\", \"gridcolor\": \"white\", \"gridwidth\": 2, \"linecolor\": \"white\", \"showbackground\": true, \"ticks\": \"\", \"zerolinecolor\": \"white\"}, \"yaxis\": {\"backgroundcolor\": \"#E5ECF6\", \"gridcolor\": \"white\", \"gridwidth\": 2, \"linecolor\": \"white\", \"showbackground\": true, \"ticks\": \"\", \"zerolinecolor\": \"white\"}, \"zaxis\": {\"backgroundcolor\": \"#E5ECF6\", \"gridcolor\": \"white\", \"gridwidth\": 2, \"linecolor\": \"white\", \"showbackground\": true, \"ticks\": \"\", \"zerolinecolor\": \"white\"}}, \"shapedefaults\": {\"line\": {\"color\": \"#2a3f5f\"}}, \"ternary\": {\"aaxis\": {\"gridcolor\": \"white\", \"linecolor\": \"white\", \"ticks\": \"\"}, \"baxis\": {\"gridcolor\": \"white\", \"linecolor\": \"white\", \"ticks\": \"\"}, \"bgcolor\": \"#E5ECF6\", \"caxis\": {\"gridcolor\": \"white\", \"linecolor\": \"white\", \"ticks\": \"\"}}, \"title\": {\"x\": 0.05}, \"xaxis\": {\"automargin\": true, \"gridcolor\": \"white\", \"linecolor\": \"white\", \"ticks\": \"\", \"title\": {\"standoff\": 15}, \"zerolinecolor\": \"white\", \"zerolinewidth\": 2}, \"yaxis\": {\"automargin\": true, \"gridcolor\": \"white\", \"linecolor\": \"white\", \"ticks\": \"\", \"title\": {\"standoff\": 15}, \"zerolinecolor\": \"white\", \"zerolinewidth\": 2}}}, \"title\": {\"text\": \"Van Gogh: 5 Most Prominent Colors Shown Proportionally\"}},\n",
       "                        {\"responsive\": true}\n",
       "                    ).then(function(){\n",
       "                            \n",
       "var gd = document.getElementById('a2e0c29f-774d-4ded-b041-b60042c97a81');\n",
       "var x = new MutationObserver(function (mutations, observer) {{\n",
       "        var display = window.getComputedStyle(gd).display;\n",
       "        if (!display || display === 'none') {{\n",
       "            console.log([gd, 'removed!']);\n",
       "            Plotly.purge(gd);\n",
       "            observer.disconnect();\n",
       "        }}\n",
       "}});\n",
       "\n",
       "// Listen for the removal of the full notebook cells\n",
       "var notebookContainer = gd.closest('#notebook-container');\n",
       "if (notebookContainer) {{\n",
       "    x.observe(notebookContainer, {childList: true});\n",
       "}}\n",
       "\n",
       "// Listen for the clearing of the current output cell\n",
       "var outputEl = gd.closest('.output');\n",
       "if (outputEl) {{\n",
       "    x.observe(outputEl, {childList: true});\n",
       "}}\n",
       "\n",
       "                        })\n",
       "                };\n",
       "                });\n",
       "            </script>\n",
       "        </div>"
      ]
     },
     "metadata": {},
     "output_type": "display_data"
    }
   ],
   "source": [
    "labels = ['1st', '2nd', '3rd', '4th', '5th']\n",
    "labels2 = [\"lable1\",\"lable2\",\"lable3\",\"lable4\",\"lable5\",]\n",
    "# Define color sets of paintings\n",
    "night_colors = ['rgb(56, 75, 126)', 'rgb(18, 36, 37)', 'rgb(34, 53, 101)',\n",
    "                'rgb(36, 55, 57)', 'rgb(6, 4, 4)']\n",
    "sunflowers_colors = ['rgb(177, 127, 38)', 'rgb(205, 152, 36)', 'rgb(99, 79, 37)',\n",
    "                     'rgb(129, 180, 179)', 'rgb(124, 103, 37)']\n",
    "irises_colors = ['rgb(33, 75, 99)', 'rgb(79, 129, 102)', 'rgb(151, 179, 100)',\n",
    "                 'rgb(175, 49, 35)', 'rgb(36, 73, 147)']\n",
    "cafe_colors =  ['rgb(146, 123, 21)', 'rgb(177, 180, 34)', 'rgb(206, 206, 40)',\n",
    "                'rgb(175, 51, 21)', 'rgb(35, 36, 21)']\n",
    "\n",
    "# Create subplots, using 'domain' type for pie charts\n",
    "specs = [[{'type':'domain'}, {'type':'domain'}], [{'type':'domain'}, {'type':'domain'}]]\n",
    "fig = make_subplots(rows=2, cols=2, specs=specs, horizontal_spacing=0,vertical_spacing=0.05)\n",
    "\n",
    "name = [\"name1\",\"name2\",\"name3\",\"name4\",\"name5\"]\n",
    "# Define pie charts\n",
    "fig.add_trace(go.Pie(labels=labels, values=[38, 27, 18, 10, 7], name=\"name\", title=\"ddd\",\n",
    "                     marker_colors=night_colors), 1, 1)\n",
    "fig.add_trace(go.Pie(labels=labels2, values=[28, 26, 21, 15, 10], name='Sunflowers',\n",
    "                     marker_colors=sunflowers_colors), 1, 2)\n",
    "fig.add_trace(go.Pie(labels=labels, values=[38, 19, 16, 14, 13], name='Irises',\n",
    "                     marker_colors=irises_colors), 2, 1)\n",
    "fig.add_trace(go.Pie(labels=labels, values=[31, 24, 19, 18, 8], name='The Night Café',\n",
    "                     marker_colors=cafe_colors), 2, 2)\n",
    "\n",
    "# Tune layout and hover info\n",
    "fig.update_traces(hoverinfo='label+value+percent+name', textinfo='label+percent+value',\n",
    "                 )#marker=dict(line=dict(color='#000000', width=1)))\n",
    "\n",
    "fig.update(layout_title_text='Van Gogh: 5 Most Prominent Colors Shown Proportionally',\n",
    "           layout_showlegend=True)\n",
    "\n",
    "fig.update_layout(\n",
    "    margin=dict(l=0, r=0, t=30, b=0),\n",
    "    #paper_bgcolor=\"lightcyan\",\n",
    "    #plot_bgcolor='lightsteelblue' #gainsboro, lightsteelblue lightsalmon lightgreen lightpink lightcyan lightblue black\n",
    ")\n",
    "\n",
    "\n",
    "\n",
    "fig = go.Figure(fig)\n",
    "fig.show()"
   ]
  },
  {
   "cell_type": "code",
   "execution_count": null,
   "metadata": {},
   "outputs": [],
   "source": [
    "\n",
    "fig = px.bar(df_num, x=\"EOD_delta\", y=\"PotentialValue\", color='Stage', orientation='h')\n",
    "fig.show()"
   ]
  },
  {
   "cell_type": "code",
   "execution_count": null,
   "metadata": {},
   "outputs": [],
   "source": [
    "group = \"Stage\"\n",
    "numerical_group = \"PotentialValue\"\n",
    "\n",
    "fig = go.Figure()\n",
    "for t in df_num[group].unique():\n",
    "    x = df_num[df_num[group]==t].groupby(\"ExpectedOrderDate\").sum()[[numerical_group]].index\n",
    "    y = list(df_num[df_num[group]==t].groupby(\"ExpectedOrderDate\").sum()[numerical_group])\n",
    "    fig.add_trace(go.Bar(x=x,y=y,name=t,customdata=[t]*len(x)))\n",
    "#fig.update_traces(customdata=dff[dff['Indicator Name'] == yaxis_column_name]['Country Name'])\n",
    "print(fig)\n",
    "fig.show()"
   ]
  },
  {
   "cell_type": "code",
   "execution_count": null,
   "metadata": {},
   "outputs": [],
   "source": [
    "x_axis = \"ProbPercent\"\n",
    "y_axis = \"PotentialValue\"\n",
    "\n",
    "# Build parcats dimensions\n",
    "categorical_dimensions = ['Type',\"LeadType\",\"Stage\"];\n",
    "\n",
    "dimensions = [dict(values=df_num[label], label=label) for label in categorical_dimensions]\n",
    "\n",
    "# Build colorscale\n",
    "color = np.zeros(len(df_num), dtype='uint8')\n",
    "colorscale = [[0, 'gray'], [1, 'firebrick']]\n",
    "\n",
    "# Build figure as FigureWidget\n",
    "fig = go.FigureWidget(\n",
    "    data=[go.Scatter(x=df_num[x_axis], y=df_num[y_axis],\n",
    "    marker={'color': 'gray'}, mode='markers', selected={'marker': {'color': 'firebrick'}},\n",
    "    unselected={'marker': {'opacity': 0.3}}), go.Parcats(\n",
    "        domain={'y': [0, 0.4]}, dimensions=dimensions,\n",
    "        line={'colorscale': colorscale, 'cmin': 0,\n",
    "              'cmax': 1, 'color': color, 'shape': 'hspline'})\n",
    "    ])\n",
    "\n",
    "fig.update_layout(\n",
    "        height=800, xaxis={'title': 'Horsepower'},\n",
    "        yaxis={'title': 'MPG', 'domain': [0.6, 1]},\n",
    "        dragmode='lasso', hovermode='closest',)\n",
    "\n",
    "# Update color callback\n",
    "def update_color(trace, points, state):\n",
    "    # Update scatter selection\n",
    "    fig.data[0].selectedpoints = points.point_inds\n",
    "\n",
    "    # Update parcats colors\n",
    "    new_color = np.zeros(len(df_num), dtype='uint8')\n",
    "    new_color[points.point_inds] = 1\n",
    "    fig.data[1].line.color = new_color\n",
    "\n",
    "# Register callback on scatter selection...\n",
    "fig.data[0].on_selection(update_color)\n",
    "# and parcats click\n",
    "fig.data[1].on_click(update_color)\n",
    "\n",
    "fig.update_layout(\n",
    "    margin=dict(l=0, r=15, t=0, b=10),\n",
    "    #paper_bgcolor=\"lightcyan\",\n",
    "    #plot_bgcolor='lightsteelblue' #gainsboro, lightsteelblue lightsalmon lightgreen lightpink lightcyan lightblue black\n",
    ")\n",
    "\n",
    "\n",
    "\n",
    "fig"
   ]
  },
  {
   "cell_type": "code",
   "execution_count": null,
   "metadata": {},
   "outputs": [],
   "source": [
    "ds = np.DataSource().open('https://raw.githubusercontent.com/plotly/datasets/master/mesh_dataset.txt')\n",
    "pts"
   ]
  },
  {
   "cell_type": "code",
   "execution_count": null,
   "metadata": {},
   "outputs": [],
   "source": [
    "for i,j in enumerate(df_num[group].unique()):\n",
    "    print(j)"
   ]
  },
  {
   "cell_type": "code",
   "execution_count": null,
   "metadata": {},
   "outputs": [],
   "source": [
    "pts = np.loadtxt(np.DataSource().open('https://raw.githubusercontent.com/plotly/datasets/master/mesh_dataset.txt'))\n",
    "\n",
    "fig = go.Figure()\n",
    "\n",
    "dff = df_num\n",
    "dff1 = df_filter(dff,'ProbPercent',None,None)\n",
    "dff2 = df_filter(dff1,'EOD_delta',0,None)\n",
    "dff3 = df_filter(dff2,'PotentialValue',0,400000)\n",
    "\n",
    "colordict = {0:\"cyan\",1:'green',2:\"blue\",3:\"red\",4:\"yellow\",5:\"gold\",6:'darkgreen'}\n",
    "\n",
    "group = 'New'\n",
    "for i,j in enumerate(df_num[group].unique()):\n",
    "    dff4 = dff3[dff3[group]==j]\n",
    "    x, y, z = dff4['EOD_delta'], dff4['ProbPercent'], dff4['PotentialValue']\n",
    "    fig.add_trace(go.Mesh3d(x=x, y=y, z=z,\n",
    "                       alphahull=4,\n",
    "                       opacity=0.2,\n",
    "                        name=j,\n",
    "                        showlegend=True,\n",
    "                       color=colordict[i]))\n",
    "\n",
    "\n",
    "\n",
    "\n",
    "\n",
    "\n",
    "fig.show()"
   ]
  },
  {
   "cell_type": "code",
   "execution_count": null,
   "metadata": {},
   "outputs": [],
   "source": []
  }
 ],
 "metadata": {
  "kernelspec": {
   "display_name": "Python 3",
   "language": "python",
   "name": "python3"
  },
  "language_info": {
   "codemirror_mode": {
    "name": "ipython",
    "version": 3
   },
   "file_extension": ".py",
   "mimetype": "text/x-python",
   "name": "python",
   "nbconvert_exporter": "python",
   "pygments_lexer": "ipython3",
   "version": "3.7.3"
  }
 },
 "nbformat": 4,
 "nbformat_minor": 2
}

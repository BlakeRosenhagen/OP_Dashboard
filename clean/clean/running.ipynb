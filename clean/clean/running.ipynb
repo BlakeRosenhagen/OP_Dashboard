{
 "cells": [
  {
   "cell_type": "code",
   "execution_count": 2,
   "metadata": {
    "scrolled": true
   },
   "outputs": [],
   "source": [
    "import index\n",
    "#import apptest"
   ]
  },
  {
   "cell_type": "code",
   "execution_count": null,
   "metadata": {},
   "outputs": [
    {
     "name": "stdout",
     "output_type": "stream",
     "text": [
      "Running on http://127.0.0.1:8050/\n",
      "Debugger PIN: 157-705-966\n",
      " * Serving Flask app \"index\" (lazy loading)\n",
      " * Environment: production\n",
      "   WARNING: This is a development server. Do not use it in a production deployment.\n",
      "   Use a production WSGI server instead.\n",
      " * Debug mode: on\n"
     ]
    }
   ],
   "source": [
    "run index"
   ]
  },
  {
   "cell_type": "code",
   "execution_count": null,
   "metadata": {},
   "outputs": [],
   "source": [
    "run apptest"
   ]
  },
  {
   "cell_type": "code",
   "execution_count": null,
   "metadata": {},
   "outputs": [],
   "source": [
    "dict = {\n",
    "  \"points\": [\n",
    "    {\n",
    "      \"curveNumber\": 0,\n",
    "      \"pointNumber\": 49,\n",
    "      \"pointIndex\": 49,\n",
    "      \"x\": 0.4,\n",
    "      \"y\": 60000,\n",
    "      \"customdata\": 50\n",
    "    },\n",
    "    {\n",
    "      \"curveNumber\": 0,\n",
    "      \"pointNumber\": 55,\n",
    "      \"pointIndex\": 55,\n",
    "      \"x\": 0.4,\n",
    "      \"y\": 20000,\n",
    "      \"customdata\": 56\n",
    "    },\n",
    "    {\n",
    "      \"curveNumber\": 0,\n",
    "      \"pointNumber\": 72,\n",
    "      \"pointIndex\": 72,\n",
    "      \"x\": 0.4,\n",
    "      \"y\": 300000,\n",
    "      \"customdata\": 73\n",
    "    },\n",
    "    {\n",
    "      \"curveNumber\": 0,\n",
    "      \"pointNumber\": 202,\n",
    "      \"pointIndex\": 202,\n",
    "      \"x\": 0.4,\n",
    "      \"y\": 30000,\n",
    "      \"customdata\": 205\n",
    "    },\n",
    "    {\n",
    "      \"curveNumber\": 0,\n",
    "      \"pointNumber\": 204,\n",
    "      \"pointIndex\": 204,\n",
    "      \"x\": 0.4,\n",
    "      \"y\": 200000,\n",
    "      \"customdata\": 207\n",
    "    },\n",
    "    {\n",
    "      \"curveNumber\": 0,\n",
    "      \"pointNumber\": 207,\n",
    "      \"pointIndex\": 207,\n",
    "      \"x\": 0.4,\n",
    "      \"y\": 200000,\n",
    "      \"customdata\": 210\n",
    "    },\n",
    "    {\n",
    "      \"curveNumber\": 0,\n",
    "      \"pointNumber\": 210,\n",
    "      \"pointIndex\": 210,\n",
    "      \"x\": 0.4,\n",
    "      \"y\": 20000,\n",
    "      \"customdata\": 213\n",
    "    }\n",
    "  ],\n",
    "  \"lassoPoints\": {\n",
    "    \"x\": [\n",
    "      0.3098902925531915,\n",
    "      0.3646015387537994,\n",
    "      0.41475351443769,\n",
    "      0.42159242021276594,\n",
    "      0.3965164323708207,\n",
    "      0.39879606762917935,\n",
    "      0.41019424392097265\n",
    "    ],\n",
    "    \"y\": [\n",
    "      1533077.4647887326,\n",
    "      774984.29035753,\n",
    "      341788.1906825572,\n",
    "      179339.65330444236,\n",
    "      -19208.55904658687,\n",
    "      -163607.2589382445,\n",
    "      -199706.9339111589\n",
    "    ]\n",
    "  }\n",
    "}\n",
    "dict = {\"points\":[{\"pointIndex\":23},{\"pointIndex\":49}]}"
   ]
  },
  {
   "cell_type": "code",
   "execution_count": null,
   "metadata": {},
   "outputs": [],
   "source": [
    "[i[\"pointIndex\"] for i in dict[\"points\"]]"
   ]
  },
  {
   "cell_type": "code",
   "execution_count": null,
   "metadata": {},
   "outputs": [],
   "source": []
  }
 ],
 "metadata": {
  "kernelspec": {
   "display_name": "Python 3",
   "language": "python",
   "name": "python3"
  },
  "language_info": {
   "codemirror_mode": {
    "name": "ipython",
    "version": 3
   },
   "file_extension": ".py",
   "mimetype": "text/x-python",
   "name": "python",
   "nbconvert_exporter": "python",
   "pygments_lexer": "ipython3",
   "version": "3.7.3"
  }
 },
 "nbformat": 4,
 "nbformat_minor": 2
}

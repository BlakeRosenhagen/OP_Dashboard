{
 "cells": [
  {
   "cell_type": "code",
   "execution_count": null,
   "metadata": {
    "scrolled": false
   },
   "outputs": [],
   "source": [
    "import index\n",
    "import homepage"
   ]
  },
  {
   "cell_type": "code",
   "execution_count": null,
   "metadata": {},
   "outputs": [],
   "source": [
    "pip uninstall dash"
   ]
  },
  {
   "cell_type": "code",
   "execution_count": null,
   "metadata": {},
   "outputs": [],
   "source": [
    "run index"
   ]
  },
  {
   "cell_type": "code",
   "execution_count": null,
   "metadata": {},
   "outputs": [],
   "source": [
    "import interact"
   ]
  },
  {
   "cell_type": "code",
   "execution_count": null,
   "metadata": {},
   "outputs": [],
   "source": [
    "run interact"
   ]
  },
  {
   "cell_type": "code",
   "execution_count": 1,
   "metadata": {},
   "outputs": [],
   "source": [
    "import pandas as pd\n",
    "import dash\n",
    "import dash_core_components as dcc\n",
    "import dash_html_components as html\n",
    "import dash_bootstrap_components as dbc\n",
    "from dash.dependencies import Output, Input\n",
    "import plotly.graph_objects as go\n",
    "import plotly.express as px\n",
    "from prep import get_data\n",
    "import numpy as np\n",
    "import json"
   ]
  },
  {
   "cell_type": "code",
   "execution_count": null,
   "metadata": {},
   "outputs": [],
   "source": [
    "dff = df_num[(df_num[\"ExpectedOrderDate\"] == \"2020-07-15\") & (df_num['Stage'] == \"On Hold\")]\n",
    "[i for i in dff.index]"
   ]
  },
  {
   "cell_type": "code",
   "execution_count": null,
   "metadata": {},
   "outputs": [],
   "source": [
    "layout = {\n",
    "   plot_bgcolor: \"rgba(0,0,0,0)\",\n",
    "   paper_bgcolor: \"rgba(0,0,0,0)\"\n",
    "}"
   ]
  },
  {
   "cell_type": "code",
   "execution_count": 76,
   "metadata": {},
   "outputs": [
    {
     "ename": "ValueError",
     "evalue": "\n    Invalid value of type 'builtins.float' received for the 'domain[1]' property of layout.yaxis\n        Received value: -0.04568181818181819\n\n    The 'domain[1]' property is a number and may be specified as:\n      - An int or float in the interval [0, 1]",
     "output_type": "error",
     "traceback": [
      "\u001b[1;31m---------------------------------------------------------------------------\u001b[0m",
      "\u001b[1;31mValueError\u001b[0m                                Traceback (most recent call last)",
      "\u001b[1;32m<ipython-input-76-26473c4f9227>\u001b[0m in \u001b[0;36m<module>\u001b[1;34m\u001b[0m\n\u001b[0;32m      1\u001b[0m \u001b[0mdff\u001b[0m \u001b[1;33m=\u001b[0m \u001b[0mpx\u001b[0m\u001b[1;33m.\u001b[0m\u001b[0mdata\u001b[0m\u001b[1;33m.\u001b[0m\u001b[0mgapminder\u001b[0m\u001b[1;33m(\u001b[0m\u001b[1;33m)\u001b[0m\u001b[1;33m\u001b[0m\u001b[1;33m\u001b[0m\u001b[0m\n\u001b[0;32m      2\u001b[0m fig = px.scatter(df_num, x='ProbPercent', y='PotentialValue', color='Stage', #size='pop',\n\u001b[1;32m----> 3\u001b[1;33m                 facet_col='Customer', facet_col_wrap=4)\n\u001b[0m\u001b[0;32m      4\u001b[0m \u001b[1;33m\u001b[0m\u001b[0m\n\u001b[0;32m      5\u001b[0m fig.update_layout(\n",
      "\u001b[1;32m~\\Anaconda3\\lib\\site-packages\\plotly\\express\\_chart_types.py\u001b[0m in \u001b[0;36mscatter\u001b[1;34m(data_frame, x, y, color, symbol, size, hover_name, hover_data, custom_data, text, facet_row, facet_col, facet_col_wrap, error_x, error_x_minus, error_y, error_y_minus, animation_frame, animation_group, category_orders, labels, color_discrete_sequence, color_discrete_map, color_continuous_scale, range_color, color_continuous_midpoint, symbol_sequence, symbol_map, opacity, size_max, marginal_x, marginal_y, trendline, trendline_color_override, log_x, log_y, range_x, range_y, render_mode, title, template, width, height)\u001b[0m\n\u001b[0;32m     53\u001b[0m     \u001b[0mmark\u001b[0m \u001b[1;32min\u001b[0m \u001b[1;36m2\u001b[0m\u001b[0mD\u001b[0m \u001b[0mspace\u001b[0m\u001b[1;33m.\u001b[0m\u001b[1;33m\u001b[0m\u001b[1;33m\u001b[0m\u001b[0m\n\u001b[0;32m     54\u001b[0m     \"\"\"\n\u001b[1;32m---> 55\u001b[1;33m     \u001b[1;32mreturn\u001b[0m \u001b[0mmake_figure\u001b[0m\u001b[1;33m(\u001b[0m\u001b[0margs\u001b[0m\u001b[1;33m=\u001b[0m\u001b[0mlocals\u001b[0m\u001b[1;33m(\u001b[0m\u001b[1;33m)\u001b[0m\u001b[1;33m,\u001b[0m \u001b[0mconstructor\u001b[0m\u001b[1;33m=\u001b[0m\u001b[0mgo\u001b[0m\u001b[1;33m.\u001b[0m\u001b[0mScatter\u001b[0m\u001b[1;33m)\u001b[0m\u001b[1;33m\u001b[0m\u001b[1;33m\u001b[0m\u001b[0m\n\u001b[0m\u001b[0;32m     56\u001b[0m \u001b[1;33m\u001b[0m\u001b[0m\n\u001b[0;32m     57\u001b[0m \u001b[1;33m\u001b[0m\u001b[0m\n",
      "\u001b[1;32m~\\Anaconda3\\lib\\site-packages\\plotly\\express\\_core.py\u001b[0m in \u001b[0;36mmake_figure\u001b[1;34m(args, constructor, trace_patch, layout_patch)\u001b[0m\n\u001b[0;32m   1572\u001b[0m \u001b[1;33m\u001b[0m\u001b[0m\n\u001b[0;32m   1573\u001b[0m     fig = init_figure(\n\u001b[1;32m-> 1574\u001b[1;33m         \u001b[0margs\u001b[0m\u001b[1;33m,\u001b[0m \u001b[0msubplot_type\u001b[0m\u001b[1;33m,\u001b[0m \u001b[0mframe_list\u001b[0m\u001b[1;33m,\u001b[0m \u001b[0mnrows\u001b[0m\u001b[1;33m,\u001b[0m \u001b[0mncols\u001b[0m\u001b[1;33m,\u001b[0m \u001b[0mcol_labels\u001b[0m\u001b[1;33m,\u001b[0m \u001b[0mrow_labels\u001b[0m\u001b[1;33m\u001b[0m\u001b[1;33m\u001b[0m\u001b[0m\n\u001b[0m\u001b[0;32m   1575\u001b[0m     )\n\u001b[0;32m   1576\u001b[0m \u001b[1;33m\u001b[0m\u001b[0m\n",
      "\u001b[1;32m~\\Anaconda3\\lib\\site-packages\\plotly\\express\\_core.py\u001b[0m in \u001b[0;36minit_figure\u001b[1;34m(args, subplot_type, frame_list, nrows, ncols, col_labels, row_labels)\u001b[0m\n\u001b[0;32m   1678\u001b[0m         \u001b[0mrow_heights\u001b[0m\u001b[1;33m=\u001b[0m\u001b[0mrow_heights\u001b[0m\u001b[1;33m,\u001b[0m\u001b[1;33m\u001b[0m\u001b[1;33m\u001b[0m\u001b[0m\n\u001b[0;32m   1679\u001b[0m         \u001b[0mcolumn_widths\u001b[0m\u001b[1;33m=\u001b[0m\u001b[0mcolumn_widths\u001b[0m\u001b[1;33m,\u001b[0m\u001b[1;33m\u001b[0m\u001b[1;33m\u001b[0m\u001b[0m\n\u001b[1;32m-> 1680\u001b[1;33m         \u001b[0mstart_cell\u001b[0m\u001b[1;33m=\u001b[0m\u001b[1;34m\"bottom-left\"\u001b[0m\u001b[1;33m,\u001b[0m\u001b[1;33m\u001b[0m\u001b[1;33m\u001b[0m\u001b[0m\n\u001b[0m\u001b[0;32m   1681\u001b[0m     )\n\u001b[0;32m   1682\u001b[0m \u001b[1;33m\u001b[0m\u001b[0m\n",
      "\u001b[1;32m~\\Anaconda3\\lib\\site-packages\\plotly\\subplots.py\u001b[0m in \u001b[0;36mmake_subplots\u001b[1;34m(rows, cols, shared_xaxes, shared_yaxes, start_cell, print_grid, horizontal_spacing, vertical_spacing, subplot_titles, column_widths, row_heights, specs, insets, column_titles, row_titles, x_title, y_title, **kwargs)\u001b[0m\n\u001b[0;32m    683\u001b[0m             \u001b[0msecondary_y\u001b[0m \u001b[1;33m=\u001b[0m \u001b[0mspec\u001b[0m\u001b[1;33m[\u001b[0m\u001b[1;34m\"secondary_y\"\u001b[0m\u001b[1;33m]\u001b[0m\u001b[1;33m\u001b[0m\u001b[1;33m\u001b[0m\u001b[0m\n\u001b[0;32m    684\u001b[0m             subplot_refs = _init_subplot(\n\u001b[1;32m--> 685\u001b[1;33m                 \u001b[0mlayout\u001b[0m\u001b[1;33m,\u001b[0m \u001b[0msubplot_type\u001b[0m\u001b[1;33m,\u001b[0m \u001b[0msecondary_y\u001b[0m\u001b[1;33m,\u001b[0m \u001b[0mx_domain\u001b[0m\u001b[1;33m,\u001b[0m \u001b[0my_domain\u001b[0m\u001b[1;33m,\u001b[0m \u001b[0mmax_subplot_ids\u001b[0m\u001b[1;33m\u001b[0m\u001b[1;33m\u001b[0m\u001b[0m\n\u001b[0m\u001b[0;32m    686\u001b[0m             )\n\u001b[0;32m    687\u001b[0m             \u001b[0mgrid_ref\u001b[0m\u001b[1;33m[\u001b[0m\u001b[0mr\u001b[0m\u001b[1;33m]\u001b[0m\u001b[1;33m[\u001b[0m\u001b[0mc\u001b[0m\u001b[1;33m]\u001b[0m \u001b[1;33m=\u001b[0m \u001b[0msubplot_refs\u001b[0m\u001b[1;33m\u001b[0m\u001b[1;33m\u001b[0m\u001b[0m\n",
      "\u001b[1;32m~\\Anaconda3\\lib\\site-packages\\plotly\\subplots.py\u001b[0m in \u001b[0;36m_init_subplot\u001b[1;34m(layout, subplot_type, secondary_y, x_domain, y_domain, max_subplot_ids)\u001b[0m\n\u001b[0;32m   1055\u001b[0m     \u001b[1;32mif\u001b[0m \u001b[0msubplot_type\u001b[0m \u001b[1;33m==\u001b[0m \u001b[1;34m\"xy\"\u001b[0m\u001b[1;33m:\u001b[0m\u001b[1;33m\u001b[0m\u001b[1;33m\u001b[0m\u001b[0m\n\u001b[0;32m   1056\u001b[0m         subplot_refs = _init_subplot_xy(\n\u001b[1;32m-> 1057\u001b[1;33m             \u001b[0mlayout\u001b[0m\u001b[1;33m,\u001b[0m \u001b[0msecondary_y\u001b[0m\u001b[1;33m,\u001b[0m \u001b[0mx_domain\u001b[0m\u001b[1;33m,\u001b[0m \u001b[0my_domain\u001b[0m\u001b[1;33m,\u001b[0m \u001b[0mmax_subplot_ids\u001b[0m\u001b[1;33m\u001b[0m\u001b[1;33m\u001b[0m\u001b[0m\n\u001b[0m\u001b[0;32m   1058\u001b[0m         )\n\u001b[0;32m   1059\u001b[0m     \u001b[1;32melif\u001b[0m \u001b[0msubplot_type\u001b[0m \u001b[1;32min\u001b[0m \u001b[0m_single_subplot_types\u001b[0m\u001b[1;33m:\u001b[0m\u001b[1;33m\u001b[0m\u001b[1;33m\u001b[0m\u001b[0m\n",
      "\u001b[1;32m~\\Anaconda3\\lib\\site-packages\\plotly\\subplots.py\u001b[0m in \u001b[0;36m_init_subplot_xy\u001b[1;34m(layout, secondary_y, x_domain, y_domain, max_subplot_ids)\u001b[0m\n\u001b[0;32m    919\u001b[0m \u001b[1;33m\u001b[0m\u001b[0m\n\u001b[0;32m    920\u001b[0m     \u001b[0mlayout\u001b[0m\u001b[1;33m[\u001b[0m\u001b[0mxaxis_name\u001b[0m\u001b[1;33m]\u001b[0m \u001b[1;33m=\u001b[0m \u001b[0mx_axis\u001b[0m\u001b[1;33m\u001b[0m\u001b[1;33m\u001b[0m\u001b[0m\n\u001b[1;32m--> 921\u001b[1;33m     \u001b[0mlayout\u001b[0m\u001b[1;33m[\u001b[0m\u001b[0myaxis_name\u001b[0m\u001b[1;33m]\u001b[0m \u001b[1;33m=\u001b[0m \u001b[0my_axis\u001b[0m\u001b[1;33m\u001b[0m\u001b[1;33m\u001b[0m\u001b[0m\n\u001b[0m\u001b[0;32m    922\u001b[0m \u001b[1;33m\u001b[0m\u001b[0m\n\u001b[0;32m    923\u001b[0m     subplot_refs = [\n",
      "\u001b[1;32m~\\Anaconda3\\lib\\site-packages\\plotly\\basedatatypes.py\u001b[0m in \u001b[0;36m__setitem__\u001b[1;34m(self, prop, value)\u001b[0m\n\u001b[0;32m   4435\u001b[0m         \u001b[1;32mif\u001b[0m \u001b[0mmatch\u001b[0m \u001b[1;32mis\u001b[0m \u001b[1;32mNone\u001b[0m\u001b[1;33m:\u001b[0m\u001b[1;33m\u001b[0m\u001b[1;33m\u001b[0m\u001b[0m\n\u001b[0;32m   4436\u001b[0m             \u001b[1;31m# Set as ordinary property\u001b[0m\u001b[1;33m\u001b[0m\u001b[1;33m\u001b[0m\u001b[1;33m\u001b[0m\u001b[0m\n\u001b[1;32m-> 4437\u001b[1;33m             \u001b[0msuper\u001b[0m\u001b[1;33m(\u001b[0m\u001b[0mBaseLayoutHierarchyType\u001b[0m\u001b[1;33m,\u001b[0m \u001b[0mself\u001b[0m\u001b[1;33m)\u001b[0m\u001b[1;33m.\u001b[0m\u001b[0m__setitem__\u001b[0m\u001b[1;33m(\u001b[0m\u001b[0mprop\u001b[0m\u001b[1;33m,\u001b[0m \u001b[0mvalue\u001b[0m\u001b[1;33m)\u001b[0m\u001b[1;33m\u001b[0m\u001b[1;33m\u001b[0m\u001b[0m\n\u001b[0m\u001b[0;32m   4438\u001b[0m         \u001b[1;32melse\u001b[0m\u001b[1;33m:\u001b[0m\u001b[1;33m\u001b[0m\u001b[1;33m\u001b[0m\u001b[0m\n\u001b[0;32m   4439\u001b[0m             \u001b[1;31m# Set as subplotid property\u001b[0m\u001b[1;33m\u001b[0m\u001b[1;33m\u001b[0m\u001b[1;33m\u001b[0m\u001b[0m\n",
      "\u001b[1;32m~\\Anaconda3\\lib\\site-packages\\plotly\\basedatatypes.py\u001b[0m in \u001b[0;36m__setitem__\u001b[1;34m(self, prop, value)\u001b[0m\n\u001b[0;32m   3480\u001b[0m             \u001b[1;31m# ### Handle compound property ###\u001b[0m\u001b[1;33m\u001b[0m\u001b[1;33m\u001b[0m\u001b[1;33m\u001b[0m\u001b[0m\n\u001b[0;32m   3481\u001b[0m             \u001b[1;32mif\u001b[0m \u001b[0misinstance\u001b[0m\u001b[1;33m(\u001b[0m\u001b[0mvalidator\u001b[0m\u001b[1;33m,\u001b[0m \u001b[0mCompoundValidator\u001b[0m\u001b[1;33m)\u001b[0m\u001b[1;33m:\u001b[0m\u001b[1;33m\u001b[0m\u001b[1;33m\u001b[0m\u001b[0m\n\u001b[1;32m-> 3482\u001b[1;33m                 \u001b[0mself\u001b[0m\u001b[1;33m.\u001b[0m\u001b[0m_set_compound_prop\u001b[0m\u001b[1;33m(\u001b[0m\u001b[0mprop\u001b[0m\u001b[1;33m,\u001b[0m \u001b[0mvalue\u001b[0m\u001b[1;33m)\u001b[0m\u001b[1;33m\u001b[0m\u001b[1;33m\u001b[0m\u001b[0m\n\u001b[0m\u001b[0;32m   3483\u001b[0m \u001b[1;33m\u001b[0m\u001b[0m\n\u001b[0;32m   3484\u001b[0m             \u001b[1;31m# ### Handle compound array property ###\u001b[0m\u001b[1;33m\u001b[0m\u001b[1;33m\u001b[0m\u001b[1;33m\u001b[0m\u001b[0m\n",
      "\u001b[1;32m~\\Anaconda3\\lib\\site-packages\\plotly\\basedatatypes.py\u001b[0m in \u001b[0;36m_set_compound_prop\u001b[1;34m(self, prop, val)\u001b[0m\n\u001b[0;32m   3834\u001b[0m         \u001b[1;31m# ------------\u001b[0m\u001b[1;33m\u001b[0m\u001b[1;33m\u001b[0m\u001b[1;33m\u001b[0m\u001b[0m\n\u001b[0;32m   3835\u001b[0m         \u001b[0mvalidator\u001b[0m \u001b[1;33m=\u001b[0m \u001b[0mself\u001b[0m\u001b[1;33m.\u001b[0m\u001b[0m_validators\u001b[0m\u001b[1;33m.\u001b[0m\u001b[0mget\u001b[0m\u001b[1;33m(\u001b[0m\u001b[0mprop\u001b[0m\u001b[1;33m)\u001b[0m\u001b[1;33m\u001b[0m\u001b[1;33m\u001b[0m\u001b[0m\n\u001b[1;32m-> 3836\u001b[1;33m         \u001b[0mval\u001b[0m \u001b[1;33m=\u001b[0m \u001b[0mvalidator\u001b[0m\u001b[1;33m.\u001b[0m\u001b[0mvalidate_coerce\u001b[0m\u001b[1;33m(\u001b[0m\u001b[0mval\u001b[0m\u001b[1;33m,\u001b[0m \u001b[0mskip_invalid\u001b[0m\u001b[1;33m=\u001b[0m\u001b[0mself\u001b[0m\u001b[1;33m.\u001b[0m\u001b[0m_skip_invalid\u001b[0m\u001b[1;33m)\u001b[0m\u001b[1;33m\u001b[0m\u001b[1;33m\u001b[0m\u001b[0m\n\u001b[0m\u001b[0;32m   3837\u001b[0m \u001b[1;33m\u001b[0m\u001b[0m\n\u001b[0;32m   3838\u001b[0m         \u001b[1;31m# Save deep copies of current and new states\u001b[0m\u001b[1;33m\u001b[0m\u001b[1;33m\u001b[0m\u001b[1;33m\u001b[0m\u001b[0m\n",
      "\u001b[1;32m~\\Anaconda3\\lib\\site-packages\\_plotly_utils\\basevalidators.py\u001b[0m in \u001b[0;36mvalidate_coerce\u001b[1;34m(self, v, skip_invalid)\u001b[0m\n\u001b[0;32m   2442\u001b[0m \u001b[1;33m\u001b[0m\u001b[0m\n\u001b[0;32m   2443\u001b[0m         \u001b[1;32melif\u001b[0m \u001b[0misinstance\u001b[0m\u001b[1;33m(\u001b[0m\u001b[0mv\u001b[0m\u001b[1;33m,\u001b[0m \u001b[0mdict\u001b[0m\u001b[1;33m)\u001b[0m\u001b[1;33m:\u001b[0m\u001b[1;33m\u001b[0m\u001b[1;33m\u001b[0m\u001b[0m\n\u001b[1;32m-> 2444\u001b[1;33m             \u001b[0mv\u001b[0m \u001b[1;33m=\u001b[0m \u001b[0mself\u001b[0m\u001b[1;33m.\u001b[0m\u001b[0mdata_class\u001b[0m\u001b[1;33m(\u001b[0m\u001b[0mv\u001b[0m\u001b[1;33m,\u001b[0m \u001b[0mskip_invalid\u001b[0m\u001b[1;33m=\u001b[0m\u001b[0mskip_invalid\u001b[0m\u001b[1;33m)\u001b[0m\u001b[1;33m\u001b[0m\u001b[1;33m\u001b[0m\u001b[0m\n\u001b[0m\u001b[0;32m   2445\u001b[0m \u001b[1;33m\u001b[0m\u001b[0m\n\u001b[0;32m   2446\u001b[0m         \u001b[1;32melif\u001b[0m \u001b[0misinstance\u001b[0m\u001b[1;33m(\u001b[0m\u001b[0mv\u001b[0m\u001b[1;33m,\u001b[0m \u001b[0mself\u001b[0m\u001b[1;33m.\u001b[0m\u001b[0mdata_class\u001b[0m\u001b[1;33m)\u001b[0m\u001b[1;33m:\u001b[0m\u001b[1;33m\u001b[0m\u001b[1;33m\u001b[0m\u001b[0m\n",
      "\u001b[1;32m~\\Anaconda3\\lib\\site-packages\\plotly\\graph_objs\\layout\\__init__.py\u001b[0m in \u001b[0;36m__init__\u001b[1;34m(self, arg, anchor, automargin, autorange, calendar, categoryarray, categoryarraysrc, categoryorder, color, constrain, constraintoward, dividercolor, dividerwidth, domain, dtick, exponentformat, fixedrange, gridcolor, gridwidth, hoverformat, layer, linecolor, linewidth, matches, mirror, nticks, overlaying, position, range, rangemode, scaleanchor, scaleratio, separatethousands, showdividers, showexponent, showgrid, showline, showspikes, showticklabels, showtickprefix, showticksuffix, side, spikecolor, spikedash, spikemode, spikesnap, spikethickness, tick0, tickangle, tickcolor, tickfont, tickformat, tickformatstops, tickformatstopdefaults, ticklen, tickmode, tickprefix, ticks, tickson, ticksuffix, ticktext, ticktextsrc, tickvals, tickvalssrc, tickwidth, title, titlefont, type, uirevision, visible, zeroline, zerolinecolor, zerolinewidth, **kwargs)\u001b[0m\n\u001b[0;32m   3053\u001b[0m         \u001b[0mself\u001b[0m\u001b[1;33m[\u001b[0m\u001b[1;34m\"dividerwidth\"\u001b[0m\u001b[1;33m]\u001b[0m \u001b[1;33m=\u001b[0m \u001b[0mdividerwidth\u001b[0m \u001b[1;32mif\u001b[0m \u001b[0mdividerwidth\u001b[0m \u001b[1;32mis\u001b[0m \u001b[1;32mnot\u001b[0m \u001b[1;32mNone\u001b[0m \u001b[1;32melse\u001b[0m \u001b[0m_v\u001b[0m\u001b[1;33m\u001b[0m\u001b[1;33m\u001b[0m\u001b[0m\n\u001b[0;32m   3054\u001b[0m         \u001b[0m_v\u001b[0m \u001b[1;33m=\u001b[0m \u001b[0marg\u001b[0m\u001b[1;33m.\u001b[0m\u001b[0mpop\u001b[0m\u001b[1;33m(\u001b[0m\u001b[1;34m\"domain\"\u001b[0m\u001b[1;33m,\u001b[0m \u001b[1;32mNone\u001b[0m\u001b[1;33m)\u001b[0m\u001b[1;33m\u001b[0m\u001b[1;33m\u001b[0m\u001b[0m\n\u001b[1;32m-> 3055\u001b[1;33m         \u001b[0mself\u001b[0m\u001b[1;33m[\u001b[0m\u001b[1;34m\"domain\"\u001b[0m\u001b[1;33m]\u001b[0m \u001b[1;33m=\u001b[0m \u001b[0mdomain\u001b[0m \u001b[1;32mif\u001b[0m \u001b[0mdomain\u001b[0m \u001b[1;32mis\u001b[0m \u001b[1;32mnot\u001b[0m \u001b[1;32mNone\u001b[0m \u001b[1;32melse\u001b[0m \u001b[0m_v\u001b[0m\u001b[1;33m\u001b[0m\u001b[1;33m\u001b[0m\u001b[0m\n\u001b[0m\u001b[0;32m   3056\u001b[0m         \u001b[0m_v\u001b[0m \u001b[1;33m=\u001b[0m \u001b[0marg\u001b[0m\u001b[1;33m.\u001b[0m\u001b[0mpop\u001b[0m\u001b[1;33m(\u001b[0m\u001b[1;34m\"dtick\"\u001b[0m\u001b[1;33m,\u001b[0m \u001b[1;32mNone\u001b[0m\u001b[1;33m)\u001b[0m\u001b[1;33m\u001b[0m\u001b[1;33m\u001b[0m\u001b[0m\n\u001b[0;32m   3057\u001b[0m         \u001b[0mself\u001b[0m\u001b[1;33m[\u001b[0m\u001b[1;34m\"dtick\"\u001b[0m\u001b[1;33m]\u001b[0m \u001b[1;33m=\u001b[0m \u001b[0mdtick\u001b[0m \u001b[1;32mif\u001b[0m \u001b[0mdtick\u001b[0m \u001b[1;32mis\u001b[0m \u001b[1;32mnot\u001b[0m \u001b[1;32mNone\u001b[0m \u001b[1;32melse\u001b[0m \u001b[0m_v\u001b[0m\u001b[1;33m\u001b[0m\u001b[1;33m\u001b[0m\u001b[0m\n",
      "\u001b[1;32m~\\Anaconda3\\lib\\site-packages\\plotly\\basedatatypes.py\u001b[0m in \u001b[0;36m__setitem__\u001b[1;34m(self, prop, value)\u001b[0m\n\u001b[0;32m   3488\u001b[0m             \u001b[1;31m# ### Handle simple property ###\u001b[0m\u001b[1;33m\u001b[0m\u001b[1;33m\u001b[0m\u001b[1;33m\u001b[0m\u001b[0m\n\u001b[0;32m   3489\u001b[0m             \u001b[1;32melse\u001b[0m\u001b[1;33m:\u001b[0m\u001b[1;33m\u001b[0m\u001b[1;33m\u001b[0m\u001b[0m\n\u001b[1;32m-> 3490\u001b[1;33m                 \u001b[0mself\u001b[0m\u001b[1;33m.\u001b[0m\u001b[0m_set_prop\u001b[0m\u001b[1;33m(\u001b[0m\u001b[0mprop\u001b[0m\u001b[1;33m,\u001b[0m \u001b[0mvalue\u001b[0m\u001b[1;33m)\u001b[0m\u001b[1;33m\u001b[0m\u001b[1;33m\u001b[0m\u001b[0m\n\u001b[0m\u001b[0;32m   3491\u001b[0m \u001b[1;33m\u001b[0m\u001b[0m\n\u001b[0;32m   3492\u001b[0m         \u001b[1;31m# Handle non-scalar case\u001b[0m\u001b[1;33m\u001b[0m\u001b[1;33m\u001b[0m\u001b[1;33m\u001b[0m\u001b[0m\n",
      "\u001b[1;32m~\\Anaconda3\\lib\\site-packages\\plotly\\basedatatypes.py\u001b[0m in \u001b[0;36m_set_prop\u001b[1;34m(self, prop, val)\u001b[0m\n\u001b[0;32m   3775\u001b[0m                 \u001b[1;32mreturn\u001b[0m\u001b[1;33m\u001b[0m\u001b[1;33m\u001b[0m\u001b[0m\n\u001b[0;32m   3776\u001b[0m             \u001b[1;32melse\u001b[0m\u001b[1;33m:\u001b[0m\u001b[1;33m\u001b[0m\u001b[1;33m\u001b[0m\u001b[0m\n\u001b[1;32m-> 3777\u001b[1;33m                 \u001b[1;32mraise\u001b[0m \u001b[0merr\u001b[0m\u001b[1;33m\u001b[0m\u001b[1;33m\u001b[0m\u001b[0m\n\u001b[0m\u001b[0;32m   3778\u001b[0m \u001b[1;33m\u001b[0m\u001b[0m\n\u001b[0;32m   3779\u001b[0m         \u001b[1;31m# val is None\u001b[0m\u001b[1;33m\u001b[0m\u001b[1;33m\u001b[0m\u001b[1;33m\u001b[0m\u001b[0m\n",
      "\u001b[1;32m~\\Anaconda3\\lib\\site-packages\\plotly\\basedatatypes.py\u001b[0m in \u001b[0;36m_set_prop\u001b[1;34m(self, prop, val)\u001b[0m\n\u001b[0;32m   3770\u001b[0m         \u001b[0mvalidator\u001b[0m \u001b[1;33m=\u001b[0m \u001b[0mself\u001b[0m\u001b[1;33m.\u001b[0m\u001b[0m_validators\u001b[0m\u001b[1;33m.\u001b[0m\u001b[0mget\u001b[0m\u001b[1;33m(\u001b[0m\u001b[0mprop\u001b[0m\u001b[1;33m)\u001b[0m\u001b[1;33m\u001b[0m\u001b[1;33m\u001b[0m\u001b[0m\n\u001b[0;32m   3771\u001b[0m         \u001b[1;32mtry\u001b[0m\u001b[1;33m:\u001b[0m\u001b[1;33m\u001b[0m\u001b[1;33m\u001b[0m\u001b[0m\n\u001b[1;32m-> 3772\u001b[1;33m             \u001b[0mval\u001b[0m \u001b[1;33m=\u001b[0m \u001b[0mvalidator\u001b[0m\u001b[1;33m.\u001b[0m\u001b[0mvalidate_coerce\u001b[0m\u001b[1;33m(\u001b[0m\u001b[0mval\u001b[0m\u001b[1;33m)\u001b[0m\u001b[1;33m\u001b[0m\u001b[1;33m\u001b[0m\u001b[0m\n\u001b[0m\u001b[0;32m   3773\u001b[0m         \u001b[1;32mexcept\u001b[0m \u001b[0mValueError\u001b[0m \u001b[1;32mas\u001b[0m \u001b[0merr\u001b[0m\u001b[1;33m:\u001b[0m\u001b[1;33m\u001b[0m\u001b[1;33m\u001b[0m\u001b[0m\n\u001b[0;32m   3774\u001b[0m             \u001b[1;32mif\u001b[0m \u001b[0mself\u001b[0m\u001b[1;33m.\u001b[0m\u001b[0m_skip_invalid\u001b[0m\u001b[1;33m:\u001b[0m\u001b[1;33m\u001b[0m\u001b[1;33m\u001b[0m\u001b[0m\n",
      "\u001b[1;32m~\\Anaconda3\\lib\\site-packages\\_plotly_utils\\basevalidators.py\u001b[0m in \u001b[0;36mvalidate_coerce\u001b[1;34m(self, v)\u001b[0m\n\u001b[0;32m   2170\u001b[0m             \u001b[1;32mfor\u001b[0m \u001b[0mi\u001b[0m\u001b[1;33m,\u001b[0m \u001b[1;33m(\u001b[0m\u001b[0mel\u001b[0m\u001b[1;33m,\u001b[0m \u001b[0mvalidator\u001b[0m\u001b[1;33m)\u001b[0m \u001b[1;32min\u001b[0m \u001b[0menumerate\u001b[0m\u001b[1;33m(\u001b[0m\u001b[0mzip\u001b[0m\u001b[1;33m(\u001b[0m\u001b[0mv\u001b[0m\u001b[1;33m,\u001b[0m \u001b[0mself\u001b[0m\u001b[1;33m.\u001b[0m\u001b[0mitem_validators\u001b[0m\u001b[1;33m)\u001b[0m\u001b[1;33m)\u001b[0m\u001b[1;33m:\u001b[0m\u001b[1;33m\u001b[0m\u001b[1;33m\u001b[0m\u001b[0m\n\u001b[0;32m   2171\u001b[0m                 \u001b[1;31m# Validate coerce elements\u001b[0m\u001b[1;33m\u001b[0m\u001b[1;33m\u001b[0m\u001b[1;33m\u001b[0m\u001b[0m\n\u001b[1;32m-> 2172\u001b[1;33m                 \u001b[0mv\u001b[0m\u001b[1;33m[\u001b[0m\u001b[0mi\u001b[0m\u001b[1;33m]\u001b[0m \u001b[1;33m=\u001b[0m \u001b[0mvalidator\u001b[0m\u001b[1;33m.\u001b[0m\u001b[0mvalidate_coerce\u001b[0m\u001b[1;33m(\u001b[0m\u001b[0mel\u001b[0m\u001b[1;33m)\u001b[0m\u001b[1;33m\u001b[0m\u001b[1;33m\u001b[0m\u001b[0m\n\u001b[0m\u001b[0;32m   2173\u001b[0m \u001b[1;33m\u001b[0m\u001b[0m\n\u001b[0;32m   2174\u001b[0m         \u001b[1;32mreturn\u001b[0m \u001b[0mv\u001b[0m\u001b[1;33m\u001b[0m\u001b[1;33m\u001b[0m\u001b[0m\n",
      "\u001b[1;32m~\\Anaconda3\\lib\\site-packages\\_plotly_utils\\basevalidators.py\u001b[0m in \u001b[0;36mvalidate_coerce\u001b[1;34m(self, v)\u001b[0m\n\u001b[0;32m    785\u001b[0m             \u001b[1;32mif\u001b[0m \u001b[0mself\u001b[0m\u001b[1;33m.\u001b[0m\u001b[0mhas_min_max\u001b[0m\u001b[1;33m:\u001b[0m\u001b[1;33m\u001b[0m\u001b[1;33m\u001b[0m\u001b[0m\n\u001b[0;32m    786\u001b[0m                 \u001b[1;32mif\u001b[0m \u001b[1;32mnot\u001b[0m \u001b[1;33m(\u001b[0m\u001b[0mself\u001b[0m\u001b[1;33m.\u001b[0m\u001b[0mmin_val\u001b[0m \u001b[1;33m<=\u001b[0m \u001b[0mv\u001b[0m \u001b[1;33m<=\u001b[0m \u001b[0mself\u001b[0m\u001b[1;33m.\u001b[0m\u001b[0mmax_val\u001b[0m\u001b[1;33m)\u001b[0m\u001b[1;33m:\u001b[0m\u001b[1;33m\u001b[0m\u001b[1;33m\u001b[0m\u001b[0m\n\u001b[1;32m--> 787\u001b[1;33m                     \u001b[0mself\u001b[0m\u001b[1;33m.\u001b[0m\u001b[0mraise_invalid_val\u001b[0m\u001b[1;33m(\u001b[0m\u001b[0mv\u001b[0m\u001b[1;33m)\u001b[0m\u001b[1;33m\u001b[0m\u001b[1;33m\u001b[0m\u001b[0m\n\u001b[0m\u001b[0;32m    788\u001b[0m         \u001b[1;32mreturn\u001b[0m \u001b[0mv\u001b[0m\u001b[1;33m\u001b[0m\u001b[1;33m\u001b[0m\u001b[0m\n\u001b[0;32m    789\u001b[0m \u001b[1;33m\u001b[0m\u001b[0m\n",
      "\u001b[1;32m~\\Anaconda3\\lib\\site-packages\\_plotly_utils\\basevalidators.py\u001b[0m in \u001b[0;36mraise_invalid_val\u001b[1;34m(self, v, inds)\u001b[0m\n\u001b[0;32m    281\u001b[0m                 \u001b[0mtyp\u001b[0m\u001b[1;33m=\u001b[0m\u001b[0mtype_str\u001b[0m\u001b[1;33m(\u001b[0m\u001b[0mv\u001b[0m\u001b[1;33m)\u001b[0m\u001b[1;33m,\u001b[0m\u001b[1;33m\u001b[0m\u001b[1;33m\u001b[0m\u001b[0m\n\u001b[0;32m    282\u001b[0m                 \u001b[0mv\u001b[0m\u001b[1;33m=\u001b[0m\u001b[0mrepr\u001b[0m\u001b[1;33m(\u001b[0m\u001b[0mv\u001b[0m\u001b[1;33m)\u001b[0m\u001b[1;33m,\u001b[0m\u001b[1;33m\u001b[0m\u001b[1;33m\u001b[0m\u001b[0m\n\u001b[1;32m--> 283\u001b[1;33m                 \u001b[0mvalid_clr_desc\u001b[0m\u001b[1;33m=\u001b[0m\u001b[0mself\u001b[0m\u001b[1;33m.\u001b[0m\u001b[0mdescription\u001b[0m\u001b[1;33m(\u001b[0m\u001b[1;33m)\u001b[0m\u001b[1;33m,\u001b[0m\u001b[1;33m\u001b[0m\u001b[1;33m\u001b[0m\u001b[0m\n\u001b[0m\u001b[0;32m    284\u001b[0m             )\n\u001b[0;32m    285\u001b[0m         )\n",
      "\u001b[1;31mValueError\u001b[0m: \n    Invalid value of type 'builtins.float' received for the 'domain[1]' property of layout.yaxis\n        Received value: -0.04568181818181819\n\n    The 'domain[1]' property is a number and may be specified as:\n      - An int or float in the interval [0, 1]"
     ]
    }
   ],
   "source": [
    "dff = px.data.gapminder()\n",
    "fig = px.scatter(df_num, x='ProbPercent', y='PotentialValue', color='Stage', #size='pop',\n",
    "                facet_col='Customer', facet_col_wrap=4)\n",
    "\n",
    "fig.update_layout(\n",
    "    \n",
    "    #margin=dict(l=0, r=0, t=0, b=0),\n",
    "    paper_bgcolor=\"lightcyan\",\n",
    "    plot_bgcolor='lightsteelblue' #gainsboro, lightsteelblue lightsalmon lightgreen lightpink lightcyan lightblue black\n",
    ")\n",
    "\n",
    "fig.show()"
   ]
  },
  {
   "cell_type": "code",
   "execution_count": 2,
   "metadata": {},
   "outputs": [
    {
     "name": "stderr",
     "output_type": "stream",
     "text": [
      "C:\\Users\\blake\\Documents\\Future\\GitHub_Repo_Projects\\awc\\clean\\clean\\prep.py:116: SettingWithCopyWarning:\n",
      "\n",
      "\n",
      "A value is trying to be set on a copy of a slice from a DataFrame.\n",
      "Try using .loc[row_indexer,col_indexer] = value instead\n",
      "\n",
      "See the caveats in the documentation: http://pandas.pydata.org/pandas-docs/stable/indexing.html#indexing-view-versus-copy\n",
      "\n",
      "C:\\Users\\blake\\Documents\\Future\\GitHub_Repo_Projects\\awc\\clean\\clean\\prep.py:117: SettingWithCopyWarning:\n",
      "\n",
      "\n",
      "A value is trying to be set on a copy of a slice from a DataFrame.\n",
      "Try using .loc[row_indexer,col_indexer] = value instead\n",
      "\n",
      "See the caveats in the documentation: http://pandas.pydata.org/pandas-docs/stable/indexing.html#indexing-view-versus-copy\n",
      "\n",
      "C:\\Users\\blake\\Documents\\Future\\GitHub_Repo_Projects\\awc\\clean\\clean\\prep.py:118: SettingWithCopyWarning:\n",
      "\n",
      "\n",
      "A value is trying to be set on a copy of a slice from a DataFrame.\n",
      "Try using .loc[row_indexer,col_indexer] = value instead\n",
      "\n",
      "See the caveats in the documentation: http://pandas.pydata.org/pandas-docs/stable/indexing.html#indexing-view-versus-copy\n",
      "\n",
      "C:\\Users\\blake\\Documents\\Future\\GitHub_Repo_Projects\\awc\\clean\\clean\\prep.py:120: SettingWithCopyWarning:\n",
      "\n",
      "\n",
      "A value is trying to be set on a copy of a slice from a DataFrame.\n",
      "Try using .loc[row_indexer,col_indexer] = value instead\n",
      "\n",
      "See the caveats in the documentation: http://pandas.pydata.org/pandas-docs/stable/indexing.html#indexing-view-versus-copy\n",
      "\n",
      "C:\\Users\\blake\\Documents\\Future\\GitHub_Repo_Projects\\awc\\clean\\clean\\prep.py:124: SettingWithCopyWarning:\n",
      "\n",
      "\n",
      "A value is trying to be set on a copy of a slice from a DataFrame.\n",
      "Try using .loc[row_indexer,col_indexer] = value instead\n",
      "\n",
      "See the caveats in the documentation: http://pandas.pydata.org/pandas-docs/stable/indexing.html#indexing-view-versus-copy\n",
      "\n",
      "C:\\Users\\blake\\Documents\\Future\\GitHub_Repo_Projects\\awc\\clean\\clean\\prep.py:125: SettingWithCopyWarning:\n",
      "\n",
      "\n",
      "A value is trying to be set on a copy of a slice from a DataFrame.\n",
      "Try using .loc[row_indexer,col_indexer] = value instead\n",
      "\n",
      "See the caveats in the documentation: http://pandas.pydata.org/pandas-docs/stable/indexing.html#indexing-view-versus-copy\n",
      "\n",
      "C:\\Users\\blake\\Documents\\Future\\GitHub_Repo_Projects\\awc\\clean\\clean\\prep.py:127: SettingWithCopyWarning:\n",
      "\n",
      "\n",
      "A value is trying to be set on a copy of a slice from a DataFrame.\n",
      "Try using .loc[row_indexer,col_indexer] = value instead\n",
      "\n",
      "See the caveats in the documentation: http://pandas.pydata.org/pandas-docs/stable/indexing.html#indexing-view-versus-copy\n",
      "\n",
      "C:\\Users\\blake\\Anaconda3\\lib\\site-packages\\pandas\\core\\frame.py:6692: FutureWarning:\n",
      "\n",
      "Sorting because non-concatenation axis is not aligned. A future version\n",
      "of pandas will change to not sort by default.\n",
      "\n",
      "To accept the future behavior, pass 'sort=False'.\n",
      "\n",
      "To retain the current behavior and silence the warning, pass 'sort=True'.\n",
      "\n",
      "\n"
     ]
    }
   ],
   "source": [
    " df, df_num, df_noncumun_whole, noncumun_dfs = get_data()"
   ]
  },
  {
   "cell_type": "code",
   "execution_count": null,
   "metadata": {},
   "outputs": [],
   "source": [
    "json.dumps(df_num.iloc[12:22].to_dict('records'))"
   ]
  },
  {
   "cell_type": "code",
   "execution_count": null,
   "metadata": {},
   "outputs": [],
   "source": [
    "data = {\n",
    "  \"points\": [\n",
    "    {\n",
    "      \"curveNumber\": 0,\n",
    "      \"pointNumber\": 9,\n",
    "      \"pointIndex\": 9,\n",
    "      \"x\": \"2020-06-15\",\n",
    "      \"y\": 5185840,\n",
    "      \"label\": \"2020-06-15\",\n",
    "      \"value\": 5185840,\n",
    "      \"customdata\": [\n",
    "        11,\n",
    "        12,\n",
    "        17,\n",
    "        26\n",
    "      ]\n",
    "    },\n",
    "    {\n",
    "      \"curveNumber\": 0,\n",
    "      \"pointNumber\": 11,\n",
    "      \"pointIndex\": 11,\n",
    "      \"x\": \"2020-07-01\",\n",
    "      \"y\": 312226,\n",
    "      \"label\": \"2020-07-01\",\n",
    "      \"value\": 312226,\n",
    "      \"customdata\": [\n",
    "        9,\n",
    "        10,\n",
    "        31,\n",
    "        33,\n",
    "        39,\n",
    "        40,\n",
    "        50,\n",
    "        51,\n",
    "        52\n",
    "      ]\n",
    "    },\n",
    "    {\n",
    "      \"curveNumber\": 0,\n",
    "      \"pointNumber\": 11,\n",
    "      \"pointIndex\": 11,\n",
    "      \"x\": \"2020-07-01\",\n",
    "      \"y\": 312226,\n",
    "      \"label\": \"2020-07-01\",\n",
    "      \"value\": 312226,\n",
    "      \"customdata\": [\n",
    "        9,\n",
    "        10,\n",
    "        332322,\n",
    "        33,\n",
    "        39,\n",
    "        40,\n",
    "        50,\n",
    "        51,\n",
    "        52\n",
    "      ]\n",
    "    },\n",
    "      ]}\n",
    "\n",
    "\n",
    "\n",
    "\n",
    "\n",
    "[*data['points'][1]['customdata']]"
   ]
  },
  {
   "cell_type": "code",
   "execution_count": null,
   "metadata": {},
   "outputs": [],
   "source": [
    "for i in [*data['points'][i]['customdata']]"
   ]
  },
  {
   "cell_type": "code",
   "execution_count": null,
   "metadata": {},
   "outputs": [],
   "source": [
    "[i for i in df_num.index]"
   ]
  },
  {
   "cell_type": "code",
   "execution_count": null,
   "metadata": {},
   "outputs": [],
   "source": [
    "print(df_num.index[100])"
   ]
  },
  {
   "cell_type": "code",
   "execution_count": null,
   "metadata": {},
   "outputs": [],
   "source": [
    "idlist = [i['customdata'] for i in data['points'][i]]\n",
    "idlist"
   ]
  },
  {
   "cell_type": "code",
   "execution_count": null,
   "metadata": {},
   "outputs": [],
   "source": [
    "idlist = []\n",
    "for i in data['points']:\n",
    "    idlist.append(i['customdata'])\n",
    "idlist = [val for sublist in idlist for val in sublist]\n",
    "df_table = df_num[df_num.index.isin(idlist)]"
   ]
  },
  {
   "cell_type": "code",
   "execution_count": null,
   "metadata": {},
   "outputs": [],
   "source": [
    "flattened = [val for sublist in idlist for val in sublist]\n",
    "flattened"
   ]
  },
  {
   "cell_type": "code",
   "execution_count": null,
   "metadata": {},
   "outputs": [],
   "source": [
    "df_table = df_num[df_num.index.isin([13,23,177,33,177,23,None])]\n",
    "df_table"
   ]
  },
  {
   "cell_type": "code",
   "execution_count": 8,
   "metadata": {},
   "outputs": [],
   "source": [
    "pd.set_option('display.max_columns', None)"
   ]
  },
  {
   "cell_type": "code",
   "execution_count": null,
   "metadata": {},
   "outputs": [],
   "source": [
    "agg_methods = ['sum','count','sum_ratio','count_ratio']"
   ]
  },
  {
   "cell_type": "code",
   "execution_count": null,
   "metadata": {},
   "outputs": [],
   "source": [
    "fig = go.Figure()\n",
    "\n",
    "stages = [['Won'],['Quoting','Discovery (S.P.I.N.)','Working', 'On Hold','Solution Development'],['Lost (why?)']\n",
    "names = [\"Won\",\"Ongoing\",\"Lost\"]\n",
    "\n",
    "if mode == 'Proportions':\n",
    "    if scope == 'By Branch':\n",
    "        if agg_method == 'Sum':\n",
    "            for i in range(len(stages)):\n",
    "              dff = df_num\n",
    "              dff[\"Stage\"] = df_num[\"Stage\"].replace(['Quoting','Discovery (S.P.I.N.)','Working',\n",
    "                                  'On Hold','Solution Development'], 'Ongoing')\n",
    "              dff = df_num[df_num[\"Stage\"]==stages[i]].groupby(\"Branch\").sum()[\"PotentialValue\"]\n",
    "              fig.add_trace(go.Bar(\n",
    "                y=df_num[\"Branch\"].unique(),\n",
    "                x=[dff[b] for b in df_num[\"Branch\"].unique() if b in dff.index]\n",
    "                name=names[i],\n",
    "                orientation='h',\n",
    "                marker=dict(\n",
    "                    color='rgba(246, 78, 139, 0.6)',\n",
    "                    line=dict(color='rgba(246, 78, 139, 1.0)', width=3)\n",
    "                )\n",
    "            ))\n",
    "        elif agg_method == 'Count':\n",
    "            for i in range(len(stages)):\n",
    "                dff = df_num[df_num[\"Stage\"]==stages[i]].groupby(\"Branch\").count()[\"PotentialValue\"]\n",
    "                fig.add_trace(go.Bar(\n",
    "                    y=df_num[\"Branch\"].unique(),\n",
    "                    x=[dff[b] for b in df_num[\"Branch\"].unique() if b in dff.index]\n",
    "                    name=names[i],\n",
    "                    orientation='h',\n",
    "                    marker=dict(\n",
    "                        color='rgba(246, 78, 139, 0.6)',\n",
    "                        line=dict(color='rgba(246, 78, 139, 1.0)', width=3)\n",
    "                    )\n",
    "                ))\n",
    "    elif scope == 'As Whole':\n",
    "          \n",
    "if mode == 'Ratio':\n",
    "\n",
    "fig.update_layout(barmode='stack')\n",
    "fig.show()"
   ]
  },
  {
   "cell_type": "code",
   "execution_count": null,
   "metadata": {},
   "outputs": [],
   "source": [
    "# fixed on all data shown while hover"
   ]
  },
  {
   "cell_type": "code",
   "execution_count": null,
   "metadata": {},
   "outputs": [],
   "source": [
    "df_num.columns"
   ]
  },
  {
   "cell_type": "code",
   "execution_count": null,
   "metadata": {},
   "outputs": [],
   "source": [
    "stages = [['Won'],['Quoting','Discovery (S.P.I.N.)','Working', 'On Hold','Solution Development'],['Lost (why?)']\n",
    "names = [\"Won\",\"Ongoing\",\"Lost\"]"
   ]
  },
  {
   "cell_type": "code",
   "execution_count": null,
   "metadata": {},
   "outputs": [],
   "source": [
    "df_num[df_num[\"Stage\"].isin(['Quoting','Discovery (S.P.I.N.)','Working', 'On Hold','Solution Development'])]\n",
    "df_num[df_num[\"Stage\"].isin(['Won','Lost (why?)'])\n",
    "       dff = df_num[df_num[\"Stage\"].isin(['Won','Lost (why?)'])"
   ]
  },
  {
   "cell_type": "code",
   "execution_count": null,
   "metadata": {},
   "outputs": [],
   "source": [
    "dsa = ['Div','Branch','OAM','LeadType','Customer',\n",
    "    'Type','New','City, St','KeyVendor','Stage','UpdateDate']"
   ]
  },
  {
   "cell_type": "code",
   "execution_count": null,
   "metadata": {},
   "outputs": [],
   "source": [
    "pathmode included numerical"
   ]
  },
  {
   "cell_type": "code",
   "execution_count": null,
   "metadata": {},
   "outputs": [],
   "source": [
    "# html.Div(id='control_tabsA1', className='control_tabs', children=[\n",
    "            dcc.Tabs(id='tabs', value='Sunburst', children=[\n",
    "                dcc.Tab(\n",
    "                    label='Sunburst',\n",
    "                    value='Sunburst',\n",
    "                    children=html.Div(className='control-tab', children=[\n",
    "                        dcc.Dropdown(id='dropdownA1structure',options=[{'label':k 'value':k} for k in structure_options])\n",
    "                        dcc.RadioItems(id='radioA1astages',\n",
    "                                       options=[\n",
    "                                           {'label': 'All', 'value': 'All'},\n",
    "                                           {'label': 'W vs L', 'value': 'W vs L'},\n",
    "                                           {'label': 'W vs O vs L', 'value': 'W vs O vs L'}\n",
    "                                       ]\n",
    "                                       value = 'All'\n",
    "                                       labelStyle={'display': 'inline-block'},\n",
    "                                       className=\"dcc_control\"\n",
    "                                      ),\n",
    "                        dcc.RadioItems(id='radioA1anumerical',\n",
    "                                       options=[\n",
    "                                           {'label': 'Sum', 'value': 'Sum'},\n",
    "                                           {'label': 'Count', 'value': 'Count'},\n",
    "                                       ],\n",
    "                                       value = 'Sum'\n",
    "                                       labelStyle={'display': 'inline-block'},\n",
    "                                       className=\"dcc_control\"\n",
    "                                      ),\n",
    "                    ])\n",
    "                ),\n",
    "                dcc.Tab(\n",
    "                    label='Horizontal',\n",
    "                    value='Horizontal',\n",
    "                    children=html.Div(className='control-tab', children=[\n",
    "                        \n",
    "                    ])\n",
    "                )\n",
    "            ])\n",
    "]),"
   ]
  },
  {
   "cell_type": "code",
   "execution_count": null,
   "metadata": {},
   "outputs": [],
   "source": [
    "\n",
    "structure_options = ['Proportions of Branches Stage group',\n",
    "                    'Proportions of Branches by OAM by Stage group',\n",
    "                    'Proportions of Stage group by OAM',\n",
    "                    'Proportions of Stage group by Customer']\n",
    "\n",
    "\n",
    "\n",
    "html.Div([\n",
    "    dcc.Dropdown(id='dropdownA1structure',options=[{'label':k 'value':k} for k in structure_options])\n",
    "\n",
    "\n",
    "    dcc.RadioItems(id='radioA1astages',\n",
    "                   options=[\n",
    "                       {'label': 'All', 'value': 'All'},\n",
    "                       {'label': 'W vs L', 'value': 'W vs L'},\n",
    "                       {'label': 'W vs O vs L', 'value': 'W vs O vs L'}\n",
    "                   ]\n",
    "                   value = 'All'\n",
    "                   labelStyle={'display': 'inline-block'},\n",
    "                   className=\"dcc_control\"\n",
    "                  ),\n",
    "\n",
    "\n",
    "    dcc.RadioItems(id='radioA1anumerical',\n",
    "                   options=[\n",
    "                       {'label': 'Sum', 'value': 'Sum'},\n",
    "                       {'label': 'Count', 'value': 'Count'},\n",
    "                   ],\n",
    "                   value = 'Sum'\n",
    "                   labelStyle={'display': 'inline-block'},\n",
    "                   className=\"dcc_control\"\n",
    "                  ),\n",
    "])\n",
    "                     "
   ]
  },
  {
   "cell_type": "code",
   "execution_count": null,
   "metadata": {},
   "outputs": [],
   "source": [
    "ggroup_options = ['Div','Branch','OAM','LeadType','Customer',\n",
    "    'Type','New','City, St','KeyVendor','Stage','UpdateDate']\n",
    "group_options = ['Branch','LeadType','Type','New','Stage','OAM','Customer',\"KeyVendor\"]\n",
    "goptions = ['New','LeadType','Stage','Type','OAM','Branch']"
   ]
  },
  {
   "cell_type": "code",
   "execution_count": null,
   "metadata": {},
   "outputs": [],
   "source": [
    "\n",
    "fig = go.Figure()\n",
    "\n",
    "path_mode = 'Proportions of Stage group by OAM'\n",
    "included = 'All'\n",
    "numerical = 'Sum'\n",
    "\n",
    "values = 'PotentialValue' if numerical == 'Sum' else [1]*len(df_num)\n",
    "\n",
    "\n",
    "df, df_num, df_noncumun_whole, noncumun_dfs = get_data()\n",
    "\n",
    "if included == 'All':\n",
    "    dff = df_num\n",
    "elif included == 'Win vs Lose':\n",
    "    dff= df_num[df_num[\"Stage\"].isin(['Won','Lost (why?)'])]\n",
    "elif included == 'Win vs Ongoing vs Lose':\n",
    "    dff = df_num\n",
    "    dff[\"Stage\"] = df_num[\"Stage\"].replace(['Quoting','Discovery (S.P.I.N.)','Working',\n",
    "                                  'On Hold','Solution Development'], 'Ongoing')\n",
    "\n",
    "if path_mode == 'Proportions of Branches Stage group':\n",
    "    fig = px.sunburst(dff, path=['Branch','Stage'], values=values, color='Stage')\n",
    "    title = \"Proportions of Branches by {} stages according to {}\".format(included, numerical)\n",
    "if path_mode == 'Proportions of Branches by OAM by Stage group':\n",
    "    fig = px.sunburst(dff, path=['Branch','OAM','Stage'], values=values, color='Stage')\n",
    "    title = \"Proportions of Branches by OAM by {} stages according to {}\".format(included, numerical)\n",
    "if path_mode == 'Proportions of Stage group by OAM':\n",
    "    fig = px.sunburst(dff, path=['Stage','OAM'], values=values, color='Stage')\n",
    "    title = \"Proportions of {} stages by OAM according to {}\".format(included, numerical)\n",
    "if path_mode == 'Proportions of Stage group by Customer':\n",
    "    fig = px.sunburst(dff, path=['Stage','Customer'], values=values, color='Stage')\n",
    "    title=\"Proportions of OAM by {} stages according to {}\"(included, numerical)\n",
    "\n",
    "fig.update_layout(title = title,\n",
    "                  #width=1750,\n",
    "                  #height=500,\n",
    "                  font=dict(\n",
    "                      #family=\"Courier New, monospace\",\n",
    "                      size=12,\n",
    "                      color=\"#000000\"\n",
    "                        )\n",
    "                 )\n",
    "fig.show()"
   ]
  },
  {
   "cell_type": "code",
   "execution_count": null,
   "metadata": {},
   "outputs": [],
   "source": [
    "colorlist = [ 'aliceblue', 'antiquewhite', 'aqua', 'aquamarine', 'azure',\n",
    "        'beige', 'bisque', 'black', 'blanchedalmond', 'blue',\n",
    "        'blueviolet', 'brown', 'burlywood', 'cadetblue',\n",
    "        'chartreuse', 'chocolate', 'coral', 'cornflowerblue',\n",
    "        'cornsilk', 'crimson', 'cyan', 'darkblue', 'darkcyan',\n",
    "        'darkgoldenrod', 'darkgray', 'darkgrey', 'darkgreen',\n",
    "        'darkkhaki''darkmagenta', 'darkolivegreen', 'darkorange',\n",
    "        'darkorchid', 'darkred', 'darksalmon', 'darkseagreen',\n",
    "        'darkslateblue', 'darkslategray', 'darkslategrey',\n",
    "        'darkturquoise', 'darkviolet', 'deeppink', 'deepskyblue',\n",
    "        'dimgray', 'dimgrey', 'dodgerblue', 'firebrick',\n",
    "        'floralwhite', 'forestgreen', 'fuchsia', 'gainsboro',\n",
    "        'ghostwhite', 'gold', 'goldenrod', 'gray', 'grey', 'green',\n",
    "        'greenyellow', 'honeydew', 'hotpink', 'indianred', 'indigo',\n",
    "        'ivory', 'khaki', 'lavender', 'lavenderblush', 'lawngreen']\n",
    "        lemonchiffon, lightblue, lightcoral, lightcyan,\n",
    "        lightgoldenrodyellow, lightgray, lightgrey,\n",
    "        lightgreen, lightpink, lightsalmon, lightseagreen,\n",
    "        lightskyblue, lightslategray, lightslategrey,\n",
    "        lightsteelblue, lightyellow, lime, limegreen,\n",
    "        linen, magenta, maroon, mediumaquamarine,\n",
    "        mediumblue, mediumorchid, mediumpurple,\n",
    "        mediumseagreen, mediumslateblue, mediumspringgreen,\n",
    "        mediumturquoise, mediumvioletred, midnightblue,\n",
    "        mintcream, mistyrose, moccasin, navajowhite, navy,\n",
    "        oldlace, olive, olivedrab, orange, orangered,\n",
    "        orchid, palegoldenrod, palegreen, paleturquoise,\n",
    "        palevioletred, papayawhip, peachpuff, peru, pink,\n",
    "        plum, powderblue, purple, red, rosybrown,\n",
    "        royalblue, saddlebrown, salmon, sandybrown,\n",
    "        seagreen, seashell, sienna, silver, skyblue,\n",
    "        slateblue, slategray, slategrey, snow, springgreen,\n",
    "        steelblue, tan, teal, thistle, tomato, turquoise,\n",
    "        violet, wheat, white, whitesmoke, yellow,\n",
    "        yellowgreen]"
   ]
  },
  {
   "cell_type": "code",
   "execution_count": null,
   "metadata": {},
   "outputs": [],
   "source": [
    "df, df_num, df_noncumun_whole, noncumun_dfs = get_data()"
   ]
  },
  {
   "cell_type": "code",
   "execution_count": null,
   "metadata": {},
   "outputs": [],
   "source": [
    "df_parcat[dimension]"
   ]
  },
  {
   "cell_type": "code",
   "execution_count": null,
   "metadata": {},
   "outputs": [],
   "source": [
    "colordict[dimension]"
   ]
  },
  {
   "cell_type": "code",
   "execution_count": null,
   "metadata": {},
   "outputs": [],
   "source": [
    "\n",
    "\n",
    "df, df_num, df_noncumun_whole, noncumun_dfs = get_data()\n",
    "\n",
    "ggroup_options = ['Div','Branch','OAM','LeadType','Customer',\n",
    "    'Type','New','City, St','KeyVendor','Stage','UpdateDate']\n",
    "group_options = ['Branch','LeadType','Type','New','Stage','OAM']\n",
    "goptions = ['New','Branch','LeadType','Stage','Type','OAM']\n",
    "\n",
    "\n",
    "d_code = {}\n",
    "for d in goptions:\n",
    "    d_code[d] = {j:i for i,j in enumerate(df_num[d].unique())}\n",
    "\n",
    "\n",
    "df_parcat = df_num\n",
    "\n",
    "dimensions = []\n",
    "for d in goptions:\n",
    "    \n",
    "    uniques = [j for i,j in enumerate(df_parcat[d].unique())]\n",
    "    codes = [i for i,j in enumerate(df_parcat[d].unique())]\n",
    "    \n",
    "    df_parcat[d] = df_parcat[d].replace(uniques,codes)\n",
    "    dimensions.append(go.parcats.Dimension(\n",
    "        values=df_parcat[d],\n",
    "        label=d,\n",
    "        categoryarray=list(d_code[d].values()),\n",
    "        ticktext=list(d_code[d].keys()),\n",
    "        ))\n",
    "\n",
    "\n",
    "colorlist = ['mediumturquoise', 'mediumvioletred', 'midnightblue',\n",
    "            'mintcream', 'mistyrose', 'moccasin', 'navajowhite', 'navy',\n",
    "            'oldlace', 'olive', 'olivedrab', 'orange', 'pink',\n",
    "            'orchid', 'palegoldenrod', 'palegreen', 'paleturquoise',\n",
    "            'black', 'papayawhip', 'orange', 'peru', 'pink',\n",
    "             'aliceblue', 'red', 'aqua', 'aquamarine', 'azure',\n",
    "            'beige', 'bisque', 'black', 'blanchedalmond', 'blue',\n",
    "            'blueviolet', 'brown', 'burlywood', 'cadetblue',\n",
    "            'chartreuse', 'chocolate', 'coral', 'cornflowerblue',\n",
    "            'cornsilk', 'crimson', 'cyan', 'darkblue', 'darkcyan',\n",
    "            'darkgoldenrod', 'darkgray', 'darkgrey', 'darkgreen',\n",
    "            'darkkhaki']    \n",
    "colordict = {'Branch':['greenyellow', 'orange', 'hotpink', 'darkgreen','cyan','brown','blueviolet'],\n",
    "             'LeadType':['yellow','darkgoldenrod','aqua','blue','blueviolet','darkgreen','aliceblue','lawngreen'],\n",
    "             'Type':['Orange','green','cyan','violet'],\n",
    "             'New':['cadetblue', 'burlywood', 'brown'],\n",
    "             'Stage':['palegoldenrod', 'forestgreen', 'paleturquoise','orange','brown', 'palegreen', 'fuchsia'],\n",
    "             'OAM':['orchid', 'palegoldenrod', 'palegreen', 'paleturquoise',\n",
    "                'tomato', 'turquoise','violet', 'darkgreen', 'peru', 'pink',\n",
    "                'plum', 'powderblue', 'purple', 'red', 'rosybrown',\n",
    "                'royalblue', 'saddlebrown', 'salmon', 'sandybrown',\n",
    "                'seagreen', 'seashell', 'gold', 'silver', 'skyblue',]}\n",
    "    \n",
    "#np.random.choice(5, 3)\n",
    "dimension = \"LeadType\"\n",
    "# Create parcats trace\n",
    "color = df_parcat[dimension];\n",
    "#colorscale = [[0, 'lightsteelblue'], [1, 'mediumseagreen']];\n",
    "#colorscale = [[color.unique()[i],colorlist[i]] for i in range(len(color.unique()))]\n",
    "colorscale = colorlist;\n",
    "\n",
    "\n",
    "\n",
    "fig = go.Figure(data = [go.Parcats(dimensions=dimensions,\n",
    "        line={'color': color, 'colorscale': list(colordict[dimension])},\n",
    "        hoveron='color', hoverinfo='count+probability',\n",
    "        labelfont={'size': 18, 'family': 'Times'},\n",
    "        tickfont={'size': 16, 'family': 'Times'},\n",
    "        arrangement='freeform')])\n",
    "\n",
    "\n",
    "title = \"Parallel Categories\"\n",
    "fig.update_layout(title = title,\n",
    "                  #width=1750,\n",
    "                  #height=500,\n",
    "                  font=dict(\n",
    "                      #family=\"Courier New, monospace\",\n",
    "                      size=12,\n",
    "                      color=\"#000000\"\n",
    "                        )\n",
    "                 )\n",
    "fig.show()"
   ]
  },
  {
   "cell_type": "code",
   "execution_count": null,
   "metadata": {},
   "outputs": [],
   "source": [
    "'New','Branch','LeadType','Stage','Type'"
   ]
  },
  {
   "cell_type": "markdown",
   "metadata": {},
   "source": [
    "###### list([np.random.choice(list(colorlist),len(df_num.OAM.unique()))])"
   ]
  },
  {
   "cell_type": "code",
   "execution_count": null,
   "metadata": {},
   "outputs": [],
   "source": [
    "dcc.RangeSlider(\n",
    "    min=0,\n",
    "    max=10,\n",
    "    step=None,\n",
    "    marks={\n",
    "        0: '0 °F',\n",
    "        3: '3 °F',\n",
    "        5: '5 °F',\n",
    "        7.65: '7.65 °F',\n",
    "        10: '10 °F'\n",
    "    },\n",
    "    value=[3, 7.65]\n",
    ")  "
   ]
  },
  {
   "cell_type": "code",
   "execution_count": 10,
   "metadata": {},
   "outputs": [
    {
     "data": {
      "text/html": [
       "<div>\n",
       "<style scoped>\n",
       "    .dataframe tbody tr th:only-of-type {\n",
       "        vertical-align: middle;\n",
       "    }\n",
       "\n",
       "    .dataframe tbody tr th {\n",
       "        vertical-align: top;\n",
       "    }\n",
       "\n",
       "    .dataframe thead th {\n",
       "        text-align: right;\n",
       "    }\n",
       "</style>\n",
       "<table border=\"1\" class=\"dataframe\">\n",
       "  <thead>\n",
       "    <tr style=\"text-align: right;\">\n",
       "      <th></th>\n",
       "      <th>Div</th>\n",
       "      <th>Branch</th>\n",
       "      <th>OAM</th>\n",
       "      <th>LeadType</th>\n",
       "      <th>LeadSpecifics</th>\n",
       "      <th>Customer</th>\n",
       "      <th>Type</th>\n",
       "      <th>New</th>\n",
       "      <th>City, St</th>\n",
       "      <th>ProjectOpportunity</th>\n",
       "      <th>KeyVendor</th>\n",
       "      <th>TechnologiesServices Proposed</th>\n",
       "      <th>PotentialValue</th>\n",
       "      <th>ProbPercent</th>\n",
       "      <th>ExpectedValue</th>\n",
       "      <th>ExpectedValueStage</th>\n",
       "      <th>CustomerCompelingEvent</th>\n",
       "      <th>Stage</th>\n",
       "      <th>ProbPercentStage</th>\n",
       "      <th>ProbPercentDiff</th>\n",
       "      <th>YourNextBIGStep</th>\n",
       "      <th>Notes</th>\n",
       "      <th>UpdateDate</th>\n",
       "      <th>UD_delta</th>\n",
       "      <th>ExpectedOrderDate</th>\n",
       "      <th>EOD_delta</th>\n",
       "      <th>ExpectedOrderDateM</th>\n",
       "      <th>ExpectedOrderDateW</th>\n",
       "    </tr>\n",
       "  </thead>\n",
       "  <tbody>\n",
       "    <tr>\n",
       "      <th>17</th>\n",
       "      <td>18</td>\n",
       "      <td>Austin</td>\n",
       "      <td>Mike Walshe</td>\n",
       "      <td>AWC Internal</td>\n",
       "      <td>AWC Services Capabilities Meeting</td>\n",
       "      <td>LSPI</td>\n",
       "      <td>OEM</td>\n",
       "      <td>False</td>\n",
       "      <td>Bryan, TX</td>\n",
       "      <td>IOT Device Installation</td>\n",
       "      <td>AWC/ACE</td>\n",
       "      <td>Service Contract</td>\n",
       "      <td>5000000</td>\n",
       "      <td>0.99</td>\n",
       "      <td>4950000</td>\n",
       "      <td>3750000.0</td>\n",
       "      <td>NaN</td>\n",
       "      <td>Working</td>\n",
       "      <td>0.75</td>\n",
       "      <td>NaN</td>\n",
       "      <td>NaN</td>\n",
       "      <td>5/12 - Contract to be sent over next week for ...</td>\n",
       "      <td>2020-05-12</td>\n",
       "      <td>-49</td>\n",
       "      <td>2020-06-15</td>\n",
       "      <td>-15.0</td>\n",
       "      <td>2020-06</td>\n",
       "      <td>2020-06-15/2020-06-21</td>\n",
       "    </tr>\n",
       "    <tr>\n",
       "      <th>34</th>\n",
       "      <td>18</td>\n",
       "      <td>Austin</td>\n",
       "      <td>Sean Marroquin</td>\n",
       "      <td>Colleague</td>\n",
       "      <td>Roberto Lopez</td>\n",
       "      <td>General Motors</td>\n",
       "      <td>End User</td>\n",
       "      <td>True</td>\n",
       "      <td>Austin, TX</td>\n",
       "      <td>Design Center Lab, Vision System network, RIO,...</td>\n",
       "      <td>SC, BN, PX</td>\n",
       "      <td>HMI, RTLS, RFID, 1500T, Banner, Turck</td>\n",
       "      <td>100000</td>\n",
       "      <td>0.10</td>\n",
       "      <td>10000</td>\n",
       "      <td>40000.0</td>\n",
       "      <td>Collegue left Urban Mining, fan of Siemens, we...</td>\n",
       "      <td>Discovery (S.P.I.N.)</td>\n",
       "      <td>0.40</td>\n",
       "      <td>NaN</td>\n",
       "      <td>Joint meeting with Fred Maynard on high speed ...</td>\n",
       "      <td>5/19 Quoted Siemens Software to Roberto, provi...</td>\n",
       "      <td>2020-05-19</td>\n",
       "      <td>-42</td>\n",
       "      <td>2021-01-01</td>\n",
       "      <td>185.0</td>\n",
       "      <td>2021-01</td>\n",
       "      <td>2020-12-28/2021-01-03</td>\n",
       "    </tr>\n",
       "    <tr>\n",
       "      <th>35</th>\n",
       "      <td>18</td>\n",
       "      <td>Austin</td>\n",
       "      <td>Sean Marroquin</td>\n",
       "      <td>Vendor</td>\n",
       "      <td>Phoenix Contact</td>\n",
       "      <td>Gibraltar</td>\n",
       "      <td>OEM</td>\n",
       "      <td>False</td>\n",
       "      <td>Burnet, TX</td>\n",
       "      <td>Automation of border wall manufacturing</td>\n",
       "      <td>SC</td>\n",
       "      <td>Solutions Partner</td>\n",
       "      <td>75000</td>\n",
       "      <td>0.10</td>\n",
       "      <td>7500</td>\n",
       "      <td>30000.0</td>\n",
       "      <td>Cannot build the wall fast enough. Current pac...</td>\n",
       "      <td>Discovery (S.P.I.N.)</td>\n",
       "      <td>0.40</td>\n",
       "      <td>NaN</td>\n",
       "      <td>Anthony left. Set a meeting with solutions par...</td>\n",
       "      <td>5/19 Emailed Anthony Heinen asking for meeting</td>\n",
       "      <td>2020-05-19</td>\n",
       "      <td>-42</td>\n",
       "      <td>2021-01-01</td>\n",
       "      <td>185.0</td>\n",
       "      <td>2021-01</td>\n",
       "      <td>2020-12-28/2021-01-03</td>\n",
       "    </tr>\n",
       "    <tr>\n",
       "      <th>38</th>\n",
       "      <td>18</td>\n",
       "      <td>Austin</td>\n",
       "      <td>Sean Marroquin</td>\n",
       "      <td>Vendor</td>\n",
       "      <td>Siemens website lead</td>\n",
       "      <td>Lock Joint Tube</td>\n",
       "      <td>End User</td>\n",
       "      <td>True</td>\n",
       "      <td>Temple, TX</td>\n",
       "      <td>Automation of materials from CNC</td>\n",
       "      <td>SC</td>\n",
       "      <td>Intro to Solutions Partners, Siemens controls,...</td>\n",
       "      <td>60000</td>\n",
       "      <td>0.10</td>\n",
       "      <td>6000</td>\n",
       "      <td>24000.0</td>\n",
       "      <td>Spare parts supply problems due to obsolete eq...</td>\n",
       "      <td>Discovery (S.P.I.N.)</td>\n",
       "      <td>0.40</td>\n",
       "      <td>NaN</td>\n",
       "      <td>Intro to Fox Robotics as solutions partner.</td>\n",
       "      <td>5/19 emailed Thomas idea for automated materia...</td>\n",
       "      <td>2020-05-19</td>\n",
       "      <td>-42</td>\n",
       "      <td>2020-08-01</td>\n",
       "      <td>32.0</td>\n",
       "      <td>2020-08</td>\n",
       "      <td>2020-07-27/2020-08-02</td>\n",
       "    </tr>\n",
       "    <tr>\n",
       "      <th>39</th>\n",
       "      <td>18</td>\n",
       "      <td>Austin</td>\n",
       "      <td>Sean Marroquin</td>\n",
       "      <td>Vendor</td>\n",
       "      <td>Turck</td>\n",
       "      <td>RSI-CRI</td>\n",
       "      <td>Contractor</td>\n",
       "      <td>False</td>\n",
       "      <td>Kyle, TX</td>\n",
       "      <td>US Army tank builds</td>\n",
       "      <td>BN, Stahl</td>\n",
       "      <td>R Stahl Barriers, Banner Connectivity</td>\n",
       "      <td>10000</td>\n",
       "      <td>0.10</td>\n",
       "      <td>1000</td>\n",
       "      <td>6000.0</td>\n",
       "      <td>Needing volume pricing on cordsets</td>\n",
       "      <td>Quoting</td>\n",
       "      <td>0.60</td>\n",
       "      <td>NaN</td>\n",
       "      <td>Formal introduction after covid</td>\n",
       "      <td>5/12 Quoted and sent Industrial Brochure, foll...</td>\n",
       "      <td>2020-05-19</td>\n",
       "      <td>-42</td>\n",
       "      <td>2020-07-01</td>\n",
       "      <td>1.0</td>\n",
       "      <td>2020-07</td>\n",
       "      <td>2020-06-29/2020-07-05</td>\n",
       "    </tr>\n",
       "    <tr>\n",
       "      <th>45</th>\n",
       "      <td>18</td>\n",
       "      <td>Austin</td>\n",
       "      <td>Sean Marroquin</td>\n",
       "      <td>AWC Internal</td>\n",
       "      <td>IAM</td>\n",
       "      <td>United Rentals</td>\n",
       "      <td>OEM</td>\n",
       "      <td>False</td>\n",
       "      <td>San Marcos, TX</td>\n",
       "      <td>Waste Water Filtration panel builds</td>\n",
       "      <td>SC</td>\n",
       "      <td>PLC HMI Instruments enclosures, controls</td>\n",
       "      <td>10000</td>\n",
       "      <td>0.10</td>\n",
       "      <td>1000</td>\n",
       "      <td>4000.0</td>\n",
       "      <td>New project manager, open to new vendors</td>\n",
       "      <td>Discovery (S.P.I.N.)</td>\n",
       "      <td>0.40</td>\n",
       "      <td>NaN</td>\n",
       "      <td>Set meeting for formal introduction, show upgr...</td>\n",
       "      <td>5/19 Customer in quarantine until June 15</td>\n",
       "      <td>2020-05-12</td>\n",
       "      <td>-49</td>\n",
       "      <td>2020-08-01</td>\n",
       "      <td>32.0</td>\n",
       "      <td>2020-08</td>\n",
       "      <td>2020-07-27/2020-08-02</td>\n",
       "    </tr>\n",
       "    <tr>\n",
       "      <th>46</th>\n",
       "      <td>18</td>\n",
       "      <td>Austin</td>\n",
       "      <td>Sean Marroquin</td>\n",
       "      <td>Vendor</td>\n",
       "      <td>Metso Lead / PEC Announcement</td>\n",
       "      <td>XBiotech</td>\n",
       "      <td>End User</td>\n",
       "      <td>False</td>\n",
       "      <td>Austin, TX</td>\n",
       "      <td>Plant Expansion</td>\n",
       "      <td>ME, SL</td>\n",
       "      <td>Valves and StoneL</td>\n",
       "      <td>50000</td>\n",
       "      <td>0.10</td>\n",
       "      <td>5000</td>\n",
       "      <td>20000.0</td>\n",
       "      <td>Infectious desease expansion of lab. Needs bui...</td>\n",
       "      <td>Discovery (S.P.I.N.)</td>\n",
       "      <td>0.40</td>\n",
       "      <td>NaN</td>\n",
       "      <td>Contact</td>\n",
       "      <td>5/19 Found several contacts from 2014 from Bro...</td>\n",
       "      <td>2020-05-12</td>\n",
       "      <td>-49</td>\n",
       "      <td>2020-10-01</td>\n",
       "      <td>93.0</td>\n",
       "      <td>2020-10</td>\n",
       "      <td>2020-09-28/2020-10-04</td>\n",
       "    </tr>\n",
       "    <tr>\n",
       "      <th>166</th>\n",
       "      <td>16</td>\n",
       "      <td>Houston OEM</td>\n",
       "      <td>Dane Ellis</td>\n",
       "      <td>AWC Internal</td>\n",
       "      <td>from exploritory sales activity</td>\n",
       "      <td>Harrison Hydragen</td>\n",
       "      <td>OEM</td>\n",
       "      <td>True</td>\n",
       "      <td>NaN</td>\n",
       "      <td>Component competitive Bid</td>\n",
       "      <td>ETA</td>\n",
       "      <td>NaN</td>\n",
       "      <td>80000</td>\n",
       "      <td>0.10</td>\n",
       "      <td>8000</td>\n",
       "      <td>48000.0</td>\n",
       "      <td>NaN</td>\n",
       "      <td>Quoting</td>\n",
       "      <td>0.60</td>\n",
       "      <td>NaN</td>\n",
       "      <td>follow up on quote, ask for opportunities</td>\n",
       "      <td>NaN</td>\n",
       "      <td>2020-05-19</td>\n",
       "      <td>-42</td>\n",
       "      <td>2020-12-01</td>\n",
       "      <td>154.0</td>\n",
       "      <td>2020-12</td>\n",
       "      <td>2020-11-30/2020-12-06</td>\n",
       "    </tr>\n",
       "    <tr>\n",
       "      <th>167</th>\n",
       "      <td>16</td>\n",
       "      <td>Houston OEM</td>\n",
       "      <td>Dane Ellis</td>\n",
       "      <td>Customer</td>\n",
       "      <td>exploritory sales activity/competitive bid</td>\n",
       "      <td>Custom Air Products</td>\n",
       "      <td>OEM</td>\n",
       "      <td>False</td>\n",
       "      <td>NaN</td>\n",
       "      <td>Component competitive Bid</td>\n",
       "      <td>ETA</td>\n",
       "      <td>NaN</td>\n",
       "      <td>100000</td>\n",
       "      <td>0.10</td>\n",
       "      <td>10000</td>\n",
       "      <td>60000.0</td>\n",
       "      <td>NaN</td>\n",
       "      <td>Quoting</td>\n",
       "      <td>0.60</td>\n",
       "      <td>NaN</td>\n",
       "      <td>follow up on quote, ask for opportunities</td>\n",
       "      <td>NaN</td>\n",
       "      <td>2020-05-19</td>\n",
       "      <td>-42</td>\n",
       "      <td>2020-12-01</td>\n",
       "      <td>154.0</td>\n",
       "      <td>2020-12</td>\n",
       "      <td>2020-11-30/2020-12-06</td>\n",
       "    </tr>\n",
       "    <tr>\n",
       "      <th>168</th>\n",
       "      <td>16</td>\n",
       "      <td>Houston OEM</td>\n",
       "      <td>Dane Ellis</td>\n",
       "      <td>Customer</td>\n",
       "      <td>exploritory sales activity/competitive bid</td>\n",
       "      <td>Watlow</td>\n",
       "      <td>OEM</td>\n",
       "      <td>False</td>\n",
       "      <td>NaN</td>\n",
       "      <td>Component competitive Bid</td>\n",
       "      <td>ETA</td>\n",
       "      <td>NaN</td>\n",
       "      <td>60000</td>\n",
       "      <td>0.10</td>\n",
       "      <td>6000</td>\n",
       "      <td>36000.0</td>\n",
       "      <td>NaN</td>\n",
       "      <td>Quoting</td>\n",
       "      <td>0.60</td>\n",
       "      <td>NaN</td>\n",
       "      <td>follow up on quote, ask for opportunities</td>\n",
       "      <td>NaN</td>\n",
       "      <td>2020-05-19</td>\n",
       "      <td>-42</td>\n",
       "      <td>2020-12-01</td>\n",
       "      <td>154.0</td>\n",
       "      <td>2020-12</td>\n",
       "      <td>2020-11-30/2020-12-06</td>\n",
       "    </tr>\n",
       "    <tr>\n",
       "      <th>169</th>\n",
       "      <td>16</td>\n",
       "      <td>Houston OEM</td>\n",
       "      <td>Dane Ellis</td>\n",
       "      <td>Customer</td>\n",
       "      <td>exploritory sales activity/competitive bid</td>\n",
       "      <td>W-Industries</td>\n",
       "      <td>OEM</td>\n",
       "      <td>False</td>\n",
       "      <td>NaN</td>\n",
       "      <td>Component competitive Bid</td>\n",
       "      <td>ETA</td>\n",
       "      <td>NaN</td>\n",
       "      <td>50000</td>\n",
       "      <td>0.10</td>\n",
       "      <td>5000</td>\n",
       "      <td>30000.0</td>\n",
       "      <td>NaN</td>\n",
       "      <td>Quoting</td>\n",
       "      <td>0.60</td>\n",
       "      <td>NaN</td>\n",
       "      <td>follow up on quote, ask for opportunities</td>\n",
       "      <td>NaN</td>\n",
       "      <td>2020-05-19</td>\n",
       "      <td>-42</td>\n",
       "      <td>2020-12-01</td>\n",
       "      <td>154.0</td>\n",
       "      <td>2020-12</td>\n",
       "      <td>2020-11-30/2020-12-06</td>\n",
       "    </tr>\n",
       "    <tr>\n",
       "      <th>170</th>\n",
       "      <td>16</td>\n",
       "      <td>Houston OEM</td>\n",
       "      <td>Dane Ellis</td>\n",
       "      <td>Customer</td>\n",
       "      <td>exploritory sales activity/competitive bid</td>\n",
       "      <td>Safety Vision</td>\n",
       "      <td>OEM</td>\n",
       "      <td>False</td>\n",
       "      <td>NaN</td>\n",
       "      <td>Component solution, sales and after the sell s...</td>\n",
       "      <td>MX</td>\n",
       "      <td>NaN</td>\n",
       "      <td>500000</td>\n",
       "      <td>0.10</td>\n",
       "      <td>50000</td>\n",
       "      <td>200000.0</td>\n",
       "      <td>Project started out with a lot of momentum.  I...</td>\n",
       "      <td>Discovery (S.P.I.N.)</td>\n",
       "      <td>0.40</td>\n",
       "      <td>NaN</td>\n",
       "      <td>continue to follow up</td>\n",
       "      <td>NaN</td>\n",
       "      <td>2020-05-19</td>\n",
       "      <td>-42</td>\n",
       "      <td>2020-12-01</td>\n",
       "      <td>154.0</td>\n",
       "      <td>2020-12</td>\n",
       "      <td>2020-11-30/2020-12-06</td>\n",
       "    </tr>\n",
       "    <tr>\n",
       "      <th>171</th>\n",
       "      <td>16</td>\n",
       "      <td>Houston OEM</td>\n",
       "      <td>Dane Ellis</td>\n",
       "      <td>Customer</td>\n",
       "      <td>referral from existing customer FW Murphy</td>\n",
       "      <td>PC3</td>\n",
       "      <td>OEM</td>\n",
       "      <td>True</td>\n",
       "      <td>NaN</td>\n",
       "      <td>Assembled Solution - DC Power Distribution for...</td>\n",
       "      <td>TU</td>\n",
       "      <td>NaN</td>\n",
       "      <td>150000</td>\n",
       "      <td>0.10</td>\n",
       "      <td>15000</td>\n",
       "      <td>60000.0</td>\n",
       "      <td>presented the most comprehensive solution, but...</td>\n",
       "      <td>Discovery (S.P.I.N.)</td>\n",
       "      <td>0.40</td>\n",
       "      <td>NaN</td>\n",
       "      <td>continue to follow up</td>\n",
       "      <td>NaN</td>\n",
       "      <td>2020-05-19</td>\n",
       "      <td>-42</td>\n",
       "      <td>2020-12-01</td>\n",
       "      <td>154.0</td>\n",
       "      <td>2020-12</td>\n",
       "      <td>2020-11-30/2020-12-06</td>\n",
       "    </tr>\n",
       "    <tr>\n",
       "      <th>172</th>\n",
       "      <td>16</td>\n",
       "      <td>Houston OEM</td>\n",
       "      <td>Dane Ellis</td>\n",
       "      <td>Customer</td>\n",
       "      <td>exploritory sales activity/competitive bid</td>\n",
       "      <td>Dresser Gimpel</td>\n",
       "      <td>OEM</td>\n",
       "      <td>False</td>\n",
       "      <td>NaN</td>\n",
       "      <td>Assembled Solution - control system for valve ...</td>\n",
       "      <td>TU</td>\n",
       "      <td>NaN</td>\n",
       "      <td>150000</td>\n",
       "      <td>0.10</td>\n",
       "      <td>15000</td>\n",
       "      <td>60000.0</td>\n",
       "      <td>initial intrest for tri-rated solution.  Desin...</td>\n",
       "      <td>Discovery (S.P.I.N.)</td>\n",
       "      <td>0.40</td>\n",
       "      <td>NaN</td>\n",
       "      <td>send control panel program information and fol...</td>\n",
       "      <td>NaN</td>\n",
       "      <td>2020-05-19</td>\n",
       "      <td>-42</td>\n",
       "      <td>2020-12-01</td>\n",
       "      <td>154.0</td>\n",
       "      <td>2020-12</td>\n",
       "      <td>2020-11-30/2020-12-06</td>\n",
       "    </tr>\n",
       "    <tr>\n",
       "      <th>173</th>\n",
       "      <td>16</td>\n",
       "      <td>Houston OEM</td>\n",
       "      <td>Dane Ellis</td>\n",
       "      <td>Vendor</td>\n",
       "      <td>Technology Partner Referal</td>\n",
       "      <td>H2O Unlimited</td>\n",
       "      <td>OEM</td>\n",
       "      <td>nan</td>\n",
       "      <td>NaN</td>\n",
       "      <td>Projects solution - Automation system for puri...</td>\n",
       "      <td>SC</td>\n",
       "      <td>NaN</td>\n",
       "      <td>100000</td>\n",
       "      <td>0.10</td>\n",
       "      <td>10000</td>\n",
       "      <td>40000.0</td>\n",
       "      <td>Start up company.  Initial plan for waste wate...</td>\n",
       "      <td>Discovery (S.P.I.N.)</td>\n",
       "      <td>0.40</td>\n",
       "      <td>NaN</td>\n",
       "      <td>continue to follow up</td>\n",
       "      <td>NaN</td>\n",
       "      <td>2020-05-19</td>\n",
       "      <td>-42</td>\n",
       "      <td>2020-12-01</td>\n",
       "      <td>154.0</td>\n",
       "      <td>2020-12</td>\n",
       "      <td>2020-11-30/2020-12-06</td>\n",
       "    </tr>\n",
       "    <tr>\n",
       "      <th>199</th>\n",
       "      <td>16</td>\n",
       "      <td>Houston OEM</td>\n",
       "      <td>Emma Mulcrone</td>\n",
       "      <td>Customer</td>\n",
       "      <td>Referal from Exisitng Contact</td>\n",
       "      <td>Canrig</td>\n",
       "      <td>OEM</td>\n",
       "      <td>False</td>\n",
       "      <td>Houston, TX</td>\n",
       "      <td>Barrier Upgrade</td>\n",
       "      <td>MTL</td>\n",
       "      <td>Upgrade P&amp;F Barriers to MTL</td>\n",
       "      <td>40000</td>\n",
       "      <td>0.10</td>\n",
       "      <td>4000</td>\n",
       "      <td>16000.0</td>\n",
       "      <td>NaN</td>\n",
       "      <td>Discovery (S.P.I.N.)</td>\n",
       "      <td>0.40</td>\n",
       "      <td>NaN</td>\n",
       "      <td>Crossed over P&amp;F Barriers, engineering is reve...</td>\n",
       "      <td>NaN</td>\n",
       "      <td>2020-05-18</td>\n",
       "      <td>-43</td>\n",
       "      <td>2020-10-31</td>\n",
       "      <td>123.0</td>\n",
       "      <td>2020-10</td>\n",
       "      <td>2020-10-26/2020-11-01</td>\n",
       "    </tr>\n",
       "  </tbody>\n",
       "</table>\n",
       "</div>"
      ],
      "text/plain": [
       "    Div       Branch             OAM      LeadType  \\\n",
       "17   18       Austin     Mike Walshe  AWC Internal   \n",
       "34   18       Austin  Sean Marroquin     Colleague   \n",
       "35   18       Austin  Sean Marroquin        Vendor   \n",
       "38   18       Austin  Sean Marroquin        Vendor   \n",
       "39   18       Austin  Sean Marroquin        Vendor   \n",
       "45   18       Austin  Sean Marroquin  AWC Internal   \n",
       "46   18       Austin  Sean Marroquin        Vendor   \n",
       "166  16  Houston OEM      Dane Ellis  AWC Internal   \n",
       "167  16  Houston OEM      Dane Ellis      Customer   \n",
       "168  16  Houston OEM      Dane Ellis      Customer   \n",
       "169  16  Houston OEM      Dane Ellis      Customer   \n",
       "170  16  Houston OEM      Dane Ellis      Customer   \n",
       "171  16  Houston OEM      Dane Ellis      Customer   \n",
       "172  16  Houston OEM      Dane Ellis      Customer   \n",
       "173  16  Houston OEM      Dane Ellis        Vendor   \n",
       "199  16  Houston OEM   Emma Mulcrone      Customer   \n",
       "\n",
       "                                  LeadSpecifics             Customer  \\\n",
       "17            AWC Services Capabilities Meeting                 LSPI   \n",
       "34                                Roberto Lopez       General Motors   \n",
       "35                              Phoenix Contact            Gibraltar   \n",
       "38                         Siemens website lead      Lock Joint Tube   \n",
       "39                                        Turck              RSI-CRI   \n",
       "45                                          IAM       United Rentals   \n",
       "46                Metso Lead / PEC Announcement             XBiotech   \n",
       "166            from exploritory sales activity     Harrison Hydragen   \n",
       "167  exploritory sales activity/competitive bid  Custom Air Products   \n",
       "168  exploritory sales activity/competitive bid               Watlow   \n",
       "169  exploritory sales activity/competitive bid         W-Industries   \n",
       "170  exploritory sales activity/competitive bid        Safety Vision   \n",
       "171   referral from existing customer FW Murphy                  PC3   \n",
       "172  exploritory sales activity/competitive bid       Dresser Gimpel   \n",
       "173                  Technology Partner Referal        H2O Unlimited   \n",
       "199               Referal from Exisitng Contact               Canrig   \n",
       "\n",
       "           Type    New        City, St  \\\n",
       "17          OEM  False       Bryan, TX   \n",
       "34     End User   True      Austin, TX   \n",
       "35          OEM  False      Burnet, TX   \n",
       "38     End User   True      Temple, TX   \n",
       "39   Contractor  False        Kyle, TX   \n",
       "45          OEM  False  San Marcos, TX   \n",
       "46     End User  False      Austin, TX   \n",
       "166         OEM   True             NaN   \n",
       "167         OEM  False             NaN   \n",
       "168         OEM  False             NaN   \n",
       "169         OEM  False             NaN   \n",
       "170         OEM  False             NaN   \n",
       "171         OEM   True             NaN   \n",
       "172         OEM  False             NaN   \n",
       "173         OEM    nan             NaN   \n",
       "199         OEM  False     Houston, TX   \n",
       "\n",
       "                                    ProjectOpportunity   KeyVendor  \\\n",
       "17                             IOT Device Installation     AWC/ACE   \n",
       "34   Design Center Lab, Vision System network, RIO,...  SC, BN, PX   \n",
       "35             Automation of border wall manufacturing          SC   \n",
       "38                    Automation of materials from CNC          SC   \n",
       "39                                 US Army tank builds   BN, Stahl   \n",
       "45                 Waste Water Filtration panel builds          SC   \n",
       "46                                     Plant Expansion      ME, SL   \n",
       "166                          Component competitive Bid         ETA   \n",
       "167                          Component competitive Bid         ETA   \n",
       "168                          Component competitive Bid         ETA   \n",
       "169                          Component competitive Bid         ETA   \n",
       "170  Component solution, sales and after the sell s...          MX   \n",
       "171  Assembled Solution - DC Power Distribution for...          TU   \n",
       "172  Assembled Solution - control system for valve ...          TU   \n",
       "173  Projects solution - Automation system for puri...          SC   \n",
       "199                                    Barrier Upgrade         MTL   \n",
       "\n",
       "                         TechnologiesServices Proposed  PotentialValue  \\\n",
       "17                                    Service Contract         5000000   \n",
       "34               HMI, RTLS, RFID, 1500T, Banner, Turck          100000   \n",
       "35                                   Solutions Partner           75000   \n",
       "38   Intro to Solutions Partners, Siemens controls,...           60000   \n",
       "39               R Stahl Barriers, Banner Connectivity           10000   \n",
       "45            PLC HMI Instruments enclosures, controls           10000   \n",
       "46                                   Valves and StoneL           50000   \n",
       "166                                                NaN           80000   \n",
       "167                                                NaN          100000   \n",
       "168                                                NaN           60000   \n",
       "169                                                NaN           50000   \n",
       "170                                                NaN          500000   \n",
       "171                                                NaN          150000   \n",
       "172                                                NaN          150000   \n",
       "173                                                NaN          100000   \n",
       "199                       Upgrade P&F Barriers to MTL            40000   \n",
       "\n",
       "     ProbPercent  ExpectedValue  ExpectedValueStage  \\\n",
       "17          0.99        4950000           3750000.0   \n",
       "34          0.10          10000             40000.0   \n",
       "35          0.10           7500             30000.0   \n",
       "38          0.10           6000             24000.0   \n",
       "39          0.10           1000              6000.0   \n",
       "45          0.10           1000              4000.0   \n",
       "46          0.10           5000             20000.0   \n",
       "166         0.10           8000             48000.0   \n",
       "167         0.10          10000             60000.0   \n",
       "168         0.10           6000             36000.0   \n",
       "169         0.10           5000             30000.0   \n",
       "170         0.10          50000            200000.0   \n",
       "171         0.10          15000             60000.0   \n",
       "172         0.10          15000             60000.0   \n",
       "173         0.10          10000             40000.0   \n",
       "199         0.10           4000             16000.0   \n",
       "\n",
       "                                CustomerCompelingEvent                 Stage  \\\n",
       "17                                                 NaN               Working   \n",
       "34   Collegue left Urban Mining, fan of Siemens, we...  Discovery (S.P.I.N.)   \n",
       "35   Cannot build the wall fast enough. Current pac...  Discovery (S.P.I.N.)   \n",
       "38   Spare parts supply problems due to obsolete eq...  Discovery (S.P.I.N.)   \n",
       "39                  Needing volume pricing on cordsets               Quoting   \n",
       "45            New project manager, open to new vendors  Discovery (S.P.I.N.)   \n",
       "46   Infectious desease expansion of lab. Needs bui...  Discovery (S.P.I.N.)   \n",
       "166                                                NaN               Quoting   \n",
       "167                                                NaN               Quoting   \n",
       "168                                                NaN               Quoting   \n",
       "169                                                NaN               Quoting   \n",
       "170  Project started out with a lot of momentum.  I...  Discovery (S.P.I.N.)   \n",
       "171  presented the most comprehensive solution, but...  Discovery (S.P.I.N.)   \n",
       "172  initial intrest for tri-rated solution.  Desin...  Discovery (S.P.I.N.)   \n",
       "173  Start up company.  Initial plan for waste wate...  Discovery (S.P.I.N.)   \n",
       "199                                                NaN  Discovery (S.P.I.N.)   \n",
       "\n",
       "     ProbPercentStage  ProbPercentDiff  \\\n",
       "17               0.75              NaN   \n",
       "34               0.40              NaN   \n",
       "35               0.40              NaN   \n",
       "38               0.40              NaN   \n",
       "39               0.60              NaN   \n",
       "45               0.40              NaN   \n",
       "46               0.40              NaN   \n",
       "166              0.60              NaN   \n",
       "167              0.60              NaN   \n",
       "168              0.60              NaN   \n",
       "169              0.60              NaN   \n",
       "170              0.40              NaN   \n",
       "171              0.40              NaN   \n",
       "172              0.40              NaN   \n",
       "173              0.40              NaN   \n",
       "199              0.40              NaN   \n",
       "\n",
       "                                       YourNextBIGStep  \\\n",
       "17                                                 NaN   \n",
       "34   Joint meeting with Fred Maynard on high speed ...   \n",
       "35   Anthony left. Set a meeting with solutions par...   \n",
       "38         Intro to Fox Robotics as solutions partner.   \n",
       "39                     Formal introduction after covid   \n",
       "45   Set meeting for formal introduction, show upgr...   \n",
       "46                                             Contact   \n",
       "166          follow up on quote, ask for opportunities   \n",
       "167          follow up on quote, ask for opportunities   \n",
       "168          follow up on quote, ask for opportunities   \n",
       "169          follow up on quote, ask for opportunities   \n",
       "170                              continue to follow up   \n",
       "171                              continue to follow up   \n",
       "172  send control panel program information and fol...   \n",
       "173                              continue to follow up   \n",
       "199  Crossed over P&F Barriers, engineering is reve...   \n",
       "\n",
       "                                                 Notes UpdateDate  UD_delta  \\\n",
       "17   5/12 - Contract to be sent over next week for ... 2020-05-12       -49   \n",
       "34   5/19 Quoted Siemens Software to Roberto, provi... 2020-05-19       -42   \n",
       "35      5/19 Emailed Anthony Heinen asking for meeting 2020-05-19       -42   \n",
       "38   5/19 emailed Thomas idea for automated materia... 2020-05-19       -42   \n",
       "39   5/12 Quoted and sent Industrial Brochure, foll... 2020-05-19       -42   \n",
       "45           5/19 Customer in quarantine until June 15 2020-05-12       -49   \n",
       "46   5/19 Found several contacts from 2014 from Bro... 2020-05-12       -49   \n",
       "166                                                NaN 2020-05-19       -42   \n",
       "167                                                NaN 2020-05-19       -42   \n",
       "168                                                NaN 2020-05-19       -42   \n",
       "169                                                NaN 2020-05-19       -42   \n",
       "170                                                NaN 2020-05-19       -42   \n",
       "171                                                NaN 2020-05-19       -42   \n",
       "172                                                NaN 2020-05-19       -42   \n",
       "173                                                NaN 2020-05-19       -42   \n",
       "199                                                NaN 2020-05-18       -43   \n",
       "\n",
       "    ExpectedOrderDate  EOD_delta ExpectedOrderDateM     ExpectedOrderDateW  \n",
       "17         2020-06-15      -15.0            2020-06  2020-06-15/2020-06-21  \n",
       "34         2021-01-01      185.0            2021-01  2020-12-28/2021-01-03  \n",
       "35         2021-01-01      185.0            2021-01  2020-12-28/2021-01-03  \n",
       "38         2020-08-01       32.0            2020-08  2020-07-27/2020-08-02  \n",
       "39         2020-07-01        1.0            2020-07  2020-06-29/2020-07-05  \n",
       "45         2020-08-01       32.0            2020-08  2020-07-27/2020-08-02  \n",
       "46         2020-10-01       93.0            2020-10  2020-09-28/2020-10-04  \n",
       "166        2020-12-01      154.0            2020-12  2020-11-30/2020-12-06  \n",
       "167        2020-12-01      154.0            2020-12  2020-11-30/2020-12-06  \n",
       "168        2020-12-01      154.0            2020-12  2020-11-30/2020-12-06  \n",
       "169        2020-12-01      154.0            2020-12  2020-11-30/2020-12-06  \n",
       "170        2020-12-01      154.0            2020-12  2020-11-30/2020-12-06  \n",
       "171        2020-12-01      154.0            2020-12  2020-11-30/2020-12-06  \n",
       "172        2020-12-01      154.0            2020-12  2020-11-30/2020-12-06  \n",
       "173        2020-12-01      154.0            2020-12  2020-11-30/2020-12-06  \n",
       "199        2020-10-31      123.0            2020-10  2020-10-26/2020-11-01  "
      ]
     },
     "execution_count": 10,
     "metadata": {},
     "output_type": "execute_result"
    }
   ],
   "source": [
    "df_num.iloc[[16, 33, 34, 37, 38, 44, 45, 163, 164, 165, 166, 167, 168,\n",
    "                       169, 170, 196]]"
   ]
  },
  {
   "cell_type": "code",
   "execution_count": 19,
   "metadata": {},
   "outputs": [
    {
     "data": {
      "text/plain": [
       "Index(['Div', 'Branch', 'OAM', 'LeadType', 'LeadSpecifics', 'Customer', 'Type',\n",
       "       'New', 'City, St', 'ProjectOpportunity', 'KeyVendor',\n",
       "       'TechnologiesServices Proposed', 'PotentialValue', 'ProbPercent',\n",
       "       'ExpectedValue', 'ExpectedValueStage', 'CustomerCompelingEvent',\n",
       "       'Stage', 'ProbPercentStage', 'ProbPercentDiff', 'YourNextBIGStep',\n",
       "       'Notes', 'UpdateDate', 'UD_delta', 'ExpectedOrderDate', 'EOD_delta',\n",
       "       'ExpectedOrderDateM', 'ExpectedOrderDateW'],\n",
       "      dtype='object')"
      ]
     },
     "execution_count": 19,
     "metadata": {},
     "output_type": "execute_result"
    }
   ],
   "source": [
    "df_num.columns"
   ]
  },
  {
   "cell_type": "code",
   "execution_count": null,
   "metadata": {},
   "outputs": [],
   "source": [
    "\"Branch\", \"OAM\", \"LeadType\", \"Customer\", \"Type\", \"New\", \"Stage\", \"KeyVendor\""
   ]
  },
  {
   "cell_type": "code",
   "execution_count": null,
   "metadata": {},
   "outputs": [],
   "source": [
    "import json\n",
    "\n",
    "import dash\n",
    "import dash_core_components as dcc\n",
    "import dash_html_components as html\n",
    "from dash.dependencies import Input, Output\n",
    "\n",
    "external_stylesheets = ['https://codepen.io/chriddyp/pen/bWLwgP.css']\n",
    "\n",
    "app = dash.Dash(__name__, external_stylesheets=external_stylesheets)\n",
    "\n",
    "styles = {\n",
    "    'pre': {\n",
    "        'border': 'thin lightgrey solid',\n",
    "        'overflowX': 'scroll'\n",
    "    }\n",
    "}\n",
    "\n",
    "app.layout = html.Div([\n",
    "    dcc.Graph(\n",
    "        id='basic-interactions',\n",
    "        figure={\n",
    "            'data': [\n",
    "                {\n",
    "                    'x': [1, 2, 3, 4],\n",
    "                    'y': [4, 1, 3, 5],\n",
    "                    'text': ['a', 'b', 'c', 'd'],\n",
    "                    'customdata': ['c.a', 'c.b', 'c.c', 'c.d'],\n",
    "                    'name': 'Trace 1',\n",
    "                    'mode': 'markers',\n",
    "                    'marker': {'size': 12}\n",
    "                },\n",
    "                {\n",
    "                    'x': [1, 2, 3, 4],\n",
    "                    'y': [9, 4, 1, 4],\n",
    "                    'text': ['w', 'x', 'y', 'z'],\n",
    "                    'customdata': ['c.w', 'c.x', 'c.y', 'c.z'],\n",
    "                    'name': 'Trace 2',\n",
    "                    'mode': 'markers',\n",
    "                    'marker': {'size': 12}\n",
    "                }\n",
    "            ],\n",
    "            'layout': {\n",
    "                'clickmode': 'event+select'\n",
    "            }\n",
    "        }\n",
    "    ),\n",
    "\n",
    "    html.Div(className='row', children=[\n",
    "        html.Div([\n",
    "            dcc.Markdown(\"\"\"\n",
    "                **Hover Data**\n",
    "\n",
    "                Mouse over values in the graph.\n",
    "            \"\"\"),\n",
    "            html.Pre(id='hover-data', style=styles['pre'])\n",
    "        ], className='three columns'),\n",
    "\n",
    "        html.Div([\n",
    "            dcc.Markdown(\"\"\"\n",
    "                **Click Data**\n",
    "\n",
    "                Click on points in the graph.\n",
    "            \"\"\"),\n",
    "            html.Pre(id='click-data', style=styles['pre']),\n",
    "        ], className='three columns'),\n",
    "\n",
    "        html.Div([\n",
    "            dcc.Markdown(\"\"\"\n",
    "                **Selection Data**\n",
    "\n",
    "                Choose the lasso or rectangle tool in the graph's menu\n",
    "                bar and then select points in the graph.\n",
    "\n",
    "                Note that if `layout.clickmode = 'event+select'`, selection data also \n",
    "                accumulates (or un-accumulates) selected data if you hold down the shift\n",
    "                button while clicking.\n",
    "            \"\"\"),\n",
    "            html.Pre(id='selected-data', style=styles['pre']),\n",
    "        ], className='three columns'),\n",
    "\n",
    "        html.Div([\n",
    "            dcc.Markdown(\"\"\"\n",
    "                **Zoom and Relayout Data**\n",
    "\n",
    "                Click and drag on the graph to zoom or click on the zoom\n",
    "                buttons in the graph's menu bar.\n",
    "                Clicking on legend items will also fire\n",
    "                this event.\n",
    "            \"\"\"),\n",
    "            html.Pre(id='relayout-data', style=styles['pre']),\n",
    "        ], className='three columns')\n",
    "    ])\n",
    "])\n",
    "\n",
    "\n",
    "@app.callback(\n",
    "    Output('hover-data', 'children'),\n",
    "    [Input('basic-interactions', 'hoverData')])\n",
    "def display_hover_data(hoverData):\n",
    "    return json.dumps(hoverData, indent=2)\n",
    "\n",
    "\n",
    "@app.callback(\n",
    "    Output('click-data', 'children'),\n",
    "    [Input('basic-interactions', 'clickData')])\n",
    "def display_click_data(clickData):\n",
    "    return json.dumps(clickData, indent=2)\n",
    "\n",
    "\n",
    "@app.callback(\n",
    "    Output('selected-data', 'children'),\n",
    "    [Input('basic-interactions', 'selectedData')])\n",
    "def display_selected_data(selectedData):\n",
    "    return json.dumps(selectedData, indent=2)\n",
    "\n",
    "\n",
    "@app.callback(\n",
    "    Output('relayout-data', 'children'),\n",
    "    [Input('basic-interactions', 'relayoutData')])\n",
    "def display_relayout_data(relayoutData):\n",
    "    return json.dumps(relayoutData, indent=2)\n",
    "\n",
    "\n",
    "if __name__ == '__main__':\n",
    "    app.run_server(debug=True)"
   ]
  },
  {
   "cell_type": "markdown",
   "metadata": {},
   "source": [
    "# left top"
   ]
  },
  {
   "cell_type": "code",
   "execution_count": null,
   "metadata": {},
   "outputs": [],
   "source": [
    "df = px.data.tips()\n",
    "\n",
    "fig = px.density_contour(df, x=\"total_bill\", y=\"tip\", marginal_x=\"histogram\", marginal_y=\"histogram\")\n",
    "fig.show()"
   ]
  },
  {
   "cell_type": "code",
   "execution_count": null,
   "metadata": {},
   "outputs": [],
   "source": [
    "fig = px.density_contour(df, x=\"total_bill\", y=\"tip\")\n",
    "fig.update_traces(contours_coloring=\"fill\", contours_showlabels = True)\n",
    "fig.show()\n"
   ]
  },
  {
   "cell_type": "code",
   "execution_count": null,
   "metadata": {},
   "outputs": [],
   "source": [
    "df = px.data.iris()\n",
    "fig = px.density_contour(df, x=\"sepal_width\", y=\"sepal_length\", color=\"species\", marginal_x=\"rug\", marginal_y=\"histogram\")\n",
    "fig.show()"
   ]
  },
  {
   "cell_type": "code",
   "execution_count": null,
   "metadata": {},
   "outputs": [],
   "source": [
    "df = px.data.iris()\n",
    "fig = px.scatter(df, x=\"sepal_width\", y=\"sepal_length\", color=\"species\", marginal_y=\"violin\",\n",
    "           marginal_x=\"box\", trendline=\"lowess\", template=\"simple_white\")\n",
    "\n",
    "fig.show()"
   ]
  },
  {
   "cell_type": "markdown",
   "metadata": {},
   "source": [
    "# left top end"
   ]
  },
  {
   "cell_type": "markdown",
   "metadata": {},
   "source": [
    "# right top\n"
   ]
  },
  {
   "cell_type": "code",
   "execution_count": null,
   "metadata": {},
   "outputs": [],
   "source": [
    "marginals = [\"rug\", \"histogram\", \"violin\"]\n",
    "\n",
    "def build_graphB1(marginal=\"None\", trendline):\n",
    "    if marginal == \"None\": marginal_x, marginal_y = None\n",
    "    \n",
    "    if color == \"None\": color = None\n",
    "    \n",
    "    if trendline == \"Ordinary Least Squares Regression\": trendline = 'ols'\n",
    "    elif trendline == \"Locally Weighted Smoothing\": trendline = 'lowess'\n",
    "    \n",
    "    \n",
    "    \n",
    "    df = px.data.tips()\n",
    "\n",
    "    \n",
    "    if mode == \"Scatter\"\n",
    "        fig = px.scatter(df, x=x_axis, y=\"sepal_length\", color=\"species\", marginal_y=marginal,\n",
    "           marginal_x=marginal, trendline=\"ols\")\n",
    "    if mode == \"Heat\"\n",
    "        fig = px.density_heatmap(df, x=x_axis, y=\"tip\", marginal_x=marginal, marginal_y=marginal)\n",
    "    if mode == \"Density\"\n",
    "        #fig = px.density_contour(df, x=\"total_bill\", y=\"tip\", marginal_x=marginal_x, marginal_y=marginal_y)\n",
    "        fig = px.density_contour(df, x=x_axis, y=\"sepal_length\", color=\"species\", marginal_x=marginal, marginal_y=marginal)\n",
    "        \n",
    "    if mode == \"Density Fill\"\n",
    "        fig = px.density_contour(df, x=\"total_bill\", y=\"tip\")\n",
    "        fig.update_traces(contours_coloring=\"fill\", contours_showlabels = True)\n",
    "    \n",
    "    \n",
    "    fig.show()"
   ]
  },
  {
   "cell_type": "code",
   "execution_count": 80,
   "metadata": {
    "scrolled": false
   },
   "outputs": [
    {
     "data": {
      "application/vnd.plotly.v1+json": {
       "config": {
        "plotlyServerURL": "https://plot.ly"
       },
       "data": [
        {
         "contours": {
          "coloring": "none"
         },
         "hoverlabel": {
          "namelength": 0
         },
         "hovertemplate": "Type=OEM<br>LeadType=Vendor<br>ProbPercent=%{x}<br>PotentialValue=%{y}<br>count=%{z}",
         "legendgroup": "OEM",
         "line": {
          "color": "#636efa"
         },
         "name": "OEM",
         "showlegend": true,
         "type": "histogram2dcontour",
         "x": [
          0.75,
          0.75,
          0.75,
          0.9,
          0.1,
          0.5,
          0.7,
          0.5,
          0.75,
          0.8,
          0.5,
          0.5,
          0.75,
          0.1,
          0.25,
          0.25,
          0.25,
          0.9
         ],
         "xaxis": "x5",
         "xbingroup": "x",
         "y": [
          7753,
          44226,
          14840,
          50000,
          75000,
          250000,
          35000,
          10000,
          30000,
          40000,
          200000,
          20000,
          150000,
          100000,
          350000,
          65000,
          16000,
          20000
         ],
         "yaxis": "y5",
         "ybingroup": "y"
        },
        {
         "contours": {
          "coloring": "none"
         },
         "hoverlabel": {
          "namelength": 0
         },
         "hovertemplate": "Type=OEM<br>LeadType=AWC Internal<br>ProbPercent=%{x}<br>PotentialValue=%{y}<br>count=%{z}",
         "legendgroup": "OEM",
         "line": {
          "color": "#636efa"
         },
         "name": "OEM",
         "showlegend": false,
         "type": "histogram2dcontour",
         "x": [
          0.75,
          0.25,
          0.75,
          0.75,
          0.5,
          1,
          1,
          0.5,
          0.5,
          0.5,
          0.5,
          0.99,
          0.5,
          0.1,
          0.3,
          0.75,
          0.75,
          0.75,
          0.1,
          1,
          0.5
         ],
         "xaxis": "x6",
         "xbingroup": "x",
         "y": [
          45000,
          125000,
          250000,
          20000,
          12000,
          80000,
          7000,
          80000,
          25000,
          250000,
          80000,
          150000,
          50000,
          10000,
          250000,
          100000,
          200000,
          100000,
          80000,
          15000,
          30000
         ],
         "yaxis": "y6",
         "ybingroup": "y"
        },
        {
         "contours": {
          "coloring": "none"
         },
         "hoverlabel": {
          "namelength": 0
         },
         "hovertemplate": "Type=OEM<br>LeadType=Customer<br>ProbPercent=%{x}<br>PotentialValue=%{y}<br>count=%{z}",
         "legendgroup": "OEM",
         "line": {
          "color": "#636efa"
         },
         "name": "OEM",
         "showlegend": false,
         "type": "histogram2dcontour",
         "x": [
          0.75,
          0.5,
          0.9,
          1,
          0.8,
          0.5,
          0.65,
          0.75,
          0.6,
          0.8,
          0.2,
          0.9,
          0.75,
          0.99,
          0.5,
          0.75,
          0.75,
          0.75,
          0.5,
          0.99,
          1,
          0.75,
          0.6,
          1,
          0.99,
          0.1,
          0.1,
          0.1,
          0.1,
          0.1,
          0.1,
          0.25,
          0.25,
          0.25,
          0.5,
          0.75,
          0.75,
          0.75,
          0.75,
          0.75,
          0.9,
          0.9,
          0.9,
          0.1,
          0.2,
          0.3,
          0.9,
          0.4,
          0.3,
          0.4,
          0.5,
          0.2,
          0.4,
          0.3,
          0.9,
          0.6,
          0.75,
          0.6,
          0.8,
          1,
          1,
          0.8,
          0.5
         ],
         "xaxis": "x7",
         "xbingroup": "x",
         "y": [
          15000,
          30000,
          20000,
          30000,
          100000,
          50000,
          20000,
          65000,
          20000,
          60000,
          35000,
          15000,
          150000,
          20000,
          50000,
          150000,
          120000,
          150000,
          250000,
          30000,
          16000,
          25000,
          22000,
          16373,
          400000,
          100000,
          60000,
          50000,
          500000,
          150000,
          150000,
          500000,
          500000,
          80000,
          40000,
          80000,
          10000,
          10000,
          5000,
          50000,
          100000,
          80000,
          25000,
          40000,
          500000,
          100000,
          30000,
          30000,
          100000,
          200000,
          150000,
          150000,
          200000,
          90000,
          10000,
          66583,
          400000,
          10000,
          50000,
          130000,
          94000,
          15000,
          100000
         ],
         "yaxis": "y7",
         "ybingroup": "y"
        },
        {
         "contours": {
          "coloring": "none"
         },
         "hoverlabel": {
          "namelength": 0
         },
         "hovertemplate": "Type=OEM<br>LeadType=Colleague<br>ProbPercent=%{x}<br>PotentialValue=%{y}<br>count=%{z}",
         "legendgroup": "OEM",
         "line": {
          "color": "#636efa"
         },
         "name": "OEM",
         "showlegend": false,
         "type": "histogram2dcontour",
         "x": [
          0.5
         ],
         "xaxis": "x8",
         "xbingroup": "x",
         "y": [
          300000
         ],
         "yaxis": "y8",
         "ybingroup": "y"
        },
        {
         "contours": {
          "coloring": "none"
         },
         "hoverlabel": {
          "namelength": 0
         },
         "hovertemplate": "Type=OEM<br>LeadType=Other<br>ProbPercent=%{x}<br>PotentialValue=%{y}<br>count=%{z}",
         "legendgroup": "OEM",
         "line": {
          "color": "#636efa"
         },
         "name": "OEM",
         "showlegend": false,
         "type": "histogram2dcontour",
         "x": [
          0.5,
          0.2
         ],
         "xaxis": "x",
         "xbingroup": "x",
         "y": [
          20000,
          60000
         ],
         "yaxis": "y",
         "ybingroup": "y"
        },
        {
         "contours": {
          "coloring": "none"
         },
         "hoverlabel": {
          "namelength": 0
         },
         "hovertemplate": "Type=OEM<br>LeadType=ADC<br>ProbPercent=%{x}<br>PotentialValue=%{y}<br>count=%{z}",
         "legendgroup": "OEM",
         "line": {
          "color": "#636efa"
         },
         "name": "OEM",
         "showlegend": false,
         "type": "histogram2dcontour",
         "x": [
          0.2
         ],
         "xaxis": "x4",
         "xbingroup": "x",
         "y": [
          30000
         ],
         "yaxis": "y4",
         "ybingroup": "y"
        },
        {
         "contours": {
          "coloring": "none"
         },
         "hoverlabel": {
          "namelength": 0
         },
         "hovertemplate": "Type=Contractor<br>LeadType=Vendor<br>ProbPercent=%{x}<br>PotentialValue=%{y}<br>count=%{z}",
         "legendgroup": "Contractor",
         "line": {
          "color": "#EF553B"
         },
         "name": "Contractor",
         "showlegend": true,
         "type": "histogram2dcontour",
         "x": [
          0.9,
          0.1,
          0.75
         ],
         "xaxis": "x5",
         "xbingroup": "x",
         "y": [
          65000,
          10000,
          100000
         ],
         "yaxis": "y5",
         "ybingroup": "y"
        },
        {
         "contours": {
          "coloring": "none"
         },
         "hoverlabel": {
          "namelength": 0
         },
         "hovertemplate": "Type=Contractor<br>LeadType=AWC Internal<br>ProbPercent=%{x}<br>PotentialValue=%{y}<br>count=%{z}",
         "legendgroup": "Contractor",
         "line": {
          "color": "#EF553B"
         },
         "name": "Contractor",
         "showlegend": false,
         "type": "histogram2dcontour",
         "x": [
          0.6,
          0.3
         ],
         "xaxis": "x6",
         "xbingroup": "x",
         "y": [
          84867,
          10000
         ],
         "yaxis": "y6",
         "ybingroup": "y"
        },
        {
         "contours": {
          "coloring": "none"
         },
         "hoverlabel": {
          "namelength": 0
         },
         "hovertemplate": "Type=Contractor<br>LeadType=Customer<br>ProbPercent=%{x}<br>PotentialValue=%{y}<br>count=%{z}",
         "legendgroup": "Contractor",
         "line": {
          "color": "#EF553B"
         },
         "name": "Contractor",
         "showlegend": false,
         "type": "histogram2dcontour",
         "x": [
          0.6,
          0.5,
          0.5,
          0.75
         ],
         "xaxis": "x7",
         "xbingroup": "x",
         "y": [
          40000,
          8000,
          8000,
          21000
         ],
         "yaxis": "y7",
         "ybingroup": "y"
        },
        {
         "contours": {
          "coloring": "none"
         },
         "hoverlabel": {
          "namelength": 0
         },
         "hovertemplate": "Type=End User<br>LeadType=Vendor<br>ProbPercent=%{x}<br>PotentialValue=%{y}<br>count=%{z}",
         "legendgroup": "End User",
         "line": {
          "color": "#00cc96"
         },
         "name": "End User",
         "showlegend": true,
         "type": "histogram2dcontour",
         "x": [
          0.25,
          1,
          0.8,
          0.25,
          0.3,
          0.5,
          1,
          0.3,
          0.1,
          0.5,
          0.5,
          0.1,
          0.5,
          0.5,
          0.75,
          0.25,
          0.75,
          0.5,
          0.9
         ],
         "xaxis": "x5",
         "xbingroup": "x",
         "y": [
          10000,
          11040,
          23000,
          10000,
          110000,
          20000,
          7500,
          50000,
          60000,
          20000,
          100000,
          50000,
          75000,
          500000,
          20000,
          50000,
          125000,
          28000,
          133694
         ],
         "yaxis": "y5",
         "ybingroup": "y"
        },
        {
         "contours": {
          "coloring": "none"
         },
         "hoverlabel": {
          "namelength": 0
         },
         "hovertemplate": "Type=End User<br>LeadType=AWC Internal<br>ProbPercent=%{x}<br>PotentialValue=%{y}<br>count=%{z}",
         "legendgroup": "End User",
         "line": {
          "color": "#00cc96"
         },
         "name": "End User",
         "showlegend": false,
         "type": "histogram2dcontour",
         "x": [
          0.75,
          0.5,
          0.5,
          0.8,
          0.9,
          0.6,
          0.5,
          0.5,
          0.95,
          0.5,
          0.75,
          0.95,
          0.75,
          0.75,
          0.5,
          0.75,
          0.5
         ],
         "xaxis": "x6",
         "xbingroup": "x",
         "y": [
          18000,
          21000,
          75000,
          2000,
          10000,
          10000,
          70000,
          20000,
          10000,
          50000,
          225000,
          200000,
          40000,
          50000,
          500000,
          32000,
          25000
         ],
         "yaxis": "y6",
         "ybingroup": "y"
        },
        {
         "contours": {
          "coloring": "none"
         },
         "hoverlabel": {
          "namelength": 0
         },
         "hovertemplate": "Type=End User<br>LeadType=Customer<br>ProbPercent=%{x}<br>PotentialValue=%{y}<br>count=%{z}",
         "legendgroup": "End User",
         "line": {
          "color": "#00cc96"
         },
         "name": "End User",
         "showlegend": false,
         "type": "histogram2dcontour",
         "x": [
          0.75,
          0.5,
          0.5,
          1,
          0.75,
          0.2,
          0.5,
          0.5,
          0.4,
          0.75,
          0.75,
          0.8,
          1,
          0.75,
          0.99,
          0.99,
          0.99,
          0.85,
          0.5,
          0.75,
          0.5,
          1,
          0.5,
          1,
          0.9,
          0.9,
          0.9,
          0.6,
          0.3,
          0.8,
          0.4,
          0.5,
          0.8,
          0.6
         ],
         "xaxis": "x7",
         "xbingroup": "x",
         "y": [
          333404,
          13000,
          45000,
          24000,
          50000,
          360000,
          10000,
          85000,
          300000,
          125000,
          50000,
          65000,
          7500,
          71000,
          133000,
          133000,
          560000,
          57000,
          24700,
          60000,
          35000,
          25000,
          20000,
          65000,
          100000,
          100000,
          10000,
          40000,
          150000,
          47035,
          20000,
          10000,
          245790,
          20000
         ],
         "yaxis": "y7",
         "ybingroup": "y"
        },
        {
         "contours": {
          "coloring": "none"
         },
         "hoverlabel": {
          "namelength": 0
         },
         "hovertemplate": "Type=End User<br>LeadType=Colleague<br>ProbPercent=%{x}<br>PotentialValue=%{y}<br>count=%{z}",
         "legendgroup": "End User",
         "line": {
          "color": "#00cc96"
         },
         "name": "End User",
         "showlegend": false,
         "type": "histogram2dcontour",
         "x": [
          0.1,
          0.3,
          0.5,
          0.75,
          0.6
         ],
         "xaxis": "x8",
         "xbingroup": "x",
         "y": [
          100000,
          12000,
          120000,
          53000,
          16290
         ],
         "yaxis": "y8",
         "ybingroup": "y"
        },
        {
         "contours": {
          "coloring": "none"
         },
         "hoverlabel": {
          "namelength": 0
         },
         "hovertemplate": "Type=End User<br>LeadType=Other<br>ProbPercent=%{x}<br>PotentialValue=%{y}<br>count=%{z}",
         "legendgroup": "End User",
         "line": {
          "color": "#00cc96"
         },
         "name": "End User",
         "showlegend": false,
         "type": "histogram2dcontour",
         "x": [
          0.15
         ],
         "xaxis": "x",
         "xbingroup": "x",
         "y": [
          75000
         ],
         "yaxis": "y",
         "ybingroup": "y"
        },
        {
         "contours": {
          "coloring": "none"
         },
         "hoverlabel": {
          "namelength": 0
         },
         "hovertemplate": "Type=End User<br>LeadType=Prospecting<br>ProbPercent=%{x}<br>PotentialValue=%{y}<br>count=%{z}",
         "legendgroup": "End User",
         "line": {
          "color": "#00cc96"
         },
         "name": "End User",
         "showlegend": false,
         "type": "histogram2dcontour",
         "x": [
          0.5,
          0.2,
          0.4,
          0.3,
          1,
          1
         ],
         "xaxis": "x2",
         "xbingroup": "x",
         "y": [
          100000,
          100000,
          20000,
          25000,
          250000,
          45000
         ],
         "yaxis": "y2",
         "ybingroup": "y"
        },
        {
         "contours": {
          "coloring": "none"
         },
         "hoverlabel": {
          "namelength": 0
         },
         "hovertemplate": "Type=End User<br>LeadType=colleague<br>ProbPercent=%{x}<br>PotentialValue=%{y}<br>count=%{z}",
         "legendgroup": "End User",
         "line": {
          "color": "#00cc96"
         },
         "name": "End User",
         "showlegend": false,
         "type": "histogram2dcontour",
         "x": [
          0.5,
          0.5
         ],
         "xaxis": "x3",
         "xbingroup": "x",
         "y": [
          100000,
          250000
         ],
         "yaxis": "y3",
         "ybingroup": "y"
        },
        {
         "contours": {
          "coloring": "none"
         },
         "hoverlabel": {
          "namelength": 0
         },
         "hovertemplate": "Type=Integrator<br>LeadType=Vendor<br>ProbPercent=%{x}<br>PotentialValue=%{y}<br>count=%{z}",
         "legendgroup": "Integrator",
         "line": {
          "color": "#ab63fa"
         },
         "name": "Integrator",
         "showlegend": true,
         "type": "histogram2dcontour",
         "x": [
          0.5,
          0.9,
          0.5,
          0.5,
          0.9
         ],
         "xaxis": "x5",
         "xbingroup": "x",
         "y": [
          10000,
          75000,
          45000,
          60000,
          90000
         ],
         "yaxis": "y5",
         "ybingroup": "y"
        },
        {
         "contours": {
          "coloring": "none"
         },
         "hoverlabel": {
          "namelength": 0
         },
         "hovertemplate": "Type=Integrator<br>LeadType=AWC Internal<br>ProbPercent=%{x}<br>PotentialValue=%{y}<br>count=%{z}",
         "legendgroup": "Integrator",
         "line": {
          "color": "#ab63fa"
         },
         "name": "Integrator",
         "showlegend": false,
         "type": "histogram2dcontour",
         "x": [
          0.75,
          0.4,
          0.5
         ],
         "xaxis": "x6",
         "xbingroup": "x",
         "y": [
          55000,
          60000,
          37000
         ],
         "yaxis": "y6",
         "ybingroup": "y"
        },
        {
         "contours": {
          "coloring": "none"
         },
         "hoverlabel": {
          "namelength": 0
         },
         "hovertemplate": "Type=Integrator<br>LeadType=Customer<br>ProbPercent=%{x}<br>PotentialValue=%{y}<br>count=%{z}",
         "legendgroup": "Integrator",
         "line": {
          "color": "#ab63fa"
         },
         "name": "Integrator",
         "showlegend": false,
         "type": "histogram2dcontour",
         "x": [
          0.9,
          0.5,
          0.2,
          0.9,
          0.65,
          0.8,
          0.5,
          0.5,
          0.5,
          0.75,
          0.25,
          0.75,
          0.6,
          0.5,
          0.2
         ],
         "xaxis": "x7",
         "xbingroup": "x",
         "y": [
          27500,
          70000,
          20000,
          25000,
          100000,
          10000,
          75000,
          120000,
          50000,
          50000,
          15000,
          50000,
          396350,
          269355,
          50000
         ],
         "yaxis": "y7",
         "ybingroup": "y"
        },
        {
         "contours": {
          "coloring": "none"
         },
         "hoverlabel": {
          "namelength": 0
         },
         "hovertemplate": "Type=Integrator<br>LeadType=Colleague<br>ProbPercent=%{x}<br>PotentialValue=%{y}<br>count=%{z}",
         "legendgroup": "Integrator",
         "line": {
          "color": "#ab63fa"
         },
         "name": "Integrator",
         "showlegend": false,
         "type": "histogram2dcontour",
         "x": [
          0.5
         ],
         "xaxis": "x8",
         "xbingroup": "x",
         "y": [
          50000
         ],
         "yaxis": "y8",
         "ybingroup": "y"
        },
        {
         "contours": {
          "coloring": "none"
         },
         "hoverlabel": {
          "namelength": 0
         },
         "hovertemplate": "Type=Integrator<br>LeadType=Other<br>ProbPercent=%{x}<br>PotentialValue=%{y}<br>count=%{z}",
         "legendgroup": "Integrator",
         "line": {
          "color": "#ab63fa"
         },
         "name": "Integrator",
         "showlegend": false,
         "type": "histogram2dcontour",
         "x": [
          0.9
         ],
         "xaxis": "x",
         "xbingroup": "x",
         "y": [
          100000
         ],
         "yaxis": "y",
         "ybingroup": "y"
        },
        {
         "contours": {
          "coloring": "none"
         },
         "hoverlabel": {
          "namelength": 0
         },
         "hovertemplate": "Type=Integrator<br>LeadType=Prospecting<br>ProbPercent=%{x}<br>PotentialValue=%{y}<br>count=%{z}",
         "legendgroup": "Integrator",
         "line": {
          "color": "#ab63fa"
         },
         "name": "Integrator",
         "showlegend": false,
         "type": "histogram2dcontour",
         "x": [
          0.75
         ],
         "xaxis": "x2",
         "xbingroup": "x",
         "y": [
          200000
         ],
         "yaxis": "y2",
         "ybingroup": "y"
        }
       ],
       "layout": {
        "annotations": [
         {
          "font": {},
          "showarrow": false,
          "text": "LeadType=Other",
          "x": 0.1175,
          "xanchor": "center",
          "xref": "paper",
          "y": 0.46499999999999997,
          "yanchor": "bottom",
          "yref": "paper"
         },
         {
          "font": {},
          "showarrow": false,
          "text": "LeadType=Prospecting",
          "x": 0.3725,
          "xanchor": "center",
          "xref": "paper",
          "y": 0.46499999999999997,
          "yanchor": "bottom",
          "yref": "paper"
         },
         {
          "font": {},
          "showarrow": false,
          "text": "LeadType=colleague",
          "x": 0.6275,
          "xanchor": "center",
          "xref": "paper",
          "y": 0.46499999999999997,
          "yanchor": "bottom",
          "yref": "paper"
         },
         {
          "font": {},
          "showarrow": false,
          "text": "LeadType=ADC",
          "x": 0.8824999999999998,
          "xanchor": "center",
          "xref": "paper",
          "y": 0.46499999999999997,
          "yanchor": "bottom",
          "yref": "paper"
         },
         {
          "font": {},
          "showarrow": false,
          "text": "LeadType=Vendor",
          "x": 0.1175,
          "xanchor": "center",
          "xref": "paper",
          "y": 0.9999999999999999,
          "yanchor": "bottom",
          "yref": "paper"
         },
         {
          "font": {},
          "showarrow": false,
          "text": "LeadType=AWC Internal",
          "x": 0.3725,
          "xanchor": "center",
          "xref": "paper",
          "y": 0.9999999999999999,
          "yanchor": "bottom",
          "yref": "paper"
         },
         {
          "font": {},
          "showarrow": false,
          "text": "LeadType=Customer",
          "x": 0.6275,
          "xanchor": "center",
          "xref": "paper",
          "y": 0.9999999999999999,
          "yanchor": "bottom",
          "yref": "paper"
         },
         {
          "font": {},
          "showarrow": false,
          "text": "LeadType=Colleague",
          "x": 0.8824999999999998,
          "xanchor": "center",
          "xref": "paper",
          "y": 0.9999999999999999,
          "yanchor": "bottom",
          "yref": "paper"
         }
        ],
        "legend": {
         "title": {
          "text": "Type"
         },
         "tracegroupgap": 0
        },
        "margin": {
         "t": 60
        },
        "template": {
         "data": {
          "bar": [
           {
            "error_x": {
             "color": "#2a3f5f"
            },
            "error_y": {
             "color": "#2a3f5f"
            },
            "marker": {
             "line": {
              "color": "#E5ECF6",
              "width": 0.5
             }
            },
            "type": "bar"
           }
          ],
          "barpolar": [
           {
            "marker": {
             "line": {
              "color": "#E5ECF6",
              "width": 0.5
             }
            },
            "type": "barpolar"
           }
          ],
          "carpet": [
           {
            "aaxis": {
             "endlinecolor": "#2a3f5f",
             "gridcolor": "white",
             "linecolor": "white",
             "minorgridcolor": "white",
             "startlinecolor": "#2a3f5f"
            },
            "baxis": {
             "endlinecolor": "#2a3f5f",
             "gridcolor": "white",
             "linecolor": "white",
             "minorgridcolor": "white",
             "startlinecolor": "#2a3f5f"
            },
            "type": "carpet"
           }
          ],
          "choropleth": [
           {
            "colorbar": {
             "outlinewidth": 0,
             "ticks": ""
            },
            "type": "choropleth"
           }
          ],
          "contour": [
           {
            "colorbar": {
             "outlinewidth": 0,
             "ticks": ""
            },
            "colorscale": [
             [
              0,
              "#0d0887"
             ],
             [
              0.1111111111111111,
              "#46039f"
             ],
             [
              0.2222222222222222,
              "#7201a8"
             ],
             [
              0.3333333333333333,
              "#9c179e"
             ],
             [
              0.4444444444444444,
              "#bd3786"
             ],
             [
              0.5555555555555556,
              "#d8576b"
             ],
             [
              0.6666666666666666,
              "#ed7953"
             ],
             [
              0.7777777777777778,
              "#fb9f3a"
             ],
             [
              0.8888888888888888,
              "#fdca26"
             ],
             [
              1,
              "#f0f921"
             ]
            ],
            "type": "contour"
           }
          ],
          "contourcarpet": [
           {
            "colorbar": {
             "outlinewidth": 0,
             "ticks": ""
            },
            "type": "contourcarpet"
           }
          ],
          "heatmap": [
           {
            "colorbar": {
             "outlinewidth": 0,
             "ticks": ""
            },
            "colorscale": [
             [
              0,
              "#0d0887"
             ],
             [
              0.1111111111111111,
              "#46039f"
             ],
             [
              0.2222222222222222,
              "#7201a8"
             ],
             [
              0.3333333333333333,
              "#9c179e"
             ],
             [
              0.4444444444444444,
              "#bd3786"
             ],
             [
              0.5555555555555556,
              "#d8576b"
             ],
             [
              0.6666666666666666,
              "#ed7953"
             ],
             [
              0.7777777777777778,
              "#fb9f3a"
             ],
             [
              0.8888888888888888,
              "#fdca26"
             ],
             [
              1,
              "#f0f921"
             ]
            ],
            "type": "heatmap"
           }
          ],
          "heatmapgl": [
           {
            "colorbar": {
             "outlinewidth": 0,
             "ticks": ""
            },
            "colorscale": [
             [
              0,
              "#0d0887"
             ],
             [
              0.1111111111111111,
              "#46039f"
             ],
             [
              0.2222222222222222,
              "#7201a8"
             ],
             [
              0.3333333333333333,
              "#9c179e"
             ],
             [
              0.4444444444444444,
              "#bd3786"
             ],
             [
              0.5555555555555556,
              "#d8576b"
             ],
             [
              0.6666666666666666,
              "#ed7953"
             ],
             [
              0.7777777777777778,
              "#fb9f3a"
             ],
             [
              0.8888888888888888,
              "#fdca26"
             ],
             [
              1,
              "#f0f921"
             ]
            ],
            "type": "heatmapgl"
           }
          ],
          "histogram": [
           {
            "marker": {
             "colorbar": {
              "outlinewidth": 0,
              "ticks": ""
             }
            },
            "type": "histogram"
           }
          ],
          "histogram2d": [
           {
            "colorbar": {
             "outlinewidth": 0,
             "ticks": ""
            },
            "colorscale": [
             [
              0,
              "#0d0887"
             ],
             [
              0.1111111111111111,
              "#46039f"
             ],
             [
              0.2222222222222222,
              "#7201a8"
             ],
             [
              0.3333333333333333,
              "#9c179e"
             ],
             [
              0.4444444444444444,
              "#bd3786"
             ],
             [
              0.5555555555555556,
              "#d8576b"
             ],
             [
              0.6666666666666666,
              "#ed7953"
             ],
             [
              0.7777777777777778,
              "#fb9f3a"
             ],
             [
              0.8888888888888888,
              "#fdca26"
             ],
             [
              1,
              "#f0f921"
             ]
            ],
            "type": "histogram2d"
           }
          ],
          "histogram2dcontour": [
           {
            "colorbar": {
             "outlinewidth": 0,
             "ticks": ""
            },
            "colorscale": [
             [
              0,
              "#0d0887"
             ],
             [
              0.1111111111111111,
              "#46039f"
             ],
             [
              0.2222222222222222,
              "#7201a8"
             ],
             [
              0.3333333333333333,
              "#9c179e"
             ],
             [
              0.4444444444444444,
              "#bd3786"
             ],
             [
              0.5555555555555556,
              "#d8576b"
             ],
             [
              0.6666666666666666,
              "#ed7953"
             ],
             [
              0.7777777777777778,
              "#fb9f3a"
             ],
             [
              0.8888888888888888,
              "#fdca26"
             ],
             [
              1,
              "#f0f921"
             ]
            ],
            "type": "histogram2dcontour"
           }
          ],
          "mesh3d": [
           {
            "colorbar": {
             "outlinewidth": 0,
             "ticks": ""
            },
            "type": "mesh3d"
           }
          ],
          "parcoords": [
           {
            "line": {
             "colorbar": {
              "outlinewidth": 0,
              "ticks": ""
             }
            },
            "type": "parcoords"
           }
          ],
          "pie": [
           {
            "automargin": true,
            "type": "pie"
           }
          ],
          "scatter": [
           {
            "marker": {
             "colorbar": {
              "outlinewidth": 0,
              "ticks": ""
             }
            },
            "type": "scatter"
           }
          ],
          "scatter3d": [
           {
            "line": {
             "colorbar": {
              "outlinewidth": 0,
              "ticks": ""
             }
            },
            "marker": {
             "colorbar": {
              "outlinewidth": 0,
              "ticks": ""
             }
            },
            "type": "scatter3d"
           }
          ],
          "scattercarpet": [
           {
            "marker": {
             "colorbar": {
              "outlinewidth": 0,
              "ticks": ""
             }
            },
            "type": "scattercarpet"
           }
          ],
          "scattergeo": [
           {
            "marker": {
             "colorbar": {
              "outlinewidth": 0,
              "ticks": ""
             }
            },
            "type": "scattergeo"
           }
          ],
          "scattergl": [
           {
            "marker": {
             "colorbar": {
              "outlinewidth": 0,
              "ticks": ""
             }
            },
            "type": "scattergl"
           }
          ],
          "scattermapbox": [
           {
            "marker": {
             "colorbar": {
              "outlinewidth": 0,
              "ticks": ""
             }
            },
            "type": "scattermapbox"
           }
          ],
          "scatterpolar": [
           {
            "marker": {
             "colorbar": {
              "outlinewidth": 0,
              "ticks": ""
             }
            },
            "type": "scatterpolar"
           }
          ],
          "scatterpolargl": [
           {
            "marker": {
             "colorbar": {
              "outlinewidth": 0,
              "ticks": ""
             }
            },
            "type": "scatterpolargl"
           }
          ],
          "scatterternary": [
           {
            "marker": {
             "colorbar": {
              "outlinewidth": 0,
              "ticks": ""
             }
            },
            "type": "scatterternary"
           }
          ],
          "surface": [
           {
            "colorbar": {
             "outlinewidth": 0,
             "ticks": ""
            },
            "colorscale": [
             [
              0,
              "#0d0887"
             ],
             [
              0.1111111111111111,
              "#46039f"
             ],
             [
              0.2222222222222222,
              "#7201a8"
             ],
             [
              0.3333333333333333,
              "#9c179e"
             ],
             [
              0.4444444444444444,
              "#bd3786"
             ],
             [
              0.5555555555555556,
              "#d8576b"
             ],
             [
              0.6666666666666666,
              "#ed7953"
             ],
             [
              0.7777777777777778,
              "#fb9f3a"
             ],
             [
              0.8888888888888888,
              "#fdca26"
             ],
             [
              1,
              "#f0f921"
             ]
            ],
            "type": "surface"
           }
          ],
          "table": [
           {
            "cells": {
             "fill": {
              "color": "#EBF0F8"
             },
             "line": {
              "color": "white"
             }
            },
            "header": {
             "fill": {
              "color": "#C8D4E3"
             },
             "line": {
              "color": "white"
             }
            },
            "type": "table"
           }
          ]
         },
         "layout": {
          "annotationdefaults": {
           "arrowcolor": "#2a3f5f",
           "arrowhead": 0,
           "arrowwidth": 1
          },
          "coloraxis": {
           "colorbar": {
            "outlinewidth": 0,
            "ticks": ""
           }
          },
          "colorscale": {
           "diverging": [
            [
             0,
             "#8e0152"
            ],
            [
             0.1,
             "#c51b7d"
            ],
            [
             0.2,
             "#de77ae"
            ],
            [
             0.3,
             "#f1b6da"
            ],
            [
             0.4,
             "#fde0ef"
            ],
            [
             0.5,
             "#f7f7f7"
            ],
            [
             0.6,
             "#e6f5d0"
            ],
            [
             0.7,
             "#b8e186"
            ],
            [
             0.8,
             "#7fbc41"
            ],
            [
             0.9,
             "#4d9221"
            ],
            [
             1,
             "#276419"
            ]
           ],
           "sequential": [
            [
             0,
             "#0d0887"
            ],
            [
             0.1111111111111111,
             "#46039f"
            ],
            [
             0.2222222222222222,
             "#7201a8"
            ],
            [
             0.3333333333333333,
             "#9c179e"
            ],
            [
             0.4444444444444444,
             "#bd3786"
            ],
            [
             0.5555555555555556,
             "#d8576b"
            ],
            [
             0.6666666666666666,
             "#ed7953"
            ],
            [
             0.7777777777777778,
             "#fb9f3a"
            ],
            [
             0.8888888888888888,
             "#fdca26"
            ],
            [
             1,
             "#f0f921"
            ]
           ],
           "sequentialminus": [
            [
             0,
             "#0d0887"
            ],
            [
             0.1111111111111111,
             "#46039f"
            ],
            [
             0.2222222222222222,
             "#7201a8"
            ],
            [
             0.3333333333333333,
             "#9c179e"
            ],
            [
             0.4444444444444444,
             "#bd3786"
            ],
            [
             0.5555555555555556,
             "#d8576b"
            ],
            [
             0.6666666666666666,
             "#ed7953"
            ],
            [
             0.7777777777777778,
             "#fb9f3a"
            ],
            [
             0.8888888888888888,
             "#fdca26"
            ],
            [
             1,
             "#f0f921"
            ]
           ]
          },
          "colorway": [
           "#636efa",
           "#EF553B",
           "#00cc96",
           "#ab63fa",
           "#FFA15A",
           "#19d3f3",
           "#FF6692",
           "#B6E880",
           "#FF97FF",
           "#FECB52"
          ],
          "font": {
           "color": "#2a3f5f"
          },
          "geo": {
           "bgcolor": "white",
           "lakecolor": "white",
           "landcolor": "#E5ECF6",
           "showlakes": true,
           "showland": true,
           "subunitcolor": "white"
          },
          "hoverlabel": {
           "align": "left"
          },
          "hovermode": "closest",
          "mapbox": {
           "style": "light"
          },
          "paper_bgcolor": "white",
          "plot_bgcolor": "#E5ECF6",
          "polar": {
           "angularaxis": {
            "gridcolor": "white",
            "linecolor": "white",
            "ticks": ""
           },
           "bgcolor": "#E5ECF6",
           "radialaxis": {
            "gridcolor": "white",
            "linecolor": "white",
            "ticks": ""
           }
          },
          "scene": {
           "xaxis": {
            "backgroundcolor": "#E5ECF6",
            "gridcolor": "white",
            "gridwidth": 2,
            "linecolor": "white",
            "showbackground": true,
            "ticks": "",
            "zerolinecolor": "white"
           },
           "yaxis": {
            "backgroundcolor": "#E5ECF6",
            "gridcolor": "white",
            "gridwidth": 2,
            "linecolor": "white",
            "showbackground": true,
            "ticks": "",
            "zerolinecolor": "white"
           },
           "zaxis": {
            "backgroundcolor": "#E5ECF6",
            "gridcolor": "white",
            "gridwidth": 2,
            "linecolor": "white",
            "showbackground": true,
            "ticks": "",
            "zerolinecolor": "white"
           }
          },
          "shapedefaults": {
           "line": {
            "color": "#2a3f5f"
           }
          },
          "ternary": {
           "aaxis": {
            "gridcolor": "white",
            "linecolor": "white",
            "ticks": ""
           },
           "baxis": {
            "gridcolor": "white",
            "linecolor": "white",
            "ticks": ""
           },
           "bgcolor": "#E5ECF6",
           "caxis": {
            "gridcolor": "white",
            "linecolor": "white",
            "ticks": ""
           }
          },
          "title": {
           "x": 0.05
          },
          "xaxis": {
           "automargin": true,
           "gridcolor": "white",
           "linecolor": "white",
           "ticks": "",
           "title": {
            "standoff": 15
           },
           "zerolinecolor": "white",
           "zerolinewidth": 2
          },
          "yaxis": {
           "automargin": true,
           "gridcolor": "white",
           "linecolor": "white",
           "ticks": "",
           "title": {
            "standoff": 15
           },
           "zerolinecolor": "white",
           "zerolinewidth": 2
          }
         }
        },
        "xaxis": {
         "anchor": "y",
         "domain": [
          0,
          0.235
         ],
         "title": {
          "text": "ProbPercent"
         }
        },
        "xaxis2": {
         "anchor": "y2",
         "domain": [
          0.255,
          0.49
         ],
         "matches": "x",
         "title": {
          "text": "ProbPercent"
         }
        },
        "xaxis3": {
         "anchor": "y3",
         "domain": [
          0.51,
          0.745
         ],
         "matches": "x",
         "title": {
          "text": "ProbPercent"
         }
        },
        "xaxis4": {
         "anchor": "y4",
         "domain": [
          0.7649999999999999,
          0.9999999999999999
         ],
         "matches": "x",
         "title": {
          "text": "ProbPercent"
         }
        },
        "xaxis5": {
         "anchor": "y5",
         "domain": [
          0,
          0.235
         ],
         "matches": "x",
         "showticklabels": false
        },
        "xaxis6": {
         "anchor": "y6",
         "domain": [
          0.255,
          0.49
         ],
         "matches": "x",
         "showticklabels": false
        },
        "xaxis7": {
         "anchor": "y7",
         "domain": [
          0.51,
          0.745
         ],
         "matches": "x",
         "showticklabels": false
        },
        "xaxis8": {
         "anchor": "y8",
         "domain": [
          0.7649999999999999,
          0.9999999999999999
         ],
         "matches": "x",
         "showticklabels": false
        },
        "yaxis": {
         "anchor": "x",
         "domain": [
          0,
          0.46499999999999997
         ],
         "title": {
          "text": "PotentialValue"
         }
        },
        "yaxis2": {
         "anchor": "x2",
         "domain": [
          0,
          0.46499999999999997
         ],
         "matches": "y",
         "showticklabels": false
        },
        "yaxis3": {
         "anchor": "x3",
         "domain": [
          0,
          0.46499999999999997
         ],
         "matches": "y",
         "showticklabels": false
        },
        "yaxis4": {
         "anchor": "x4",
         "domain": [
          0,
          0.46499999999999997
         ],
         "matches": "y",
         "showticklabels": false
        },
        "yaxis5": {
         "anchor": "x5",
         "domain": [
          0.5349999999999999,
          0.9999999999999999
         ],
         "matches": "y",
         "title": {
          "text": "PotentialValue"
         }
        },
        "yaxis6": {
         "anchor": "x6",
         "domain": [
          0.5349999999999999,
          0.9999999999999999
         ],
         "matches": "y",
         "showticklabels": false
        },
        "yaxis7": {
         "anchor": "x7",
         "domain": [
          0.5349999999999999,
          0.9999999999999999
         ],
         "matches": "y",
         "showticklabels": false
        },
        "yaxis8": {
         "anchor": "x8",
         "domain": [
          0.5349999999999999,
          0.9999999999999999
         ],
         "matches": "y",
         "showticklabels": false
        }
       }
      },
      "text/html": [
       "<div>\n",
       "        \n",
       "        \n",
       "            <div id=\"40290250-f99e-4ca6-bfc5-7ee3133a3a68\" class=\"plotly-graph-div\" style=\"height:525px; width:100%;\"></div>\n",
       "            <script type=\"text/javascript\">\n",
       "                require([\"plotly\"], function(Plotly) {\n",
       "                    window.PLOTLYENV=window.PLOTLYENV || {};\n",
       "                    \n",
       "                if (document.getElementById(\"40290250-f99e-4ca6-bfc5-7ee3133a3a68\")) {\n",
       "                    Plotly.newPlot(\n",
       "                        '40290250-f99e-4ca6-bfc5-7ee3133a3a68',\n",
       "                        [{\"contours\": {\"coloring\": \"none\"}, \"hoverlabel\": {\"namelength\": 0}, \"hovertemplate\": \"Type=OEM<br>LeadType=Vendor<br>ProbPercent=%{x}<br>PotentialValue=%{y}<br>count=%{z}\", \"legendgroup\": \"OEM\", \"line\": {\"color\": \"#636efa\"}, \"name\": \"OEM\", \"showlegend\": true, \"type\": \"histogram2dcontour\", \"x\": [0.75, 0.75, 0.75, 0.9, 0.1, 0.5, 0.7, 0.5, 0.75, 0.8, 0.5, 0.5, 0.75, 0.1, 0.25, 0.25, 0.25, 0.9], \"xaxis\": \"x5\", \"xbingroup\": \"x\", \"y\": [7753, 44226, 14840, 50000, 75000, 250000, 35000, 10000, 30000, 40000, 200000, 20000, 150000, 100000, 350000, 65000, 16000, 20000], \"yaxis\": \"y5\", \"ybingroup\": \"y\"}, {\"contours\": {\"coloring\": \"none\"}, \"hoverlabel\": {\"namelength\": 0}, \"hovertemplate\": \"Type=OEM<br>LeadType=AWC Internal<br>ProbPercent=%{x}<br>PotentialValue=%{y}<br>count=%{z}\", \"legendgroup\": \"OEM\", \"line\": {\"color\": \"#636efa\"}, \"name\": \"OEM\", \"showlegend\": false, \"type\": \"histogram2dcontour\", \"x\": [0.75, 0.25, 0.75, 0.75, 0.5, 1.0, 1.0, 0.5, 0.5, 0.5, 0.5, 0.99, 0.5, 0.1, 0.3, 0.75, 0.75, 0.75, 0.1, 1.0, 0.5], \"xaxis\": \"x6\", \"xbingroup\": \"x\", \"y\": [45000, 125000, 250000, 20000, 12000, 80000, 7000, 80000, 25000, 250000, 80000, 150000, 50000, 10000, 250000, 100000, 200000, 100000, 80000, 15000, 30000], \"yaxis\": \"y6\", \"ybingroup\": \"y\"}, {\"contours\": {\"coloring\": \"none\"}, \"hoverlabel\": {\"namelength\": 0}, \"hovertemplate\": \"Type=OEM<br>LeadType=Customer<br>ProbPercent=%{x}<br>PotentialValue=%{y}<br>count=%{z}\", \"legendgroup\": \"OEM\", \"line\": {\"color\": \"#636efa\"}, \"name\": \"OEM\", \"showlegend\": false, \"type\": \"histogram2dcontour\", \"x\": [0.75, 0.5, 0.9, 1.0, 0.8, 0.5, 0.65, 0.75, 0.6, 0.8, 0.2, 0.9, 0.75, 0.99, 0.5, 0.75, 0.75, 0.75, 0.5, 0.99, 1.0, 0.75, 0.6, 1.0, 0.99, 0.1, 0.1, 0.1, 0.1, 0.1, 0.1, 0.25, 0.25, 0.25, 0.5, 0.75, 0.75, 0.75, 0.75, 0.75, 0.9, 0.9, 0.9, 0.1, 0.2, 0.3, 0.9, 0.4, 0.3, 0.4, 0.5, 0.2, 0.4, 0.3, 0.9, 0.6, 0.75, 0.6, 0.8, 1.0, 1.0, 0.8, 0.5], \"xaxis\": \"x7\", \"xbingroup\": \"x\", \"y\": [15000, 30000, 20000, 30000, 100000, 50000, 20000, 65000, 20000, 60000, 35000, 15000, 150000, 20000, 50000, 150000, 120000, 150000, 250000, 30000, 16000, 25000, 22000, 16373, 400000, 100000, 60000, 50000, 500000, 150000, 150000, 500000, 500000, 80000, 40000, 80000, 10000, 10000, 5000, 50000, 100000, 80000, 25000, 40000, 500000, 100000, 30000, 30000, 100000, 200000, 150000, 150000, 200000, 90000, 10000, 66583, 400000, 10000, 50000, 130000, 94000, 15000, 100000], \"yaxis\": \"y7\", \"ybingroup\": \"y\"}, {\"contours\": {\"coloring\": \"none\"}, \"hoverlabel\": {\"namelength\": 0}, \"hovertemplate\": \"Type=OEM<br>LeadType=Colleague<br>ProbPercent=%{x}<br>PotentialValue=%{y}<br>count=%{z}\", \"legendgroup\": \"OEM\", \"line\": {\"color\": \"#636efa\"}, \"name\": \"OEM\", \"showlegend\": false, \"type\": \"histogram2dcontour\", \"x\": [0.5], \"xaxis\": \"x8\", \"xbingroup\": \"x\", \"y\": [300000], \"yaxis\": \"y8\", \"ybingroup\": \"y\"}, {\"contours\": {\"coloring\": \"none\"}, \"hoverlabel\": {\"namelength\": 0}, \"hovertemplate\": \"Type=OEM<br>LeadType=Other<br>ProbPercent=%{x}<br>PotentialValue=%{y}<br>count=%{z}\", \"legendgroup\": \"OEM\", \"line\": {\"color\": \"#636efa\"}, \"name\": \"OEM\", \"showlegend\": false, \"type\": \"histogram2dcontour\", \"x\": [0.5, 0.2], \"xaxis\": \"x\", \"xbingroup\": \"x\", \"y\": [20000, 60000], \"yaxis\": \"y\", \"ybingroup\": \"y\"}, {\"contours\": {\"coloring\": \"none\"}, \"hoverlabel\": {\"namelength\": 0}, \"hovertemplate\": \"Type=OEM<br>LeadType=ADC<br>ProbPercent=%{x}<br>PotentialValue=%{y}<br>count=%{z}\", \"legendgroup\": \"OEM\", \"line\": {\"color\": \"#636efa\"}, \"name\": \"OEM\", \"showlegend\": false, \"type\": \"histogram2dcontour\", \"x\": [0.2], \"xaxis\": \"x4\", \"xbingroup\": \"x\", \"y\": [30000], \"yaxis\": \"y4\", \"ybingroup\": \"y\"}, {\"contours\": {\"coloring\": \"none\"}, \"hoverlabel\": {\"namelength\": 0}, \"hovertemplate\": \"Type=Contractor<br>LeadType=Vendor<br>ProbPercent=%{x}<br>PotentialValue=%{y}<br>count=%{z}\", \"legendgroup\": \"Contractor\", \"line\": {\"color\": \"#EF553B\"}, \"name\": \"Contractor\", \"showlegend\": true, \"type\": \"histogram2dcontour\", \"x\": [0.9, 0.1, 0.75], \"xaxis\": \"x5\", \"xbingroup\": \"x\", \"y\": [65000, 10000, 100000], \"yaxis\": \"y5\", \"ybingroup\": \"y\"}, {\"contours\": {\"coloring\": \"none\"}, \"hoverlabel\": {\"namelength\": 0}, \"hovertemplate\": \"Type=Contractor<br>LeadType=AWC Internal<br>ProbPercent=%{x}<br>PotentialValue=%{y}<br>count=%{z}\", \"legendgroup\": \"Contractor\", \"line\": {\"color\": \"#EF553B\"}, \"name\": \"Contractor\", \"showlegend\": false, \"type\": \"histogram2dcontour\", \"x\": [0.6, 0.3], \"xaxis\": \"x6\", \"xbingroup\": \"x\", \"y\": [84867, 10000], \"yaxis\": \"y6\", \"ybingroup\": \"y\"}, {\"contours\": {\"coloring\": \"none\"}, \"hoverlabel\": {\"namelength\": 0}, \"hovertemplate\": \"Type=Contractor<br>LeadType=Customer<br>ProbPercent=%{x}<br>PotentialValue=%{y}<br>count=%{z}\", \"legendgroup\": \"Contractor\", \"line\": {\"color\": \"#EF553B\"}, \"name\": \"Contractor\", \"showlegend\": false, \"type\": \"histogram2dcontour\", \"x\": [0.6, 0.5, 0.5, 0.75], \"xaxis\": \"x7\", \"xbingroup\": \"x\", \"y\": [40000, 8000, 8000, 21000], \"yaxis\": \"y7\", \"ybingroup\": \"y\"}, {\"contours\": {\"coloring\": \"none\"}, \"hoverlabel\": {\"namelength\": 0}, \"hovertemplate\": \"Type=End User<br>LeadType=Vendor<br>ProbPercent=%{x}<br>PotentialValue=%{y}<br>count=%{z}\", \"legendgroup\": \"End User\", \"line\": {\"color\": \"#00cc96\"}, \"name\": \"End User\", \"showlegend\": true, \"type\": \"histogram2dcontour\", \"x\": [0.25, 1.0, 0.8, 0.25, 0.3, 0.5, 1.0, 0.3, 0.1, 0.5, 0.5, 0.1, 0.5, 0.5, 0.75, 0.25, 0.75, 0.5, 0.9], \"xaxis\": \"x5\", \"xbingroup\": \"x\", \"y\": [10000, 11040, 23000, 10000, 110000, 20000, 7500, 50000, 60000, 20000, 100000, 50000, 75000, 500000, 20000, 50000, 125000, 28000, 133694], \"yaxis\": \"y5\", \"ybingroup\": \"y\"}, {\"contours\": {\"coloring\": \"none\"}, \"hoverlabel\": {\"namelength\": 0}, \"hovertemplate\": \"Type=End User<br>LeadType=AWC Internal<br>ProbPercent=%{x}<br>PotentialValue=%{y}<br>count=%{z}\", \"legendgroup\": \"End User\", \"line\": {\"color\": \"#00cc96\"}, \"name\": \"End User\", \"showlegend\": false, \"type\": \"histogram2dcontour\", \"x\": [0.75, 0.5, 0.5, 0.8, 0.9, 0.6, 0.5, 0.5, 0.95, 0.5, 0.75, 0.95, 0.75, 0.75, 0.5, 0.75, 0.5], \"xaxis\": \"x6\", \"xbingroup\": \"x\", \"y\": [18000, 21000, 75000, 2000, 10000, 10000, 70000, 20000, 10000, 50000, 225000, 200000, 40000, 50000, 500000, 32000, 25000], \"yaxis\": \"y6\", \"ybingroup\": \"y\"}, {\"contours\": {\"coloring\": \"none\"}, \"hoverlabel\": {\"namelength\": 0}, \"hovertemplate\": \"Type=End User<br>LeadType=Customer<br>ProbPercent=%{x}<br>PotentialValue=%{y}<br>count=%{z}\", \"legendgroup\": \"End User\", \"line\": {\"color\": \"#00cc96\"}, \"name\": \"End User\", \"showlegend\": false, \"type\": \"histogram2dcontour\", \"x\": [0.75, 0.5, 0.5, 1.0, 0.75, 0.2, 0.5, 0.5, 0.4, 0.75, 0.75, 0.8, 1.0, 0.75, 0.99, 0.99, 0.99, 0.85, 0.5, 0.75, 0.5, 1.0, 0.5, 1.0, 0.9, 0.9, 0.9, 0.6, 0.3, 0.8, 0.4, 0.5, 0.8, 0.6], \"xaxis\": \"x7\", \"xbingroup\": \"x\", \"y\": [333404, 13000, 45000, 24000, 50000, 360000, 10000, 85000, 300000, 125000, 50000, 65000, 7500, 71000, 133000, 133000, 560000, 57000, 24700, 60000, 35000, 25000, 20000, 65000, 100000, 100000, 10000, 40000, 150000, 47035, 20000, 10000, 245790, 20000], \"yaxis\": \"y7\", \"ybingroup\": \"y\"}, {\"contours\": {\"coloring\": \"none\"}, \"hoverlabel\": {\"namelength\": 0}, \"hovertemplate\": \"Type=End User<br>LeadType=Colleague<br>ProbPercent=%{x}<br>PotentialValue=%{y}<br>count=%{z}\", \"legendgroup\": \"End User\", \"line\": {\"color\": \"#00cc96\"}, \"name\": \"End User\", \"showlegend\": false, \"type\": \"histogram2dcontour\", \"x\": [0.1, 0.3, 0.5, 0.75, 0.6], \"xaxis\": \"x8\", \"xbingroup\": \"x\", \"y\": [100000, 12000, 120000, 53000, 16290], \"yaxis\": \"y8\", \"ybingroup\": \"y\"}, {\"contours\": {\"coloring\": \"none\"}, \"hoverlabel\": {\"namelength\": 0}, \"hovertemplate\": \"Type=End User<br>LeadType=Other<br>ProbPercent=%{x}<br>PotentialValue=%{y}<br>count=%{z}\", \"legendgroup\": \"End User\", \"line\": {\"color\": \"#00cc96\"}, \"name\": \"End User\", \"showlegend\": false, \"type\": \"histogram2dcontour\", \"x\": [0.15], \"xaxis\": \"x\", \"xbingroup\": \"x\", \"y\": [75000], \"yaxis\": \"y\", \"ybingroup\": \"y\"}, {\"contours\": {\"coloring\": \"none\"}, \"hoverlabel\": {\"namelength\": 0}, \"hovertemplate\": \"Type=End User<br>LeadType=Prospecting<br>ProbPercent=%{x}<br>PotentialValue=%{y}<br>count=%{z}\", \"legendgroup\": \"End User\", \"line\": {\"color\": \"#00cc96\"}, \"name\": \"End User\", \"showlegend\": false, \"type\": \"histogram2dcontour\", \"x\": [0.5, 0.2, 0.4, 0.3, 1.0, 1.0], \"xaxis\": \"x2\", \"xbingroup\": \"x\", \"y\": [100000, 100000, 20000, 25000, 250000, 45000], \"yaxis\": \"y2\", \"ybingroup\": \"y\"}, {\"contours\": {\"coloring\": \"none\"}, \"hoverlabel\": {\"namelength\": 0}, \"hovertemplate\": \"Type=End User<br>LeadType=colleague<br>ProbPercent=%{x}<br>PotentialValue=%{y}<br>count=%{z}\", \"legendgroup\": \"End User\", \"line\": {\"color\": \"#00cc96\"}, \"name\": \"End User\", \"showlegend\": false, \"type\": \"histogram2dcontour\", \"x\": [0.5, 0.5], \"xaxis\": \"x3\", \"xbingroup\": \"x\", \"y\": [100000, 250000], \"yaxis\": \"y3\", \"ybingroup\": \"y\"}, {\"contours\": {\"coloring\": \"none\"}, \"hoverlabel\": {\"namelength\": 0}, \"hovertemplate\": \"Type=Integrator<br>LeadType=Vendor<br>ProbPercent=%{x}<br>PotentialValue=%{y}<br>count=%{z}\", \"legendgroup\": \"Integrator\", \"line\": {\"color\": \"#ab63fa\"}, \"name\": \"Integrator\", \"showlegend\": true, \"type\": \"histogram2dcontour\", \"x\": [0.5, 0.9, 0.5, 0.5, 0.9], \"xaxis\": \"x5\", \"xbingroup\": \"x\", \"y\": [10000, 75000, 45000, 60000, 90000], \"yaxis\": \"y5\", \"ybingroup\": \"y\"}, {\"contours\": {\"coloring\": \"none\"}, \"hoverlabel\": {\"namelength\": 0}, \"hovertemplate\": \"Type=Integrator<br>LeadType=AWC Internal<br>ProbPercent=%{x}<br>PotentialValue=%{y}<br>count=%{z}\", \"legendgroup\": \"Integrator\", \"line\": {\"color\": \"#ab63fa\"}, \"name\": \"Integrator\", \"showlegend\": false, \"type\": \"histogram2dcontour\", \"x\": [0.75, 0.4, 0.5], \"xaxis\": \"x6\", \"xbingroup\": \"x\", \"y\": [55000, 60000, 37000], \"yaxis\": \"y6\", \"ybingroup\": \"y\"}, {\"contours\": {\"coloring\": \"none\"}, \"hoverlabel\": {\"namelength\": 0}, \"hovertemplate\": \"Type=Integrator<br>LeadType=Customer<br>ProbPercent=%{x}<br>PotentialValue=%{y}<br>count=%{z}\", \"legendgroup\": \"Integrator\", \"line\": {\"color\": \"#ab63fa\"}, \"name\": \"Integrator\", \"showlegend\": false, \"type\": \"histogram2dcontour\", \"x\": [0.9, 0.5, 0.2, 0.9, 0.65, 0.8, 0.5, 0.5, 0.5, 0.75, 0.25, 0.75, 0.6, 0.5, 0.2], \"xaxis\": \"x7\", \"xbingroup\": \"x\", \"y\": [27500, 70000, 20000, 25000, 100000, 10000, 75000, 120000, 50000, 50000, 15000, 50000, 396350, 269355, 50000], \"yaxis\": \"y7\", \"ybingroup\": \"y\"}, {\"contours\": {\"coloring\": \"none\"}, \"hoverlabel\": {\"namelength\": 0}, \"hovertemplate\": \"Type=Integrator<br>LeadType=Colleague<br>ProbPercent=%{x}<br>PotentialValue=%{y}<br>count=%{z}\", \"legendgroup\": \"Integrator\", \"line\": {\"color\": \"#ab63fa\"}, \"name\": \"Integrator\", \"showlegend\": false, \"type\": \"histogram2dcontour\", \"x\": [0.5], \"xaxis\": \"x8\", \"xbingroup\": \"x\", \"y\": [50000], \"yaxis\": \"y8\", \"ybingroup\": \"y\"}, {\"contours\": {\"coloring\": \"none\"}, \"hoverlabel\": {\"namelength\": 0}, \"hovertemplate\": \"Type=Integrator<br>LeadType=Other<br>ProbPercent=%{x}<br>PotentialValue=%{y}<br>count=%{z}\", \"legendgroup\": \"Integrator\", \"line\": {\"color\": \"#ab63fa\"}, \"name\": \"Integrator\", \"showlegend\": false, \"type\": \"histogram2dcontour\", \"x\": [0.9], \"xaxis\": \"x\", \"xbingroup\": \"x\", \"y\": [100000], \"yaxis\": \"y\", \"ybingroup\": \"y\"}, {\"contours\": {\"coloring\": \"none\"}, \"hoverlabel\": {\"namelength\": 0}, \"hovertemplate\": \"Type=Integrator<br>LeadType=Prospecting<br>ProbPercent=%{x}<br>PotentialValue=%{y}<br>count=%{z}\", \"legendgroup\": \"Integrator\", \"line\": {\"color\": \"#ab63fa\"}, \"name\": \"Integrator\", \"showlegend\": false, \"type\": \"histogram2dcontour\", \"x\": [0.75], \"xaxis\": \"x2\", \"xbingroup\": \"x\", \"y\": [200000], \"yaxis\": \"y2\", \"ybingroup\": \"y\"}],\n",
       "                        {\"annotations\": [{\"font\": {}, \"showarrow\": false, \"text\": \"LeadType=Other\", \"x\": 0.1175, \"xanchor\": \"center\", \"xref\": \"paper\", \"y\": 0.46499999999999997, \"yanchor\": \"bottom\", \"yref\": \"paper\"}, {\"font\": {}, \"showarrow\": false, \"text\": \"LeadType=Prospecting\", \"x\": 0.3725, \"xanchor\": \"center\", \"xref\": \"paper\", \"y\": 0.46499999999999997, \"yanchor\": \"bottom\", \"yref\": \"paper\"}, {\"font\": {}, \"showarrow\": false, \"text\": \"LeadType=colleague\", \"x\": 0.6275, \"xanchor\": \"center\", \"xref\": \"paper\", \"y\": 0.46499999999999997, \"yanchor\": \"bottom\", \"yref\": \"paper\"}, {\"font\": {}, \"showarrow\": false, \"text\": \"LeadType=ADC\", \"x\": 0.8824999999999998, \"xanchor\": \"center\", \"xref\": \"paper\", \"y\": 0.46499999999999997, \"yanchor\": \"bottom\", \"yref\": \"paper\"}, {\"font\": {}, \"showarrow\": false, \"text\": \"LeadType=Vendor\", \"x\": 0.1175, \"xanchor\": \"center\", \"xref\": \"paper\", \"y\": 0.9999999999999999, \"yanchor\": \"bottom\", \"yref\": \"paper\"}, {\"font\": {}, \"showarrow\": false, \"text\": \"LeadType=AWC Internal\", \"x\": 0.3725, \"xanchor\": \"center\", \"xref\": \"paper\", \"y\": 0.9999999999999999, \"yanchor\": \"bottom\", \"yref\": \"paper\"}, {\"font\": {}, \"showarrow\": false, \"text\": \"LeadType=Customer\", \"x\": 0.6275, \"xanchor\": \"center\", \"xref\": \"paper\", \"y\": 0.9999999999999999, \"yanchor\": \"bottom\", \"yref\": \"paper\"}, {\"font\": {}, \"showarrow\": false, \"text\": \"LeadType=Colleague\", \"x\": 0.8824999999999998, \"xanchor\": \"center\", \"xref\": \"paper\", \"y\": 0.9999999999999999, \"yanchor\": \"bottom\", \"yref\": \"paper\"}], \"legend\": {\"title\": {\"text\": \"Type\"}, \"tracegroupgap\": 0}, \"margin\": {\"t\": 60}, \"template\": {\"data\": {\"bar\": [{\"error_x\": {\"color\": \"#2a3f5f\"}, \"error_y\": {\"color\": \"#2a3f5f\"}, \"marker\": {\"line\": {\"color\": \"#E5ECF6\", \"width\": 0.5}}, \"type\": \"bar\"}], \"barpolar\": [{\"marker\": {\"line\": {\"color\": \"#E5ECF6\", \"width\": 0.5}}, \"type\": \"barpolar\"}], \"carpet\": [{\"aaxis\": {\"endlinecolor\": \"#2a3f5f\", \"gridcolor\": \"white\", \"linecolor\": \"white\", \"minorgridcolor\": \"white\", \"startlinecolor\": \"#2a3f5f\"}, \"baxis\": {\"endlinecolor\": \"#2a3f5f\", \"gridcolor\": \"white\", \"linecolor\": \"white\", \"minorgridcolor\": \"white\", \"startlinecolor\": \"#2a3f5f\"}, \"type\": \"carpet\"}], \"choropleth\": [{\"colorbar\": {\"outlinewidth\": 0, \"ticks\": \"\"}, \"type\": \"choropleth\"}], \"contour\": [{\"colorbar\": {\"outlinewidth\": 0, \"ticks\": \"\"}, \"colorscale\": [[0.0, \"#0d0887\"], [0.1111111111111111, \"#46039f\"], [0.2222222222222222, \"#7201a8\"], [0.3333333333333333, \"#9c179e\"], [0.4444444444444444, \"#bd3786\"], [0.5555555555555556, \"#d8576b\"], [0.6666666666666666, \"#ed7953\"], [0.7777777777777778, \"#fb9f3a\"], [0.8888888888888888, \"#fdca26\"], [1.0, \"#f0f921\"]], \"type\": \"contour\"}], \"contourcarpet\": [{\"colorbar\": {\"outlinewidth\": 0, \"ticks\": \"\"}, \"type\": \"contourcarpet\"}], \"heatmap\": [{\"colorbar\": {\"outlinewidth\": 0, \"ticks\": \"\"}, \"colorscale\": [[0.0, \"#0d0887\"], [0.1111111111111111, \"#46039f\"], [0.2222222222222222, \"#7201a8\"], [0.3333333333333333, \"#9c179e\"], [0.4444444444444444, \"#bd3786\"], [0.5555555555555556, \"#d8576b\"], [0.6666666666666666, \"#ed7953\"], [0.7777777777777778, \"#fb9f3a\"], [0.8888888888888888, \"#fdca26\"], [1.0, \"#f0f921\"]], \"type\": \"heatmap\"}], \"heatmapgl\": [{\"colorbar\": {\"outlinewidth\": 0, \"ticks\": \"\"}, \"colorscale\": [[0.0, \"#0d0887\"], [0.1111111111111111, \"#46039f\"], [0.2222222222222222, \"#7201a8\"], [0.3333333333333333, \"#9c179e\"], [0.4444444444444444, \"#bd3786\"], [0.5555555555555556, \"#d8576b\"], [0.6666666666666666, \"#ed7953\"], [0.7777777777777778, \"#fb9f3a\"], [0.8888888888888888, \"#fdca26\"], [1.0, \"#f0f921\"]], \"type\": \"heatmapgl\"}], \"histogram\": [{\"marker\": {\"colorbar\": {\"outlinewidth\": 0, \"ticks\": \"\"}}, \"type\": \"histogram\"}], \"histogram2d\": [{\"colorbar\": {\"outlinewidth\": 0, \"ticks\": \"\"}, \"colorscale\": [[0.0, \"#0d0887\"], [0.1111111111111111, \"#46039f\"], [0.2222222222222222, \"#7201a8\"], [0.3333333333333333, \"#9c179e\"], [0.4444444444444444, \"#bd3786\"], [0.5555555555555556, \"#d8576b\"], [0.6666666666666666, \"#ed7953\"], [0.7777777777777778, \"#fb9f3a\"], [0.8888888888888888, \"#fdca26\"], [1.0, \"#f0f921\"]], \"type\": \"histogram2d\"}], \"histogram2dcontour\": [{\"colorbar\": {\"outlinewidth\": 0, \"ticks\": \"\"}, \"colorscale\": [[0.0, \"#0d0887\"], [0.1111111111111111, \"#46039f\"], [0.2222222222222222, \"#7201a8\"], [0.3333333333333333, \"#9c179e\"], [0.4444444444444444, \"#bd3786\"], [0.5555555555555556, \"#d8576b\"], [0.6666666666666666, \"#ed7953\"], [0.7777777777777778, \"#fb9f3a\"], [0.8888888888888888, \"#fdca26\"], [1.0, \"#f0f921\"]], \"type\": \"histogram2dcontour\"}], \"mesh3d\": [{\"colorbar\": {\"outlinewidth\": 0, \"ticks\": \"\"}, \"type\": \"mesh3d\"}], \"parcoords\": [{\"line\": {\"colorbar\": {\"outlinewidth\": 0, \"ticks\": \"\"}}, \"type\": \"parcoords\"}], \"pie\": [{\"automargin\": true, \"type\": \"pie\"}], \"scatter\": [{\"marker\": {\"colorbar\": {\"outlinewidth\": 0, \"ticks\": \"\"}}, \"type\": \"scatter\"}], \"scatter3d\": [{\"line\": {\"colorbar\": {\"outlinewidth\": 0, \"ticks\": \"\"}}, \"marker\": {\"colorbar\": {\"outlinewidth\": 0, \"ticks\": \"\"}}, \"type\": \"scatter3d\"}], \"scattercarpet\": [{\"marker\": {\"colorbar\": {\"outlinewidth\": 0, \"ticks\": \"\"}}, \"type\": \"scattercarpet\"}], \"scattergeo\": [{\"marker\": {\"colorbar\": {\"outlinewidth\": 0, \"ticks\": \"\"}}, \"type\": \"scattergeo\"}], \"scattergl\": [{\"marker\": {\"colorbar\": {\"outlinewidth\": 0, \"ticks\": \"\"}}, \"type\": \"scattergl\"}], \"scattermapbox\": [{\"marker\": {\"colorbar\": {\"outlinewidth\": 0, \"ticks\": \"\"}}, \"type\": \"scattermapbox\"}], \"scatterpolar\": [{\"marker\": {\"colorbar\": {\"outlinewidth\": 0, \"ticks\": \"\"}}, \"type\": \"scatterpolar\"}], \"scatterpolargl\": [{\"marker\": {\"colorbar\": {\"outlinewidth\": 0, \"ticks\": \"\"}}, \"type\": \"scatterpolargl\"}], \"scatterternary\": [{\"marker\": {\"colorbar\": {\"outlinewidth\": 0, \"ticks\": \"\"}}, \"type\": \"scatterternary\"}], \"surface\": [{\"colorbar\": {\"outlinewidth\": 0, \"ticks\": \"\"}, \"colorscale\": [[0.0, \"#0d0887\"], [0.1111111111111111, \"#46039f\"], [0.2222222222222222, \"#7201a8\"], [0.3333333333333333, \"#9c179e\"], [0.4444444444444444, \"#bd3786\"], [0.5555555555555556, \"#d8576b\"], [0.6666666666666666, \"#ed7953\"], [0.7777777777777778, \"#fb9f3a\"], [0.8888888888888888, \"#fdca26\"], [1.0, \"#f0f921\"]], \"type\": \"surface\"}], \"table\": [{\"cells\": {\"fill\": {\"color\": \"#EBF0F8\"}, \"line\": {\"color\": \"white\"}}, \"header\": {\"fill\": {\"color\": \"#C8D4E3\"}, \"line\": {\"color\": \"white\"}}, \"type\": \"table\"}]}, \"layout\": {\"annotationdefaults\": {\"arrowcolor\": \"#2a3f5f\", \"arrowhead\": 0, \"arrowwidth\": 1}, \"coloraxis\": {\"colorbar\": {\"outlinewidth\": 0, \"ticks\": \"\"}}, \"colorscale\": {\"diverging\": [[0, \"#8e0152\"], [0.1, \"#c51b7d\"], [0.2, \"#de77ae\"], [0.3, \"#f1b6da\"], [0.4, \"#fde0ef\"], [0.5, \"#f7f7f7\"], [0.6, \"#e6f5d0\"], [0.7, \"#b8e186\"], [0.8, \"#7fbc41\"], [0.9, \"#4d9221\"], [1, \"#276419\"]], \"sequential\": [[0.0, \"#0d0887\"], [0.1111111111111111, \"#46039f\"], [0.2222222222222222, \"#7201a8\"], [0.3333333333333333, \"#9c179e\"], [0.4444444444444444, \"#bd3786\"], [0.5555555555555556, \"#d8576b\"], [0.6666666666666666, \"#ed7953\"], [0.7777777777777778, \"#fb9f3a\"], [0.8888888888888888, \"#fdca26\"], [1.0, \"#f0f921\"]], \"sequentialminus\": [[0.0, \"#0d0887\"], [0.1111111111111111, \"#46039f\"], [0.2222222222222222, \"#7201a8\"], [0.3333333333333333, \"#9c179e\"], [0.4444444444444444, \"#bd3786\"], [0.5555555555555556, \"#d8576b\"], [0.6666666666666666, \"#ed7953\"], [0.7777777777777778, \"#fb9f3a\"], [0.8888888888888888, \"#fdca26\"], [1.0, \"#f0f921\"]]}, \"colorway\": [\"#636efa\", \"#EF553B\", \"#00cc96\", \"#ab63fa\", \"#FFA15A\", \"#19d3f3\", \"#FF6692\", \"#B6E880\", \"#FF97FF\", \"#FECB52\"], \"font\": {\"color\": \"#2a3f5f\"}, \"geo\": {\"bgcolor\": \"white\", \"lakecolor\": \"white\", \"landcolor\": \"#E5ECF6\", \"showlakes\": true, \"showland\": true, \"subunitcolor\": \"white\"}, \"hoverlabel\": {\"align\": \"left\"}, \"hovermode\": \"closest\", \"mapbox\": {\"style\": \"light\"}, \"paper_bgcolor\": \"white\", \"plot_bgcolor\": \"#E5ECF6\", \"polar\": {\"angularaxis\": {\"gridcolor\": \"white\", \"linecolor\": \"white\", \"ticks\": \"\"}, \"bgcolor\": \"#E5ECF6\", \"radialaxis\": {\"gridcolor\": \"white\", \"linecolor\": \"white\", \"ticks\": \"\"}}, \"scene\": {\"xaxis\": {\"backgroundcolor\": \"#E5ECF6\", \"gridcolor\": \"white\", \"gridwidth\": 2, \"linecolor\": \"white\", \"showbackground\": true, \"ticks\": \"\", \"zerolinecolor\": \"white\"}, \"yaxis\": {\"backgroundcolor\": \"#E5ECF6\", \"gridcolor\": \"white\", \"gridwidth\": 2, \"linecolor\": \"white\", \"showbackground\": true, \"ticks\": \"\", \"zerolinecolor\": \"white\"}, \"zaxis\": {\"backgroundcolor\": \"#E5ECF6\", \"gridcolor\": \"white\", \"gridwidth\": 2, \"linecolor\": \"white\", \"showbackground\": true, \"ticks\": \"\", \"zerolinecolor\": \"white\"}}, \"shapedefaults\": {\"line\": {\"color\": \"#2a3f5f\"}}, \"ternary\": {\"aaxis\": {\"gridcolor\": \"white\", \"linecolor\": \"white\", \"ticks\": \"\"}, \"baxis\": {\"gridcolor\": \"white\", \"linecolor\": \"white\", \"ticks\": \"\"}, \"bgcolor\": \"#E5ECF6\", \"caxis\": {\"gridcolor\": \"white\", \"linecolor\": \"white\", \"ticks\": \"\"}}, \"title\": {\"x\": 0.05}, \"xaxis\": {\"automargin\": true, \"gridcolor\": \"white\", \"linecolor\": \"white\", \"ticks\": \"\", \"title\": {\"standoff\": 15}, \"zerolinecolor\": \"white\", \"zerolinewidth\": 2}, \"yaxis\": {\"automargin\": true, \"gridcolor\": \"white\", \"linecolor\": \"white\", \"ticks\": \"\", \"title\": {\"standoff\": 15}, \"zerolinecolor\": \"white\", \"zerolinewidth\": 2}}}, \"xaxis\": {\"anchor\": \"y\", \"domain\": [0.0, 0.235], \"title\": {\"text\": \"ProbPercent\"}}, \"xaxis2\": {\"anchor\": \"y2\", \"domain\": [0.255, 0.49], \"matches\": \"x\", \"title\": {\"text\": \"ProbPercent\"}}, \"xaxis3\": {\"anchor\": \"y3\", \"domain\": [0.51, 0.745], \"matches\": \"x\", \"title\": {\"text\": \"ProbPercent\"}}, \"xaxis4\": {\"anchor\": \"y4\", \"domain\": [0.7649999999999999, 0.9999999999999999], \"matches\": \"x\", \"title\": {\"text\": \"ProbPercent\"}}, \"xaxis5\": {\"anchor\": \"y5\", \"domain\": [0.0, 0.235], \"matches\": \"x\", \"showticklabels\": false}, \"xaxis6\": {\"anchor\": \"y6\", \"domain\": [0.255, 0.49], \"matches\": \"x\", \"showticklabels\": false}, \"xaxis7\": {\"anchor\": \"y7\", \"domain\": [0.51, 0.745], \"matches\": \"x\", \"showticklabels\": false}, \"xaxis8\": {\"anchor\": \"y8\", \"domain\": [0.7649999999999999, 0.9999999999999999], \"matches\": \"x\", \"showticklabels\": false}, \"yaxis\": {\"anchor\": \"x\", \"domain\": [0.0, 0.46499999999999997], \"title\": {\"text\": \"PotentialValue\"}}, \"yaxis2\": {\"anchor\": \"x2\", \"domain\": [0.0, 0.46499999999999997], \"matches\": \"y\", \"showticklabels\": false}, \"yaxis3\": {\"anchor\": \"x3\", \"domain\": [0.0, 0.46499999999999997], \"matches\": \"y\", \"showticklabels\": false}, \"yaxis4\": {\"anchor\": \"x4\", \"domain\": [0.0, 0.46499999999999997], \"matches\": \"y\", \"showticklabels\": false}, \"yaxis5\": {\"anchor\": \"x5\", \"domain\": [0.5349999999999999, 0.9999999999999999], \"matches\": \"y\", \"title\": {\"text\": \"PotentialValue\"}}, \"yaxis6\": {\"anchor\": \"x6\", \"domain\": [0.5349999999999999, 0.9999999999999999], \"matches\": \"y\", \"showticklabels\": false}, \"yaxis7\": {\"anchor\": \"x7\", \"domain\": [0.5349999999999999, 0.9999999999999999], \"matches\": \"y\", \"showticklabels\": false}, \"yaxis8\": {\"anchor\": \"x8\", \"domain\": [0.5349999999999999, 0.9999999999999999], \"matches\": \"y\", \"showticklabels\": false}},\n",
       "                        {\"responsive\": true}\n",
       "                    ).then(function(){\n",
       "                            \n",
       "var gd = document.getElementById('40290250-f99e-4ca6-bfc5-7ee3133a3a68');\n",
       "var x = new MutationObserver(function (mutations, observer) {{\n",
       "        var display = window.getComputedStyle(gd).display;\n",
       "        if (!display || display === 'none') {{\n",
       "            console.log([gd, 'removed!']);\n",
       "            Plotly.purge(gd);\n",
       "            observer.disconnect();\n",
       "        }}\n",
       "}});\n",
       "\n",
       "// Listen for the removal of the full notebook cells\n",
       "var notebookContainer = gd.closest('#notebook-container');\n",
       "if (notebookContainer) {{\n",
       "    x.observe(notebookContainer, {childList: true});\n",
       "}}\n",
       "\n",
       "// Listen for the clearing of the current output cell\n",
       "var outputEl = gd.closest('.output');\n",
       "if (outputEl) {{\n",
       "    x.observe(outputEl, {childList: true});\n",
       "}}\n",
       "\n",
       "                        })\n",
       "                };\n",
       "                });\n",
       "            </script>\n",
       "        </div>"
      ]
     },
     "metadata": {},
     "output_type": "display_data"
    }
   ],
   "source": [
    "import plotly.express as px\n",
    "df = df_num[df_num[\"PotentialValue\"] <=1000000]\n",
    "\n",
    "fig = px.density_contour(df, x=\"ProbPercent\", y=\"PotentialValue\", facet_col=\"LeadType\", color=\"Type\",facet_col_wrap=4)\n",
    "\n",
    "fig.show()\n",
    "\n"
   ]
  },
  {
   "cell_type": "code",
   "execution_count": null,
   "metadata": {},
   "outputs": [],
   "source": [
    "#optional\n",
    "import plotly.express as px\n",
    "df = px.data.tips()\n",
    "\n",
    "fig = px.density_contour(df, x=\"total_bill\", y=\"tip\", marginal_x=\"histogram\", marginal_y=\"histogram\")\n",
    "fig.show()"
   ]
  },
  {
   "cell_type": "code",
   "execution_count": null,
   "metadata": {},
   "outputs": [],
   "source": [
    "df = px.data.iris()\n",
    "fig = px.density_contour(df, x=\"sepal_width\", y=\"sepal_length\", color=\"species\", marginal_x=\"rug\", marginal_y=\"histogram\")\n",
    "fig.show()"
   ]
  },
  {
   "cell_type": "code",
   "execution_count": null,
   "metadata": {},
   "outputs": [],
   "source": [
    "df = px.data.tips()\n",
    "\n",
    "fig = px.density_heatmap(df, x=\"total_bill\", y=\"tip\", marginal_x=\"histogram\", marginal_y=\"histogram\")\n",
    "fig.show()"
   ]
  },
  {
   "cell_type": "code",
   "execution_count": 75,
   "metadata": {},
   "outputs": [
    {
     "data": {
      "application/vnd.plotly.v1+json": {
       "config": {
        "plotlyServerURL": "https://plot.ly"
       },
       "data": [
        {
         "hoverlabel": {
          "namelength": 0
         },
         "hovertemplate": "species=setosa<br>sepal_width=%{x}<br>sepal_length=%{y}",
         "legendgroup": "setosa",
         "marker": {
          "color": "#1F77B4",
          "symbol": "circle"
         },
         "mode": "markers",
         "name": "setosa",
         "showlegend": true,
         "type": "scatter",
         "x": [
          3.5,
          3,
          3.2,
          3.1,
          3.6,
          3.9,
          3.4,
          3.4,
          2.9,
          3.1,
          3.7,
          3.4,
          3,
          3,
          4,
          4.4,
          3.9,
          3.5,
          3.8,
          3.8,
          3.4,
          3.7,
          3.6,
          3.3,
          3.4,
          3,
          3.4,
          3.5,
          3.4,
          3.2,
          3.1,
          3.4,
          4.1,
          4.2,
          3.1,
          3.2,
          3.5,
          3.1,
          3,
          3.4,
          3.5,
          2.3,
          3.2,
          3.5,
          3.8,
          3,
          3.8,
          3.2,
          3.7,
          3.3
         ],
         "xaxis": "x",
         "y": [
          5.1,
          4.9,
          4.7,
          4.6,
          5,
          5.4,
          4.6,
          5,
          4.4,
          4.9,
          5.4,
          4.8,
          4.8,
          4.3,
          5.8,
          5.7,
          5.4,
          5.1,
          5.7,
          5.1,
          5.4,
          5.1,
          4.6,
          5.1,
          4.8,
          5,
          5,
          5.2,
          5.2,
          4.7,
          4.8,
          5.4,
          5.2,
          5.5,
          4.9,
          5,
          5.5,
          4.9,
          4.4,
          5.1,
          5,
          4.5,
          4.4,
          5,
          5.1,
          4.8,
          5.1,
          4.6,
          5.3,
          5
         ],
         "yaxis": "y"
        },
        {
         "alignmentgroup": "True",
         "hoverlabel": {
          "namelength": 0
         },
         "hovertemplate": "species=setosa<br>sepal_width=%{x}",
         "legendgroup": "setosa",
         "marker": {
          "color": "#1F77B4",
          "symbol": "circle"
         },
         "name": "setosa",
         "notched": true,
         "offsetgroup": "setosa",
         "showlegend": false,
         "type": "box",
         "x": [
          3.5,
          3,
          3.2,
          3.1,
          3.6,
          3.9,
          3.4,
          3.4,
          2.9,
          3.1,
          3.7,
          3.4,
          3,
          3,
          4,
          4.4,
          3.9,
          3.5,
          3.8,
          3.8,
          3.4,
          3.7,
          3.6,
          3.3,
          3.4,
          3,
          3.4,
          3.5,
          3.4,
          3.2,
          3.1,
          3.4,
          4.1,
          4.2,
          3.1,
          3.2,
          3.5,
          3.1,
          3,
          3.4,
          3.5,
          2.3,
          3.2,
          3.5,
          3.8,
          3,
          3.8,
          3.2,
          3.7,
          3.3
         ],
         "xaxis": "x3",
         "yaxis": "y3"
        },
        {
         "alignmentgroup": "True",
         "hoverlabel": {
          "namelength": 0
         },
         "hovertemplate": "species=setosa<br>sepal_length=%{y}",
         "legendgroup": "setosa",
         "marker": {
          "color": "#1F77B4",
          "symbol": "circle"
         },
         "name": "setosa",
         "offsetgroup": "setosa",
         "scalegroup": "y",
         "showlegend": false,
         "type": "violin",
         "xaxis": "x2",
         "y": [
          5.1,
          4.9,
          4.7,
          4.6,
          5,
          5.4,
          4.6,
          5,
          4.4,
          4.9,
          5.4,
          4.8,
          4.8,
          4.3,
          5.8,
          5.7,
          5.4,
          5.1,
          5.7,
          5.1,
          5.4,
          5.1,
          4.6,
          5.1,
          4.8,
          5,
          5,
          5.2,
          5.2,
          4.7,
          4.8,
          5.4,
          5.2,
          5.5,
          4.9,
          5,
          5.5,
          4.9,
          4.4,
          5.1,
          5,
          4.5,
          4.4,
          5,
          5.1,
          4.8,
          5.1,
          4.6,
          5.3,
          5
         ],
         "yaxis": "y2"
        },
        {
         "hoverlabel": {
          "namelength": 0
         },
         "hovertemplate": "<b>OLS trendline</b><br>sepal_length = 0.690854 * sepal_width + 2.64466<br>R<sup>2</sup>=0.557681<br><br>species=setosa<br>sepal_width=%{x}<br>sepal_length=%{y} <b>(trend)</b>",
         "legendgroup": "setosa",
         "marker": {
          "color": "#1F77B4",
          "symbol": "circle"
         },
         "mode": "lines",
         "name": "setosa",
         "showlegend": false,
         "type": "scatter",
         "x": [
          2.3,
          2.9,
          3,
          3,
          3,
          3,
          3,
          3,
          3.1,
          3.1,
          3.1,
          3.1,
          3.1,
          3.2,
          3.2,
          3.2,
          3.2,
          3.2,
          3.3,
          3.3,
          3.4,
          3.4,
          3.4,
          3.4,
          3.4,
          3.4,
          3.4,
          3.4,
          3.4,
          3.5,
          3.5,
          3.5,
          3.5,
          3.5,
          3.5,
          3.6,
          3.6,
          3.7,
          3.7,
          3.7,
          3.8,
          3.8,
          3.8,
          3.8,
          3.9,
          3.9,
          4,
          4.1,
          4.2,
          4.4
         ],
         "xaxis": "x",
         "y": [
          4.233624785627934,
          4.648137423036915,
          4.7172228626050785,
          4.7172228626050785,
          4.7172228626050785,
          4.7172228626050785,
          4.7172228626050785,
          4.7172228626050785,
          4.786308302173243,
          4.786308302173243,
          4.786308302173243,
          4.786308302173243,
          4.786308302173243,
          4.8553937417414055,
          4.8553937417414055,
          4.8553937417414055,
          4.8553937417414055,
          4.8553937417414055,
          4.924479181309569,
          4.924479181309569,
          4.9935646208777325,
          4.9935646208777325,
          4.9935646208777325,
          4.9935646208777325,
          4.9935646208777325,
          4.9935646208777325,
          4.9935646208777325,
          4.9935646208777325,
          4.9935646208777325,
          5.062650060445897,
          5.062650060445897,
          5.062650060445897,
          5.062650060445897,
          5.062650060445897,
          5.062650060445897,
          5.131735500014059,
          5.131735500014059,
          5.200820939582224,
          5.200820939582224,
          5.200820939582224,
          5.269906379150386,
          5.269906379150386,
          5.269906379150386,
          5.269906379150386,
          5.338991818718551,
          5.338991818718551,
          5.408077258286713,
          5.477162697854877,
          5.54624813742304,
          5.684419016559368
         ],
         "yaxis": "y"
        },
        {
         "hoverlabel": {
          "namelength": 0
         },
         "hovertemplate": "species=versicolor<br>sepal_width=%{x}<br>sepal_length=%{y}",
         "legendgroup": "versicolor",
         "marker": {
          "color": "#FF7F0E",
          "symbol": "circle"
         },
         "mode": "markers",
         "name": "versicolor",
         "showlegend": true,
         "type": "scatter",
         "x": [
          3.2,
          3.2,
          3.1,
          2.3,
          2.8,
          2.8,
          3.3,
          2.4,
          2.9,
          2.7,
          2,
          3,
          2.2,
          2.9,
          2.9,
          3.1,
          3,
          2.7,
          2.2,
          2.5,
          3.2,
          2.8,
          2.5,
          2.8,
          2.9,
          3,
          2.8,
          3,
          2.9,
          2.6,
          2.4,
          2.4,
          2.7,
          2.7,
          3,
          3.4,
          3.1,
          2.3,
          3,
          2.5,
          2.6,
          3,
          2.6,
          2.3,
          2.7,
          3,
          2.9,
          2.9,
          2.5,
          2.8
         ],
         "xaxis": "x",
         "y": [
          7,
          6.4,
          6.9,
          5.5,
          6.5,
          5.7,
          6.3,
          4.9,
          6.6,
          5.2,
          5,
          5.9,
          6,
          6.1,
          5.6,
          6.7,
          5.6,
          5.8,
          6.2,
          5.6,
          5.9,
          6.1,
          6.3,
          6.1,
          6.4,
          6.6,
          6.8,
          6.7,
          6,
          5.7,
          5.5,
          5.5,
          5.8,
          6,
          5.4,
          6,
          6.7,
          6.3,
          5.6,
          5.5,
          5.5,
          6.1,
          5.8,
          5,
          5.6,
          5.7,
          5.7,
          6.2,
          5.1,
          5.7
         ],
         "yaxis": "y"
        },
        {
         "alignmentgroup": "True",
         "hoverlabel": {
          "namelength": 0
         },
         "hovertemplate": "species=versicolor<br>sepal_width=%{x}",
         "legendgroup": "versicolor",
         "marker": {
          "color": "#FF7F0E",
          "symbol": "circle"
         },
         "name": "versicolor",
         "notched": true,
         "offsetgroup": "versicolor",
         "showlegend": false,
         "type": "box",
         "x": [
          3.2,
          3.2,
          3.1,
          2.3,
          2.8,
          2.8,
          3.3,
          2.4,
          2.9,
          2.7,
          2,
          3,
          2.2,
          2.9,
          2.9,
          3.1,
          3,
          2.7,
          2.2,
          2.5,
          3.2,
          2.8,
          2.5,
          2.8,
          2.9,
          3,
          2.8,
          3,
          2.9,
          2.6,
          2.4,
          2.4,
          2.7,
          2.7,
          3,
          3.4,
          3.1,
          2.3,
          3,
          2.5,
          2.6,
          3,
          2.6,
          2.3,
          2.7,
          3,
          2.9,
          2.9,
          2.5,
          2.8
         ],
         "xaxis": "x3",
         "yaxis": "y3"
        },
        {
         "alignmentgroup": "True",
         "hoverlabel": {
          "namelength": 0
         },
         "hovertemplate": "species=versicolor<br>sepal_length=%{y}",
         "legendgroup": "versicolor",
         "marker": {
          "color": "#FF7F0E",
          "symbol": "circle"
         },
         "name": "versicolor",
         "offsetgroup": "versicolor",
         "scalegroup": "y",
         "showlegend": false,
         "type": "violin",
         "xaxis": "x2",
         "y": [
          7,
          6.4,
          6.9,
          5.5,
          6.5,
          5.7,
          6.3,
          4.9,
          6.6,
          5.2,
          5,
          5.9,
          6,
          6.1,
          5.6,
          6.7,
          5.6,
          5.8,
          6.2,
          5.6,
          5.9,
          6.1,
          6.3,
          6.1,
          6.4,
          6.6,
          6.8,
          6.7,
          6,
          5.7,
          5.5,
          5.5,
          5.8,
          6,
          5.4,
          6,
          6.7,
          6.3,
          5.6,
          5.5,
          5.5,
          6.1,
          5.8,
          5,
          5.6,
          5.7,
          5.7,
          6.2,
          5.1,
          5.7
         ],
         "yaxis": "y2"
        },
        {
         "hoverlabel": {
          "namelength": 0
         },
         "hovertemplate": "<b>OLS trendline</b><br>sepal_length = 0.865078 * sepal_width + 3.53973<br>R<sup>2</sup>=0.276582<br><br>species=versicolor<br>sepal_width=%{x}<br>sepal_length=%{y} <b>(trend)</b>",
         "legendgroup": "versicolor",
         "marker": {
          "color": "#FF7F0E",
          "symbol": "circle"
         },
         "mode": "lines",
         "name": "versicolor",
         "showlegend": false,
         "type": "scatter",
         "x": [
          2,
          2.2,
          2.2,
          2.3,
          2.3,
          2.3,
          2.4,
          2.4,
          2.4,
          2.5,
          2.5,
          2.5,
          2.5,
          2.6,
          2.6,
          2.6,
          2.7,
          2.7,
          2.7,
          2.7,
          2.7,
          2.8,
          2.8,
          2.8,
          2.8,
          2.8,
          2.8,
          2.9,
          2.9,
          2.9,
          2.9,
          2.9,
          2.9,
          2.9,
          3,
          3,
          3,
          3,
          3,
          3,
          3,
          3,
          3.1,
          3.1,
          3.1,
          3.2,
          3.2,
          3.2,
          3.3,
          3.4
         ],
         "xaxis": "x",
         "y": [
          5.269890155440412,
          5.442905699481863,
          5.442905699481863,
          5.529413471502588,
          5.529413471502588,
          5.529413471502588,
          5.615921243523314,
          5.615921243523314,
          5.615921243523314,
          5.702429015544039,
          5.702429015544039,
          5.702429015544039,
          5.702429015544039,
          5.788936787564765,
          5.788936787564765,
          5.788936787564765,
          5.875444559585491,
          5.875444559585491,
          5.875444559585491,
          5.875444559585491,
          5.875444559585491,
          5.9619523316062155,
          5.9619523316062155,
          5.9619523316062155,
          5.9619523316062155,
          5.9619523316062155,
          5.9619523316062155,
          6.048460103626941,
          6.048460103626941,
          6.048460103626941,
          6.048460103626941,
          6.048460103626941,
          6.048460103626941,
          6.048460103626941,
          6.134967875647666,
          6.134967875647666,
          6.134967875647666,
          6.134967875647666,
          6.134967875647666,
          6.134967875647666,
          6.134967875647666,
          6.134967875647666,
          6.221475647668392,
          6.221475647668392,
          6.221475647668392,
          6.307983419689117,
          6.307983419689117,
          6.307983419689117,
          6.394491191709843,
          6.480998963730569
         ],
         "yaxis": "y"
        },
        {
         "hoverlabel": {
          "namelength": 0
         },
         "hovertemplate": "species=virginica<br>sepal_width=%{x}<br>sepal_length=%{y}",
         "legendgroup": "virginica",
         "marker": {
          "color": "#2CA02C",
          "symbol": "circle"
         },
         "mode": "markers",
         "name": "virginica",
         "showlegend": true,
         "type": "scatter",
         "x": [
          3.3,
          2.7,
          3,
          2.9,
          3,
          3,
          2.5,
          2.9,
          2.5,
          3.6,
          3.2,
          2.7,
          3,
          2.5,
          2.8,
          3.2,
          3,
          3.8,
          2.6,
          2.2,
          3.2,
          2.8,
          2.8,
          2.7,
          3.3,
          3.2,
          2.8,
          3,
          2.8,
          3,
          2.8,
          3.8,
          2.8,
          2.8,
          2.6,
          3,
          3.4,
          3.1,
          3,
          3.1,
          3.1,
          3.1,
          2.7,
          3.2,
          3.3,
          3,
          2.5,
          3,
          3.4,
          3
         ],
         "xaxis": "x",
         "y": [
          6.3,
          5.8,
          7.1,
          6.3,
          6.5,
          7.6,
          4.9,
          7.3,
          6.7,
          7.2,
          6.5,
          6.4,
          6.8,
          5.7,
          5.8,
          6.4,
          6.5,
          7.7,
          7.7,
          6,
          6.9,
          5.6,
          7.7,
          6.3,
          6.7,
          7.2,
          6.2,
          6.1,
          6.4,
          7.2,
          7.4,
          7.9,
          6.4,
          6.3,
          6.1,
          7.7,
          6.3,
          6.4,
          6,
          6.9,
          6.7,
          6.9,
          5.8,
          6.8,
          6.7,
          6.7,
          6.3,
          6.5,
          6.2,
          5.9
         ],
         "yaxis": "y"
        },
        {
         "alignmentgroup": "True",
         "hoverlabel": {
          "namelength": 0
         },
         "hovertemplate": "species=virginica<br>sepal_width=%{x}",
         "legendgroup": "virginica",
         "marker": {
          "color": "#2CA02C",
          "symbol": "circle"
         },
         "name": "virginica",
         "notched": true,
         "offsetgroup": "virginica",
         "showlegend": false,
         "type": "box",
         "x": [
          3.3,
          2.7,
          3,
          2.9,
          3,
          3,
          2.5,
          2.9,
          2.5,
          3.6,
          3.2,
          2.7,
          3,
          2.5,
          2.8,
          3.2,
          3,
          3.8,
          2.6,
          2.2,
          3.2,
          2.8,
          2.8,
          2.7,
          3.3,
          3.2,
          2.8,
          3,
          2.8,
          3,
          2.8,
          3.8,
          2.8,
          2.8,
          2.6,
          3,
          3.4,
          3.1,
          3,
          3.1,
          3.1,
          3.1,
          2.7,
          3.2,
          3.3,
          3,
          2.5,
          3,
          3.4,
          3
         ],
         "xaxis": "x3",
         "yaxis": "y3"
        },
        {
         "alignmentgroup": "True",
         "hoverlabel": {
          "namelength": 0
         },
         "hovertemplate": "species=virginica<br>sepal_length=%{y}",
         "legendgroup": "virginica",
         "marker": {
          "color": "#2CA02C",
          "symbol": "circle"
         },
         "name": "virginica",
         "offsetgroup": "virginica",
         "scalegroup": "y",
         "showlegend": false,
         "type": "violin",
         "xaxis": "x2",
         "y": [
          6.3,
          5.8,
          7.1,
          6.3,
          6.5,
          7.6,
          4.9,
          7.3,
          6.7,
          7.2,
          6.5,
          6.4,
          6.8,
          5.7,
          5.8,
          6.4,
          6.5,
          7.7,
          7.7,
          6,
          6.9,
          5.6,
          7.7,
          6.3,
          6.7,
          7.2,
          6.2,
          6.1,
          6.4,
          7.2,
          7.4,
          7.9,
          6.4,
          6.3,
          6.1,
          7.7,
          6.3,
          6.4,
          6,
          6.9,
          6.7,
          6.9,
          5.8,
          6.8,
          6.7,
          6.7,
          6.3,
          6.5,
          6.2,
          5.9
         ],
         "yaxis": "y2"
        },
        {
         "hoverlabel": {
          "namelength": 0
         },
         "hovertemplate": "<b>OLS trendline</b><br>sepal_length = 0.901534 * sepal_width + 3.90684<br>R<sup>2</sup>=0.209057<br><br>species=virginica<br>sepal_width=%{x}<br>sepal_length=%{y} <b>(trend)</b>",
         "legendgroup": "virginica",
         "marker": {
          "color": "#2CA02C",
          "symbol": "circle"
         },
         "mode": "lines",
         "name": "virginica",
         "showlegend": false,
         "type": "scatter",
         "x": [
          2.2,
          2.5,
          2.5,
          2.5,
          2.5,
          2.6,
          2.6,
          2.7,
          2.7,
          2.7,
          2.7,
          2.8,
          2.8,
          2.8,
          2.8,
          2.8,
          2.8,
          2.8,
          2.8,
          2.9,
          2.9,
          3,
          3,
          3,
          3,
          3,
          3,
          3,
          3,
          3,
          3,
          3,
          3,
          3.1,
          3.1,
          3.1,
          3.1,
          3.2,
          3.2,
          3.2,
          3.2,
          3.2,
          3.3,
          3.3,
          3.3,
          3.4,
          3.4,
          3.6,
          3.8,
          3.8
         ],
         "xaxis": "x",
         "y": [
          5.890212315058276,
          6.160672658058944,
          6.160672658058944,
          6.160672658058944,
          6.160672658058944,
          6.250826105725833,
          6.250826105725833,
          6.340979553392723,
          6.340979553392723,
          6.340979553392723,
          6.340979553392723,
          6.431133001059612,
          6.431133001059612,
          6.431133001059612,
          6.431133001059612,
          6.431133001059612,
          6.431133001059612,
          6.431133001059612,
          6.431133001059612,
          6.521286448726501,
          6.521286448726501,
          6.6114398963933905,
          6.6114398963933905,
          6.6114398963933905,
          6.6114398963933905,
          6.6114398963933905,
          6.6114398963933905,
          6.6114398963933905,
          6.6114398963933905,
          6.6114398963933905,
          6.6114398963933905,
          6.6114398963933905,
          6.6114398963933905,
          6.70159334406028,
          6.70159334406028,
          6.70159334406028,
          6.70159334406028,
          6.791746791727169,
          6.791746791727169,
          6.791746791727169,
          6.791746791727169,
          6.791746791727169,
          6.881900239394058,
          6.881900239394058,
          6.881900239394058,
          6.9720536870609475,
          6.9720536870609475,
          7.152360582394727,
          7.332667477728505,
          7.332667477728505
         ],
         "yaxis": "y"
        }
       ],
       "layout": {
        "legend": {
         "title": {
          "text": "species"
         },
         "tracegroupgap": 0
        },
        "margin": {
         "t": 60
        },
        "template": {
         "data": {
          "bar": [
           {
            "error_x": {
             "color": "rgb(36,36,36)"
            },
            "error_y": {
             "color": "rgb(36,36,36)"
            },
            "marker": {
             "line": {
              "color": "white",
              "width": 0.5
             }
            },
            "type": "bar"
           }
          ],
          "barpolar": [
           {
            "marker": {
             "line": {
              "color": "white",
              "width": 0.5
             }
            },
            "type": "barpolar"
           }
          ],
          "carpet": [
           {
            "aaxis": {
             "endlinecolor": "rgb(36,36,36)",
             "gridcolor": "white",
             "linecolor": "white",
             "minorgridcolor": "white",
             "startlinecolor": "rgb(36,36,36)"
            },
            "baxis": {
             "endlinecolor": "rgb(36,36,36)",
             "gridcolor": "white",
             "linecolor": "white",
             "minorgridcolor": "white",
             "startlinecolor": "rgb(36,36,36)"
            },
            "type": "carpet"
           }
          ],
          "choropleth": [
           {
            "colorbar": {
             "outlinewidth": 1,
             "tickcolor": "rgb(36,36,36)",
             "ticks": "outside"
            },
            "type": "choropleth"
           }
          ],
          "contour": [
           {
            "colorbar": {
             "outlinewidth": 1,
             "tickcolor": "rgb(36,36,36)",
             "ticks": "outside"
            },
            "colorscale": [
             [
              0,
              "#440154"
             ],
             [
              0.1111111111111111,
              "#482878"
             ],
             [
              0.2222222222222222,
              "#3e4989"
             ],
             [
              0.3333333333333333,
              "#31688e"
             ],
             [
              0.4444444444444444,
              "#26828e"
             ],
             [
              0.5555555555555556,
              "#1f9e89"
             ],
             [
              0.6666666666666666,
              "#35b779"
             ],
             [
              0.7777777777777778,
              "#6ece58"
             ],
             [
              0.8888888888888888,
              "#b5de2b"
             ],
             [
              1,
              "#fde725"
             ]
            ],
            "type": "contour"
           }
          ],
          "contourcarpet": [
           {
            "colorbar": {
             "outlinewidth": 1,
             "tickcolor": "rgb(36,36,36)",
             "ticks": "outside"
            },
            "type": "contourcarpet"
           }
          ],
          "heatmap": [
           {
            "colorbar": {
             "outlinewidth": 1,
             "tickcolor": "rgb(36,36,36)",
             "ticks": "outside"
            },
            "colorscale": [
             [
              0,
              "#440154"
             ],
             [
              0.1111111111111111,
              "#482878"
             ],
             [
              0.2222222222222222,
              "#3e4989"
             ],
             [
              0.3333333333333333,
              "#31688e"
             ],
             [
              0.4444444444444444,
              "#26828e"
             ],
             [
              0.5555555555555556,
              "#1f9e89"
             ],
             [
              0.6666666666666666,
              "#35b779"
             ],
             [
              0.7777777777777778,
              "#6ece58"
             ],
             [
              0.8888888888888888,
              "#b5de2b"
             ],
             [
              1,
              "#fde725"
             ]
            ],
            "type": "heatmap"
           }
          ],
          "heatmapgl": [
           {
            "colorbar": {
             "outlinewidth": 1,
             "tickcolor": "rgb(36,36,36)",
             "ticks": "outside"
            },
            "colorscale": [
             [
              0,
              "#440154"
             ],
             [
              0.1111111111111111,
              "#482878"
             ],
             [
              0.2222222222222222,
              "#3e4989"
             ],
             [
              0.3333333333333333,
              "#31688e"
             ],
             [
              0.4444444444444444,
              "#26828e"
             ],
             [
              0.5555555555555556,
              "#1f9e89"
             ],
             [
              0.6666666666666666,
              "#35b779"
             ],
             [
              0.7777777777777778,
              "#6ece58"
             ],
             [
              0.8888888888888888,
              "#b5de2b"
             ],
             [
              1,
              "#fde725"
             ]
            ],
            "type": "heatmapgl"
           }
          ],
          "histogram": [
           {
            "marker": {
             "line": {
              "color": "white",
              "width": 0.6
             }
            },
            "type": "histogram"
           }
          ],
          "histogram2d": [
           {
            "colorbar": {
             "outlinewidth": 1,
             "tickcolor": "rgb(36,36,36)",
             "ticks": "outside"
            },
            "colorscale": [
             [
              0,
              "#440154"
             ],
             [
              0.1111111111111111,
              "#482878"
             ],
             [
              0.2222222222222222,
              "#3e4989"
             ],
             [
              0.3333333333333333,
              "#31688e"
             ],
             [
              0.4444444444444444,
              "#26828e"
             ],
             [
              0.5555555555555556,
              "#1f9e89"
             ],
             [
              0.6666666666666666,
              "#35b779"
             ],
             [
              0.7777777777777778,
              "#6ece58"
             ],
             [
              0.8888888888888888,
              "#b5de2b"
             ],
             [
              1,
              "#fde725"
             ]
            ],
            "type": "histogram2d"
           }
          ],
          "histogram2dcontour": [
           {
            "colorbar": {
             "outlinewidth": 1,
             "tickcolor": "rgb(36,36,36)",
             "ticks": "outside"
            },
            "colorscale": [
             [
              0,
              "#440154"
             ],
             [
              0.1111111111111111,
              "#482878"
             ],
             [
              0.2222222222222222,
              "#3e4989"
             ],
             [
              0.3333333333333333,
              "#31688e"
             ],
             [
              0.4444444444444444,
              "#26828e"
             ],
             [
              0.5555555555555556,
              "#1f9e89"
             ],
             [
              0.6666666666666666,
              "#35b779"
             ],
             [
              0.7777777777777778,
              "#6ece58"
             ],
             [
              0.8888888888888888,
              "#b5de2b"
             ],
             [
              1,
              "#fde725"
             ]
            ],
            "type": "histogram2dcontour"
           }
          ],
          "mesh3d": [
           {
            "colorbar": {
             "outlinewidth": 1,
             "tickcolor": "rgb(36,36,36)",
             "ticks": "outside"
            },
            "type": "mesh3d"
           }
          ],
          "parcoords": [
           {
            "line": {
             "colorbar": {
              "outlinewidth": 1,
              "tickcolor": "rgb(36,36,36)",
              "ticks": "outside"
             }
            },
            "type": "parcoords"
           }
          ],
          "pie": [
           {
            "automargin": true,
            "type": "pie"
           }
          ],
          "scatter": [
           {
            "marker": {
             "colorbar": {
              "outlinewidth": 1,
              "tickcolor": "rgb(36,36,36)",
              "ticks": "outside"
             }
            },
            "type": "scatter"
           }
          ],
          "scatter3d": [
           {
            "line": {
             "colorbar": {
              "outlinewidth": 1,
              "tickcolor": "rgb(36,36,36)",
              "ticks": "outside"
             }
            },
            "marker": {
             "colorbar": {
              "outlinewidth": 1,
              "tickcolor": "rgb(36,36,36)",
              "ticks": "outside"
             }
            },
            "type": "scatter3d"
           }
          ],
          "scattercarpet": [
           {
            "marker": {
             "colorbar": {
              "outlinewidth": 1,
              "tickcolor": "rgb(36,36,36)",
              "ticks": "outside"
             }
            },
            "type": "scattercarpet"
           }
          ],
          "scattergeo": [
           {
            "marker": {
             "colorbar": {
              "outlinewidth": 1,
              "tickcolor": "rgb(36,36,36)",
              "ticks": "outside"
             }
            },
            "type": "scattergeo"
           }
          ],
          "scattergl": [
           {
            "marker": {
             "colorbar": {
              "outlinewidth": 1,
              "tickcolor": "rgb(36,36,36)",
              "ticks": "outside"
             }
            },
            "type": "scattergl"
           }
          ],
          "scattermapbox": [
           {
            "marker": {
             "colorbar": {
              "outlinewidth": 1,
              "tickcolor": "rgb(36,36,36)",
              "ticks": "outside"
             }
            },
            "type": "scattermapbox"
           }
          ],
          "scatterpolar": [
           {
            "marker": {
             "colorbar": {
              "outlinewidth": 1,
              "tickcolor": "rgb(36,36,36)",
              "ticks": "outside"
             }
            },
            "type": "scatterpolar"
           }
          ],
          "scatterpolargl": [
           {
            "marker": {
             "colorbar": {
              "outlinewidth": 1,
              "tickcolor": "rgb(36,36,36)",
              "ticks": "outside"
             }
            },
            "type": "scatterpolargl"
           }
          ],
          "scatterternary": [
           {
            "marker": {
             "colorbar": {
              "outlinewidth": 1,
              "tickcolor": "rgb(36,36,36)",
              "ticks": "outside"
             }
            },
            "type": "scatterternary"
           }
          ],
          "surface": [
           {
            "colorbar": {
             "outlinewidth": 1,
             "tickcolor": "rgb(36,36,36)",
             "ticks": "outside"
            },
            "colorscale": [
             [
              0,
              "#440154"
             ],
             [
              0.1111111111111111,
              "#482878"
             ],
             [
              0.2222222222222222,
              "#3e4989"
             ],
             [
              0.3333333333333333,
              "#31688e"
             ],
             [
              0.4444444444444444,
              "#26828e"
             ],
             [
              0.5555555555555556,
              "#1f9e89"
             ],
             [
              0.6666666666666666,
              "#35b779"
             ],
             [
              0.7777777777777778,
              "#6ece58"
             ],
             [
              0.8888888888888888,
              "#b5de2b"
             ],
             [
              1,
              "#fde725"
             ]
            ],
            "type": "surface"
           }
          ],
          "table": [
           {
            "cells": {
             "fill": {
              "color": "rgb(237,237,237)"
             },
             "line": {
              "color": "white"
             }
            },
            "header": {
             "fill": {
              "color": "rgb(217,217,217)"
             },
             "line": {
              "color": "white"
             }
            },
            "type": "table"
           }
          ]
         },
         "layout": {
          "annotationdefaults": {
           "arrowhead": 0,
           "arrowwidth": 1
          },
          "coloraxis": {
           "colorbar": {
            "outlinewidth": 1,
            "tickcolor": "rgb(36,36,36)",
            "ticks": "outside"
           }
          },
          "colorscale": {
           "diverging": [
            [
             0,
             "rgb(103,0,31)"
            ],
            [
             0.1,
             "rgb(178,24,43)"
            ],
            [
             0.2,
             "rgb(214,96,77)"
            ],
            [
             0.3,
             "rgb(244,165,130)"
            ],
            [
             0.4,
             "rgb(253,219,199)"
            ],
            [
             0.5,
             "rgb(247,247,247)"
            ],
            [
             0.6,
             "rgb(209,229,240)"
            ],
            [
             0.7,
             "rgb(146,197,222)"
            ],
            [
             0.8,
             "rgb(67,147,195)"
            ],
            [
             0.9,
             "rgb(33,102,172)"
            ],
            [
             1,
             "rgb(5,48,97)"
            ]
           ],
           "sequential": [
            [
             0,
             "#440154"
            ],
            [
             0.1111111111111111,
             "#482878"
            ],
            [
             0.2222222222222222,
             "#3e4989"
            ],
            [
             0.3333333333333333,
             "#31688e"
            ],
            [
             0.4444444444444444,
             "#26828e"
            ],
            [
             0.5555555555555556,
             "#1f9e89"
            ],
            [
             0.6666666666666666,
             "#35b779"
            ],
            [
             0.7777777777777778,
             "#6ece58"
            ],
            [
             0.8888888888888888,
             "#b5de2b"
            ],
            [
             1,
             "#fde725"
            ]
           ],
           "sequentialminus": [
            [
             0,
             "#440154"
            ],
            [
             0.1111111111111111,
             "#482878"
            ],
            [
             0.2222222222222222,
             "#3e4989"
            ],
            [
             0.3333333333333333,
             "#31688e"
            ],
            [
             0.4444444444444444,
             "#26828e"
            ],
            [
             0.5555555555555556,
             "#1f9e89"
            ],
            [
             0.6666666666666666,
             "#35b779"
            ],
            [
             0.7777777777777778,
             "#6ece58"
            ],
            [
             0.8888888888888888,
             "#b5de2b"
            ],
            [
             1,
             "#fde725"
            ]
           ]
          },
          "colorway": [
           "#1F77B4",
           "#FF7F0E",
           "#2CA02C",
           "#D62728",
           "#9467BD",
           "#8C564B",
           "#E377C2",
           "#7F7F7F",
           "#BCBD22",
           "#17BECF"
          ],
          "font": {
           "color": "rgb(36,36,36)"
          },
          "geo": {
           "bgcolor": "white",
           "lakecolor": "white",
           "landcolor": "white",
           "showlakes": true,
           "showland": true,
           "subunitcolor": "white"
          },
          "hoverlabel": {
           "align": "left"
          },
          "hovermode": "closest",
          "mapbox": {
           "style": "light"
          },
          "paper_bgcolor": "white",
          "plot_bgcolor": "white",
          "polar": {
           "angularaxis": {
            "gridcolor": "rgb(232,232,232)",
            "linecolor": "rgb(36,36,36)",
            "showgrid": false,
            "showline": true,
            "ticks": "outside"
           },
           "bgcolor": "white",
           "radialaxis": {
            "gridcolor": "rgb(232,232,232)",
            "linecolor": "rgb(36,36,36)",
            "showgrid": false,
            "showline": true,
            "ticks": "outside"
           }
          },
          "scene": {
           "xaxis": {
            "backgroundcolor": "white",
            "gridcolor": "rgb(232,232,232)",
            "gridwidth": 2,
            "linecolor": "rgb(36,36,36)",
            "showbackground": true,
            "showgrid": false,
            "showline": true,
            "ticks": "outside",
            "zeroline": false,
            "zerolinecolor": "rgb(36,36,36)"
           },
           "yaxis": {
            "backgroundcolor": "white",
            "gridcolor": "rgb(232,232,232)",
            "gridwidth": 2,
            "linecolor": "rgb(36,36,36)",
            "showbackground": true,
            "showgrid": false,
            "showline": true,
            "ticks": "outside",
            "zeroline": false,
            "zerolinecolor": "rgb(36,36,36)"
           },
           "zaxis": {
            "backgroundcolor": "white",
            "gridcolor": "rgb(232,232,232)",
            "gridwidth": 2,
            "linecolor": "rgb(36,36,36)",
            "showbackground": true,
            "showgrid": false,
            "showline": true,
            "ticks": "outside",
            "zeroline": false,
            "zerolinecolor": "rgb(36,36,36)"
           }
          },
          "shapedefaults": {
           "fillcolor": "black",
           "line": {
            "width": 0
           },
           "opacity": 0.3
          },
          "ternary": {
           "aaxis": {
            "gridcolor": "rgb(232,232,232)",
            "linecolor": "rgb(36,36,36)",
            "showgrid": false,
            "showline": true,
            "ticks": "outside"
           },
           "baxis": {
            "gridcolor": "rgb(232,232,232)",
            "linecolor": "rgb(36,36,36)",
            "showgrid": false,
            "showline": true,
            "ticks": "outside"
           },
           "bgcolor": "white",
           "caxis": {
            "gridcolor": "rgb(232,232,232)",
            "linecolor": "rgb(36,36,36)",
            "showgrid": false,
            "showline": true,
            "ticks": "outside"
           }
          },
          "title": {
           "x": 0.05
          },
          "xaxis": {
           "automargin": true,
           "gridcolor": "rgb(232,232,232)",
           "linecolor": "rgb(36,36,36)",
           "showgrid": false,
           "showline": true,
           "ticks": "outside",
           "title": {
            "standoff": 15
           },
           "zeroline": false,
           "zerolinecolor": "rgb(36,36,36)"
          },
          "yaxis": {
           "automargin": true,
           "gridcolor": "rgb(232,232,232)",
           "linecolor": "rgb(36,36,36)",
           "showgrid": false,
           "showline": true,
           "ticks": "outside",
           "title": {
            "standoff": 15
           },
           "zeroline": false,
           "zerolinecolor": "rgb(36,36,36)"
          }
         }
        },
        "xaxis": {
         "anchor": "y",
         "domain": [
          0,
          0.7363
         ],
         "title": {
          "text": "sepal_width"
         }
        },
        "xaxis2": {
         "anchor": "y2",
         "domain": [
          0.7413,
          1
         ],
         "matches": "x2",
         "showline": false,
         "showticklabels": false,
         "ticks": ""
        },
        "xaxis3": {
         "anchor": "y3",
         "domain": [
          0,
          0.7363
         ],
         "matches": "x",
         "showticklabels": false
        },
        "xaxis4": {
         "anchor": "y4",
         "domain": [
          0.7413,
          1
         ],
         "matches": "x2",
         "showline": false,
         "showticklabels": false,
         "ticks": ""
        },
        "yaxis": {
         "anchor": "x",
         "domain": [
          0,
          0.7326
         ],
         "title": {
          "text": "sepal_length"
         }
        },
        "yaxis2": {
         "anchor": "x2",
         "domain": [
          0,
          0.7326
         ],
         "matches": "y",
         "showticklabels": false
        },
        "yaxis3": {
         "anchor": "x3",
         "domain": [
          0.7426,
          1
         ],
         "matches": "y3",
         "showline": false,
         "showticklabels": false,
         "ticks": ""
        },
        "yaxis4": {
         "anchor": "x4",
         "domain": [
          0.7426,
          1
         ],
         "matches": "y3",
         "showline": false,
         "showticklabels": false,
         "ticks": ""
        }
       }
      },
      "text/html": [
       "<div>\n",
       "        \n",
       "        \n",
       "            <div id=\"d4c21280-87fc-41ea-a8cd-054adb80aab0\" class=\"plotly-graph-div\" style=\"height:525px; width:100%;\"></div>\n",
       "            <script type=\"text/javascript\">\n",
       "                require([\"plotly\"], function(Plotly) {\n",
       "                    window.PLOTLYENV=window.PLOTLYENV || {};\n",
       "                    \n",
       "                if (document.getElementById(\"d4c21280-87fc-41ea-a8cd-054adb80aab0\")) {\n",
       "                    Plotly.newPlot(\n",
       "                        'd4c21280-87fc-41ea-a8cd-054adb80aab0',\n",
       "                        [{\"hoverlabel\": {\"namelength\": 0}, \"hovertemplate\": \"species=setosa<br>sepal_width=%{x}<br>sepal_length=%{y}\", \"legendgroup\": \"setosa\", \"marker\": {\"color\": \"#1F77B4\", \"symbol\": \"circle\"}, \"mode\": \"markers\", \"name\": \"setosa\", \"showlegend\": true, \"type\": \"scatter\", \"x\": [3.5, 3.0, 3.2, 3.1, 3.6, 3.9, 3.4, 3.4, 2.9, 3.1, 3.7, 3.4, 3.0, 3.0, 4.0, 4.4, 3.9, 3.5, 3.8, 3.8, 3.4, 3.7, 3.6, 3.3, 3.4, 3.0, 3.4, 3.5, 3.4, 3.2, 3.1, 3.4, 4.1, 4.2, 3.1, 3.2, 3.5, 3.1, 3.0, 3.4, 3.5, 2.3, 3.2, 3.5, 3.8, 3.0, 3.8, 3.2, 3.7, 3.3], \"xaxis\": \"x\", \"y\": [5.1, 4.9, 4.7, 4.6, 5.0, 5.4, 4.6, 5.0, 4.4, 4.9, 5.4, 4.8, 4.8, 4.3, 5.8, 5.7, 5.4, 5.1, 5.7, 5.1, 5.4, 5.1, 4.6, 5.1, 4.8, 5.0, 5.0, 5.2, 5.2, 4.7, 4.8, 5.4, 5.2, 5.5, 4.9, 5.0, 5.5, 4.9, 4.4, 5.1, 5.0, 4.5, 4.4, 5.0, 5.1, 4.8, 5.1, 4.6, 5.3, 5.0], \"yaxis\": \"y\"}, {\"alignmentgroup\": \"True\", \"hoverlabel\": {\"namelength\": 0}, \"hovertemplate\": \"species=setosa<br>sepal_width=%{x}\", \"legendgroup\": \"setosa\", \"marker\": {\"color\": \"#1F77B4\", \"symbol\": \"circle\"}, \"name\": \"setosa\", \"notched\": true, \"offsetgroup\": \"setosa\", \"showlegend\": false, \"type\": \"box\", \"x\": [3.5, 3.0, 3.2, 3.1, 3.6, 3.9, 3.4, 3.4, 2.9, 3.1, 3.7, 3.4, 3.0, 3.0, 4.0, 4.4, 3.9, 3.5, 3.8, 3.8, 3.4, 3.7, 3.6, 3.3, 3.4, 3.0, 3.4, 3.5, 3.4, 3.2, 3.1, 3.4, 4.1, 4.2, 3.1, 3.2, 3.5, 3.1, 3.0, 3.4, 3.5, 2.3, 3.2, 3.5, 3.8, 3.0, 3.8, 3.2, 3.7, 3.3], \"xaxis\": \"x3\", \"yaxis\": \"y3\"}, {\"alignmentgroup\": \"True\", \"hoverlabel\": {\"namelength\": 0}, \"hovertemplate\": \"species=setosa<br>sepal_length=%{y}\", \"legendgroup\": \"setosa\", \"marker\": {\"color\": \"#1F77B4\", \"symbol\": \"circle\"}, \"name\": \"setosa\", \"offsetgroup\": \"setosa\", \"scalegroup\": \"y\", \"showlegend\": false, \"type\": \"violin\", \"xaxis\": \"x2\", \"y\": [5.1, 4.9, 4.7, 4.6, 5.0, 5.4, 4.6, 5.0, 4.4, 4.9, 5.4, 4.8, 4.8, 4.3, 5.8, 5.7, 5.4, 5.1, 5.7, 5.1, 5.4, 5.1, 4.6, 5.1, 4.8, 5.0, 5.0, 5.2, 5.2, 4.7, 4.8, 5.4, 5.2, 5.5, 4.9, 5.0, 5.5, 4.9, 4.4, 5.1, 5.0, 4.5, 4.4, 5.0, 5.1, 4.8, 5.1, 4.6, 5.3, 5.0], \"yaxis\": \"y2\"}, {\"hoverlabel\": {\"namelength\": 0}, \"hovertemplate\": \"<b>OLS trendline</b><br>sepal_length = 0.690854 * sepal_width + 2.64466<br>R<sup>2</sup>=0.557681<br><br>species=setosa<br>sepal_width=%{x}<br>sepal_length=%{y} <b>(trend)</b>\", \"legendgroup\": \"setosa\", \"marker\": {\"color\": \"#1F77B4\", \"symbol\": \"circle\"}, \"mode\": \"lines\", \"name\": \"setosa\", \"showlegend\": false, \"type\": \"scatter\", \"x\": [2.3, 2.9, 3.0, 3.0, 3.0, 3.0, 3.0, 3.0, 3.1, 3.1, 3.1, 3.1, 3.1, 3.2, 3.2, 3.2, 3.2, 3.2, 3.3, 3.3, 3.4, 3.4, 3.4, 3.4, 3.4, 3.4, 3.4, 3.4, 3.4, 3.5, 3.5, 3.5, 3.5, 3.5, 3.5, 3.6, 3.6, 3.7, 3.7, 3.7, 3.8, 3.8, 3.8, 3.8, 3.9, 3.9, 4.0, 4.1, 4.2, 4.4], \"xaxis\": \"x\", \"y\": [4.233624785627934, 4.648137423036915, 4.7172228626050785, 4.7172228626050785, 4.7172228626050785, 4.7172228626050785, 4.7172228626050785, 4.7172228626050785, 4.786308302173243, 4.786308302173243, 4.786308302173243, 4.786308302173243, 4.786308302173243, 4.8553937417414055, 4.8553937417414055, 4.8553937417414055, 4.8553937417414055, 4.8553937417414055, 4.924479181309569, 4.924479181309569, 4.9935646208777325, 4.9935646208777325, 4.9935646208777325, 4.9935646208777325, 4.9935646208777325, 4.9935646208777325, 4.9935646208777325, 4.9935646208777325, 4.9935646208777325, 5.062650060445897, 5.062650060445897, 5.062650060445897, 5.062650060445897, 5.062650060445897, 5.062650060445897, 5.131735500014059, 5.131735500014059, 5.200820939582224, 5.200820939582224, 5.200820939582224, 5.269906379150386, 5.269906379150386, 5.269906379150386, 5.269906379150386, 5.338991818718551, 5.338991818718551, 5.408077258286713, 5.477162697854877, 5.54624813742304, 5.684419016559368], \"yaxis\": \"y\"}, {\"hoverlabel\": {\"namelength\": 0}, \"hovertemplate\": \"species=versicolor<br>sepal_width=%{x}<br>sepal_length=%{y}\", \"legendgroup\": \"versicolor\", \"marker\": {\"color\": \"#FF7F0E\", \"symbol\": \"circle\"}, \"mode\": \"markers\", \"name\": \"versicolor\", \"showlegend\": true, \"type\": \"scatter\", \"x\": [3.2, 3.2, 3.1, 2.3, 2.8, 2.8, 3.3, 2.4, 2.9, 2.7, 2.0, 3.0, 2.2, 2.9, 2.9, 3.1, 3.0, 2.7, 2.2, 2.5, 3.2, 2.8, 2.5, 2.8, 2.9, 3.0, 2.8, 3.0, 2.9, 2.6, 2.4, 2.4, 2.7, 2.7, 3.0, 3.4, 3.1, 2.3, 3.0, 2.5, 2.6, 3.0, 2.6, 2.3, 2.7, 3.0, 2.9, 2.9, 2.5, 2.8], \"xaxis\": \"x\", \"y\": [7.0, 6.4, 6.9, 5.5, 6.5, 5.7, 6.3, 4.9, 6.6, 5.2, 5.0, 5.9, 6.0, 6.1, 5.6, 6.7, 5.6, 5.8, 6.2, 5.6, 5.9, 6.1, 6.3, 6.1, 6.4, 6.6, 6.8, 6.7, 6.0, 5.7, 5.5, 5.5, 5.8, 6.0, 5.4, 6.0, 6.7, 6.3, 5.6, 5.5, 5.5, 6.1, 5.8, 5.0, 5.6, 5.7, 5.7, 6.2, 5.1, 5.7], \"yaxis\": \"y\"}, {\"alignmentgroup\": \"True\", \"hoverlabel\": {\"namelength\": 0}, \"hovertemplate\": \"species=versicolor<br>sepal_width=%{x}\", \"legendgroup\": \"versicolor\", \"marker\": {\"color\": \"#FF7F0E\", \"symbol\": \"circle\"}, \"name\": \"versicolor\", \"notched\": true, \"offsetgroup\": \"versicolor\", \"showlegend\": false, \"type\": \"box\", \"x\": [3.2, 3.2, 3.1, 2.3, 2.8, 2.8, 3.3, 2.4, 2.9, 2.7, 2.0, 3.0, 2.2, 2.9, 2.9, 3.1, 3.0, 2.7, 2.2, 2.5, 3.2, 2.8, 2.5, 2.8, 2.9, 3.0, 2.8, 3.0, 2.9, 2.6, 2.4, 2.4, 2.7, 2.7, 3.0, 3.4, 3.1, 2.3, 3.0, 2.5, 2.6, 3.0, 2.6, 2.3, 2.7, 3.0, 2.9, 2.9, 2.5, 2.8], \"xaxis\": \"x3\", \"yaxis\": \"y3\"}, {\"alignmentgroup\": \"True\", \"hoverlabel\": {\"namelength\": 0}, \"hovertemplate\": \"species=versicolor<br>sepal_length=%{y}\", \"legendgroup\": \"versicolor\", \"marker\": {\"color\": \"#FF7F0E\", \"symbol\": \"circle\"}, \"name\": \"versicolor\", \"offsetgroup\": \"versicolor\", \"scalegroup\": \"y\", \"showlegend\": false, \"type\": \"violin\", \"xaxis\": \"x2\", \"y\": [7.0, 6.4, 6.9, 5.5, 6.5, 5.7, 6.3, 4.9, 6.6, 5.2, 5.0, 5.9, 6.0, 6.1, 5.6, 6.7, 5.6, 5.8, 6.2, 5.6, 5.9, 6.1, 6.3, 6.1, 6.4, 6.6, 6.8, 6.7, 6.0, 5.7, 5.5, 5.5, 5.8, 6.0, 5.4, 6.0, 6.7, 6.3, 5.6, 5.5, 5.5, 6.1, 5.8, 5.0, 5.6, 5.7, 5.7, 6.2, 5.1, 5.7], \"yaxis\": \"y2\"}, {\"hoverlabel\": {\"namelength\": 0}, \"hovertemplate\": \"<b>OLS trendline</b><br>sepal_length = 0.865078 * sepal_width + 3.53973<br>R<sup>2</sup>=0.276582<br><br>species=versicolor<br>sepal_width=%{x}<br>sepal_length=%{y} <b>(trend)</b>\", \"legendgroup\": \"versicolor\", \"marker\": {\"color\": \"#FF7F0E\", \"symbol\": \"circle\"}, \"mode\": \"lines\", \"name\": \"versicolor\", \"showlegend\": false, \"type\": \"scatter\", \"x\": [2.0, 2.2, 2.2, 2.3, 2.3, 2.3, 2.4, 2.4, 2.4, 2.5, 2.5, 2.5, 2.5, 2.6, 2.6, 2.6, 2.7, 2.7, 2.7, 2.7, 2.7, 2.8, 2.8, 2.8, 2.8, 2.8, 2.8, 2.9, 2.9, 2.9, 2.9, 2.9, 2.9, 2.9, 3.0, 3.0, 3.0, 3.0, 3.0, 3.0, 3.0, 3.0, 3.1, 3.1, 3.1, 3.2, 3.2, 3.2, 3.3, 3.4], \"xaxis\": \"x\", \"y\": [5.269890155440412, 5.442905699481863, 5.442905699481863, 5.529413471502588, 5.529413471502588, 5.529413471502588, 5.615921243523314, 5.615921243523314, 5.615921243523314, 5.702429015544039, 5.702429015544039, 5.702429015544039, 5.702429015544039, 5.788936787564765, 5.788936787564765, 5.788936787564765, 5.875444559585491, 5.875444559585491, 5.875444559585491, 5.875444559585491, 5.875444559585491, 5.9619523316062155, 5.9619523316062155, 5.9619523316062155, 5.9619523316062155, 5.9619523316062155, 5.9619523316062155, 6.048460103626941, 6.048460103626941, 6.048460103626941, 6.048460103626941, 6.048460103626941, 6.048460103626941, 6.048460103626941, 6.134967875647666, 6.134967875647666, 6.134967875647666, 6.134967875647666, 6.134967875647666, 6.134967875647666, 6.134967875647666, 6.134967875647666, 6.221475647668392, 6.221475647668392, 6.221475647668392, 6.307983419689117, 6.307983419689117, 6.307983419689117, 6.394491191709843, 6.480998963730569], \"yaxis\": \"y\"}, {\"hoverlabel\": {\"namelength\": 0}, \"hovertemplate\": \"species=virginica<br>sepal_width=%{x}<br>sepal_length=%{y}\", \"legendgroup\": \"virginica\", \"marker\": {\"color\": \"#2CA02C\", \"symbol\": \"circle\"}, \"mode\": \"markers\", \"name\": \"virginica\", \"showlegend\": true, \"type\": \"scatter\", \"x\": [3.3, 2.7, 3.0, 2.9, 3.0, 3.0, 2.5, 2.9, 2.5, 3.6, 3.2, 2.7, 3.0, 2.5, 2.8, 3.2, 3.0, 3.8, 2.6, 2.2, 3.2, 2.8, 2.8, 2.7, 3.3, 3.2, 2.8, 3.0, 2.8, 3.0, 2.8, 3.8, 2.8, 2.8, 2.6, 3.0, 3.4, 3.1, 3.0, 3.1, 3.1, 3.1, 2.7, 3.2, 3.3, 3.0, 2.5, 3.0, 3.4, 3.0], \"xaxis\": \"x\", \"y\": [6.3, 5.8, 7.1, 6.3, 6.5, 7.6, 4.9, 7.3, 6.7, 7.2, 6.5, 6.4, 6.8, 5.7, 5.8, 6.4, 6.5, 7.7, 7.7, 6.0, 6.9, 5.6, 7.7, 6.3, 6.7, 7.2, 6.2, 6.1, 6.4, 7.2, 7.4, 7.9, 6.4, 6.3, 6.1, 7.7, 6.3, 6.4, 6.0, 6.9, 6.7, 6.9, 5.8, 6.8, 6.7, 6.7, 6.3, 6.5, 6.2, 5.9], \"yaxis\": \"y\"}, {\"alignmentgroup\": \"True\", \"hoverlabel\": {\"namelength\": 0}, \"hovertemplate\": \"species=virginica<br>sepal_width=%{x}\", \"legendgroup\": \"virginica\", \"marker\": {\"color\": \"#2CA02C\", \"symbol\": \"circle\"}, \"name\": \"virginica\", \"notched\": true, \"offsetgroup\": \"virginica\", \"showlegend\": false, \"type\": \"box\", \"x\": [3.3, 2.7, 3.0, 2.9, 3.0, 3.0, 2.5, 2.9, 2.5, 3.6, 3.2, 2.7, 3.0, 2.5, 2.8, 3.2, 3.0, 3.8, 2.6, 2.2, 3.2, 2.8, 2.8, 2.7, 3.3, 3.2, 2.8, 3.0, 2.8, 3.0, 2.8, 3.8, 2.8, 2.8, 2.6, 3.0, 3.4, 3.1, 3.0, 3.1, 3.1, 3.1, 2.7, 3.2, 3.3, 3.0, 2.5, 3.0, 3.4, 3.0], \"xaxis\": \"x3\", \"yaxis\": \"y3\"}, {\"alignmentgroup\": \"True\", \"hoverlabel\": {\"namelength\": 0}, \"hovertemplate\": \"species=virginica<br>sepal_length=%{y}\", \"legendgroup\": \"virginica\", \"marker\": {\"color\": \"#2CA02C\", \"symbol\": \"circle\"}, \"name\": \"virginica\", \"offsetgroup\": \"virginica\", \"scalegroup\": \"y\", \"showlegend\": false, \"type\": \"violin\", \"xaxis\": \"x2\", \"y\": [6.3, 5.8, 7.1, 6.3, 6.5, 7.6, 4.9, 7.3, 6.7, 7.2, 6.5, 6.4, 6.8, 5.7, 5.8, 6.4, 6.5, 7.7, 7.7, 6.0, 6.9, 5.6, 7.7, 6.3, 6.7, 7.2, 6.2, 6.1, 6.4, 7.2, 7.4, 7.9, 6.4, 6.3, 6.1, 7.7, 6.3, 6.4, 6.0, 6.9, 6.7, 6.9, 5.8, 6.8, 6.7, 6.7, 6.3, 6.5, 6.2, 5.9], \"yaxis\": \"y2\"}, {\"hoverlabel\": {\"namelength\": 0}, \"hovertemplate\": \"<b>OLS trendline</b><br>sepal_length = 0.901534 * sepal_width + 3.90684<br>R<sup>2</sup>=0.209057<br><br>species=virginica<br>sepal_width=%{x}<br>sepal_length=%{y} <b>(trend)</b>\", \"legendgroup\": \"virginica\", \"marker\": {\"color\": \"#2CA02C\", \"symbol\": \"circle\"}, \"mode\": \"lines\", \"name\": \"virginica\", \"showlegend\": false, \"type\": \"scatter\", \"x\": [2.2, 2.5, 2.5, 2.5, 2.5, 2.6, 2.6, 2.7, 2.7, 2.7, 2.7, 2.8, 2.8, 2.8, 2.8, 2.8, 2.8, 2.8, 2.8, 2.9, 2.9, 3.0, 3.0, 3.0, 3.0, 3.0, 3.0, 3.0, 3.0, 3.0, 3.0, 3.0, 3.0, 3.1, 3.1, 3.1, 3.1, 3.2, 3.2, 3.2, 3.2, 3.2, 3.3, 3.3, 3.3, 3.4, 3.4, 3.6, 3.8, 3.8], \"xaxis\": \"x\", \"y\": [5.890212315058276, 6.160672658058944, 6.160672658058944, 6.160672658058944, 6.160672658058944, 6.250826105725833, 6.250826105725833, 6.340979553392723, 6.340979553392723, 6.340979553392723, 6.340979553392723, 6.431133001059612, 6.431133001059612, 6.431133001059612, 6.431133001059612, 6.431133001059612, 6.431133001059612, 6.431133001059612, 6.431133001059612, 6.521286448726501, 6.521286448726501, 6.6114398963933905, 6.6114398963933905, 6.6114398963933905, 6.6114398963933905, 6.6114398963933905, 6.6114398963933905, 6.6114398963933905, 6.6114398963933905, 6.6114398963933905, 6.6114398963933905, 6.6114398963933905, 6.6114398963933905, 6.70159334406028, 6.70159334406028, 6.70159334406028, 6.70159334406028, 6.791746791727169, 6.791746791727169, 6.791746791727169, 6.791746791727169, 6.791746791727169, 6.881900239394058, 6.881900239394058, 6.881900239394058, 6.9720536870609475, 6.9720536870609475, 7.152360582394727, 7.332667477728505, 7.332667477728505], \"yaxis\": \"y\"}],\n",
       "                        {\"legend\": {\"title\": {\"text\": \"species\"}, \"tracegroupgap\": 0}, \"margin\": {\"t\": 60}, \"template\": {\"data\": {\"bar\": [{\"error_x\": {\"color\": \"rgb(36,36,36)\"}, \"error_y\": {\"color\": \"rgb(36,36,36)\"}, \"marker\": {\"line\": {\"color\": \"white\", \"width\": 0.5}}, \"type\": \"bar\"}], \"barpolar\": [{\"marker\": {\"line\": {\"color\": \"white\", \"width\": 0.5}}, \"type\": \"barpolar\"}], \"carpet\": [{\"aaxis\": {\"endlinecolor\": \"rgb(36,36,36)\", \"gridcolor\": \"white\", \"linecolor\": \"white\", \"minorgridcolor\": \"white\", \"startlinecolor\": \"rgb(36,36,36)\"}, \"baxis\": {\"endlinecolor\": \"rgb(36,36,36)\", \"gridcolor\": \"white\", \"linecolor\": \"white\", \"minorgridcolor\": \"white\", \"startlinecolor\": \"rgb(36,36,36)\"}, \"type\": \"carpet\"}], \"choropleth\": [{\"colorbar\": {\"outlinewidth\": 1, \"tickcolor\": \"rgb(36,36,36)\", \"ticks\": \"outside\"}, \"type\": \"choropleth\"}], \"contour\": [{\"colorbar\": {\"outlinewidth\": 1, \"tickcolor\": \"rgb(36,36,36)\", \"ticks\": \"outside\"}, \"colorscale\": [[0.0, \"#440154\"], [0.1111111111111111, \"#482878\"], [0.2222222222222222, \"#3e4989\"], [0.3333333333333333, \"#31688e\"], [0.4444444444444444, \"#26828e\"], [0.5555555555555556, \"#1f9e89\"], [0.6666666666666666, \"#35b779\"], [0.7777777777777778, \"#6ece58\"], [0.8888888888888888, \"#b5de2b\"], [1.0, \"#fde725\"]], \"type\": \"contour\"}], \"contourcarpet\": [{\"colorbar\": {\"outlinewidth\": 1, \"tickcolor\": \"rgb(36,36,36)\", \"ticks\": \"outside\"}, \"type\": \"contourcarpet\"}], \"heatmap\": [{\"colorbar\": {\"outlinewidth\": 1, \"tickcolor\": \"rgb(36,36,36)\", \"ticks\": \"outside\"}, \"colorscale\": [[0.0, \"#440154\"], [0.1111111111111111, \"#482878\"], [0.2222222222222222, \"#3e4989\"], [0.3333333333333333, \"#31688e\"], [0.4444444444444444, \"#26828e\"], [0.5555555555555556, \"#1f9e89\"], [0.6666666666666666, \"#35b779\"], [0.7777777777777778, \"#6ece58\"], [0.8888888888888888, \"#b5de2b\"], [1.0, \"#fde725\"]], \"type\": \"heatmap\"}], \"heatmapgl\": [{\"colorbar\": {\"outlinewidth\": 1, \"tickcolor\": \"rgb(36,36,36)\", \"ticks\": \"outside\"}, \"colorscale\": [[0.0, \"#440154\"], [0.1111111111111111, \"#482878\"], [0.2222222222222222, \"#3e4989\"], [0.3333333333333333, \"#31688e\"], [0.4444444444444444, \"#26828e\"], [0.5555555555555556, \"#1f9e89\"], [0.6666666666666666, \"#35b779\"], [0.7777777777777778, \"#6ece58\"], [0.8888888888888888, \"#b5de2b\"], [1.0, \"#fde725\"]], \"type\": \"heatmapgl\"}], \"histogram\": [{\"marker\": {\"line\": {\"color\": \"white\", \"width\": 0.6}}, \"type\": \"histogram\"}], \"histogram2d\": [{\"colorbar\": {\"outlinewidth\": 1, \"tickcolor\": \"rgb(36,36,36)\", \"ticks\": \"outside\"}, \"colorscale\": [[0.0, \"#440154\"], [0.1111111111111111, \"#482878\"], [0.2222222222222222, \"#3e4989\"], [0.3333333333333333, \"#31688e\"], [0.4444444444444444, \"#26828e\"], [0.5555555555555556, \"#1f9e89\"], [0.6666666666666666, \"#35b779\"], [0.7777777777777778, \"#6ece58\"], [0.8888888888888888, \"#b5de2b\"], [1.0, \"#fde725\"]], \"type\": \"histogram2d\"}], \"histogram2dcontour\": [{\"colorbar\": {\"outlinewidth\": 1, \"tickcolor\": \"rgb(36,36,36)\", \"ticks\": \"outside\"}, \"colorscale\": [[0.0, \"#440154\"], [0.1111111111111111, \"#482878\"], [0.2222222222222222, \"#3e4989\"], [0.3333333333333333, \"#31688e\"], [0.4444444444444444, \"#26828e\"], [0.5555555555555556, \"#1f9e89\"], [0.6666666666666666, \"#35b779\"], [0.7777777777777778, \"#6ece58\"], [0.8888888888888888, \"#b5de2b\"], [1.0, \"#fde725\"]], \"type\": \"histogram2dcontour\"}], \"mesh3d\": [{\"colorbar\": {\"outlinewidth\": 1, \"tickcolor\": \"rgb(36,36,36)\", \"ticks\": \"outside\"}, \"type\": \"mesh3d\"}], \"parcoords\": [{\"line\": {\"colorbar\": {\"outlinewidth\": 1, \"tickcolor\": \"rgb(36,36,36)\", \"ticks\": \"outside\"}}, \"type\": \"parcoords\"}], \"pie\": [{\"automargin\": true, \"type\": \"pie\"}], \"scatter\": [{\"marker\": {\"colorbar\": {\"outlinewidth\": 1, \"tickcolor\": \"rgb(36,36,36)\", \"ticks\": \"outside\"}}, \"type\": \"scatter\"}], \"scatter3d\": [{\"line\": {\"colorbar\": {\"outlinewidth\": 1, \"tickcolor\": \"rgb(36,36,36)\", \"ticks\": \"outside\"}}, \"marker\": {\"colorbar\": {\"outlinewidth\": 1, \"tickcolor\": \"rgb(36,36,36)\", \"ticks\": \"outside\"}}, \"type\": \"scatter3d\"}], \"scattercarpet\": [{\"marker\": {\"colorbar\": {\"outlinewidth\": 1, \"tickcolor\": \"rgb(36,36,36)\", \"ticks\": \"outside\"}}, \"type\": \"scattercarpet\"}], \"scattergeo\": [{\"marker\": {\"colorbar\": {\"outlinewidth\": 1, \"tickcolor\": \"rgb(36,36,36)\", \"ticks\": \"outside\"}}, \"type\": \"scattergeo\"}], \"scattergl\": [{\"marker\": {\"colorbar\": {\"outlinewidth\": 1, \"tickcolor\": \"rgb(36,36,36)\", \"ticks\": \"outside\"}}, \"type\": \"scattergl\"}], \"scattermapbox\": [{\"marker\": {\"colorbar\": {\"outlinewidth\": 1, \"tickcolor\": \"rgb(36,36,36)\", \"ticks\": \"outside\"}}, \"type\": \"scattermapbox\"}], \"scatterpolar\": [{\"marker\": {\"colorbar\": {\"outlinewidth\": 1, \"tickcolor\": \"rgb(36,36,36)\", \"ticks\": \"outside\"}}, \"type\": \"scatterpolar\"}], \"scatterpolargl\": [{\"marker\": {\"colorbar\": {\"outlinewidth\": 1, \"tickcolor\": \"rgb(36,36,36)\", \"ticks\": \"outside\"}}, \"type\": \"scatterpolargl\"}], \"scatterternary\": [{\"marker\": {\"colorbar\": {\"outlinewidth\": 1, \"tickcolor\": \"rgb(36,36,36)\", \"ticks\": \"outside\"}}, \"type\": \"scatterternary\"}], \"surface\": [{\"colorbar\": {\"outlinewidth\": 1, \"tickcolor\": \"rgb(36,36,36)\", \"ticks\": \"outside\"}, \"colorscale\": [[0.0, \"#440154\"], [0.1111111111111111, \"#482878\"], [0.2222222222222222, \"#3e4989\"], [0.3333333333333333, \"#31688e\"], [0.4444444444444444, \"#26828e\"], [0.5555555555555556, \"#1f9e89\"], [0.6666666666666666, \"#35b779\"], [0.7777777777777778, \"#6ece58\"], [0.8888888888888888, \"#b5de2b\"], [1.0, \"#fde725\"]], \"type\": \"surface\"}], \"table\": [{\"cells\": {\"fill\": {\"color\": \"rgb(237,237,237)\"}, \"line\": {\"color\": \"white\"}}, \"header\": {\"fill\": {\"color\": \"rgb(217,217,217)\"}, \"line\": {\"color\": \"white\"}}, \"type\": \"table\"}]}, \"layout\": {\"annotationdefaults\": {\"arrowhead\": 0, \"arrowwidth\": 1}, \"coloraxis\": {\"colorbar\": {\"outlinewidth\": 1, \"tickcolor\": \"rgb(36,36,36)\", \"ticks\": \"outside\"}}, \"colorscale\": {\"diverging\": [[0.0, \"rgb(103,0,31)\"], [0.1, \"rgb(178,24,43)\"], [0.2, \"rgb(214,96,77)\"], [0.3, \"rgb(244,165,130)\"], [0.4, \"rgb(253,219,199)\"], [0.5, \"rgb(247,247,247)\"], [0.6, \"rgb(209,229,240)\"], [0.7, \"rgb(146,197,222)\"], [0.8, \"rgb(67,147,195)\"], [0.9, \"rgb(33,102,172)\"], [1.0, \"rgb(5,48,97)\"]], \"sequential\": [[0.0, \"#440154\"], [0.1111111111111111, \"#482878\"], [0.2222222222222222, \"#3e4989\"], [0.3333333333333333, \"#31688e\"], [0.4444444444444444, \"#26828e\"], [0.5555555555555556, \"#1f9e89\"], [0.6666666666666666, \"#35b779\"], [0.7777777777777778, \"#6ece58\"], [0.8888888888888888, \"#b5de2b\"], [1.0, \"#fde725\"]], \"sequentialminus\": [[0.0, \"#440154\"], [0.1111111111111111, \"#482878\"], [0.2222222222222222, \"#3e4989\"], [0.3333333333333333, \"#31688e\"], [0.4444444444444444, \"#26828e\"], [0.5555555555555556, \"#1f9e89\"], [0.6666666666666666, \"#35b779\"], [0.7777777777777778, \"#6ece58\"], [0.8888888888888888, \"#b5de2b\"], [1.0, \"#fde725\"]]}, \"colorway\": [\"#1F77B4\", \"#FF7F0E\", \"#2CA02C\", \"#D62728\", \"#9467BD\", \"#8C564B\", \"#E377C2\", \"#7F7F7F\", \"#BCBD22\", \"#17BECF\"], \"font\": {\"color\": \"rgb(36,36,36)\"}, \"geo\": {\"bgcolor\": \"white\", \"lakecolor\": \"white\", \"landcolor\": \"white\", \"showlakes\": true, \"showland\": true, \"subunitcolor\": \"white\"}, \"hoverlabel\": {\"align\": \"left\"}, \"hovermode\": \"closest\", \"mapbox\": {\"style\": \"light\"}, \"paper_bgcolor\": \"white\", \"plot_bgcolor\": \"white\", \"polar\": {\"angularaxis\": {\"gridcolor\": \"rgb(232,232,232)\", \"linecolor\": \"rgb(36,36,36)\", \"showgrid\": false, \"showline\": true, \"ticks\": \"outside\"}, \"bgcolor\": \"white\", \"radialaxis\": {\"gridcolor\": \"rgb(232,232,232)\", \"linecolor\": \"rgb(36,36,36)\", \"showgrid\": false, \"showline\": true, \"ticks\": \"outside\"}}, \"scene\": {\"xaxis\": {\"backgroundcolor\": \"white\", \"gridcolor\": \"rgb(232,232,232)\", \"gridwidth\": 2, \"linecolor\": \"rgb(36,36,36)\", \"showbackground\": true, \"showgrid\": false, \"showline\": true, \"ticks\": \"outside\", \"zeroline\": false, \"zerolinecolor\": \"rgb(36,36,36)\"}, \"yaxis\": {\"backgroundcolor\": \"white\", \"gridcolor\": \"rgb(232,232,232)\", \"gridwidth\": 2, \"linecolor\": \"rgb(36,36,36)\", \"showbackground\": true, \"showgrid\": false, \"showline\": true, \"ticks\": \"outside\", \"zeroline\": false, \"zerolinecolor\": \"rgb(36,36,36)\"}, \"zaxis\": {\"backgroundcolor\": \"white\", \"gridcolor\": \"rgb(232,232,232)\", \"gridwidth\": 2, \"linecolor\": \"rgb(36,36,36)\", \"showbackground\": true, \"showgrid\": false, \"showline\": true, \"ticks\": \"outside\", \"zeroline\": false, \"zerolinecolor\": \"rgb(36,36,36)\"}}, \"shapedefaults\": {\"fillcolor\": \"black\", \"line\": {\"width\": 0}, \"opacity\": 0.3}, \"ternary\": {\"aaxis\": {\"gridcolor\": \"rgb(232,232,232)\", \"linecolor\": \"rgb(36,36,36)\", \"showgrid\": false, \"showline\": true, \"ticks\": \"outside\"}, \"baxis\": {\"gridcolor\": \"rgb(232,232,232)\", \"linecolor\": \"rgb(36,36,36)\", \"showgrid\": false, \"showline\": true, \"ticks\": \"outside\"}, \"bgcolor\": \"white\", \"caxis\": {\"gridcolor\": \"rgb(232,232,232)\", \"linecolor\": \"rgb(36,36,36)\", \"showgrid\": false, \"showline\": true, \"ticks\": \"outside\"}}, \"title\": {\"x\": 0.05}, \"xaxis\": {\"automargin\": true, \"gridcolor\": \"rgb(232,232,232)\", \"linecolor\": \"rgb(36,36,36)\", \"showgrid\": false, \"showline\": true, \"ticks\": \"outside\", \"title\": {\"standoff\": 15}, \"zeroline\": false, \"zerolinecolor\": \"rgb(36,36,36)\"}, \"yaxis\": {\"automargin\": true, \"gridcolor\": \"rgb(232,232,232)\", \"linecolor\": \"rgb(36,36,36)\", \"showgrid\": false, \"showline\": true, \"ticks\": \"outside\", \"title\": {\"standoff\": 15}, \"zeroline\": false, \"zerolinecolor\": \"rgb(36,36,36)\"}}}, \"xaxis\": {\"anchor\": \"y\", \"domain\": [0.0, 0.7363], \"title\": {\"text\": \"sepal_width\"}}, \"xaxis2\": {\"anchor\": \"y2\", \"domain\": [0.7413, 1.0], \"matches\": \"x2\", \"showline\": false, \"showticklabels\": false, \"ticks\": \"\"}, \"xaxis3\": {\"anchor\": \"y3\", \"domain\": [0.0, 0.7363], \"matches\": \"x\", \"showticklabels\": false}, \"xaxis4\": {\"anchor\": \"y4\", \"domain\": [0.7413, 1.0], \"matches\": \"x2\", \"showline\": false, \"showticklabels\": false, \"ticks\": \"\"}, \"yaxis\": {\"anchor\": \"x\", \"domain\": [0.0, 0.7326], \"title\": {\"text\": \"sepal_length\"}}, \"yaxis2\": {\"anchor\": \"x2\", \"domain\": [0.0, 0.7326], \"matches\": \"y\", \"showticklabels\": false}, \"yaxis3\": {\"anchor\": \"x3\", \"domain\": [0.7426, 1.0], \"matches\": \"y3\", \"showline\": false, \"showticklabels\": false, \"ticks\": \"\"}, \"yaxis4\": {\"anchor\": \"x4\", \"domain\": [0.7426, 1.0], \"matches\": \"y3\", \"showline\": false, \"showticklabels\": false, \"ticks\": \"\"}},\n",
       "                        {\"responsive\": true}\n",
       "                    ).then(function(){\n",
       "                            \n",
       "var gd = document.getElementById('d4c21280-87fc-41ea-a8cd-054adb80aab0');\n",
       "var x = new MutationObserver(function (mutations, observer) {{\n",
       "        var display = window.getComputedStyle(gd).display;\n",
       "        if (!display || display === 'none') {{\n",
       "            console.log([gd, 'removed!']);\n",
       "            Plotly.purge(gd);\n",
       "            observer.disconnect();\n",
       "        }}\n",
       "}});\n",
       "\n",
       "// Listen for the removal of the full notebook cells\n",
       "var notebookContainer = gd.closest('#notebook-container');\n",
       "if (notebookContainer) {{\n",
       "    x.observe(notebookContainer, {childList: true});\n",
       "}}\n",
       "\n",
       "// Listen for the clearing of the current output cell\n",
       "var outputEl = gd.closest('.output');\n",
       "if (outputEl) {{\n",
       "    x.observe(outputEl, {childList: true});\n",
       "}}\n",
       "\n",
       "                        })\n",
       "                };\n",
       "                });\n",
       "            </script>\n",
       "        </div>"
      ]
     },
     "metadata": {},
     "output_type": "display_data"
    }
   ],
   "source": [
    "df = px.data.iris()\n",
    "fig = px.scatter(df, x=\"sepal_width\", y=\"sepal_length\", color=\"species\", marginal_y=\"violin\",\n",
    "           marginal_x=\"box\", trendline=\"ols\", template=\"simple_white\")\n",
    "fig.show()"
   ]
  },
  {
   "cell_type": "code",
   "execution_count": null,
   "metadata": {},
   "outputs": [],
   "source": [
    "marginal_x\n",
    "trendline\n",
    "\n",
    "\n",
    "Greys,YlGnBu,Greens,YlOrR d,Bluered,RdBu,Reds,Blues,Picnic,Rainbow,\n",
    "Portland,Jet,H ot,Blackbody,Earth,Electric,Viridis,Cividis"
   ]
  },
  {
   "cell_type": "code",
   "execution_count": null,
   "metadata": {},
   "outputs": [],
   "source": [
    "import plotly.express as px\n",
    "df = px.data.tips()\n",
    "\n",
    "fig = px.density_contour(df, x=\"total_bill\", y=\"tip\",marginal_x=\"histogram\", marginal_y=\"histogram\",trendline='ols')\n",
    "#fig.update_traces(contours_coloring=\"fill\", contours_showlabels = True)\n",
    "\n",
    "fig.show()"
   ]
  },
  {
   "cell_type": "code",
   "execution_count": null,
   "metadata": {},
   "outputs": [],
   "source": [
    "df = px.data.tips()\n",
    "\n",
    "df = px.data.tips()\n",
    "\n",
    "fig = px.density_heatmap(df, x=\"total_bill\", y=\"tip\", marginal_x=\"violin\", marginal_y=\"violin\")\n",
    "\n",
    "#fig = px.density_contour(df, x=\"total_bill\", y=\"tip\")#,marginal_y=\"histogram\")\n",
    "#fig.update_traces(contours_coloring=\"fill\", contours_showlabels = True)\n",
    "\n",
    "# Add drowdowns\n",
    "# button_layer_1_height = 1.08\n",
    "button_layer_1_height = 1.12\n",
    "button_layer_2_height = 1.065\n",
    "\n",
    "fig.update_layout(\n",
    "    updatemenus=[\n",
    "        dict(\n",
    "            buttons=list([\n",
    "                dict(\n",
    "                    args=[\"colorscale\", \"Viridis\"],\n",
    "                    label=\"Viridis\",\n",
    "                    method=\"restyle\"\n",
    "                ),\n",
    "                dict(\n",
    "                    args=[\"colorscale\", \"Cividis\"],\n",
    "                    label=\"Cividis\",\n",
    "                    method=\"restyle\"\n",
    "                ),\n",
    "                dict(\n",
    "                    args=[\"colorscale\", \"Blues\"],\n",
    "                    label=\"Blues\",\n",
    "                    method=\"restyle\"\n",
    "                ),\n",
    "                dict(\n",
    "                    args=[\"colorscale\", \"Greens\"],\n",
    "                    label=\"Greens\",\n",
    "                    method=\"restyle\"\n",
    "                ),\n",
    "            ]),\n",
    "            direction=\"down\",\n",
    "            pad={\"r\": 10, \"t\": 10},\n",
    "            showactive=True,\n",
    "            x=0.1,\n",
    "            xanchor=\"left\",\n",
    "            y=button_layer_1_height,\n",
    "            yanchor=\"top\"\n",
    "        ),\n",
    "        dict(\n",
    "            buttons=list([\n",
    "                dict(\n",
    "                    args=[\"reversescale\", False],\n",
    "                    label=\"False\",\n",
    "                    method=\"restyle\"\n",
    "                ),\n",
    "                dict(\n",
    "                    args=[\"reversescale\", True],\n",
    "                    label=\"True\",\n",
    "                    method=\"restyle\"\n",
    "                )\n",
    "            ]),\n",
    "            direction=\"down\",\n",
    "            pad={\"r\": 10, \"t\": 10},\n",
    "            showactive=True,\n",
    "            x=0.37,\n",
    "            xanchor=\"left\",\n",
    "            y=button_layer_1_height,\n",
    "            yanchor=\"top\"\n",
    "        ),\n",
    "        dict(\n",
    "            buttons=list([\n",
    "                dict(\n",
    "                    args=[{\"contours.showlines\": False, \"type\": \"contour\"}],\n",
    "                    label=\"Hide lines\",\n",
    "                    method=\"restyle\"\n",
    "                ),\n",
    "                dict(\n",
    "                    args=[{\"contours.showlines\": True, \"type\": \"contour\"}],\n",
    "                    label=\"Show lines\",\n",
    "                    method=\"restyle\"\n",
    "                ),\n",
    "            ]),\n",
    "            direction=\"down\",\n",
    "            pad={\"r\": 10, \"t\": 10},\n",
    "            showactive=True,\n",
    "            x=0.58,\n",
    "            xanchor=\"left\",\n",
    "            y=button_layer_1_height,\n",
    "            yanchor=\"top\"\n",
    "        ),\n",
    "    ]\n",
    ")\n",
    "\n",
    "fig.update_layout(\n",
    "    annotations=[\n",
    "        dict(text=\"colorscale\", x=0, xref=\"paper\", y=1.08, yref=\"paper\",\n",
    "                             align=\"left\", showarrow=False),\n",
    "        dict(text=\"Reverse<br>Colorscale\", x=0.25, xref=\"paper\", y=1.10,\n",
    "                             yref=\"paper\", showarrow=False),\n",
    "        dict(text=\"Lines\", x=0.54, xref=\"paper\", y=1.08, yref=\"paper\",\n",
    "                             showarrow=False)\n",
    "    ])\n",
    "fig.show()"
   ]
  },
  {
   "cell_type": "markdown",
   "metadata": {},
   "source": [
    "# right top end\n"
   ]
  },
  {
   "cell_type": "markdown",
   "metadata": {},
   "source": [
    "# right bottom\n"
   ]
  },
  {
   "cell_type": "code",
   "execution_count": null,
   "metadata": {},
   "outputs": [],
   "source": []
  },
  {
   "cell_type": "code",
   "execution_count": 122,
   "metadata": {},
   "outputs": [],
   "source": [
    "def df_filter(dff = None, series=None, minimum=None, maximum=None):\n",
    "    if minimum == 0 and not maximum:\n",
    "        dff = dff[dff[series] >= 0]\n",
    "        return dff\n",
    "    if not minimum and maximum == 0:\n",
    "        dff = dff[dff[series] <= 0]\n",
    "        return dff\n",
    "    if minimum == 0 and maximum:\n",
    "        dff = dff[(dff[series] >= 0) & (dff[series] <= maximum)]\n",
    "        return dff\n",
    "    elif minimum and maximum == 0:\n",
    "        dff = dff[(dff[series] >= minimax) & (dff[series] <= 0)]\n",
    "        return dff\n",
    "    elif minimum == 0 and maximum == 0:\n",
    "        dff = dff[(dff[series] >= 0) & (dff[series] <= 0)]\n",
    "        return dff\n",
    "    elif minimum and maximum:\n",
    "        dff = dff[(dff[series] >= minimum) & (dff[series] <= maximum)]\n",
    "        return dff\n",
    "    elif minimum:\n",
    "        dff = dff[dff[series] >= minimum]\n",
    "        return dff\n",
    "    elif maximum:\n",
    "        dff = dff[dff[series] <= maximum]\n",
    "        return dff\n",
    "    return dff"
   ]
  },
  {
   "cell_type": "code",
   "execution_count": null,
   "metadata": {},
   "outputs": [],
   "source": [
    "dff = df_num\n",
    "dff = dff[(dff['EOD_delta'] >= -20) & (dff['EOD_delta'] <= 1000)]\n",
    "len(dff)\n",
    "dff"
   ]
  },
  {
   "cell_type": "code",
   "execution_count": 123,
   "metadata": {},
   "outputs": [],
   "source": [
    "def value_none(value):\n",
    "    if value == \"None\":\n",
    "        value = None\n",
    "    return value"
   ]
  },
  {
   "cell_type": "code",
   "execution_count": 210,
   "metadata": {},
   "outputs": [],
   "source": [
    "def build_graphBA3(color_sel,size_sel,symbol_sel,x_min,x_max,y_min,y_max,z_min,z_max):\n",
    "    dff = df_num\n",
    "    \n",
    "    for v in [color_sel,size_sel,symbol_sel,x_min,x_max,y_min,y_max,z_min,z_max]:\n",
    "        value_none(v)\n",
    "    \n",
    "    color_sel = value_none(color_sel)\n",
    "    size_sel = value_none(size_sel) \n",
    "    symbol_sel = value_none(symbol_sel)\n",
    "    x_min = value_none(x_min)\n",
    "    x_max = value_none(x_max)\n",
    "    y_min = value_none(y_min)\n",
    "    y_max = value_none(y_max)\n",
    "    z_min = value_none(z_min)\n",
    "    z_max = value_none(z_max)\n",
    "    \n",
    "    dff = df_num\n",
    "    dff1 = df_filter(dff,'ProbPercent',x_min,x_max)\n",
    "    dff2 = df_filter(dff1,'EOD_delta',y_min,y_max)\n",
    "    dff3 = df_filter(dff2,'PotentialValue',z_min,z_max)\n",
    "    \n",
    "    if not color_sel and not symbol_sel:\n",
    "        showlegend = True\n",
    "    elif color_sel and not symbol_sel:\n",
    "        showlegend = True\n",
    "    elif not color_sel and symbol_sel:\n",
    "        showlegend = True\n",
    "    elif color_sel and symbol_sel:\n",
    "        if color_sel == symbol_sel:\n",
    "            showlegend = True\n",
    "            print(\"both active and same\")\n",
    "        elif color_sel != symbol_sel:\n",
    "            print(\"both active and not same\")\n",
    "            showlegend = False\n",
    "\n",
    "    df = px.data.iris()\n",
    "    fig = px.scatter_3d(dff3, x='ProbPercent', y='EOD_delta', z='PotentialValue',\n",
    "                        color=color_sel,\n",
    "                        size=size_sel, size_max=18,\n",
    "                        symbol=symbol_sel,\n",
    "                        opacity=0.6)\n",
    "\n",
    "    # tight layout\n",
    "    #fig.update_layout(margin=dict(l=0, r=0, b=0, t=0))\n",
    "    fig.update_layout(margin=dict(l=0, r=0, b=0, t=0),\n",
    "        scene = dict(\n",
    "            xaxis = dict(\n",
    "                backgroundcolor=\"rgb(245, 236, 218)\",\n",
    "                gridcolor=\"white\",\n",
    "                showbackground=True,\n",
    "                zerolinecolor=\"white\",),\n",
    "            yaxis = dict(\n",
    "                backgroundcolor=\"rgb(206, 240, 194)\",\n",
    "                gridcolor=\"white\",\n",
    "                showbackground=True,\n",
    "                zerolinecolor=\"white\"),\n",
    "            zaxis = dict(\n",
    "                backgroundcolor=\"rgb(241, 217, 252)\",\n",
    "                gridcolor=\"white\",\n",
    "                showbackground=True,\n",
    "                zerolinecolor=\"white\",),),\n",
    "            width=700,\n",
    "            showlegend=showlegend)\n",
    "    \n",
    "    fig.show()\n",
    "    #graph = dcc.Graph(figure = fig)\n",
    "\n",
    "    #return graph\n"
   ]
  },
  {
   "cell_type": "code",
   "execution_count": 222,
   "metadata": {
    "scrolled": false
   },
   "outputs": [
    {
     "name": "stdout",
     "output_type": "stream",
     "text": [
      "both active and not same\n"
     ]
    },
    {
     "data": {
      "application/vnd.plotly.v1+json": {
       "config": {
        "plotlyServerURL": "https://plot.ly"
       },
       "data": [
        {
         "hoverlabel": {
          "namelength": 0
         },
         "hovertemplate": "Branch=Austin<br>ProbPercent=%{x}<br>EOD_delta=%{y}<br>PotentialValue=%{z}<br>ExpectedValue=%{marker.color}",
         "legendgroup": "Austin",
         "marker": {
          "color": [
           5814,
           33750,
           50920,
           2500,
           41250,
           24750,
           250053,
           13500,
           11040,
           33169,
           18400,
           10500,
           11130,
           31250,
           187500,
           15000,
           4950000,
           6000,
           80000,
           7000,
           40000,
           12500,
           125000,
           2500,
           40000,
           148500,
           37500,
           58500,
           33000,
           5000,
           10000,
           7500,
           45000,
           10000,
           7500,
           25000,
           15000,
           6000,
           1000,
           10000,
           67500,
           125000,
           90000,
           50000,
           1000,
           5000,
           75000,
           1600,
           9000,
           24000,
           3000,
           11250
          ],
          "coloraxis": "coloraxis",
          "opacity": 0.6,
          "symbol": "circle"
         },
         "mode": "markers",
         "name": "Austin",
         "scene": "scene",
         "showlegend": true,
         "type": "scatter3d",
         "x": [
          0.75,
          0.75,
          0.6,
          0.25,
          0.75,
          0.9,
          0.75,
          0.75,
          1,
          0.75,
          0.8,
          0.5,
          0.75,
          0.25,
          0.75,
          0.75,
          0.99,
          0.5,
          1,
          1,
          0.5,
          0.5,
          0.5,
          0.25,
          0.5,
          0.99,
          0.5,
          0.9,
          0.3,
          0.5,
          0.5,
          1,
          0.9,
          0.1,
          0.1,
          0.5,
          0.3,
          0.1,
          0.1,
          0.5,
          0.9,
          0.5,
          0.9,
          0.5,
          0.1,
          0.1,
          0.3,
          0.8,
          0.9,
          0.4,
          0.3,
          0.15
         ],
         "y": [
          32,
          15,
          0,
          107,
          63,
          -29,
          63,
          15,
          -41,
          1,
          1,
          -15,
          -15,
          -26,
          -20,
          -27,
          -15,
          -32,
          -150,
          -76,
          97,
          107,
          107,
          null,
          97,
          -15,
          93,
          63,
          154,
          -29,
          1,
          -42,
          1,
          185,
          185,
          93,
          -29,
          32,
          1,
          1,
          -29,
          32,
          -29,
          32,
          32,
          93,
          63,
          -29,
          -29,
          1,
          1,
          1
         ],
         "z": [
          7753,
          45000,
          84867,
          10000,
          55000,
          27500,
          333404,
          18000,
          11040,
          44226,
          23000,
          21000,
          14840,
          125000,
          250000,
          20000,
          5000000,
          12000,
          80000,
          7000,
          80000,
          25000,
          250000,
          10000,
          80000,
          150000,
          75000,
          65000,
          110000,
          10000,
          20000,
          7500,
          50000,
          100000,
          75000,
          50000,
          50000,
          60000,
          10000,
          20000,
          75000,
          250000,
          100000,
          100000,
          10000,
          50000,
          250000,
          2000,
          10000,
          60000,
          10000,
          75000
         ]
        },
        {
         "hoverlabel": {
          "namelength": 0
         },
         "hovertemplate": "Branch=Midland<br>ProbPercent=%{x}<br>EOD_delta=%{y}<br>PotentialValue=%{z}<br>ExpectedValue=%{marker.color}",
         "legendgroup": "Midland",
         "marker": {
          "color": [
           3600,
           50000,
           20000,
           8000,
           7500,
           11250,
           35000,
           6500,
           22500,
           24000,
           6000,
           18500,
           37500,
           60000,
           4000,
           22500,
           72000,
           37500,
           5000,
           42500,
           120000
          ],
          "coloraxis": "coloraxis",
          "opacity": 0.6,
          "symbol": "diamond"
         },
         "mode": "markers",
         "name": "Midland",
         "scene": "scene",
         "showlegend": true,
         "type": "scatter3d",
         "x": [
          0.3,
          0.5,
          0.2,
          0.4,
          0.3,
          0.75,
          0.5,
          0.5,
          0.5,
          1,
          0.6,
          0.5,
          0.75,
          0.5,
          0.2,
          0.9,
          0.2,
          0.5,
          0.5,
          0.5,
          0.4
         ],
         "y": [
          -30,
          -30,
          31,
          31,
          0,
          -30,
          -15,
          0,
          -15,
          -46,
          0,
          0,
          -46,
          0,
          -8,
          0,
          0,
          -30,
          -30,
          0,
          30
         ],
         "z": [
          12000,
          100000,
          100000,
          20000,
          25000,
          15000,
          70000,
          13000,
          45000,
          24000,
          10000,
          37000,
          50000,
          120000,
          20000,
          25000,
          360000,
          75000,
          10000,
          85000,
          300000
         ]
        },
        {
         "hoverlabel": {
          "namelength": 0
         },
         "hovertemplate": "Branch=OKC<br>ProbPercent=%{x}<br>EOD_delta=%{y}<br>PotentialValue=%{z}<br>ExpectedValue=%{marker.color}",
         "legendgroup": "OKC",
         "marker": {
          "color": [
           15000,
           2400000,
           65000,
           18000,
           24500,
           30000,
           93750,
           80000,
           1050000,
           37500,
           25000,
           13000,
           52000,
           48750,
           12000,
           48000,
           7000,
           13500,
           24000,
           7500
          ],
          "coloraxis": "coloraxis",
          "opacity": 0.6,
          "symbol": "square"
         },
         "mode": "markers",
         "name": "OKC",
         "scene": "scene",
         "showlegend": true,
         "type": "scatter3d",
         "x": [
          0.5,
          0.8,
          0.65,
          0.9,
          0.7,
          1,
          0.75,
          0.8,
          0.7,
          0.75,
          0.5,
          0.65,
          0.8,
          0.75,
          0.6,
          0.8,
          0.2,
          0.9,
          0.6,
          1
         ],
         "y": [
          113,
          null,
          null,
          -33,
          -10,
          -30,
          -33,
          -47,
          184,
          31,
          -27,
          null,
          null,
          8,
          -15,
          -20,
          51,
          -15,
          -15,
          -41
         ],
         "z": [
          30000,
          3000000,
          100000,
          20000,
          35000,
          30000,
          125000,
          100000,
          1500000,
          50000,
          50000,
          20000,
          65000,
          65000,
          20000,
          60000,
          35000,
          15000,
          40000,
          7500
         ]
        },
        {
         "hoverlabel": {
          "namelength": 0
         },
         "hovertemplate": "Branch=San Antonio<br>ProbPercent=%{x}<br>EOD_delta=%{y}<br>PotentialValue=%{z}<br>ExpectedValue=%{marker.color}",
         "legendgroup": "San Antonio",
         "marker": {
          "color": [
           35000,
           10000,
           4000,
           4000,
           250000,
           5000,
           15750,
           9500,
           8000,
           150000,
           150000,
           37500,
           25000,
           60000,
           25000,
           22500,
           15000,
           37500,
           3750,
           30000
          ],
          "coloraxis": "coloraxis",
          "opacity": 0.6,
          "symbol": "x"
         },
         "mode": "markers",
         "name": "San Antonio",
         "scene": "scene",
         "showlegend": true,
         "type": "scatter3d",
         "x": [
          0.5,
          0.5,
          0.5,
          0.5,
          0.5,
          0.5,
          0.75,
          0.95,
          0.8,
          0.5,
          0.75,
          0.5,
          0.5,
          0.5,
          0.5,
          0.5,
          0.75,
          0.75,
          0.25,
          0.5
         ],
         "y": [
          1,
          32,
          32,
          32,
          1,
          32,
          -46,
          -46,
          -36,
          124,
          93,
          32,
          -29,
          1,
          93,
          -1826,
          1,
          -25,
          1,
          1
         ],
         "z": [
          70000,
          20000,
          8000,
          8000,
          500000,
          10000,
          21000,
          10000,
          10000,
          300000,
          200000,
          75000,
          50000,
          120000,
          50000,
          45000,
          20000,
          50000,
          15000,
          60000
         ]
        },
        {
         "hoverlabel": {
          "namelength": 0
         },
         "hovertemplate": "Branch=Houston NOV<br>ProbPercent=%{x}<br>EOD_delta=%{y}<br>PotentialValue=%{z}<br>ExpectedValue=%{marker.color}",
         "legendgroup": "Houston NOV",
         "marker": {
          "color": [
           22500,
           112500,
           75000,
           19800,
           32000,
           25000,
           53250,
           131670,
           131670,
           554400,
           150000,
           37500,
           112500,
           90000,
           75000,
           12500,
           112500,
           100000,
           25000,
           75000,
           10000,
           112500
          ],
          "coloraxis": "coloraxis",
          "opacity": 0.6,
          "symbol": "cross"
         },
         "mode": "markers",
         "name": "Houston NOV",
         "scene": "scene",
         "showlegend": true,
         "type": "scatter3d",
         "x": [
          0.75,
          0.75,
          0.75,
          0.99,
          0.8,
          0.5,
          0.75,
          0.99,
          0.99,
          0.99,
          0.75,
          0.75,
          0.75,
          0.75,
          0.75,
          0.25,
          0.75,
          0.5,
          0.5,
          0.75,
          0.5,
          0.75
         ],
         "y": [
          0,
          0,
          92,
          15,
          0,
          0,
          0,
          -25,
          -25,
          1,
          15,
          93,
          46,
          46,
          0,
          77,
          0,
          15,
          32,
          15,
          1,
          1
         ],
         "z": [
          30000,
          150000,
          100000,
          20000,
          40000,
          50000,
          71000,
          133000,
          133000,
          560000,
          200000,
          50000,
          150000,
          120000,
          100000,
          50000,
          150000,
          200000,
          50000,
          100000,
          20000,
          150000
         ]
        },
        {
         "hoverlabel": {
          "namelength": 0
         },
         "hovertemplate": "Branch=Corpus Christi<br>ProbPercent=%{x}<br>EOD_delta=%{y}<br>PotentialValue=%{z}<br>ExpectedValue=%{marker.color}",
         "legendgroup": "Corpus Christi",
         "marker": {
          "color": [
           168750,
           48450,
           190000,
           39750,
           12350,
           250000,
           45000,
           30000,
           37500,
           250000,
           45000,
           93750,
           17500,
           14000,
           25000,
           10000,
           24000,
           12500
          ],
          "coloraxis": "coloraxis",
          "opacity": 0.6,
          "symbol": "circle"
         },
         "mode": "markers",
         "name": "Corpus Christi",
         "scene": "scene",
         "showlegend": true,
         "type": "scatter3d",
         "x": [
          0.75,
          0.85,
          0.95,
          0.75,
          0.5,
          1,
          1,
          0.75,
          0.75,
          0.5,
          0.75,
          0.75,
          0.5,
          0.5,
          1,
          0.5,
          0.75,
          0.5
         ],
         "y": [
          93,
          15,
          -15,
          15,
          30,
          -15,
          -32,
          15,
          15,
          138,
          1,
          214,
          -29,
          -15,
          -32,
          -29,
          -29,
          -15
         ],
         "z": [
          225000,
          57000,
          200000,
          53000,
          24700,
          250000,
          45000,
          40000,
          50000,
          500000,
          60000,
          125000,
          35000,
          28000,
          25000,
          20000,
          32000,
          25000
         ]
        },
        {
         "hoverlabel": {
          "namelength": 0
         },
         "hovertemplate": "Branch=Houston OEM<br>ProbPercent=%{x}<br>EOD_delta=%{y}<br>PotentialValue=%{z}<br>ExpectedValue=%{marker.color}",
         "legendgroup": "Houston OEM",
         "marker": {
          "color": [
           237810,
           134677,
           125000,
           29700,
           16000,
           18750,
           13200,
           65000,
           16373,
           396000,
           8000,
           10000,
           6000,
           5000,
           50000,
           15000,
           15000,
           10000,
           125000,
           125000,
           20000,
           87500,
           16250,
           4000,
           50000,
           125000,
           20000,
           60000,
           7500,
           7500,
           3750,
           37500,
           90000,
           90000,
           90000,
           9000,
           72000,
           22500,
           18000,
           1080000,
           81000,
           6000,
           24000,
           4000,
           100000,
           30000,
           45000,
           10000,
           27000,
           12000,
           30000,
           80000,
           75000,
           30000,
           80000,
           27000,
           37628,
           8000,
           9000,
           120324,
           9774,
           5000,
           39949,
           196632,
           300000,
           12000,
           6000,
           15000,
           40000,
           130000,
           94000,
           12000,
           10000,
           12000,
           50000,
           15000
          ],
          "coloraxis": "coloraxis",
          "opacity": 0.6,
          "symbol": "diamond"
         },
         "mode": "markers",
         "name": "Houston OEM",
         "scene": "scene",
         "showlegend": true,
         "type": "scatter3d",
         "x": [
          0.6,
          0.5,
          0.5,
          0.99,
          1,
          0.75,
          0.6,
          1,
          1,
          0.99,
          0.1,
          0.1,
          0.1,
          0.1,
          0.1,
          0.1,
          0.1,
          0.1,
          0.25,
          0.25,
          0.25,
          0.25,
          0.25,
          0.25,
          0.5,
          0.5,
          0.5,
          0.75,
          0.75,
          0.75,
          0.75,
          0.75,
          0.9,
          0.9,
          0.9,
          0.9,
          0.9,
          0.9,
          0.9,
          0.9,
          0.9,
          0.2,
          0.6,
          0.1,
          0.2,
          0.3,
          0.3,
          0.2,
          0.9,
          0.4,
          0.3,
          0.4,
          0.5,
          0.2,
          0.4,
          0.3,
          0.8,
          0.4,
          0.9,
          0.9,
          0.6,
          0.5,
          0.6,
          0.8,
          0.75,
          0.6,
          0.6,
          1,
          0.8,
          1,
          1,
          0.8,
          0.5,
          0.2,
          0.5,
          0.5
         ],
         "y": [
          31,
          0,
          null,
          -30,
          null,
          null,
          null,
          null,
          null,
          null,
          154,
          154,
          154,
          154,
          154,
          154,
          154,
          154,
          154,
          154,
          32,
          32,
          32,
          32,
          63,
          63,
          32,
          32,
          32,
          32,
          32,
          1,
          -29,
          154,
          1,
          -41,
          -60,
          32,
          32,
          -29,
          -29,
          123,
          null,
          123,
          123,
          123,
          null,
          null,
          null,
          31,
          null,
          123,
          123,
          123,
          123,
          31,
          0,
          null,
          0,
          -30,
          0,
          -15,
          31,
          null,
          null,
          31,
          0,
          null,
          31,
          -20,
          -20,
          0,
          123,
          123,
          123,
          123
         ],
         "z": [
          396350,
          269355,
          250000,
          30000,
          16000,
          25000,
          22000,
          65000,
          16373,
          400000,
          80000,
          100000,
          60000,
          50000,
          500000,
          150000,
          150000,
          100000,
          500000,
          500000,
          80000,
          350000,
          65000,
          16000,
          100000,
          250000,
          40000,
          80000,
          10000,
          10000,
          5000,
          50000,
          100000,
          100000,
          100000,
          10000,
          80000,
          25000,
          20000,
          1200000,
          90000,
          30000,
          40000,
          40000,
          500000,
          100000,
          150000,
          50000,
          30000,
          30000,
          100000,
          200000,
          150000,
          150000,
          200000,
          90000,
          47035,
          20000,
          10000,
          133694,
          16290,
          10000,
          66583,
          245790,
          400000,
          20000,
          10000,
          15000,
          50000,
          130000,
          94000,
          15000,
          20000,
          60000,
          100000,
          30000
         ]
        }
       ],
       "layout": {
        "coloraxis": {
         "colorbar": {
          "title": {
           "text": "ExpectedValue"
          }
         },
         "colorscale": [
          [
           0,
           "#0d0887"
          ],
          [
           0.1111111111111111,
           "#46039f"
          ],
          [
           0.2222222222222222,
           "#7201a8"
          ],
          [
           0.3333333333333333,
           "#9c179e"
          ],
          [
           0.4444444444444444,
           "#bd3786"
          ],
          [
           0.5555555555555556,
           "#d8576b"
          ],
          [
           0.6666666666666666,
           "#ed7953"
          ],
          [
           0.7777777777777778,
           "#fb9f3a"
          ],
          [
           0.8888888888888888,
           "#fdca26"
          ],
          [
           1,
           "#f0f921"
          ]
         ]
        },
        "legend": {
         "title": {
          "text": "Branch"
         },
         "tracegroupgap": 0
        },
        "margin": {
         "b": 0,
         "l": 0,
         "r": 0,
         "t": 0
        },
        "scene": {
         "domain": {
          "x": [
           0,
           1
          ],
          "y": [
           0,
           1
          ]
         },
         "xaxis": {
          "backgroundcolor": "rgb(245, 236, 218)",
          "gridcolor": "white",
          "showbackground": true,
          "title": {
           "text": "ProbPercent"
          },
          "zerolinecolor": "white"
         },
         "yaxis": {
          "backgroundcolor": "rgb(206, 240, 194)",
          "gridcolor": "white",
          "showbackground": true,
          "title": {
           "text": "EOD_delta"
          },
          "zerolinecolor": "white"
         },
         "zaxis": {
          "backgroundcolor": "rgb(241, 217, 252)",
          "gridcolor": "white",
          "showbackground": true,
          "title": {
           "text": "PotentialValue"
          },
          "zerolinecolor": "white"
         }
        },
        "showlegend": false,
        "template": {
         "data": {
          "bar": [
           {
            "error_x": {
             "color": "#2a3f5f"
            },
            "error_y": {
             "color": "#2a3f5f"
            },
            "marker": {
             "line": {
              "color": "#E5ECF6",
              "width": 0.5
             }
            },
            "type": "bar"
           }
          ],
          "barpolar": [
           {
            "marker": {
             "line": {
              "color": "#E5ECF6",
              "width": 0.5
             }
            },
            "type": "barpolar"
           }
          ],
          "carpet": [
           {
            "aaxis": {
             "endlinecolor": "#2a3f5f",
             "gridcolor": "white",
             "linecolor": "white",
             "minorgridcolor": "white",
             "startlinecolor": "#2a3f5f"
            },
            "baxis": {
             "endlinecolor": "#2a3f5f",
             "gridcolor": "white",
             "linecolor": "white",
             "minorgridcolor": "white",
             "startlinecolor": "#2a3f5f"
            },
            "type": "carpet"
           }
          ],
          "choropleth": [
           {
            "colorbar": {
             "outlinewidth": 0,
             "ticks": ""
            },
            "type": "choropleth"
           }
          ],
          "contour": [
           {
            "colorbar": {
             "outlinewidth": 0,
             "ticks": ""
            },
            "colorscale": [
             [
              0,
              "#0d0887"
             ],
             [
              0.1111111111111111,
              "#46039f"
             ],
             [
              0.2222222222222222,
              "#7201a8"
             ],
             [
              0.3333333333333333,
              "#9c179e"
             ],
             [
              0.4444444444444444,
              "#bd3786"
             ],
             [
              0.5555555555555556,
              "#d8576b"
             ],
             [
              0.6666666666666666,
              "#ed7953"
             ],
             [
              0.7777777777777778,
              "#fb9f3a"
             ],
             [
              0.8888888888888888,
              "#fdca26"
             ],
             [
              1,
              "#f0f921"
             ]
            ],
            "type": "contour"
           }
          ],
          "contourcarpet": [
           {
            "colorbar": {
             "outlinewidth": 0,
             "ticks": ""
            },
            "type": "contourcarpet"
           }
          ],
          "heatmap": [
           {
            "colorbar": {
             "outlinewidth": 0,
             "ticks": ""
            },
            "colorscale": [
             [
              0,
              "#0d0887"
             ],
             [
              0.1111111111111111,
              "#46039f"
             ],
             [
              0.2222222222222222,
              "#7201a8"
             ],
             [
              0.3333333333333333,
              "#9c179e"
             ],
             [
              0.4444444444444444,
              "#bd3786"
             ],
             [
              0.5555555555555556,
              "#d8576b"
             ],
             [
              0.6666666666666666,
              "#ed7953"
             ],
             [
              0.7777777777777778,
              "#fb9f3a"
             ],
             [
              0.8888888888888888,
              "#fdca26"
             ],
             [
              1,
              "#f0f921"
             ]
            ],
            "type": "heatmap"
           }
          ],
          "heatmapgl": [
           {
            "colorbar": {
             "outlinewidth": 0,
             "ticks": ""
            },
            "colorscale": [
             [
              0,
              "#0d0887"
             ],
             [
              0.1111111111111111,
              "#46039f"
             ],
             [
              0.2222222222222222,
              "#7201a8"
             ],
             [
              0.3333333333333333,
              "#9c179e"
             ],
             [
              0.4444444444444444,
              "#bd3786"
             ],
             [
              0.5555555555555556,
              "#d8576b"
             ],
             [
              0.6666666666666666,
              "#ed7953"
             ],
             [
              0.7777777777777778,
              "#fb9f3a"
             ],
             [
              0.8888888888888888,
              "#fdca26"
             ],
             [
              1,
              "#f0f921"
             ]
            ],
            "type": "heatmapgl"
           }
          ],
          "histogram": [
           {
            "marker": {
             "colorbar": {
              "outlinewidth": 0,
              "ticks": ""
             }
            },
            "type": "histogram"
           }
          ],
          "histogram2d": [
           {
            "colorbar": {
             "outlinewidth": 0,
             "ticks": ""
            },
            "colorscale": [
             [
              0,
              "#0d0887"
             ],
             [
              0.1111111111111111,
              "#46039f"
             ],
             [
              0.2222222222222222,
              "#7201a8"
             ],
             [
              0.3333333333333333,
              "#9c179e"
             ],
             [
              0.4444444444444444,
              "#bd3786"
             ],
             [
              0.5555555555555556,
              "#d8576b"
             ],
             [
              0.6666666666666666,
              "#ed7953"
             ],
             [
              0.7777777777777778,
              "#fb9f3a"
             ],
             [
              0.8888888888888888,
              "#fdca26"
             ],
             [
              1,
              "#f0f921"
             ]
            ],
            "type": "histogram2d"
           }
          ],
          "histogram2dcontour": [
           {
            "colorbar": {
             "outlinewidth": 0,
             "ticks": ""
            },
            "colorscale": [
             [
              0,
              "#0d0887"
             ],
             [
              0.1111111111111111,
              "#46039f"
             ],
             [
              0.2222222222222222,
              "#7201a8"
             ],
             [
              0.3333333333333333,
              "#9c179e"
             ],
             [
              0.4444444444444444,
              "#bd3786"
             ],
             [
              0.5555555555555556,
              "#d8576b"
             ],
             [
              0.6666666666666666,
              "#ed7953"
             ],
             [
              0.7777777777777778,
              "#fb9f3a"
             ],
             [
              0.8888888888888888,
              "#fdca26"
             ],
             [
              1,
              "#f0f921"
             ]
            ],
            "type": "histogram2dcontour"
           }
          ],
          "mesh3d": [
           {
            "colorbar": {
             "outlinewidth": 0,
             "ticks": ""
            },
            "type": "mesh3d"
           }
          ],
          "parcoords": [
           {
            "line": {
             "colorbar": {
              "outlinewidth": 0,
              "ticks": ""
             }
            },
            "type": "parcoords"
           }
          ],
          "pie": [
           {
            "automargin": true,
            "type": "pie"
           }
          ],
          "scatter": [
           {
            "marker": {
             "colorbar": {
              "outlinewidth": 0,
              "ticks": ""
             }
            },
            "type": "scatter"
           }
          ],
          "scatter3d": [
           {
            "line": {
             "colorbar": {
              "outlinewidth": 0,
              "ticks": ""
             }
            },
            "marker": {
             "colorbar": {
              "outlinewidth": 0,
              "ticks": ""
             }
            },
            "type": "scatter3d"
           }
          ],
          "scattercarpet": [
           {
            "marker": {
             "colorbar": {
              "outlinewidth": 0,
              "ticks": ""
             }
            },
            "type": "scattercarpet"
           }
          ],
          "scattergeo": [
           {
            "marker": {
             "colorbar": {
              "outlinewidth": 0,
              "ticks": ""
             }
            },
            "type": "scattergeo"
           }
          ],
          "scattergl": [
           {
            "marker": {
             "colorbar": {
              "outlinewidth": 0,
              "ticks": ""
             }
            },
            "type": "scattergl"
           }
          ],
          "scattermapbox": [
           {
            "marker": {
             "colorbar": {
              "outlinewidth": 0,
              "ticks": ""
             }
            },
            "type": "scattermapbox"
           }
          ],
          "scatterpolar": [
           {
            "marker": {
             "colorbar": {
              "outlinewidth": 0,
              "ticks": ""
             }
            },
            "type": "scatterpolar"
           }
          ],
          "scatterpolargl": [
           {
            "marker": {
             "colorbar": {
              "outlinewidth": 0,
              "ticks": ""
             }
            },
            "type": "scatterpolargl"
           }
          ],
          "scatterternary": [
           {
            "marker": {
             "colorbar": {
              "outlinewidth": 0,
              "ticks": ""
             }
            },
            "type": "scatterternary"
           }
          ],
          "surface": [
           {
            "colorbar": {
             "outlinewidth": 0,
             "ticks": ""
            },
            "colorscale": [
             [
              0,
              "#0d0887"
             ],
             [
              0.1111111111111111,
              "#46039f"
             ],
             [
              0.2222222222222222,
              "#7201a8"
             ],
             [
              0.3333333333333333,
              "#9c179e"
             ],
             [
              0.4444444444444444,
              "#bd3786"
             ],
             [
              0.5555555555555556,
              "#d8576b"
             ],
             [
              0.6666666666666666,
              "#ed7953"
             ],
             [
              0.7777777777777778,
              "#fb9f3a"
             ],
             [
              0.8888888888888888,
              "#fdca26"
             ],
             [
              1,
              "#f0f921"
             ]
            ],
            "type": "surface"
           }
          ],
          "table": [
           {
            "cells": {
             "fill": {
              "color": "#EBF0F8"
             },
             "line": {
              "color": "white"
             }
            },
            "header": {
             "fill": {
              "color": "#C8D4E3"
             },
             "line": {
              "color": "white"
             }
            },
            "type": "table"
           }
          ]
         },
         "layout": {
          "annotationdefaults": {
           "arrowcolor": "#2a3f5f",
           "arrowhead": 0,
           "arrowwidth": 1
          },
          "coloraxis": {
           "colorbar": {
            "outlinewidth": 0,
            "ticks": ""
           }
          },
          "colorscale": {
           "diverging": [
            [
             0,
             "#8e0152"
            ],
            [
             0.1,
             "#c51b7d"
            ],
            [
             0.2,
             "#de77ae"
            ],
            [
             0.3,
             "#f1b6da"
            ],
            [
             0.4,
             "#fde0ef"
            ],
            [
             0.5,
             "#f7f7f7"
            ],
            [
             0.6,
             "#e6f5d0"
            ],
            [
             0.7,
             "#b8e186"
            ],
            [
             0.8,
             "#7fbc41"
            ],
            [
             0.9,
             "#4d9221"
            ],
            [
             1,
             "#276419"
            ]
           ],
           "sequential": [
            [
             0,
             "#0d0887"
            ],
            [
             0.1111111111111111,
             "#46039f"
            ],
            [
             0.2222222222222222,
             "#7201a8"
            ],
            [
             0.3333333333333333,
             "#9c179e"
            ],
            [
             0.4444444444444444,
             "#bd3786"
            ],
            [
             0.5555555555555556,
             "#d8576b"
            ],
            [
             0.6666666666666666,
             "#ed7953"
            ],
            [
             0.7777777777777778,
             "#fb9f3a"
            ],
            [
             0.8888888888888888,
             "#fdca26"
            ],
            [
             1,
             "#f0f921"
            ]
           ],
           "sequentialminus": [
            [
             0,
             "#0d0887"
            ],
            [
             0.1111111111111111,
             "#46039f"
            ],
            [
             0.2222222222222222,
             "#7201a8"
            ],
            [
             0.3333333333333333,
             "#9c179e"
            ],
            [
             0.4444444444444444,
             "#bd3786"
            ],
            [
             0.5555555555555556,
             "#d8576b"
            ],
            [
             0.6666666666666666,
             "#ed7953"
            ],
            [
             0.7777777777777778,
             "#fb9f3a"
            ],
            [
             0.8888888888888888,
             "#fdca26"
            ],
            [
             1,
             "#f0f921"
            ]
           ]
          },
          "colorway": [
           "#636efa",
           "#EF553B",
           "#00cc96",
           "#ab63fa",
           "#FFA15A",
           "#19d3f3",
           "#FF6692",
           "#B6E880",
           "#FF97FF",
           "#FECB52"
          ],
          "font": {
           "color": "#2a3f5f"
          },
          "geo": {
           "bgcolor": "white",
           "lakecolor": "white",
           "landcolor": "#E5ECF6",
           "showlakes": true,
           "showland": true,
           "subunitcolor": "white"
          },
          "hoverlabel": {
           "align": "left"
          },
          "hovermode": "closest",
          "mapbox": {
           "style": "light"
          },
          "paper_bgcolor": "white",
          "plot_bgcolor": "#E5ECF6",
          "polar": {
           "angularaxis": {
            "gridcolor": "white",
            "linecolor": "white",
            "ticks": ""
           },
           "bgcolor": "#E5ECF6",
           "radialaxis": {
            "gridcolor": "white",
            "linecolor": "white",
            "ticks": ""
           }
          },
          "scene": {
           "xaxis": {
            "backgroundcolor": "#E5ECF6",
            "gridcolor": "white",
            "gridwidth": 2,
            "linecolor": "white",
            "showbackground": true,
            "ticks": "",
            "zerolinecolor": "white"
           },
           "yaxis": {
            "backgroundcolor": "#E5ECF6",
            "gridcolor": "white",
            "gridwidth": 2,
            "linecolor": "white",
            "showbackground": true,
            "ticks": "",
            "zerolinecolor": "white"
           },
           "zaxis": {
            "backgroundcolor": "#E5ECF6",
            "gridcolor": "white",
            "gridwidth": 2,
            "linecolor": "white",
            "showbackground": true,
            "ticks": "",
            "zerolinecolor": "white"
           }
          },
          "shapedefaults": {
           "line": {
            "color": "#2a3f5f"
           }
          },
          "ternary": {
           "aaxis": {
            "gridcolor": "white",
            "linecolor": "white",
            "ticks": ""
           },
           "baxis": {
            "gridcolor": "white",
            "linecolor": "white",
            "ticks": ""
           },
           "bgcolor": "#E5ECF6",
           "caxis": {
            "gridcolor": "white",
            "linecolor": "white",
            "ticks": ""
           }
          },
          "title": {
           "x": 0.05
          },
          "xaxis": {
           "automargin": true,
           "gridcolor": "white",
           "linecolor": "white",
           "ticks": "",
           "title": {
            "standoff": 15
           },
           "zerolinecolor": "white",
           "zerolinewidth": 2
          },
          "yaxis": {
           "automargin": true,
           "gridcolor": "white",
           "linecolor": "white",
           "ticks": "",
           "title": {
            "standoff": 15
           },
           "zerolinecolor": "white",
           "zerolinewidth": 2
          }
         }
        },
        "width": 700
       }
      },
      "text/html": [
       "<div>\n",
       "        \n",
       "        \n",
       "            <div id=\"f5120c16-f49d-45ec-b7c1-4102d88a7c1c\" class=\"plotly-graph-div\" style=\"height:525px; width:700px;\"></div>\n",
       "            <script type=\"text/javascript\">\n",
       "                require([\"plotly\"], function(Plotly) {\n",
       "                    window.PLOTLYENV=window.PLOTLYENV || {};\n",
       "                    \n",
       "                if (document.getElementById(\"f5120c16-f49d-45ec-b7c1-4102d88a7c1c\")) {\n",
       "                    Plotly.newPlot(\n",
       "                        'f5120c16-f49d-45ec-b7c1-4102d88a7c1c',\n",
       "                        [{\"hoverlabel\": {\"namelength\": 0}, \"hovertemplate\": \"Branch=Austin<br>ProbPercent=%{x}<br>EOD_delta=%{y}<br>PotentialValue=%{z}<br>ExpectedValue=%{marker.color}\", \"legendgroup\": \"Austin\", \"marker\": {\"color\": [5814, 33750, 50920, 2500, 41250, 24750, 250053, 13500, 11040, 33169, 18400, 10500, 11130, 31250, 187500, 15000, 4950000, 6000, 80000, 7000, 40000, 12500, 125000, 2500, 40000, 148500, 37500, 58500, 33000, 5000, 10000, 7500, 45000, 10000, 7500, 25000, 15000, 6000, 1000, 10000, 67500, 125000, 90000, 50000, 1000, 5000, 75000, 1600, 9000, 24000, 3000, 11250], \"coloraxis\": \"coloraxis\", \"opacity\": 0.6, \"symbol\": \"circle\"}, \"mode\": \"markers\", \"name\": \"Austin\", \"scene\": \"scene\", \"showlegend\": true, \"type\": \"scatter3d\", \"x\": [0.75, 0.75, 0.6, 0.25, 0.75, 0.9, 0.75, 0.75, 1.0, 0.75, 0.8, 0.5, 0.75, 0.25, 0.75, 0.75, 0.99, 0.5, 1.0, 1.0, 0.5, 0.5, 0.5, 0.25, 0.5, 0.99, 0.5, 0.9, 0.3, 0.5, 0.5, 1.0, 0.9, 0.1, 0.1, 0.5, 0.3, 0.1, 0.1, 0.5, 0.9, 0.5, 0.9, 0.5, 0.1, 0.1, 0.3, 0.8, 0.9, 0.4, 0.3, 0.15], \"y\": [32.0, 15.0, 0.0, 107.0, 63.0, -29.0, 63.0, 15.0, -41.0, 1.0, 1.0, -15.0, -15.0, -26.0, -20.0, -27.0, -15.0, -32.0, -150.0, -76.0, 97.0, 107.0, 107.0, null, 97.0, -15.0, 93.0, 63.0, 154.0, -29.0, 1.0, -42.0, 1.0, 185.0, 185.0, 93.0, -29.0, 32.0, 1.0, 1.0, -29.0, 32.0, -29.0, 32.0, 32.0, 93.0, 63.0, -29.0, -29.0, 1.0, 1.0, 1.0], \"z\": [7753, 45000, 84867, 10000, 55000, 27500, 333404, 18000, 11040, 44226, 23000, 21000, 14840, 125000, 250000, 20000, 5000000, 12000, 80000, 7000, 80000, 25000, 250000, 10000, 80000, 150000, 75000, 65000, 110000, 10000, 20000, 7500, 50000, 100000, 75000, 50000, 50000, 60000, 10000, 20000, 75000, 250000, 100000, 100000, 10000, 50000, 250000, 2000, 10000, 60000, 10000, 75000]}, {\"hoverlabel\": {\"namelength\": 0}, \"hovertemplate\": \"Branch=Midland<br>ProbPercent=%{x}<br>EOD_delta=%{y}<br>PotentialValue=%{z}<br>ExpectedValue=%{marker.color}\", \"legendgroup\": \"Midland\", \"marker\": {\"color\": [3600, 50000, 20000, 8000, 7500, 11250, 35000, 6500, 22500, 24000, 6000, 18500, 37500, 60000, 4000, 22500, 72000, 37500, 5000, 42500, 120000], \"coloraxis\": \"coloraxis\", \"opacity\": 0.6, \"symbol\": \"diamond\"}, \"mode\": \"markers\", \"name\": \"Midland\", \"scene\": \"scene\", \"showlegend\": true, \"type\": \"scatter3d\", \"x\": [0.3, 0.5, 0.2, 0.4, 0.3, 0.75, 0.5, 0.5, 0.5, 1.0, 0.6, 0.5, 0.75, 0.5, 0.2, 0.9, 0.2, 0.5, 0.5, 0.5, 0.4], \"y\": [-30.0, -30.0, 31.0, 31.0, 0.0, -30.0, -15.0, 0.0, -15.0, -46.0, 0.0, 0.0, -46.0, 0.0, -8.0, 0.0, 0.0, -30.0, -30.0, 0.0, 30.0], \"z\": [12000, 100000, 100000, 20000, 25000, 15000, 70000, 13000, 45000, 24000, 10000, 37000, 50000, 120000, 20000, 25000, 360000, 75000, 10000, 85000, 300000]}, {\"hoverlabel\": {\"namelength\": 0}, \"hovertemplate\": \"Branch=OKC<br>ProbPercent=%{x}<br>EOD_delta=%{y}<br>PotentialValue=%{z}<br>ExpectedValue=%{marker.color}\", \"legendgroup\": \"OKC\", \"marker\": {\"color\": [15000, 2400000, 65000, 18000, 24500, 30000, 93750, 80000, 1050000, 37500, 25000, 13000, 52000, 48750, 12000, 48000, 7000, 13500, 24000, 7500], \"coloraxis\": \"coloraxis\", \"opacity\": 0.6, \"symbol\": \"square\"}, \"mode\": \"markers\", \"name\": \"OKC\", \"scene\": \"scene\", \"showlegend\": true, \"type\": \"scatter3d\", \"x\": [0.5, 0.8, 0.65, 0.9, 0.7, 1.0, 0.75, 0.8, 0.7, 0.75, 0.5, 0.65, 0.8, 0.75, 0.6, 0.8, 0.2, 0.9, 0.6, 1.0], \"y\": [113.0, null, null, -33.0, -10.0, -30.0, -33.0, -47.0, 184.0, 31.0, -27.0, null, null, 8.0, -15.0, -20.0, 51.0, -15.0, -15.0, -41.0], \"z\": [30000, 3000000, 100000, 20000, 35000, 30000, 125000, 100000, 1500000, 50000, 50000, 20000, 65000, 65000, 20000, 60000, 35000, 15000, 40000, 7500]}, {\"hoverlabel\": {\"namelength\": 0}, \"hovertemplate\": \"Branch=San Antonio<br>ProbPercent=%{x}<br>EOD_delta=%{y}<br>PotentialValue=%{z}<br>ExpectedValue=%{marker.color}\", \"legendgroup\": \"San Antonio\", \"marker\": {\"color\": [35000, 10000, 4000, 4000, 250000, 5000, 15750, 9500, 8000, 150000, 150000, 37500, 25000, 60000, 25000, 22500, 15000, 37500, 3750, 30000], \"coloraxis\": \"coloraxis\", \"opacity\": 0.6, \"symbol\": \"x\"}, \"mode\": \"markers\", \"name\": \"San Antonio\", \"scene\": \"scene\", \"showlegend\": true, \"type\": \"scatter3d\", \"x\": [0.5, 0.5, 0.5, 0.5, 0.5, 0.5, 0.75, 0.95, 0.8, 0.5, 0.75, 0.5, 0.5, 0.5, 0.5, 0.5, 0.75, 0.75, 0.25, 0.5], \"y\": [1.0, 32.0, 32.0, 32.0, 1.0, 32.0, -46.0, -46.0, -36.0, 124.0, 93.0, 32.0, -29.0, 1.0, 93.0, -1826.0, 1.0, -25.0, 1.0, 1.0], \"z\": [70000, 20000, 8000, 8000, 500000, 10000, 21000, 10000, 10000, 300000, 200000, 75000, 50000, 120000, 50000, 45000, 20000, 50000, 15000, 60000]}, {\"hoverlabel\": {\"namelength\": 0}, \"hovertemplate\": \"Branch=Houston NOV<br>ProbPercent=%{x}<br>EOD_delta=%{y}<br>PotentialValue=%{z}<br>ExpectedValue=%{marker.color}\", \"legendgroup\": \"Houston NOV\", \"marker\": {\"color\": [22500, 112500, 75000, 19800, 32000, 25000, 53250, 131670, 131670, 554400, 150000, 37500, 112500, 90000, 75000, 12500, 112500, 100000, 25000, 75000, 10000, 112500], \"coloraxis\": \"coloraxis\", \"opacity\": 0.6, \"symbol\": \"cross\"}, \"mode\": \"markers\", \"name\": \"Houston NOV\", \"scene\": \"scene\", \"showlegend\": true, \"type\": \"scatter3d\", \"x\": [0.75, 0.75, 0.75, 0.99, 0.8, 0.5, 0.75, 0.99, 0.99, 0.99, 0.75, 0.75, 0.75, 0.75, 0.75, 0.25, 0.75, 0.5, 0.5, 0.75, 0.5, 0.75], \"y\": [0.0, 0.0, 92.0, 15.0, 0.0, 0.0, 0.0, -25.0, -25.0, 1.0, 15.0, 93.0, 46.0, 46.0, 0.0, 77.0, 0.0, 15.0, 32.0, 15.0, 1.0, 1.0], \"z\": [30000, 150000, 100000, 20000, 40000, 50000, 71000, 133000, 133000, 560000, 200000, 50000, 150000, 120000, 100000, 50000, 150000, 200000, 50000, 100000, 20000, 150000]}, {\"hoverlabel\": {\"namelength\": 0}, \"hovertemplate\": \"Branch=Corpus Christi<br>ProbPercent=%{x}<br>EOD_delta=%{y}<br>PotentialValue=%{z}<br>ExpectedValue=%{marker.color}\", \"legendgroup\": \"Corpus Christi\", \"marker\": {\"color\": [168750, 48450, 190000, 39750, 12350, 250000, 45000, 30000, 37500, 250000, 45000, 93750, 17500, 14000, 25000, 10000, 24000, 12500], \"coloraxis\": \"coloraxis\", \"opacity\": 0.6, \"symbol\": \"circle\"}, \"mode\": \"markers\", \"name\": \"Corpus Christi\", \"scene\": \"scene\", \"showlegend\": true, \"type\": \"scatter3d\", \"x\": [0.75, 0.85, 0.95, 0.75, 0.5, 1.0, 1.0, 0.75, 0.75, 0.5, 0.75, 0.75, 0.5, 0.5, 1.0, 0.5, 0.75, 0.5], \"y\": [93.0, 15.0, -15.0, 15.0, 30.0, -15.0, -32.0, 15.0, 15.0, 138.0, 1.0, 214.0, -29.0, -15.0, -32.0, -29.0, -29.0, -15.0], \"z\": [225000, 57000, 200000, 53000, 24700, 250000, 45000, 40000, 50000, 500000, 60000, 125000, 35000, 28000, 25000, 20000, 32000, 25000]}, {\"hoverlabel\": {\"namelength\": 0}, \"hovertemplate\": \"Branch=Houston OEM<br>ProbPercent=%{x}<br>EOD_delta=%{y}<br>PotentialValue=%{z}<br>ExpectedValue=%{marker.color}\", \"legendgroup\": \"Houston OEM\", \"marker\": {\"color\": [237810, 134677, 125000, 29700, 16000, 18750, 13200, 65000, 16373, 396000, 8000, 10000, 6000, 5000, 50000, 15000, 15000, 10000, 125000, 125000, 20000, 87500, 16250, 4000, 50000, 125000, 20000, 60000, 7500, 7500, 3750, 37500, 90000, 90000, 90000, 9000, 72000, 22500, 18000, 1080000, 81000, 6000, 24000, 4000, 100000, 30000, 45000, 10000, 27000, 12000, 30000, 80000, 75000, 30000, 80000, 27000, 37628, 8000, 9000, 120324, 9774, 5000, 39949, 196632, 300000, 12000, 6000, 15000, 40000, 130000, 94000, 12000, 10000, 12000, 50000, 15000], \"coloraxis\": \"coloraxis\", \"opacity\": 0.6, \"symbol\": \"diamond\"}, \"mode\": \"markers\", \"name\": \"Houston OEM\", \"scene\": \"scene\", \"showlegend\": true, \"type\": \"scatter3d\", \"x\": [0.6, 0.5, 0.5, 0.99, 1.0, 0.75, 0.6, 1.0, 1.0, 0.99, 0.1, 0.1, 0.1, 0.1, 0.1, 0.1, 0.1, 0.1, 0.25, 0.25, 0.25, 0.25, 0.25, 0.25, 0.5, 0.5, 0.5, 0.75, 0.75, 0.75, 0.75, 0.75, 0.9, 0.9, 0.9, 0.9, 0.9, 0.9, 0.9, 0.9, 0.9, 0.2, 0.6, 0.1, 0.2, 0.3, 0.3, 0.2, 0.9, 0.4, 0.3, 0.4, 0.5, 0.2, 0.4, 0.3, 0.8, 0.4, 0.9, 0.9, 0.6, 0.5, 0.6, 0.8, 0.75, 0.6, 0.6, 1.0, 0.8, 1.0, 1.0, 0.8, 0.5, 0.2, 0.5, 0.5], \"y\": [31.0, 0.0, null, -30.0, null, null, null, null, null, null, 154.0, 154.0, 154.0, 154.0, 154.0, 154.0, 154.0, 154.0, 154.0, 154.0, 32.0, 32.0, 32.0, 32.0, 63.0, 63.0, 32.0, 32.0, 32.0, 32.0, 32.0, 1.0, -29.0, 154.0, 1.0, -41.0, -60.0, 32.0, 32.0, -29.0, -29.0, 123.0, null, 123.0, 123.0, 123.0, null, null, null, 31.0, null, 123.0, 123.0, 123.0, 123.0, 31.0, 0.0, null, 0.0, -30.0, 0.0, -15.0, 31.0, null, null, 31.0, 0.0, null, 31.0, -20.0, -20.0, 0.0, 123.0, 123.0, 123.0, 123.0], \"z\": [396350, 269355, 250000, 30000, 16000, 25000, 22000, 65000, 16373, 400000, 80000, 100000, 60000, 50000, 500000, 150000, 150000, 100000, 500000, 500000, 80000, 350000, 65000, 16000, 100000, 250000, 40000, 80000, 10000, 10000, 5000, 50000, 100000, 100000, 100000, 10000, 80000, 25000, 20000, 1200000, 90000, 30000, 40000, 40000, 500000, 100000, 150000, 50000, 30000, 30000, 100000, 200000, 150000, 150000, 200000, 90000, 47035, 20000, 10000, 133694, 16290, 10000, 66583, 245790, 400000, 20000, 10000, 15000, 50000, 130000, 94000, 15000, 20000, 60000, 100000, 30000]}],\n",
       "                        {\"coloraxis\": {\"colorbar\": {\"title\": {\"text\": \"ExpectedValue\"}}, \"colorscale\": [[0.0, \"#0d0887\"], [0.1111111111111111, \"#46039f\"], [0.2222222222222222, \"#7201a8\"], [0.3333333333333333, \"#9c179e\"], [0.4444444444444444, \"#bd3786\"], [0.5555555555555556, \"#d8576b\"], [0.6666666666666666, \"#ed7953\"], [0.7777777777777778, \"#fb9f3a\"], [0.8888888888888888, \"#fdca26\"], [1.0, \"#f0f921\"]]}, \"legend\": {\"title\": {\"text\": \"Branch\"}, \"tracegroupgap\": 0}, \"margin\": {\"b\": 0, \"l\": 0, \"r\": 0, \"t\": 0}, \"scene\": {\"domain\": {\"x\": [0.0, 1.0], \"y\": [0.0, 1.0]}, \"xaxis\": {\"backgroundcolor\": \"rgb(245, 236, 218)\", \"gridcolor\": \"white\", \"showbackground\": true, \"title\": {\"text\": \"ProbPercent\"}, \"zerolinecolor\": \"white\"}, \"yaxis\": {\"backgroundcolor\": \"rgb(206, 240, 194)\", \"gridcolor\": \"white\", \"showbackground\": true, \"title\": {\"text\": \"EOD_delta\"}, \"zerolinecolor\": \"white\"}, \"zaxis\": {\"backgroundcolor\": \"rgb(241, 217, 252)\", \"gridcolor\": \"white\", \"showbackground\": true, \"title\": {\"text\": \"PotentialValue\"}, \"zerolinecolor\": \"white\"}}, \"showlegend\": false, \"template\": {\"data\": {\"bar\": [{\"error_x\": {\"color\": \"#2a3f5f\"}, \"error_y\": {\"color\": \"#2a3f5f\"}, \"marker\": {\"line\": {\"color\": \"#E5ECF6\", \"width\": 0.5}}, \"type\": \"bar\"}], \"barpolar\": [{\"marker\": {\"line\": {\"color\": \"#E5ECF6\", \"width\": 0.5}}, \"type\": \"barpolar\"}], \"carpet\": [{\"aaxis\": {\"endlinecolor\": \"#2a3f5f\", \"gridcolor\": \"white\", \"linecolor\": \"white\", \"minorgridcolor\": \"white\", \"startlinecolor\": \"#2a3f5f\"}, \"baxis\": {\"endlinecolor\": \"#2a3f5f\", \"gridcolor\": \"white\", \"linecolor\": \"white\", \"minorgridcolor\": \"white\", \"startlinecolor\": \"#2a3f5f\"}, \"type\": \"carpet\"}], \"choropleth\": [{\"colorbar\": {\"outlinewidth\": 0, \"ticks\": \"\"}, \"type\": \"choropleth\"}], \"contour\": [{\"colorbar\": {\"outlinewidth\": 0, \"ticks\": \"\"}, \"colorscale\": [[0.0, \"#0d0887\"], [0.1111111111111111, \"#46039f\"], [0.2222222222222222, \"#7201a8\"], [0.3333333333333333, \"#9c179e\"], [0.4444444444444444, \"#bd3786\"], [0.5555555555555556, \"#d8576b\"], [0.6666666666666666, \"#ed7953\"], [0.7777777777777778, \"#fb9f3a\"], [0.8888888888888888, \"#fdca26\"], [1.0, \"#f0f921\"]], \"type\": \"contour\"}], \"contourcarpet\": [{\"colorbar\": {\"outlinewidth\": 0, \"ticks\": \"\"}, \"type\": \"contourcarpet\"}], \"heatmap\": [{\"colorbar\": {\"outlinewidth\": 0, \"ticks\": \"\"}, \"colorscale\": [[0.0, \"#0d0887\"], [0.1111111111111111, \"#46039f\"], [0.2222222222222222, \"#7201a8\"], [0.3333333333333333, \"#9c179e\"], [0.4444444444444444, \"#bd3786\"], [0.5555555555555556, \"#d8576b\"], [0.6666666666666666, \"#ed7953\"], [0.7777777777777778, \"#fb9f3a\"], [0.8888888888888888, \"#fdca26\"], [1.0, \"#f0f921\"]], \"type\": \"heatmap\"}], \"heatmapgl\": [{\"colorbar\": {\"outlinewidth\": 0, \"ticks\": \"\"}, \"colorscale\": [[0.0, \"#0d0887\"], [0.1111111111111111, \"#46039f\"], [0.2222222222222222, \"#7201a8\"], [0.3333333333333333, \"#9c179e\"], [0.4444444444444444, \"#bd3786\"], [0.5555555555555556, \"#d8576b\"], [0.6666666666666666, \"#ed7953\"], [0.7777777777777778, \"#fb9f3a\"], [0.8888888888888888, \"#fdca26\"], [1.0, \"#f0f921\"]], \"type\": \"heatmapgl\"}], \"histogram\": [{\"marker\": {\"colorbar\": {\"outlinewidth\": 0, \"ticks\": \"\"}}, \"type\": \"histogram\"}], \"histogram2d\": [{\"colorbar\": {\"outlinewidth\": 0, \"ticks\": \"\"}, \"colorscale\": [[0.0, \"#0d0887\"], [0.1111111111111111, \"#46039f\"], [0.2222222222222222, \"#7201a8\"], [0.3333333333333333, \"#9c179e\"], [0.4444444444444444, \"#bd3786\"], [0.5555555555555556, \"#d8576b\"], [0.6666666666666666, \"#ed7953\"], [0.7777777777777778, \"#fb9f3a\"], [0.8888888888888888, \"#fdca26\"], [1.0, \"#f0f921\"]], \"type\": \"histogram2d\"}], \"histogram2dcontour\": [{\"colorbar\": {\"outlinewidth\": 0, \"ticks\": \"\"}, \"colorscale\": [[0.0, \"#0d0887\"], [0.1111111111111111, \"#46039f\"], [0.2222222222222222, \"#7201a8\"], [0.3333333333333333, \"#9c179e\"], [0.4444444444444444, \"#bd3786\"], [0.5555555555555556, \"#d8576b\"], [0.6666666666666666, \"#ed7953\"], [0.7777777777777778, \"#fb9f3a\"], [0.8888888888888888, \"#fdca26\"], [1.0, \"#f0f921\"]], \"type\": \"histogram2dcontour\"}], \"mesh3d\": [{\"colorbar\": {\"outlinewidth\": 0, \"ticks\": \"\"}, \"type\": \"mesh3d\"}], \"parcoords\": [{\"line\": {\"colorbar\": {\"outlinewidth\": 0, \"ticks\": \"\"}}, \"type\": \"parcoords\"}], \"pie\": [{\"automargin\": true, \"type\": \"pie\"}], \"scatter\": [{\"marker\": {\"colorbar\": {\"outlinewidth\": 0, \"ticks\": \"\"}}, \"type\": \"scatter\"}], \"scatter3d\": [{\"line\": {\"colorbar\": {\"outlinewidth\": 0, \"ticks\": \"\"}}, \"marker\": {\"colorbar\": {\"outlinewidth\": 0, \"ticks\": \"\"}}, \"type\": \"scatter3d\"}], \"scattercarpet\": [{\"marker\": {\"colorbar\": {\"outlinewidth\": 0, \"ticks\": \"\"}}, \"type\": \"scattercarpet\"}], \"scattergeo\": [{\"marker\": {\"colorbar\": {\"outlinewidth\": 0, \"ticks\": \"\"}}, \"type\": \"scattergeo\"}], \"scattergl\": [{\"marker\": {\"colorbar\": {\"outlinewidth\": 0, \"ticks\": \"\"}}, \"type\": \"scattergl\"}], \"scattermapbox\": [{\"marker\": {\"colorbar\": {\"outlinewidth\": 0, \"ticks\": \"\"}}, \"type\": \"scattermapbox\"}], \"scatterpolar\": [{\"marker\": {\"colorbar\": {\"outlinewidth\": 0, \"ticks\": \"\"}}, \"type\": \"scatterpolar\"}], \"scatterpolargl\": [{\"marker\": {\"colorbar\": {\"outlinewidth\": 0, \"ticks\": \"\"}}, \"type\": \"scatterpolargl\"}], \"scatterternary\": [{\"marker\": {\"colorbar\": {\"outlinewidth\": 0, \"ticks\": \"\"}}, \"type\": \"scatterternary\"}], \"surface\": [{\"colorbar\": {\"outlinewidth\": 0, \"ticks\": \"\"}, \"colorscale\": [[0.0, \"#0d0887\"], [0.1111111111111111, \"#46039f\"], [0.2222222222222222, \"#7201a8\"], [0.3333333333333333, \"#9c179e\"], [0.4444444444444444, \"#bd3786\"], [0.5555555555555556, \"#d8576b\"], [0.6666666666666666, \"#ed7953\"], [0.7777777777777778, \"#fb9f3a\"], [0.8888888888888888, \"#fdca26\"], [1.0, \"#f0f921\"]], \"type\": \"surface\"}], \"table\": [{\"cells\": {\"fill\": {\"color\": \"#EBF0F8\"}, \"line\": {\"color\": \"white\"}}, \"header\": {\"fill\": {\"color\": \"#C8D4E3\"}, \"line\": {\"color\": \"white\"}}, \"type\": \"table\"}]}, \"layout\": {\"annotationdefaults\": {\"arrowcolor\": \"#2a3f5f\", \"arrowhead\": 0, \"arrowwidth\": 1}, \"coloraxis\": {\"colorbar\": {\"outlinewidth\": 0, \"ticks\": \"\"}}, \"colorscale\": {\"diverging\": [[0, \"#8e0152\"], [0.1, \"#c51b7d\"], [0.2, \"#de77ae\"], [0.3, \"#f1b6da\"], [0.4, \"#fde0ef\"], [0.5, \"#f7f7f7\"], [0.6, \"#e6f5d0\"], [0.7, \"#b8e186\"], [0.8, \"#7fbc41\"], [0.9, \"#4d9221\"], [1, \"#276419\"]], \"sequential\": [[0.0, \"#0d0887\"], [0.1111111111111111, \"#46039f\"], [0.2222222222222222, \"#7201a8\"], [0.3333333333333333, \"#9c179e\"], [0.4444444444444444, \"#bd3786\"], [0.5555555555555556, \"#d8576b\"], [0.6666666666666666, \"#ed7953\"], [0.7777777777777778, \"#fb9f3a\"], [0.8888888888888888, \"#fdca26\"], [1.0, \"#f0f921\"]], \"sequentialminus\": [[0.0, \"#0d0887\"], [0.1111111111111111, \"#46039f\"], [0.2222222222222222, \"#7201a8\"], [0.3333333333333333, \"#9c179e\"], [0.4444444444444444, \"#bd3786\"], [0.5555555555555556, \"#d8576b\"], [0.6666666666666666, \"#ed7953\"], [0.7777777777777778, \"#fb9f3a\"], [0.8888888888888888, \"#fdca26\"], [1.0, \"#f0f921\"]]}, \"colorway\": [\"#636efa\", \"#EF553B\", \"#00cc96\", \"#ab63fa\", \"#FFA15A\", \"#19d3f3\", \"#FF6692\", \"#B6E880\", \"#FF97FF\", \"#FECB52\"], \"font\": {\"color\": \"#2a3f5f\"}, \"geo\": {\"bgcolor\": \"white\", \"lakecolor\": \"white\", \"landcolor\": \"#E5ECF6\", \"showlakes\": true, \"showland\": true, \"subunitcolor\": \"white\"}, \"hoverlabel\": {\"align\": \"left\"}, \"hovermode\": \"closest\", \"mapbox\": {\"style\": \"light\"}, \"paper_bgcolor\": \"white\", \"plot_bgcolor\": \"#E5ECF6\", \"polar\": {\"angularaxis\": {\"gridcolor\": \"white\", \"linecolor\": \"white\", \"ticks\": \"\"}, \"bgcolor\": \"#E5ECF6\", \"radialaxis\": {\"gridcolor\": \"white\", \"linecolor\": \"white\", \"ticks\": \"\"}}, \"scene\": {\"xaxis\": {\"backgroundcolor\": \"#E5ECF6\", \"gridcolor\": \"white\", \"gridwidth\": 2, \"linecolor\": \"white\", \"showbackground\": true, \"ticks\": \"\", \"zerolinecolor\": \"white\"}, \"yaxis\": {\"backgroundcolor\": \"#E5ECF6\", \"gridcolor\": \"white\", \"gridwidth\": 2, \"linecolor\": \"white\", \"showbackground\": true, \"ticks\": \"\", \"zerolinecolor\": \"white\"}, \"zaxis\": {\"backgroundcolor\": \"#E5ECF6\", \"gridcolor\": \"white\", \"gridwidth\": 2, \"linecolor\": \"white\", \"showbackground\": true, \"ticks\": \"\", \"zerolinecolor\": \"white\"}}, \"shapedefaults\": {\"line\": {\"color\": \"#2a3f5f\"}}, \"ternary\": {\"aaxis\": {\"gridcolor\": \"white\", \"linecolor\": \"white\", \"ticks\": \"\"}, \"baxis\": {\"gridcolor\": \"white\", \"linecolor\": \"white\", \"ticks\": \"\"}, \"bgcolor\": \"#E5ECF6\", \"caxis\": {\"gridcolor\": \"white\", \"linecolor\": \"white\", \"ticks\": \"\"}}, \"title\": {\"x\": 0.05}, \"xaxis\": {\"automargin\": true, \"gridcolor\": \"white\", \"linecolor\": \"white\", \"ticks\": \"\", \"title\": {\"standoff\": 15}, \"zerolinecolor\": \"white\", \"zerolinewidth\": 2}, \"yaxis\": {\"automargin\": true, \"gridcolor\": \"white\", \"linecolor\": \"white\", \"ticks\": \"\", \"title\": {\"standoff\": 15}, \"zerolinecolor\": \"white\", \"zerolinewidth\": 2}}}, \"width\": 700},\n",
       "                        {\"responsive\": true}\n",
       "                    ).then(function(){\n",
       "                            \n",
       "var gd = document.getElementById('f5120c16-f49d-45ec-b7c1-4102d88a7c1c');\n",
       "var x = new MutationObserver(function (mutations, observer) {{\n",
       "        var display = window.getComputedStyle(gd).display;\n",
       "        if (!display || display === 'none') {{\n",
       "            console.log([gd, 'removed!']);\n",
       "            Plotly.purge(gd);\n",
       "            observer.disconnect();\n",
       "        }}\n",
       "}});\n",
       "\n",
       "// Listen for the removal of the full notebook cells\n",
       "var notebookContainer = gd.closest('#notebook-container');\n",
       "if (notebookContainer) {{\n",
       "    x.observe(notebookContainer, {childList: true});\n",
       "}}\n",
       "\n",
       "// Listen for the clearing of the current output cell\n",
       "var outputEl = gd.closest('.output');\n",
       "if (outputEl) {{\n",
       "    x.observe(outputEl, {childList: true});\n",
       "}}\n",
       "\n",
       "                        })\n",
       "                };\n",
       "                });\n",
       "            </script>\n",
       "        </div>"
      ]
     },
     "metadata": {},
     "output_type": "display_data"
    }
   ],
   "source": [
    "build_graphBA3(\"ExpectedValue\",\"None\",\"Branch\",\"None\",\"None\",\"None\",\"None\",\"None\",\"None\")"
   ]
  },
  {
   "cell_type": "code",
   "execution_count": 212,
   "metadata": {},
   "outputs": [
    {
     "data": {
      "text/plain": [
       "Index(['Div', 'Branch', 'OAM', 'LeadType', 'LeadSpecifics', 'Customer', 'Type',\n",
       "       'New', 'City, St', 'ProjectOpportunity', 'KeyVendor',\n",
       "       'TechnologiesServices Proposed', 'PotentialValue', 'ProbPercent',\n",
       "       'ExpectedValue', 'ExpectedValueStage', 'CustomerCompelingEvent',\n",
       "       'Stage', 'ProbPercentStage', 'ProbPercentDiff', 'YourNextBIGStep',\n",
       "       'Notes', 'UpdateDate', 'UD_delta', 'ExpectedOrderDate', 'EOD_delta',\n",
       "       'ExpectedOrderDateM', 'ExpectedOrderDateW'],\n",
       "      dtype='object')"
      ]
     },
     "execution_count": 212,
     "metadata": {},
     "output_type": "execute_result"
    }
   ],
   "source": [
    "df_num.columns"
   ]
  },
  {
   "cell_type": "code",
   "execution_count": null,
   "metadata": {},
   "outputs": [],
   "source": [
    "'New','Branch','LeadType','Stage','Type'"
   ]
  },
  {
   "cell_type": "code",
   "execution_count": null,
   "metadata": {},
   "outputs": [],
   "source": [
    "X, Y, Z = np.mgrid[:l, :l, :l]"
   ]
  },
  {
   "cell_type": "code",
   "execution_count": null,
   "metadata": {},
   "outputs": [],
   "source": [
    "pts = (l * np.random.rand(3, 15)).astype(np.int)\n",
    "pts"
   ]
  },
  {
   "cell_type": "code",
   "execution_count": null,
   "metadata": {},
   "outputs": [],
   "source": [
    "print(\"Y 30 x 30 x 30\")\n",
    "print(Y)\n",
    "print(\"vol\")\n",
    "print(vol)\n",
    "print(\"pts\")\n",
    "print(pts)"
   ]
  },
  {
   "cell_type": "code",
   "execution_count": null,
   "metadata": {},
   "outputs": [],
   "source": [
    "for indices in pts:\n",
    "    print(indices)\n",
    "    print(\"d\")"
   ]
  },
  {
   "cell_type": "code",
   "execution_count": null,
   "metadata": {},
   "outputs": [],
   "source": [
    "len(Y.flatten())"
   ]
  },
  {
   "cell_type": "code",
   "execution_count": null,
   "metadata": {},
   "outputs": [],
   "source": [
    "pts"
   ]
  },
  {
   "cell_type": "code",
   "execution_count": null,
   "metadata": {},
   "outputs": [],
   "source": [
    "df_num[\"PotentialValue\"]"
   ]
  },
  {
   "cell_type": "code",
   "execution_count": null,
   "metadata": {},
   "outputs": [],
   "source": [
    "ptstest = np.array([[29,29,29,29,0,20,20],[0,0,20,0,0,4,16],[21,0,0,0,5,10,26]])"
   ]
  },
  {
   "cell_type": "code",
   "execution_count": null,
   "metadata": {},
   "outputs": [],
   "source": [
    "import numpy as np\n",
    "import plotly.graph_objects as go\n",
    "\n",
    "# Generate nicely looking random 3D-field\n",
    "np.random.seed(0)\n",
    "l = 50\n",
    "ll = 50\n",
    "X, Y,  = np.mgrid[:l, :l, ]\n",
    "Z = np.mgrid[:ll,:ll,:ll]\n",
    "vol = np.zeros((l, l, l))\n",
    "pts = (l * np.random.rand(3, 15)).astype(np.int)\n",
    "vol[tuple(indices for indices in ptstest)] = 1\n",
    "from scipy import ndimage\n",
    "vol = ndimage.gaussian_filter(vol, 2)\n",
    "vol /= vol.max()\n",
    "\n",
    "fig = go.Figure(data=go.Volume(\n",
    "    x=X.flatten(), y=Y.flatten(), z=Z.flatten(),\n",
    "    value=vol.flatten(),\n",
    "    isomin=0.2,\n",
    "    isomax=0.7,\n",
    "    opacity=0.1,\n",
    "    surface_count=30,\n",
    "    ))\n",
    "fig.update_layout(scene_xaxis_showticklabels=True,\n",
    "                  scene_yaxis_showticklabels=True,\n",
    "                  scene_zaxis_showticklabels=True)\n",
    "fig.show()"
   ]
  },
  {
   "cell_type": "code",
   "execution_count": null,
   "metadata": {},
   "outputs": [],
   "source": []
  },
  {
   "cell_type": "markdown",
   "metadata": {},
   "source": [
    "# right bottom end"
   ]
  },
  {
   "cell_type": "code",
   "execution_count": null,
   "metadata": {},
   "outputs": [],
   "source": [
    "#customizing hover layer\n",
    "import plotly.express as px\n",
    "\n",
    "df = px.data.gapminder().query(\"continent=='Oceania'\")\n",
    "\n",
    "fig = px.line(df, x=\"year\", y=\"lifeExp\", color=\"country\", title=\"Custom layout.hoverlabel formatting\")\n",
    "fig.update_traces(mode=\"markers+lines\")\n",
    "\n",
    "fig.update_layout(\n",
    "    hoverlabel=dict(\n",
    "        bgcolor=\"white\", \n",
    "        font_size=16, \n",
    "        font_family=\"Rockwell\"\n",
    "    )\n",
    ")\n",
    "\n",
    "fig.show()"
   ]
  },
  {
   "cell_type": "code",
   "execution_count": null,
   "metadata": {},
   "outputs": [],
   "source": []
  },
  {
   "cell_type": "code",
   "execution_count": null,
   "metadata": {},
   "outputs": [],
   "source": [
    "#spike lines\n",
    "import plotly.express as px\n",
    "\n",
    "df = px.data.gapminder().query(\"continent=='Oceania'\")\n",
    "\n",
    "fig = px.line(df, x=\"year\", y=\"lifeExp\", color=\"country\", title=\"Spike lines active\",custom_data=['country'])\n",
    "fig.update_traces(mode=\"markers+lines\")\n",
    "\n",
    "fig.update_xaxes(showspikes=True)\n",
    "fig.update_yaxes(showspikes=True)\n",
    "\n",
    "fig.show()\n",
    "print(fig)"
   ]
  },
  {
   "cell_type": "code",
   "execution_count": null,
   "metadata": {},
   "outputs": [],
   "source": [
    "import plotly.graph_objects as go\n",
    "from plotly.subplots import make_subplots\n",
    "\n",
    "import pandas as pd\n"
   ]
  },
  {
   "cell_type": "code",
   "execution_count": null,
   "metadata": {},
   "outputs": [],
   "source": [
    "def buildBA2(group, numerical,):# selectedData):\n",
    "    dff = df_num.iloc[[34,4,64,54,200,196,48]]\n",
    "    if numerical == \"Count\":\n",
    "        fig = px.pie(dff, values=[1]*len(dff), names=group,\n",
    "                    title='Proportion',\n",
    "                )#hover_data=['PotentialValue'], labels={'lifeExp':'life expectancy'})\n",
    "    elif numerical == \"Sum\":\n",
    "        fig = px.pie(dff, values='PotentialValue', names=group,\n",
    "                        title='Proportion',\n",
    "                    )#hover_data=['PotentialValue'], labels={'lifeExp':'life expectancy'})\n",
    "    fig.update_traces(textposition='inside', textinfo='percent+label')\n",
    "    \n",
    "    fig.show()\n",
    "buildBA2(\"Customer\", \"Sum\")"
   ]
  },
  {
   "cell_type": "code",
   "execution_count": null,
   "metadata": {},
   "outputs": [],
   "source": [
    "def build_graphBA2(group, numerical,):# selectedData):\n",
    "    dff = df_num.iloc[[34,4,64,54,200,196,48]]\n",
    "    if numerical == \"Count\":\n",
    "        fig = px.pie(dff, values=[1]*len(dff), names=group,\n",
    "                    title='Proportion',\n",
    "                )#hover_data=['PotentialValue'], labels={'lifeExp':'life expectancy'})\n",
    "    elif numerical == \"Sum\":\n",
    "        fig = px.pie(dff, values='PotentialValue', names=group,\n",
    "                        title='Proportion',\n",
    "                    )#hover_data=['PotentialValue'], labels={'lifeExp':'life expectancy'})\n",
    "    fig.update_traces(textposition='inside', textinfo='percent+label')\n",
    "    \n",
    "    fig.show()\n",
    "build_graphBA2(\"KeyVendor\",\"Sum\")"
   ]
  },
  {
   "cell_type": "code",
   "execution_count": 173,
   "metadata": {},
   "outputs": [
    {
     "ename": "SyntaxError",
     "evalue": "invalid syntax (<ipython-input-173-cf2c0b31c79d>, line 2)",
     "output_type": "error",
     "traceback": [
      "\u001b[1;36m  File \u001b[1;32m\"<ipython-input-173-cf2c0b31c79d>\"\u001b[1;36m, line \u001b[1;32m2\u001b[0m\n\u001b[1;33m    if len(dimensions)\u001b[0m\n\u001b[1;37m                       ^\u001b[0m\n\u001b[1;31mSyntaxError\u001b[0m\u001b[1;31m:\u001b[0m invalid syntax\n"
     ]
    }
   ],
   "source": [
    "def build_graphBA2(dimensions):\n",
    "    if len(dimensions) \n",
    "\n",
    "    # Initialize figure with subplots\n",
    "    fig = make_subplots(\n",
    "        rows=4, cols=2,\n",
    "        column_widths=[0.6, 0.4],\n",
    "        row_heights=[0.4, 0.6],\n",
    "        specs=[[{\"type\": \"scattergeo\", \"rowspan\": 2}, {\"type\": \"bar\"}],\n",
    "               [            None                    , {\"type\": \"surface\"}]])\n",
    "\n",
    "    # Add scattergeo globe map of volcano locations\n",
    "    fig.add_trace(\n",
    "        go.Scattergeo(lat=df[\"Latitude\"],\n",
    "                      lon=df[\"Longitude\"],\n",
    "                      mode=\"markers\",\n",
    "                      hoverinfo=\"text\",\n",
    "                      showlegend=False,\n",
    "                      marker=dict(color=\"crimson\", size=4, opacity=0.8)),\n",
    "        row=1, col=1\n",
    "    )\n",
    "\n",
    "    # Add locations bar chart\n",
    "    fig.add_trace(\n",
    "        go.Bar(x=freq[\"x\"][0:10],y=freq[\"Country\"][0:10], marker=dict(color=\"crimson\"), showlegend=False),\n",
    "        row=1, col=2\n",
    "    )\n",
    "\n",
    "    # Add 3d surface of volcano\n",
    "    fig.add_trace(\n",
    "        go.Surface(z=df_v.values.tolist(), showscale=False),\n",
    "        row=2, col=2\n",
    "    )\n",
    "\n",
    "    # Update geo subplot properties\n",
    "    fig.update_geos(\n",
    "        projection_type=\"orthographic\",\n",
    "        landcolor=\"white\",\n",
    "        oceancolor=\"MidnightBlue\",\n",
    "        showocean=True,\n",
    "        lakecolor=\"LightBlue\"\n",
    "    )\n",
    "\n",
    "    # Rotate x-axis labels\n",
    "    fig.update_xaxes(tickangle=45)\n",
    "\n",
    "    # Set theme, margin, and annotation in layout\n",
    "    fig.update_layout(\n",
    "        template=\"plotly_dark\",\n",
    "        margin=dict(r=10, t=25, b=40, l=60),\n",
    "        annotations=[\n",
    "            dict(\n",
    "                text=\"Source: NOAA\",\n",
    "                showarrow=False,\n",
    "                xref=\"paper\",\n",
    "                yref=\"paper\",\n",
    "                x=0,\n",
    "                y=0)\n",
    "        ]\n",
    "    )\n",
    "\n",
    "    fig.show()"
   ]
  },
  {
   "cell_type": "code",
   "execution_count": 116,
   "metadata": {},
   "outputs": [
    {
     "data": {
      "application/vnd.plotly.v1+json": {
       "config": {
        "plotlyServerURL": "https://plot.ly"
       },
       "data": [
        {
         "hoverlabel": {
          "namelength": 0
         },
         "hovertemplate": "ProbPercent=%{marker.color}<br>EOD_delta=%{y}<br>PotentialValue=%{z}",
         "legendgroup": "",
         "marker": {
          "color": [
           0.75,
           0.75,
           0.6,
           0.25,
           0.75,
           0.9,
           0.75,
           0.75,
           1,
           0.75,
           0.8,
           0.5,
           0.75,
           0.25,
           0.75,
           0.75,
           0.99,
           0.5,
           1,
           1,
           0.5,
           0.5,
           0.5,
           0.25,
           0.5,
           0.99,
           0.5,
           0.9,
           0.3,
           0.5,
           0.5,
           1,
           0.9,
           0.1,
           0.1,
           0.5,
           0.3,
           0.1,
           0.1,
           0.5,
           0.9,
           0.5,
           0.9,
           0.5,
           0.1,
           0.1,
           0.3,
           0.8,
           0.9,
           0.4,
           0.3,
           0.15,
           0.3,
           0.5,
           0.2,
           0.4,
           0.3,
           0.75,
           0.5,
           0.5,
           0.5,
           1,
           0.6,
           0.5,
           0.75,
           0.5,
           0.2,
           0.9,
           0.2,
           0.5,
           0.5,
           0.5,
           0.4,
           0.5,
           0.8,
           0.65,
           0.9,
           0.7,
           1,
           0.75,
           0.8,
           0.7,
           0.75,
           0.5,
           0.65,
           0.8,
           0.75,
           0.6,
           0.8,
           0.2,
           0.9,
           0.6,
           1,
           0.5,
           0.5,
           0.5,
           0.5,
           0.5,
           0.5,
           0.75,
           0.95,
           0.8,
           0.5,
           0.75,
           0.5,
           0.5,
           0.5,
           0.5,
           0.5,
           0.75,
           0.75,
           0.25,
           0.5,
           0.75,
           0.75,
           0.75,
           0.99,
           0.8,
           0.5,
           0.75,
           0.99,
           0.99,
           0.99,
           0.75,
           0.75,
           0.75,
           0.75,
           0.75,
           0.25,
           0.75,
           0.5,
           0.5,
           0.75,
           0.5,
           0.75,
           0.75,
           0.85,
           0.95,
           0.75,
           0.5,
           1,
           1,
           0.75,
           0.75,
           0.5,
           0.75,
           0.75,
           0.5,
           0.5,
           1,
           0.5,
           0.75,
           0.5,
           0.6,
           0.5,
           0.5,
           0.99,
           1,
           0.75,
           0.6,
           1,
           1,
           0.99,
           0.1,
           0.1,
           0.1,
           0.1,
           0.1,
           0.1,
           0.1,
           0.1,
           0.25,
           0.25,
           0.25,
           0.25,
           0.25,
           0.25,
           0.5,
           0.5,
           0.5,
           0.75,
           0.75,
           0.75,
           0.75,
           0.75,
           0.9,
           0.9,
           0.9,
           0.9,
           0.9,
           0.9,
           0.9,
           0.9,
           0.9,
           0.2,
           0.6,
           0.1,
           0.2,
           0.3,
           0.3,
           0.2,
           0.9,
           0.4,
           0.3,
           0.4,
           0.5,
           0.2,
           0.4,
           0.3,
           0.8,
           0.4,
           0.9,
           0.9,
           0.6,
           0.5,
           0.6,
           0.8,
           0.75,
           0.6,
           0.6,
           1,
           0.8,
           1,
           1,
           0.8,
           0.5,
           0.2,
           0.5,
           0.5
          ],
          "coloraxis": "coloraxis",
          "opacity": 0.6,
          "symbol": "circle"
         },
         "mode": "markers",
         "name": "",
         "scene": "scene",
         "showlegend": false,
         "type": "scatter3d",
         "x": [
          0.75,
          0.75,
          0.6,
          0.25,
          0.75,
          0.9,
          0.75,
          0.75,
          1,
          0.75,
          0.8,
          0.5,
          0.75,
          0.25,
          0.75,
          0.75,
          0.99,
          0.5,
          1,
          1,
          0.5,
          0.5,
          0.5,
          0.25,
          0.5,
          0.99,
          0.5,
          0.9,
          0.3,
          0.5,
          0.5,
          1,
          0.9,
          0.1,
          0.1,
          0.5,
          0.3,
          0.1,
          0.1,
          0.5,
          0.9,
          0.5,
          0.9,
          0.5,
          0.1,
          0.1,
          0.3,
          0.8,
          0.9,
          0.4,
          0.3,
          0.15,
          0.3,
          0.5,
          0.2,
          0.4,
          0.3,
          0.75,
          0.5,
          0.5,
          0.5,
          1,
          0.6,
          0.5,
          0.75,
          0.5,
          0.2,
          0.9,
          0.2,
          0.5,
          0.5,
          0.5,
          0.4,
          0.5,
          0.8,
          0.65,
          0.9,
          0.7,
          1,
          0.75,
          0.8,
          0.7,
          0.75,
          0.5,
          0.65,
          0.8,
          0.75,
          0.6,
          0.8,
          0.2,
          0.9,
          0.6,
          1,
          0.5,
          0.5,
          0.5,
          0.5,
          0.5,
          0.5,
          0.75,
          0.95,
          0.8,
          0.5,
          0.75,
          0.5,
          0.5,
          0.5,
          0.5,
          0.5,
          0.75,
          0.75,
          0.25,
          0.5,
          0.75,
          0.75,
          0.75,
          0.99,
          0.8,
          0.5,
          0.75,
          0.99,
          0.99,
          0.99,
          0.75,
          0.75,
          0.75,
          0.75,
          0.75,
          0.25,
          0.75,
          0.5,
          0.5,
          0.75,
          0.5,
          0.75,
          0.75,
          0.85,
          0.95,
          0.75,
          0.5,
          1,
          1,
          0.75,
          0.75,
          0.5,
          0.75,
          0.75,
          0.5,
          0.5,
          1,
          0.5,
          0.75,
          0.5,
          0.6,
          0.5,
          0.5,
          0.99,
          1,
          0.75,
          0.6,
          1,
          1,
          0.99,
          0.1,
          0.1,
          0.1,
          0.1,
          0.1,
          0.1,
          0.1,
          0.1,
          0.25,
          0.25,
          0.25,
          0.25,
          0.25,
          0.25,
          0.5,
          0.5,
          0.5,
          0.75,
          0.75,
          0.75,
          0.75,
          0.75,
          0.9,
          0.9,
          0.9,
          0.9,
          0.9,
          0.9,
          0.9,
          0.9,
          0.9,
          0.2,
          0.6,
          0.1,
          0.2,
          0.3,
          0.3,
          0.2,
          0.9,
          0.4,
          0.3,
          0.4,
          0.5,
          0.2,
          0.4,
          0.3,
          0.8,
          0.4,
          0.9,
          0.9,
          0.6,
          0.5,
          0.6,
          0.8,
          0.75,
          0.6,
          0.6,
          1,
          0.8,
          1,
          1,
          0.8,
          0.5,
          0.2,
          0.5,
          0.5
         ],
         "y": [
          32,
          15,
          0,
          107,
          63,
          -29,
          63,
          15,
          -41,
          1,
          1,
          -15,
          -15,
          -26,
          -20,
          -27,
          -15,
          -32,
          -150,
          -76,
          97,
          107,
          107,
          null,
          97,
          -15,
          93,
          63,
          154,
          -29,
          1,
          -42,
          1,
          185,
          185,
          93,
          -29,
          32,
          1,
          1,
          -29,
          32,
          -29,
          32,
          32,
          93,
          63,
          -29,
          -29,
          1,
          1,
          1,
          -30,
          -30,
          31,
          31,
          0,
          -30,
          -15,
          0,
          -15,
          -46,
          0,
          0,
          -46,
          0,
          -8,
          0,
          0,
          -30,
          -30,
          0,
          30,
          113,
          null,
          null,
          -33,
          -10,
          -30,
          -33,
          -47,
          184,
          31,
          -27,
          null,
          null,
          8,
          -15,
          -20,
          51,
          -15,
          -15,
          -41,
          1,
          32,
          32,
          32,
          1,
          32,
          -46,
          -46,
          -36,
          124,
          93,
          32,
          -29,
          1,
          93,
          -1826,
          1,
          -25,
          1,
          1,
          0,
          0,
          92,
          15,
          0,
          0,
          0,
          -25,
          -25,
          1,
          15,
          93,
          46,
          46,
          0,
          77,
          0,
          15,
          32,
          15,
          1,
          1,
          93,
          15,
          -15,
          15,
          30,
          -15,
          -32,
          15,
          15,
          138,
          1,
          214,
          -29,
          -15,
          -32,
          -29,
          -29,
          -15,
          31,
          0,
          null,
          -30,
          null,
          null,
          null,
          null,
          null,
          null,
          154,
          154,
          154,
          154,
          154,
          154,
          154,
          154,
          154,
          154,
          32,
          32,
          32,
          32,
          63,
          63,
          32,
          32,
          32,
          32,
          32,
          1,
          -29,
          154,
          1,
          -41,
          -60,
          32,
          32,
          -29,
          -29,
          123,
          null,
          123,
          123,
          123,
          null,
          null,
          null,
          31,
          null,
          123,
          123,
          123,
          123,
          31,
          0,
          null,
          0,
          -30,
          0,
          -15,
          31,
          null,
          null,
          31,
          0,
          null,
          31,
          -20,
          -20,
          0,
          123,
          123,
          123,
          123
         ],
         "z": [
          7753,
          45000,
          84867,
          10000,
          55000,
          27500,
          333404,
          18000,
          11040,
          44226,
          23000,
          21000,
          14840,
          125000,
          250000,
          20000,
          5000000,
          12000,
          80000,
          7000,
          80000,
          25000,
          250000,
          10000,
          80000,
          150000,
          75000,
          65000,
          110000,
          10000,
          20000,
          7500,
          50000,
          100000,
          75000,
          50000,
          50000,
          60000,
          10000,
          20000,
          75000,
          250000,
          100000,
          100000,
          10000,
          50000,
          250000,
          2000,
          10000,
          60000,
          10000,
          75000,
          12000,
          100000,
          100000,
          20000,
          25000,
          15000,
          70000,
          13000,
          45000,
          24000,
          10000,
          37000,
          50000,
          120000,
          20000,
          25000,
          360000,
          75000,
          10000,
          85000,
          300000,
          30000,
          3000000,
          100000,
          20000,
          35000,
          30000,
          125000,
          100000,
          1500000,
          50000,
          50000,
          20000,
          65000,
          65000,
          20000,
          60000,
          35000,
          15000,
          40000,
          7500,
          70000,
          20000,
          8000,
          8000,
          500000,
          10000,
          21000,
          10000,
          10000,
          300000,
          200000,
          75000,
          50000,
          120000,
          50000,
          45000,
          20000,
          50000,
          15000,
          60000,
          30000,
          150000,
          100000,
          20000,
          40000,
          50000,
          71000,
          133000,
          133000,
          560000,
          200000,
          50000,
          150000,
          120000,
          100000,
          50000,
          150000,
          200000,
          50000,
          100000,
          20000,
          150000,
          225000,
          57000,
          200000,
          53000,
          24700,
          250000,
          45000,
          40000,
          50000,
          500000,
          60000,
          125000,
          35000,
          28000,
          25000,
          20000,
          32000,
          25000,
          396350,
          269355,
          250000,
          30000,
          16000,
          25000,
          22000,
          65000,
          16373,
          400000,
          80000,
          100000,
          60000,
          50000,
          500000,
          150000,
          150000,
          100000,
          500000,
          500000,
          80000,
          350000,
          65000,
          16000,
          100000,
          250000,
          40000,
          80000,
          10000,
          10000,
          5000,
          50000,
          100000,
          100000,
          100000,
          10000,
          80000,
          25000,
          20000,
          1200000,
          90000,
          30000,
          40000,
          40000,
          500000,
          100000,
          150000,
          50000,
          30000,
          30000,
          100000,
          200000,
          150000,
          150000,
          200000,
          90000,
          47035,
          20000,
          10000,
          133694,
          16290,
          10000,
          66583,
          245790,
          400000,
          20000,
          10000,
          15000,
          50000,
          130000,
          94000,
          15000,
          20000,
          60000,
          100000,
          30000
         ]
        }
       ],
       "layout": {
        "coloraxis": {
         "colorbar": {
          "title": {
           "text": "ProbPercent"
          }
         },
         "colorscale": [
          [
           0,
           "#0d0887"
          ],
          [
           0.1111111111111111,
           "#46039f"
          ],
          [
           0.2222222222222222,
           "#7201a8"
          ],
          [
           0.3333333333333333,
           "#9c179e"
          ],
          [
           0.4444444444444444,
           "#bd3786"
          ],
          [
           0.5555555555555556,
           "#d8576b"
          ],
          [
           0.6666666666666666,
           "#ed7953"
          ],
          [
           0.7777777777777778,
           "#fb9f3a"
          ],
          [
           0.8888888888888888,
           "#fdca26"
          ],
          [
           1,
           "#f0f921"
          ]
         ]
        },
        "legend": {
         "tracegroupgap": 0
        },
        "margin": {
         "b": 10,
         "l": 10,
         "r": 10,
         "t": 10
        },
        "scene": {
         "domain": {
          "x": [
           0,
           1
          ],
          "y": [
           0,
           1
          ]
         },
         "xaxis": {
          "backgroundcolor": "rgb(200, 200, 230)",
          "gridcolor": "white",
          "showbackground": true,
          "title": {
           "text": "ProbPercent"
          },
          "zerolinecolor": "white"
         },
         "yaxis": {
          "backgroundcolor": "rgb(230, 200,230)",
          "gridcolor": "white",
          "showbackground": true,
          "title": {
           "text": "EOD_delta"
          },
          "zerolinecolor": "white"
         },
         "zaxis": {
          "backgroundcolor": "rgb(230, 230,200)",
          "gridcolor": "white",
          "showbackground": true,
          "title": {
           "text": "PotentialValue"
          },
          "zerolinecolor": "white"
         }
        },
        "template": {
         "data": {
          "bar": [
           {
            "error_x": {
             "color": "#2a3f5f"
            },
            "error_y": {
             "color": "#2a3f5f"
            },
            "marker": {
             "line": {
              "color": "#E5ECF6",
              "width": 0.5
             }
            },
            "type": "bar"
           }
          ],
          "barpolar": [
           {
            "marker": {
             "line": {
              "color": "#E5ECF6",
              "width": 0.5
             }
            },
            "type": "barpolar"
           }
          ],
          "carpet": [
           {
            "aaxis": {
             "endlinecolor": "#2a3f5f",
             "gridcolor": "white",
             "linecolor": "white",
             "minorgridcolor": "white",
             "startlinecolor": "#2a3f5f"
            },
            "baxis": {
             "endlinecolor": "#2a3f5f",
             "gridcolor": "white",
             "linecolor": "white",
             "minorgridcolor": "white",
             "startlinecolor": "#2a3f5f"
            },
            "type": "carpet"
           }
          ],
          "choropleth": [
           {
            "colorbar": {
             "outlinewidth": 0,
             "ticks": ""
            },
            "type": "choropleth"
           }
          ],
          "contour": [
           {
            "colorbar": {
             "outlinewidth": 0,
             "ticks": ""
            },
            "colorscale": [
             [
              0,
              "#0d0887"
             ],
             [
              0.1111111111111111,
              "#46039f"
             ],
             [
              0.2222222222222222,
              "#7201a8"
             ],
             [
              0.3333333333333333,
              "#9c179e"
             ],
             [
              0.4444444444444444,
              "#bd3786"
             ],
             [
              0.5555555555555556,
              "#d8576b"
             ],
             [
              0.6666666666666666,
              "#ed7953"
             ],
             [
              0.7777777777777778,
              "#fb9f3a"
             ],
             [
              0.8888888888888888,
              "#fdca26"
             ],
             [
              1,
              "#f0f921"
             ]
            ],
            "type": "contour"
           }
          ],
          "contourcarpet": [
           {
            "colorbar": {
             "outlinewidth": 0,
             "ticks": ""
            },
            "type": "contourcarpet"
           }
          ],
          "heatmap": [
           {
            "colorbar": {
             "outlinewidth": 0,
             "ticks": ""
            },
            "colorscale": [
             [
              0,
              "#0d0887"
             ],
             [
              0.1111111111111111,
              "#46039f"
             ],
             [
              0.2222222222222222,
              "#7201a8"
             ],
             [
              0.3333333333333333,
              "#9c179e"
             ],
             [
              0.4444444444444444,
              "#bd3786"
             ],
             [
              0.5555555555555556,
              "#d8576b"
             ],
             [
              0.6666666666666666,
              "#ed7953"
             ],
             [
              0.7777777777777778,
              "#fb9f3a"
             ],
             [
              0.8888888888888888,
              "#fdca26"
             ],
             [
              1,
              "#f0f921"
             ]
            ],
            "type": "heatmap"
           }
          ],
          "heatmapgl": [
           {
            "colorbar": {
             "outlinewidth": 0,
             "ticks": ""
            },
            "colorscale": [
             [
              0,
              "#0d0887"
             ],
             [
              0.1111111111111111,
              "#46039f"
             ],
             [
              0.2222222222222222,
              "#7201a8"
             ],
             [
              0.3333333333333333,
              "#9c179e"
             ],
             [
              0.4444444444444444,
              "#bd3786"
             ],
             [
              0.5555555555555556,
              "#d8576b"
             ],
             [
              0.6666666666666666,
              "#ed7953"
             ],
             [
              0.7777777777777778,
              "#fb9f3a"
             ],
             [
              0.8888888888888888,
              "#fdca26"
             ],
             [
              1,
              "#f0f921"
             ]
            ],
            "type": "heatmapgl"
           }
          ],
          "histogram": [
           {
            "marker": {
             "colorbar": {
              "outlinewidth": 0,
              "ticks": ""
             }
            },
            "type": "histogram"
           }
          ],
          "histogram2d": [
           {
            "colorbar": {
             "outlinewidth": 0,
             "ticks": ""
            },
            "colorscale": [
             [
              0,
              "#0d0887"
             ],
             [
              0.1111111111111111,
              "#46039f"
             ],
             [
              0.2222222222222222,
              "#7201a8"
             ],
             [
              0.3333333333333333,
              "#9c179e"
             ],
             [
              0.4444444444444444,
              "#bd3786"
             ],
             [
              0.5555555555555556,
              "#d8576b"
             ],
             [
              0.6666666666666666,
              "#ed7953"
             ],
             [
              0.7777777777777778,
              "#fb9f3a"
             ],
             [
              0.8888888888888888,
              "#fdca26"
             ],
             [
              1,
              "#f0f921"
             ]
            ],
            "type": "histogram2d"
           }
          ],
          "histogram2dcontour": [
           {
            "colorbar": {
             "outlinewidth": 0,
             "ticks": ""
            },
            "colorscale": [
             [
              0,
              "#0d0887"
             ],
             [
              0.1111111111111111,
              "#46039f"
             ],
             [
              0.2222222222222222,
              "#7201a8"
             ],
             [
              0.3333333333333333,
              "#9c179e"
             ],
             [
              0.4444444444444444,
              "#bd3786"
             ],
             [
              0.5555555555555556,
              "#d8576b"
             ],
             [
              0.6666666666666666,
              "#ed7953"
             ],
             [
              0.7777777777777778,
              "#fb9f3a"
             ],
             [
              0.8888888888888888,
              "#fdca26"
             ],
             [
              1,
              "#f0f921"
             ]
            ],
            "type": "histogram2dcontour"
           }
          ],
          "mesh3d": [
           {
            "colorbar": {
             "outlinewidth": 0,
             "ticks": ""
            },
            "type": "mesh3d"
           }
          ],
          "parcoords": [
           {
            "line": {
             "colorbar": {
              "outlinewidth": 0,
              "ticks": ""
             }
            },
            "type": "parcoords"
           }
          ],
          "pie": [
           {
            "automargin": true,
            "type": "pie"
           }
          ],
          "scatter": [
           {
            "marker": {
             "colorbar": {
              "outlinewidth": 0,
              "ticks": ""
             }
            },
            "type": "scatter"
           }
          ],
          "scatter3d": [
           {
            "line": {
             "colorbar": {
              "outlinewidth": 0,
              "ticks": ""
             }
            },
            "marker": {
             "colorbar": {
              "outlinewidth": 0,
              "ticks": ""
             }
            },
            "type": "scatter3d"
           }
          ],
          "scattercarpet": [
           {
            "marker": {
             "colorbar": {
              "outlinewidth": 0,
              "ticks": ""
             }
            },
            "type": "scattercarpet"
           }
          ],
          "scattergeo": [
           {
            "marker": {
             "colorbar": {
              "outlinewidth": 0,
              "ticks": ""
             }
            },
            "type": "scattergeo"
           }
          ],
          "scattergl": [
           {
            "marker": {
             "colorbar": {
              "outlinewidth": 0,
              "ticks": ""
             }
            },
            "type": "scattergl"
           }
          ],
          "scattermapbox": [
           {
            "marker": {
             "colorbar": {
              "outlinewidth": 0,
              "ticks": ""
             }
            },
            "type": "scattermapbox"
           }
          ],
          "scatterpolar": [
           {
            "marker": {
             "colorbar": {
              "outlinewidth": 0,
              "ticks": ""
             }
            },
            "type": "scatterpolar"
           }
          ],
          "scatterpolargl": [
           {
            "marker": {
             "colorbar": {
              "outlinewidth": 0,
              "ticks": ""
             }
            },
            "type": "scatterpolargl"
           }
          ],
          "scatterternary": [
           {
            "marker": {
             "colorbar": {
              "outlinewidth": 0,
              "ticks": ""
             }
            },
            "type": "scatterternary"
           }
          ],
          "surface": [
           {
            "colorbar": {
             "outlinewidth": 0,
             "ticks": ""
            },
            "colorscale": [
             [
              0,
              "#0d0887"
             ],
             [
              0.1111111111111111,
              "#46039f"
             ],
             [
              0.2222222222222222,
              "#7201a8"
             ],
             [
              0.3333333333333333,
              "#9c179e"
             ],
             [
              0.4444444444444444,
              "#bd3786"
             ],
             [
              0.5555555555555556,
              "#d8576b"
             ],
             [
              0.6666666666666666,
              "#ed7953"
             ],
             [
              0.7777777777777778,
              "#fb9f3a"
             ],
             [
              0.8888888888888888,
              "#fdca26"
             ],
             [
              1,
              "#f0f921"
             ]
            ],
            "type": "surface"
           }
          ],
          "table": [
           {
            "cells": {
             "fill": {
              "color": "#EBF0F8"
             },
             "line": {
              "color": "white"
             }
            },
            "header": {
             "fill": {
              "color": "#C8D4E3"
             },
             "line": {
              "color": "white"
             }
            },
            "type": "table"
           }
          ]
         },
         "layout": {
          "annotationdefaults": {
           "arrowcolor": "#2a3f5f",
           "arrowhead": 0,
           "arrowwidth": 1
          },
          "coloraxis": {
           "colorbar": {
            "outlinewidth": 0,
            "ticks": ""
           }
          },
          "colorscale": {
           "diverging": [
            [
             0,
             "#8e0152"
            ],
            [
             0.1,
             "#c51b7d"
            ],
            [
             0.2,
             "#de77ae"
            ],
            [
             0.3,
             "#f1b6da"
            ],
            [
             0.4,
             "#fde0ef"
            ],
            [
             0.5,
             "#f7f7f7"
            ],
            [
             0.6,
             "#e6f5d0"
            ],
            [
             0.7,
             "#b8e186"
            ],
            [
             0.8,
             "#7fbc41"
            ],
            [
             0.9,
             "#4d9221"
            ],
            [
             1,
             "#276419"
            ]
           ],
           "sequential": [
            [
             0,
             "#0d0887"
            ],
            [
             0.1111111111111111,
             "#46039f"
            ],
            [
             0.2222222222222222,
             "#7201a8"
            ],
            [
             0.3333333333333333,
             "#9c179e"
            ],
            [
             0.4444444444444444,
             "#bd3786"
            ],
            [
             0.5555555555555556,
             "#d8576b"
            ],
            [
             0.6666666666666666,
             "#ed7953"
            ],
            [
             0.7777777777777778,
             "#fb9f3a"
            ],
            [
             0.8888888888888888,
             "#fdca26"
            ],
            [
             1,
             "#f0f921"
            ]
           ],
           "sequentialminus": [
            [
             0,
             "#0d0887"
            ],
            [
             0.1111111111111111,
             "#46039f"
            ],
            [
             0.2222222222222222,
             "#7201a8"
            ],
            [
             0.3333333333333333,
             "#9c179e"
            ],
            [
             0.4444444444444444,
             "#bd3786"
            ],
            [
             0.5555555555555556,
             "#d8576b"
            ],
            [
             0.6666666666666666,
             "#ed7953"
            ],
            [
             0.7777777777777778,
             "#fb9f3a"
            ],
            [
             0.8888888888888888,
             "#fdca26"
            ],
            [
             1,
             "#f0f921"
            ]
           ]
          },
          "colorway": [
           "#636efa",
           "#EF553B",
           "#00cc96",
           "#ab63fa",
           "#FFA15A",
           "#19d3f3",
           "#FF6692",
           "#B6E880",
           "#FF97FF",
           "#FECB52"
          ],
          "font": {
           "color": "#2a3f5f"
          },
          "geo": {
           "bgcolor": "white",
           "lakecolor": "white",
           "landcolor": "#E5ECF6",
           "showlakes": true,
           "showland": true,
           "subunitcolor": "white"
          },
          "hoverlabel": {
           "align": "left"
          },
          "hovermode": "closest",
          "mapbox": {
           "style": "light"
          },
          "paper_bgcolor": "white",
          "plot_bgcolor": "#E5ECF6",
          "polar": {
           "angularaxis": {
            "gridcolor": "white",
            "linecolor": "white",
            "ticks": ""
           },
           "bgcolor": "#E5ECF6",
           "radialaxis": {
            "gridcolor": "white",
            "linecolor": "white",
            "ticks": ""
           }
          },
          "scene": {
           "xaxis": {
            "backgroundcolor": "#E5ECF6",
            "gridcolor": "white",
            "gridwidth": 2,
            "linecolor": "white",
            "showbackground": true,
            "ticks": "",
            "zerolinecolor": "white"
           },
           "yaxis": {
            "backgroundcolor": "#E5ECF6",
            "gridcolor": "white",
            "gridwidth": 2,
            "linecolor": "white",
            "showbackground": true,
            "ticks": "",
            "zerolinecolor": "white"
           },
           "zaxis": {
            "backgroundcolor": "#E5ECF6",
            "gridcolor": "white",
            "gridwidth": 2,
            "linecolor": "white",
            "showbackground": true,
            "ticks": "",
            "zerolinecolor": "white"
           }
          },
          "shapedefaults": {
           "line": {
            "color": "#2a3f5f"
           }
          },
          "ternary": {
           "aaxis": {
            "gridcolor": "white",
            "linecolor": "white",
            "ticks": ""
           },
           "baxis": {
            "gridcolor": "white",
            "linecolor": "white",
            "ticks": ""
           },
           "bgcolor": "#E5ECF6",
           "caxis": {
            "gridcolor": "white",
            "linecolor": "white",
            "ticks": ""
           }
          },
          "title": {
           "x": 0.05
          },
          "xaxis": {
           "automargin": true,
           "gridcolor": "white",
           "linecolor": "white",
           "ticks": "",
           "title": {
            "standoff": 15
           },
           "zerolinecolor": "white",
           "zerolinewidth": 2
          },
          "yaxis": {
           "automargin": true,
           "gridcolor": "white",
           "linecolor": "white",
           "ticks": "",
           "title": {
            "standoff": 15
           },
           "zerolinecolor": "white",
           "zerolinewidth": 2
          }
         }
        },
        "width": 700
       }
      },
      "text/html": [
       "<div>\n",
       "        \n",
       "        \n",
       "            <div id=\"2c2085a8-43f2-4643-a264-ea64f16a9b77\" class=\"plotly-graph-div\" style=\"height:525px; width:700px;\"></div>\n",
       "            <script type=\"text/javascript\">\n",
       "                require([\"plotly\"], function(Plotly) {\n",
       "                    window.PLOTLYENV=window.PLOTLYENV || {};\n",
       "                    \n",
       "                if (document.getElementById(\"2c2085a8-43f2-4643-a264-ea64f16a9b77\")) {\n",
       "                    Plotly.newPlot(\n",
       "                        '2c2085a8-43f2-4643-a264-ea64f16a9b77',\n",
       "                        [{\"hoverlabel\": {\"namelength\": 0}, \"hovertemplate\": \"ProbPercent=%{marker.color}<br>EOD_delta=%{y}<br>PotentialValue=%{z}\", \"legendgroup\": \"\", \"marker\": {\"color\": [0.75, 0.75, 0.6, 0.25, 0.75, 0.9, 0.75, 0.75, 1.0, 0.75, 0.8, 0.5, 0.75, 0.25, 0.75, 0.75, 0.99, 0.5, 1.0, 1.0, 0.5, 0.5, 0.5, 0.25, 0.5, 0.99, 0.5, 0.9, 0.3, 0.5, 0.5, 1.0, 0.9, 0.1, 0.1, 0.5, 0.3, 0.1, 0.1, 0.5, 0.9, 0.5, 0.9, 0.5, 0.1, 0.1, 0.3, 0.8, 0.9, 0.4, 0.3, 0.15, 0.3, 0.5, 0.2, 0.4, 0.3, 0.75, 0.5, 0.5, 0.5, 1.0, 0.6, 0.5, 0.75, 0.5, 0.2, 0.9, 0.2, 0.5, 0.5, 0.5, 0.4, 0.5, 0.8, 0.65, 0.9, 0.7, 1.0, 0.75, 0.8, 0.7, 0.75, 0.5, 0.65, 0.8, 0.75, 0.6, 0.8, 0.2, 0.9, 0.6, 1.0, 0.5, 0.5, 0.5, 0.5, 0.5, 0.5, 0.75, 0.95, 0.8, 0.5, 0.75, 0.5, 0.5, 0.5, 0.5, 0.5, 0.75, 0.75, 0.25, 0.5, 0.75, 0.75, 0.75, 0.99, 0.8, 0.5, 0.75, 0.99, 0.99, 0.99, 0.75, 0.75, 0.75, 0.75, 0.75, 0.25, 0.75, 0.5, 0.5, 0.75, 0.5, 0.75, 0.75, 0.85, 0.95, 0.75, 0.5, 1.0, 1.0, 0.75, 0.75, 0.5, 0.75, 0.75, 0.5, 0.5, 1.0, 0.5, 0.75, 0.5, 0.6, 0.5, 0.5, 0.99, 1.0, 0.75, 0.6, 1.0, 1.0, 0.99, 0.1, 0.1, 0.1, 0.1, 0.1, 0.1, 0.1, 0.1, 0.25, 0.25, 0.25, 0.25, 0.25, 0.25, 0.5, 0.5, 0.5, 0.75, 0.75, 0.75, 0.75, 0.75, 0.9, 0.9, 0.9, 0.9, 0.9, 0.9, 0.9, 0.9, 0.9, 0.2, 0.6, 0.1, 0.2, 0.3, 0.3, 0.2, 0.9, 0.4, 0.3, 0.4, 0.5, 0.2, 0.4, 0.3, 0.8, 0.4, 0.9, 0.9, 0.6, 0.5, 0.6, 0.8, 0.75, 0.6, 0.6, 1.0, 0.8, 1.0, 1.0, 0.8, 0.5, 0.2, 0.5, 0.5], \"coloraxis\": \"coloraxis\", \"opacity\": 0.6, \"symbol\": \"circle\"}, \"mode\": \"markers\", \"name\": \"\", \"scene\": \"scene\", \"showlegend\": false, \"type\": \"scatter3d\", \"x\": [0.75, 0.75, 0.6, 0.25, 0.75, 0.9, 0.75, 0.75, 1.0, 0.75, 0.8, 0.5, 0.75, 0.25, 0.75, 0.75, 0.99, 0.5, 1.0, 1.0, 0.5, 0.5, 0.5, 0.25, 0.5, 0.99, 0.5, 0.9, 0.3, 0.5, 0.5, 1.0, 0.9, 0.1, 0.1, 0.5, 0.3, 0.1, 0.1, 0.5, 0.9, 0.5, 0.9, 0.5, 0.1, 0.1, 0.3, 0.8, 0.9, 0.4, 0.3, 0.15, 0.3, 0.5, 0.2, 0.4, 0.3, 0.75, 0.5, 0.5, 0.5, 1.0, 0.6, 0.5, 0.75, 0.5, 0.2, 0.9, 0.2, 0.5, 0.5, 0.5, 0.4, 0.5, 0.8, 0.65, 0.9, 0.7, 1.0, 0.75, 0.8, 0.7, 0.75, 0.5, 0.65, 0.8, 0.75, 0.6, 0.8, 0.2, 0.9, 0.6, 1.0, 0.5, 0.5, 0.5, 0.5, 0.5, 0.5, 0.75, 0.95, 0.8, 0.5, 0.75, 0.5, 0.5, 0.5, 0.5, 0.5, 0.75, 0.75, 0.25, 0.5, 0.75, 0.75, 0.75, 0.99, 0.8, 0.5, 0.75, 0.99, 0.99, 0.99, 0.75, 0.75, 0.75, 0.75, 0.75, 0.25, 0.75, 0.5, 0.5, 0.75, 0.5, 0.75, 0.75, 0.85, 0.95, 0.75, 0.5, 1.0, 1.0, 0.75, 0.75, 0.5, 0.75, 0.75, 0.5, 0.5, 1.0, 0.5, 0.75, 0.5, 0.6, 0.5, 0.5, 0.99, 1.0, 0.75, 0.6, 1.0, 1.0, 0.99, 0.1, 0.1, 0.1, 0.1, 0.1, 0.1, 0.1, 0.1, 0.25, 0.25, 0.25, 0.25, 0.25, 0.25, 0.5, 0.5, 0.5, 0.75, 0.75, 0.75, 0.75, 0.75, 0.9, 0.9, 0.9, 0.9, 0.9, 0.9, 0.9, 0.9, 0.9, 0.2, 0.6, 0.1, 0.2, 0.3, 0.3, 0.2, 0.9, 0.4, 0.3, 0.4, 0.5, 0.2, 0.4, 0.3, 0.8, 0.4, 0.9, 0.9, 0.6, 0.5, 0.6, 0.8, 0.75, 0.6, 0.6, 1.0, 0.8, 1.0, 1.0, 0.8, 0.5, 0.2, 0.5, 0.5], \"y\": [32.0, 15.0, 0.0, 107.0, 63.0, -29.0, 63.0, 15.0, -41.0, 1.0, 1.0, -15.0, -15.0, -26.0, -20.0, -27.0, -15.0, -32.0, -150.0, -76.0, 97.0, 107.0, 107.0, null, 97.0, -15.0, 93.0, 63.0, 154.0, -29.0, 1.0, -42.0, 1.0, 185.0, 185.0, 93.0, -29.0, 32.0, 1.0, 1.0, -29.0, 32.0, -29.0, 32.0, 32.0, 93.0, 63.0, -29.0, -29.0, 1.0, 1.0, 1.0, -30.0, -30.0, 31.0, 31.0, 0.0, -30.0, -15.0, 0.0, -15.0, -46.0, 0.0, 0.0, -46.0, 0.0, -8.0, 0.0, 0.0, -30.0, -30.0, 0.0, 30.0, 113.0, null, null, -33.0, -10.0, -30.0, -33.0, -47.0, 184.0, 31.0, -27.0, null, null, 8.0, -15.0, -20.0, 51.0, -15.0, -15.0, -41.0, 1.0, 32.0, 32.0, 32.0, 1.0, 32.0, -46.0, -46.0, -36.0, 124.0, 93.0, 32.0, -29.0, 1.0, 93.0, -1826.0, 1.0, -25.0, 1.0, 1.0, 0.0, 0.0, 92.0, 15.0, 0.0, 0.0, 0.0, -25.0, -25.0, 1.0, 15.0, 93.0, 46.0, 46.0, 0.0, 77.0, 0.0, 15.0, 32.0, 15.0, 1.0, 1.0, 93.0, 15.0, -15.0, 15.0, 30.0, -15.0, -32.0, 15.0, 15.0, 138.0, 1.0, 214.0, -29.0, -15.0, -32.0, -29.0, -29.0, -15.0, 31.0, 0.0, null, -30.0, null, null, null, null, null, null, 154.0, 154.0, 154.0, 154.0, 154.0, 154.0, 154.0, 154.0, 154.0, 154.0, 32.0, 32.0, 32.0, 32.0, 63.0, 63.0, 32.0, 32.0, 32.0, 32.0, 32.0, 1.0, -29.0, 154.0, 1.0, -41.0, -60.0, 32.0, 32.0, -29.0, -29.0, 123.0, null, 123.0, 123.0, 123.0, null, null, null, 31.0, null, 123.0, 123.0, 123.0, 123.0, 31.0, 0.0, null, 0.0, -30.0, 0.0, -15.0, 31.0, null, null, 31.0, 0.0, null, 31.0, -20.0, -20.0, 0.0, 123.0, 123.0, 123.0, 123.0], \"z\": [7753, 45000, 84867, 10000, 55000, 27500, 333404, 18000, 11040, 44226, 23000, 21000, 14840, 125000, 250000, 20000, 5000000, 12000, 80000, 7000, 80000, 25000, 250000, 10000, 80000, 150000, 75000, 65000, 110000, 10000, 20000, 7500, 50000, 100000, 75000, 50000, 50000, 60000, 10000, 20000, 75000, 250000, 100000, 100000, 10000, 50000, 250000, 2000, 10000, 60000, 10000, 75000, 12000, 100000, 100000, 20000, 25000, 15000, 70000, 13000, 45000, 24000, 10000, 37000, 50000, 120000, 20000, 25000, 360000, 75000, 10000, 85000, 300000, 30000, 3000000, 100000, 20000, 35000, 30000, 125000, 100000, 1500000, 50000, 50000, 20000, 65000, 65000, 20000, 60000, 35000, 15000, 40000, 7500, 70000, 20000, 8000, 8000, 500000, 10000, 21000, 10000, 10000, 300000, 200000, 75000, 50000, 120000, 50000, 45000, 20000, 50000, 15000, 60000, 30000, 150000, 100000, 20000, 40000, 50000, 71000, 133000, 133000, 560000, 200000, 50000, 150000, 120000, 100000, 50000, 150000, 200000, 50000, 100000, 20000, 150000, 225000, 57000, 200000, 53000, 24700, 250000, 45000, 40000, 50000, 500000, 60000, 125000, 35000, 28000, 25000, 20000, 32000, 25000, 396350, 269355, 250000, 30000, 16000, 25000, 22000, 65000, 16373, 400000, 80000, 100000, 60000, 50000, 500000, 150000, 150000, 100000, 500000, 500000, 80000, 350000, 65000, 16000, 100000, 250000, 40000, 80000, 10000, 10000, 5000, 50000, 100000, 100000, 100000, 10000, 80000, 25000, 20000, 1200000, 90000, 30000, 40000, 40000, 500000, 100000, 150000, 50000, 30000, 30000, 100000, 200000, 150000, 150000, 200000, 90000, 47035, 20000, 10000, 133694, 16290, 10000, 66583, 245790, 400000, 20000, 10000, 15000, 50000, 130000, 94000, 15000, 20000, 60000, 100000, 30000]}],\n",
       "                        {\"coloraxis\": {\"colorbar\": {\"title\": {\"text\": \"ProbPercent\"}}, \"colorscale\": [[0.0, \"#0d0887\"], [0.1111111111111111, \"#46039f\"], [0.2222222222222222, \"#7201a8\"], [0.3333333333333333, \"#9c179e\"], [0.4444444444444444, \"#bd3786\"], [0.5555555555555556, \"#d8576b\"], [0.6666666666666666, \"#ed7953\"], [0.7777777777777778, \"#fb9f3a\"], [0.8888888888888888, \"#fdca26\"], [1.0, \"#f0f921\"]]}, \"legend\": {\"tracegroupgap\": 0}, \"margin\": {\"b\": 10, \"l\": 10, \"r\": 10, \"t\": 10}, \"scene\": {\"domain\": {\"x\": [0.0, 1.0], \"y\": [0.0, 1.0]}, \"xaxis\": {\"backgroundcolor\": \"rgb(200, 200, 230)\", \"gridcolor\": \"white\", \"showbackground\": true, \"title\": {\"text\": \"ProbPercent\"}, \"zerolinecolor\": \"white\"}, \"yaxis\": {\"backgroundcolor\": \"rgb(230, 200,230)\", \"gridcolor\": \"white\", \"showbackground\": true, \"title\": {\"text\": \"EOD_delta\"}, \"zerolinecolor\": \"white\"}, \"zaxis\": {\"backgroundcolor\": \"rgb(230, 230,200)\", \"gridcolor\": \"white\", \"showbackground\": true, \"title\": {\"text\": \"PotentialValue\"}, \"zerolinecolor\": \"white\"}}, \"template\": {\"data\": {\"bar\": [{\"error_x\": {\"color\": \"#2a3f5f\"}, \"error_y\": {\"color\": \"#2a3f5f\"}, \"marker\": {\"line\": {\"color\": \"#E5ECF6\", \"width\": 0.5}}, \"type\": \"bar\"}], \"barpolar\": [{\"marker\": {\"line\": {\"color\": \"#E5ECF6\", \"width\": 0.5}}, \"type\": \"barpolar\"}], \"carpet\": [{\"aaxis\": {\"endlinecolor\": \"#2a3f5f\", \"gridcolor\": \"white\", \"linecolor\": \"white\", \"minorgridcolor\": \"white\", \"startlinecolor\": \"#2a3f5f\"}, \"baxis\": {\"endlinecolor\": \"#2a3f5f\", \"gridcolor\": \"white\", \"linecolor\": \"white\", \"minorgridcolor\": \"white\", \"startlinecolor\": \"#2a3f5f\"}, \"type\": \"carpet\"}], \"choropleth\": [{\"colorbar\": {\"outlinewidth\": 0, \"ticks\": \"\"}, \"type\": \"choropleth\"}], \"contour\": [{\"colorbar\": {\"outlinewidth\": 0, \"ticks\": \"\"}, \"colorscale\": [[0.0, \"#0d0887\"], [0.1111111111111111, \"#46039f\"], [0.2222222222222222, \"#7201a8\"], [0.3333333333333333, \"#9c179e\"], [0.4444444444444444, \"#bd3786\"], [0.5555555555555556, \"#d8576b\"], [0.6666666666666666, \"#ed7953\"], [0.7777777777777778, \"#fb9f3a\"], [0.8888888888888888, \"#fdca26\"], [1.0, \"#f0f921\"]], \"type\": \"contour\"}], \"contourcarpet\": [{\"colorbar\": {\"outlinewidth\": 0, \"ticks\": \"\"}, \"type\": \"contourcarpet\"}], \"heatmap\": [{\"colorbar\": {\"outlinewidth\": 0, \"ticks\": \"\"}, \"colorscale\": [[0.0, \"#0d0887\"], [0.1111111111111111, \"#46039f\"], [0.2222222222222222, \"#7201a8\"], [0.3333333333333333, \"#9c179e\"], [0.4444444444444444, \"#bd3786\"], [0.5555555555555556, \"#d8576b\"], [0.6666666666666666, \"#ed7953\"], [0.7777777777777778, \"#fb9f3a\"], [0.8888888888888888, \"#fdca26\"], [1.0, \"#f0f921\"]], \"type\": \"heatmap\"}], \"heatmapgl\": [{\"colorbar\": {\"outlinewidth\": 0, \"ticks\": \"\"}, \"colorscale\": [[0.0, \"#0d0887\"], [0.1111111111111111, \"#46039f\"], [0.2222222222222222, \"#7201a8\"], [0.3333333333333333, \"#9c179e\"], [0.4444444444444444, \"#bd3786\"], [0.5555555555555556, \"#d8576b\"], [0.6666666666666666, \"#ed7953\"], [0.7777777777777778, \"#fb9f3a\"], [0.8888888888888888, \"#fdca26\"], [1.0, \"#f0f921\"]], \"type\": \"heatmapgl\"}], \"histogram\": [{\"marker\": {\"colorbar\": {\"outlinewidth\": 0, \"ticks\": \"\"}}, \"type\": \"histogram\"}], \"histogram2d\": [{\"colorbar\": {\"outlinewidth\": 0, \"ticks\": \"\"}, \"colorscale\": [[0.0, \"#0d0887\"], [0.1111111111111111, \"#46039f\"], [0.2222222222222222, \"#7201a8\"], [0.3333333333333333, \"#9c179e\"], [0.4444444444444444, \"#bd3786\"], [0.5555555555555556, \"#d8576b\"], [0.6666666666666666, \"#ed7953\"], [0.7777777777777778, \"#fb9f3a\"], [0.8888888888888888, \"#fdca26\"], [1.0, \"#f0f921\"]], \"type\": \"histogram2d\"}], \"histogram2dcontour\": [{\"colorbar\": {\"outlinewidth\": 0, \"ticks\": \"\"}, \"colorscale\": [[0.0, \"#0d0887\"], [0.1111111111111111, \"#46039f\"], [0.2222222222222222, \"#7201a8\"], [0.3333333333333333, \"#9c179e\"], [0.4444444444444444, \"#bd3786\"], [0.5555555555555556, \"#d8576b\"], [0.6666666666666666, \"#ed7953\"], [0.7777777777777778, \"#fb9f3a\"], [0.8888888888888888, \"#fdca26\"], [1.0, \"#f0f921\"]], \"type\": \"histogram2dcontour\"}], \"mesh3d\": [{\"colorbar\": {\"outlinewidth\": 0, \"ticks\": \"\"}, \"type\": \"mesh3d\"}], \"parcoords\": [{\"line\": {\"colorbar\": {\"outlinewidth\": 0, \"ticks\": \"\"}}, \"type\": \"parcoords\"}], \"pie\": [{\"automargin\": true, \"type\": \"pie\"}], \"scatter\": [{\"marker\": {\"colorbar\": {\"outlinewidth\": 0, \"ticks\": \"\"}}, \"type\": \"scatter\"}], \"scatter3d\": [{\"line\": {\"colorbar\": {\"outlinewidth\": 0, \"ticks\": \"\"}}, \"marker\": {\"colorbar\": {\"outlinewidth\": 0, \"ticks\": \"\"}}, \"type\": \"scatter3d\"}], \"scattercarpet\": [{\"marker\": {\"colorbar\": {\"outlinewidth\": 0, \"ticks\": \"\"}}, \"type\": \"scattercarpet\"}], \"scattergeo\": [{\"marker\": {\"colorbar\": {\"outlinewidth\": 0, \"ticks\": \"\"}}, \"type\": \"scattergeo\"}], \"scattergl\": [{\"marker\": {\"colorbar\": {\"outlinewidth\": 0, \"ticks\": \"\"}}, \"type\": \"scattergl\"}], \"scattermapbox\": [{\"marker\": {\"colorbar\": {\"outlinewidth\": 0, \"ticks\": \"\"}}, \"type\": \"scattermapbox\"}], \"scatterpolar\": [{\"marker\": {\"colorbar\": {\"outlinewidth\": 0, \"ticks\": \"\"}}, \"type\": \"scatterpolar\"}], \"scatterpolargl\": [{\"marker\": {\"colorbar\": {\"outlinewidth\": 0, \"ticks\": \"\"}}, \"type\": \"scatterpolargl\"}], \"scatterternary\": [{\"marker\": {\"colorbar\": {\"outlinewidth\": 0, \"ticks\": \"\"}}, \"type\": \"scatterternary\"}], \"surface\": [{\"colorbar\": {\"outlinewidth\": 0, \"ticks\": \"\"}, \"colorscale\": [[0.0, \"#0d0887\"], [0.1111111111111111, \"#46039f\"], [0.2222222222222222, \"#7201a8\"], [0.3333333333333333, \"#9c179e\"], [0.4444444444444444, \"#bd3786\"], [0.5555555555555556, \"#d8576b\"], [0.6666666666666666, \"#ed7953\"], [0.7777777777777778, \"#fb9f3a\"], [0.8888888888888888, \"#fdca26\"], [1.0, \"#f0f921\"]], \"type\": \"surface\"}], \"table\": [{\"cells\": {\"fill\": {\"color\": \"#EBF0F8\"}, \"line\": {\"color\": \"white\"}}, \"header\": {\"fill\": {\"color\": \"#C8D4E3\"}, \"line\": {\"color\": \"white\"}}, \"type\": \"table\"}]}, \"layout\": {\"annotationdefaults\": {\"arrowcolor\": \"#2a3f5f\", \"arrowhead\": 0, \"arrowwidth\": 1}, \"coloraxis\": {\"colorbar\": {\"outlinewidth\": 0, \"ticks\": \"\"}}, \"colorscale\": {\"diverging\": [[0, \"#8e0152\"], [0.1, \"#c51b7d\"], [0.2, \"#de77ae\"], [0.3, \"#f1b6da\"], [0.4, \"#fde0ef\"], [0.5, \"#f7f7f7\"], [0.6, \"#e6f5d0\"], [0.7, \"#b8e186\"], [0.8, \"#7fbc41\"], [0.9, \"#4d9221\"], [1, \"#276419\"]], \"sequential\": [[0.0, \"#0d0887\"], [0.1111111111111111, \"#46039f\"], [0.2222222222222222, \"#7201a8\"], [0.3333333333333333, \"#9c179e\"], [0.4444444444444444, \"#bd3786\"], [0.5555555555555556, \"#d8576b\"], [0.6666666666666666, \"#ed7953\"], [0.7777777777777778, \"#fb9f3a\"], [0.8888888888888888, \"#fdca26\"], [1.0, \"#f0f921\"]], \"sequentialminus\": [[0.0, \"#0d0887\"], [0.1111111111111111, \"#46039f\"], [0.2222222222222222, \"#7201a8\"], [0.3333333333333333, \"#9c179e\"], [0.4444444444444444, \"#bd3786\"], [0.5555555555555556, \"#d8576b\"], [0.6666666666666666, \"#ed7953\"], [0.7777777777777778, \"#fb9f3a\"], [0.8888888888888888, \"#fdca26\"], [1.0, \"#f0f921\"]]}, \"colorway\": [\"#636efa\", \"#EF553B\", \"#00cc96\", \"#ab63fa\", \"#FFA15A\", \"#19d3f3\", \"#FF6692\", \"#B6E880\", \"#FF97FF\", \"#FECB52\"], \"font\": {\"color\": \"#2a3f5f\"}, \"geo\": {\"bgcolor\": \"white\", \"lakecolor\": \"white\", \"landcolor\": \"#E5ECF6\", \"showlakes\": true, \"showland\": true, \"subunitcolor\": \"white\"}, \"hoverlabel\": {\"align\": \"left\"}, \"hovermode\": \"closest\", \"mapbox\": {\"style\": \"light\"}, \"paper_bgcolor\": \"white\", \"plot_bgcolor\": \"#E5ECF6\", \"polar\": {\"angularaxis\": {\"gridcolor\": \"white\", \"linecolor\": \"white\", \"ticks\": \"\"}, \"bgcolor\": \"#E5ECF6\", \"radialaxis\": {\"gridcolor\": \"white\", \"linecolor\": \"white\", \"ticks\": \"\"}}, \"scene\": {\"xaxis\": {\"backgroundcolor\": \"#E5ECF6\", \"gridcolor\": \"white\", \"gridwidth\": 2, \"linecolor\": \"white\", \"showbackground\": true, \"ticks\": \"\", \"zerolinecolor\": \"white\"}, \"yaxis\": {\"backgroundcolor\": \"#E5ECF6\", \"gridcolor\": \"white\", \"gridwidth\": 2, \"linecolor\": \"white\", \"showbackground\": true, \"ticks\": \"\", \"zerolinecolor\": \"white\"}, \"zaxis\": {\"backgroundcolor\": \"#E5ECF6\", \"gridcolor\": \"white\", \"gridwidth\": 2, \"linecolor\": \"white\", \"showbackground\": true, \"ticks\": \"\", \"zerolinecolor\": \"white\"}}, \"shapedefaults\": {\"line\": {\"color\": \"#2a3f5f\"}}, \"ternary\": {\"aaxis\": {\"gridcolor\": \"white\", \"linecolor\": \"white\", \"ticks\": \"\"}, \"baxis\": {\"gridcolor\": \"white\", \"linecolor\": \"white\", \"ticks\": \"\"}, \"bgcolor\": \"#E5ECF6\", \"caxis\": {\"gridcolor\": \"white\", \"linecolor\": \"white\", \"ticks\": \"\"}}, \"title\": {\"x\": 0.05}, \"xaxis\": {\"automargin\": true, \"gridcolor\": \"white\", \"linecolor\": \"white\", \"ticks\": \"\", \"title\": {\"standoff\": 15}, \"zerolinecolor\": \"white\", \"zerolinewidth\": 2}, \"yaxis\": {\"automargin\": true, \"gridcolor\": \"white\", \"linecolor\": \"white\", \"ticks\": \"\", \"title\": {\"standoff\": 15}, \"zerolinecolor\": \"white\", \"zerolinewidth\": 2}}}, \"width\": 700},\n",
       "                        {\"responsive\": true}\n",
       "                    ).then(function(){\n",
       "                            \n",
       "var gd = document.getElementById('2c2085a8-43f2-4643-a264-ea64f16a9b77');\n",
       "var x = new MutationObserver(function (mutations, observer) {{\n",
       "        var display = window.getComputedStyle(gd).display;\n",
       "        if (!display || display === 'none') {{\n",
       "            console.log([gd, 'removed!']);\n",
       "            Plotly.purge(gd);\n",
       "            observer.disconnect();\n",
       "        }}\n",
       "}});\n",
       "\n",
       "// Listen for the removal of the full notebook cells\n",
       "var notebookContainer = gd.closest('#notebook-container');\n",
       "if (notebookContainer) {{\n",
       "    x.observe(notebookContainer, {childList: true});\n",
       "}}\n",
       "\n",
       "// Listen for the clearing of the current output cell\n",
       "var outputEl = gd.closest('.output');\n",
       "if (outputEl) {{\n",
       "    x.observe(outputEl, {childList: true});\n",
       "}}\n",
       "\n",
       "                        })\n",
       "                };\n",
       "                });\n",
       "            </script>\n",
       "        </div>"
      ]
     },
     "metadata": {},
     "output_type": "display_data"
    }
   ],
   "source": [
    "fig = px.scatter_3d(df_num, x='ProbPercent', y='EOD_delta', z='PotentialValue',\n",
    "                        color='ProbPercent',\n",
    "                        #size=size_sel, size_max=18,\n",
    "                        #symbol=symbol_sel,\n",
    "                        opacity=0.6)\n",
    "\n",
    "fig.update_layout(scene = dict(\n",
    "                    xaxis = dict(\n",
    "                         backgroundcolor=\"rgb(200, 200, 230)\",\n",
    "                         gridcolor=\"white\",\n",
    "                         showbackground=True,\n",
    "                         zerolinecolor=\"white\",),\n",
    "                    yaxis = dict(\n",
    "                        backgroundcolor=\"rgb(230, 200,230)\",\n",
    "                        gridcolor=\"white\",\n",
    "                        showbackground=True,\n",
    "                        zerolinecolor=\"white\"),\n",
    "                    zaxis = dict(\n",
    "                        backgroundcolor=\"rgb(230, 230,200)\",\n",
    "                        gridcolor=\"white\",\n",
    "                        showbackground=True,\n",
    "                        zerolinecolor=\"white\",),),\n",
    "                    width=700,\n",
    "                    margin=dict(\n",
    "                    r=10, l=10,\n",
    "                    b=10, t=10)\n",
    "                  )\n",
    "fig.show()"
   ]
  },
  {
   "cell_type": "code",
   "execution_count": null,
   "metadata": {},
   "outputs": [],
   "source": [
    "\n",
    "fig = px.bar(df_num, x=\"EOD_delta\", y=\"PotentialValue\", color='Stage', orientation='h')\n",
    "fig.show()"
   ]
  },
  {
   "cell_type": "code",
   "execution_count": 18,
   "metadata": {},
   "outputs": [
    {
     "name": "stdout",
     "output_type": "stream",
     "text": [
      "Figure({\n",
      "    'data': [{'customdata': [Quoting, Quoting, Quoting, Quoting, Quoting, Quoting,\n",
      "                             Quoting, Quoting, Quoting, Quoting, Quoting, Quoting,\n",
      "                             Quoting, Quoting, Quoting, Quoting, Quoting, Quoting,\n",
      "                             Quoting, Quoting, Quoting, Quoting, Quoting, Quoting,\n",
      "                             Quoting],\n",
      "              'name': 'Quoting',\n",
      "              'type': 'bar',\n",
      "              'x': array([datetime.datetime(2020, 5, 1, 0, 0),\n",
      "                          datetime.datetime(2020, 5, 20, 0, 0),\n",
      "                          datetime.datetime(2020, 5, 25, 0, 0),\n",
      "                          datetime.datetime(2020, 5, 28, 0, 0),\n",
      "                          datetime.datetime(2020, 5, 29, 0, 0),\n",
      "                          datetime.datetime(2020, 5, 31, 0, 0),\n",
      "                          datetime.datetime(2020, 6, 1, 0, 0),\n",
      "                          datetime.datetime(2020, 6, 3, 0, 0),\n",
      "                          datetime.datetime(2020, 6, 4, 0, 0),\n",
      "                          datetime.datetime(2020, 6, 5, 0, 0),\n",
      "                          datetime.datetime(2020, 6, 10, 0, 0),\n",
      "                          datetime.datetime(2020, 6, 15, 0, 0),\n",
      "                          datetime.datetime(2020, 6, 20, 0, 0),\n",
      "                          datetime.datetime(2020, 6, 30, 0, 0),\n",
      "                          datetime.datetime(2020, 7, 1, 0, 0),\n",
      "                          datetime.datetime(2020, 7, 15, 0, 0),\n",
      "                          datetime.datetime(2020, 7, 30, 0, 0),\n",
      "                          datetime.datetime(2020, 7, 31, 0, 0),\n",
      "                          datetime.datetime(2020, 8, 1, 0, 0),\n",
      "                          datetime.datetime(2020, 9, 1, 0, 0),\n",
      "                          datetime.datetime(2020, 10, 1, 0, 0),\n",
      "                          datetime.datetime(2020, 10, 15, 0, 0),\n",
      "                          datetime.datetime(2020, 10, 31, 0, 0),\n",
      "                          datetime.datetime(2020, 12, 1, 0, 0),\n",
      "                          datetime.datetime(2021, 1, 30, 0, 0)], dtype=object),\n",
      "              'y': [80000, 10000, 10000, 20000, 12000, 230000, 234500, 20000,\n",
      "                    125000, 316000, 60000, 315840, 35000, 655222, 232226, 168000,\n",
      "                    24700, 486350, 364753, 250000, 225000, 250000, 1160000, 790000,\n",
      "                    125000]},\n",
      "             {'customdata': [Discovery (S.P.I.N.), Discovery (S.P.I.N.), Discovery\n",
      "                             (S.P.I.N.), Discovery (S.P.I.N.), Discovery\n",
      "                             (S.P.I.N.), Discovery (S.P.I.N.), Discovery\n",
      "                             (S.P.I.N.), Discovery (S.P.I.N.), Discovery\n",
      "                             (S.P.I.N.), Discovery (S.P.I.N.), Discovery\n",
      "                             (S.P.I.N.), Discovery (S.P.I.N.), Discovery\n",
      "                             (S.P.I.N.), Discovery (S.P.I.N.)],\n",
      "              'name': 'Discovery (S.P.I.N.)',\n",
      "              'type': 'bar',\n",
      "              'x': array([datetime.datetime(2020, 6, 1, 0, 0),\n",
      "                          datetime.datetime(2020, 6, 15, 0, 0),\n",
      "                          datetime.datetime(2020, 7, 1, 0, 0),\n",
      "                          datetime.datetime(2020, 7, 15, 0, 0),\n",
      "                          datetime.datetime(2020, 8, 1, 0, 0),\n",
      "                          datetime.datetime(2020, 9, 1, 0, 0),\n",
      "                          datetime.datetime(2020, 9, 30, 0, 0),\n",
      "                          datetime.datetime(2020, 10, 1, 0, 0),\n",
      "                          datetime.datetime(2020, 10, 15, 0, 0),\n",
      "                          datetime.datetime(2020, 10, 21, 0, 0),\n",
      "                          datetime.datetime(2020, 10, 31, 0, 0),\n",
      "                          datetime.datetime(2020, 11, 15, 0, 0),\n",
      "                          datetime.datetime(2020, 12, 1, 0, 0),\n",
      "                          datetime.datetime(2021, 1, 1, 0, 0)], dtype=object),\n",
      "              'y': [50000, 55000, 295000, 45000, 315000, 388404, 100000, 125000,\n",
      "                    10000, 30000, 40000, 500000, 1500000, 175000]},\n",
      "             {'customdata': [Won, Won, Won, Won, Won, Won, Won, Won, Won, Won,\n",
      "                             Won, Won, Won],\n",
      "              'name': 'Won',\n",
      "              'type': 'bar',\n",
      "              'x': array([datetime.datetime(2020, 2, 1, 0, 0),\n",
      "                          datetime.datetime(2020, 4, 15, 0, 0),\n",
      "                          datetime.datetime(2020, 5, 14, 0, 0),\n",
      "                          datetime.datetime(2020, 5, 15, 0, 0),\n",
      "                          datetime.datetime(2020, 5, 19, 0, 0),\n",
      "                          datetime.datetime(2020, 5, 20, 0, 0),\n",
      "                          datetime.datetime(2020, 5, 28, 0, 0),\n",
      "                          datetime.datetime(2020, 5, 29, 0, 0),\n",
      "                          datetime.datetime(2020, 5, 31, 0, 0),\n",
      "                          datetime.datetime(2020, 6, 10, 0, 0),\n",
      "                          datetime.datetime(2020, 6, 15, 0, 0),\n",
      "                          datetime.datetime(2020, 6, 30, 0, 0),\n",
      "                          datetime.datetime(2020, 10, 31, 0, 0)], dtype=object),\n",
      "              'y': [80000, 7000, 100000, 105000, 7500, 18540, 125000, 70000,\n",
      "                    163694, 224000, 250000, 25000, 20000]},\n",
      "             {'customdata': [Working, Working, Working, Working, Working, Working,\n",
      "                             Working, Working, Working, Working, Working, Working,\n",
      "                             Working, Working, Working, Working, Working, Working,\n",
      "                             Working],\n",
      "              'name': 'Working',\n",
      "              'type': 'bar',\n",
      "              'x': array([datetime.datetime(2020, 5, 31, 0, 0),\n",
      "                          datetime.datetime(2020, 6, 1, 0, 0),\n",
      "                          datetime.datetime(2020, 6, 3, 0, 0),\n",
      "                          datetime.datetime(2020, 6, 10, 0, 0),\n",
      "                          datetime.datetime(2020, 6, 15, 0, 0),\n",
      "                          datetime.datetime(2020, 6, 22, 0, 0),\n",
      "                          datetime.datetime(2020, 6, 30, 0, 0),\n",
      "                          datetime.datetime(2020, 7, 1, 0, 0),\n",
      "                          datetime.datetime(2020, 7, 8, 0, 0),\n",
      "                          datetime.datetime(2020, 7, 15, 0, 0),\n",
      "                          datetime.datetime(2020, 7, 30, 0, 0),\n",
      "                          datetime.datetime(2020, 7, 31, 0, 0),\n",
      "                          datetime.datetime(2020, 8, 1, 0, 0),\n",
      "                          datetime.datetime(2020, 9, 1, 0, 0),\n",
      "                          datetime.datetime(2020, 10, 1, 0, 0),\n",
      "                          datetime.datetime(2020, 10, 5, 0, 0),\n",
      "                          datetime.datetime(2020, 10, 15, 0, 0),\n",
      "                          datetime.datetime(2020, 10, 31, 0, 0),\n",
      "                          datetime.datetime(2020, 12, 31, 0, 0)], dtype=object),\n",
      "              'y': [12000, 1442000, 50000, 250000, 5240000, 20000, 888325,\n",
      "                    1510000, 65000, 370000, 300000, 286583, 370000, 350000, 300000,\n",
      "                    160000, 25000, 30000, 1500000]},\n",
      "             {'customdata': [On Hold, On Hold, On Hold, On Hold, On Hold, On Hold,\n",
      "                             On Hold, On Hold, On Hold, On Hold, On Hold],\n",
      "              'name': 'On Hold',\n",
      "              'type': 'bar',\n",
      "              'x': array([datetime.datetime(2015, 7, 1, 0, 0),\n",
      "                          datetime.datetime(2020, 6, 1, 0, 0),\n",
      "                          datetime.datetime(2020, 6, 15, 0, 0),\n",
      "                          datetime.datetime(2020, 6, 30, 0, 0),\n",
      "                          datetime.datetime(2020, 7, 15, 0, 0),\n",
      "                          datetime.datetime(2020, 8, 1, 0, 0),\n",
      "                          datetime.datetime(2020, 8, 15, 0, 0),\n",
      "                          datetime.datetime(2020, 9, 1, 0, 0),\n",
      "                          datetime.datetime(2020, 10, 1, 0, 0),\n",
      "                          datetime.datetime(2020, 11, 1, 0, 0),\n",
      "                          datetime.datetime(2020, 12, 1, 0, 0)], dtype=object),\n",
      "              'y': [45000, 75000, 28000, 150000, 200000, 250000, 270000, 65000,\n",
      "                    50000, 300000, 110000]},\n",
      "             {'customdata': [Solution Development, Solution Development, Solution\n",
      "                             Development],\n",
      "              'name': 'Solution Development',\n",
      "              'type': 'bar',\n",
      "              'x': array([datetime.datetime(2020, 7, 31, 0, 0),\n",
      "                          datetime.datetime(2020, 8, 20, 0, 0),\n",
      "                          datetime.datetime(2020, 10, 31, 0, 0)], dtype=object),\n",
      "              'y': [50000, 35000, 330000]},\n",
      "             {'customdata': [Lost (why?)],\n",
      "              'name': 'Lost (why?)',\n",
      "              'type': 'bar',\n",
      "              'x': array([datetime.datetime(2020, 9, 15, 0, 0)], dtype=object),\n",
      "              'y': [50000]}],\n",
      "    'layout': {'template': '...'}\n",
      "})\n"
     ]
    },
    {
     "data": {
      "application/vnd.plotly.v1+json": {
       "config": {
        "plotlyServerURL": "https://plot.ly"
       },
       "data": [
        {
         "customdata": [
          "Quoting",
          "Quoting",
          "Quoting",
          "Quoting",
          "Quoting",
          "Quoting",
          "Quoting",
          "Quoting",
          "Quoting",
          "Quoting",
          "Quoting",
          "Quoting",
          "Quoting",
          "Quoting",
          "Quoting",
          "Quoting",
          "Quoting",
          "Quoting",
          "Quoting",
          "Quoting",
          "Quoting",
          "Quoting",
          "Quoting",
          "Quoting",
          "Quoting"
         ],
         "name": "Quoting",
         "type": "bar",
         "x": [
          "2020-05-01T00:00:00",
          "2020-05-20T00:00:00",
          "2020-05-25T00:00:00",
          "2020-05-28T00:00:00",
          "2020-05-29T00:00:00",
          "2020-05-31T00:00:00",
          "2020-06-01T00:00:00",
          "2020-06-03T00:00:00",
          "2020-06-04T00:00:00",
          "2020-06-05T00:00:00",
          "2020-06-10T00:00:00",
          "2020-06-15T00:00:00",
          "2020-06-20T00:00:00",
          "2020-06-30T00:00:00",
          "2020-07-01T00:00:00",
          "2020-07-15T00:00:00",
          "2020-07-30T00:00:00",
          "2020-07-31T00:00:00",
          "2020-08-01T00:00:00",
          "2020-09-01T00:00:00",
          "2020-10-01T00:00:00",
          "2020-10-15T00:00:00",
          "2020-10-31T00:00:00",
          "2020-12-01T00:00:00",
          "2021-01-30T00:00:00"
         ],
         "y": [
          80000,
          10000,
          10000,
          20000,
          12000,
          230000,
          234500,
          20000,
          125000,
          316000,
          60000,
          315840,
          35000,
          655222,
          232226,
          168000,
          24700,
          486350,
          364753,
          250000,
          225000,
          250000,
          1160000,
          790000,
          125000
         ]
        },
        {
         "customdata": [
          "Discovery (S.P.I.N.)",
          "Discovery (S.P.I.N.)",
          "Discovery (S.P.I.N.)",
          "Discovery (S.P.I.N.)",
          "Discovery (S.P.I.N.)",
          "Discovery (S.P.I.N.)",
          "Discovery (S.P.I.N.)",
          "Discovery (S.P.I.N.)",
          "Discovery (S.P.I.N.)",
          "Discovery (S.P.I.N.)",
          "Discovery (S.P.I.N.)",
          "Discovery (S.P.I.N.)",
          "Discovery (S.P.I.N.)",
          "Discovery (S.P.I.N.)"
         ],
         "name": "Discovery (S.P.I.N.)",
         "type": "bar",
         "x": [
          "2020-06-01T00:00:00",
          "2020-06-15T00:00:00",
          "2020-07-01T00:00:00",
          "2020-07-15T00:00:00",
          "2020-08-01T00:00:00",
          "2020-09-01T00:00:00",
          "2020-09-30T00:00:00",
          "2020-10-01T00:00:00",
          "2020-10-15T00:00:00",
          "2020-10-21T00:00:00",
          "2020-10-31T00:00:00",
          "2020-11-15T00:00:00",
          "2020-12-01T00:00:00",
          "2021-01-01T00:00:00"
         ],
         "y": [
          50000,
          55000,
          295000,
          45000,
          315000,
          388404,
          100000,
          125000,
          10000,
          30000,
          40000,
          500000,
          1500000,
          175000
         ]
        },
        {
         "customdata": [
          "Won",
          "Won",
          "Won",
          "Won",
          "Won",
          "Won",
          "Won",
          "Won",
          "Won",
          "Won",
          "Won",
          "Won",
          "Won"
         ],
         "name": "Won",
         "type": "bar",
         "x": [
          "2020-02-01T00:00:00",
          "2020-04-15T00:00:00",
          "2020-05-14T00:00:00",
          "2020-05-15T00:00:00",
          "2020-05-19T00:00:00",
          "2020-05-20T00:00:00",
          "2020-05-28T00:00:00",
          "2020-05-29T00:00:00",
          "2020-05-31T00:00:00",
          "2020-06-10T00:00:00",
          "2020-06-15T00:00:00",
          "2020-06-30T00:00:00",
          "2020-10-31T00:00:00"
         ],
         "y": [
          80000,
          7000,
          100000,
          105000,
          7500,
          18540,
          125000,
          70000,
          163694,
          224000,
          250000,
          25000,
          20000
         ]
        },
        {
         "customdata": [
          "Working",
          "Working",
          "Working",
          "Working",
          "Working",
          "Working",
          "Working",
          "Working",
          "Working",
          "Working",
          "Working",
          "Working",
          "Working",
          "Working",
          "Working",
          "Working",
          "Working",
          "Working",
          "Working"
         ],
         "name": "Working",
         "type": "bar",
         "x": [
          "2020-05-31T00:00:00",
          "2020-06-01T00:00:00",
          "2020-06-03T00:00:00",
          "2020-06-10T00:00:00",
          "2020-06-15T00:00:00",
          "2020-06-22T00:00:00",
          "2020-06-30T00:00:00",
          "2020-07-01T00:00:00",
          "2020-07-08T00:00:00",
          "2020-07-15T00:00:00",
          "2020-07-30T00:00:00",
          "2020-07-31T00:00:00",
          "2020-08-01T00:00:00",
          "2020-09-01T00:00:00",
          "2020-10-01T00:00:00",
          "2020-10-05T00:00:00",
          "2020-10-15T00:00:00",
          "2020-10-31T00:00:00",
          "2020-12-31T00:00:00"
         ],
         "y": [
          12000,
          1442000,
          50000,
          250000,
          5240000,
          20000,
          888325,
          1510000,
          65000,
          370000,
          300000,
          286583,
          370000,
          350000,
          300000,
          160000,
          25000,
          30000,
          1500000
         ]
        },
        {
         "customdata": [
          "On Hold",
          "On Hold",
          "On Hold",
          "On Hold",
          "On Hold",
          "On Hold",
          "On Hold",
          "On Hold",
          "On Hold",
          "On Hold",
          "On Hold"
         ],
         "name": "On Hold",
         "type": "bar",
         "x": [
          "2015-07-01T00:00:00",
          "2020-06-01T00:00:00",
          "2020-06-15T00:00:00",
          "2020-06-30T00:00:00",
          "2020-07-15T00:00:00",
          "2020-08-01T00:00:00",
          "2020-08-15T00:00:00",
          "2020-09-01T00:00:00",
          "2020-10-01T00:00:00",
          "2020-11-01T00:00:00",
          "2020-12-01T00:00:00"
         ],
         "y": [
          45000,
          75000,
          28000,
          150000,
          200000,
          250000,
          270000,
          65000,
          50000,
          300000,
          110000
         ]
        },
        {
         "customdata": [
          "Solution Development",
          "Solution Development",
          "Solution Development"
         ],
         "name": "Solution Development",
         "type": "bar",
         "x": [
          "2020-07-31T00:00:00",
          "2020-08-20T00:00:00",
          "2020-10-31T00:00:00"
         ],
         "y": [
          50000,
          35000,
          330000
         ]
        },
        {
         "customdata": [
          "Lost (why?)"
         ],
         "name": "Lost (why?)",
         "type": "bar",
         "x": [
          "2020-09-15T00:00:00"
         ],
         "y": [
          50000
         ]
        }
       ],
       "layout": {
        "template": {
         "data": {
          "bar": [
           {
            "error_x": {
             "color": "#2a3f5f"
            },
            "error_y": {
             "color": "#2a3f5f"
            },
            "marker": {
             "line": {
              "color": "#E5ECF6",
              "width": 0.5
             }
            },
            "type": "bar"
           }
          ],
          "barpolar": [
           {
            "marker": {
             "line": {
              "color": "#E5ECF6",
              "width": 0.5
             }
            },
            "type": "barpolar"
           }
          ],
          "carpet": [
           {
            "aaxis": {
             "endlinecolor": "#2a3f5f",
             "gridcolor": "white",
             "linecolor": "white",
             "minorgridcolor": "white",
             "startlinecolor": "#2a3f5f"
            },
            "baxis": {
             "endlinecolor": "#2a3f5f",
             "gridcolor": "white",
             "linecolor": "white",
             "minorgridcolor": "white",
             "startlinecolor": "#2a3f5f"
            },
            "type": "carpet"
           }
          ],
          "choropleth": [
           {
            "colorbar": {
             "outlinewidth": 0,
             "ticks": ""
            },
            "type": "choropleth"
           }
          ],
          "contour": [
           {
            "colorbar": {
             "outlinewidth": 0,
             "ticks": ""
            },
            "colorscale": [
             [
              0,
              "#0d0887"
             ],
             [
              0.1111111111111111,
              "#46039f"
             ],
             [
              0.2222222222222222,
              "#7201a8"
             ],
             [
              0.3333333333333333,
              "#9c179e"
             ],
             [
              0.4444444444444444,
              "#bd3786"
             ],
             [
              0.5555555555555556,
              "#d8576b"
             ],
             [
              0.6666666666666666,
              "#ed7953"
             ],
             [
              0.7777777777777778,
              "#fb9f3a"
             ],
             [
              0.8888888888888888,
              "#fdca26"
             ],
             [
              1,
              "#f0f921"
             ]
            ],
            "type": "contour"
           }
          ],
          "contourcarpet": [
           {
            "colorbar": {
             "outlinewidth": 0,
             "ticks": ""
            },
            "type": "contourcarpet"
           }
          ],
          "heatmap": [
           {
            "colorbar": {
             "outlinewidth": 0,
             "ticks": ""
            },
            "colorscale": [
             [
              0,
              "#0d0887"
             ],
             [
              0.1111111111111111,
              "#46039f"
             ],
             [
              0.2222222222222222,
              "#7201a8"
             ],
             [
              0.3333333333333333,
              "#9c179e"
             ],
             [
              0.4444444444444444,
              "#bd3786"
             ],
             [
              0.5555555555555556,
              "#d8576b"
             ],
             [
              0.6666666666666666,
              "#ed7953"
             ],
             [
              0.7777777777777778,
              "#fb9f3a"
             ],
             [
              0.8888888888888888,
              "#fdca26"
             ],
             [
              1,
              "#f0f921"
             ]
            ],
            "type": "heatmap"
           }
          ],
          "heatmapgl": [
           {
            "colorbar": {
             "outlinewidth": 0,
             "ticks": ""
            },
            "colorscale": [
             [
              0,
              "#0d0887"
             ],
             [
              0.1111111111111111,
              "#46039f"
             ],
             [
              0.2222222222222222,
              "#7201a8"
             ],
             [
              0.3333333333333333,
              "#9c179e"
             ],
             [
              0.4444444444444444,
              "#bd3786"
             ],
             [
              0.5555555555555556,
              "#d8576b"
             ],
             [
              0.6666666666666666,
              "#ed7953"
             ],
             [
              0.7777777777777778,
              "#fb9f3a"
             ],
             [
              0.8888888888888888,
              "#fdca26"
             ],
             [
              1,
              "#f0f921"
             ]
            ],
            "type": "heatmapgl"
           }
          ],
          "histogram": [
           {
            "marker": {
             "colorbar": {
              "outlinewidth": 0,
              "ticks": ""
             }
            },
            "type": "histogram"
           }
          ],
          "histogram2d": [
           {
            "colorbar": {
             "outlinewidth": 0,
             "ticks": ""
            },
            "colorscale": [
             [
              0,
              "#0d0887"
             ],
             [
              0.1111111111111111,
              "#46039f"
             ],
             [
              0.2222222222222222,
              "#7201a8"
             ],
             [
              0.3333333333333333,
              "#9c179e"
             ],
             [
              0.4444444444444444,
              "#bd3786"
             ],
             [
              0.5555555555555556,
              "#d8576b"
             ],
             [
              0.6666666666666666,
              "#ed7953"
             ],
             [
              0.7777777777777778,
              "#fb9f3a"
             ],
             [
              0.8888888888888888,
              "#fdca26"
             ],
             [
              1,
              "#f0f921"
             ]
            ],
            "type": "histogram2d"
           }
          ],
          "histogram2dcontour": [
           {
            "colorbar": {
             "outlinewidth": 0,
             "ticks": ""
            },
            "colorscale": [
             [
              0,
              "#0d0887"
             ],
             [
              0.1111111111111111,
              "#46039f"
             ],
             [
              0.2222222222222222,
              "#7201a8"
             ],
             [
              0.3333333333333333,
              "#9c179e"
             ],
             [
              0.4444444444444444,
              "#bd3786"
             ],
             [
              0.5555555555555556,
              "#d8576b"
             ],
             [
              0.6666666666666666,
              "#ed7953"
             ],
             [
              0.7777777777777778,
              "#fb9f3a"
             ],
             [
              0.8888888888888888,
              "#fdca26"
             ],
             [
              1,
              "#f0f921"
             ]
            ],
            "type": "histogram2dcontour"
           }
          ],
          "mesh3d": [
           {
            "colorbar": {
             "outlinewidth": 0,
             "ticks": ""
            },
            "type": "mesh3d"
           }
          ],
          "parcoords": [
           {
            "line": {
             "colorbar": {
              "outlinewidth": 0,
              "ticks": ""
             }
            },
            "type": "parcoords"
           }
          ],
          "pie": [
           {
            "automargin": true,
            "type": "pie"
           }
          ],
          "scatter": [
           {
            "marker": {
             "colorbar": {
              "outlinewidth": 0,
              "ticks": ""
             }
            },
            "type": "scatter"
           }
          ],
          "scatter3d": [
           {
            "line": {
             "colorbar": {
              "outlinewidth": 0,
              "ticks": ""
             }
            },
            "marker": {
             "colorbar": {
              "outlinewidth": 0,
              "ticks": ""
             }
            },
            "type": "scatter3d"
           }
          ],
          "scattercarpet": [
           {
            "marker": {
             "colorbar": {
              "outlinewidth": 0,
              "ticks": ""
             }
            },
            "type": "scattercarpet"
           }
          ],
          "scattergeo": [
           {
            "marker": {
             "colorbar": {
              "outlinewidth": 0,
              "ticks": ""
             }
            },
            "type": "scattergeo"
           }
          ],
          "scattergl": [
           {
            "marker": {
             "colorbar": {
              "outlinewidth": 0,
              "ticks": ""
             }
            },
            "type": "scattergl"
           }
          ],
          "scattermapbox": [
           {
            "marker": {
             "colorbar": {
              "outlinewidth": 0,
              "ticks": ""
             }
            },
            "type": "scattermapbox"
           }
          ],
          "scatterpolar": [
           {
            "marker": {
             "colorbar": {
              "outlinewidth": 0,
              "ticks": ""
             }
            },
            "type": "scatterpolar"
           }
          ],
          "scatterpolargl": [
           {
            "marker": {
             "colorbar": {
              "outlinewidth": 0,
              "ticks": ""
             }
            },
            "type": "scatterpolargl"
           }
          ],
          "scatterternary": [
           {
            "marker": {
             "colorbar": {
              "outlinewidth": 0,
              "ticks": ""
             }
            },
            "type": "scatterternary"
           }
          ],
          "surface": [
           {
            "colorbar": {
             "outlinewidth": 0,
             "ticks": ""
            },
            "colorscale": [
             [
              0,
              "#0d0887"
             ],
             [
              0.1111111111111111,
              "#46039f"
             ],
             [
              0.2222222222222222,
              "#7201a8"
             ],
             [
              0.3333333333333333,
              "#9c179e"
             ],
             [
              0.4444444444444444,
              "#bd3786"
             ],
             [
              0.5555555555555556,
              "#d8576b"
             ],
             [
              0.6666666666666666,
              "#ed7953"
             ],
             [
              0.7777777777777778,
              "#fb9f3a"
             ],
             [
              0.8888888888888888,
              "#fdca26"
             ],
             [
              1,
              "#f0f921"
             ]
            ],
            "type": "surface"
           }
          ],
          "table": [
           {
            "cells": {
             "fill": {
              "color": "#EBF0F8"
             },
             "line": {
              "color": "white"
             }
            },
            "header": {
             "fill": {
              "color": "#C8D4E3"
             },
             "line": {
              "color": "white"
             }
            },
            "type": "table"
           }
          ]
         },
         "layout": {
          "annotationdefaults": {
           "arrowcolor": "#2a3f5f",
           "arrowhead": 0,
           "arrowwidth": 1
          },
          "coloraxis": {
           "colorbar": {
            "outlinewidth": 0,
            "ticks": ""
           }
          },
          "colorscale": {
           "diverging": [
            [
             0,
             "#8e0152"
            ],
            [
             0.1,
             "#c51b7d"
            ],
            [
             0.2,
             "#de77ae"
            ],
            [
             0.3,
             "#f1b6da"
            ],
            [
             0.4,
             "#fde0ef"
            ],
            [
             0.5,
             "#f7f7f7"
            ],
            [
             0.6,
             "#e6f5d0"
            ],
            [
             0.7,
             "#b8e186"
            ],
            [
             0.8,
             "#7fbc41"
            ],
            [
             0.9,
             "#4d9221"
            ],
            [
             1,
             "#276419"
            ]
           ],
           "sequential": [
            [
             0,
             "#0d0887"
            ],
            [
             0.1111111111111111,
             "#46039f"
            ],
            [
             0.2222222222222222,
             "#7201a8"
            ],
            [
             0.3333333333333333,
             "#9c179e"
            ],
            [
             0.4444444444444444,
             "#bd3786"
            ],
            [
             0.5555555555555556,
             "#d8576b"
            ],
            [
             0.6666666666666666,
             "#ed7953"
            ],
            [
             0.7777777777777778,
             "#fb9f3a"
            ],
            [
             0.8888888888888888,
             "#fdca26"
            ],
            [
             1,
             "#f0f921"
            ]
           ],
           "sequentialminus": [
            [
             0,
             "#0d0887"
            ],
            [
             0.1111111111111111,
             "#46039f"
            ],
            [
             0.2222222222222222,
             "#7201a8"
            ],
            [
             0.3333333333333333,
             "#9c179e"
            ],
            [
             0.4444444444444444,
             "#bd3786"
            ],
            [
             0.5555555555555556,
             "#d8576b"
            ],
            [
             0.6666666666666666,
             "#ed7953"
            ],
            [
             0.7777777777777778,
             "#fb9f3a"
            ],
            [
             0.8888888888888888,
             "#fdca26"
            ],
            [
             1,
             "#f0f921"
            ]
           ]
          },
          "colorway": [
           "#636efa",
           "#EF553B",
           "#00cc96",
           "#ab63fa",
           "#FFA15A",
           "#19d3f3",
           "#FF6692",
           "#B6E880",
           "#FF97FF",
           "#FECB52"
          ],
          "font": {
           "color": "#2a3f5f"
          },
          "geo": {
           "bgcolor": "white",
           "lakecolor": "white",
           "landcolor": "#E5ECF6",
           "showlakes": true,
           "showland": true,
           "subunitcolor": "white"
          },
          "hoverlabel": {
           "align": "left"
          },
          "hovermode": "closest",
          "mapbox": {
           "style": "light"
          },
          "paper_bgcolor": "white",
          "plot_bgcolor": "#E5ECF6",
          "polar": {
           "angularaxis": {
            "gridcolor": "white",
            "linecolor": "white",
            "ticks": ""
           },
           "bgcolor": "#E5ECF6",
           "radialaxis": {
            "gridcolor": "white",
            "linecolor": "white",
            "ticks": ""
           }
          },
          "scene": {
           "xaxis": {
            "backgroundcolor": "#E5ECF6",
            "gridcolor": "white",
            "gridwidth": 2,
            "linecolor": "white",
            "showbackground": true,
            "ticks": "",
            "zerolinecolor": "white"
           },
           "yaxis": {
            "backgroundcolor": "#E5ECF6",
            "gridcolor": "white",
            "gridwidth": 2,
            "linecolor": "white",
            "showbackground": true,
            "ticks": "",
            "zerolinecolor": "white"
           },
           "zaxis": {
            "backgroundcolor": "#E5ECF6",
            "gridcolor": "white",
            "gridwidth": 2,
            "linecolor": "white",
            "showbackground": true,
            "ticks": "",
            "zerolinecolor": "white"
           }
          },
          "shapedefaults": {
           "line": {
            "color": "#2a3f5f"
           }
          },
          "ternary": {
           "aaxis": {
            "gridcolor": "white",
            "linecolor": "white",
            "ticks": ""
           },
           "baxis": {
            "gridcolor": "white",
            "linecolor": "white",
            "ticks": ""
           },
           "bgcolor": "#E5ECF6",
           "caxis": {
            "gridcolor": "white",
            "linecolor": "white",
            "ticks": ""
           }
          },
          "title": {
           "x": 0.05
          },
          "xaxis": {
           "automargin": true,
           "gridcolor": "white",
           "linecolor": "white",
           "ticks": "",
           "title": {
            "standoff": 15
           },
           "zerolinecolor": "white",
           "zerolinewidth": 2
          },
          "yaxis": {
           "automargin": true,
           "gridcolor": "white",
           "linecolor": "white",
           "ticks": "",
           "title": {
            "standoff": 15
           },
           "zerolinecolor": "white",
           "zerolinewidth": 2
          }
         }
        }
       }
      },
      "text/html": [
       "<div>\n",
       "        \n",
       "        \n",
       "            <div id=\"2cbd0482-08a7-43f3-aad8-263458ae9722\" class=\"plotly-graph-div\" style=\"height:525px; width:100%;\"></div>\n",
       "            <script type=\"text/javascript\">\n",
       "                require([\"plotly\"], function(Plotly) {\n",
       "                    window.PLOTLYENV=window.PLOTLYENV || {};\n",
       "                    \n",
       "                if (document.getElementById(\"2cbd0482-08a7-43f3-aad8-263458ae9722\")) {\n",
       "                    Plotly.newPlot(\n",
       "                        '2cbd0482-08a7-43f3-aad8-263458ae9722',\n",
       "                        [{\"customdata\": [\"Quoting\", \"Quoting\", \"Quoting\", \"Quoting\", \"Quoting\", \"Quoting\", \"Quoting\", \"Quoting\", \"Quoting\", \"Quoting\", \"Quoting\", \"Quoting\", \"Quoting\", \"Quoting\", \"Quoting\", \"Quoting\", \"Quoting\", \"Quoting\", \"Quoting\", \"Quoting\", \"Quoting\", \"Quoting\", \"Quoting\", \"Quoting\", \"Quoting\"], \"name\": \"Quoting\", \"type\": \"bar\", \"x\": [\"2020-05-01T00:00:00\", \"2020-05-20T00:00:00\", \"2020-05-25T00:00:00\", \"2020-05-28T00:00:00\", \"2020-05-29T00:00:00\", \"2020-05-31T00:00:00\", \"2020-06-01T00:00:00\", \"2020-06-03T00:00:00\", \"2020-06-04T00:00:00\", \"2020-06-05T00:00:00\", \"2020-06-10T00:00:00\", \"2020-06-15T00:00:00\", \"2020-06-20T00:00:00\", \"2020-06-30T00:00:00\", \"2020-07-01T00:00:00\", \"2020-07-15T00:00:00\", \"2020-07-30T00:00:00\", \"2020-07-31T00:00:00\", \"2020-08-01T00:00:00\", \"2020-09-01T00:00:00\", \"2020-10-01T00:00:00\", \"2020-10-15T00:00:00\", \"2020-10-31T00:00:00\", \"2020-12-01T00:00:00\", \"2021-01-30T00:00:00\"], \"y\": [80000, 10000, 10000, 20000, 12000, 230000, 234500, 20000, 125000, 316000, 60000, 315840, 35000, 655222, 232226, 168000, 24700, 486350, 364753, 250000, 225000, 250000, 1160000, 790000, 125000]}, {\"customdata\": [\"Discovery (S.P.I.N.)\", \"Discovery (S.P.I.N.)\", \"Discovery (S.P.I.N.)\", \"Discovery (S.P.I.N.)\", \"Discovery (S.P.I.N.)\", \"Discovery (S.P.I.N.)\", \"Discovery (S.P.I.N.)\", \"Discovery (S.P.I.N.)\", \"Discovery (S.P.I.N.)\", \"Discovery (S.P.I.N.)\", \"Discovery (S.P.I.N.)\", \"Discovery (S.P.I.N.)\", \"Discovery (S.P.I.N.)\", \"Discovery (S.P.I.N.)\"], \"name\": \"Discovery (S.P.I.N.)\", \"type\": \"bar\", \"x\": [\"2020-06-01T00:00:00\", \"2020-06-15T00:00:00\", \"2020-07-01T00:00:00\", \"2020-07-15T00:00:00\", \"2020-08-01T00:00:00\", \"2020-09-01T00:00:00\", \"2020-09-30T00:00:00\", \"2020-10-01T00:00:00\", \"2020-10-15T00:00:00\", \"2020-10-21T00:00:00\", \"2020-10-31T00:00:00\", \"2020-11-15T00:00:00\", \"2020-12-01T00:00:00\", \"2021-01-01T00:00:00\"], \"y\": [50000, 55000, 295000, 45000, 315000, 388404, 100000, 125000, 10000, 30000, 40000, 500000, 1500000, 175000]}, {\"customdata\": [\"Won\", \"Won\", \"Won\", \"Won\", \"Won\", \"Won\", \"Won\", \"Won\", \"Won\", \"Won\", \"Won\", \"Won\", \"Won\"], \"name\": \"Won\", \"type\": \"bar\", \"x\": [\"2020-02-01T00:00:00\", \"2020-04-15T00:00:00\", \"2020-05-14T00:00:00\", \"2020-05-15T00:00:00\", \"2020-05-19T00:00:00\", \"2020-05-20T00:00:00\", \"2020-05-28T00:00:00\", \"2020-05-29T00:00:00\", \"2020-05-31T00:00:00\", \"2020-06-10T00:00:00\", \"2020-06-15T00:00:00\", \"2020-06-30T00:00:00\", \"2020-10-31T00:00:00\"], \"y\": [80000, 7000, 100000, 105000, 7500, 18540, 125000, 70000, 163694, 224000, 250000, 25000, 20000]}, {\"customdata\": [\"Working\", \"Working\", \"Working\", \"Working\", \"Working\", \"Working\", \"Working\", \"Working\", \"Working\", \"Working\", \"Working\", \"Working\", \"Working\", \"Working\", \"Working\", \"Working\", \"Working\", \"Working\", \"Working\"], \"name\": \"Working\", \"type\": \"bar\", \"x\": [\"2020-05-31T00:00:00\", \"2020-06-01T00:00:00\", \"2020-06-03T00:00:00\", \"2020-06-10T00:00:00\", \"2020-06-15T00:00:00\", \"2020-06-22T00:00:00\", \"2020-06-30T00:00:00\", \"2020-07-01T00:00:00\", \"2020-07-08T00:00:00\", \"2020-07-15T00:00:00\", \"2020-07-30T00:00:00\", \"2020-07-31T00:00:00\", \"2020-08-01T00:00:00\", \"2020-09-01T00:00:00\", \"2020-10-01T00:00:00\", \"2020-10-05T00:00:00\", \"2020-10-15T00:00:00\", \"2020-10-31T00:00:00\", \"2020-12-31T00:00:00\"], \"y\": [12000, 1442000, 50000, 250000, 5240000, 20000, 888325, 1510000, 65000, 370000, 300000, 286583, 370000, 350000, 300000, 160000, 25000, 30000, 1500000]}, {\"customdata\": [\"On Hold\", \"On Hold\", \"On Hold\", \"On Hold\", \"On Hold\", \"On Hold\", \"On Hold\", \"On Hold\", \"On Hold\", \"On Hold\", \"On Hold\"], \"name\": \"On Hold\", \"type\": \"bar\", \"x\": [\"2015-07-01T00:00:00\", \"2020-06-01T00:00:00\", \"2020-06-15T00:00:00\", \"2020-06-30T00:00:00\", \"2020-07-15T00:00:00\", \"2020-08-01T00:00:00\", \"2020-08-15T00:00:00\", \"2020-09-01T00:00:00\", \"2020-10-01T00:00:00\", \"2020-11-01T00:00:00\", \"2020-12-01T00:00:00\"], \"y\": [45000, 75000, 28000, 150000, 200000, 250000, 270000, 65000, 50000, 300000, 110000]}, {\"customdata\": [\"Solution Development\", \"Solution Development\", \"Solution Development\"], \"name\": \"Solution Development\", \"type\": \"bar\", \"x\": [\"2020-07-31T00:00:00\", \"2020-08-20T00:00:00\", \"2020-10-31T00:00:00\"], \"y\": [50000, 35000, 330000]}, {\"customdata\": [\"Lost (why?)\"], \"name\": \"Lost (why?)\", \"type\": \"bar\", \"x\": [\"2020-09-15T00:00:00\"], \"y\": [50000]}],\n",
       "                        {\"template\": {\"data\": {\"bar\": [{\"error_x\": {\"color\": \"#2a3f5f\"}, \"error_y\": {\"color\": \"#2a3f5f\"}, \"marker\": {\"line\": {\"color\": \"#E5ECF6\", \"width\": 0.5}}, \"type\": \"bar\"}], \"barpolar\": [{\"marker\": {\"line\": {\"color\": \"#E5ECF6\", \"width\": 0.5}}, \"type\": \"barpolar\"}], \"carpet\": [{\"aaxis\": {\"endlinecolor\": \"#2a3f5f\", \"gridcolor\": \"white\", \"linecolor\": \"white\", \"minorgridcolor\": \"white\", \"startlinecolor\": \"#2a3f5f\"}, \"baxis\": {\"endlinecolor\": \"#2a3f5f\", \"gridcolor\": \"white\", \"linecolor\": \"white\", \"minorgridcolor\": \"white\", \"startlinecolor\": \"#2a3f5f\"}, \"type\": \"carpet\"}], \"choropleth\": [{\"colorbar\": {\"outlinewidth\": 0, \"ticks\": \"\"}, \"type\": \"choropleth\"}], \"contour\": [{\"colorbar\": {\"outlinewidth\": 0, \"ticks\": \"\"}, \"colorscale\": [[0.0, \"#0d0887\"], [0.1111111111111111, \"#46039f\"], [0.2222222222222222, \"#7201a8\"], [0.3333333333333333, \"#9c179e\"], [0.4444444444444444, \"#bd3786\"], [0.5555555555555556, \"#d8576b\"], [0.6666666666666666, \"#ed7953\"], [0.7777777777777778, \"#fb9f3a\"], [0.8888888888888888, \"#fdca26\"], [1.0, \"#f0f921\"]], \"type\": \"contour\"}], \"contourcarpet\": [{\"colorbar\": {\"outlinewidth\": 0, \"ticks\": \"\"}, \"type\": \"contourcarpet\"}], \"heatmap\": [{\"colorbar\": {\"outlinewidth\": 0, \"ticks\": \"\"}, \"colorscale\": [[0.0, \"#0d0887\"], [0.1111111111111111, \"#46039f\"], [0.2222222222222222, \"#7201a8\"], [0.3333333333333333, \"#9c179e\"], [0.4444444444444444, \"#bd3786\"], [0.5555555555555556, \"#d8576b\"], [0.6666666666666666, \"#ed7953\"], [0.7777777777777778, \"#fb9f3a\"], [0.8888888888888888, \"#fdca26\"], [1.0, \"#f0f921\"]], \"type\": \"heatmap\"}], \"heatmapgl\": [{\"colorbar\": {\"outlinewidth\": 0, \"ticks\": \"\"}, \"colorscale\": [[0.0, \"#0d0887\"], [0.1111111111111111, \"#46039f\"], [0.2222222222222222, \"#7201a8\"], [0.3333333333333333, \"#9c179e\"], [0.4444444444444444, \"#bd3786\"], [0.5555555555555556, \"#d8576b\"], [0.6666666666666666, \"#ed7953\"], [0.7777777777777778, \"#fb9f3a\"], [0.8888888888888888, \"#fdca26\"], [1.0, \"#f0f921\"]], \"type\": \"heatmapgl\"}], \"histogram\": [{\"marker\": {\"colorbar\": {\"outlinewidth\": 0, \"ticks\": \"\"}}, \"type\": \"histogram\"}], \"histogram2d\": [{\"colorbar\": {\"outlinewidth\": 0, \"ticks\": \"\"}, \"colorscale\": [[0.0, \"#0d0887\"], [0.1111111111111111, \"#46039f\"], [0.2222222222222222, \"#7201a8\"], [0.3333333333333333, \"#9c179e\"], [0.4444444444444444, \"#bd3786\"], [0.5555555555555556, \"#d8576b\"], [0.6666666666666666, \"#ed7953\"], [0.7777777777777778, \"#fb9f3a\"], [0.8888888888888888, \"#fdca26\"], [1.0, \"#f0f921\"]], \"type\": \"histogram2d\"}], \"histogram2dcontour\": [{\"colorbar\": {\"outlinewidth\": 0, \"ticks\": \"\"}, \"colorscale\": [[0.0, \"#0d0887\"], [0.1111111111111111, \"#46039f\"], [0.2222222222222222, \"#7201a8\"], [0.3333333333333333, \"#9c179e\"], [0.4444444444444444, \"#bd3786\"], [0.5555555555555556, \"#d8576b\"], [0.6666666666666666, \"#ed7953\"], [0.7777777777777778, \"#fb9f3a\"], [0.8888888888888888, \"#fdca26\"], [1.0, \"#f0f921\"]], \"type\": \"histogram2dcontour\"}], \"mesh3d\": [{\"colorbar\": {\"outlinewidth\": 0, \"ticks\": \"\"}, \"type\": \"mesh3d\"}], \"parcoords\": [{\"line\": {\"colorbar\": {\"outlinewidth\": 0, \"ticks\": \"\"}}, \"type\": \"parcoords\"}], \"pie\": [{\"automargin\": true, \"type\": \"pie\"}], \"scatter\": [{\"marker\": {\"colorbar\": {\"outlinewidth\": 0, \"ticks\": \"\"}}, \"type\": \"scatter\"}], \"scatter3d\": [{\"line\": {\"colorbar\": {\"outlinewidth\": 0, \"ticks\": \"\"}}, \"marker\": {\"colorbar\": {\"outlinewidth\": 0, \"ticks\": \"\"}}, \"type\": \"scatter3d\"}], \"scattercarpet\": [{\"marker\": {\"colorbar\": {\"outlinewidth\": 0, \"ticks\": \"\"}}, \"type\": \"scattercarpet\"}], \"scattergeo\": [{\"marker\": {\"colorbar\": {\"outlinewidth\": 0, \"ticks\": \"\"}}, \"type\": \"scattergeo\"}], \"scattergl\": [{\"marker\": {\"colorbar\": {\"outlinewidth\": 0, \"ticks\": \"\"}}, \"type\": \"scattergl\"}], \"scattermapbox\": [{\"marker\": {\"colorbar\": {\"outlinewidth\": 0, \"ticks\": \"\"}}, \"type\": \"scattermapbox\"}], \"scatterpolar\": [{\"marker\": {\"colorbar\": {\"outlinewidth\": 0, \"ticks\": \"\"}}, \"type\": \"scatterpolar\"}], \"scatterpolargl\": [{\"marker\": {\"colorbar\": {\"outlinewidth\": 0, \"ticks\": \"\"}}, \"type\": \"scatterpolargl\"}], \"scatterternary\": [{\"marker\": {\"colorbar\": {\"outlinewidth\": 0, \"ticks\": \"\"}}, \"type\": \"scatterternary\"}], \"surface\": [{\"colorbar\": {\"outlinewidth\": 0, \"ticks\": \"\"}, \"colorscale\": [[0.0, \"#0d0887\"], [0.1111111111111111, \"#46039f\"], [0.2222222222222222, \"#7201a8\"], [0.3333333333333333, \"#9c179e\"], [0.4444444444444444, \"#bd3786\"], [0.5555555555555556, \"#d8576b\"], [0.6666666666666666, \"#ed7953\"], [0.7777777777777778, \"#fb9f3a\"], [0.8888888888888888, \"#fdca26\"], [1.0, \"#f0f921\"]], \"type\": \"surface\"}], \"table\": [{\"cells\": {\"fill\": {\"color\": \"#EBF0F8\"}, \"line\": {\"color\": \"white\"}}, \"header\": {\"fill\": {\"color\": \"#C8D4E3\"}, \"line\": {\"color\": \"white\"}}, \"type\": \"table\"}]}, \"layout\": {\"annotationdefaults\": {\"arrowcolor\": \"#2a3f5f\", \"arrowhead\": 0, \"arrowwidth\": 1}, \"coloraxis\": {\"colorbar\": {\"outlinewidth\": 0, \"ticks\": \"\"}}, \"colorscale\": {\"diverging\": [[0, \"#8e0152\"], [0.1, \"#c51b7d\"], [0.2, \"#de77ae\"], [0.3, \"#f1b6da\"], [0.4, \"#fde0ef\"], [0.5, \"#f7f7f7\"], [0.6, \"#e6f5d0\"], [0.7, \"#b8e186\"], [0.8, \"#7fbc41\"], [0.9, \"#4d9221\"], [1, \"#276419\"]], \"sequential\": [[0.0, \"#0d0887\"], [0.1111111111111111, \"#46039f\"], [0.2222222222222222, \"#7201a8\"], [0.3333333333333333, \"#9c179e\"], [0.4444444444444444, \"#bd3786\"], [0.5555555555555556, \"#d8576b\"], [0.6666666666666666, \"#ed7953\"], [0.7777777777777778, \"#fb9f3a\"], [0.8888888888888888, \"#fdca26\"], [1.0, \"#f0f921\"]], \"sequentialminus\": [[0.0, \"#0d0887\"], [0.1111111111111111, \"#46039f\"], [0.2222222222222222, \"#7201a8\"], [0.3333333333333333, \"#9c179e\"], [0.4444444444444444, \"#bd3786\"], [0.5555555555555556, \"#d8576b\"], [0.6666666666666666, \"#ed7953\"], [0.7777777777777778, \"#fb9f3a\"], [0.8888888888888888, \"#fdca26\"], [1.0, \"#f0f921\"]]}, \"colorway\": [\"#636efa\", \"#EF553B\", \"#00cc96\", \"#ab63fa\", \"#FFA15A\", \"#19d3f3\", \"#FF6692\", \"#B6E880\", \"#FF97FF\", \"#FECB52\"], \"font\": {\"color\": \"#2a3f5f\"}, \"geo\": {\"bgcolor\": \"white\", \"lakecolor\": \"white\", \"landcolor\": \"#E5ECF6\", \"showlakes\": true, \"showland\": true, \"subunitcolor\": \"white\"}, \"hoverlabel\": {\"align\": \"left\"}, \"hovermode\": \"closest\", \"mapbox\": {\"style\": \"light\"}, \"paper_bgcolor\": \"white\", \"plot_bgcolor\": \"#E5ECF6\", \"polar\": {\"angularaxis\": {\"gridcolor\": \"white\", \"linecolor\": \"white\", \"ticks\": \"\"}, \"bgcolor\": \"#E5ECF6\", \"radialaxis\": {\"gridcolor\": \"white\", \"linecolor\": \"white\", \"ticks\": \"\"}}, \"scene\": {\"xaxis\": {\"backgroundcolor\": \"#E5ECF6\", \"gridcolor\": \"white\", \"gridwidth\": 2, \"linecolor\": \"white\", \"showbackground\": true, \"ticks\": \"\", \"zerolinecolor\": \"white\"}, \"yaxis\": {\"backgroundcolor\": \"#E5ECF6\", \"gridcolor\": \"white\", \"gridwidth\": 2, \"linecolor\": \"white\", \"showbackground\": true, \"ticks\": \"\", \"zerolinecolor\": \"white\"}, \"zaxis\": {\"backgroundcolor\": \"#E5ECF6\", \"gridcolor\": \"white\", \"gridwidth\": 2, \"linecolor\": \"white\", \"showbackground\": true, \"ticks\": \"\", \"zerolinecolor\": \"white\"}}, \"shapedefaults\": {\"line\": {\"color\": \"#2a3f5f\"}}, \"ternary\": {\"aaxis\": {\"gridcolor\": \"white\", \"linecolor\": \"white\", \"ticks\": \"\"}, \"baxis\": {\"gridcolor\": \"white\", \"linecolor\": \"white\", \"ticks\": \"\"}, \"bgcolor\": \"#E5ECF6\", \"caxis\": {\"gridcolor\": \"white\", \"linecolor\": \"white\", \"ticks\": \"\"}}, \"title\": {\"x\": 0.05}, \"xaxis\": {\"automargin\": true, \"gridcolor\": \"white\", \"linecolor\": \"white\", \"ticks\": \"\", \"title\": {\"standoff\": 15}, \"zerolinecolor\": \"white\", \"zerolinewidth\": 2}, \"yaxis\": {\"automargin\": true, \"gridcolor\": \"white\", \"linecolor\": \"white\", \"ticks\": \"\", \"title\": {\"standoff\": 15}, \"zerolinecolor\": \"white\", \"zerolinewidth\": 2}}}},\n",
       "                        {\"responsive\": true}\n",
       "                    ).then(function(){\n",
       "                            \n",
       "var gd = document.getElementById('2cbd0482-08a7-43f3-aad8-263458ae9722');\n",
       "var x = new MutationObserver(function (mutations, observer) {{\n",
       "        var display = window.getComputedStyle(gd).display;\n",
       "        if (!display || display === 'none') {{\n",
       "            console.log([gd, 'removed!']);\n",
       "            Plotly.purge(gd);\n",
       "            observer.disconnect();\n",
       "        }}\n",
       "}});\n",
       "\n",
       "// Listen for the removal of the full notebook cells\n",
       "var notebookContainer = gd.closest('#notebook-container');\n",
       "if (notebookContainer) {{\n",
       "    x.observe(notebookContainer, {childList: true});\n",
       "}}\n",
       "\n",
       "// Listen for the clearing of the current output cell\n",
       "var outputEl = gd.closest('.output');\n",
       "if (outputEl) {{\n",
       "    x.observe(outputEl, {childList: true});\n",
       "}}\n",
       "\n",
       "                        })\n",
       "                };\n",
       "                });\n",
       "            </script>\n",
       "        </div>"
      ]
     },
     "metadata": {},
     "output_type": "display_data"
    }
   ],
   "source": [
    "group = \"Stage\"\n",
    "numerical_group = \"PotentialValue\"\n",
    "\n",
    "fig = go.Figure()\n",
    "for t in df_num[group].unique():\n",
    "    x = df_num[df_num[group]==t].groupby(\"ExpectedOrderDate\").sum()[[numerical_group]].index\n",
    "    y = list(df_num[df_num[group]==t].groupby(\"ExpectedOrderDate\").sum()[numerical_group])\n",
    "    fig.add_trace(go.Bar(x=x,y=y,name=t,customdata=[t]*len(x)))\n",
    "#fig.update_traces(customdata=dff[dff['Indicator Name'] == yaxis_column_name]['Country Name'])\n",
    "print(fig)\n",
    "fig.show()"
   ]
  },
  {
   "cell_type": "code",
   "execution_count": 169,
   "metadata": {},
   "outputs": [
    {
     "data": {
      "application/vnd.jupyter.widget-view+json": {
       "model_id": "586d020e559748daa51bd367d4d7f765",
       "version_major": 2,
       "version_minor": 0
      },
      "text/plain": [
       "FigureWidget({\n",
       "    'data': [{'marker': {'color': 'gray'},\n",
       "              'mode': 'markers',\n",
       "              'sele…"
      ]
     },
     "metadata": {},
     "output_type": "display_data"
    }
   ],
   "source": [
    "x_axis = \"ProbPercent\"\n",
    "y_axis = \"PotentialValue\"\n",
    "\n",
    "# Build parcats dimensions\n",
    "categorical_dimensions = ['Type',\"LeadType\",\"Stage\"];\n",
    "\n",
    "dimensions = [dict(values=df_num[label], label=label) for label in categorical_dimensions]\n",
    "\n",
    "# Build colorscale\n",
    "color = np.zeros(len(df_num), dtype='uint8')\n",
    "colorscale = [[0, 'gray'], [1, 'firebrick']]\n",
    "\n",
    "# Build figure as FigureWidget\n",
    "fig = go.FigureWidget(\n",
    "    data=[go.Scatter(x=df_num[x_axis], y=df_num[y_axis],\n",
    "    marker={'color': 'gray'}, mode='markers', selected={'marker': {'color': 'firebrick'}},\n",
    "    unselected={'marker': {'opacity': 0.3}}), go.Parcats(\n",
    "        domain={'y': [0, 0.4]}, dimensions=dimensions,\n",
    "        line={'colorscale': colorscale, 'cmin': 0,\n",
    "              'cmax': 1, 'color': color, 'shape': 'hspline'})\n",
    "    ])\n",
    "\n",
    "fig.update_layout(\n",
    "        height=800, xaxis={'title': 'Horsepower'},\n",
    "        yaxis={'title': 'MPG', 'domain': [0.6, 1]},\n",
    "        dragmode='lasso', hovermode='closest',)\n",
    "\n",
    "# Update color callback\n",
    "def update_color(trace, points, state):\n",
    "    # Update scatter selection\n",
    "    fig.data[0].selectedpoints = points.point_inds\n",
    "\n",
    "    # Update parcats colors\n",
    "    new_color = np.zeros(len(df_num), dtype='uint8')\n",
    "    new_color[points.point_inds] = 1\n",
    "    fig.data[1].line.color = new_color\n",
    "\n",
    "# Register callback on scatter selection...\n",
    "fig.data[0].on_selection(update_color)\n",
    "# and parcats click\n",
    "fig.data[1].on_click(update_color)\n",
    "\n",
    "fig.update_layout(\n",
    "    margin=dict(l=0, r=15, t=0, b=10),\n",
    "    #paper_bgcolor=\"lightcyan\",\n",
    "    #plot_bgcolor='lightsteelblue' #gainsboro, lightsteelblue lightsalmon lightgreen lightpink lightcyan lightblue black\n",
    ")\n",
    "\n",
    "\n",
    "\n",
    "fig"
   ]
  },
  {
   "cell_type": "code",
   "execution_count": 104,
   "metadata": {},
   "outputs": [
    {
     "data": {
      "text/plain": [
       "array([[ 6.894840e-01, -1.445900e-02,  4.287510e-01],\n",
       "       [ 4.764830e-01,  1.626240e-01,  4.494880e-01],\n",
       "       [ 5.867700e-01,  1.021490e-01,  7.694810e-01],\n",
       "       [ 1.068768e+00,  6.786680e-01,  1.023915e+00],\n",
       "       [ 1.438060e+00,  6.836330e-01,  7.523970e-01],\n",
       "       [ 1.483567e+00,  1.404790e-01,  1.389489e+00],\n",
       "       [ 1.163844e+00,  1.255220e-01,  1.098527e+00],\n",
       "       [ 1.491083e+00,  3.176400e-01,  7.603760e-01],\n",
       "       [ 1.970356e+00,  3.896280e-01,  6.312790e-01],\n",
       "       [ 1.961689e+00,  1.446440e-01,  2.544620e-01],\n",
       "       [ 1.823355e+00,  3.096930e-01,  1.512250e-01],\n",
       "       [ 1.868743e+00,  1.712450e-01, -1.602350e-01],\n",
       "       [ 1.437345e+00,  7.810930e-01, -5.696700e-01],\n",
       "       [ 1.248269e+00,  4.291510e-01, -7.954030e-01],\n",
       "       [ 1.108745e+00,  2.331320e-01, -7.449530e-01],\n",
       "       [ 1.670774e+00, -8.078500e-02, -8.203390e-01],\n",
       "       [ 1.503391e+00, -1.799390e-01, -7.918390e-01],\n",
       "       [ 1.406028e+00,  2.585800e-02, -9.678300e-01],\n",
       "       [ 1.971070e+00,  3.093690e-01, -6.514200e-01],\n",
       "       [ 1.853437e+00,  6.583400e-01, -6.610800e-01],\n",
       "       [ 1.361601e+00,  4.439530e-01, -1.264880e-01],\n",
       "       [ 1.139926e+00,  1.295734e+00,  1.141520e-01],\n",
       "       [ 1.949556e+00,  1.032481e+00,  4.173030e-01],\n",
       "       [ 2.323108e+00,  6.655700e-01,  6.155440e-01],\n",
       "       [ 2.558936e+00,  2.271900e-01,  3.851850e-01],\n",
       "       [ 2.650508e+00,  8.177910e-01,  1.868610e-01],\n",
       "       [ 2.431305e+00,  1.189158e+00, -8.580000e-02],\n",
       "       [ 2.026224e+00,  1.167509e+00, -1.209760e-01],\n",
       "       [ 1.971259e+00,  4.999640e-01, -3.500200e-02],\n",
       "       [ 1.168452e+00,  6.830570e-01, -3.099090e-01],\n",
       "       [ 1.342775e+00,  6.721410e-01, -2.084390e-01],\n",
       "       [ 1.129037e+00,  1.834790e-01, -4.853550e-01],\n",
       "       [ 8.717810e-01,  6.947000e-02, -7.341850e-01],\n",
       "       [ 8.551480e-01,  5.871340e-01, -5.746370e-01],\n",
       "       [ 3.956250e-01,  6.067620e-01, -1.004597e+00],\n",
       "       [ 1.051331e+00,  8.040460e-01, -1.250838e+00],\n",
       "       [ 1.309558e+00,  6.724500e-01, -1.174746e+00],\n",
       "       [ 1.876837e+00,  5.062760e-01, -1.376205e+00],\n",
       "       [ 2.620561e+00,  5.569010e-01, -1.528117e+00],\n",
       "       [ 2.508878e+00,  4.455840e-01, -1.501028e+00],\n",
       "       [ 2.646833e+00,  1.606790e-01, -1.605397e+00],\n",
       "       [ 2.448341e+00, -3.327000e-03, -1.875326e+00],\n",
       "       [ 1.610501e+00,  3.112900e-02, -2.069439e+00],\n",
       "       [ 1.925691e+00, -4.125040e-01, -2.138976e+00],\n",
       "       [ 1.918400e+00, -3.446780e-01, -2.299420e+00],\n",
       "       [ 1.910517e+00, -2.464170e-01, -2.245133e+00],\n",
       "       [ 2.450736e+00, -7.255010e-01, -2.828320e+00],\n",
       "       [ 2.381144e+00, -1.214003e+00, -2.812268e+00],\n",
       "       [ 2.159600e+00, -1.524586e+00, -2.873087e+00],\n",
       "       [ 2.379856e+00, -1.845657e+00, -2.758474e+00],\n",
       "       [ 2.254824e+00, -1.268736e+00, -3.020816e+00],\n",
       "       [ 2.320000e+00, -1.171255e+00, -3.604322e+00],\n",
       "       [ 1.698536e+00, -1.233225e+00, -3.369023e+00],\n",
       "       [ 1.527831e+00, -1.374688e+00, -3.394583e+00],\n",
       "       [ 1.530377e+00, -1.355630e+00, -3.295790e+00],\n",
       "       [ 1.672040e+00, -1.146433e+00, -3.038195e+00],\n",
       "       [ 1.534793e+00, -1.167195e+00, -3.646896e+00],\n",
       "       [ 1.886021e+00, -8.648130e-01, -3.523450e+00],\n",
       "       [ 2.062097e+00, -4.885510e-01, -3.273344e+00],\n",
       "       [ 2.128729e+00,  1.538430e-01, -3.081451e+00],\n",
       "       [ 2.057646e+00,  3.025930e-01, -2.701675e+00],\n",
       "       [ 2.155564e+00,  5.686360e-01, -2.718267e+00],\n",
       "       [ 2.698137e+00,  1.822490e-01, -2.875416e+00],\n",
       "       [ 3.066121e+00,  5.629600e-01, -2.909034e+00],\n",
       "       [ 3.925938e+00,  2.529660e-01, -3.011479e+00],\n",
       "       [ 4.240422e+00, -2.209120e-01, -2.795740e+00],\n",
       "       [ 3.907132e+00, -3.285870e-01, -2.430246e+00],\n",
       "       [ 3.750647e+00, -1.933450e-01, -2.166711e+00],\n",
       "       [ 2.918651e+00, -2.381230e-01, -2.143549e+00],\n",
       "       [ 2.980647e+00,  2.619560e-01, -2.218529e+00],\n",
       "       [ 2.992436e+00,  8.196100e-02, -2.173249e+00],\n",
       "       [ 2.710340e+00, -4.905900e-01, -1.838208e+00],\n",
       "       [ 2.693541e+00, -2.598960e-01, -1.613949e+00],\n",
       "       [ 2.361263e+00, -1.871970e-01, -1.208869e+00],\n",
       "       [ 1.897547e+00, -3.245700e-02, -7.926150e-01],\n",
       "       [ 2.345557e+00,  4.967200e-02, -1.164745e+00],\n",
       "       [ 2.007566e+00,  1.217100e-01, -1.080368e+00],\n",
       "       [ 1.599818e+00, -1.058250e-01, -1.086920e+00],\n",
       "       [ 1.182395e+00, -7.454160e-01, -8.784170e-01],\n",
       "       [ 1.469907e+00, -7.951170e-01, -5.628670e-01],\n",
       "       [ 1.460792e+00, -4.504400e-01, -5.998010e-01],\n",
       "       [ 1.113180e+00, -5.147580e-01, -5.084190e-01],\n",
       "       [ 8.795550e-01, -6.399920e-01, -6.724360e-01],\n",
       "       [ 1.351152e+00, -3.296540e-01, -8.297620e-01],\n",
       "       [ 1.392628e+00, -2.151910e-01, -5.967510e-01],\n",
       "       [ 1.926062e+00, -3.753500e-01, -5.548180e-01],\n",
       "       [ 1.211311e+00, -1.208597e+00, -5.562750e-01],\n",
       "       [ 9.130650e-01, -1.064432e+00, -4.940780e-01],\n",
       "       [ 1.363192e+00, -1.338370e+00, -2.383430e-01],\n",
       "       [ 2.032102e+00, -1.405084e+00, -3.356210e-01],\n",
       "       [ 1.738637e+00, -1.456743e+00,  2.887500e-02],\n",
       "       [ 1.249448e+00, -1.299677e+00,  1.022700e-01],\n",
       "       [ 6.101790e-01, -1.236958e+00,  3.152500e-01],\n",
       "       [ 8.531970e-01, -4.827960e-01,  1.645320e-01],\n",
       "       [ 7.945310e-01, -3.463270e-01, -4.624310e-01],\n",
       "       [ 6.352710e-01, -6.890430e-01, -4.924730e-01],\n",
       "       [ 5.456270e-01, -8.404090e-01, -3.447440e-01],\n",
       "       [ 1.379780e-01, -1.164410e+00, -5.371140e-01],\n",
       "       [ 5.523250e-01, -1.242295e+00, -4.763950e-01],\n",
       "       [ 4.179520e-01, -1.794645e+00, -2.883810e-01]])"
      ]
     },
     "execution_count": 104,
     "metadata": {},
     "output_type": "execute_result"
    }
   ],
   "source": [
    "ds = np.DataSource().open('https://raw.githubusercontent.com/plotly/datasets/master/mesh_dataset.txt')\n",
    "pts"
   ]
  },
  {
   "cell_type": "code",
   "execution_count": 131,
   "metadata": {},
   "outputs": [
    {
     "name": "stdout",
     "output_type": "stream",
     "text": [
      "Quoting\n",
      "Discovery (S.P.I.N.)\n",
      "Won\n",
      "Working\n",
      "On Hold\n",
      "Solution Development\n",
      "Lost (why?)\n"
     ]
    }
   ],
   "source": [
    "for i,j in enumerate(df_num[group].unique()):\n",
    "    print(j)"
   ]
  },
  {
   "cell_type": "code",
   "execution_count": 146,
   "metadata": {},
   "outputs": [
    {
     "data": {
      "application/vnd.plotly.v1+json": {
       "config": {
        "plotlyServerURL": "https://plot.ly"
       },
       "data": [
        {
         "alphahull": 4,
         "color": "cyan",
         "name": "True",
         "opacity": 0.2,
         "showlegend": true,
         "type": "mesh3d",
         "x": [
          32,
          15,
          1,
          97,
          107,
          97,
          1,
          1,
          185,
          32,
          1,
          32,
          1,
          1,
          0,
          32,
          93,
          154,
          154,
          63,
          63,
          123,
          0,
          123,
          123,
          123
         ],
         "y": [
          0.75,
          0.75,
          0.75,
          0.5,
          0.5,
          0.5,
          0.5,
          0.9,
          0.1,
          0.1,
          0.5,
          0.5,
          0.4,
          0.3,
          0.5,
          0.5,
          0.75,
          0.1,
          0.1,
          0.5,
          0.5,
          0.2,
          0.6,
          0.5,
          0.2,
          0.5
         ],
         "z": [
          7753,
          45000,
          44226,
          80000,
          25000,
          80000,
          20000,
          50000,
          100000,
          60000,
          20000,
          100000,
          60000,
          10000,
          120000,
          10000,
          200000,
          80000,
          150000,
          100000,
          250000,
          30000,
          16290,
          20000,
          60000,
          30000
         ]
        },
        {
         "alphahull": 4,
         "color": "green",
         "name": "False",
         "opacity": 0.2,
         "showlegend": true,
         "type": "mesh3d",
         "x": [
          0,
          107,
          63,
          63,
          15,
          1,
          107,
          93,
          63,
          154,
          185,
          93,
          1,
          32,
          32,
          93,
          63,
          1,
          31,
          31,
          0,
          0,
          0,
          0,
          0,
          0,
          0,
          30,
          113,
          31,
          8,
          51,
          1,
          32,
          32,
          32,
          124,
          32,
          1,
          93,
          1,
          1,
          1,
          0,
          0,
          92,
          15,
          0,
          0,
          0,
          15,
          93,
          46,
          46,
          0,
          77,
          0,
          15,
          32,
          15,
          1,
          1,
          93,
          15,
          15,
          30,
          15,
          15,
          1,
          214,
          31,
          0,
          154,
          154,
          154,
          154,
          32,
          32,
          32,
          32,
          32,
          32,
          1,
          154,
          1,
          32,
          32,
          123,
          123,
          31,
          123,
          123,
          123,
          123,
          31,
          0,
          0,
          31,
          31,
          0,
          31,
          0,
          123
         ],
         "y": [
          0.6,
          0.25,
          0.75,
          0.75,
          0.75,
          0.8,
          0.5,
          0.5,
          0.9,
          0.3,
          0.1,
          0.5,
          0.1,
          0.5,
          0.1,
          0.1,
          0.3,
          0.15,
          0.2,
          0.4,
          0.3,
          0.5,
          0.6,
          0.5,
          0.9,
          0.2,
          0.5,
          0.4,
          0.5,
          0.75,
          0.75,
          0.2,
          0.5,
          0.5,
          0.5,
          0.5,
          0.5,
          0.5,
          0.5,
          0.5,
          0.75,
          0.25,
          0.5,
          0.75,
          0.75,
          0.75,
          0.99,
          0.8,
          0.5,
          0.75,
          0.75,
          0.75,
          0.75,
          0.75,
          0.75,
          0.25,
          0.75,
          0.5,
          0.5,
          0.75,
          0.5,
          0.75,
          0.75,
          0.85,
          0.75,
          0.5,
          0.75,
          0.75,
          0.75,
          0.75,
          0.6,
          0.5,
          0.1,
          0.1,
          0.1,
          0.1,
          0.25,
          0.5,
          0.75,
          0.75,
          0.75,
          0.75,
          0.75,
          0.9,
          0.9,
          0.9,
          0.9,
          0.1,
          0.3,
          0.4,
          0.4,
          0.5,
          0.2,
          0.4,
          0.3,
          0.8,
          0.9,
          0.6,
          0.6,
          0.6,
          0.8,
          0.8,
          0.5
         ],
         "z": [
          84867,
          10000,
          55000,
          333404,
          18000,
          23000,
          250000,
          75000,
          65000,
          110000,
          75000,
          50000,
          10000,
          250000,
          10000,
          50000,
          250000,
          75000,
          100000,
          20000,
          25000,
          13000,
          10000,
          37000,
          25000,
          360000,
          85000,
          300000,
          30000,
          50000,
          65000,
          35000,
          70000,
          20000,
          8000,
          8000,
          300000,
          75000,
          120000,
          50000,
          20000,
          15000,
          60000,
          30000,
          150000,
          100000,
          20000,
          40000,
          50000,
          71000,
          200000,
          50000,
          150000,
          120000,
          100000,
          50000,
          150000,
          200000,
          50000,
          100000,
          20000,
          150000,
          225000,
          57000,
          53000,
          24700,
          40000,
          50000,
          60000,
          125000,
          396350,
          269355,
          100000,
          60000,
          50000,
          150000,
          80000,
          40000,
          80000,
          10000,
          10000,
          5000,
          50000,
          100000,
          100000,
          25000,
          20000,
          40000,
          100000,
          30000,
          200000,
          150000,
          150000,
          200000,
          90000,
          47035,
          10000,
          66583,
          20000,
          10000,
          50000,
          15000,
          100000
         ]
        },
        {
         "alphahull": 4,
         "color": "blue",
         "name": "nan",
         "opacity": 0.2,
         "showlegend": true,
         "type": "mesh3d",
         "x": [
          154,
          32,
          32,
          32
         ],
         "y": [
          0.1,
          0.25,
          0.25,
          0.25
         ],
         "z": [
          100000,
          350000,
          65000,
          16000
         ]
        }
       ],
       "layout": {
        "template": {
         "data": {
          "bar": [
           {
            "error_x": {
             "color": "#2a3f5f"
            },
            "error_y": {
             "color": "#2a3f5f"
            },
            "marker": {
             "line": {
              "color": "#E5ECF6",
              "width": 0.5
             }
            },
            "type": "bar"
           }
          ],
          "barpolar": [
           {
            "marker": {
             "line": {
              "color": "#E5ECF6",
              "width": 0.5
             }
            },
            "type": "barpolar"
           }
          ],
          "carpet": [
           {
            "aaxis": {
             "endlinecolor": "#2a3f5f",
             "gridcolor": "white",
             "linecolor": "white",
             "minorgridcolor": "white",
             "startlinecolor": "#2a3f5f"
            },
            "baxis": {
             "endlinecolor": "#2a3f5f",
             "gridcolor": "white",
             "linecolor": "white",
             "minorgridcolor": "white",
             "startlinecolor": "#2a3f5f"
            },
            "type": "carpet"
           }
          ],
          "choropleth": [
           {
            "colorbar": {
             "outlinewidth": 0,
             "ticks": ""
            },
            "type": "choropleth"
           }
          ],
          "contour": [
           {
            "colorbar": {
             "outlinewidth": 0,
             "ticks": ""
            },
            "colorscale": [
             [
              0,
              "#0d0887"
             ],
             [
              0.1111111111111111,
              "#46039f"
             ],
             [
              0.2222222222222222,
              "#7201a8"
             ],
             [
              0.3333333333333333,
              "#9c179e"
             ],
             [
              0.4444444444444444,
              "#bd3786"
             ],
             [
              0.5555555555555556,
              "#d8576b"
             ],
             [
              0.6666666666666666,
              "#ed7953"
             ],
             [
              0.7777777777777778,
              "#fb9f3a"
             ],
             [
              0.8888888888888888,
              "#fdca26"
             ],
             [
              1,
              "#f0f921"
             ]
            ],
            "type": "contour"
           }
          ],
          "contourcarpet": [
           {
            "colorbar": {
             "outlinewidth": 0,
             "ticks": ""
            },
            "type": "contourcarpet"
           }
          ],
          "heatmap": [
           {
            "colorbar": {
             "outlinewidth": 0,
             "ticks": ""
            },
            "colorscale": [
             [
              0,
              "#0d0887"
             ],
             [
              0.1111111111111111,
              "#46039f"
             ],
             [
              0.2222222222222222,
              "#7201a8"
             ],
             [
              0.3333333333333333,
              "#9c179e"
             ],
             [
              0.4444444444444444,
              "#bd3786"
             ],
             [
              0.5555555555555556,
              "#d8576b"
             ],
             [
              0.6666666666666666,
              "#ed7953"
             ],
             [
              0.7777777777777778,
              "#fb9f3a"
             ],
             [
              0.8888888888888888,
              "#fdca26"
             ],
             [
              1,
              "#f0f921"
             ]
            ],
            "type": "heatmap"
           }
          ],
          "heatmapgl": [
           {
            "colorbar": {
             "outlinewidth": 0,
             "ticks": ""
            },
            "colorscale": [
             [
              0,
              "#0d0887"
             ],
             [
              0.1111111111111111,
              "#46039f"
             ],
             [
              0.2222222222222222,
              "#7201a8"
             ],
             [
              0.3333333333333333,
              "#9c179e"
             ],
             [
              0.4444444444444444,
              "#bd3786"
             ],
             [
              0.5555555555555556,
              "#d8576b"
             ],
             [
              0.6666666666666666,
              "#ed7953"
             ],
             [
              0.7777777777777778,
              "#fb9f3a"
             ],
             [
              0.8888888888888888,
              "#fdca26"
             ],
             [
              1,
              "#f0f921"
             ]
            ],
            "type": "heatmapgl"
           }
          ],
          "histogram": [
           {
            "marker": {
             "colorbar": {
              "outlinewidth": 0,
              "ticks": ""
             }
            },
            "type": "histogram"
           }
          ],
          "histogram2d": [
           {
            "colorbar": {
             "outlinewidth": 0,
             "ticks": ""
            },
            "colorscale": [
             [
              0,
              "#0d0887"
             ],
             [
              0.1111111111111111,
              "#46039f"
             ],
             [
              0.2222222222222222,
              "#7201a8"
             ],
             [
              0.3333333333333333,
              "#9c179e"
             ],
             [
              0.4444444444444444,
              "#bd3786"
             ],
             [
              0.5555555555555556,
              "#d8576b"
             ],
             [
              0.6666666666666666,
              "#ed7953"
             ],
             [
              0.7777777777777778,
              "#fb9f3a"
             ],
             [
              0.8888888888888888,
              "#fdca26"
             ],
             [
              1,
              "#f0f921"
             ]
            ],
            "type": "histogram2d"
           }
          ],
          "histogram2dcontour": [
           {
            "colorbar": {
             "outlinewidth": 0,
             "ticks": ""
            },
            "colorscale": [
             [
              0,
              "#0d0887"
             ],
             [
              0.1111111111111111,
              "#46039f"
             ],
             [
              0.2222222222222222,
              "#7201a8"
             ],
             [
              0.3333333333333333,
              "#9c179e"
             ],
             [
              0.4444444444444444,
              "#bd3786"
             ],
             [
              0.5555555555555556,
              "#d8576b"
             ],
             [
              0.6666666666666666,
              "#ed7953"
             ],
             [
              0.7777777777777778,
              "#fb9f3a"
             ],
             [
              0.8888888888888888,
              "#fdca26"
             ],
             [
              1,
              "#f0f921"
             ]
            ],
            "type": "histogram2dcontour"
           }
          ],
          "mesh3d": [
           {
            "colorbar": {
             "outlinewidth": 0,
             "ticks": ""
            },
            "type": "mesh3d"
           }
          ],
          "parcoords": [
           {
            "line": {
             "colorbar": {
              "outlinewidth": 0,
              "ticks": ""
             }
            },
            "type": "parcoords"
           }
          ],
          "pie": [
           {
            "automargin": true,
            "type": "pie"
           }
          ],
          "scatter": [
           {
            "marker": {
             "colorbar": {
              "outlinewidth": 0,
              "ticks": ""
             }
            },
            "type": "scatter"
           }
          ],
          "scatter3d": [
           {
            "line": {
             "colorbar": {
              "outlinewidth": 0,
              "ticks": ""
             }
            },
            "marker": {
             "colorbar": {
              "outlinewidth": 0,
              "ticks": ""
             }
            },
            "type": "scatter3d"
           }
          ],
          "scattercarpet": [
           {
            "marker": {
             "colorbar": {
              "outlinewidth": 0,
              "ticks": ""
             }
            },
            "type": "scattercarpet"
           }
          ],
          "scattergeo": [
           {
            "marker": {
             "colorbar": {
              "outlinewidth": 0,
              "ticks": ""
             }
            },
            "type": "scattergeo"
           }
          ],
          "scattergl": [
           {
            "marker": {
             "colorbar": {
              "outlinewidth": 0,
              "ticks": ""
             }
            },
            "type": "scattergl"
           }
          ],
          "scattermapbox": [
           {
            "marker": {
             "colorbar": {
              "outlinewidth": 0,
              "ticks": ""
             }
            },
            "type": "scattermapbox"
           }
          ],
          "scatterpolar": [
           {
            "marker": {
             "colorbar": {
              "outlinewidth": 0,
              "ticks": ""
             }
            },
            "type": "scatterpolar"
           }
          ],
          "scatterpolargl": [
           {
            "marker": {
             "colorbar": {
              "outlinewidth": 0,
              "ticks": ""
             }
            },
            "type": "scatterpolargl"
           }
          ],
          "scatterternary": [
           {
            "marker": {
             "colorbar": {
              "outlinewidth": 0,
              "ticks": ""
             }
            },
            "type": "scatterternary"
           }
          ],
          "surface": [
           {
            "colorbar": {
             "outlinewidth": 0,
             "ticks": ""
            },
            "colorscale": [
             [
              0,
              "#0d0887"
             ],
             [
              0.1111111111111111,
              "#46039f"
             ],
             [
              0.2222222222222222,
              "#7201a8"
             ],
             [
              0.3333333333333333,
              "#9c179e"
             ],
             [
              0.4444444444444444,
              "#bd3786"
             ],
             [
              0.5555555555555556,
              "#d8576b"
             ],
             [
              0.6666666666666666,
              "#ed7953"
             ],
             [
              0.7777777777777778,
              "#fb9f3a"
             ],
             [
              0.8888888888888888,
              "#fdca26"
             ],
             [
              1,
              "#f0f921"
             ]
            ],
            "type": "surface"
           }
          ],
          "table": [
           {
            "cells": {
             "fill": {
              "color": "#EBF0F8"
             },
             "line": {
              "color": "white"
             }
            },
            "header": {
             "fill": {
              "color": "#C8D4E3"
             },
             "line": {
              "color": "white"
             }
            },
            "type": "table"
           }
          ]
         },
         "layout": {
          "annotationdefaults": {
           "arrowcolor": "#2a3f5f",
           "arrowhead": 0,
           "arrowwidth": 1
          },
          "coloraxis": {
           "colorbar": {
            "outlinewidth": 0,
            "ticks": ""
           }
          },
          "colorscale": {
           "diverging": [
            [
             0,
             "#8e0152"
            ],
            [
             0.1,
             "#c51b7d"
            ],
            [
             0.2,
             "#de77ae"
            ],
            [
             0.3,
             "#f1b6da"
            ],
            [
             0.4,
             "#fde0ef"
            ],
            [
             0.5,
             "#f7f7f7"
            ],
            [
             0.6,
             "#e6f5d0"
            ],
            [
             0.7,
             "#b8e186"
            ],
            [
             0.8,
             "#7fbc41"
            ],
            [
             0.9,
             "#4d9221"
            ],
            [
             1,
             "#276419"
            ]
           ],
           "sequential": [
            [
             0,
             "#0d0887"
            ],
            [
             0.1111111111111111,
             "#46039f"
            ],
            [
             0.2222222222222222,
             "#7201a8"
            ],
            [
             0.3333333333333333,
             "#9c179e"
            ],
            [
             0.4444444444444444,
             "#bd3786"
            ],
            [
             0.5555555555555556,
             "#d8576b"
            ],
            [
             0.6666666666666666,
             "#ed7953"
            ],
            [
             0.7777777777777778,
             "#fb9f3a"
            ],
            [
             0.8888888888888888,
             "#fdca26"
            ],
            [
             1,
             "#f0f921"
            ]
           ],
           "sequentialminus": [
            [
             0,
             "#0d0887"
            ],
            [
             0.1111111111111111,
             "#46039f"
            ],
            [
             0.2222222222222222,
             "#7201a8"
            ],
            [
             0.3333333333333333,
             "#9c179e"
            ],
            [
             0.4444444444444444,
             "#bd3786"
            ],
            [
             0.5555555555555556,
             "#d8576b"
            ],
            [
             0.6666666666666666,
             "#ed7953"
            ],
            [
             0.7777777777777778,
             "#fb9f3a"
            ],
            [
             0.8888888888888888,
             "#fdca26"
            ],
            [
             1,
             "#f0f921"
            ]
           ]
          },
          "colorway": [
           "#636efa",
           "#EF553B",
           "#00cc96",
           "#ab63fa",
           "#FFA15A",
           "#19d3f3",
           "#FF6692",
           "#B6E880",
           "#FF97FF",
           "#FECB52"
          ],
          "font": {
           "color": "#2a3f5f"
          },
          "geo": {
           "bgcolor": "white",
           "lakecolor": "white",
           "landcolor": "#E5ECF6",
           "showlakes": true,
           "showland": true,
           "subunitcolor": "white"
          },
          "hoverlabel": {
           "align": "left"
          },
          "hovermode": "closest",
          "mapbox": {
           "style": "light"
          },
          "paper_bgcolor": "white",
          "plot_bgcolor": "#E5ECF6",
          "polar": {
           "angularaxis": {
            "gridcolor": "white",
            "linecolor": "white",
            "ticks": ""
           },
           "bgcolor": "#E5ECF6",
           "radialaxis": {
            "gridcolor": "white",
            "linecolor": "white",
            "ticks": ""
           }
          },
          "scene": {
           "xaxis": {
            "backgroundcolor": "#E5ECF6",
            "gridcolor": "white",
            "gridwidth": 2,
            "linecolor": "white",
            "showbackground": true,
            "ticks": "",
            "zerolinecolor": "white"
           },
           "yaxis": {
            "backgroundcolor": "#E5ECF6",
            "gridcolor": "white",
            "gridwidth": 2,
            "linecolor": "white",
            "showbackground": true,
            "ticks": "",
            "zerolinecolor": "white"
           },
           "zaxis": {
            "backgroundcolor": "#E5ECF6",
            "gridcolor": "white",
            "gridwidth": 2,
            "linecolor": "white",
            "showbackground": true,
            "ticks": "",
            "zerolinecolor": "white"
           }
          },
          "shapedefaults": {
           "line": {
            "color": "#2a3f5f"
           }
          },
          "ternary": {
           "aaxis": {
            "gridcolor": "white",
            "linecolor": "white",
            "ticks": ""
           },
           "baxis": {
            "gridcolor": "white",
            "linecolor": "white",
            "ticks": ""
           },
           "bgcolor": "#E5ECF6",
           "caxis": {
            "gridcolor": "white",
            "linecolor": "white",
            "ticks": ""
           }
          },
          "title": {
           "x": 0.05
          },
          "xaxis": {
           "automargin": true,
           "gridcolor": "white",
           "linecolor": "white",
           "ticks": "",
           "title": {
            "standoff": 15
           },
           "zerolinecolor": "white",
           "zerolinewidth": 2
          },
          "yaxis": {
           "automargin": true,
           "gridcolor": "white",
           "linecolor": "white",
           "ticks": "",
           "title": {
            "standoff": 15
           },
           "zerolinecolor": "white",
           "zerolinewidth": 2
          }
         }
        }
       }
      },
      "text/html": [
       "<div>\n",
       "        \n",
       "        \n",
       "            <div id=\"26e30d82-230c-403d-997e-364dee6a44eb\" class=\"plotly-graph-div\" style=\"height:525px; width:100%;\"></div>\n",
       "            <script type=\"text/javascript\">\n",
       "                require([\"plotly\"], function(Plotly) {\n",
       "                    window.PLOTLYENV=window.PLOTLYENV || {};\n",
       "                    \n",
       "                if (document.getElementById(\"26e30d82-230c-403d-997e-364dee6a44eb\")) {\n",
       "                    Plotly.newPlot(\n",
       "                        '26e30d82-230c-403d-997e-364dee6a44eb',\n",
       "                        [{\"alphahull\": 4, \"color\": \"cyan\", \"name\": \"True\", \"opacity\": 0.2, \"showlegend\": true, \"type\": \"mesh3d\", \"x\": [32.0, 15.0, 1.0, 97.0, 107.0, 97.0, 1.0, 1.0, 185.0, 32.0, 1.0, 32.0, 1.0, 1.0, 0.0, 32.0, 93.0, 154.0, 154.0, 63.0, 63.0, 123.0, 0.0, 123.0, 123.0, 123.0], \"y\": [0.75, 0.75, 0.75, 0.5, 0.5, 0.5, 0.5, 0.9, 0.1, 0.1, 0.5, 0.5, 0.4, 0.3, 0.5, 0.5, 0.75, 0.1, 0.1, 0.5, 0.5, 0.2, 0.6, 0.5, 0.2, 0.5], \"z\": [7753, 45000, 44226, 80000, 25000, 80000, 20000, 50000, 100000, 60000, 20000, 100000, 60000, 10000, 120000, 10000, 200000, 80000, 150000, 100000, 250000, 30000, 16290, 20000, 60000, 30000]}, {\"alphahull\": 4, \"color\": \"green\", \"name\": \"False\", \"opacity\": 0.2, \"showlegend\": true, \"type\": \"mesh3d\", \"x\": [0.0, 107.0, 63.0, 63.0, 15.0, 1.0, 107.0, 93.0, 63.0, 154.0, 185.0, 93.0, 1.0, 32.0, 32.0, 93.0, 63.0, 1.0, 31.0, 31.0, 0.0, 0.0, 0.0, 0.0, 0.0, 0.0, 0.0, 30.0, 113.0, 31.0, 8.0, 51.0, 1.0, 32.0, 32.0, 32.0, 124.0, 32.0, 1.0, 93.0, 1.0, 1.0, 1.0, 0.0, 0.0, 92.0, 15.0, 0.0, 0.0, 0.0, 15.0, 93.0, 46.0, 46.0, 0.0, 77.0, 0.0, 15.0, 32.0, 15.0, 1.0, 1.0, 93.0, 15.0, 15.0, 30.0, 15.0, 15.0, 1.0, 214.0, 31.0, 0.0, 154.0, 154.0, 154.0, 154.0, 32.0, 32.0, 32.0, 32.0, 32.0, 32.0, 1.0, 154.0, 1.0, 32.0, 32.0, 123.0, 123.0, 31.0, 123.0, 123.0, 123.0, 123.0, 31.0, 0.0, 0.0, 31.0, 31.0, 0.0, 31.0, 0.0, 123.0], \"y\": [0.6, 0.25, 0.75, 0.75, 0.75, 0.8, 0.5, 0.5, 0.9, 0.3, 0.1, 0.5, 0.1, 0.5, 0.1, 0.1, 0.3, 0.15, 0.2, 0.4, 0.3, 0.5, 0.6, 0.5, 0.9, 0.2, 0.5, 0.4, 0.5, 0.75, 0.75, 0.2, 0.5, 0.5, 0.5, 0.5, 0.5, 0.5, 0.5, 0.5, 0.75, 0.25, 0.5, 0.75, 0.75, 0.75, 0.99, 0.8, 0.5, 0.75, 0.75, 0.75, 0.75, 0.75, 0.75, 0.25, 0.75, 0.5, 0.5, 0.75, 0.5, 0.75, 0.75, 0.85, 0.75, 0.5, 0.75, 0.75, 0.75, 0.75, 0.6, 0.5, 0.1, 0.1, 0.1, 0.1, 0.25, 0.5, 0.75, 0.75, 0.75, 0.75, 0.75, 0.9, 0.9, 0.9, 0.9, 0.1, 0.3, 0.4, 0.4, 0.5, 0.2, 0.4, 0.3, 0.8, 0.9, 0.6, 0.6, 0.6, 0.8, 0.8, 0.5], \"z\": [84867, 10000, 55000, 333404, 18000, 23000, 250000, 75000, 65000, 110000, 75000, 50000, 10000, 250000, 10000, 50000, 250000, 75000, 100000, 20000, 25000, 13000, 10000, 37000, 25000, 360000, 85000, 300000, 30000, 50000, 65000, 35000, 70000, 20000, 8000, 8000, 300000, 75000, 120000, 50000, 20000, 15000, 60000, 30000, 150000, 100000, 20000, 40000, 50000, 71000, 200000, 50000, 150000, 120000, 100000, 50000, 150000, 200000, 50000, 100000, 20000, 150000, 225000, 57000, 53000, 24700, 40000, 50000, 60000, 125000, 396350, 269355, 100000, 60000, 50000, 150000, 80000, 40000, 80000, 10000, 10000, 5000, 50000, 100000, 100000, 25000, 20000, 40000, 100000, 30000, 200000, 150000, 150000, 200000, 90000, 47035, 10000, 66583, 20000, 10000, 50000, 15000, 100000]}, {\"alphahull\": 4, \"color\": \"blue\", \"name\": \"nan\", \"opacity\": 0.2, \"showlegend\": true, \"type\": \"mesh3d\", \"x\": [154.0, 32.0, 32.0, 32.0], \"y\": [0.1, 0.25, 0.25, 0.25], \"z\": [100000, 350000, 65000, 16000]}],\n",
       "                        {\"template\": {\"data\": {\"bar\": [{\"error_x\": {\"color\": \"#2a3f5f\"}, \"error_y\": {\"color\": \"#2a3f5f\"}, \"marker\": {\"line\": {\"color\": \"#E5ECF6\", \"width\": 0.5}}, \"type\": \"bar\"}], \"barpolar\": [{\"marker\": {\"line\": {\"color\": \"#E5ECF6\", \"width\": 0.5}}, \"type\": \"barpolar\"}], \"carpet\": [{\"aaxis\": {\"endlinecolor\": \"#2a3f5f\", \"gridcolor\": \"white\", \"linecolor\": \"white\", \"minorgridcolor\": \"white\", \"startlinecolor\": \"#2a3f5f\"}, \"baxis\": {\"endlinecolor\": \"#2a3f5f\", \"gridcolor\": \"white\", \"linecolor\": \"white\", \"minorgridcolor\": \"white\", \"startlinecolor\": \"#2a3f5f\"}, \"type\": \"carpet\"}], \"choropleth\": [{\"colorbar\": {\"outlinewidth\": 0, \"ticks\": \"\"}, \"type\": \"choropleth\"}], \"contour\": [{\"colorbar\": {\"outlinewidth\": 0, \"ticks\": \"\"}, \"colorscale\": [[0.0, \"#0d0887\"], [0.1111111111111111, \"#46039f\"], [0.2222222222222222, \"#7201a8\"], [0.3333333333333333, \"#9c179e\"], [0.4444444444444444, \"#bd3786\"], [0.5555555555555556, \"#d8576b\"], [0.6666666666666666, \"#ed7953\"], [0.7777777777777778, \"#fb9f3a\"], [0.8888888888888888, \"#fdca26\"], [1.0, \"#f0f921\"]], \"type\": \"contour\"}], \"contourcarpet\": [{\"colorbar\": {\"outlinewidth\": 0, \"ticks\": \"\"}, \"type\": \"contourcarpet\"}], \"heatmap\": [{\"colorbar\": {\"outlinewidth\": 0, \"ticks\": \"\"}, \"colorscale\": [[0.0, \"#0d0887\"], [0.1111111111111111, \"#46039f\"], [0.2222222222222222, \"#7201a8\"], [0.3333333333333333, \"#9c179e\"], [0.4444444444444444, \"#bd3786\"], [0.5555555555555556, \"#d8576b\"], [0.6666666666666666, \"#ed7953\"], [0.7777777777777778, \"#fb9f3a\"], [0.8888888888888888, \"#fdca26\"], [1.0, \"#f0f921\"]], \"type\": \"heatmap\"}], \"heatmapgl\": [{\"colorbar\": {\"outlinewidth\": 0, \"ticks\": \"\"}, \"colorscale\": [[0.0, \"#0d0887\"], [0.1111111111111111, \"#46039f\"], [0.2222222222222222, \"#7201a8\"], [0.3333333333333333, \"#9c179e\"], [0.4444444444444444, \"#bd3786\"], [0.5555555555555556, \"#d8576b\"], [0.6666666666666666, \"#ed7953\"], [0.7777777777777778, \"#fb9f3a\"], [0.8888888888888888, \"#fdca26\"], [1.0, \"#f0f921\"]], \"type\": \"heatmapgl\"}], \"histogram\": [{\"marker\": {\"colorbar\": {\"outlinewidth\": 0, \"ticks\": \"\"}}, \"type\": \"histogram\"}], \"histogram2d\": [{\"colorbar\": {\"outlinewidth\": 0, \"ticks\": \"\"}, \"colorscale\": [[0.0, \"#0d0887\"], [0.1111111111111111, \"#46039f\"], [0.2222222222222222, \"#7201a8\"], [0.3333333333333333, \"#9c179e\"], [0.4444444444444444, \"#bd3786\"], [0.5555555555555556, \"#d8576b\"], [0.6666666666666666, \"#ed7953\"], [0.7777777777777778, \"#fb9f3a\"], [0.8888888888888888, \"#fdca26\"], [1.0, \"#f0f921\"]], \"type\": \"histogram2d\"}], \"histogram2dcontour\": [{\"colorbar\": {\"outlinewidth\": 0, \"ticks\": \"\"}, \"colorscale\": [[0.0, \"#0d0887\"], [0.1111111111111111, \"#46039f\"], [0.2222222222222222, \"#7201a8\"], [0.3333333333333333, \"#9c179e\"], [0.4444444444444444, \"#bd3786\"], [0.5555555555555556, \"#d8576b\"], [0.6666666666666666, \"#ed7953\"], [0.7777777777777778, \"#fb9f3a\"], [0.8888888888888888, \"#fdca26\"], [1.0, \"#f0f921\"]], \"type\": \"histogram2dcontour\"}], \"mesh3d\": [{\"colorbar\": {\"outlinewidth\": 0, \"ticks\": \"\"}, \"type\": \"mesh3d\"}], \"parcoords\": [{\"line\": {\"colorbar\": {\"outlinewidth\": 0, \"ticks\": \"\"}}, \"type\": \"parcoords\"}], \"pie\": [{\"automargin\": true, \"type\": \"pie\"}], \"scatter\": [{\"marker\": {\"colorbar\": {\"outlinewidth\": 0, \"ticks\": \"\"}}, \"type\": \"scatter\"}], \"scatter3d\": [{\"line\": {\"colorbar\": {\"outlinewidth\": 0, \"ticks\": \"\"}}, \"marker\": {\"colorbar\": {\"outlinewidth\": 0, \"ticks\": \"\"}}, \"type\": \"scatter3d\"}], \"scattercarpet\": [{\"marker\": {\"colorbar\": {\"outlinewidth\": 0, \"ticks\": \"\"}}, \"type\": \"scattercarpet\"}], \"scattergeo\": [{\"marker\": {\"colorbar\": {\"outlinewidth\": 0, \"ticks\": \"\"}}, \"type\": \"scattergeo\"}], \"scattergl\": [{\"marker\": {\"colorbar\": {\"outlinewidth\": 0, \"ticks\": \"\"}}, \"type\": \"scattergl\"}], \"scattermapbox\": [{\"marker\": {\"colorbar\": {\"outlinewidth\": 0, \"ticks\": \"\"}}, \"type\": \"scattermapbox\"}], \"scatterpolar\": [{\"marker\": {\"colorbar\": {\"outlinewidth\": 0, \"ticks\": \"\"}}, \"type\": \"scatterpolar\"}], \"scatterpolargl\": [{\"marker\": {\"colorbar\": {\"outlinewidth\": 0, \"ticks\": \"\"}}, \"type\": \"scatterpolargl\"}], \"scatterternary\": [{\"marker\": {\"colorbar\": {\"outlinewidth\": 0, \"ticks\": \"\"}}, \"type\": \"scatterternary\"}], \"surface\": [{\"colorbar\": {\"outlinewidth\": 0, \"ticks\": \"\"}, \"colorscale\": [[0.0, \"#0d0887\"], [0.1111111111111111, \"#46039f\"], [0.2222222222222222, \"#7201a8\"], [0.3333333333333333, \"#9c179e\"], [0.4444444444444444, \"#bd3786\"], [0.5555555555555556, \"#d8576b\"], [0.6666666666666666, \"#ed7953\"], [0.7777777777777778, \"#fb9f3a\"], [0.8888888888888888, \"#fdca26\"], [1.0, \"#f0f921\"]], \"type\": \"surface\"}], \"table\": [{\"cells\": {\"fill\": {\"color\": \"#EBF0F8\"}, \"line\": {\"color\": \"white\"}}, \"header\": {\"fill\": {\"color\": \"#C8D4E3\"}, \"line\": {\"color\": \"white\"}}, \"type\": \"table\"}]}, \"layout\": {\"annotationdefaults\": {\"arrowcolor\": \"#2a3f5f\", \"arrowhead\": 0, \"arrowwidth\": 1}, \"coloraxis\": {\"colorbar\": {\"outlinewidth\": 0, \"ticks\": \"\"}}, \"colorscale\": {\"diverging\": [[0, \"#8e0152\"], [0.1, \"#c51b7d\"], [0.2, \"#de77ae\"], [0.3, \"#f1b6da\"], [0.4, \"#fde0ef\"], [0.5, \"#f7f7f7\"], [0.6, \"#e6f5d0\"], [0.7, \"#b8e186\"], [0.8, \"#7fbc41\"], [0.9, \"#4d9221\"], [1, \"#276419\"]], \"sequential\": [[0.0, \"#0d0887\"], [0.1111111111111111, \"#46039f\"], [0.2222222222222222, \"#7201a8\"], [0.3333333333333333, \"#9c179e\"], [0.4444444444444444, \"#bd3786\"], [0.5555555555555556, \"#d8576b\"], [0.6666666666666666, \"#ed7953\"], [0.7777777777777778, \"#fb9f3a\"], [0.8888888888888888, \"#fdca26\"], [1.0, \"#f0f921\"]], \"sequentialminus\": [[0.0, \"#0d0887\"], [0.1111111111111111, \"#46039f\"], [0.2222222222222222, \"#7201a8\"], [0.3333333333333333, \"#9c179e\"], [0.4444444444444444, \"#bd3786\"], [0.5555555555555556, \"#d8576b\"], [0.6666666666666666, \"#ed7953\"], [0.7777777777777778, \"#fb9f3a\"], [0.8888888888888888, \"#fdca26\"], [1.0, \"#f0f921\"]]}, \"colorway\": [\"#636efa\", \"#EF553B\", \"#00cc96\", \"#ab63fa\", \"#FFA15A\", \"#19d3f3\", \"#FF6692\", \"#B6E880\", \"#FF97FF\", \"#FECB52\"], \"font\": {\"color\": \"#2a3f5f\"}, \"geo\": {\"bgcolor\": \"white\", \"lakecolor\": \"white\", \"landcolor\": \"#E5ECF6\", \"showlakes\": true, \"showland\": true, \"subunitcolor\": \"white\"}, \"hoverlabel\": {\"align\": \"left\"}, \"hovermode\": \"closest\", \"mapbox\": {\"style\": \"light\"}, \"paper_bgcolor\": \"white\", \"plot_bgcolor\": \"#E5ECF6\", \"polar\": {\"angularaxis\": {\"gridcolor\": \"white\", \"linecolor\": \"white\", \"ticks\": \"\"}, \"bgcolor\": \"#E5ECF6\", \"radialaxis\": {\"gridcolor\": \"white\", \"linecolor\": \"white\", \"ticks\": \"\"}}, \"scene\": {\"xaxis\": {\"backgroundcolor\": \"#E5ECF6\", \"gridcolor\": \"white\", \"gridwidth\": 2, \"linecolor\": \"white\", \"showbackground\": true, \"ticks\": \"\", \"zerolinecolor\": \"white\"}, \"yaxis\": {\"backgroundcolor\": \"#E5ECF6\", \"gridcolor\": \"white\", \"gridwidth\": 2, \"linecolor\": \"white\", \"showbackground\": true, \"ticks\": \"\", \"zerolinecolor\": \"white\"}, \"zaxis\": {\"backgroundcolor\": \"#E5ECF6\", \"gridcolor\": \"white\", \"gridwidth\": 2, \"linecolor\": \"white\", \"showbackground\": true, \"ticks\": \"\", \"zerolinecolor\": \"white\"}}, \"shapedefaults\": {\"line\": {\"color\": \"#2a3f5f\"}}, \"ternary\": {\"aaxis\": {\"gridcolor\": \"white\", \"linecolor\": \"white\", \"ticks\": \"\"}, \"baxis\": {\"gridcolor\": \"white\", \"linecolor\": \"white\", \"ticks\": \"\"}, \"bgcolor\": \"#E5ECF6\", \"caxis\": {\"gridcolor\": \"white\", \"linecolor\": \"white\", \"ticks\": \"\"}}, \"title\": {\"x\": 0.05}, \"xaxis\": {\"automargin\": true, \"gridcolor\": \"white\", \"linecolor\": \"white\", \"ticks\": \"\", \"title\": {\"standoff\": 15}, \"zerolinecolor\": \"white\", \"zerolinewidth\": 2}, \"yaxis\": {\"automargin\": true, \"gridcolor\": \"white\", \"linecolor\": \"white\", \"ticks\": \"\", \"title\": {\"standoff\": 15}, \"zerolinecolor\": \"white\", \"zerolinewidth\": 2}}}},\n",
       "                        {\"responsive\": true}\n",
       "                    ).then(function(){\n",
       "                            \n",
       "var gd = document.getElementById('26e30d82-230c-403d-997e-364dee6a44eb');\n",
       "var x = new MutationObserver(function (mutations, observer) {{\n",
       "        var display = window.getComputedStyle(gd).display;\n",
       "        if (!display || display === 'none') {{\n",
       "            console.log([gd, 'removed!']);\n",
       "            Plotly.purge(gd);\n",
       "            observer.disconnect();\n",
       "        }}\n",
       "}});\n",
       "\n",
       "// Listen for the removal of the full notebook cells\n",
       "var notebookContainer = gd.closest('#notebook-container');\n",
       "if (notebookContainer) {{\n",
       "    x.observe(notebookContainer, {childList: true});\n",
       "}}\n",
       "\n",
       "// Listen for the clearing of the current output cell\n",
       "var outputEl = gd.closest('.output');\n",
       "if (outputEl) {{\n",
       "    x.observe(outputEl, {childList: true});\n",
       "}}\n",
       "\n",
       "                        })\n",
       "                };\n",
       "                });\n",
       "            </script>\n",
       "        </div>"
      ]
     },
     "metadata": {},
     "output_type": "display_data"
    }
   ],
   "source": [
    "pts = np.loadtxt(np.DataSource().open('https://raw.githubusercontent.com/plotly/datasets/master/mesh_dataset.txt'))\n",
    "\n",
    "fig = go.Figure()\n",
    "\n",
    "dff = df_num\n",
    "dff1 = df_filter(dff,'ProbPercent',None,None)\n",
    "dff2 = df_filter(dff1,'EOD_delta',0,None)\n",
    "dff3 = df_filter(dff2,'PotentialValue',0,400000)\n",
    "\n",
    "colordict = {0:\"cyan\",1:'green',2:\"blue\",3:\"red\",4:\"yellow\",5:\"gold\",6:'darkgreen'}\n",
    "\n",
    "group = 'New'\n",
    "for i,j in enumerate(df_num[group].unique()):\n",
    "    dff4 = dff3[dff3[group]==j]\n",
    "    x, y, z = dff4['EOD_delta'], dff4['ProbPercent'], dff4['PotentialValue']\n",
    "    fig.add_trace(go.Mesh3d(x=x, y=y, z=z,\n",
    "                       alphahull=4,\n",
    "                       opacity=0.2,\n",
    "                        name=j,\n",
    "                        showlegend=True,\n",
    "                       color=colordict[i]))\n",
    "\n",
    "\n",
    "\n",
    "\n",
    "\n",
    "\n",
    "fig.show()"
   ]
  },
  {
   "cell_type": "code",
   "execution_count": null,
   "metadata": {},
   "outputs": [],
   "source": []
  }
 ],
 "metadata": {
  "kernelspec": {
   "display_name": "Python 3",
   "language": "python",
   "name": "python3"
  },
  "language_info": {
   "codemirror_mode": {
    "name": "ipython",
    "version": 3
   },
   "file_extension": ".py",
   "mimetype": "text/x-python",
   "name": "python",
   "nbconvert_exporter": "python",
   "pygments_lexer": "ipython3",
   "version": "3.7.3"
  }
 },
 "nbformat": 4,
 "nbformat_minor": 2
}

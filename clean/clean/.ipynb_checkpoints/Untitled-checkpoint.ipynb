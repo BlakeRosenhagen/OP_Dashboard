{
 "cells": [
  {
   "cell_type": "code",
   "execution_count": 1,
   "metadata": {},
   "outputs": [
    {
     "name": "stderr",
     "output_type": "stream",
     "text": [
      "C:\\Users\\blake\\Documents\\Future\\GitHub_Repo_Projects\\awc\\clean\\clean\\prep.py:116: SettingWithCopyWarning:\n",
      "\n",
      "\n",
      "A value is trying to be set on a copy of a slice from a DataFrame.\n",
      "Try using .loc[row_indexer,col_indexer] = value instead\n",
      "\n",
      "See the caveats in the documentation: http://pandas.pydata.org/pandas-docs/stable/indexing.html#indexing-view-versus-copy\n",
      "\n",
      "C:\\Users\\blake\\Documents\\Future\\GitHub_Repo_Projects\\awc\\clean\\clean\\prep.py:117: SettingWithCopyWarning:\n",
      "\n",
      "\n",
      "A value is trying to be set on a copy of a slice from a DataFrame.\n",
      "Try using .loc[row_indexer,col_indexer] = value instead\n",
      "\n",
      "See the caveats in the documentation: http://pandas.pydata.org/pandas-docs/stable/indexing.html#indexing-view-versus-copy\n",
      "\n",
      "C:\\Users\\blake\\Documents\\Future\\GitHub_Repo_Projects\\awc\\clean\\clean\\prep.py:118: SettingWithCopyWarning:\n",
      "\n",
      "\n",
      "A value is trying to be set on a copy of a slice from a DataFrame.\n",
      "Try using .loc[row_indexer,col_indexer] = value instead\n",
      "\n",
      "See the caveats in the documentation: http://pandas.pydata.org/pandas-docs/stable/indexing.html#indexing-view-versus-copy\n",
      "\n",
      "C:\\Users\\blake\\Documents\\Future\\GitHub_Repo_Projects\\awc\\clean\\clean\\prep.py:120: SettingWithCopyWarning:\n",
      "\n",
      "\n",
      "A value is trying to be set on a copy of a slice from a DataFrame.\n",
      "Try using .loc[row_indexer,col_indexer] = value instead\n",
      "\n",
      "See the caveats in the documentation: http://pandas.pydata.org/pandas-docs/stable/indexing.html#indexing-view-versus-copy\n",
      "\n",
      "C:\\Users\\blake\\Documents\\Future\\GitHub_Repo_Projects\\awc\\clean\\clean\\prep.py:124: SettingWithCopyWarning:\n",
      "\n",
      "\n",
      "A value is trying to be set on a copy of a slice from a DataFrame.\n",
      "Try using .loc[row_indexer,col_indexer] = value instead\n",
      "\n",
      "See the caveats in the documentation: http://pandas.pydata.org/pandas-docs/stable/indexing.html#indexing-view-versus-copy\n",
      "\n",
      "C:\\Users\\blake\\Documents\\Future\\GitHub_Repo_Projects\\awc\\clean\\clean\\prep.py:125: SettingWithCopyWarning:\n",
      "\n",
      "\n",
      "A value is trying to be set on a copy of a slice from a DataFrame.\n",
      "Try using .loc[row_indexer,col_indexer] = value instead\n",
      "\n",
      "See the caveats in the documentation: http://pandas.pydata.org/pandas-docs/stable/indexing.html#indexing-view-versus-copy\n",
      "\n",
      "C:\\Users\\blake\\Documents\\Future\\GitHub_Repo_Projects\\awc\\clean\\clean\\prep.py:127: SettingWithCopyWarning:\n",
      "\n",
      "\n",
      "A value is trying to be set on a copy of a slice from a DataFrame.\n",
      "Try using .loc[row_indexer,col_indexer] = value instead\n",
      "\n",
      "See the caveats in the documentation: http://pandas.pydata.org/pandas-docs/stable/indexing.html#indexing-view-versus-copy\n",
      "\n",
      "C:\\Users\\blake\\Anaconda3\\lib\\site-packages\\pandas\\core\\frame.py:6692: FutureWarning:\n",
      "\n",
      "Sorting because non-concatenation axis is not aligned. A future version\n",
      "of pandas will change to not sort by default.\n",
      "\n",
      "To accept the future behavior, pass 'sort=False'.\n",
      "\n",
      "To retain the current behavior and silence the warning, pass 'sort=True'.\n",
      "\n",
      "\n"
     ]
    }
   ],
   "source": [
    "import pandas as pd\n",
    "import index\n",
    "import homepage\n",
    "from prep import get_data\n",
    "import plotly.graph_objects as go"
   ]
  },
  {
   "cell_type": "code",
   "execution_count": null,
   "metadata": {},
   "outputs": [
    {
     "name": "stdout",
     "output_type": "stream",
     "text": [
      "Running on http://127.0.0.1:8050/\n",
      "Debugger PIN: 549-843-019\n",
      " * Serving Flask app \"index\" (lazy loading)\n",
      " * Environment: production\n",
      "   WARNING: This is a development server. Do not use it in a production deployment.\n",
      "   Use a production WSGI server instead.\n",
      " * Debug mode: on\n"
     ]
    }
   ],
   "source": [
    "run index"
   ]
  },
  {
   "cell_type": "code",
   "execution_count": null,
   "metadata": {},
   "outputs": [],
   "source": [
    " df, df_num, df_noncumun_whole, noncumun_dfs = get_data()"
   ]
  },
  {
   "cell_type": "code",
   "execution_count": null,
   "metadata": {},
   "outputs": [],
   "source": [
    "pd.set_option('display.max_columns', None)\n",
    "df_num"
   ]
  },
  {
   "cell_type": "code",
   "execution_count": null,
   "metadata": {},
   "outputs": [],
   "source": [
    "df_num[df_num[\"ExpectedOrderDate\"] >= pd.to_datetime('2020-1-1')].groupby(\"ExpectedOrderDate\").mean().index"
   ]
  },
  {
   "cell_type": "code",
   "execution_count": null,
   "metadata": {},
   "outputs": [],
   "source": [
    "df_num[df_num[\"ExpectedOrderDate\"]>2020-1-1].groupby(\"ExpectedOrderDate\").mean()[\"PotentialValue\"]"
   ]
  },
  {
   "cell_type": "code",
   "execution_count": null,
   "metadata": {},
   "outputs": [],
   "source": [
    "list(df_num[df_num[\"Type\"]==t].groupby(\"ExpectedOrderDateM\").mean()[numerical_group].index)"
   ]
  },
  {
   "cell_type": "code",
   "execution_count": null,
   "metadata": {
    "scrolled": false
   },
   "outputs": [],
   "source": [
    "fig = go.Figure()\n",
    "\n",
    "group = \"Notes\"\n",
    "numerical_group = \"PotentialValue\"\n",
    "agg_method = \"sum\"\n",
    "for t in df_num[group].unique():\n",
    "    #for future filtering with date range\n",
    "    df_num = df_num[df_num[\"ExpectedOrderDate\"] >= pd.to_datetime('2020-1-1')]\n",
    "    \n",
    "    if agg_method == \"sum\":\n",
    "        fig.add_trace(go.Bar(x=df_num[df_num[group]==t].groupby(\"ExpectedOrderDate\").sum()[[numerical_group]].index,\n",
    "                             y=list(df_num[df_num[group]==t].groupby(\"ExpectedOrderDate\").sum()[numerical_group]),\n",
    "                             name=t))\n",
    "    if agg_method == \"mean\":\n",
    "        fig.add_trace(go.Bar(x=df_num[df_num[group]==t].groupby(\"ExpectedOrderDate\").mean()[[numerical_group]].index,\n",
    "                             y=list(df_num[df_num[group]==t].groupby(\"ExpectedOrderDate\").mean()[numerical_group]),\n",
    "                             name=t))\n",
    "    if agg_method == \"median\":\n",
    "        fig.add_trace(go.Bar(x=df_num[df_num[group]==t].groupby(\"ExpectedOrderDate\").median()[[numerical_group]].index,\n",
    "                             y=list(df_num[df_num[group]==t].groupby(\"ExpectedOrderDate\").median()[numerical_group]),\n",
    "                             name=t))\n",
    "    if agg_method == \"std\":\n",
    "        fig.add_trace(go.Bar(x=df_num[df_num[group]==t].groupby(\"ExpectedOrderDate\").std()[[numerical_group]].index,\n",
    "                             y=list(df_num[df_num[group]==t].groupby(\"ExpectedOrderDate\").std()[numerical_group]),\n",
    "                             name=t))\n",
    "\n",
    "fig.update_layout(title = \"{} of {} grouped by {}\".format(agg_method,numerical_group,group),\n",
    "                  barmode='stack', \n",
    "                  xaxis={'categoryorder':'category ascending'},\n",
    "                  legend_title_text= group,\n",
    "                  xaxis_title=\"Date\",\n",
    "                  yaxis_title=\"{} {}\".format(numerical_group, agg_method),\n",
    "                  font=dict(\n",
    "                      #family=\"Courier New, monospace\",\n",
    "                      size=12,\n",
    "                      color=\"#000000\"\n",
    "                    ))\n",
    "fig.show()"
   ]
  },
  {
   "cell_type": "code",
   "execution_count": null,
   "metadata": {},
   "outputs": [],
   "source": [
    "included_columns_date = [\"Div\",\"Branch\",\"OAM\",\"LeadType\",\"Type\",\"New\",\"Stage\"]"
   ]
  },
  {
   "cell_type": "code",
   "execution_count": null,
   "metadata": {},
   "outputs": [],
   "source": []
  }
 ],
 "metadata": {
  "kernelspec": {
   "display_name": "Python 3",
   "language": "python",
   "name": "python3"
  },
  "language_info": {
   "codemirror_mode": {
    "name": "ipython",
    "version": 3
   },
   "file_extension": ".py",
   "mimetype": "text/x-python",
   "name": "python",
   "nbconvert_exporter": "python",
   "pygments_lexer": "ipython3",
   "version": "3.7.3"
  }
 },
 "nbformat": 4,
 "nbformat_minor": 2
}

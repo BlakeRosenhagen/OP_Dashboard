{
 "cells": [
  {
   "cell_type": "code",
   "execution_count": 2,
   "metadata": {},
   "outputs": [
    {
     "name": "stderr",
     "output_type": "stream",
     "text": [
      "C:\\Users\\blake\\Documents\\Future\\GitHub_Repo_Projects\\awc\\clean\\clean\\prep.py:116: SettingWithCopyWarning:\n",
      "\n",
      "\n",
      "A value is trying to be set on a copy of a slice from a DataFrame.\n",
      "Try using .loc[row_indexer,col_indexer] = value instead\n",
      "\n",
      "See the caveats in the documentation: http://pandas.pydata.org/pandas-docs/stable/indexing.html#indexing-view-versus-copy\n",
      "\n",
      "C:\\Users\\blake\\Documents\\Future\\GitHub_Repo_Projects\\awc\\clean\\clean\\prep.py:117: SettingWithCopyWarning:\n",
      "\n",
      "\n",
      "A value is trying to be set on a copy of a slice from a DataFrame.\n",
      "Try using .loc[row_indexer,col_indexer] = value instead\n",
      "\n",
      "See the caveats in the documentation: http://pandas.pydata.org/pandas-docs/stable/indexing.html#indexing-view-versus-copy\n",
      "\n",
      "C:\\Users\\blake\\Documents\\Future\\GitHub_Repo_Projects\\awc\\clean\\clean\\prep.py:118: SettingWithCopyWarning:\n",
      "\n",
      "\n",
      "A value is trying to be set on a copy of a slice from a DataFrame.\n",
      "Try using .loc[row_indexer,col_indexer] = value instead\n",
      "\n",
      "See the caveats in the documentation: http://pandas.pydata.org/pandas-docs/stable/indexing.html#indexing-view-versus-copy\n",
      "\n",
      "C:\\Users\\blake\\Documents\\Future\\GitHub_Repo_Projects\\awc\\clean\\clean\\prep.py:120: SettingWithCopyWarning:\n",
      "\n",
      "\n",
      "A value is trying to be set on a copy of a slice from a DataFrame.\n",
      "Try using .loc[row_indexer,col_indexer] = value instead\n",
      "\n",
      "See the caveats in the documentation: http://pandas.pydata.org/pandas-docs/stable/indexing.html#indexing-view-versus-copy\n",
      "\n",
      "C:\\Users\\blake\\Documents\\Future\\GitHub_Repo_Projects\\awc\\clean\\clean\\prep.py:124: SettingWithCopyWarning:\n",
      "\n",
      "\n",
      "A value is trying to be set on a copy of a slice from a DataFrame.\n",
      "Try using .loc[row_indexer,col_indexer] = value instead\n",
      "\n",
      "See the caveats in the documentation: http://pandas.pydata.org/pandas-docs/stable/indexing.html#indexing-view-versus-copy\n",
      "\n",
      "C:\\Users\\blake\\Documents\\Future\\GitHub_Repo_Projects\\awc\\clean\\clean\\prep.py:125: SettingWithCopyWarning:\n",
      "\n",
      "\n",
      "A value is trying to be set on a copy of a slice from a DataFrame.\n",
      "Try using .loc[row_indexer,col_indexer] = value instead\n",
      "\n",
      "See the caveats in the documentation: http://pandas.pydata.org/pandas-docs/stable/indexing.html#indexing-view-versus-copy\n",
      "\n",
      "C:\\Users\\blake\\Documents\\Future\\GitHub_Repo_Projects\\awc\\clean\\clean\\prep.py:127: SettingWithCopyWarning:\n",
      "\n",
      "\n",
      "A value is trying to be set on a copy of a slice from a DataFrame.\n",
      "Try using .loc[row_indexer,col_indexer] = value instead\n",
      "\n",
      "See the caveats in the documentation: http://pandas.pydata.org/pandas-docs/stable/indexing.html#indexing-view-versus-copy\n",
      "\n",
      "C:\\Users\\blake\\Anaconda3\\lib\\site-packages\\pandas\\core\\frame.py:6692: FutureWarning:\n",
      "\n",
      "Sorting because non-concatenation axis is not aligned. A future version\n",
      "of pandas will change to not sort by default.\n",
      "\n",
      "To accept the future behavior, pass 'sort=False'.\n",
      "\n",
      "To retain the current behavior and silence the warning, pass 'sort=True'.\n",
      "\n",
      "\n"
     ]
    }
   ],
   "source": [
    "import pandas as pd\n",
    "import index\n",
    "from prep import get_data\n",
    "import plotly.graph_objects as go"
   ]
  },
  {
   "cell_type": "code",
   "execution_count": null,
   "metadata": {},
   "outputs": [],
   "source": [
    "run index"
   ]
  },
  {
   "cell_type": "code",
   "execution_count": 4,
   "metadata": {},
   "outputs": [
    {
     "name": "stderr",
     "output_type": "stream",
     "text": [
      "C:\\Users\\blake\\Documents\\Future\\GitHub_Repo_Projects\\awc\\clean\\clean\\prep.py:116: SettingWithCopyWarning:\n",
      "\n",
      "\n",
      "A value is trying to be set on a copy of a slice from a DataFrame.\n",
      "Try using .loc[row_indexer,col_indexer] = value instead\n",
      "\n",
      "See the caveats in the documentation: http://pandas.pydata.org/pandas-docs/stable/indexing.html#indexing-view-versus-copy\n",
      "\n",
      "C:\\Users\\blake\\Documents\\Future\\GitHub_Repo_Projects\\awc\\clean\\clean\\prep.py:117: SettingWithCopyWarning:\n",
      "\n",
      "\n",
      "A value is trying to be set on a copy of a slice from a DataFrame.\n",
      "Try using .loc[row_indexer,col_indexer] = value instead\n",
      "\n",
      "See the caveats in the documentation: http://pandas.pydata.org/pandas-docs/stable/indexing.html#indexing-view-versus-copy\n",
      "\n",
      "C:\\Users\\blake\\Documents\\Future\\GitHub_Repo_Projects\\awc\\clean\\clean\\prep.py:118: SettingWithCopyWarning:\n",
      "\n",
      "\n",
      "A value is trying to be set on a copy of a slice from a DataFrame.\n",
      "Try using .loc[row_indexer,col_indexer] = value instead\n",
      "\n",
      "See the caveats in the documentation: http://pandas.pydata.org/pandas-docs/stable/indexing.html#indexing-view-versus-copy\n",
      "\n",
      "C:\\Users\\blake\\Documents\\Future\\GitHub_Repo_Projects\\awc\\clean\\clean\\prep.py:120: SettingWithCopyWarning:\n",
      "\n",
      "\n",
      "A value is trying to be set on a copy of a slice from a DataFrame.\n",
      "Try using .loc[row_indexer,col_indexer] = value instead\n",
      "\n",
      "See the caveats in the documentation: http://pandas.pydata.org/pandas-docs/stable/indexing.html#indexing-view-versus-copy\n",
      "\n",
      "C:\\Users\\blake\\Documents\\Future\\GitHub_Repo_Projects\\awc\\clean\\clean\\prep.py:124: SettingWithCopyWarning:\n",
      "\n",
      "\n",
      "A value is trying to be set on a copy of a slice from a DataFrame.\n",
      "Try using .loc[row_indexer,col_indexer] = value instead\n",
      "\n",
      "See the caveats in the documentation: http://pandas.pydata.org/pandas-docs/stable/indexing.html#indexing-view-versus-copy\n",
      "\n",
      "C:\\Users\\blake\\Documents\\Future\\GitHub_Repo_Projects\\awc\\clean\\clean\\prep.py:125: SettingWithCopyWarning:\n",
      "\n",
      "\n",
      "A value is trying to be set on a copy of a slice from a DataFrame.\n",
      "Try using .loc[row_indexer,col_indexer] = value instead\n",
      "\n",
      "See the caveats in the documentation: http://pandas.pydata.org/pandas-docs/stable/indexing.html#indexing-view-versus-copy\n",
      "\n",
      "C:\\Users\\blake\\Documents\\Future\\GitHub_Repo_Projects\\awc\\clean\\clean\\prep.py:127: SettingWithCopyWarning:\n",
      "\n",
      "\n",
      "A value is trying to be set on a copy of a slice from a DataFrame.\n",
      "Try using .loc[row_indexer,col_indexer] = value instead\n",
      "\n",
      "See the caveats in the documentation: http://pandas.pydata.org/pandas-docs/stable/indexing.html#indexing-view-versus-copy\n",
      "\n",
      "C:\\Users\\blake\\Anaconda3\\lib\\site-packages\\pandas\\core\\frame.py:6692: FutureWarning:\n",
      "\n",
      "Sorting because non-concatenation axis is not aligned. A future version\n",
      "of pandas will change to not sort by default.\n",
      "\n",
      "To accept the future behavior, pass 'sort=False'.\n",
      "\n",
      "To retain the current behavior and silence the warning, pass 'sort=True'.\n",
      "\n",
      "\n"
     ]
    }
   ],
   "source": [
    " df, df_num, df_noncumun_whole, noncumun_dfs = get_data()"
   ]
  },
  {
   "cell_type": "code",
   "execution_count": null,
   "metadata": {},
   "outputs": [],
   "source": [
    "run index"
   ]
  },
  {
   "cell_type": "code",
   "execution_count": null,
   "metadata": {},
   "outputs": [],
   "source": [
    "pd.set_option('display.max_columns', None)\n",
    "df_num"
   ]
  },
  {
   "cell_type": "code",
   "execution_count": null,
   "metadata": {},
   "outputs": [],
   "source": []
  },
  {
   "cell_type": "code",
   "execution_count": null,
   "metadata": {},
   "outputs": [],
   "source": [
    "df_num.groupby(\"ExpectedOrderDate\").mean().index"
   ]
  },
  {
   "cell_type": "code",
   "execution_count": null,
   "metadata": {},
   "outputs": [],
   "source": [
    "dftest = df_num[df_num[\"Type\"]==\"OEM\"].groupby(\"ExpectedOrderDate\")"
   ]
  },
  {
   "cell_type": "code",
   "execution_count": null,
   "metadata": {},
   "outputs": [],
   "source": [
    "df_num[df_num[\"ExpectedOrderDate\"] >= pd.to_datetime('2020-1-1')].groupby(\"ExpectedOrderDate\").mean().index"
   ]
  },
  {
   "cell_type": "code",
   "execution_count": null,
   "metadata": {},
   "outputs": [],
   "source": [
    "df_num[df_num[\"ExpectedOrderDate\"]>2020-1-1].groupby(\"ExpectedOrderDate\").mean()[\"PotentialValue\"]"
   ]
  },
  {
   "cell_type": "code",
   "execution_count": null,
   "metadata": {},
   "outputs": [],
   "source": [
    "list(df_num[df_num[\"Type\"]==t].groupby(\"ExpectedOrderDateM\").mean()[numerical_group].index)"
   ]
  },
  {
   "cell_type": "code",
   "execution_count": 8,
   "metadata": {
    "scrolled": false
   },
   "outputs": [
    {
     "data": {
      "application/vnd.plotly.v1+json": {
       "config": {
        "plotlyServerURL": "https://plot.ly"
       },
       "data": [
        {
         "name": "Central Texas Industrial, LLC",
         "type": "bar",
         "x": [
          "2020-08-01T00:00:00"
         ],
         "y": [
          7753
         ]
        },
        {
         "name": "DMS",
         "type": "bar",
         "x": [
          "2020-07-15T00:00:00"
         ],
         "y": [
          45000
         ]
        },
        {
         "name": "DSI",
         "type": "bar",
         "x": [
          "2020-06-30T00:00:00"
         ],
         "y": [
          84867
         ]
        },
        {
         "name": "ICU Medical",
         "type": "bar",
         "x": [
          "2020-10-15T00:00:00"
         ],
         "y": [
          10000
         ]
        },
        {
         "name": "Patti Engr",
         "type": "bar",
         "x": [
          "2020-09-01T00:00:00"
         ],
         "y": [
          55000
         ]
        },
        {
         "name": "Prime Controls",
         "type": "bar",
         "x": [
          "2020-06-01T00:00:00"
         ],
         "y": [
          27500
         ]
        },
        {
         "name": "Samsung",
         "type": "bar",
         "x": [
          "2020-05-20T00:00:00",
          "2020-07-15T00:00:00",
          "2020-09-01T00:00:00"
         ],
         "y": [
          11040,
          18000,
          333404
         ]
        },
        {
         "name": "Solaris Oilfield Infrastructure",
         "type": "bar",
         "x": [
          "2020-07-01T00:00:00"
         ],
         "y": [
          44226
         ]
        },
        {
         "name": "Ultra Electronics",
         "type": "bar",
         "x": [
          "2020-07-01T00:00:00"
         ],
         "y": [
          23000
         ]
        },
        {
         "name": "Urban Mining",
         "type": "bar",
         "x": [
          "2020-06-01T00:00:00",
          "2020-06-15T00:00:00"
         ],
         "y": [
          10000,
          21000
         ]
        },
        {
         "name": "WINSTON WATER COOLER OF AUSTIN",
         "type": "bar",
         "x": [
          "2020-06-15T00:00:00"
         ],
         "y": [
          14840
         ]
        },
        {
         "name": "G-Con Manufacturing",
         "type": "bar",
         "x": [
          "2020-06-04T00:00:00",
          "2020-06-10T00:00:00"
         ],
         "y": [
          125000,
          250000
         ]
        },
        {
         "name": "LSPI",
         "type": "bar",
         "x": [
          "2020-06-03T00:00:00",
          "2020-06-15T00:00:00"
         ],
         "y": [
          20000,
          5150000
         ]
        },
        {
         "name": "OVIVO LLC",
         "type": "bar",
         "x": [
          "2020-02-01T00:00:00",
          "2020-04-15T00:00:00",
          "2020-05-29T00:00:00",
          "2020-10-05T00:00:00"
         ],
         "y": [
          80000,
          7000,
          12000,
          160000
         ]
        },
        {
         "name": "RapidDeploy",
         "type": "bar",
         "x": [
          "2020-10-15T00:00:00"
         ],
         "y": [
          25000
         ]
        },
        {
         "name": "SkyVenture",
         "type": "bar",
         "x": [
          "2020-10-15T00:00:00"
         ],
         "y": [
          250000
         ]
        },
        {
         "name": "Austin White Lime",
         "type": "bar",
         "x": [
          "2020-10-01T00:00:00"
         ],
         "y": [
          75000
         ]
        },
        {
         "name": "Brandt Companies",
         "type": "bar",
         "x": [
          "2020-09-01T00:00:00"
         ],
         "y": [
          65000
         ]
        },
        {
         "name": "Capitol Aggregates",
         "type": "bar",
         "x": [
          "2020-12-01T00:00:00"
         ],
         "y": [
          110000
         ]
        },
        {
         "name": "Central Texas Water Maint.",
         "type": "bar",
         "x": [
          "2020-06-01T00:00:00"
         ],
         "y": [
          10000
         ]
        },
        {
         "name": "City of Cameron",
         "type": "bar",
         "x": [
          "2020-07-01T00:00:00"
         ],
         "y": [
          20000
         ]
        },
        {
         "name": "City of Miles",
         "type": "bar",
         "x": [
          "2020-05-19T00:00:00"
         ],
         "y": [
          7500
         ]
        },
        {
         "name": "Fox Robotics",
         "type": "bar",
         "x": [
          "2020-07-01T00:00:00"
         ],
         "y": [
          50000
         ]
        },
        {
         "name": "General Motors",
         "type": "bar",
         "x": [
          "2021-01-01T00:00:00"
         ],
         "y": [
          100000
         ]
        },
        {
         "name": "Gibraltar",
         "type": "bar",
         "x": [
          "2020-10-01T00:00:00",
          "2021-01-01T00:00:00"
         ],
         "y": [
          50000,
          75000
         ]
        },
        {
         "name": "Lhoist",
         "type": "bar",
         "x": [
          "2020-06-01T00:00:00"
         ],
         "y": [
          50000
         ]
        },
        {
         "name": "Lock Joint Tube",
         "type": "bar",
         "x": [
          "2020-08-01T00:00:00"
         ],
         "y": [
          60000
         ]
        },
        {
         "name": "RSI-CRI",
         "type": "bar",
         "x": [
          "2020-07-01T00:00:00"
         ],
         "y": [
          10000
         ]
        },
        {
         "name": "Salem Ridge",
         "type": "bar",
         "x": [
          "2020-07-01T00:00:00"
         ],
         "y": [
          20000
         ]
        },
        {
         "name": "Undine",
         "type": "bar",
         "x": [
          "2020-06-01T00:00:00"
         ],
         "y": [
          75000
         ]
        },
        {
         "name": "Thermon",
         "type": "bar",
         "x": [
          "2020-08-01T00:00:00",
          "2020-09-01T00:00:00"
         ],
         "y": [
          250000,
          250000
         ]
        },
        {
         "name": "TMT Solutions",
         "type": "bar",
         "x": [
          "2020-06-01T00:00:00"
         ],
         "y": [
          100000
         ]
        },
        {
         "name": "TNG Utility",
         "type": "bar",
         "x": [
          "2020-08-01T00:00:00"
         ],
         "y": [
          100000
         ]
        },
        {
         "name": "United Rentals",
         "type": "bar",
         "x": [
          "2020-08-01T00:00:00"
         ],
         "y": [
          10000
         ]
        },
        {
         "name": "XBiotech",
         "type": "bar",
         "x": [
          "2020-10-01T00:00:00"
         ],
         "y": [
          50000
         ]
        },
        {
         "name": "Texas A&M",
         "type": "bar",
         "x": [
          "2020-06-01T00:00:00"
         ],
         "y": [
          2000
         ]
        },
        {
         "name": "Sarentec",
         "type": "bar",
         "x": [
          "2020-07-01T00:00:00"
         ],
         "y": [
          60000
         ]
        },
        {
         "name": "Capital Area Utility",
         "type": "bar",
         "x": [
          "2020-07-01T00:00:00"
         ],
         "y": [
          10000
         ]
        },
        {
         "name": "Hospira ICU Med",
         "type": "bar",
         "x": [
          "2020-07-01T00:00:00"
         ],
         "y": [
          75000
         ]
        },
        {
         "name": "Endeavor Energy",
         "type": "bar",
         "x": [
          "2020-05-31T00:00:00"
         ],
         "y": [
          12000
         ]
        },
        {
         "name": "XTO Energy",
         "type": "bar",
         "x": [
          "2020-05-31T00:00:00",
          "2020-06-30T00:00:00"
         ],
         "y": [
          100000,
          360000
         ]
        },
        {
         "name": "Concho Resources",
         "type": "bar",
         "x": [
          "2020-07-31T00:00:00"
         ],
         "y": [
          100000
         ]
        },
        {
         "name": "Discovery Natural Resources",
         "type": "bar",
         "x": [
          "2020-07-31T00:00:00"
         ],
         "y": [
          20000
         ]
        },
        {
         "name": "Pioneer Natural Resources",
         "type": "bar",
         "x": [
          "2020-06-30T00:00:00"
         ],
         "y": [
          25000
         ]
        },
        {
         "name": "RR MACHINE",
         "type": "bar",
         "x": [
          "2020-05-31T00:00:00"
         ],
         "y": [
          15000
         ]
        },
        {
         "name": "Sika Sales",
         "type": "bar",
         "x": [
          "2020-06-15T00:00:00"
         ],
         "y": [
          70000
         ]
        },
        {
         "name": "White Energy  Hereford",
         "type": "bar",
         "x": [
          "2020-06-30T00:00:00"
         ],
         "y": [
          13000
         ]
        },
        {
         "name": "Valero/McKees Refinery",
         "type": "bar",
         "x": [
          "2020-06-15T00:00:00"
         ],
         "y": [
          45000
         ]
        },
        {
         "name": "Laredo Petroleum",
         "type": "bar",
         "x": [
          "2020-05-15T00:00:00"
         ],
         "y": [
          24000
         ]
        },
        {
         "name": "Capitan Energy",
         "type": "bar",
         "x": [
          "2020-06-30T00:00:00"
         ],
         "y": [
          10000
         ]
        },
        {
         "name": "Scada Systems",
         "type": "bar",
         "x": [
          "2020-06-30T00:00:00"
         ],
         "y": [
          37000
         ]
        },
        {
         "name": "Felix Water",
         "type": "bar",
         "x": [
          "2020-05-15T00:00:00"
         ],
         "y": [
          50000
         ]
        },
        {
         "name": "IACX",
         "type": "bar",
         "x": [
          "2020-06-30T00:00:00"
         ],
         "y": [
          120000
         ]
        },
        {
         "name": "Tom-E-Lee Industries",
         "type": "bar",
         "x": [
          "2020-06-22T00:00:00"
         ],
         "y": [
          20000
         ]
        },
        {
         "name": "Tank Logix",
         "type": "bar",
         "x": [
          "2020-06-30T00:00:00"
         ],
         "y": [
          25000
         ]
        },
        {
         "name": "PFP Industries",
         "type": "bar",
         "x": [
          "2020-05-31T00:00:00"
         ],
         "y": [
          75000
         ]
        },
        {
         "name": "Apache - St Lawrence",
         "type": "bar",
         "x": [
          "2020-05-31T00:00:00"
         ],
         "y": [
          10000
         ]
        },
        {
         "name": "EOG Resources",
         "type": "bar",
         "x": [
          "2020-06-30T00:00:00"
         ],
         "y": [
          85000
         ]
        },
        {
         "name": "CP CHEM",
         "type": "bar",
         "x": [
          "2020-07-30T00:00:00"
         ],
         "y": [
          300000
         ]
        },
        {
         "name": "Applied Industrial Technologies",
         "type": "bar",
         "x": [
          "2020-10-21T00:00:00"
         ],
         "y": [
          30000
         ]
        },
        {
         "name": "World Water Worlds",
         "type": "bar",
         "x": [
          "2020-05-28T00:00:00"
         ],
         "y": [
          20000
         ]
        },
        {
         "name": "ReelPower",
         "type": "bar",
         "x": [
          "2020-06-10T00:00:00",
          "2020-06-20T00:00:00",
          "2020-08-20T00:00:00"
         ],
         "y": [
          60000,
          35000,
          35000
         ]
        },
        {
         "name": "Baker Hughes",
         "type": "bar",
         "x": [
          "2020-05-31T00:00:00",
          "2020-12-31T00:00:00"
         ],
         "y": [
          30000,
          1500000
         ]
        },
        {
         "name": "DCP Midstream",
         "type": "bar",
         "x": [
          "2020-05-28T00:00:00"
         ],
         "y": [
          125000
         ]
        },
        {
         "name": "Filtration Group",
         "type": "bar",
         "x": [
          "2020-05-14T00:00:00"
         ],
         "y": [
          100000
         ]
        },
        {
         "name": "Devon",
         "type": "bar",
         "x": [
          "2020-07-31T00:00:00"
         ],
         "y": [
          50000
         ]
        },
        {
         "name": "Valiant",
         "type": "bar",
         "x": [
          "2020-06-03T00:00:00"
         ],
         "y": [
          50000
         ]
        },
        {
         "name": "Burford",
         "type": "bar",
         "x": [
          "2020-07-08T00:00:00"
         ],
         "y": [
          65000
         ]
        },
        {
         "name": "Osco",
         "type": "bar",
         "x": [
          "2020-06-15T00:00:00"
         ],
         "y": [
          20000
         ]
        },
        {
         "name": "DaPro Rubber",
         "type": "bar",
         "x": [
          "2020-06-15T00:00:00"
         ],
         "y": [
          15000
         ]
        },
        {
         "name": "GPS",
         "type": "bar",
         "x": [
          "2020-06-15T00:00:00"
         ],
         "y": [
          40000
         ]
        },
        {
         "name": "Tinker",
         "type": "bar",
         "x": [
          "2020-05-20T00:00:00"
         ],
         "y": [
          7500
         ]
        },
        {
         "name": "Caterpillar",
         "type": "bar",
         "x": [
          "2020-07-01T00:00:00"
         ],
         "y": [
          70000
         ]
        },
        {
         "name": "CGT",
         "type": "bar",
         "x": [
          "2020-08-01T00:00:00"
         ],
         "y": [
          20000
         ]
        },
        {
         "name": "Curl Industries",
         "type": "bar",
         "x": [
          "2020-08-01T00:00:00"
         ],
         "y": [
          16000
         ]
        },
        {
         "name": "HEB",
         "type": "bar",
         "x": [
          "2020-07-01T00:00:00"
         ],
         "y": [
          500000
         ]
        },
        {
         "name": "Integrated Shredder Technology",
         "type": "bar",
         "x": [
          "2020-08-01T00:00:00"
         ],
         "y": [
          10000
         ]
        },
        {
         "name": "P&S Scale",
         "type": "bar",
         "x": [
          "2020-05-15T00:00:00"
         ],
         "y": [
          21000
         ]
        },
        {
         "name": "SWRI",
         "type": "bar",
         "x": [
          "2020-05-15T00:00:00"
         ],
         "y": [
          10000
         ]
        },
        {
         "name": "Encino",
         "type": "bar",
         "x": [
          "2020-05-25T00:00:00"
         ],
         "y": [
          10000
         ]
        },
        {
         "name": "AGI",
         "type": "bar",
         "x": [
          "2020-11-01T00:00:00"
         ],
         "y": [
          300000
         ]
        },
        {
         "name": "Alterman",
         "type": "bar",
         "x": [
          "2020-10-01T00:00:00"
         ],
         "y": [
          200000
         ]
        },
        {
         "name": "BWDG",
         "type": "bar",
         "x": [
          "2020-08-01T00:00:00"
         ],
         "y": [
          75000
         ]
        },
        {
         "name": "Colexas Digital",
         "type": "bar",
         "x": [
          "2020-06-01T00:00:00"
         ],
         "y": [
          50000
         ]
        },
        {
         "name": "NYATI Services",
         "type": "bar",
         "x": [
          "2020-07-01T00:00:00"
         ],
         "y": [
          120000
         ]
        },
        {
         "name": "Quest Automated",
         "type": "bar",
         "x": [
          "2020-10-01T00:00:00"
         ],
         "y": [
          50000
         ]
        },
        {
         "name": "Toyota",
         "type": "bar",
         "x": [
          "2020-07-01T00:00:00"
         ],
         "y": [
          20000
         ]
        },
        {
         "name": "Twilight Services",
         "type": "bar",
         "x": [
          "2020-06-05T00:00:00",
          "2020-07-01T00:00:00"
         ],
         "y": [
          50000,
          15000
         ]
        },
        {
         "name": "Sentry Technologies",
         "type": "bar",
         "x": [
          "2020-07-01T00:00:00"
         ],
         "y": [
          60000
         ]
        },
        {
         "name": "Alliance OGP",
         "type": "bar",
         "x": [
          "2020-06-30T00:00:00"
         ],
         "y": [
          30000
         ]
        },
        {
         "name": "NOV - AFE",
         "type": "bar",
         "x": [
          "2020-06-30T00:00:00"
         ],
         "y": [
          150000
         ]
        },
        {
         "name": "NOV - Bammel",
         "type": "bar",
         "x": [
          "2020-09-30T00:00:00"
         ],
         "y": [
          100000
         ]
        },
        {
         "name": "NOV - Brandt",
         "type": "bar",
         "x": [
          "2020-07-15T00:00:00"
         ],
         "y": [
          20000
         ]
        },
        {
         "name": "NOV - PCG",
         "type": "bar",
         "x": [
          "2020-06-30T00:00:00"
         ],
         "y": [
          40000
         ]
        },
        {
         "name": "Powell",
         "type": "bar",
         "x": [
          "2020-06-30T00:00:00"
         ],
         "y": [
          50000
         ]
        },
        {
         "name": "Transocean",
         "type": "bar",
         "x": [
          "2020-06-05T00:00:00",
          "2020-06-30T00:00:00",
          "2020-07-01T00:00:00"
         ],
         "y": [
          266000,
          71000,
          560000
         ]
        },
        {
         "name": "Elgin Separation Solutions",
         "type": "bar",
         "x": [
          "2020-07-15T00:00:00"
         ],
         "y": [
          200000
         ]
        },
        {
         "name": "Custom Control",
         "type": "bar",
         "x": [
          "2020-10-01T00:00:00"
         ],
         "y": [
          50000
         ]
        },
        {
         "name": "NOV",
         "type": "bar",
         "x": [
          "2020-07-15T00:00:00",
          "2020-08-15T00:00:00"
         ],
         "y": [
          100000,
          150000
         ]
        },
        {
         "name": "Absolute Control",
         "type": "bar",
         "x": [
          "2020-08-15T00:00:00"
         ],
         "y": [
          120000
         ]
        },
        {
         "name": "Lee Engineering",
         "type": "bar",
         "x": [
          "2020-06-30T00:00:00"
         ],
         "y": [
          100000
         ]
        },
        {
         "name": "City of Houston",
         "type": "bar",
         "x": [
          "2020-09-15T00:00:00"
         ],
         "y": [
          50000
         ]
        },
        {
         "name": "RAE Engineering",
         "type": "bar",
         "x": [
          "2020-06-30T00:00:00"
         ],
         "y": [
          150000
         ]
        },
        {
         "name": "Lone Star Blower",
         "type": "bar",
         "x": [
          "2020-07-15T00:00:00"
         ],
         "y": [
          200000
         ]
        },
        {
         "name": "Valaris",
         "type": "bar",
         "x": [
          "2020-08-01T00:00:00"
         ],
         "y": [
          50000
         ]
        },
        {
         "name": "Windlass ",
         "type": "bar",
         "x": [
          "2020-07-01T00:00:00"
         ],
         "y": [
          20000
         ]
        },
        {
         "name": "Thrustmaster",
         "type": "bar",
         "x": [
          "2020-07-01T00:00:00"
         ],
         "y": [
          150000
         ]
        },
        {
         "name": "Flint Hills Resources",
         "type": "bar",
         "x": [
          "2020-05-29T00:00:00",
          "2020-07-15T00:00:00",
          "2020-10-01T00:00:00"
         ],
         "y": [
          45000,
          53000,
          225000
         ]
        },
        {
         "name": "Formosa",
         "type": "bar",
         "x": [
          "2020-07-15T00:00:00",
          "2020-07-30T00:00:00"
         ],
         "y": [
          147000,
          24700
         ]
        },
        {
         "name": "Invista",
         "type": "bar",
         "x": [
          "2020-06-15T00:00:00"
         ],
         "y": [
          200000
         ]
        },
        {
         "name": "Seadrift Coke",
         "type": "bar",
         "x": [
          "2020-06-15T00:00:00"
         ],
         "y": [
          250000
         ]
        },
        {
         "name": "Oxy",
         "type": "bar",
         "x": [
          "2020-11-15T00:00:00"
         ],
         "y": [
          500000
         ]
        },
        {
         "name": "Signet",
         "type": "bar",
         "x": [
          "2020-07-01T00:00:00"
         ],
         "y": [
          60000
         ]
        },
        {
         "name": "Valero CC",
         "type": "bar",
         "x": [
          "2020-05-29T00:00:00",
          "2021-01-30T00:00:00"
         ],
         "y": [
          25000,
          125000
         ]
        },
        {
         "name": "Citgo",
         "type": "bar",
         "x": [
          "2020-06-01T00:00:00"
         ],
         "y": [
          35000
         ]
        },
        {
         "name": "Ingleside Ethelene",
         "type": "bar",
         "x": [
          "2020-06-15T00:00:00"
         ],
         "y": [
          28000
         ]
        },
        {
         "name": "BASF",
         "type": "bar",
         "x": [
          "2020-06-01T00:00:00"
         ],
         "y": [
          52000
         ]
        },
        {
         "name": "Buckeye",
         "type": "bar",
         "x": [
          "2020-06-15T00:00:00"
         ],
         "y": [
          25000
         ]
        },
        {
         "name": "Affinity Power System",
         "type": "bar",
         "x": [
          "2020-06-30T00:00:00",
          "2020-07-31T00:00:00"
         ],
         "y": [
          269355,
          396350
         ]
        },
        {
         "name": "Clemtex",
         "type": "bar",
         "x": [
          "2020-05-31T00:00:00"
         ],
         "y": [
          30000
         ]
        },
        {
         "name": "Harrison Hydragen",
         "type": "bar",
         "x": [
          "2020-12-01T00:00:00"
         ],
         "y": [
          80000
         ]
        },
        {
         "name": "Custom Air Products",
         "type": "bar",
         "x": [
          "2020-12-01T00:00:00"
         ],
         "y": [
          100000
         ]
        },
        {
         "name": "Watlow",
         "type": "bar",
         "x": [
          "2020-12-01T00:00:00"
         ],
         "y": [
          60000
         ]
        },
        {
         "name": "W-Industries",
         "type": "bar",
         "x": [
          "2020-12-01T00:00:00"
         ],
         "y": [
          50000
         ]
        },
        {
         "name": "Safety Vision",
         "type": "bar",
         "x": [
          "2020-12-01T00:00:00"
         ],
         "y": [
          500000
         ]
        },
        {
         "name": "PC3",
         "type": "bar",
         "x": [
          "2020-12-01T00:00:00"
         ],
         "y": [
          150000
         ]
        },
        {
         "name": "Dresser Gimpel",
         "type": "bar",
         "x": [
          "2020-12-01T00:00:00"
         ],
         "y": [
          150000
         ]
        },
        {
         "name": "H2O Unlimited",
         "type": "bar",
         "x": [
          "2020-12-01T00:00:00"
         ],
         "y": [
          100000
         ]
        },
        {
         "name": "FW Murphy",
         "type": "bar",
         "x": [
          "2020-05-01T00:00:00",
          "2020-08-01T00:00:00",
          "2020-12-01T00:00:00"
         ],
         "y": [
          80000,
          120000,
          1000000
         ]
        },
        {
         "name": "Rototherm",
         "type": "bar",
         "x": [
          "2020-08-01T00:00:00"
         ],
         "y": [
          350000
         ]
        },
        {
         "name": "FLEX",
         "type": "bar",
         "x": [
          "2020-08-01T00:00:00"
         ],
         "y": [
          65000
         ]
        },
        {
         "name": "Emerson",
         "type": "bar",
         "x": [
          "2020-08-01T00:00:00"
         ],
         "y": [
          16000
         ]
        },
        {
         "name": "Marine Well Containment",
         "type": "bar",
         "x": [
          "2020-09-01T00:00:00"
         ],
         "y": [
          350000
         ]
        },
        {
         "name": "Technip FMC",
         "type": "bar",
         "x": [
          "2020-06-01T00:00:00",
          "2020-08-01T00:00:00"
         ],
         "y": [
          100000,
          80000
         ]
        },
        {
         "name": "Enerflex",
         "type": "bar",
         "x": [
          "2020-08-01T00:00:00"
         ],
         "y": [
          25000
         ]
        },
        {
         "name": "Rio Marine",
         "type": "bar",
         "x": [
          "2020-07-01T00:00:00"
         ],
         "y": [
          50000
         ]
        },
        {
         "name": "Surge",
         "type": "bar",
         "x": [
          "2020-05-20T00:00:00",
          "2020-07-01T00:00:00",
          "2020-12-01T00:00:00"
         ],
         "y": [
          10000,
          100000,
          100000
         ]
        },
        {
         "name": "Solarcraft",
         "type": "bar",
         "x": [
          "2020-08-01T00:00:00"
         ],
         "y": [
          45000
         ]
        },
        {
         "name": "Intech Process Automation",
         "type": "bar",
         "x": [
          "2020-06-01T00:00:00"
         ],
         "y": [
          1290000
         ]
        },
        {
         "name": "Neuralabel",
         "type": "bar",
         "x": [
          "2020-10-31T00:00:00"
         ],
         "y": [
          30000
         ]
        },
        {
         "name": "Canrig",
         "type": "bar",
         "x": [
          "2020-10-31T00:00:00"
         ],
         "y": [
          40000
         ]
        },
        {
         "name": "Nabors",
         "type": "bar",
         "x": [
          "2020-10-31T00:00:00"
         ],
         "y": [
          500000
         ]
        },
        {
         "name": "Expro",
         "type": "bar",
         "x": [
          "2020-07-31T00:00:00",
          "2020-10-31T00:00:00"
         ],
         "y": [
          90000,
          100000
         ]
        },
        {
         "name": "Weatherford",
         "type": "bar",
         "x": [
          "2020-07-31T00:00:00"
         ],
         "y": [
          30000
         ]
        },
        {
         "name": "Safekick",
         "type": "bar",
         "x": [
          "2020-10-31T00:00:00"
         ],
         "y": [
          400000
         ]
        },
        {
         "name": "AF Global",
         "type": "bar",
         "x": [
          "2020-10-31T00:00:00"
         ],
         "y": [
          300000
         ]
        },
        {
         "name": "City of Houston Drinking Water",
         "type": "bar",
         "x": [
          "2020-06-30T00:00:00",
          "2020-07-31T00:00:00"
         ],
         "y": [
          47035,
          20000
         ]
        },
        {
         "name": "Usemco",
         "type": "bar",
         "x": [
          "2020-06-30T00:00:00"
         ],
         "y": [
          10000
         ]
        },
        {
         "name": "NW Natural - T&W Water",
         "type": "bar",
         "x": [
          "2020-05-31T00:00:00"
         ],
         "y": [
          133694
         ]
        },
        {
         "name": "City of Beaumont",
         "type": "bar",
         "x": [
          "2020-06-15T00:00:00",
          "2020-06-30T00:00:00"
         ],
         "y": [
          10000,
          16290
         ]
        },
        {
         "name": "TapcoEnpro",
         "type": "bar",
         "x": [
          "2020-07-31T00:00:00"
         ],
         "y": [
          66583
         ]
        },
        {
         "name": "Cameron",
         "type": "bar",
         "x": [
          "2020-06-30T00:00:00"
         ],
         "y": [
          10000
         ]
        },
        {
         "name": "Baker Hughes(Hydrill)",
         "type": "bar",
         "x": [
          "2020-06-10T00:00:00",
          "2020-07-31T00:00:00"
         ],
         "y": [
          224000,
          50000
         ]
        },
        {
         "name": "Relevant",
         "type": "bar",
         "x": [
          "2020-06-30T00:00:00"
         ],
         "y": [
          15000
         ]
        },
        {
         "name": "RelaDyne",
         "type": "bar",
         "x": [
          "2020-10-31T00:00:00"
         ],
         "y": [
          20000
         ]
        },
        {
         "name": "BYO Energy",
         "type": "bar",
         "x": [
          "2020-10-31T00:00:00"
         ],
         "y": [
          60000
         ]
        },
        {
         "name": "Jelec\\Evolution",
         "type": "bar",
         "x": [
          "2020-10-31T00:00:00"
         ],
         "y": [
          100000
         ]
        },
        {
         "name": "Kinetic Pressure Control",
         "type": "bar",
         "x": [
          "2020-10-31T00:00:00"
         ],
         "y": [
          30000
         ]
        }
       ],
       "layout": {
        "barmode": "stack",
        "font": {
         "color": "#000000",
         "size": 12
        },
        "legend": {
         "title": {
          "text": "Customer"
         }
        },
        "template": {
         "data": {
          "bar": [
           {
            "error_x": {
             "color": "#2a3f5f"
            },
            "error_y": {
             "color": "#2a3f5f"
            },
            "marker": {
             "line": {
              "color": "#E5ECF6",
              "width": 0.5
             }
            },
            "type": "bar"
           }
          ],
          "barpolar": [
           {
            "marker": {
             "line": {
              "color": "#E5ECF6",
              "width": 0.5
             }
            },
            "type": "barpolar"
           }
          ],
          "carpet": [
           {
            "aaxis": {
             "endlinecolor": "#2a3f5f",
             "gridcolor": "white",
             "linecolor": "white",
             "minorgridcolor": "white",
             "startlinecolor": "#2a3f5f"
            },
            "baxis": {
             "endlinecolor": "#2a3f5f",
             "gridcolor": "white",
             "linecolor": "white",
             "minorgridcolor": "white",
             "startlinecolor": "#2a3f5f"
            },
            "type": "carpet"
           }
          ],
          "choropleth": [
           {
            "colorbar": {
             "outlinewidth": 0,
             "ticks": ""
            },
            "type": "choropleth"
           }
          ],
          "contour": [
           {
            "colorbar": {
             "outlinewidth": 0,
             "ticks": ""
            },
            "colorscale": [
             [
              0,
              "#0d0887"
             ],
             [
              0.1111111111111111,
              "#46039f"
             ],
             [
              0.2222222222222222,
              "#7201a8"
             ],
             [
              0.3333333333333333,
              "#9c179e"
             ],
             [
              0.4444444444444444,
              "#bd3786"
             ],
             [
              0.5555555555555556,
              "#d8576b"
             ],
             [
              0.6666666666666666,
              "#ed7953"
             ],
             [
              0.7777777777777778,
              "#fb9f3a"
             ],
             [
              0.8888888888888888,
              "#fdca26"
             ],
             [
              1,
              "#f0f921"
             ]
            ],
            "type": "contour"
           }
          ],
          "contourcarpet": [
           {
            "colorbar": {
             "outlinewidth": 0,
             "ticks": ""
            },
            "type": "contourcarpet"
           }
          ],
          "heatmap": [
           {
            "colorbar": {
             "outlinewidth": 0,
             "ticks": ""
            },
            "colorscale": [
             [
              0,
              "#0d0887"
             ],
             [
              0.1111111111111111,
              "#46039f"
             ],
             [
              0.2222222222222222,
              "#7201a8"
             ],
             [
              0.3333333333333333,
              "#9c179e"
             ],
             [
              0.4444444444444444,
              "#bd3786"
             ],
             [
              0.5555555555555556,
              "#d8576b"
             ],
             [
              0.6666666666666666,
              "#ed7953"
             ],
             [
              0.7777777777777778,
              "#fb9f3a"
             ],
             [
              0.8888888888888888,
              "#fdca26"
             ],
             [
              1,
              "#f0f921"
             ]
            ],
            "type": "heatmap"
           }
          ],
          "heatmapgl": [
           {
            "colorbar": {
             "outlinewidth": 0,
             "ticks": ""
            },
            "colorscale": [
             [
              0,
              "#0d0887"
             ],
             [
              0.1111111111111111,
              "#46039f"
             ],
             [
              0.2222222222222222,
              "#7201a8"
             ],
             [
              0.3333333333333333,
              "#9c179e"
             ],
             [
              0.4444444444444444,
              "#bd3786"
             ],
             [
              0.5555555555555556,
              "#d8576b"
             ],
             [
              0.6666666666666666,
              "#ed7953"
             ],
             [
              0.7777777777777778,
              "#fb9f3a"
             ],
             [
              0.8888888888888888,
              "#fdca26"
             ],
             [
              1,
              "#f0f921"
             ]
            ],
            "type": "heatmapgl"
           }
          ],
          "histogram": [
           {
            "marker": {
             "colorbar": {
              "outlinewidth": 0,
              "ticks": ""
             }
            },
            "type": "histogram"
           }
          ],
          "histogram2d": [
           {
            "colorbar": {
             "outlinewidth": 0,
             "ticks": ""
            },
            "colorscale": [
             [
              0,
              "#0d0887"
             ],
             [
              0.1111111111111111,
              "#46039f"
             ],
             [
              0.2222222222222222,
              "#7201a8"
             ],
             [
              0.3333333333333333,
              "#9c179e"
             ],
             [
              0.4444444444444444,
              "#bd3786"
             ],
             [
              0.5555555555555556,
              "#d8576b"
             ],
             [
              0.6666666666666666,
              "#ed7953"
             ],
             [
              0.7777777777777778,
              "#fb9f3a"
             ],
             [
              0.8888888888888888,
              "#fdca26"
             ],
             [
              1,
              "#f0f921"
             ]
            ],
            "type": "histogram2d"
           }
          ],
          "histogram2dcontour": [
           {
            "colorbar": {
             "outlinewidth": 0,
             "ticks": ""
            },
            "colorscale": [
             [
              0,
              "#0d0887"
             ],
             [
              0.1111111111111111,
              "#46039f"
             ],
             [
              0.2222222222222222,
              "#7201a8"
             ],
             [
              0.3333333333333333,
              "#9c179e"
             ],
             [
              0.4444444444444444,
              "#bd3786"
             ],
             [
              0.5555555555555556,
              "#d8576b"
             ],
             [
              0.6666666666666666,
              "#ed7953"
             ],
             [
              0.7777777777777778,
              "#fb9f3a"
             ],
             [
              0.8888888888888888,
              "#fdca26"
             ],
             [
              1,
              "#f0f921"
             ]
            ],
            "type": "histogram2dcontour"
           }
          ],
          "mesh3d": [
           {
            "colorbar": {
             "outlinewidth": 0,
             "ticks": ""
            },
            "type": "mesh3d"
           }
          ],
          "parcoords": [
           {
            "line": {
             "colorbar": {
              "outlinewidth": 0,
              "ticks": ""
             }
            },
            "type": "parcoords"
           }
          ],
          "pie": [
           {
            "automargin": true,
            "type": "pie"
           }
          ],
          "scatter": [
           {
            "marker": {
             "colorbar": {
              "outlinewidth": 0,
              "ticks": ""
             }
            },
            "type": "scatter"
           }
          ],
          "scatter3d": [
           {
            "line": {
             "colorbar": {
              "outlinewidth": 0,
              "ticks": ""
             }
            },
            "marker": {
             "colorbar": {
              "outlinewidth": 0,
              "ticks": ""
             }
            },
            "type": "scatter3d"
           }
          ],
          "scattercarpet": [
           {
            "marker": {
             "colorbar": {
              "outlinewidth": 0,
              "ticks": ""
             }
            },
            "type": "scattercarpet"
           }
          ],
          "scattergeo": [
           {
            "marker": {
             "colorbar": {
              "outlinewidth": 0,
              "ticks": ""
             }
            },
            "type": "scattergeo"
           }
          ],
          "scattergl": [
           {
            "marker": {
             "colorbar": {
              "outlinewidth": 0,
              "ticks": ""
             }
            },
            "type": "scattergl"
           }
          ],
          "scattermapbox": [
           {
            "marker": {
             "colorbar": {
              "outlinewidth": 0,
              "ticks": ""
             }
            },
            "type": "scattermapbox"
           }
          ],
          "scatterpolar": [
           {
            "marker": {
             "colorbar": {
              "outlinewidth": 0,
              "ticks": ""
             }
            },
            "type": "scatterpolar"
           }
          ],
          "scatterpolargl": [
           {
            "marker": {
             "colorbar": {
              "outlinewidth": 0,
              "ticks": ""
             }
            },
            "type": "scatterpolargl"
           }
          ],
          "scatterternary": [
           {
            "marker": {
             "colorbar": {
              "outlinewidth": 0,
              "ticks": ""
             }
            },
            "type": "scatterternary"
           }
          ],
          "surface": [
           {
            "colorbar": {
             "outlinewidth": 0,
             "ticks": ""
            },
            "colorscale": [
             [
              0,
              "#0d0887"
             ],
             [
              0.1111111111111111,
              "#46039f"
             ],
             [
              0.2222222222222222,
              "#7201a8"
             ],
             [
              0.3333333333333333,
              "#9c179e"
             ],
             [
              0.4444444444444444,
              "#bd3786"
             ],
             [
              0.5555555555555556,
              "#d8576b"
             ],
             [
              0.6666666666666666,
              "#ed7953"
             ],
             [
              0.7777777777777778,
              "#fb9f3a"
             ],
             [
              0.8888888888888888,
              "#fdca26"
             ],
             [
              1,
              "#f0f921"
             ]
            ],
            "type": "surface"
           }
          ],
          "table": [
           {
            "cells": {
             "fill": {
              "color": "#EBF0F8"
             },
             "line": {
              "color": "white"
             }
            },
            "header": {
             "fill": {
              "color": "#C8D4E3"
             },
             "line": {
              "color": "white"
             }
            },
            "type": "table"
           }
          ]
         },
         "layout": {
          "annotationdefaults": {
           "arrowcolor": "#2a3f5f",
           "arrowhead": 0,
           "arrowwidth": 1
          },
          "coloraxis": {
           "colorbar": {
            "outlinewidth": 0,
            "ticks": ""
           }
          },
          "colorscale": {
           "diverging": [
            [
             0,
             "#8e0152"
            ],
            [
             0.1,
             "#c51b7d"
            ],
            [
             0.2,
             "#de77ae"
            ],
            [
             0.3,
             "#f1b6da"
            ],
            [
             0.4,
             "#fde0ef"
            ],
            [
             0.5,
             "#f7f7f7"
            ],
            [
             0.6,
             "#e6f5d0"
            ],
            [
             0.7,
             "#b8e186"
            ],
            [
             0.8,
             "#7fbc41"
            ],
            [
             0.9,
             "#4d9221"
            ],
            [
             1,
             "#276419"
            ]
           ],
           "sequential": [
            [
             0,
             "#0d0887"
            ],
            [
             0.1111111111111111,
             "#46039f"
            ],
            [
             0.2222222222222222,
             "#7201a8"
            ],
            [
             0.3333333333333333,
             "#9c179e"
            ],
            [
             0.4444444444444444,
             "#bd3786"
            ],
            [
             0.5555555555555556,
             "#d8576b"
            ],
            [
             0.6666666666666666,
             "#ed7953"
            ],
            [
             0.7777777777777778,
             "#fb9f3a"
            ],
            [
             0.8888888888888888,
             "#fdca26"
            ],
            [
             1,
             "#f0f921"
            ]
           ],
           "sequentialminus": [
            [
             0,
             "#0d0887"
            ],
            [
             0.1111111111111111,
             "#46039f"
            ],
            [
             0.2222222222222222,
             "#7201a8"
            ],
            [
             0.3333333333333333,
             "#9c179e"
            ],
            [
             0.4444444444444444,
             "#bd3786"
            ],
            [
             0.5555555555555556,
             "#d8576b"
            ],
            [
             0.6666666666666666,
             "#ed7953"
            ],
            [
             0.7777777777777778,
             "#fb9f3a"
            ],
            [
             0.8888888888888888,
             "#fdca26"
            ],
            [
             1,
             "#f0f921"
            ]
           ]
          },
          "colorway": [
           "#636efa",
           "#EF553B",
           "#00cc96",
           "#ab63fa",
           "#FFA15A",
           "#19d3f3",
           "#FF6692",
           "#B6E880",
           "#FF97FF",
           "#FECB52"
          ],
          "font": {
           "color": "#2a3f5f"
          },
          "geo": {
           "bgcolor": "white",
           "lakecolor": "white",
           "landcolor": "#E5ECF6",
           "showlakes": true,
           "showland": true,
           "subunitcolor": "white"
          },
          "hoverlabel": {
           "align": "left"
          },
          "hovermode": "closest",
          "mapbox": {
           "style": "light"
          },
          "paper_bgcolor": "white",
          "plot_bgcolor": "#E5ECF6",
          "polar": {
           "angularaxis": {
            "gridcolor": "white",
            "linecolor": "white",
            "ticks": ""
           },
           "bgcolor": "#E5ECF6",
           "radialaxis": {
            "gridcolor": "white",
            "linecolor": "white",
            "ticks": ""
           }
          },
          "scene": {
           "xaxis": {
            "backgroundcolor": "#E5ECF6",
            "gridcolor": "white",
            "gridwidth": 2,
            "linecolor": "white",
            "showbackground": true,
            "ticks": "",
            "zerolinecolor": "white"
           },
           "yaxis": {
            "backgroundcolor": "#E5ECF6",
            "gridcolor": "white",
            "gridwidth": 2,
            "linecolor": "white",
            "showbackground": true,
            "ticks": "",
            "zerolinecolor": "white"
           },
           "zaxis": {
            "backgroundcolor": "#E5ECF6",
            "gridcolor": "white",
            "gridwidth": 2,
            "linecolor": "white",
            "showbackground": true,
            "ticks": "",
            "zerolinecolor": "white"
           }
          },
          "shapedefaults": {
           "line": {
            "color": "#2a3f5f"
           }
          },
          "ternary": {
           "aaxis": {
            "gridcolor": "white",
            "linecolor": "white",
            "ticks": ""
           },
           "baxis": {
            "gridcolor": "white",
            "linecolor": "white",
            "ticks": ""
           },
           "bgcolor": "#E5ECF6",
           "caxis": {
            "gridcolor": "white",
            "linecolor": "white",
            "ticks": ""
           }
          },
          "title": {
           "x": 0.05
          },
          "xaxis": {
           "automargin": true,
           "gridcolor": "white",
           "linecolor": "white",
           "ticks": "",
           "title": {
            "standoff": 15
           },
           "zerolinecolor": "white",
           "zerolinewidth": 2
          },
          "yaxis": {
           "automargin": true,
           "gridcolor": "white",
           "linecolor": "white",
           "ticks": "",
           "title": {
            "standoff": 15
           },
           "zerolinecolor": "white",
           "zerolinewidth": 2
          }
         }
        },
        "title": {
         "text": "sum of PotentialValue grouped by Customer"
        },
        "xaxis": {
         "categoryorder": "category ascending",
         "title": {
          "text": "Date"
         }
        },
        "yaxis": {
         "title": {
          "text": "PotentialValue sum"
         }
        }
       }
      },
      "text/html": [
       "<div>\n",
       "        \n",
       "        \n",
       "            <div id=\"21c5f41f-32d5-4015-9340-71b9063eb94f\" class=\"plotly-graph-div\" style=\"height:525px; width:100%;\"></div>\n",
       "            <script type=\"text/javascript\">\n",
       "                require([\"plotly\"], function(Plotly) {\n",
       "                    window.PLOTLYENV=window.PLOTLYENV || {};\n",
       "                    \n",
       "                if (document.getElementById(\"21c5f41f-32d5-4015-9340-71b9063eb94f\")) {\n",
       "                    Plotly.newPlot(\n",
       "                        '21c5f41f-32d5-4015-9340-71b9063eb94f',\n",
       "                        [{\"name\": \"Central Texas Industrial, LLC\", \"type\": \"bar\", \"x\": [\"2020-08-01T00:00:00\"], \"y\": [7753]}, {\"name\": \"DMS\", \"type\": \"bar\", \"x\": [\"2020-07-15T00:00:00\"], \"y\": [45000]}, {\"name\": \"DSI\", \"type\": \"bar\", \"x\": [\"2020-06-30T00:00:00\"], \"y\": [84867]}, {\"name\": \"ICU Medical\", \"type\": \"bar\", \"x\": [\"2020-10-15T00:00:00\"], \"y\": [10000]}, {\"name\": \"Patti Engr\", \"type\": \"bar\", \"x\": [\"2020-09-01T00:00:00\"], \"y\": [55000]}, {\"name\": \"Prime Controls\", \"type\": \"bar\", \"x\": [\"2020-06-01T00:00:00\"], \"y\": [27500]}, {\"name\": \"Samsung\", \"type\": \"bar\", \"x\": [\"2020-05-20T00:00:00\", \"2020-07-15T00:00:00\", \"2020-09-01T00:00:00\"], \"y\": [11040, 18000, 333404]}, {\"name\": \"Solaris Oilfield Infrastructure\", \"type\": \"bar\", \"x\": [\"2020-07-01T00:00:00\"], \"y\": [44226]}, {\"name\": \"Ultra Electronics\", \"type\": \"bar\", \"x\": [\"2020-07-01T00:00:00\"], \"y\": [23000]}, {\"name\": \"Urban Mining\", \"type\": \"bar\", \"x\": [\"2020-06-01T00:00:00\", \"2020-06-15T00:00:00\"], \"y\": [10000, 21000]}, {\"name\": \"WINSTON WATER COOLER OF AUSTIN\", \"type\": \"bar\", \"x\": [\"2020-06-15T00:00:00\"], \"y\": [14840]}, {\"name\": \"G-Con Manufacturing\", \"type\": \"bar\", \"x\": [\"2020-06-04T00:00:00\", \"2020-06-10T00:00:00\"], \"y\": [125000, 250000]}, {\"name\": \"LSPI\", \"type\": \"bar\", \"x\": [\"2020-06-03T00:00:00\", \"2020-06-15T00:00:00\"], \"y\": [20000, 5150000]}, {\"name\": \"OVIVO LLC\", \"type\": \"bar\", \"x\": [\"2020-02-01T00:00:00\", \"2020-04-15T00:00:00\", \"2020-05-29T00:00:00\", \"2020-10-05T00:00:00\"], \"y\": [80000, 7000, 12000, 160000]}, {\"name\": \"RapidDeploy\", \"type\": \"bar\", \"x\": [\"2020-10-15T00:00:00\"], \"y\": [25000]}, {\"name\": \"SkyVenture\", \"type\": \"bar\", \"x\": [\"2020-10-15T00:00:00\"], \"y\": [250000]}, {\"name\": \"Austin White Lime\", \"type\": \"bar\", \"x\": [\"2020-10-01T00:00:00\"], \"y\": [75000]}, {\"name\": \"Brandt Companies\", \"type\": \"bar\", \"x\": [\"2020-09-01T00:00:00\"], \"y\": [65000]}, {\"name\": \"Capitol Aggregates\", \"type\": \"bar\", \"x\": [\"2020-12-01T00:00:00\"], \"y\": [110000]}, {\"name\": \"Central Texas Water Maint.\", \"type\": \"bar\", \"x\": [\"2020-06-01T00:00:00\"], \"y\": [10000]}, {\"name\": \"City of Cameron\", \"type\": \"bar\", \"x\": [\"2020-07-01T00:00:00\"], \"y\": [20000]}, {\"name\": \"City of Miles\", \"type\": \"bar\", \"x\": [\"2020-05-19T00:00:00\"], \"y\": [7500]}, {\"name\": \"Fox Robotics\", \"type\": \"bar\", \"x\": [\"2020-07-01T00:00:00\"], \"y\": [50000]}, {\"name\": \"General Motors\", \"type\": \"bar\", \"x\": [\"2021-01-01T00:00:00\"], \"y\": [100000]}, {\"name\": \"Gibraltar\", \"type\": \"bar\", \"x\": [\"2020-10-01T00:00:00\", \"2021-01-01T00:00:00\"], \"y\": [50000, 75000]}, {\"name\": \"Lhoist\", \"type\": \"bar\", \"x\": [\"2020-06-01T00:00:00\"], \"y\": [50000]}, {\"name\": \"Lock Joint Tube\", \"type\": \"bar\", \"x\": [\"2020-08-01T00:00:00\"], \"y\": [60000]}, {\"name\": \"RSI-CRI\", \"type\": \"bar\", \"x\": [\"2020-07-01T00:00:00\"], \"y\": [10000]}, {\"name\": \"Salem Ridge\", \"type\": \"bar\", \"x\": [\"2020-07-01T00:00:00\"], \"y\": [20000]}, {\"name\": \"Undine\", \"type\": \"bar\", \"x\": [\"2020-06-01T00:00:00\"], \"y\": [75000]}, {\"name\": \"Thermon\", \"type\": \"bar\", \"x\": [\"2020-08-01T00:00:00\", \"2020-09-01T00:00:00\"], \"y\": [250000, 250000]}, {\"name\": \"TMT Solutions\", \"type\": \"bar\", \"x\": [\"2020-06-01T00:00:00\"], \"y\": [100000]}, {\"name\": \"TNG Utility\", \"type\": \"bar\", \"x\": [\"2020-08-01T00:00:00\"], \"y\": [100000]}, {\"name\": \"United Rentals\", \"type\": \"bar\", \"x\": [\"2020-08-01T00:00:00\"], \"y\": [10000]}, {\"name\": \"XBiotech\", \"type\": \"bar\", \"x\": [\"2020-10-01T00:00:00\"], \"y\": [50000]}, {\"name\": \"Texas A&M\", \"type\": \"bar\", \"x\": [\"2020-06-01T00:00:00\"], \"y\": [2000]}, {\"name\": \"Sarentec\", \"type\": \"bar\", \"x\": [\"2020-07-01T00:00:00\"], \"y\": [60000]}, {\"name\": \"Capital Area Utility\", \"type\": \"bar\", \"x\": [\"2020-07-01T00:00:00\"], \"y\": [10000]}, {\"name\": \"Hospira ICU Med\", \"type\": \"bar\", \"x\": [\"2020-07-01T00:00:00\"], \"y\": [75000]}, {\"name\": \"Endeavor Energy\", \"type\": \"bar\", \"x\": [\"2020-05-31T00:00:00\"], \"y\": [12000]}, {\"name\": \"XTO Energy\", \"type\": \"bar\", \"x\": [\"2020-05-31T00:00:00\", \"2020-06-30T00:00:00\"], \"y\": [100000, 360000]}, {\"name\": \"Concho Resources\", \"type\": \"bar\", \"x\": [\"2020-07-31T00:00:00\"], \"y\": [100000]}, {\"name\": \"Discovery Natural Resources\", \"type\": \"bar\", \"x\": [\"2020-07-31T00:00:00\"], \"y\": [20000]}, {\"name\": \"Pioneer Natural Resources\", \"type\": \"bar\", \"x\": [\"2020-06-30T00:00:00\"], \"y\": [25000]}, {\"name\": \"RR MACHINE\", \"type\": \"bar\", \"x\": [\"2020-05-31T00:00:00\"], \"y\": [15000]}, {\"name\": \"Sika Sales\", \"type\": \"bar\", \"x\": [\"2020-06-15T00:00:00\"], \"y\": [70000]}, {\"name\": \"White Energy\\u00a0 Hereford\", \"type\": \"bar\", \"x\": [\"2020-06-30T00:00:00\"], \"y\": [13000]}, {\"name\": \"Valero/McKees Refinery\", \"type\": \"bar\", \"x\": [\"2020-06-15T00:00:00\"], \"y\": [45000]}, {\"name\": \"Laredo Petroleum\", \"type\": \"bar\", \"x\": [\"2020-05-15T00:00:00\"], \"y\": [24000]}, {\"name\": \"Capitan Energy\", \"type\": \"bar\", \"x\": [\"2020-06-30T00:00:00\"], \"y\": [10000]}, {\"name\": \"Scada Systems\", \"type\": \"bar\", \"x\": [\"2020-06-30T00:00:00\"], \"y\": [37000]}, {\"name\": \"Felix Water\", \"type\": \"bar\", \"x\": [\"2020-05-15T00:00:00\"], \"y\": [50000]}, {\"name\": \"IACX\", \"type\": \"bar\", \"x\": [\"2020-06-30T00:00:00\"], \"y\": [120000]}, {\"name\": \"Tom-E-Lee Industries\", \"type\": \"bar\", \"x\": [\"2020-06-22T00:00:00\"], \"y\": [20000]}, {\"name\": \"Tank Logix\", \"type\": \"bar\", \"x\": [\"2020-06-30T00:00:00\"], \"y\": [25000]}, {\"name\": \"PFP Industries\", \"type\": \"bar\", \"x\": [\"2020-05-31T00:00:00\"], \"y\": [75000]}, {\"name\": \"Apache - St Lawrence\", \"type\": \"bar\", \"x\": [\"2020-05-31T00:00:00\"], \"y\": [10000]}, {\"name\": \"EOG Resources\", \"type\": \"bar\", \"x\": [\"2020-06-30T00:00:00\"], \"y\": [85000]}, {\"name\": \"CP CHEM\", \"type\": \"bar\", \"x\": [\"2020-07-30T00:00:00\"], \"y\": [300000]}, {\"name\": \"Applied Industrial Technologies\", \"type\": \"bar\", \"x\": [\"2020-10-21T00:00:00\"], \"y\": [30000]}, {\"name\": \"World Water Worlds\", \"type\": \"bar\", \"x\": [\"2020-05-28T00:00:00\"], \"y\": [20000]}, {\"name\": \"ReelPower\", \"type\": \"bar\", \"x\": [\"2020-06-10T00:00:00\", \"2020-06-20T00:00:00\", \"2020-08-20T00:00:00\"], \"y\": [60000, 35000, 35000]}, {\"name\": \"Baker Hughes\", \"type\": \"bar\", \"x\": [\"2020-05-31T00:00:00\", \"2020-12-31T00:00:00\"], \"y\": [30000, 1500000]}, {\"name\": \"DCP Midstream\", \"type\": \"bar\", \"x\": [\"2020-05-28T00:00:00\"], \"y\": [125000]}, {\"name\": \"Filtration Group\", \"type\": \"bar\", \"x\": [\"2020-05-14T00:00:00\"], \"y\": [100000]}, {\"name\": \"Devon\", \"type\": \"bar\", \"x\": [\"2020-07-31T00:00:00\"], \"y\": [50000]}, {\"name\": \"Valiant\", \"type\": \"bar\", \"x\": [\"2020-06-03T00:00:00\"], \"y\": [50000]}, {\"name\": \"Burford\", \"type\": \"bar\", \"x\": [\"2020-07-08T00:00:00\"], \"y\": [65000]}, {\"name\": \"Osco\", \"type\": \"bar\", \"x\": [\"2020-06-15T00:00:00\"], \"y\": [20000]}, {\"name\": \"DaPro Rubber\", \"type\": \"bar\", \"x\": [\"2020-06-15T00:00:00\"], \"y\": [15000]}, {\"name\": \"GPS\", \"type\": \"bar\", \"x\": [\"2020-06-15T00:00:00\"], \"y\": [40000]}, {\"name\": \"Tinker\", \"type\": \"bar\", \"x\": [\"2020-05-20T00:00:00\"], \"y\": [7500]}, {\"name\": \"Caterpillar\", \"type\": \"bar\", \"x\": [\"2020-07-01T00:00:00\"], \"y\": [70000]}, {\"name\": \"CGT\", \"type\": \"bar\", \"x\": [\"2020-08-01T00:00:00\"], \"y\": [20000]}, {\"name\": \"Curl Industries\", \"type\": \"bar\", \"x\": [\"2020-08-01T00:00:00\"], \"y\": [16000]}, {\"name\": \"HEB\", \"type\": \"bar\", \"x\": [\"2020-07-01T00:00:00\"], \"y\": [500000]}, {\"name\": \"Integrated Shredder Technology\", \"type\": \"bar\", \"x\": [\"2020-08-01T00:00:00\"], \"y\": [10000]}, {\"name\": \"P&S Scale\", \"type\": \"bar\", \"x\": [\"2020-05-15T00:00:00\"], \"y\": [21000]}, {\"name\": \"SWRI\", \"type\": \"bar\", \"x\": [\"2020-05-15T00:00:00\"], \"y\": [10000]}, {\"name\": \"Encino\", \"type\": \"bar\", \"x\": [\"2020-05-25T00:00:00\"], \"y\": [10000]}, {\"name\": \"AGI\", \"type\": \"bar\", \"x\": [\"2020-11-01T00:00:00\"], \"y\": [300000]}, {\"name\": \"Alterman\", \"type\": \"bar\", \"x\": [\"2020-10-01T00:00:00\"], \"y\": [200000]}, {\"name\": \"BWDG\", \"type\": \"bar\", \"x\": [\"2020-08-01T00:00:00\"], \"y\": [75000]}, {\"name\": \"Colexas Digital\", \"type\": \"bar\", \"x\": [\"2020-06-01T00:00:00\"], \"y\": [50000]}, {\"name\": \"NYATI Services\", \"type\": \"bar\", \"x\": [\"2020-07-01T00:00:00\"], \"y\": [120000]}, {\"name\": \"Quest Automated\", \"type\": \"bar\", \"x\": [\"2020-10-01T00:00:00\"], \"y\": [50000]}, {\"name\": \"Toyota\", \"type\": \"bar\", \"x\": [\"2020-07-01T00:00:00\"], \"y\": [20000]}, {\"name\": \"Twilight Services\", \"type\": \"bar\", \"x\": [\"2020-06-05T00:00:00\", \"2020-07-01T00:00:00\"], \"y\": [50000, 15000]}, {\"name\": \"Sentry Technologies\", \"type\": \"bar\", \"x\": [\"2020-07-01T00:00:00\"], \"y\": [60000]}, {\"name\": \"Alliance OGP\", \"type\": \"bar\", \"x\": [\"2020-06-30T00:00:00\"], \"y\": [30000]}, {\"name\": \"NOV - AFE\", \"type\": \"bar\", \"x\": [\"2020-06-30T00:00:00\"], \"y\": [150000]}, {\"name\": \"NOV - Bammel\", \"type\": \"bar\", \"x\": [\"2020-09-30T00:00:00\"], \"y\": [100000]}, {\"name\": \"NOV - Brandt\", \"type\": \"bar\", \"x\": [\"2020-07-15T00:00:00\"], \"y\": [20000]}, {\"name\": \"NOV - PCG\", \"type\": \"bar\", \"x\": [\"2020-06-30T00:00:00\"], \"y\": [40000]}, {\"name\": \"Powell\", \"type\": \"bar\", \"x\": [\"2020-06-30T00:00:00\"], \"y\": [50000]}, {\"name\": \"Transocean\", \"type\": \"bar\", \"x\": [\"2020-06-05T00:00:00\", \"2020-06-30T00:00:00\", \"2020-07-01T00:00:00\"], \"y\": [266000, 71000, 560000]}, {\"name\": \"Elgin Separation Solutions\", \"type\": \"bar\", \"x\": [\"2020-07-15T00:00:00\"], \"y\": [200000]}, {\"name\": \"Custom Control\", \"type\": \"bar\", \"x\": [\"2020-10-01T00:00:00\"], \"y\": [50000]}, {\"name\": \"NOV\", \"type\": \"bar\", \"x\": [\"2020-07-15T00:00:00\", \"2020-08-15T00:00:00\"], \"y\": [100000, 150000]}, {\"name\": \"Absolute Control\", \"type\": \"bar\", \"x\": [\"2020-08-15T00:00:00\"], \"y\": [120000]}, {\"name\": \"Lee Engineering\", \"type\": \"bar\", \"x\": [\"2020-06-30T00:00:00\"], \"y\": [100000]}, {\"name\": \"City of Houston\", \"type\": \"bar\", \"x\": [\"2020-09-15T00:00:00\"], \"y\": [50000]}, {\"name\": \"RAE Engineering\", \"type\": \"bar\", \"x\": [\"2020-06-30T00:00:00\"], \"y\": [150000]}, {\"name\": \"Lone Star Blower\", \"type\": \"bar\", \"x\": [\"2020-07-15T00:00:00\"], \"y\": [200000]}, {\"name\": \"Valaris\", \"type\": \"bar\", \"x\": [\"2020-08-01T00:00:00\"], \"y\": [50000]}, {\"name\": \"Windlass \", \"type\": \"bar\", \"x\": [\"2020-07-01T00:00:00\"], \"y\": [20000]}, {\"name\": \"Thrustmaster\", \"type\": \"bar\", \"x\": [\"2020-07-01T00:00:00\"], \"y\": [150000]}, {\"name\": \"Flint Hills Resources\", \"type\": \"bar\", \"x\": [\"2020-05-29T00:00:00\", \"2020-07-15T00:00:00\", \"2020-10-01T00:00:00\"], \"y\": [45000, 53000, 225000]}, {\"name\": \"Formosa\", \"type\": \"bar\", \"x\": [\"2020-07-15T00:00:00\", \"2020-07-30T00:00:00\"], \"y\": [147000, 24700]}, {\"name\": \"Invista\", \"type\": \"bar\", \"x\": [\"2020-06-15T00:00:00\"], \"y\": [200000]}, {\"name\": \"Seadrift Coke\", \"type\": \"bar\", \"x\": [\"2020-06-15T00:00:00\"], \"y\": [250000]}, {\"name\": \"Oxy\", \"type\": \"bar\", \"x\": [\"2020-11-15T00:00:00\"], \"y\": [500000]}, {\"name\": \"Signet\", \"type\": \"bar\", \"x\": [\"2020-07-01T00:00:00\"], \"y\": [60000]}, {\"name\": \"Valero CC\", \"type\": \"bar\", \"x\": [\"2020-05-29T00:00:00\", \"2021-01-30T00:00:00\"], \"y\": [25000, 125000]}, {\"name\": \"Citgo\", \"type\": \"bar\", \"x\": [\"2020-06-01T00:00:00\"], \"y\": [35000]}, {\"name\": \"Ingleside Ethelene\", \"type\": \"bar\", \"x\": [\"2020-06-15T00:00:00\"], \"y\": [28000]}, {\"name\": \"BASF\", \"type\": \"bar\", \"x\": [\"2020-06-01T00:00:00\"], \"y\": [52000]}, {\"name\": \"Buckeye\", \"type\": \"bar\", \"x\": [\"2020-06-15T00:00:00\"], \"y\": [25000]}, {\"name\": \"Affinity Power System\", \"type\": \"bar\", \"x\": [\"2020-06-30T00:00:00\", \"2020-07-31T00:00:00\"], \"y\": [269355, 396350]}, {\"name\": \"Clemtex\", \"type\": \"bar\", \"x\": [\"2020-05-31T00:00:00\"], \"y\": [30000]}, {\"name\": \"Harrison Hydragen\", \"type\": \"bar\", \"x\": [\"2020-12-01T00:00:00\"], \"y\": [80000]}, {\"name\": \"Custom Air Products\", \"type\": \"bar\", \"x\": [\"2020-12-01T00:00:00\"], \"y\": [100000]}, {\"name\": \"Watlow\", \"type\": \"bar\", \"x\": [\"2020-12-01T00:00:00\"], \"y\": [60000]}, {\"name\": \"W-Industries\", \"type\": \"bar\", \"x\": [\"2020-12-01T00:00:00\"], \"y\": [50000]}, {\"name\": \"Safety Vision\", \"type\": \"bar\", \"x\": [\"2020-12-01T00:00:00\"], \"y\": [500000]}, {\"name\": \"PC3\", \"type\": \"bar\", \"x\": [\"2020-12-01T00:00:00\"], \"y\": [150000]}, {\"name\": \"Dresser Gimpel\", \"type\": \"bar\", \"x\": [\"2020-12-01T00:00:00\"], \"y\": [150000]}, {\"name\": \"H2O Unlimited\", \"type\": \"bar\", \"x\": [\"2020-12-01T00:00:00\"], \"y\": [100000]}, {\"name\": \"FW Murphy\", \"type\": \"bar\", \"x\": [\"2020-05-01T00:00:00\", \"2020-08-01T00:00:00\", \"2020-12-01T00:00:00\"], \"y\": [80000, 120000, 1000000]}, {\"name\": \"Rototherm\", \"type\": \"bar\", \"x\": [\"2020-08-01T00:00:00\"], \"y\": [350000]}, {\"name\": \"FLEX\", \"type\": \"bar\", \"x\": [\"2020-08-01T00:00:00\"], \"y\": [65000]}, {\"name\": \"Emerson\", \"type\": \"bar\", \"x\": [\"2020-08-01T00:00:00\"], \"y\": [16000]}, {\"name\": \"Marine Well Containment\", \"type\": \"bar\", \"x\": [\"2020-09-01T00:00:00\"], \"y\": [350000]}, {\"name\": \"Technip FMC\", \"type\": \"bar\", \"x\": [\"2020-06-01T00:00:00\", \"2020-08-01T00:00:00\"], \"y\": [100000, 80000]}, {\"name\": \"Enerflex\", \"type\": \"bar\", \"x\": [\"2020-08-01T00:00:00\"], \"y\": [25000]}, {\"name\": \"Rio Marine\", \"type\": \"bar\", \"x\": [\"2020-07-01T00:00:00\"], \"y\": [50000]}, {\"name\": \"Surge\", \"type\": \"bar\", \"x\": [\"2020-05-20T00:00:00\", \"2020-07-01T00:00:00\", \"2020-12-01T00:00:00\"], \"y\": [10000, 100000, 100000]}, {\"name\": \"Solarcraft\", \"type\": \"bar\", \"x\": [\"2020-08-01T00:00:00\"], \"y\": [45000]}, {\"name\": \"Intech Process Automation\", \"type\": \"bar\", \"x\": [\"2020-06-01T00:00:00\"], \"y\": [1290000]}, {\"name\": \"Neuralabel\", \"type\": \"bar\", \"x\": [\"2020-10-31T00:00:00\"], \"y\": [30000]}, {\"name\": \"Canrig\", \"type\": \"bar\", \"x\": [\"2020-10-31T00:00:00\"], \"y\": [40000]}, {\"name\": \"Nabors\", \"type\": \"bar\", \"x\": [\"2020-10-31T00:00:00\"], \"y\": [500000]}, {\"name\": \"Expro\", \"type\": \"bar\", \"x\": [\"2020-07-31T00:00:00\", \"2020-10-31T00:00:00\"], \"y\": [90000, 100000]}, {\"name\": \"Weatherford\", \"type\": \"bar\", \"x\": [\"2020-07-31T00:00:00\"], \"y\": [30000]}, {\"name\": \"Safekick\", \"type\": \"bar\", \"x\": [\"2020-10-31T00:00:00\"], \"y\": [400000]}, {\"name\": \"AF Global\", \"type\": \"bar\", \"x\": [\"2020-10-31T00:00:00\"], \"y\": [300000]}, {\"name\": \"City of Houston Drinking Water\", \"type\": \"bar\", \"x\": [\"2020-06-30T00:00:00\", \"2020-07-31T00:00:00\"], \"y\": [47035, 20000]}, {\"name\": \"Usemco\", \"type\": \"bar\", \"x\": [\"2020-06-30T00:00:00\"], \"y\": [10000]}, {\"name\": \"NW Natural - T&W Water\", \"type\": \"bar\", \"x\": [\"2020-05-31T00:00:00\"], \"y\": [133694]}, {\"name\": \"City of Beaumont\", \"type\": \"bar\", \"x\": [\"2020-06-15T00:00:00\", \"2020-06-30T00:00:00\"], \"y\": [10000, 16290]}, {\"name\": \"TapcoEnpro\", \"type\": \"bar\", \"x\": [\"2020-07-31T00:00:00\"], \"y\": [66583]}, {\"name\": \"Cameron\", \"type\": \"bar\", \"x\": [\"2020-06-30T00:00:00\"], \"y\": [10000]}, {\"name\": \"Baker Hughes(Hydrill)\", \"type\": \"bar\", \"x\": [\"2020-06-10T00:00:00\", \"2020-07-31T00:00:00\"], \"y\": [224000, 50000]}, {\"name\": \"Relevant\", \"type\": \"bar\", \"x\": [\"2020-06-30T00:00:00\"], \"y\": [15000]}, {\"name\": \"RelaDyne\", \"type\": \"bar\", \"x\": [\"2020-10-31T00:00:00\"], \"y\": [20000]}, {\"name\": \"BYO Energy\", \"type\": \"bar\", \"x\": [\"2020-10-31T00:00:00\"], \"y\": [60000]}, {\"name\": \"Jelec\\\\Evolution\", \"type\": \"bar\", \"x\": [\"2020-10-31T00:00:00\"], \"y\": [100000]}, {\"name\": \"Kinetic Pressure Control\", \"type\": \"bar\", \"x\": [\"2020-10-31T00:00:00\"], \"y\": [30000]}],\n",
       "                        {\"barmode\": \"stack\", \"font\": {\"color\": \"#000000\", \"size\": 12}, \"legend\": {\"title\": {\"text\": \"Customer\"}}, \"template\": {\"data\": {\"bar\": [{\"error_x\": {\"color\": \"#2a3f5f\"}, \"error_y\": {\"color\": \"#2a3f5f\"}, \"marker\": {\"line\": {\"color\": \"#E5ECF6\", \"width\": 0.5}}, \"type\": \"bar\"}], \"barpolar\": [{\"marker\": {\"line\": {\"color\": \"#E5ECF6\", \"width\": 0.5}}, \"type\": \"barpolar\"}], \"carpet\": [{\"aaxis\": {\"endlinecolor\": \"#2a3f5f\", \"gridcolor\": \"white\", \"linecolor\": \"white\", \"minorgridcolor\": \"white\", \"startlinecolor\": \"#2a3f5f\"}, \"baxis\": {\"endlinecolor\": \"#2a3f5f\", \"gridcolor\": \"white\", \"linecolor\": \"white\", \"minorgridcolor\": \"white\", \"startlinecolor\": \"#2a3f5f\"}, \"type\": \"carpet\"}], \"choropleth\": [{\"colorbar\": {\"outlinewidth\": 0, \"ticks\": \"\"}, \"type\": \"choropleth\"}], \"contour\": [{\"colorbar\": {\"outlinewidth\": 0, \"ticks\": \"\"}, \"colorscale\": [[0.0, \"#0d0887\"], [0.1111111111111111, \"#46039f\"], [0.2222222222222222, \"#7201a8\"], [0.3333333333333333, \"#9c179e\"], [0.4444444444444444, \"#bd3786\"], [0.5555555555555556, \"#d8576b\"], [0.6666666666666666, \"#ed7953\"], [0.7777777777777778, \"#fb9f3a\"], [0.8888888888888888, \"#fdca26\"], [1.0, \"#f0f921\"]], \"type\": \"contour\"}], \"contourcarpet\": [{\"colorbar\": {\"outlinewidth\": 0, \"ticks\": \"\"}, \"type\": \"contourcarpet\"}], \"heatmap\": [{\"colorbar\": {\"outlinewidth\": 0, \"ticks\": \"\"}, \"colorscale\": [[0.0, \"#0d0887\"], [0.1111111111111111, \"#46039f\"], [0.2222222222222222, \"#7201a8\"], [0.3333333333333333, \"#9c179e\"], [0.4444444444444444, \"#bd3786\"], [0.5555555555555556, \"#d8576b\"], [0.6666666666666666, \"#ed7953\"], [0.7777777777777778, \"#fb9f3a\"], [0.8888888888888888, \"#fdca26\"], [1.0, \"#f0f921\"]], \"type\": \"heatmap\"}], \"heatmapgl\": [{\"colorbar\": {\"outlinewidth\": 0, \"ticks\": \"\"}, \"colorscale\": [[0.0, \"#0d0887\"], [0.1111111111111111, \"#46039f\"], [0.2222222222222222, \"#7201a8\"], [0.3333333333333333, \"#9c179e\"], [0.4444444444444444, \"#bd3786\"], [0.5555555555555556, \"#d8576b\"], [0.6666666666666666, \"#ed7953\"], [0.7777777777777778, \"#fb9f3a\"], [0.8888888888888888, \"#fdca26\"], [1.0, \"#f0f921\"]], \"type\": \"heatmapgl\"}], \"histogram\": [{\"marker\": {\"colorbar\": {\"outlinewidth\": 0, \"ticks\": \"\"}}, \"type\": \"histogram\"}], \"histogram2d\": [{\"colorbar\": {\"outlinewidth\": 0, \"ticks\": \"\"}, \"colorscale\": [[0.0, \"#0d0887\"], [0.1111111111111111, \"#46039f\"], [0.2222222222222222, \"#7201a8\"], [0.3333333333333333, \"#9c179e\"], [0.4444444444444444, \"#bd3786\"], [0.5555555555555556, \"#d8576b\"], [0.6666666666666666, \"#ed7953\"], [0.7777777777777778, \"#fb9f3a\"], [0.8888888888888888, \"#fdca26\"], [1.0, \"#f0f921\"]], \"type\": \"histogram2d\"}], \"histogram2dcontour\": [{\"colorbar\": {\"outlinewidth\": 0, \"ticks\": \"\"}, \"colorscale\": [[0.0, \"#0d0887\"], [0.1111111111111111, \"#46039f\"], [0.2222222222222222, \"#7201a8\"], [0.3333333333333333, \"#9c179e\"], [0.4444444444444444, \"#bd3786\"], [0.5555555555555556, \"#d8576b\"], [0.6666666666666666, \"#ed7953\"], [0.7777777777777778, \"#fb9f3a\"], [0.8888888888888888, \"#fdca26\"], [1.0, \"#f0f921\"]], \"type\": \"histogram2dcontour\"}], \"mesh3d\": [{\"colorbar\": {\"outlinewidth\": 0, \"ticks\": \"\"}, \"type\": \"mesh3d\"}], \"parcoords\": [{\"line\": {\"colorbar\": {\"outlinewidth\": 0, \"ticks\": \"\"}}, \"type\": \"parcoords\"}], \"pie\": [{\"automargin\": true, \"type\": \"pie\"}], \"scatter\": [{\"marker\": {\"colorbar\": {\"outlinewidth\": 0, \"ticks\": \"\"}}, \"type\": \"scatter\"}], \"scatter3d\": [{\"line\": {\"colorbar\": {\"outlinewidth\": 0, \"ticks\": \"\"}}, \"marker\": {\"colorbar\": {\"outlinewidth\": 0, \"ticks\": \"\"}}, \"type\": \"scatter3d\"}], \"scattercarpet\": [{\"marker\": {\"colorbar\": {\"outlinewidth\": 0, \"ticks\": \"\"}}, \"type\": \"scattercarpet\"}], \"scattergeo\": [{\"marker\": {\"colorbar\": {\"outlinewidth\": 0, \"ticks\": \"\"}}, \"type\": \"scattergeo\"}], \"scattergl\": [{\"marker\": {\"colorbar\": {\"outlinewidth\": 0, \"ticks\": \"\"}}, \"type\": \"scattergl\"}], \"scattermapbox\": [{\"marker\": {\"colorbar\": {\"outlinewidth\": 0, \"ticks\": \"\"}}, \"type\": \"scattermapbox\"}], \"scatterpolar\": [{\"marker\": {\"colorbar\": {\"outlinewidth\": 0, \"ticks\": \"\"}}, \"type\": \"scatterpolar\"}], \"scatterpolargl\": [{\"marker\": {\"colorbar\": {\"outlinewidth\": 0, \"ticks\": \"\"}}, \"type\": \"scatterpolargl\"}], \"scatterternary\": [{\"marker\": {\"colorbar\": {\"outlinewidth\": 0, \"ticks\": \"\"}}, \"type\": \"scatterternary\"}], \"surface\": [{\"colorbar\": {\"outlinewidth\": 0, \"ticks\": \"\"}, \"colorscale\": [[0.0, \"#0d0887\"], [0.1111111111111111, \"#46039f\"], [0.2222222222222222, \"#7201a8\"], [0.3333333333333333, \"#9c179e\"], [0.4444444444444444, \"#bd3786\"], [0.5555555555555556, \"#d8576b\"], [0.6666666666666666, \"#ed7953\"], [0.7777777777777778, \"#fb9f3a\"], [0.8888888888888888, \"#fdca26\"], [1.0, \"#f0f921\"]], \"type\": \"surface\"}], \"table\": [{\"cells\": {\"fill\": {\"color\": \"#EBF0F8\"}, \"line\": {\"color\": \"white\"}}, \"header\": {\"fill\": {\"color\": \"#C8D4E3\"}, \"line\": {\"color\": \"white\"}}, \"type\": \"table\"}]}, \"layout\": {\"annotationdefaults\": {\"arrowcolor\": \"#2a3f5f\", \"arrowhead\": 0, \"arrowwidth\": 1}, \"coloraxis\": {\"colorbar\": {\"outlinewidth\": 0, \"ticks\": \"\"}}, \"colorscale\": {\"diverging\": [[0, \"#8e0152\"], [0.1, \"#c51b7d\"], [0.2, \"#de77ae\"], [0.3, \"#f1b6da\"], [0.4, \"#fde0ef\"], [0.5, \"#f7f7f7\"], [0.6, \"#e6f5d0\"], [0.7, \"#b8e186\"], [0.8, \"#7fbc41\"], [0.9, \"#4d9221\"], [1, \"#276419\"]], \"sequential\": [[0.0, \"#0d0887\"], [0.1111111111111111, \"#46039f\"], [0.2222222222222222, \"#7201a8\"], [0.3333333333333333, \"#9c179e\"], [0.4444444444444444, \"#bd3786\"], [0.5555555555555556, \"#d8576b\"], [0.6666666666666666, \"#ed7953\"], [0.7777777777777778, \"#fb9f3a\"], [0.8888888888888888, \"#fdca26\"], [1.0, \"#f0f921\"]], \"sequentialminus\": [[0.0, \"#0d0887\"], [0.1111111111111111, \"#46039f\"], [0.2222222222222222, \"#7201a8\"], [0.3333333333333333, \"#9c179e\"], [0.4444444444444444, \"#bd3786\"], [0.5555555555555556, \"#d8576b\"], [0.6666666666666666, \"#ed7953\"], [0.7777777777777778, \"#fb9f3a\"], [0.8888888888888888, \"#fdca26\"], [1.0, \"#f0f921\"]]}, \"colorway\": [\"#636efa\", \"#EF553B\", \"#00cc96\", \"#ab63fa\", \"#FFA15A\", \"#19d3f3\", \"#FF6692\", \"#B6E880\", \"#FF97FF\", \"#FECB52\"], \"font\": {\"color\": \"#2a3f5f\"}, \"geo\": {\"bgcolor\": \"white\", \"lakecolor\": \"white\", \"landcolor\": \"#E5ECF6\", \"showlakes\": true, \"showland\": true, \"subunitcolor\": \"white\"}, \"hoverlabel\": {\"align\": \"left\"}, \"hovermode\": \"closest\", \"mapbox\": {\"style\": \"light\"}, \"paper_bgcolor\": \"white\", \"plot_bgcolor\": \"#E5ECF6\", \"polar\": {\"angularaxis\": {\"gridcolor\": \"white\", \"linecolor\": \"white\", \"ticks\": \"\"}, \"bgcolor\": \"#E5ECF6\", \"radialaxis\": {\"gridcolor\": \"white\", \"linecolor\": \"white\", \"ticks\": \"\"}}, \"scene\": {\"xaxis\": {\"backgroundcolor\": \"#E5ECF6\", \"gridcolor\": \"white\", \"gridwidth\": 2, \"linecolor\": \"white\", \"showbackground\": true, \"ticks\": \"\", \"zerolinecolor\": \"white\"}, \"yaxis\": {\"backgroundcolor\": \"#E5ECF6\", \"gridcolor\": \"white\", \"gridwidth\": 2, \"linecolor\": \"white\", \"showbackground\": true, \"ticks\": \"\", \"zerolinecolor\": \"white\"}, \"zaxis\": {\"backgroundcolor\": \"#E5ECF6\", \"gridcolor\": \"white\", \"gridwidth\": 2, \"linecolor\": \"white\", \"showbackground\": true, \"ticks\": \"\", \"zerolinecolor\": \"white\"}}, \"shapedefaults\": {\"line\": {\"color\": \"#2a3f5f\"}}, \"ternary\": {\"aaxis\": {\"gridcolor\": \"white\", \"linecolor\": \"white\", \"ticks\": \"\"}, \"baxis\": {\"gridcolor\": \"white\", \"linecolor\": \"white\", \"ticks\": \"\"}, \"bgcolor\": \"#E5ECF6\", \"caxis\": {\"gridcolor\": \"white\", \"linecolor\": \"white\", \"ticks\": \"\"}}, \"title\": {\"x\": 0.05}, \"xaxis\": {\"automargin\": true, \"gridcolor\": \"white\", \"linecolor\": \"white\", \"ticks\": \"\", \"title\": {\"standoff\": 15}, \"zerolinecolor\": \"white\", \"zerolinewidth\": 2}, \"yaxis\": {\"automargin\": true, \"gridcolor\": \"white\", \"linecolor\": \"white\", \"ticks\": \"\", \"title\": {\"standoff\": 15}, \"zerolinecolor\": \"white\", \"zerolinewidth\": 2}}}, \"title\": {\"text\": \"sum of PotentialValue grouped by Customer\"}, \"xaxis\": {\"categoryorder\": \"category ascending\", \"title\": {\"text\": \"Date\"}}, \"yaxis\": {\"title\": {\"text\": \"PotentialValue sum\"}}},\n",
       "                        {\"responsive\": true}\n",
       "                    ).then(function(){\n",
       "                            \n",
       "var gd = document.getElementById('21c5f41f-32d5-4015-9340-71b9063eb94f');\n",
       "var x = new MutationObserver(function (mutations, observer) {{\n",
       "        var display = window.getComputedStyle(gd).display;\n",
       "        if (!display || display === 'none') {{\n",
       "            console.log([gd, 'removed!']);\n",
       "            Plotly.purge(gd);\n",
       "            observer.disconnect();\n",
       "        }}\n",
       "}});\n",
       "\n",
       "// Listen for the removal of the full notebook cells\n",
       "var notebookContainer = gd.closest('#notebook-container');\n",
       "if (notebookContainer) {{\n",
       "    x.observe(notebookContainer, {childList: true});\n",
       "}}\n",
       "\n",
       "// Listen for the clearing of the current output cell\n",
       "var outputEl = gd.closest('.output');\n",
       "if (outputEl) {{\n",
       "    x.observe(outputEl, {childList: true});\n",
       "}}\n",
       "\n",
       "                        })\n",
       "                };\n",
       "                });\n",
       "            </script>\n",
       "        </div>"
      ]
     },
     "metadata": {},
     "output_type": "display_data"
    }
   ],
   "source": [
    "fig = go.Figure()\n",
    "\n",
    "group = \"Customer\"\n",
    "numerical_group = \"PotentialValue\"\n",
    "agg_method = \"sum\"\n",
    "for t in df_num[group].unique():\n",
    "    #for future filtering with date range\n",
    "    df_num = df_num[df_num[\"ExpectedOrderDate\"] >= pd.to_datetime('2020-1-1')]\n",
    "    \n",
    "    if agg_method == \"sum\":\n",
    "        fig.add_trace(go.Bar(x=df_num[df_num[group]==t].groupby(\"ExpectedOrderDate\").sum()[[numerical_group]].index,\n",
    "                             y=list(df_num[df_num[group]==t].groupby(\"ExpectedOrderDate\").sum()[numerical_group]),\n",
    "                             name=t))\n",
    "    if agg_method == \"mean\":\n",
    "        fig.add_trace(go.Bar(x=df_num[df_num[group]==t].groupby(\"ExpectedOrderDate\").mean()[[numerical_group]].index,\n",
    "                             y=list(df_num[df_num[group]==t].groupby(\"ExpectedOrderDate\").mean()[numerical_group]),\n",
    "                             name=t))\n",
    "    if agg_method == \"median\":\n",
    "        fig.add_trace(go.Bar(x=df_num[df_num[group]==t].groupby(\"ExpectedOrderDate\").median()[[numerical_group]].index,\n",
    "                             y=list(df_num[df_num[group]==t].groupby(\"ExpectedOrderDate\").median()[numerical_group]),\n",
    "                             name=t))\n",
    "    if agg_method == \"std\":\n",
    "        fig.add_trace(go.Bar(x=df_num[df_num[group]==t].groupby(\"ExpectedOrderDate\").std()[[numerical_group]].index,\n",
    "                             y=list(df_num[df_num[group]==t].groupby(\"ExpectedOrderDate\").std()[numerical_group]),\n",
    "                             name=t))\n",
    "\n",
    "fig.update_layout(title = \"{} of {} grouped by {}\".format(agg_method,numerical_group,group),\n",
    "                  barmode='stack', \n",
    "                  xaxis={'categoryorder':'category ascending'},\n",
    "                  legend_title_text= group,\n",
    "                  xaxis_title=\"Date\",\n",
    "                  yaxis_title=\"{} {}\".format(numerical_group, agg_method),\n",
    "                  font=dict(\n",
    "                      #family=\"Courier New, monospace\",\n",
    "                      size=12,\n",
    "                      color=\"#000000\"\n",
    "                    ))\n",
    "fig.show()"
   ]
  },
  {
   "cell_type": "code",
   "execution_count": null,
   "metadata": {},
   "outputs": [],
   "source": [
    "fig = go.Figure()\n",
    "fig.add_trace(go.Bar(x=df_num[df_num[\"Type\"]==t].groupby(\"ExpectedOrderDate\").sum()[[numerical_group]].index,\n",
    "                             y=list(df_num[df_num[\"Type\"]==t].groupby(\"ExpectedOrderDate\").sum()[numerical_group]),\n",
    "                             name=t))\n",
    "fig.show()"
   ]
  },
  {
   "cell_type": "code",
   "execution_count": null,
   "metadata": {},
   "outputs": [],
   "source": [
    "\n",
    "#def buildgraph2(group)\n",
    "for sg in df_num[\"Type\"].unique()\n",
    "    dftest = df_num[df_num[\"Type\"]==sg].groupby(\"ExpectedOrderDate\").sum()\n",
    "    "
   ]
  },
  {
   "cell_type": "code",
   "execution_count": null,
   "metadata": {},
   "outputs": [],
   "source": [
    "included_columns_date = [\"Div\",\"Branch\",\"OAM\",\"LeadType\",\"Type\",\"New\",\"Stage\"]"
   ]
  },
  {
   "cell_type": "code",
   "execution_count": null,
   "metadata": {},
   "outputs": [],
   "source": [
    "import plotly.graph_objects as go\n",
    "\n",
    "x=['b', 'a', 'c', 'd']\n",
    "fig = go.Figure()#go.Bar(x=x, y=[2,5,1,9], name='Montreal'))\n",
    "fig.add_trace(go.Bar(x=x, y=[1, 4, 9, 16], name='Ottawa'))\n",
    "fig.add_trace(go.Bar(x=x, y=[6, 8, 4.5, 8], name='Toronto'))\n",
    "\n",
    "fig.update_layout(barmode='stack', xaxis={'categoryorder':'category ascending'})\n",
    "fig.show()"
   ]
  },
  {
   "cell_type": "code",
   "execution_count": null,
   "metadata": {},
   "outputs": [],
   "source": [
    "import plotly.express as px\n",
    "df = px.data.tips()\n",
    "fig = px.bar(dftest, x=[df_num[\"ExpectedOrderDate\"].unique()], y=\"PotentialValue\", color='Type')\n",
    "fig.show()"
   ]
  },
  {
   "cell_type": "code",
   "execution_count": null,
   "metadata": {},
   "outputs": [],
   "source": []
  }
 ],
 "metadata": {
  "kernelspec": {
   "display_name": "Python 3",
   "language": "python",
   "name": "python3"
  },
  "language_info": {
   "codemirror_mode": {
    "name": "ipython",
    "version": 3
   },
   "file_extension": ".py",
   "mimetype": "text/x-python",
   "name": "python",
   "nbconvert_exporter": "python",
   "pygments_lexer": "ipython3",
   "version": "3.7.3"
  }
 },
 "nbformat": 4,
 "nbformat_minor": 2
}

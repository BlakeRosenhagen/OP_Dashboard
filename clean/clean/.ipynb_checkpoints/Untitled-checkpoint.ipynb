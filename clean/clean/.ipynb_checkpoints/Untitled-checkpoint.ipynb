{
 "cells": [
  {
   "cell_type": "code",
   "execution_count": 42,
   "metadata": {},
   "outputs": [],
   "source": [
    "import pandas as pd\n",
    "import index\n",
    "import homepage\n",
    "from prep import get_data\n",
    "import plotly.graph_objects as go"
   ]
  },
  {
   "cell_type": "code",
   "execution_count": null,
   "metadata": {},
   "outputs": [],
   "source": [
    "run index"
   ]
  },
  {
   "cell_type": "code",
   "execution_count": 43,
   "metadata": {},
   "outputs": [
    {
     "name": "stderr",
     "output_type": "stream",
     "text": [
      "C:\\Users\\blake\\Documents\\Future\\GitHub_Repo_Projects\\awc\\clean\\clean\\prep.py:116: SettingWithCopyWarning:\n",
      "\n",
      "\n",
      "A value is trying to be set on a copy of a slice from a DataFrame.\n",
      "Try using .loc[row_indexer,col_indexer] = value instead\n",
      "\n",
      "See the caveats in the documentation: http://pandas.pydata.org/pandas-docs/stable/indexing.html#indexing-view-versus-copy\n",
      "\n",
      "C:\\Users\\blake\\Documents\\Future\\GitHub_Repo_Projects\\awc\\clean\\clean\\prep.py:117: SettingWithCopyWarning:\n",
      "\n",
      "\n",
      "A value is trying to be set on a copy of a slice from a DataFrame.\n",
      "Try using .loc[row_indexer,col_indexer] = value instead\n",
      "\n",
      "See the caveats in the documentation: http://pandas.pydata.org/pandas-docs/stable/indexing.html#indexing-view-versus-copy\n",
      "\n",
      "C:\\Users\\blake\\Documents\\Future\\GitHub_Repo_Projects\\awc\\clean\\clean\\prep.py:118: SettingWithCopyWarning:\n",
      "\n",
      "\n",
      "A value is trying to be set on a copy of a slice from a DataFrame.\n",
      "Try using .loc[row_indexer,col_indexer] = value instead\n",
      "\n",
      "See the caveats in the documentation: http://pandas.pydata.org/pandas-docs/stable/indexing.html#indexing-view-versus-copy\n",
      "\n",
      "C:\\Users\\blake\\Documents\\Future\\GitHub_Repo_Projects\\awc\\clean\\clean\\prep.py:120: SettingWithCopyWarning:\n",
      "\n",
      "\n",
      "A value is trying to be set on a copy of a slice from a DataFrame.\n",
      "Try using .loc[row_indexer,col_indexer] = value instead\n",
      "\n",
      "See the caveats in the documentation: http://pandas.pydata.org/pandas-docs/stable/indexing.html#indexing-view-versus-copy\n",
      "\n",
      "C:\\Users\\blake\\Documents\\Future\\GitHub_Repo_Projects\\awc\\clean\\clean\\prep.py:124: SettingWithCopyWarning:\n",
      "\n",
      "\n",
      "A value is trying to be set on a copy of a slice from a DataFrame.\n",
      "Try using .loc[row_indexer,col_indexer] = value instead\n",
      "\n",
      "See the caveats in the documentation: http://pandas.pydata.org/pandas-docs/stable/indexing.html#indexing-view-versus-copy\n",
      "\n",
      "C:\\Users\\blake\\Documents\\Future\\GitHub_Repo_Projects\\awc\\clean\\clean\\prep.py:125: SettingWithCopyWarning:\n",
      "\n",
      "\n",
      "A value is trying to be set on a copy of a slice from a DataFrame.\n",
      "Try using .loc[row_indexer,col_indexer] = value instead\n",
      "\n",
      "See the caveats in the documentation: http://pandas.pydata.org/pandas-docs/stable/indexing.html#indexing-view-versus-copy\n",
      "\n",
      "C:\\Users\\blake\\Documents\\Future\\GitHub_Repo_Projects\\awc\\clean\\clean\\prep.py:127: SettingWithCopyWarning:\n",
      "\n",
      "\n",
      "A value is trying to be set on a copy of a slice from a DataFrame.\n",
      "Try using .loc[row_indexer,col_indexer] = value instead\n",
      "\n",
      "See the caveats in the documentation: http://pandas.pydata.org/pandas-docs/stable/indexing.html#indexing-view-versus-copy\n",
      "\n",
      "C:\\Users\\blake\\Anaconda3\\lib\\site-packages\\pandas\\core\\frame.py:6692: FutureWarning:\n",
      "\n",
      "Sorting because non-concatenation axis is not aligned. A future version\n",
      "of pandas will change to not sort by default.\n",
      "\n",
      "To accept the future behavior, pass 'sort=False'.\n",
      "\n",
      "To retain the current behavior and silence the warning, pass 'sort=True'.\n",
      "\n",
      "\n"
     ]
    }
   ],
   "source": [
    " df, df_num, df_noncumun_whole, noncumun_dfs = get_data()"
   ]
  },
  {
   "cell_type": "code",
   "execution_count": 31,
   "metadata": {},
   "outputs": [],
   "source": [
    "pd.set_option('display.max_columns', None)"
   ]
  },
  {
   "cell_type": "code",
   "execution_count": 23,
   "metadata": {},
   "outputs": [
    {
     "data": {
      "text/plain": [
       "array(['Quoting', 'Discovery (S.P.I.N.)', 'Won', 'Working', 'On Hold',\n",
       "       'Solution Development', 'Lost (why?)'], dtype=object)"
      ]
     },
     "execution_count": 23,
     "metadata": {},
     "output_type": "execute_result"
    }
   ],
   "source": [
    "df_num[\"Stage\"].unique()"
   ]
  },
  {
   "cell_type": "code",
   "execution_count": 38,
   "metadata": {},
   "outputs": [
    {
     "data": {
      "text/plain": [
       "Branch\n",
       "Austin            48\n",
       "Corpus Christi    15\n",
       "Houston NOV       21\n",
       "Houston OEM       67\n",
       "Midland           18\n",
       "OKC               16\n",
       "San Antonio       18\n",
       "Name: PotentialValue, dtype: int64"
      ]
     },
     "execution_count": 38,
     "metadata": {},
     "output_type": "execute_result"
    }
   ],
   "source": [
    "df_num[df_num[\"Stage\"].isin(['Quoting',\n",
    "        'Discovery (S.P.I.N.)','Working', 'On Hold',\n",
    "        'Solution Development'])].groupby(\"Branch\").count()[\"PotentialValue\"]"
   ]
  },
  {
   "cell_type": "code",
   "execution_count": 16,
   "metadata": {},
   "outputs": [
    {
     "data": {
      "text/plain": [
       "['Austin', 'Corpus Christi', 'Houston OEM']"
      ]
     },
     "execution_count": 16,
     "metadata": {},
     "output_type": "execute_result"
    }
   ],
   "source": [
    "[b for b in df_num[\"Branch\"].unique() if b in ['Austin', 'Corpus Christi', 'Houston OEM']]"
   ]
  },
  {
   "cell_type": "code",
   "execution_count": 53,
   "metadata": {},
   "outputs": [
    {
     "data": {
      "text/html": [
       "<div>\n",
       "<style scoped>\n",
       "    .dataframe tbody tr th:only-of-type {\n",
       "        vertical-align: middle;\n",
       "    }\n",
       "\n",
       "    .dataframe tbody tr th {\n",
       "        vertical-align: top;\n",
       "    }\n",
       "\n",
       "    .dataframe thead th {\n",
       "        text-align: right;\n",
       "    }\n",
       "</style>\n",
       "<table border=\"1\" class=\"dataframe\">\n",
       "  <thead>\n",
       "    <tr style=\"text-align: right;\">\n",
       "      <th></th>\n",
       "      <th>Div</th>\n",
       "      <th>Branch</th>\n",
       "      <th>OAM</th>\n",
       "      <th>LeadType</th>\n",
       "      <th>LeadSpecifics</th>\n",
       "      <th>Customer</th>\n",
       "      <th>Type</th>\n",
       "      <th>New</th>\n",
       "      <th>City, St</th>\n",
       "      <th>ProjectOpportunity</th>\n",
       "      <th>KeyVendor</th>\n",
       "      <th>TechnologiesServices Proposed</th>\n",
       "      <th>PotentialValue</th>\n",
       "      <th>ProbPercent</th>\n",
       "      <th>ExpectedValue</th>\n",
       "      <th>ExpectedValueStage</th>\n",
       "      <th>CustomerCompelingEvent</th>\n",
       "      <th>Stage</th>\n",
       "      <th>ProbPercentStage</th>\n",
       "      <th>ProbPercentDiff</th>\n",
       "      <th>YourNextBIGStep</th>\n",
       "      <th>Notes</th>\n",
       "      <th>UpdateDate</th>\n",
       "      <th>UD_delta</th>\n",
       "      <th>ExpectedOrderDate</th>\n",
       "      <th>EOD_delta</th>\n",
       "      <th>ExpectedOrderDateM</th>\n",
       "      <th>ExpectedOrderDateW</th>\n",
       "    </tr>\n",
       "  </thead>\n",
       "  <tbody>\n",
       "    <tr>\n",
       "      <th>0</th>\n",
       "      <td>18</td>\n",
       "      <td>Austin</td>\n",
       "      <td>John Dodge</td>\n",
       "      <td>Vendor</td>\n",
       "      <td>Metso Project Sales Lead</td>\n",
       "      <td>Central Texas Industrial, LLC</td>\n",
       "      <td>OEM</td>\n",
       "      <td>True</td>\n",
       "      <td>Cedar Creek, TX</td>\n",
       "      <td>CUB 1 LT PCV REP (addition)</td>\n",
       "      <td>JV</td>\n",
       "      <td>Valve Assemblies</td>\n",
       "      <td>7753</td>\n",
       "      <td>0.75</td>\n",
       "      <td>5814</td>\n",
       "      <td>4651.80</td>\n",
       "      <td>NaN</td>\n",
       "      <td>Quoting</td>\n",
       "      <td>0.60</td>\n",
       "      <td>NaN</td>\n",
       "      <td>Contact Rickey at SAS re: which contractor was...</td>\n",
       "      <td>Change order to existing project</td>\n",
       "      <td>2020-05-19</td>\n",
       "      <td>-29</td>\n",
       "      <td>2020-08-01</td>\n",
       "      <td>45.0</td>\n",
       "      <td>2020-08</td>\n",
       "      <td>2020-07-27/2020-08-02</td>\n",
       "    </tr>\n",
       "    <tr>\n",
       "      <th>1</th>\n",
       "      <td>18</td>\n",
       "      <td>Austin</td>\n",
       "      <td>John Dodge</td>\n",
       "      <td>AWC Internal</td>\n",
       "      <td>BestFest lead, followed up and came to Siemens...</td>\n",
       "      <td>DMS</td>\n",
       "      <td>OEM</td>\n",
       "      <td>True</td>\n",
       "      <td>Austin, TX</td>\n",
       "      <td>Semiconductor Tool Upgrades</td>\n",
       "      <td>SC</td>\n",
       "      <td>PLC/MHI</td>\n",
       "      <td>45000</td>\n",
       "      <td>0.75</td>\n",
       "      <td>33750</td>\n",
       "      <td>18000.00</td>\n",
       "      <td>NaN</td>\n",
       "      <td>Discovery (S.P.I.N.)</td>\n",
       "      <td>0.40</td>\n",
       "      <td>NaN</td>\n",
       "      <td>Coordinate Mtg w/ DMS &amp; Entegris</td>\n",
       "      <td>Continued releases of new tools</td>\n",
       "      <td>2020-05-19</td>\n",
       "      <td>-29</td>\n",
       "      <td>2020-07-15</td>\n",
       "      <td>28.0</td>\n",
       "      <td>2020-07</td>\n",
       "      <td>2020-07-13/2020-07-19</td>\n",
       "    </tr>\n",
       "    <tr>\n",
       "      <th>2</th>\n",
       "      <td>18</td>\n",
       "      <td>Austin</td>\n",
       "      <td>John Dodge</td>\n",
       "      <td>AWC Internal</td>\n",
       "      <td>Metso Marketing Campaign Lead</td>\n",
       "      <td>DSI</td>\n",
       "      <td>Contractor</td>\n",
       "      <td>False</td>\n",
       "      <td>Austin, TX</td>\n",
       "      <td>University of Texas Utilities Building</td>\n",
       "      <td>ME</td>\n",
       "      <td>qty 4 16\" HPV and qty 1 36\" HPV</td>\n",
       "      <td>84867</td>\n",
       "      <td>0.60</td>\n",
       "      <td>50920</td>\n",
       "      <td>50920.20</td>\n",
       "      <td>NaN</td>\n",
       "      <td>Quoting</td>\n",
       "      <td>0.60</td>\n",
       "      <td>NaN</td>\n",
       "      <td>Zoom mtg with Project Mgr re: schedule and cost</td>\n",
       "      <td>Pre-construction approved and awaiting project...</td>\n",
       "      <td>2020-05-19</td>\n",
       "      <td>-29</td>\n",
       "      <td>2020-06-30</td>\n",
       "      <td>13.0</td>\n",
       "      <td>2020-06</td>\n",
       "      <td>2020-06-29/2020-07-05</td>\n",
       "    </tr>\n",
       "    <tr>\n",
       "      <th>3</th>\n",
       "      <td>18</td>\n",
       "      <td>Austin</td>\n",
       "      <td>John Dodge</td>\n",
       "      <td>Vendor</td>\n",
       "      <td>Metso Project Sales Lead</td>\n",
       "      <td>ICU Medical</td>\n",
       "      <td>End User</td>\n",
       "      <td>False</td>\n",
       "      <td>Austin, TX</td>\n",
       "      <td>Waste Water Well Head Upgrade</td>\n",
       "      <td>SL</td>\n",
       "      <td>StoneL Axiom</td>\n",
       "      <td>10000</td>\n",
       "      <td>0.25</td>\n",
       "      <td>2500</td>\n",
       "      <td>4000.00</td>\n",
       "      <td>NaN</td>\n",
       "      <td>Discovery (S.P.I.N.)</td>\n",
       "      <td>0.40</td>\n",
       "      <td>NaN</td>\n",
       "      <td>Contact Adam Baker on WW expansion</td>\n",
       "      <td>New lead from StoneL for Q3 2020 upgrade</td>\n",
       "      <td>2020-05-13</td>\n",
       "      <td>-35</td>\n",
       "      <td>2020-10-15</td>\n",
       "      <td>120.0</td>\n",
       "      <td>2020-10</td>\n",
       "      <td>2020-10-12/2020-10-18</td>\n",
       "    </tr>\n",
       "    <tr>\n",
       "      <th>4</th>\n",
       "      <td>18</td>\n",
       "      <td>Austin</td>\n",
       "      <td>John Dodge</td>\n",
       "      <td>AWC Internal</td>\n",
       "      <td>Introduced Patti to Urban at Bestfest</td>\n",
       "      <td>Patti Engr</td>\n",
       "      <td>Integrator</td>\n",
       "      <td>False</td>\n",
       "      <td>Austin, TX</td>\n",
       "      <td>Urban Mining Phase 2 Network</td>\n",
       "      <td>SC</td>\n",
       "      <td>Managed switches</td>\n",
       "      <td>55000</td>\n",
       "      <td>0.75</td>\n",
       "      <td>41250</td>\n",
       "      <td>22000.00</td>\n",
       "      <td>NaN</td>\n",
       "      <td>Discovery (S.P.I.N.)</td>\n",
       "      <td>0.40</td>\n",
       "      <td>NaN</td>\n",
       "      <td>Schedule FAT of Phase I and bid Phase II</td>\n",
       "      <td>Patti is completing P1 and should be ordering ...</td>\n",
       "      <td>2020-05-13</td>\n",
       "      <td>-35</td>\n",
       "      <td>2020-09-01</td>\n",
       "      <td>76.0</td>\n",
       "      <td>2020-09</td>\n",
       "      <td>2020-08-31/2020-09-06</td>\n",
       "    </tr>\n",
       "    <tr>\n",
       "      <th>5</th>\n",
       "      <td>18</td>\n",
       "      <td>Austin</td>\n",
       "      <td>John Dodge</td>\n",
       "      <td>Customer</td>\n",
       "      <td>Valve Retrofit</td>\n",
       "      <td>Prime Controls</td>\n",
       "      <td>Integrator</td>\n",
       "      <td>False</td>\n",
       "      <td>Austin, TX</td>\n",
       "      <td>SITE-PA02 CDA (Change Order)</td>\n",
       "      <td>JV, WI</td>\n",
       "      <td>Valve Assemblies</td>\n",
       "      <td>27500</td>\n",
       "      <td>0.90</td>\n",
       "      <td>24750</td>\n",
       "      <td>16500.00</td>\n",
       "      <td>NaN</td>\n",
       "      <td>Quoting</td>\n",
       "      <td>0.60</td>\n",
       "      <td>NaN</td>\n",
       "      <td>Schedule Deer Park Work Order</td>\n",
       "      <td>NaN</td>\n",
       "      <td>2020-05-13</td>\n",
       "      <td>-35</td>\n",
       "      <td>2020-06-01</td>\n",
       "      <td>-16.0</td>\n",
       "      <td>2020-06</td>\n",
       "      <td>2020-06-01/2020-06-07</td>\n",
       "    </tr>\n",
       "    <tr>\n",
       "      <th>6</th>\n",
       "      <td>18</td>\n",
       "      <td>Austin</td>\n",
       "      <td>John Dodge</td>\n",
       "      <td>Customer</td>\n",
       "      <td>Bid Package for Control Valves</td>\n",
       "      <td>Samsung</td>\n",
       "      <td>End User</td>\n",
       "      <td>False</td>\n",
       "      <td>Austin, TX</td>\n",
       "      <td>Cooling Tower 02 Expansion Project</td>\n",
       "      <td>JV, WI, Rotork</td>\n",
       "      <td>Valve Assemblies</td>\n",
       "      <td>333404</td>\n",
       "      <td>0.75</td>\n",
       "      <td>250053</td>\n",
       "      <td>133361.60</td>\n",
       "      <td>NaN</td>\n",
       "      <td>Discovery (S.P.I.N.)</td>\n",
       "      <td>0.40</td>\n",
       "      <td>NaN</td>\n",
       "      <td>Mtg with SAS/SECAI to determine \"Pre-Order\" Lo...</td>\n",
       "      <td>Part of major Cool Tower expansion</td>\n",
       "      <td>2020-05-13</td>\n",
       "      <td>-35</td>\n",
       "      <td>2020-09-01</td>\n",
       "      <td>76.0</td>\n",
       "      <td>2020-09</td>\n",
       "      <td>2020-08-31/2020-09-06</td>\n",
       "    </tr>\n",
       "    <tr>\n",
       "      <th>7</th>\n",
       "      <td>18</td>\n",
       "      <td>Austin</td>\n",
       "      <td>John Dodge</td>\n",
       "      <td>AWC Internal</td>\n",
       "      <td>Customer saw DTL demo, had AWC build one for t...</td>\n",
       "      <td>Samsung</td>\n",
       "      <td>End User</td>\n",
       "      <td>False</td>\n",
       "      <td>Austin, TX</td>\n",
       "      <td>FAB1 Vibration Monitoring System</td>\n",
       "      <td>BN</td>\n",
       "      <td>Sensors, Nodes and Master controller (IIOT)</td>\n",
       "      <td>18000</td>\n",
       "      <td>0.75</td>\n",
       "      <td>13500</td>\n",
       "      <td>10800.00</td>\n",
       "      <td>NaN</td>\n",
       "      <td>Quoting</td>\n",
       "      <td>0.60</td>\n",
       "      <td>NaN</td>\n",
       "      <td>Follow-up on bid submitted last week to determ...</td>\n",
       "      <td>Prototype system for bearing vibration monitoring</td>\n",
       "      <td>2020-05-14</td>\n",
       "      <td>-34</td>\n",
       "      <td>2020-07-15</td>\n",
       "      <td>28.0</td>\n",
       "      <td>2020-07</td>\n",
       "      <td>2020-07-13/2020-07-19</td>\n",
       "    </tr>\n",
       "    <tr>\n",
       "      <th>9</th>\n",
       "      <td>18</td>\n",
       "      <td>Austin</td>\n",
       "      <td>John Dodge</td>\n",
       "      <td>Vendor</td>\n",
       "      <td>StoneL lead</td>\n",
       "      <td>Solaris Oilfield Infrastructure</td>\n",
       "      <td>OEM</td>\n",
       "      <td>True</td>\n",
       "      <td>Early, TX</td>\n",
       "      <td>Compressed Air station</td>\n",
       "      <td>SL</td>\n",
       "      <td>StoneL Valve Assemblies</td>\n",
       "      <td>44226</td>\n",
       "      <td>0.75</td>\n",
       "      <td>33169</td>\n",
       "      <td>26535.60</td>\n",
       "      <td>NaN</td>\n",
       "      <td>Quoting</td>\n",
       "      <td>0.60</td>\n",
       "      <td>NaN</td>\n",
       "      <td>Site visit with Metso to review ASI network ar...</td>\n",
       "      <td>New Product being developed</td>\n",
       "      <td>2020-05-13</td>\n",
       "      <td>-35</td>\n",
       "      <td>2020-07-01</td>\n",
       "      <td>14.0</td>\n",
       "      <td>2020-07</td>\n",
       "      <td>2020-06-29/2020-07-05</td>\n",
       "    </tr>\n",
       "    <tr>\n",
       "      <th>10</th>\n",
       "      <td>18</td>\n",
       "      <td>Austin</td>\n",
       "      <td>John Dodge</td>\n",
       "      <td>Vendor</td>\n",
       "      <td>Adalet Lead</td>\n",
       "      <td>Ultra Electronics</td>\n",
       "      <td>End User</td>\n",
       "      <td>False</td>\n",
       "      <td>Round Rock</td>\n",
       "      <td>Custom Transmitter for Nuclear Ind</td>\n",
       "      <td>AE</td>\n",
       "      <td>Adalet Instrument Housing</td>\n",
       "      <td>23000</td>\n",
       "      <td>0.80</td>\n",
       "      <td>18400</td>\n",
       "      <td>13800.00</td>\n",
       "      <td>NaN</td>\n",
       "      <td>Quoting</td>\n",
       "      <td>0.60</td>\n",
       "      <td>NaN</td>\n",
       "      <td>Bid going out 5/20 for 2nd batch of units.   F...</td>\n",
       "      <td>2nd set of Adalet housings</td>\n",
       "      <td>2020-05-13</td>\n",
       "      <td>-35</td>\n",
       "      <td>2020-07-01</td>\n",
       "      <td>14.0</td>\n",
       "      <td>2020-07</td>\n",
       "      <td>2020-06-29/2020-07-05</td>\n",
       "    </tr>\n",
       "    <tr>\n",
       "      <th>11</th>\n",
       "      <td>18</td>\n",
       "      <td>Austin</td>\n",
       "      <td>John Dodge</td>\n",
       "      <td>AWC Internal</td>\n",
       "      <td>BestFest lead, followed up and came to Siemens...</td>\n",
       "      <td>Urban Mining</td>\n",
       "      <td>End User</td>\n",
       "      <td>True</td>\n",
       "      <td>San Marcos, TX</td>\n",
       "      <td>Control Room Upgrade</td>\n",
       "      <td>SC, Dell</td>\n",
       "      <td>HMI Clients</td>\n",
       "      <td>21000</td>\n",
       "      <td>0.50</td>\n",
       "      <td>10500</td>\n",
       "      <td>12600.00</td>\n",
       "      <td>NaN</td>\n",
       "      <td>Quoting</td>\n",
       "      <td>0.60</td>\n",
       "      <td>NaN</td>\n",
       "      <td>Zoom mtg with Urban and SW Solutions on 5/21 t...</td>\n",
       "      <td>(12)  HMI Clients for new control room</td>\n",
       "      <td>2020-05-14</td>\n",
       "      <td>-34</td>\n",
       "      <td>2020-06-15</td>\n",
       "      <td>-2.0</td>\n",
       "      <td>2020-06</td>\n",
       "      <td>2020-06-15/2020-06-21</td>\n",
       "    </tr>\n",
       "    <tr>\n",
       "      <th>12</th>\n",
       "      <td>18</td>\n",
       "      <td>Austin</td>\n",
       "      <td>John Dodge</td>\n",
       "      <td>Vendor</td>\n",
       "      <td>Metso Lead</td>\n",
       "      <td>WINSTON WATER COOLER OF AUSTIN</td>\n",
       "      <td>OEM</td>\n",
       "      <td>True</td>\n",
       "      <td>Pflugerville, TX</td>\n",
       "      <td>University of Texas Utilities Building</td>\n",
       "      <td>JV</td>\n",
       "      <td>Valve Assemblies</td>\n",
       "      <td>14840</td>\n",
       "      <td>0.75</td>\n",
       "      <td>11130</td>\n",
       "      <td>8904.00</td>\n",
       "      <td>NaN</td>\n",
       "      <td>Quoting</td>\n",
       "      <td>0.60</td>\n",
       "      <td>NaN</td>\n",
       "      <td>Phone call with contractor to see if they have...</td>\n",
       "      <td>Phase 2 expansion</td>\n",
       "      <td>2020-05-13</td>\n",
       "      <td>-35</td>\n",
       "      <td>2020-06-15</td>\n",
       "      <td>-2.0</td>\n",
       "      <td>2020-06</td>\n",
       "      <td>2020-06-15/2020-06-21</td>\n",
       "    </tr>\n",
       "    <tr>\n",
       "      <th>14</th>\n",
       "      <td>18</td>\n",
       "      <td>Austin</td>\n",
       "      <td>Mike Walshe</td>\n",
       "      <td>AWC Internal</td>\n",
       "      <td>AWC Valve Services Meeting</td>\n",
       "      <td>G-Con Manufacturing</td>\n",
       "      <td>OEM</td>\n",
       "      <td>False</td>\n",
       "      <td>College Station, TX</td>\n",
       "      <td>POD Damper Assembly</td>\n",
       "      <td>Belimo</td>\n",
       "      <td>Assembly of Belimo Actuator with Ruskin Damper</td>\n",
       "      <td>125000</td>\n",
       "      <td>0.25</td>\n",
       "      <td>31250</td>\n",
       "      <td>75000.00</td>\n",
       "      <td>Fast assembly turnaround to meet aggressive le...</td>\n",
       "      <td>Quoting</td>\n",
       "      <td>0.60</td>\n",
       "      <td>NaN</td>\n",
       "      <td>Build test assembly in Austin</td>\n",
       "      <td>5/12 - Working with Shawn Mills and Tanner Smi...</td>\n",
       "      <td>2020-05-12</td>\n",
       "      <td>-36</td>\n",
       "      <td>2020-06-04</td>\n",
       "      <td>-13.0</td>\n",
       "      <td>2020-06</td>\n",
       "      <td>2020-06-01/2020-06-07</td>\n",
       "    </tr>\n",
       "    <tr>\n",
       "      <th>15</th>\n",
       "      <td>18</td>\n",
       "      <td>Austin</td>\n",
       "      <td>Mike Walshe</td>\n",
       "      <td>AWC Internal</td>\n",
       "      <td>Next Gen Design Meeting</td>\n",
       "      <td>G-Con Manufacturing</td>\n",
       "      <td>OEM</td>\n",
       "      <td>False</td>\n",
       "      <td>College Station, TX</td>\n",
       "      <td>POD EMS</td>\n",
       "      <td>SC</td>\n",
       "      <td>Automation/Scada</td>\n",
       "      <td>250000</td>\n",
       "      <td>0.75</td>\n",
       "      <td>187500</td>\n",
       "      <td>187500.00</td>\n",
       "      <td>NaN</td>\n",
       "      <td>Working</td>\n",
       "      <td>0.75</td>\n",
       "      <td>NaN</td>\n",
       "      <td>NaN</td>\n",
       "      <td>5/12 - Cost per EMS panel is $26k.  Working wi...</td>\n",
       "      <td>2020-05-12</td>\n",
       "      <td>-36</td>\n",
       "      <td>2020-06-10</td>\n",
       "      <td>-7.0</td>\n",
       "      <td>2020-06</td>\n",
       "      <td>2020-06-08/2020-06-14</td>\n",
       "    </tr>\n",
       "    <tr>\n",
       "      <th>16</th>\n",
       "      <td>18</td>\n",
       "      <td>Austin</td>\n",
       "      <td>Mike Walshe</td>\n",
       "      <td>AWC Internal</td>\n",
       "      <td>Next Gen Design Meeting</td>\n",
       "      <td>LSPI</td>\n",
       "      <td>OEM</td>\n",
       "      <td>False</td>\n",
       "      <td>Bryan, TX</td>\n",
       "      <td>XP1 &amp; XP2 IOT</td>\n",
       "      <td>SC</td>\n",
       "      <td>Sinema RC &amp; Telecontrol</td>\n",
       "      <td>20000</td>\n",
       "      <td>0.75</td>\n",
       "      <td>15000</td>\n",
       "      <td>12000.00</td>\n",
       "      <td>NaN</td>\n",
       "      <td>Quoting</td>\n",
       "      <td>0.60</td>\n",
       "      <td>NaN</td>\n",
       "      <td>NaN</td>\n",
       "      <td>5/12 - Submitting proposal 5/12/2020 based off...</td>\n",
       "      <td>2020-05-12</td>\n",
       "      <td>-36</td>\n",
       "      <td>2020-06-03</td>\n",
       "      <td>-14.0</td>\n",
       "      <td>2020-06</td>\n",
       "      <td>2020-06-01/2020-06-07</td>\n",
       "    </tr>\n",
       "    <tr>\n",
       "      <th>17</th>\n",
       "      <td>18</td>\n",
       "      <td>Austin</td>\n",
       "      <td>Mike Walshe</td>\n",
       "      <td>AWC Internal</td>\n",
       "      <td>AWC Services Capabilities Meeting</td>\n",
       "      <td>LSPI</td>\n",
       "      <td>OEM</td>\n",
       "      <td>False</td>\n",
       "      <td>Bryan, TX</td>\n",
       "      <td>IOT Device Installation</td>\n",
       "      <td>AWC/ACE</td>\n",
       "      <td>Service Contract</td>\n",
       "      <td>5000000</td>\n",
       "      <td>0.99</td>\n",
       "      <td>4950000</td>\n",
       "      <td>3750000.00</td>\n",
       "      <td>NaN</td>\n",
       "      <td>Working</td>\n",
       "      <td>0.75</td>\n",
       "      <td>NaN</td>\n",
       "      <td>NaN</td>\n",
       "      <td>5/12 - Contract to be sent over next week for ...</td>\n",
       "      <td>2020-05-12</td>\n",
       "      <td>-36</td>\n",
       "      <td>2020-06-15</td>\n",
       "      <td>-2.0</td>\n",
       "      <td>2020-06</td>\n",
       "      <td>2020-06-15/2020-06-21</td>\n",
       "    </tr>\n",
       "    <tr>\n",
       "      <th>18</th>\n",
       "      <td>18</td>\n",
       "      <td>Austin</td>\n",
       "      <td>Mike Walshe</td>\n",
       "      <td>AWC Internal</td>\n",
       "      <td>Next Gen Design Meeting</td>\n",
       "      <td>OVIVO LLC</td>\n",
       "      <td>OEM</td>\n",
       "      <td>True</td>\n",
       "      <td>Round Rock, TX</td>\n",
       "      <td>Shop Test Panel</td>\n",
       "      <td>Allen Bradley</td>\n",
       "      <td>Control panel design and build</td>\n",
       "      <td>12000</td>\n",
       "      <td>0.50</td>\n",
       "      <td>6000</td>\n",
       "      <td>7200.00</td>\n",
       "      <td>NaN</td>\n",
       "      <td>Quoting</td>\n",
       "      <td>0.60</td>\n",
       "      <td>NaN</td>\n",
       "      <td>NaN</td>\n",
       "      <td>5/12 - Submitted proposal 5/5/2020.  OVIVO wit...</td>\n",
       "      <td>2020-05-12</td>\n",
       "      <td>-36</td>\n",
       "      <td>2020-05-29</td>\n",
       "      <td>-19.0</td>\n",
       "      <td>2020-05</td>\n",
       "      <td>2020-05-25/2020-05-31</td>\n",
       "    </tr>\n",
       "    <tr>\n",
       "      <th>21</th>\n",
       "      <td>18</td>\n",
       "      <td>Austin</td>\n",
       "      <td>Mike Walshe</td>\n",
       "      <td>AWC Internal</td>\n",
       "      <td>Next Gen Design Meeting</td>\n",
       "      <td>OVIVO LLC</td>\n",
       "      <td>OEM</td>\n",
       "      <td>True</td>\n",
       "      <td>Round Rock, TX</td>\n",
       "      <td>Tertiary Membrane Filtration/Panel Assembly</td>\n",
       "      <td>SC</td>\n",
       "      <td>Control panel design and build with installati...</td>\n",
       "      <td>80000</td>\n",
       "      <td>0.50</td>\n",
       "      <td>40000</td>\n",
       "      <td>60000.00</td>\n",
       "      <td>Needing to get into a new market and need a mo...</td>\n",
       "      <td>Working</td>\n",
       "      <td>0.75</td>\n",
       "      <td>NaN</td>\n",
       "      <td>NaN</td>\n",
       "      <td>5/12 - Cost per TMF is $80k.  Currently workin...</td>\n",
       "      <td>2020-05-12</td>\n",
       "      <td>-36</td>\n",
       "      <td>2020-10-05</td>\n",
       "      <td>110.0</td>\n",
       "      <td>2020-10</td>\n",
       "      <td>2020-10-05/2020-10-11</td>\n",
       "    </tr>\n",
       "    <tr>\n",
       "      <th>22</th>\n",
       "      <td>18</td>\n",
       "      <td>Austin</td>\n",
       "      <td>Mike Walshe</td>\n",
       "      <td>AWC Internal</td>\n",
       "      <td>AWC Hotline request</td>\n",
       "      <td>RapidDeploy</td>\n",
       "      <td>OEM</td>\n",
       "      <td>True</td>\n",
       "      <td>Austin, TX</td>\n",
       "      <td>Cloud Aided Dispatch</td>\n",
       "      <td>PX</td>\n",
       "      <td>Edge Device</td>\n",
       "      <td>25000</td>\n",
       "      <td>0.50</td>\n",
       "      <td>12500</td>\n",
       "      <td>18750.00</td>\n",
       "      <td>Current IPC Intel Processor was outdated.  Req...</td>\n",
       "      <td>Working</td>\n",
       "      <td>0.75</td>\n",
       "      <td>NaN</td>\n",
       "      <td>Finalize KIT requirement with their image</td>\n",
       "      <td>Phoenix BL2 Box PC Passed testing with RapidDe...</td>\n",
       "      <td>2020-05-12</td>\n",
       "      <td>-36</td>\n",
       "      <td>2020-10-15</td>\n",
       "      <td>120.0</td>\n",
       "      <td>2020-10</td>\n",
       "      <td>2020-10-12/2020-10-18</td>\n",
       "    </tr>\n",
       "    <tr>\n",
       "      <th>23</th>\n",
       "      <td>18</td>\n",
       "      <td>Austin</td>\n",
       "      <td>Mike Walshe</td>\n",
       "      <td>AWC Internal</td>\n",
       "      <td>Next Gen Design Meeting</td>\n",
       "      <td>SkyVenture</td>\n",
       "      <td>OEM</td>\n",
       "      <td>False</td>\n",
       "      <td>Austin, TX</td>\n",
       "      <td>Qatar VFD Assembly</td>\n",
       "      <td>SC</td>\n",
       "      <td>VFD Panel Design and Assembly</td>\n",
       "      <td>250000</td>\n",
       "      <td>0.50</td>\n",
       "      <td>125000</td>\n",
       "      <td>150000.00</td>\n",
       "      <td>Needed a globally supported solution that woul...</td>\n",
       "      <td>Quoting</td>\n",
       "      <td>0.60</td>\n",
       "      <td>NaN</td>\n",
       "      <td>Finalizing G130 design with WE Manufacturing</td>\n",
       "      <td>5/12 - Tunnel in design phase</td>\n",
       "      <td>2020-05-12</td>\n",
       "      <td>-36</td>\n",
       "      <td>2020-10-15</td>\n",
       "      <td>120.0</td>\n",
       "      <td>2020-10</td>\n",
       "      <td>2020-10-12/2020-10-18</td>\n",
       "    </tr>\n",
       "    <tr>\n",
       "      <th>24</th>\n",
       "      <td>18</td>\n",
       "      <td>Austin</td>\n",
       "      <td>Mike Walshe</td>\n",
       "      <td>Vendor</td>\n",
       "      <td>Siemens Lead</td>\n",
       "      <td>Trinity Industry</td>\n",
       "      <td>End User</td>\n",
       "      <td>False</td>\n",
       "      <td>Navasota, TX</td>\n",
       "      <td>S5 to S7 Upgrade</td>\n",
       "      <td>SC</td>\n",
       "      <td>S7-1500 and Comfort Panel</td>\n",
       "      <td>10000</td>\n",
       "      <td>0.25</td>\n",
       "      <td>2500</td>\n",
       "      <td>4000.00</td>\n",
       "      <td>NaN</td>\n",
       "      <td>Discovery (S.P.I.N.)</td>\n",
       "      <td>0.40</td>\n",
       "      <td>NaN</td>\n",
       "      <td>NaN</td>\n",
       "      <td>5/12 - Working with site on scope</td>\n",
       "      <td>2020-05-12</td>\n",
       "      <td>-36</td>\n",
       "      <td>NaT</td>\n",
       "      <td>NaN</td>\n",
       "      <td>NaT</td>\n",
       "      <td>NaT</td>\n",
       "    </tr>\n",
       "    <tr>\n",
       "      <th>25</th>\n",
       "      <td>18</td>\n",
       "      <td>Austin</td>\n",
       "      <td>Mike Walshe</td>\n",
       "      <td>AWC Internal</td>\n",
       "      <td>Next Gen Design Meeting</td>\n",
       "      <td>OVIVO LLC</td>\n",
       "      <td>OEM</td>\n",
       "      <td>True</td>\n",
       "      <td>Round Rock, TX</td>\n",
       "      <td>microBLOX MBR Packaged Wastwater Treatment</td>\n",
       "      <td>SC</td>\n",
       "      <td>Control panel design and build with installati...</td>\n",
       "      <td>80000</td>\n",
       "      <td>0.50</td>\n",
       "      <td>40000</td>\n",
       "      <td>60000.00</td>\n",
       "      <td>Previous integrator partnered with another MBR...</td>\n",
       "      <td>Working</td>\n",
       "      <td>0.75</td>\n",
       "      <td>NaN</td>\n",
       "      <td>Working on final production design with Engine...</td>\n",
       "      <td>5/12 - Cost per microBlox is $80k.</td>\n",
       "      <td>2020-05-19</td>\n",
       "      <td>-29</td>\n",
       "      <td>2020-10-05</td>\n",
       "      <td>110.0</td>\n",
       "      <td>2020-10</td>\n",
       "      <td>2020-10-05/2020-10-11</td>\n",
       "    </tr>\n",
       "    <tr>\n",
       "      <th>26</th>\n",
       "      <td>18</td>\n",
       "      <td>Austin</td>\n",
       "      <td>Mike Walshe</td>\n",
       "      <td>AWC Internal</td>\n",
       "      <td>AWC IOT capabilities utilzing Siemens Telecont...</td>\n",
       "      <td>LSPI</td>\n",
       "      <td>OEM</td>\n",
       "      <td>False</td>\n",
       "      <td>Bryan, TX</td>\n",
       "      <td>IOT Device Installation</td>\n",
       "      <td>AWC</td>\n",
       "      <td>AWC DATA Aquisition Box</td>\n",
       "      <td>150000</td>\n",
       "      <td>0.99</td>\n",
       "      <td>148500</td>\n",
       "      <td>112500.00</td>\n",
       "      <td>Current IOT solution has had multiple failures...</td>\n",
       "      <td>Working</td>\n",
       "      <td>0.75</td>\n",
       "      <td>NaN</td>\n",
       "      <td>Meeting on Friday to discuss SCOPE for Limited...</td>\n",
       "      <td>5/19 - Utilizing existing design from our init...</td>\n",
       "      <td>2020-05-19</td>\n",
       "      <td>-29</td>\n",
       "      <td>2020-06-15</td>\n",
       "      <td>-2.0</td>\n",
       "      <td>2020-06</td>\n",
       "      <td>2020-06-15/2020-06-21</td>\n",
       "    </tr>\n",
       "    <tr>\n",
       "      <th>27</th>\n",
       "      <td>18</td>\n",
       "      <td>Austin</td>\n",
       "      <td>Sean Marroquin</td>\n",
       "      <td>AWC Internal</td>\n",
       "      <td>IAM</td>\n",
       "      <td>Austin White Lime</td>\n",
       "      <td>End User</td>\n",
       "      <td>False</td>\n",
       "      <td>Austin, TX</td>\n",
       "      <td>Plant Upgrade</td>\n",
       "      <td>ST</td>\n",
       "      <td>Weighing, Level, Mass Dynamics</td>\n",
       "      <td>75000</td>\n",
       "      <td>0.50</td>\n",
       "      <td>37500</td>\n",
       "      <td>30000.00</td>\n",
       "      <td>Plant underwent safety inspection, determined ...</td>\n",
       "      <td>Discovery (S.P.I.N.)</td>\n",
       "      <td>0.40</td>\n",
       "      <td>NaN</td>\n",
       "      <td>Contact Joe Byrd for update. Customer upgradin...</td>\n",
       "      <td>5/19 Customer working with CPUSA</td>\n",
       "      <td>2020-05-20</td>\n",
       "      <td>-28</td>\n",
       "      <td>2020-10-01</td>\n",
       "      <td>106.0</td>\n",
       "      <td>2020-10</td>\n",
       "      <td>2020-09-28/2020-10-04</td>\n",
       "    </tr>\n",
       "    <tr>\n",
       "      <th>28</th>\n",
       "      <td>18</td>\n",
       "      <td>Austin</td>\n",
       "      <td>Sean Marroquin</td>\n",
       "      <td>Vendor</td>\n",
       "      <td>AWC Specified Kenco with Titos in 2014</td>\n",
       "      <td>Brandt Companies</td>\n",
       "      <td>Contractor</td>\n",
       "      <td>False</td>\n",
       "      <td>Austin, TX</td>\n",
       "      <td>Tito's Vodka Expansion D11 - D14</td>\n",
       "      <td>KE</td>\n",
       "      <td>Kenco Float Switches</td>\n",
       "      <td>65000</td>\n",
       "      <td>0.90</td>\n",
       "      <td>58500</td>\n",
       "      <td>58500.00</td>\n",
       "      <td>End customer expansion continuation</td>\n",
       "      <td>On Hold</td>\n",
       "      <td>0.90</td>\n",
       "      <td>NaN</td>\n",
       "      <td>Joint meeting in Junewith Magnum Engineering a...</td>\n",
       "      <td>5/20 Seth responded they are still working on ...</td>\n",
       "      <td>2020-05-20</td>\n",
       "      <td>-28</td>\n",
       "      <td>2020-09-01</td>\n",
       "      <td>76.0</td>\n",
       "      <td>2020-09</td>\n",
       "      <td>2020-08-31/2020-09-06</td>\n",
       "    </tr>\n",
       "    <tr>\n",
       "      <th>29</th>\n",
       "      <td>18</td>\n",
       "      <td>Austin</td>\n",
       "      <td>Sean Marroquin</td>\n",
       "      <td>Vendor</td>\n",
       "      <td>Siemens</td>\n",
       "      <td>Capitol Aggregates</td>\n",
       "      <td>End User</td>\n",
       "      <td>False</td>\n",
       "      <td>Burnet, TX</td>\n",
       "      <td>Rock Crusher</td>\n",
       "      <td>SC</td>\n",
       "      <td>Siemens VFDs</td>\n",
       "      <td>110000</td>\n",
       "      <td>0.30</td>\n",
       "      <td>33000</td>\n",
       "      <td>99000.00</td>\n",
       "      <td>Customer adding 2 new rock crusher motors</td>\n",
       "      <td>On Hold</td>\n",
       "      <td>0.90</td>\n",
       "      <td>NaN</td>\n",
       "      <td>Follow up with Chappa on June 1st</td>\n",
       "      <td>5/12 Spoke with customer, project on hold unti...</td>\n",
       "      <td>2020-05-12</td>\n",
       "      <td>-36</td>\n",
       "      <td>2020-12-01</td>\n",
       "      <td>167.0</td>\n",
       "      <td>2020-12</td>\n",
       "      <td>2020-11-30/2020-12-06</td>\n",
       "    </tr>\n",
       "    <tr>\n",
       "      <th>30</th>\n",
       "      <td>18</td>\n",
       "      <td>Austin</td>\n",
       "      <td>Sean Marroquin</td>\n",
       "      <td>Vendor</td>\n",
       "      <td>Banner Radio Demo / Mission Demo</td>\n",
       "      <td>Central Texas Water Maint.</td>\n",
       "      <td>Integrator</td>\n",
       "      <td>False</td>\n",
       "      <td>Buda, TX</td>\n",
       "      <td>Fort Hood Management</td>\n",
       "      <td>SC</td>\n",
       "      <td>S7-1200</td>\n",
       "      <td>10000</td>\n",
       "      <td>0.50</td>\n",
       "      <td>5000</td>\n",
       "      <td>6000.00</td>\n",
       "      <td>Taking over maint of water sites for Military ...</td>\n",
       "      <td>Quoting</td>\n",
       "      <td>0.60</td>\n",
       "      <td>NaN</td>\n",
       "      <td>Trainings for TIA Portal, waiting on model num...</td>\n",
       "      <td>5/12 Customer ordered software, waiting on mod...</td>\n",
       "      <td>2020-05-19</td>\n",
       "      <td>-29</td>\n",
       "      <td>2020-06-01</td>\n",
       "      <td>-16.0</td>\n",
       "      <td>2020-06</td>\n",
       "      <td>2020-06-01/2020-06-07</td>\n",
       "    </tr>\n",
       "    <tr>\n",
       "      <th>31</th>\n",
       "      <td>18</td>\n",
       "      <td>Austin</td>\n",
       "      <td>Sean Marroquin</td>\n",
       "      <td>Vendor</td>\n",
       "      <td>Mission Communications lead</td>\n",
       "      <td>City of Cameron</td>\n",
       "      <td>End User</td>\n",
       "      <td>True</td>\n",
       "      <td>Cameron, TX</td>\n",
       "      <td>Water System Upgrade</td>\n",
       "      <td>Mission Comm</td>\n",
       "      <td>M850 RTUs</td>\n",
       "      <td>20000</td>\n",
       "      <td>0.50</td>\n",
       "      <td>10000</td>\n",
       "      <td>12000.00</td>\n",
       "      <td>Aging water system</td>\n",
       "      <td>Quoting</td>\n",
       "      <td>0.60</td>\n",
       "      <td>NaN</td>\n",
       "      <td>Follow up with Gerald on timeline</td>\n",
       "      <td>5/19 Discovered customer retiring, reaching ou...</td>\n",
       "      <td>2020-05-19</td>\n",
       "      <td>-29</td>\n",
       "      <td>2020-07-01</td>\n",
       "      <td>14.0</td>\n",
       "      <td>2020-07</td>\n",
       "      <td>2020-06-29/2020-07-05</td>\n",
       "    </tr>\n",
       "    <tr>\n",
       "      <th>33</th>\n",
       "      <td>18</td>\n",
       "      <td>Austin</td>\n",
       "      <td>Sean Marroquin</td>\n",
       "      <td>Vendor</td>\n",
       "      <td>Invited to Siemens Innovation Seminar</td>\n",
       "      <td>Fox Robotics</td>\n",
       "      <td>OEM</td>\n",
       "      <td>True</td>\n",
       "      <td>Austin, TX</td>\n",
       "      <td>AGV Forklift for distribution centers</td>\n",
       "      <td>SC, TU, PX, iGus</td>\n",
       "      <td>s71200F, cordsets, wire harnesses, custom shee...</td>\n",
       "      <td>50000</td>\n",
       "      <td>0.90</td>\n",
       "      <td>45000</td>\n",
       "      <td>37500.00</td>\n",
       "      <td>Start up, used 1200F controller for small port...</td>\n",
       "      <td>Working</td>\n",
       "      <td>0.75</td>\n",
       "      <td>NaN</td>\n",
       "      <td>Quote wireharness package, sheetmetal package,...</td>\n",
       "      <td>5/19 Waiting on multiple project bids due by F...</td>\n",
       "      <td>2020-05-19</td>\n",
       "      <td>-29</td>\n",
       "      <td>2020-07-01</td>\n",
       "      <td>14.0</td>\n",
       "      <td>2020-07</td>\n",
       "      <td>2020-06-29/2020-07-05</td>\n",
       "    </tr>\n",
       "    <tr>\n",
       "      <th>34</th>\n",
       "      <td>18</td>\n",
       "      <td>Austin</td>\n",
       "      <td>Sean Marroquin</td>\n",
       "      <td>Colleague</td>\n",
       "      <td>Roberto Lopez</td>\n",
       "      <td>General Motors</td>\n",
       "      <td>End User</td>\n",
       "      <td>True</td>\n",
       "      <td>Austin, TX</td>\n",
       "      <td>Design Center Lab, Vision System network, RIO,...</td>\n",
       "      <td>SC, BN, PX</td>\n",
       "      <td>HMI, RTLS, RFID, 1500T, Banner, Turck</td>\n",
       "      <td>100000</td>\n",
       "      <td>0.10</td>\n",
       "      <td>10000</td>\n",
       "      <td>40000.00</td>\n",
       "      <td>Collegue left Urban Mining, fan of Siemens, we...</td>\n",
       "      <td>Discovery (S.P.I.N.)</td>\n",
       "      <td>0.40</td>\n",
       "      <td>NaN</td>\n",
       "      <td>Joint meeting with Fred Maynard on high speed ...</td>\n",
       "      <td>5/19 Quoted Siemens Software to Roberto, provi...</td>\n",
       "      <td>2020-05-19</td>\n",
       "      <td>-29</td>\n",
       "      <td>2021-01-01</td>\n",
       "      <td>198.0</td>\n",
       "      <td>2021-01</td>\n",
       "      <td>2020-12-28/2021-01-03</td>\n",
       "    </tr>\n",
       "    <tr>\n",
       "      <th>...</th>\n",
       "      <td>...</td>\n",
       "      <td>...</td>\n",
       "      <td>...</td>\n",
       "      <td>...</td>\n",
       "      <td>...</td>\n",
       "      <td>...</td>\n",
       "      <td>...</td>\n",
       "      <td>...</td>\n",
       "      <td>...</td>\n",
       "      <td>...</td>\n",
       "      <td>...</td>\n",
       "      <td>...</td>\n",
       "      <td>...</td>\n",
       "      <td>...</td>\n",
       "      <td>...</td>\n",
       "      <td>...</td>\n",
       "      <td>...</td>\n",
       "      <td>...</td>\n",
       "      <td>...</td>\n",
       "      <td>...</td>\n",
       "      <td>...</td>\n",
       "      <td>...</td>\n",
       "      <td>...</td>\n",
       "      <td>...</td>\n",
       "      <td>...</td>\n",
       "      <td>...</td>\n",
       "      <td>...</td>\n",
       "      <td>...</td>\n",
       "    </tr>\n",
       "    <tr>\n",
       "      <th>196</th>\n",
       "      <td>16</td>\n",
       "      <td>Houston OEM</td>\n",
       "      <td>Dane Ellis</td>\n",
       "      <td>Vendor</td>\n",
       "      <td>New Request, technology partner engagement</td>\n",
       "      <td>Intech Process Automation</td>\n",
       "      <td>Integrator</td>\n",
       "      <td>False</td>\n",
       "      <td>NaN</td>\n",
       "      <td>PLC/Component solution for system integrator</td>\n",
       "      <td>SC</td>\n",
       "      <td>S7-1500</td>\n",
       "      <td>90000</td>\n",
       "      <td>0.90</td>\n",
       "      <td>81000</td>\n",
       "      <td>67500.00</td>\n",
       "      <td>NaN</td>\n",
       "      <td>Working</td>\n",
       "      <td>0.75</td>\n",
       "      <td>NaN</td>\n",
       "      <td>design complete, waiting on order</td>\n",
       "      <td>NaN</td>\n",
       "      <td>2020-05-19</td>\n",
       "      <td>-29</td>\n",
       "      <td>2020-06-01</td>\n",
       "      <td>-16.0</td>\n",
       "      <td>2020-06</td>\n",
       "      <td>2020-06-01/2020-06-07</td>\n",
       "    </tr>\n",
       "    <tr>\n",
       "      <th>197</th>\n",
       "      <td>16</td>\n",
       "      <td>Houston OEM</td>\n",
       "      <td>Emma Mulcrone</td>\n",
       "      <td>ADC</td>\n",
       "      <td>ADC Brought AWC into online Banner question lead</td>\n",
       "      <td>Neuralabel</td>\n",
       "      <td>OEM</td>\n",
       "      <td>True</td>\n",
       "      <td>Stafford, TX</td>\n",
       "      <td>Printer Upgrade</td>\n",
       "      <td>BN</td>\n",
       "      <td>Banner Sensors and Indicators/Puls Power Supply</td>\n",
       "      <td>30000</td>\n",
       "      <td>0.20</td>\n",
       "      <td>6000</td>\n",
       "      <td>15000.00</td>\n",
       "      <td>NaN</td>\n",
       "      <td>Solution Development</td>\n",
       "      <td>0.50</td>\n",
       "      <td>NaN</td>\n",
       "      <td>Customer is currently testing system. Follow u...</td>\n",
       "      <td>NaN</td>\n",
       "      <td>2020-05-18</td>\n",
       "      <td>-30</td>\n",
       "      <td>2020-10-31</td>\n",
       "      <td>136.0</td>\n",
       "      <td>2020-10</td>\n",
       "      <td>2020-10-26/2020-11-01</td>\n",
       "    </tr>\n",
       "    <tr>\n",
       "      <th>198</th>\n",
       "      <td>16</td>\n",
       "      <td>Houston OEM</td>\n",
       "      <td>Emma Mulcrone</td>\n",
       "      <td>Customer</td>\n",
       "      <td>Banner Overview Presentation with Exisitng Con...</td>\n",
       "      <td>Tenaris</td>\n",
       "      <td>End User</td>\n",
       "      <td>False</td>\n",
       "      <td>Conroe, TX</td>\n",
       "      <td>Add Safety Features</td>\n",
       "      <td>BN/TU</td>\n",
       "      <td>Banner Sensors/Indicators Turck Safety Lights</td>\n",
       "      <td>40000</td>\n",
       "      <td>0.60</td>\n",
       "      <td>24000</td>\n",
       "      <td>30000.00</td>\n",
       "      <td>NaN</td>\n",
       "      <td>Working</td>\n",
       "      <td>0.75</td>\n",
       "      <td>NaN</td>\n",
       "      <td>Follow up 1 Week</td>\n",
       "      <td>We have specfied in multiple different parts, ...</td>\n",
       "      <td>2020-05-18</td>\n",
       "      <td>-30</td>\n",
       "      <td>NaT</td>\n",
       "      <td>NaN</td>\n",
       "      <td>NaT</td>\n",
       "      <td>NaT</td>\n",
       "    </tr>\n",
       "    <tr>\n",
       "      <th>199</th>\n",
       "      <td>16</td>\n",
       "      <td>Houston OEM</td>\n",
       "      <td>Emma Mulcrone</td>\n",
       "      <td>Customer</td>\n",
       "      <td>Referal from Exisitng Contact</td>\n",
       "      <td>Canrig</td>\n",
       "      <td>OEM</td>\n",
       "      <td>False</td>\n",
       "      <td>Houston, TX</td>\n",
       "      <td>Barrier Upgrade</td>\n",
       "      <td>MTL</td>\n",
       "      <td>Upgrade P&amp;F Barriers to MTL</td>\n",
       "      <td>40000</td>\n",
       "      <td>0.10</td>\n",
       "      <td>4000</td>\n",
       "      <td>16000.00</td>\n",
       "      <td>NaN</td>\n",
       "      <td>Discovery (S.P.I.N.)</td>\n",
       "      <td>0.40</td>\n",
       "      <td>NaN</td>\n",
       "      <td>Crossed over P&amp;F Barriers, engineering is reve...</td>\n",
       "      <td>NaN</td>\n",
       "      <td>2020-05-18</td>\n",
       "      <td>-30</td>\n",
       "      <td>2020-10-31</td>\n",
       "      <td>136.0</td>\n",
       "      <td>2020-10</td>\n",
       "      <td>2020-10-26/2020-11-01</td>\n",
       "    </tr>\n",
       "    <tr>\n",
       "      <th>200</th>\n",
       "      <td>16</td>\n",
       "      <td>Houston OEM</td>\n",
       "      <td>Emma Mulcrone</td>\n",
       "      <td>Customer</td>\n",
       "      <td>Referal from Exisitng Contact</td>\n",
       "      <td>Nabors</td>\n",
       "      <td>OEM</td>\n",
       "      <td>False</td>\n",
       "      <td>Houston, TX</td>\n",
       "      <td>Driller's Chair Upgrade</td>\n",
       "      <td>PX</td>\n",
       "      <td>Phoenix Panel PC</td>\n",
       "      <td>500000</td>\n",
       "      <td>0.20</td>\n",
       "      <td>100000</td>\n",
       "      <td>300000.00</td>\n",
       "      <td>Uprade to Windows 10</td>\n",
       "      <td>Quoting</td>\n",
       "      <td>0.60</td>\n",
       "      <td>NaN</td>\n",
       "      <td>Dropping off demo unit this week.</td>\n",
       "      <td>Customer is off of hold and is starting to test.</td>\n",
       "      <td>2020-05-18</td>\n",
       "      <td>-30</td>\n",
       "      <td>2020-10-31</td>\n",
       "      <td>136.0</td>\n",
       "      <td>2020-10</td>\n",
       "      <td>2020-10-26/2020-11-01</td>\n",
       "    </tr>\n",
       "    <tr>\n",
       "      <th>201</th>\n",
       "      <td>16</td>\n",
       "      <td>Houston OEM</td>\n",
       "      <td>Emma Mulcrone</td>\n",
       "      <td>Customer</td>\n",
       "      <td>Upgarde to Ongoing Business(Not all previously...</td>\n",
       "      <td>Expro</td>\n",
       "      <td>OEM</td>\n",
       "      <td>False</td>\n",
       "      <td>Houston, TX</td>\n",
       "      <td>Control System</td>\n",
       "      <td>SC</td>\n",
       "      <td>S7-1500/S120s/Junction Box</td>\n",
       "      <td>100000</td>\n",
       "      <td>0.30</td>\n",
       "      <td>30000</td>\n",
       "      <td>50000.00</td>\n",
       "      <td>S7-300 Being osboleted/customer code no longer...</td>\n",
       "      <td>Solution Development</td>\n",
       "      <td>0.50</td>\n",
       "      <td>NaN</td>\n",
       "      <td>Follow up 2 Weeks.</td>\n",
       "      <td>Solution is going to China, China is testing t...</td>\n",
       "      <td>2020-05-18</td>\n",
       "      <td>-30</td>\n",
       "      <td>2020-10-31</td>\n",
       "      <td>136.0</td>\n",
       "      <td>2020-10</td>\n",
       "      <td>2020-10-26/2020-11-01</td>\n",
       "    </tr>\n",
       "    <tr>\n",
       "      <th>202</th>\n",
       "      <td>16</td>\n",
       "      <td>Houston OEM</td>\n",
       "      <td>Emma Mulcrone</td>\n",
       "      <td>Customer</td>\n",
       "      <td>Plant Upgrade - Ongoing Business</td>\n",
       "      <td>Tenaris</td>\n",
       "      <td>End User</td>\n",
       "      <td>False</td>\n",
       "      <td>Bay City, TX</td>\n",
       "      <td>Software Upgrade</td>\n",
       "      <td>SC</td>\n",
       "      <td>Siemens TIA Portal Software</td>\n",
       "      <td>150000</td>\n",
       "      <td>0.30</td>\n",
       "      <td>45000</td>\n",
       "      <td>90000.00</td>\n",
       "      <td>V16 has quicker update times than V13.</td>\n",
       "      <td>Quoting</td>\n",
       "      <td>0.60</td>\n",
       "      <td>NaN</td>\n",
       "      <td>NaN</td>\n",
       "      <td>NaN</td>\n",
       "      <td>2020-05-18</td>\n",
       "      <td>-30</td>\n",
       "      <td>NaT</td>\n",
       "      <td>NaN</td>\n",
       "      <td>NaT</td>\n",
       "      <td>NaT</td>\n",
       "    </tr>\n",
       "    <tr>\n",
       "      <th>203</th>\n",
       "      <td>16</td>\n",
       "      <td>Houston OEM</td>\n",
       "      <td>Emma Mulcrone</td>\n",
       "      <td>Customer</td>\n",
       "      <td>Ongoing Business</td>\n",
       "      <td>All Current</td>\n",
       "      <td>Integrator</td>\n",
       "      <td>False</td>\n",
       "      <td>Houston, TX</td>\n",
       "      <td>G120X Conversion</td>\n",
       "      <td>SC</td>\n",
       "      <td>G120X</td>\n",
       "      <td>50000</td>\n",
       "      <td>0.20</td>\n",
       "      <td>10000</td>\n",
       "      <td>30000.00</td>\n",
       "      <td>NaN</td>\n",
       "      <td>Quoting</td>\n",
       "      <td>0.60</td>\n",
       "      <td>NaN</td>\n",
       "      <td>Follow up 2 Weeks</td>\n",
       "      <td>NaN</td>\n",
       "      <td>2020-05-18</td>\n",
       "      <td>-30</td>\n",
       "      <td>NaT</td>\n",
       "      <td>NaN</td>\n",
       "      <td>NaT</td>\n",
       "      <td>NaT</td>\n",
       "    </tr>\n",
       "    <tr>\n",
       "      <th>205</th>\n",
       "      <td>16</td>\n",
       "      <td>Houston OEM</td>\n",
       "      <td>Emma Mulcrone</td>\n",
       "      <td>Customer</td>\n",
       "      <td>Referal from Exisitng Contact</td>\n",
       "      <td>Weatherford</td>\n",
       "      <td>OEM</td>\n",
       "      <td>False</td>\n",
       "      <td>Houston, TX</td>\n",
       "      <td>Control System for Hydraulic Tool</td>\n",
       "      <td>SC, PX</td>\n",
       "      <td>S7-1200</td>\n",
       "      <td>30000</td>\n",
       "      <td>0.40</td>\n",
       "      <td>12000</td>\n",
       "      <td>15000.00</td>\n",
       "      <td>NaN</td>\n",
       "      <td>Solution Development</td>\n",
       "      <td>0.50</td>\n",
       "      <td>NaN</td>\n",
       "      <td>Actively Quoting</td>\n",
       "      <td>NaN</td>\n",
       "      <td>2020-05-18</td>\n",
       "      <td>-30</td>\n",
       "      <td>2020-07-31</td>\n",
       "      <td>44.0</td>\n",
       "      <td>2020-07</td>\n",
       "      <td>2020-07-27/2020-08-02</td>\n",
       "    </tr>\n",
       "    <tr>\n",
       "      <th>206</th>\n",
       "      <td>16</td>\n",
       "      <td>Houston OEM</td>\n",
       "      <td>Emma Mulcrone</td>\n",
       "      <td>Customer</td>\n",
       "      <td>Upgarde to Ongoing Business(Not all previously...</td>\n",
       "      <td>Shield Air</td>\n",
       "      <td>OEM</td>\n",
       "      <td>False</td>\n",
       "      <td>Katy, TX</td>\n",
       "      <td>Ultima Unit</td>\n",
       "      <td>SC, PX</td>\n",
       "      <td>S7-1200/G120/Comfort Panel/Controls/Power</td>\n",
       "      <td>100000</td>\n",
       "      <td>0.30</td>\n",
       "      <td>30000</td>\n",
       "      <td>50000.00</td>\n",
       "      <td>Current GE PLC is obsolete</td>\n",
       "      <td>Solution Development</td>\n",
       "      <td>0.50</td>\n",
       "      <td>NaN</td>\n",
       "      <td>Meeting to work on solution in several weeks</td>\n",
       "      <td>NaN</td>\n",
       "      <td>2020-05-18</td>\n",
       "      <td>-30</td>\n",
       "      <td>NaT</td>\n",
       "      <td>NaN</td>\n",
       "      <td>NaT</td>\n",
       "      <td>NaT</td>\n",
       "    </tr>\n",
       "    <tr>\n",
       "      <th>207</th>\n",
       "      <td>16</td>\n",
       "      <td>Houston OEM</td>\n",
       "      <td>Emma Mulcrone</td>\n",
       "      <td>Customer</td>\n",
       "      <td>Upgrade to Ongoing Business</td>\n",
       "      <td>Safekick</td>\n",
       "      <td>OEM</td>\n",
       "      <td>False</td>\n",
       "      <td>Katy, TX</td>\n",
       "      <td>PRV System Upgrade</td>\n",
       "      <td>SC, PX, ST</td>\n",
       "      <td>S7-1500R/H</td>\n",
       "      <td>200000</td>\n",
       "      <td>0.40</td>\n",
       "      <td>80000</td>\n",
       "      <td>100000.00</td>\n",
       "      <td>NaN</td>\n",
       "      <td>Solution Development</td>\n",
       "      <td>0.50</td>\n",
       "      <td>NaN</td>\n",
       "      <td>Follow up 2 Weeks</td>\n",
       "      <td>Customer project on hold due to current enviro...</td>\n",
       "      <td>2020-05-18</td>\n",
       "      <td>-30</td>\n",
       "      <td>2020-10-31</td>\n",
       "      <td>136.0</td>\n",
       "      <td>2020-10</td>\n",
       "      <td>2020-10-26/2020-11-01</td>\n",
       "    </tr>\n",
       "    <tr>\n",
       "      <th>208</th>\n",
       "      <td>16</td>\n",
       "      <td>Houston OEM</td>\n",
       "      <td>Emma Mulcrone</td>\n",
       "      <td>Customer</td>\n",
       "      <td>Ongoing Business</td>\n",
       "      <td>AF Global</td>\n",
       "      <td>OEM</td>\n",
       "      <td>False</td>\n",
       "      <td>Houston, TX</td>\n",
       "      <td>Group OR Spares</td>\n",
       "      <td>SC, R Stahl, PX</td>\n",
       "      <td>IPC/S120/S7-300</td>\n",
       "      <td>150000</td>\n",
       "      <td>0.50</td>\n",
       "      <td>75000</td>\n",
       "      <td>90000.00</td>\n",
       "      <td>NaN</td>\n",
       "      <td>Quoting</td>\n",
       "      <td>0.60</td>\n",
       "      <td>NaN</td>\n",
       "      <td>Follow up 2 weeks</td>\n",
       "      <td>Customer is pushing off purchasing due to curr...</td>\n",
       "      <td>2020-05-18</td>\n",
       "      <td>-30</td>\n",
       "      <td>2020-10-31</td>\n",
       "      <td>136.0</td>\n",
       "      <td>2020-10</td>\n",
       "      <td>2020-10-26/2020-11-01</td>\n",
       "    </tr>\n",
       "    <tr>\n",
       "      <th>209</th>\n",
       "      <td>16</td>\n",
       "      <td>Houston OEM</td>\n",
       "      <td>Emma Mulcrone</td>\n",
       "      <td>Customer</td>\n",
       "      <td>Ongoing Business</td>\n",
       "      <td>AF Global</td>\n",
       "      <td>OEM</td>\n",
       "      <td>False</td>\n",
       "      <td>Houston, TX</td>\n",
       "      <td>GOM New Project</td>\n",
       "      <td>SC, R Stahl, PX</td>\n",
       "      <td>IPC/S120/S7-300</td>\n",
       "      <td>150000</td>\n",
       "      <td>0.20</td>\n",
       "      <td>30000</td>\n",
       "      <td>90000.00</td>\n",
       "      <td>NaN</td>\n",
       "      <td>Quoting</td>\n",
       "      <td>0.60</td>\n",
       "      <td>NaN</td>\n",
       "      <td>Follow up 2 weeks</td>\n",
       "      <td>Customer is pushing off purchasing due to curr...</td>\n",
       "      <td>2020-05-18</td>\n",
       "      <td>-30</td>\n",
       "      <td>2020-10-31</td>\n",
       "      <td>136.0</td>\n",
       "      <td>2020-10</td>\n",
       "      <td>2020-10-26/2020-11-01</td>\n",
       "    </tr>\n",
       "    <tr>\n",
       "      <th>210</th>\n",
       "      <td>16</td>\n",
       "      <td>Houston OEM</td>\n",
       "      <td>Emma Mulcrone</td>\n",
       "      <td>Customer</td>\n",
       "      <td>Ongoing Business</td>\n",
       "      <td>Safekick</td>\n",
       "      <td>OEM</td>\n",
       "      <td>False</td>\n",
       "      <td>Katy, TX</td>\n",
       "      <td>Control System</td>\n",
       "      <td>SC, ST, PX</td>\n",
       "      <td>S7-300/S7-1200/S110/ST/IPC</td>\n",
       "      <td>200000</td>\n",
       "      <td>0.40</td>\n",
       "      <td>80000</td>\n",
       "      <td>120000.00</td>\n",
       "      <td>NaN</td>\n",
       "      <td>Quoting</td>\n",
       "      <td>0.60</td>\n",
       "      <td>NaN</td>\n",
       "      <td>Follow Up 2 weeks</td>\n",
       "      <td>Customer project on hold due to current enviro...</td>\n",
       "      <td>2020-05-18</td>\n",
       "      <td>-30</td>\n",
       "      <td>2020-10-31</td>\n",
       "      <td>136.0</td>\n",
       "      <td>2020-10</td>\n",
       "      <td>2020-10-26/2020-11-01</td>\n",
       "    </tr>\n",
       "    <tr>\n",
       "      <th>211</th>\n",
       "      <td>16</td>\n",
       "      <td>Houston OEM</td>\n",
       "      <td>Emma Mulcrone</td>\n",
       "      <td>Customer</td>\n",
       "      <td>Referal from Exisitng Contact</td>\n",
       "      <td>Expro</td>\n",
       "      <td>OEM</td>\n",
       "      <td>False</td>\n",
       "      <td>Houston, TX</td>\n",
       "      <td>Coriolis Replacement</td>\n",
       "      <td>ST</td>\n",
       "      <td>Coriolis Meter</td>\n",
       "      <td>90000</td>\n",
       "      <td>0.30</td>\n",
       "      <td>27000</td>\n",
       "      <td>54000.00</td>\n",
       "      <td>Moving from renting Coriolis to Purchasing.</td>\n",
       "      <td>Quoting</td>\n",
       "      <td>0.60</td>\n",
       "      <td>NaN</td>\n",
       "      <td>Follow up Friday</td>\n",
       "      <td>Customer has been purchasing Rosemount not Sie...</td>\n",
       "      <td>2020-05-18</td>\n",
       "      <td>-30</td>\n",
       "      <td>2020-07-31</td>\n",
       "      <td>44.0</td>\n",
       "      <td>2020-07</td>\n",
       "      <td>2020-07-27/2020-08-02</td>\n",
       "    </tr>\n",
       "    <tr>\n",
       "      <th>212</th>\n",
       "      <td>16</td>\n",
       "      <td>Houston OEM</td>\n",
       "      <td>Kurt Rosenhagen</td>\n",
       "      <td>Customer</td>\n",
       "      <td>Engineer asked about Version Control Software</td>\n",
       "      <td>City of Houston Drinking Water</td>\n",
       "      <td>End User</td>\n",
       "      <td>False</td>\n",
       "      <td>Houston, Tx</td>\n",
       "      <td>Version Control Software</td>\n",
       "      <td>AD</td>\n",
       "      <td>VersionDog</td>\n",
       "      <td>47035</td>\n",
       "      <td>0.80</td>\n",
       "      <td>37628</td>\n",
       "      <td>35276.25</td>\n",
       "      <td>Complications from unknown application versions</td>\n",
       "      <td>Working</td>\n",
       "      <td>0.75</td>\n",
       "      <td>NaN</td>\n",
       "      <td>Continue to encourage slow City procurement pr...</td>\n",
       "      <td>Original quote was July 2019, Latest is versio...</td>\n",
       "      <td>2020-05-19</td>\n",
       "      <td>-29</td>\n",
       "      <td>2020-06-30</td>\n",
       "      <td>13.0</td>\n",
       "      <td>2020-06</td>\n",
       "      <td>2020-06-29/2020-07-05</td>\n",
       "    </tr>\n",
       "    <tr>\n",
       "      <th>213</th>\n",
       "      <td>16</td>\n",
       "      <td>Houston OEM</td>\n",
       "      <td>Kurt Rosenhagen</td>\n",
       "      <td>Customer</td>\n",
       "      <td>HAS contacted me to upgrade old Mission Comm RTUs</td>\n",
       "      <td>Houston Airport System - IAH</td>\n",
       "      <td>End User</td>\n",
       "      <td>False</td>\n",
       "      <td>Houston, Tx</td>\n",
       "      <td>Install Mission Comm RTUs</td>\n",
       "      <td>AD</td>\n",
       "      <td>Cellular RTUs</td>\n",
       "      <td>20000</td>\n",
       "      <td>0.40</td>\n",
       "      <td>8000</td>\n",
       "      <td>8000.00</td>\n",
       "      <td>They bought new RTUs from us but don't have ma...</td>\n",
       "      <td>Discovery (S.P.I.N.)</td>\n",
       "      <td>0.40</td>\n",
       "      <td>NaN</td>\n",
       "      <td>Visit plant with Josh and E/A to scope work</td>\n",
       "      <td>HAS is slow to respond and we have not been ab...</td>\n",
       "      <td>2020-05-19</td>\n",
       "      <td>-29</td>\n",
       "      <td>NaT</td>\n",
       "      <td>NaN</td>\n",
       "      <td>NaT</td>\n",
       "      <td>NaT</td>\n",
       "    </tr>\n",
       "    <tr>\n",
       "      <th>214</th>\n",
       "      <td>16</td>\n",
       "      <td>Houston OEM</td>\n",
       "      <td>Kurt Rosenhagen</td>\n",
       "      <td>Customer</td>\n",
       "      <td>Past customer contacted me for Robicon W120 VFD</td>\n",
       "      <td>Usemco</td>\n",
       "      <td>OEM</td>\n",
       "      <td>False</td>\n",
       "      <td>Tomah, Wi</td>\n",
       "      <td>Robicon W120 VFD</td>\n",
       "      <td>AD</td>\n",
       "      <td>Enclosed VFD</td>\n",
       "      <td>10000</td>\n",
       "      <td>0.90</td>\n",
       "      <td>9000</td>\n",
       "      <td>7500.00</td>\n",
       "      <td>Has project where client specified W120</td>\n",
       "      <td>Working</td>\n",
       "      <td>0.75</td>\n",
       "      <td>NaN</td>\n",
       "      <td>Quote alternate configurations</td>\n",
       "      <td>Usemco is in submittal stage with their client...</td>\n",
       "      <td>2020-05-19</td>\n",
       "      <td>-29</td>\n",
       "      <td>2020-06-30</td>\n",
       "      <td>13.0</td>\n",
       "      <td>2020-06</td>\n",
       "      <td>2020-06-29/2020-07-05</td>\n",
       "    </tr>\n",
       "    <tr>\n",
       "      <th>216</th>\n",
       "      <td>16</td>\n",
       "      <td>Houston OEM</td>\n",
       "      <td>Kurt Rosenhagen</td>\n",
       "      <td>Colleague</td>\n",
       "      <td>Gupta &amp; Assoc (engr contractor) has project to...</td>\n",
       "      <td>City of Beaumont</td>\n",
       "      <td>End User</td>\n",
       "      <td>True</td>\n",
       "      <td>Beaumont, Tx</td>\n",
       "      <td>Add PLCs to Lift Stations</td>\n",
       "      <td>SC</td>\n",
       "      <td>S7-1200 with CP1243-7LTE Cellular Modem, TP900...</td>\n",
       "      <td>16290</td>\n",
       "      <td>0.60</td>\n",
       "      <td>9774</td>\n",
       "      <td>12217.50</td>\n",
       "      <td>Unreliable outdated equipment</td>\n",
       "      <td>Working</td>\n",
       "      <td>0.75</td>\n",
       "      <td>NaN</td>\n",
       "      <td>Help project move forward</td>\n",
       "      <td>City went quiet since COVID quarantine started...</td>\n",
       "      <td>2020-05-19</td>\n",
       "      <td>-29</td>\n",
       "      <td>2020-06-30</td>\n",
       "      <td>13.0</td>\n",
       "      <td>2020-06</td>\n",
       "      <td>2020-06-29/2020-07-05</td>\n",
       "    </tr>\n",
       "    <tr>\n",
       "      <th>217</th>\n",
       "      <td>16</td>\n",
       "      <td>Houston OEM</td>\n",
       "      <td>Kurt Rosenhagen</td>\n",
       "      <td>Customer</td>\n",
       "      <td>Chief Operator / SCADA Guy called me needing a...</td>\n",
       "      <td>City of Beaumont</td>\n",
       "      <td>End User</td>\n",
       "      <td>True</td>\n",
       "      <td>Beaumont, Tx</td>\n",
       "      <td>Replace drive on Effluent Pump</td>\n",
       "      <td>SC</td>\n",
       "      <td>150 HP Enclosed G120</td>\n",
       "      <td>10000</td>\n",
       "      <td>0.50</td>\n",
       "      <td>5000</td>\n",
       "      <td>6000.00</td>\n",
       "      <td>Some dissatisfaction with AB drive, Willing to...</td>\n",
       "      <td>Quoting</td>\n",
       "      <td>0.60</td>\n",
       "      <td>NaN</td>\n",
       "      <td>Get quote from AWC Projects Team</td>\n",
       "      <td>Can be a good foot in the door</td>\n",
       "      <td>2020-05-19</td>\n",
       "      <td>-29</td>\n",
       "      <td>2020-06-15</td>\n",
       "      <td>-2.0</td>\n",
       "      <td>2020-06</td>\n",
       "      <td>2020-06-15/2020-06-21</td>\n",
       "    </tr>\n",
       "    <tr>\n",
       "      <th>218</th>\n",
       "      <td>16</td>\n",
       "      <td>Houston OEM</td>\n",
       "      <td>Kurt Rosenhagen</td>\n",
       "      <td>Customer</td>\n",
       "      <td>Client opportunity for large reundant fail-saf...</td>\n",
       "      <td>TapcoEnpro</td>\n",
       "      <td>OEM</td>\n",
       "      <td>False</td>\n",
       "      <td>Houston, Tx</td>\n",
       "      <td>S7-400FH SIL3 PLC</td>\n",
       "      <td>SC</td>\n",
       "      <td>S7-400FH, ET200SP, Comfort Panel</td>\n",
       "      <td>66583</td>\n",
       "      <td>0.60</td>\n",
       "      <td>39949</td>\n",
       "      <td>49937.25</td>\n",
       "      <td>AB doesn't offer redundant SIL3</td>\n",
       "      <td>Working</td>\n",
       "      <td>0.75</td>\n",
       "      <td>NaN</td>\n",
       "      <td>Stay in touch as customer's client considers p...</td>\n",
       "      <td>We should get this order if they get the job</td>\n",
       "      <td>2020-05-19</td>\n",
       "      <td>-29</td>\n",
       "      <td>2020-07-31</td>\n",
       "      <td>44.0</td>\n",
       "      <td>2020-07</td>\n",
       "      <td>2020-07-27/2020-08-02</td>\n",
       "    </tr>\n",
       "    <tr>\n",
       "      <th>219</th>\n",
       "      <td>16</td>\n",
       "      <td>Houston OEM</td>\n",
       "      <td>Kurt Rosenhagen</td>\n",
       "      <td>Customer</td>\n",
       "      <td>Worked with customer for years to develop this...</td>\n",
       "      <td>City of Houston Drinking Water</td>\n",
       "      <td>End User</td>\n",
       "      <td>False</td>\n",
       "      <td>Houston, Tx</td>\n",
       "      <td>Groundwater Facility Improvements - Phase 1</td>\n",
       "      <td>SC, PX, BE, HM, MX, TU</td>\n",
       "      <td>PLCs, IPC, Simocode, Radio, Surge Prot, UPS, E...</td>\n",
       "      <td>245790</td>\n",
       "      <td>0.80</td>\n",
       "      <td>196632</td>\n",
       "      <td>147474.00</td>\n",
       "      <td>Obsolete facilities and equipment</td>\n",
       "      <td>Quoting</td>\n",
       "      <td>0.60</td>\n",
       "      <td>NaN</td>\n",
       "      <td>Assist winning bidder</td>\n",
       "      <td>First project of multiple similar phases</td>\n",
       "      <td>2020-05-19</td>\n",
       "      <td>-29</td>\n",
       "      <td>NaT</td>\n",
       "      <td>NaN</td>\n",
       "      <td>NaT</td>\n",
       "      <td>NaT</td>\n",
       "    </tr>\n",
       "    <tr>\n",
       "      <th>220</th>\n",
       "      <td>16</td>\n",
       "      <td>Houston OEM</td>\n",
       "      <td>Kurt Rosenhagen</td>\n",
       "      <td>Customer</td>\n",
       "      <td>Existing customer designing new press and usin...</td>\n",
       "      <td>Boltex</td>\n",
       "      <td>OEM</td>\n",
       "      <td>False</td>\n",
       "      <td>Houston, Tx</td>\n",
       "      <td>8000T Press</td>\n",
       "      <td>SC, RT</td>\n",
       "      <td>PLCs, Controls, S120 VFDs, TS8 Enclosures</td>\n",
       "      <td>400000</td>\n",
       "      <td>0.75</td>\n",
       "      <td>300000</td>\n",
       "      <td>240000.00</td>\n",
       "      <td>New manufacturing line for bigger products</td>\n",
       "      <td>Quoting</td>\n",
       "      <td>0.60</td>\n",
       "      <td>NaN</td>\n",
       "      <td>Secure special project discounting from SC and RT</td>\n",
       "      <td>Engineer has to compare prices with Italy so w...</td>\n",
       "      <td>2020-05-19</td>\n",
       "      <td>-29</td>\n",
       "      <td>NaT</td>\n",
       "      <td>NaN</td>\n",
       "      <td>NaT</td>\n",
       "      <td>NaT</td>\n",
       "    </tr>\n",
       "    <tr>\n",
       "      <th>221</th>\n",
       "      <td>16</td>\n",
       "      <td>Houston OEM</td>\n",
       "      <td>Kurt Rosenhagen</td>\n",
       "      <td>Customer</td>\n",
       "      <td>Plant Manager asked about Clarifier Motion Sen...</td>\n",
       "      <td>City of Houston Drinking Water</td>\n",
       "      <td>End User</td>\n",
       "      <td>False</td>\n",
       "      <td>Houston, Tx</td>\n",
       "      <td>SEWPP Clarifier Motion Alarm</td>\n",
       "      <td>SC, TU</td>\n",
       "      <td>Signal Column, Prox Sensor, Rotation Speed Mon...</td>\n",
       "      <td>20000</td>\n",
       "      <td>0.60</td>\n",
       "      <td>12000</td>\n",
       "      <td>10000.00</td>\n",
       "      <td>Unknown stopped clarifier rake results in cake...</td>\n",
       "      <td>Solution Development</td>\n",
       "      <td>0.50</td>\n",
       "      <td>NaN</td>\n",
       "      <td>Finalize design and prepare proposal</td>\n",
       "      <td>Waiting for E/A to visit plant to figure labor...</td>\n",
       "      <td>2020-05-19</td>\n",
       "      <td>-29</td>\n",
       "      <td>2020-07-31</td>\n",
       "      <td>44.0</td>\n",
       "      <td>2020-07</td>\n",
       "      <td>2020-07-27/2020-08-02</td>\n",
       "    </tr>\n",
       "    <tr>\n",
       "      <th>222</th>\n",
       "      <td>16</td>\n",
       "      <td>Houston OEM</td>\n",
       "      <td>Kurt Rosenhagen</td>\n",
       "      <td>Customer</td>\n",
       "      <td>Redesign of an IS Jbox we sold in 2018</td>\n",
       "      <td>Cameron</td>\n",
       "      <td>OEM</td>\n",
       "      <td>False</td>\n",
       "      <td>Houston, Tx</td>\n",
       "      <td>IS Terminal Box</td>\n",
       "      <td>Stahl</td>\n",
       "      <td>IS, Temp Xmttrs</td>\n",
       "      <td>10000</td>\n",
       "      <td>0.60</td>\n",
       "      <td>6000</td>\n",
       "      <td>6000.00</td>\n",
       "      <td>New project from their customer</td>\n",
       "      <td>Quoting</td>\n",
       "      <td>0.60</td>\n",
       "      <td>NaN</td>\n",
       "      <td>Identify and work with engineer who replaced t...</td>\n",
       "      <td>Have gone through multiple design changes, Key...</td>\n",
       "      <td>2020-05-19</td>\n",
       "      <td>-29</td>\n",
       "      <td>2020-06-30</td>\n",
       "      <td>13.0</td>\n",
       "      <td>2020-06</td>\n",
       "      <td>2020-06-29/2020-07-05</td>\n",
       "    </tr>\n",
       "    <tr>\n",
       "      <th>224</th>\n",
       "      <td>16</td>\n",
       "      <td>Houston OEM</td>\n",
       "      <td>Miguel Grillo</td>\n",
       "      <td>Customer</td>\n",
       "      <td>Customer Request</td>\n",
       "      <td>Baker Hughes(Hydrill)</td>\n",
       "      <td>OEM</td>\n",
       "      <td>False</td>\n",
       "      <td>Houston, TX</td>\n",
       "      <td>Visualization Expansion</td>\n",
       "      <td>SC</td>\n",
       "      <td>WinCC OA</td>\n",
       "      <td>50000</td>\n",
       "      <td>0.80</td>\n",
       "      <td>40000</td>\n",
       "      <td>37500.00</td>\n",
       "      <td>New customer project</td>\n",
       "      <td>Working</td>\n",
       "      <td>0.75</td>\n",
       "      <td>NaN</td>\n",
       "      <td>Follow up on my reqeust to confirm architecture</td>\n",
       "      <td>NaN</td>\n",
       "      <td>2020-05-19</td>\n",
       "      <td>-29</td>\n",
       "      <td>2020-07-31</td>\n",
       "      <td>44.0</td>\n",
       "      <td>2020-07</td>\n",
       "      <td>2020-07-27/2020-08-02</td>\n",
       "    </tr>\n",
       "    <tr>\n",
       "      <th>227</th>\n",
       "      <td>16</td>\n",
       "      <td>Houston OEM</td>\n",
       "      <td>Miguel Grillo</td>\n",
       "      <td>Customer</td>\n",
       "      <td>Customer Request</td>\n",
       "      <td>Relevant</td>\n",
       "      <td>OEM</td>\n",
       "      <td>False</td>\n",
       "      <td>Houston, TX</td>\n",
       "      <td>Remote I/O Panel</td>\n",
       "      <td>SC</td>\n",
       "      <td>Siemens: Automation, Controls, Networking</td>\n",
       "      <td>15000</td>\n",
       "      <td>0.80</td>\n",
       "      <td>12000</td>\n",
       "      <td>9000.00</td>\n",
       "      <td>Expansion of existing system</td>\n",
       "      <td>Quoting</td>\n",
       "      <td>0.60</td>\n",
       "      <td>NaN</td>\n",
       "      <td>Finalize revision 1 of system proposal</td>\n",
       "      <td>NaN</td>\n",
       "      <td>2020-05-20</td>\n",
       "      <td>-28</td>\n",
       "      <td>2020-06-30</td>\n",
       "      <td>13.0</td>\n",
       "      <td>2020-06</td>\n",
       "      <td>2020-06-29/2020-07-05</td>\n",
       "    </tr>\n",
       "    <tr>\n",
       "      <th>229</th>\n",
       "      <td>16</td>\n",
       "      <td>Houston OEM</td>\n",
       "      <td>Miguel Grillo</td>\n",
       "      <td>Other</td>\n",
       "      <td>Telegram - Oil, Gas, Bitcoin Mining Group</td>\n",
       "      <td>BYO Energy</td>\n",
       "      <td>OEM</td>\n",
       "      <td>True</td>\n",
       "      <td>Houston, TX</td>\n",
       "      <td>Natural Gas IIOT</td>\n",
       "      <td>SC, MX,</td>\n",
       "      <td>Siemens: Flow Meter, S7-1200, Power Supply - M...</td>\n",
       "      <td>60000</td>\n",
       "      <td>0.20</td>\n",
       "      <td>12000</td>\n",
       "      <td>36000.00</td>\n",
       "      <td>Need real-time data</td>\n",
       "      <td>Quoting</td>\n",
       "      <td>0.60</td>\n",
       "      <td>NaN</td>\n",
       "      <td>Follow Up 2 weeks</td>\n",
       "      <td>NaN</td>\n",
       "      <td>2020-05-19</td>\n",
       "      <td>-29</td>\n",
       "      <td>2020-10-31</td>\n",
       "      <td>136.0</td>\n",
       "      <td>2020-10</td>\n",
       "      <td>2020-10-26/2020-11-01</td>\n",
       "    </tr>\n",
       "    <tr>\n",
       "      <th>230</th>\n",
       "      <td>16</td>\n",
       "      <td>Houston OEM</td>\n",
       "      <td>Miguel Grillo</td>\n",
       "      <td>Customer</td>\n",
       "      <td>Ongoing Business</td>\n",
       "      <td>Jelec\\Evolution</td>\n",
       "      <td>OEM</td>\n",
       "      <td>False</td>\n",
       "      <td>Houston, TX</td>\n",
       "      <td>Fleet 8</td>\n",
       "      <td>SC, PX</td>\n",
       "      <td>Siemens: Automation, Controls, HMI, Networking...</td>\n",
       "      <td>100000</td>\n",
       "      <td>0.50</td>\n",
       "      <td>50000</td>\n",
       "      <td>60000.00</td>\n",
       "      <td>New drilling contract</td>\n",
       "      <td>Quoting</td>\n",
       "      <td>0.60</td>\n",
       "      <td>NaN</td>\n",
       "      <td>Follow up 2 Weeks.</td>\n",
       "      <td>Order was put on hold after oil crash</td>\n",
       "      <td>2020-05-20</td>\n",
       "      <td>-28</td>\n",
       "      <td>2020-10-31</td>\n",
       "      <td>136.0</td>\n",
       "      <td>2020-10</td>\n",
       "      <td>2020-10-26/2020-11-01</td>\n",
       "    </tr>\n",
       "    <tr>\n",
       "      <th>231</th>\n",
       "      <td>16</td>\n",
       "      <td>Houston OEM</td>\n",
       "      <td>Miguel Grillo</td>\n",
       "      <td>AWC Internal</td>\n",
       "      <td>Initial request came through AWC tech support ...</td>\n",
       "      <td>Kinetic Pressure Control</td>\n",
       "      <td>OEM</td>\n",
       "      <td>True</td>\n",
       "      <td>Houston, TX</td>\n",
       "      <td>Offshore rig shearing system</td>\n",
       "      <td>SC, RT</td>\n",
       "      <td>ET200SP Siplus, Power Supply, HMI, WinCC OA - ...</td>\n",
       "      <td>30000</td>\n",
       "      <td>0.50</td>\n",
       "      <td>15000</td>\n",
       "      <td>22500.00</td>\n",
       "      <td>New product development</td>\n",
       "      <td>Working</td>\n",
       "      <td>0.75</td>\n",
       "      <td>NaN</td>\n",
       "      <td>Assist with system changes after initial deplo...</td>\n",
       "      <td>Initial 30K system was sold earlier this year</td>\n",
       "      <td>2020-05-20</td>\n",
       "      <td>-28</td>\n",
       "      <td>2020-10-31</td>\n",
       "      <td>136.0</td>\n",
       "      <td>2020-10</td>\n",
       "      <td>2020-10-26/2020-11-01</td>\n",
       "    </tr>\n",
       "  </tbody>\n",
       "</table>\n",
       "<p>203 rows × 28 columns</p>\n",
       "</div>"
      ],
      "text/plain": [
       "    Div       Branch              OAM      LeadType  \\\n",
       "0    18       Austin       John Dodge        Vendor   \n",
       "1    18       Austin       John Dodge  AWC Internal   \n",
       "2    18       Austin       John Dodge  AWC Internal   \n",
       "3    18       Austin       John Dodge        Vendor   \n",
       "4    18       Austin       John Dodge  AWC Internal   \n",
       "5    18       Austin       John Dodge      Customer   \n",
       "6    18       Austin       John Dodge      Customer   \n",
       "7    18       Austin       John Dodge  AWC Internal   \n",
       "9    18       Austin       John Dodge        Vendor   \n",
       "10   18       Austin       John Dodge        Vendor   \n",
       "11   18       Austin       John Dodge  AWC Internal   \n",
       "12   18       Austin       John Dodge        Vendor   \n",
       "14   18       Austin      Mike Walshe  AWC Internal   \n",
       "15   18       Austin      Mike Walshe  AWC Internal   \n",
       "16   18       Austin      Mike Walshe  AWC Internal   \n",
       "17   18       Austin      Mike Walshe  AWC Internal   \n",
       "18   18       Austin      Mike Walshe  AWC Internal   \n",
       "21   18       Austin      Mike Walshe  AWC Internal   \n",
       "22   18       Austin      Mike Walshe  AWC Internal   \n",
       "23   18       Austin      Mike Walshe  AWC Internal   \n",
       "24   18       Austin      Mike Walshe        Vendor   \n",
       "25   18       Austin      Mike Walshe  AWC Internal   \n",
       "26   18       Austin      Mike Walshe  AWC Internal   \n",
       "27   18       Austin   Sean Marroquin  AWC Internal   \n",
       "28   18       Austin   Sean Marroquin        Vendor   \n",
       "29   18       Austin   Sean Marroquin        Vendor   \n",
       "30   18       Austin   Sean Marroquin        Vendor   \n",
       "31   18       Austin   Sean Marroquin        Vendor   \n",
       "33   18       Austin   Sean Marroquin        Vendor   \n",
       "34   18       Austin   Sean Marroquin     Colleague   \n",
       "..   ..          ...              ...           ...   \n",
       "196  16  Houston OEM       Dane Ellis        Vendor   \n",
       "197  16  Houston OEM    Emma Mulcrone           ADC   \n",
       "198  16  Houston OEM    Emma Mulcrone      Customer   \n",
       "199  16  Houston OEM    Emma Mulcrone      Customer   \n",
       "200  16  Houston OEM    Emma Mulcrone      Customer   \n",
       "201  16  Houston OEM    Emma Mulcrone      Customer   \n",
       "202  16  Houston OEM    Emma Mulcrone      Customer   \n",
       "203  16  Houston OEM    Emma Mulcrone      Customer   \n",
       "205  16  Houston OEM    Emma Mulcrone      Customer   \n",
       "206  16  Houston OEM    Emma Mulcrone      Customer   \n",
       "207  16  Houston OEM    Emma Mulcrone      Customer   \n",
       "208  16  Houston OEM    Emma Mulcrone      Customer   \n",
       "209  16  Houston OEM    Emma Mulcrone      Customer   \n",
       "210  16  Houston OEM    Emma Mulcrone      Customer   \n",
       "211  16  Houston OEM    Emma Mulcrone      Customer   \n",
       "212  16  Houston OEM  Kurt Rosenhagen      Customer   \n",
       "213  16  Houston OEM  Kurt Rosenhagen      Customer   \n",
       "214  16  Houston OEM  Kurt Rosenhagen      Customer   \n",
       "216  16  Houston OEM  Kurt Rosenhagen     Colleague   \n",
       "217  16  Houston OEM  Kurt Rosenhagen      Customer   \n",
       "218  16  Houston OEM  Kurt Rosenhagen      Customer   \n",
       "219  16  Houston OEM  Kurt Rosenhagen      Customer   \n",
       "220  16  Houston OEM  Kurt Rosenhagen      Customer   \n",
       "221  16  Houston OEM  Kurt Rosenhagen      Customer   \n",
       "222  16  Houston OEM  Kurt Rosenhagen      Customer   \n",
       "224  16  Houston OEM    Miguel Grillo      Customer   \n",
       "227  16  Houston OEM    Miguel Grillo      Customer   \n",
       "229  16  Houston OEM    Miguel Grillo         Other   \n",
       "230  16  Houston OEM    Miguel Grillo      Customer   \n",
       "231  16  Houston OEM    Miguel Grillo  AWC Internal   \n",
       "\n",
       "                                         LeadSpecifics  \\\n",
       "0                             Metso Project Sales Lead   \n",
       "1    BestFest lead, followed up and came to Siemens...   \n",
       "2                        Metso Marketing Campaign Lead   \n",
       "3                             Metso Project Sales Lead   \n",
       "4                Introduced Patti to Urban at Bestfest   \n",
       "5                                       Valve Retrofit   \n",
       "6                       Bid Package for Control Valves   \n",
       "7    Customer saw DTL demo, had AWC build one for t...   \n",
       "9                                          StoneL lead   \n",
       "10                                         Adalet Lead   \n",
       "11   BestFest lead, followed up and came to Siemens...   \n",
       "12                                          Metso Lead   \n",
       "14                          AWC Valve Services Meeting   \n",
       "15                             Next Gen Design Meeting   \n",
       "16                             Next Gen Design Meeting   \n",
       "17                   AWC Services Capabilities Meeting   \n",
       "18                             Next Gen Design Meeting   \n",
       "21                             Next Gen Design Meeting   \n",
       "22                                 AWC Hotline request   \n",
       "23                             Next Gen Design Meeting   \n",
       "24                                        Siemens Lead   \n",
       "25                             Next Gen Design Meeting   \n",
       "26   AWC IOT capabilities utilzing Siemens Telecont...   \n",
       "27                                                 IAM   \n",
       "28              AWC Specified Kenco with Titos in 2014   \n",
       "29                                             Siemens   \n",
       "30                    Banner Radio Demo / Mission Demo   \n",
       "31                         Mission Communications lead   \n",
       "33               Invited to Siemens Innovation Seminar   \n",
       "34                                       Roberto Lopez   \n",
       "..                                                 ...   \n",
       "196         New Request, technology partner engagement   \n",
       "197   ADC Brought AWC into online Banner question lead   \n",
       "198  Banner Overview Presentation with Exisitng Con...   \n",
       "199                      Referal from Exisitng Contact   \n",
       "200                      Referal from Exisitng Contact   \n",
       "201  Upgarde to Ongoing Business(Not all previously...   \n",
       "202                   Plant Upgrade - Ongoing Business   \n",
       "203                                   Ongoing Business   \n",
       "205                      Referal from Exisitng Contact   \n",
       "206  Upgarde to Ongoing Business(Not all previously...   \n",
       "207                        Upgrade to Ongoing Business   \n",
       "208                                   Ongoing Business   \n",
       "209                                   Ongoing Business   \n",
       "210                                   Ongoing Business   \n",
       "211                      Referal from Exisitng Contact   \n",
       "212      Engineer asked about Version Control Software   \n",
       "213  HAS contacted me to upgrade old Mission Comm RTUs   \n",
       "214    Past customer contacted me for Robicon W120 VFD   \n",
       "216  Gupta & Assoc (engr contractor) has project to...   \n",
       "217  Chief Operator / SCADA Guy called me needing a...   \n",
       "218  Client opportunity for large reundant fail-saf...   \n",
       "219  Worked with customer for years to develop this...   \n",
       "220  Existing customer designing new press and usin...   \n",
       "221  Plant Manager asked about Clarifier Motion Sen...   \n",
       "222             Redesign of an IS Jbox we sold in 2018   \n",
       "224                                   Customer Request   \n",
       "227                                   Customer Request   \n",
       "229          Telegram - Oil, Gas, Bitcoin Mining Group   \n",
       "230                                   Ongoing Business   \n",
       "231  Initial request came through AWC tech support ...   \n",
       "\n",
       "                            Customer        Type    New              City, St  \\\n",
       "0      Central Texas Industrial, LLC         OEM   True       Cedar Creek, TX   \n",
       "1                                DMS         OEM   True            Austin, TX   \n",
       "2                                DSI  Contractor  False            Austin, TX   \n",
       "3                        ICU Medical    End User  False            Austin, TX   \n",
       "4                         Patti Engr  Integrator  False            Austin, TX   \n",
       "5                     Prime Controls  Integrator  False            Austin, TX   \n",
       "6                            Samsung    End User  False            Austin, TX   \n",
       "7                            Samsung    End User  False            Austin, TX   \n",
       "9    Solaris Oilfield Infrastructure         OEM   True             Early, TX   \n",
       "10                 Ultra Electronics    End User  False            Round Rock   \n",
       "11                      Urban Mining    End User   True        San Marcos, TX   \n",
       "12    WINSTON WATER COOLER OF AUSTIN         OEM   True      Pflugerville, TX   \n",
       "14               G-Con Manufacturing         OEM  False  College Station, TX    \n",
       "15               G-Con Manufacturing         OEM  False  College Station, TX    \n",
       "16                              LSPI         OEM  False             Bryan, TX   \n",
       "17                              LSPI         OEM  False             Bryan, TX   \n",
       "18                         OVIVO LLC         OEM   True        Round Rock, TX   \n",
       "21                         OVIVO LLC         OEM   True        Round Rock, TX   \n",
       "22                       RapidDeploy         OEM   True            Austin, TX   \n",
       "23                        SkyVenture         OEM  False            Austin, TX   \n",
       "24                  Trinity Industry    End User  False          Navasota, TX   \n",
       "25                         OVIVO LLC         OEM   True        Round Rock, TX   \n",
       "26                              LSPI         OEM  False             Bryan, TX   \n",
       "27                 Austin White Lime    End User  False            Austin, TX   \n",
       "28                  Brandt Companies  Contractor  False            Austin, TX   \n",
       "29                Capitol Aggregates    End User  False            Burnet, TX   \n",
       "30        Central Texas Water Maint.  Integrator  False              Buda, TX   \n",
       "31                   City of Cameron    End User   True           Cameron, TX   \n",
       "33                      Fox Robotics         OEM   True            Austin, TX   \n",
       "34                    General Motors    End User   True            Austin, TX   \n",
       "..                               ...         ...    ...                   ...   \n",
       "196        Intech Process Automation  Integrator  False                   NaN   \n",
       "197                       Neuralabel         OEM   True          Stafford, TX   \n",
       "198                          Tenaris    End User  False            Conroe, TX   \n",
       "199                           Canrig         OEM  False           Houston, TX   \n",
       "200                           Nabors         OEM  False           Houston, TX   \n",
       "201                            Expro         OEM  False           Houston, TX   \n",
       "202                          Tenaris    End User  False          Bay City, TX   \n",
       "203                      All Current  Integrator  False           Houston, TX   \n",
       "205                      Weatherford         OEM  False           Houston, TX   \n",
       "206                       Shield Air         OEM  False              Katy, TX   \n",
       "207                         Safekick         OEM  False              Katy, TX   \n",
       "208                        AF Global         OEM  False           Houston, TX   \n",
       "209                        AF Global         OEM  False           Houston, TX   \n",
       "210                         Safekick         OEM  False              Katy, TX   \n",
       "211                            Expro         OEM  False           Houston, TX   \n",
       "212   City of Houston Drinking Water    End User  False           Houston, Tx   \n",
       "213     Houston Airport System - IAH    End User  False           Houston, Tx   \n",
       "214                           Usemco         OEM  False             Tomah, Wi   \n",
       "216                 City of Beaumont    End User   True          Beaumont, Tx   \n",
       "217                 City of Beaumont    End User   True          Beaumont, Tx   \n",
       "218                       TapcoEnpro         OEM  False           Houston, Tx   \n",
       "219   City of Houston Drinking Water    End User  False           Houston, Tx   \n",
       "220                           Boltex         OEM  False           Houston, Tx   \n",
       "221   City of Houston Drinking Water    End User  False           Houston, Tx   \n",
       "222                          Cameron         OEM  False           Houston, Tx   \n",
       "224            Baker Hughes(Hydrill)         OEM  False           Houston, TX   \n",
       "227                         Relevant         OEM  False           Houston, TX   \n",
       "229                       BYO Energy         OEM   True           Houston, TX   \n",
       "230                  Jelec\\Evolution         OEM  False           Houston, TX   \n",
       "231         Kinetic Pressure Control         OEM   True           Houston, TX   \n",
       "\n",
       "                                    ProjectOpportunity  \\\n",
       "0                          CUB 1 LT PCV REP (addition)   \n",
       "1                          Semiconductor Tool Upgrades   \n",
       "2              University of Texas Utilities Building    \n",
       "3                        Waste Water Well Head Upgrade   \n",
       "4                         Urban Mining Phase 2 Network   \n",
       "5                         SITE-PA02 CDA (Change Order)   \n",
       "6                   Cooling Tower 02 Expansion Project   \n",
       "7                     FAB1 Vibration Monitoring System   \n",
       "9                               Compressed Air station   \n",
       "10                  Custom Transmitter for Nuclear Ind   \n",
       "11                                Control Room Upgrade   \n",
       "12             University of Texas Utilities Building    \n",
       "14                                 POD Damper Assembly   \n",
       "15                                             POD EMS   \n",
       "16                                       XP1 & XP2 IOT   \n",
       "17                             IOT Device Installation   \n",
       "18                                     Shop Test Panel   \n",
       "21         Tertiary Membrane Filtration/Panel Assembly   \n",
       "22                                Cloud Aided Dispatch   \n",
       "23                                  Qatar VFD Assembly   \n",
       "24                                    S5 to S7 Upgrade   \n",
       "25          microBLOX MBR Packaged Wastwater Treatment   \n",
       "26                             IOT Device Installation   \n",
       "27                                      Plant Upgrade    \n",
       "28                    Tito's Vodka Expansion D11 - D14   \n",
       "29                                       Rock Crusher    \n",
       "30                                Fort Hood Management   \n",
       "31                                Water System Upgrade   \n",
       "33               AGV Forklift for distribution centers   \n",
       "34   Design Center Lab, Vision System network, RIO,...   \n",
       "..                                                 ...   \n",
       "196       PLC/Component solution for system integrator   \n",
       "197                                   Printer Upgrade    \n",
       "198                                Add Safety Features   \n",
       "199                                    Barrier Upgrade   \n",
       "200                            Driller's Chair Upgrade   \n",
       "201                                    Control System    \n",
       "202                                   Software Upgrade   \n",
       "203                                   G120X Conversion   \n",
       "205                  Control System for Hydraulic Tool   \n",
       "206                                        Ultima Unit   \n",
       "207                                 PRV System Upgrade   \n",
       "208                                    Group OR Spares   \n",
       "209                                    GOM New Project   \n",
       "210                                    Control System    \n",
       "211                               Coriolis Replacement   \n",
       "212                           Version Control Software   \n",
       "213                          Install Mission Comm RTUs   \n",
       "214                                   Robicon W120 VFD   \n",
       "216                          Add PLCs to Lift Stations   \n",
       "217                     Replace drive on Effluent Pump   \n",
       "218                                  S7-400FH SIL3 PLC   \n",
       "219        Groundwater Facility Improvements - Phase 1   \n",
       "220                                        8000T Press   \n",
       "221                       SEWPP Clarifier Motion Alarm   \n",
       "222                                    IS Terminal Box   \n",
       "224                            Visualization Expansion   \n",
       "227                                   Remote I/O Panel   \n",
       "229                                   Natural Gas IIOT   \n",
       "230                                            Fleet 8   \n",
       "231                       Offshore rig shearing system   \n",
       "\n",
       "                  KeyVendor  \\\n",
       "0                        JV   \n",
       "1                        SC   \n",
       "2                        ME   \n",
       "3                        SL   \n",
       "4                        SC   \n",
       "5                    JV, WI   \n",
       "6            JV, WI, Rotork   \n",
       "7                        BN   \n",
       "9                        SL   \n",
       "10                       AE   \n",
       "11                 SC, Dell   \n",
       "12                       JV   \n",
       "14                   Belimo   \n",
       "15                       SC   \n",
       "16                       SC   \n",
       "17                  AWC/ACE   \n",
       "18            Allen Bradley   \n",
       "21                       SC   \n",
       "22                       PX   \n",
       "23                       SC   \n",
       "24                       SC   \n",
       "25                       SC   \n",
       "26                      AWC   \n",
       "27                       ST   \n",
       "28                       KE   \n",
       "29                       SC   \n",
       "30                       SC   \n",
       "31             Mission Comm   \n",
       "33         SC, TU, PX, iGus   \n",
       "34               SC, BN, PX   \n",
       "..                      ...   \n",
       "196                      SC   \n",
       "197                      BN   \n",
       "198                   BN/TU   \n",
       "199                     MTL   \n",
       "200                      PX   \n",
       "201                      SC   \n",
       "202                      SC   \n",
       "203                      SC   \n",
       "205                  SC, PX   \n",
       "206                  SC, PX   \n",
       "207              SC, PX, ST   \n",
       "208         SC, R Stahl, PX   \n",
       "209         SC, R Stahl, PX   \n",
       "210              SC, ST, PX   \n",
       "211                      ST   \n",
       "212                      AD   \n",
       "213                      AD   \n",
       "214                      AD   \n",
       "216                      SC   \n",
       "217                      SC   \n",
       "218                      SC   \n",
       "219  SC, PX, BE, HM, MX, TU   \n",
       "220                  SC, RT   \n",
       "221                  SC, TU   \n",
       "222                   Stahl   \n",
       "224                      SC   \n",
       "227                      SC   \n",
       "229                 SC, MX,   \n",
       "230                  SC, PX   \n",
       "231                  SC, RT   \n",
       "\n",
       "                         TechnologiesServices Proposed  PotentialValue  \\\n",
       "0                                     Valve Assemblies            7753   \n",
       "1                                              PLC/MHI           45000   \n",
       "2                      qty 4 16\" HPV and qty 1 36\" HPV           84867   \n",
       "3                                         StoneL Axiom           10000   \n",
       "4                                     Managed switches           55000   \n",
       "5                                     Valve Assemblies           27500   \n",
       "6                                     Valve Assemblies          333404   \n",
       "7          Sensors, Nodes and Master controller (IIOT)           18000   \n",
       "9                              StoneL Valve Assemblies           44226   \n",
       "10                           Adalet Instrument Housing           23000   \n",
       "11                                         HMI Clients           21000   \n",
       "12                                    Valve Assemblies           14840   \n",
       "14      Assembly of Belimo Actuator with Ruskin Damper          125000   \n",
       "15                                    Automation/Scada          250000   \n",
       "16                             Sinema RC & Telecontrol           20000   \n",
       "17                                    Service Contract         5000000   \n",
       "18                      Control panel design and build           12000   \n",
       "21   Control panel design and build with installati...           80000   \n",
       "22                                         Edge Device           25000   \n",
       "23                       VFD Panel Design and Assembly          250000   \n",
       "24                           S7-1500 and Comfort Panel           10000   \n",
       "25   Control panel design and build with installati...           80000   \n",
       "26                             AWC DATA Aquisition Box          150000   \n",
       "27                      Weighing, Level, Mass Dynamics           75000   \n",
       "28                                Kenco Float Switches           65000   \n",
       "29                                        Siemens VFDs          110000   \n",
       "30                                             S7-1200           10000   \n",
       "31                                           M850 RTUs           20000   \n",
       "33   s71200F, cordsets, wire harnesses, custom shee...           50000   \n",
       "34               HMI, RTLS, RFID, 1500T, Banner, Turck          100000   \n",
       "..                                                 ...             ...   \n",
       "196                                            S7-1500           90000   \n",
       "197    Banner Sensors and Indicators/Puls Power Supply           30000   \n",
       "198      Banner Sensors/Indicators Turck Safety Lights           40000   \n",
       "199                       Upgrade P&F Barriers to MTL            40000   \n",
       "200                                   Phoenix Panel PC          500000   \n",
       "201                         S7-1500/S120s/Junction Box          100000   \n",
       "202                        Siemens TIA Portal Software          150000   \n",
       "203                                              G120X           50000   \n",
       "205                                            S7-1200           30000   \n",
       "206          S7-1200/G120/Comfort Panel/Controls/Power          100000   \n",
       "207                                         S7-1500R/H          200000   \n",
       "208                                    IPC/S120/S7-300          150000   \n",
       "209                                    IPC/S120/S7-300          150000   \n",
       "210                         S7-300/S7-1200/S110/ST/IPC          200000   \n",
       "211                                     Coriolis Meter           90000   \n",
       "212                                         VersionDog           47035   \n",
       "213                                      Cellular RTUs           20000   \n",
       "214                                       Enclosed VFD           10000   \n",
       "216  S7-1200 with CP1243-7LTE Cellular Modem, TP900...           16290   \n",
       "217                               150 HP Enclosed G120           10000   \n",
       "218                   S7-400FH, ET200SP, Comfort Panel           66583   \n",
       "219  PLCs, IPC, Simocode, Radio, Surge Prot, UPS, E...          245790   \n",
       "220          PLCs, Controls, S120 VFDs, TS8 Enclosures          400000   \n",
       "221  Signal Column, Prox Sensor, Rotation Speed Mon...           20000   \n",
       "222                                    IS, Temp Xmttrs           10000   \n",
       "224                                           WinCC OA           50000   \n",
       "227          Siemens: Automation, Controls, Networking           15000   \n",
       "229  Siemens: Flow Meter, S7-1200, Power Supply - M...           60000   \n",
       "230  Siemens: Automation, Controls, HMI, Networking...          100000   \n",
       "231  ET200SP Siplus, Power Supply, HMI, WinCC OA - ...           30000   \n",
       "\n",
       "     ProbPercent  ExpectedValue  ExpectedValueStage  \\\n",
       "0           0.75           5814             4651.80   \n",
       "1           0.75          33750            18000.00   \n",
       "2           0.60          50920            50920.20   \n",
       "3           0.25           2500             4000.00   \n",
       "4           0.75          41250            22000.00   \n",
       "5           0.90          24750            16500.00   \n",
       "6           0.75         250053           133361.60   \n",
       "7           0.75          13500            10800.00   \n",
       "9           0.75          33169            26535.60   \n",
       "10          0.80          18400            13800.00   \n",
       "11          0.50          10500            12600.00   \n",
       "12          0.75          11130             8904.00   \n",
       "14          0.25          31250            75000.00   \n",
       "15          0.75         187500           187500.00   \n",
       "16          0.75          15000            12000.00   \n",
       "17          0.99        4950000          3750000.00   \n",
       "18          0.50           6000             7200.00   \n",
       "21          0.50          40000            60000.00   \n",
       "22          0.50          12500            18750.00   \n",
       "23          0.50         125000           150000.00   \n",
       "24          0.25           2500             4000.00   \n",
       "25          0.50          40000            60000.00   \n",
       "26          0.99         148500           112500.00   \n",
       "27          0.50          37500            30000.00   \n",
       "28          0.90          58500            58500.00   \n",
       "29          0.30          33000            99000.00   \n",
       "30          0.50           5000             6000.00   \n",
       "31          0.50          10000            12000.00   \n",
       "33          0.90          45000            37500.00   \n",
       "34          0.10          10000            40000.00   \n",
       "..           ...            ...                 ...   \n",
       "196         0.90          81000            67500.00   \n",
       "197         0.20           6000            15000.00   \n",
       "198         0.60          24000            30000.00   \n",
       "199         0.10           4000            16000.00   \n",
       "200         0.20         100000           300000.00   \n",
       "201         0.30          30000            50000.00   \n",
       "202         0.30          45000            90000.00   \n",
       "203         0.20          10000            30000.00   \n",
       "205         0.40          12000            15000.00   \n",
       "206         0.30          30000            50000.00   \n",
       "207         0.40          80000           100000.00   \n",
       "208         0.50          75000            90000.00   \n",
       "209         0.20          30000            90000.00   \n",
       "210         0.40          80000           120000.00   \n",
       "211         0.30          27000            54000.00   \n",
       "212         0.80          37628            35276.25   \n",
       "213         0.40           8000             8000.00   \n",
       "214         0.90           9000             7500.00   \n",
       "216         0.60           9774            12217.50   \n",
       "217         0.50           5000             6000.00   \n",
       "218         0.60          39949            49937.25   \n",
       "219         0.80         196632           147474.00   \n",
       "220         0.75         300000           240000.00   \n",
       "221         0.60          12000            10000.00   \n",
       "222         0.60           6000             6000.00   \n",
       "224         0.80          40000            37500.00   \n",
       "227         0.80          12000             9000.00   \n",
       "229         0.20          12000            36000.00   \n",
       "230         0.50          50000            60000.00   \n",
       "231         0.50          15000            22500.00   \n",
       "\n",
       "                                CustomerCompelingEvent                 Stage  \\\n",
       "0                                                  NaN               Quoting   \n",
       "1                                                  NaN  Discovery (S.P.I.N.)   \n",
       "2                                                  NaN               Quoting   \n",
       "3                                                  NaN  Discovery (S.P.I.N.)   \n",
       "4                                                  NaN  Discovery (S.P.I.N.)   \n",
       "5                                                  NaN               Quoting   \n",
       "6                                                  NaN  Discovery (S.P.I.N.)   \n",
       "7                                                  NaN               Quoting   \n",
       "9                                                  NaN               Quoting   \n",
       "10                                                 NaN               Quoting   \n",
       "11                                                 NaN               Quoting   \n",
       "12                                                 NaN               Quoting   \n",
       "14   Fast assembly turnaround to meet aggressive le...               Quoting   \n",
       "15                                                 NaN               Working   \n",
       "16                                                 NaN               Quoting   \n",
       "17                                                 NaN               Working   \n",
       "18                                                 NaN               Quoting   \n",
       "21   Needing to get into a new market and need a mo...               Working   \n",
       "22   Current IPC Intel Processor was outdated.  Req...               Working   \n",
       "23   Needed a globally supported solution that woul...               Quoting   \n",
       "24                                                 NaN  Discovery (S.P.I.N.)   \n",
       "25   Previous integrator partnered with another MBR...               Working   \n",
       "26   Current IOT solution has had multiple failures...               Working   \n",
       "27   Plant underwent safety inspection, determined ...  Discovery (S.P.I.N.)   \n",
       "28                 End customer expansion continuation               On Hold   \n",
       "29           Customer adding 2 new rock crusher motors               On Hold   \n",
       "30   Taking over maint of water sites for Military ...               Quoting   \n",
       "31                                  Aging water system               Quoting   \n",
       "33   Start up, used 1200F controller for small port...               Working   \n",
       "34   Collegue left Urban Mining, fan of Siemens, we...  Discovery (S.P.I.N.)   \n",
       "..                                                 ...                   ...   \n",
       "196                                                NaN               Working   \n",
       "197                                                NaN  Solution Development   \n",
       "198                                                NaN               Working   \n",
       "199                                                NaN  Discovery (S.P.I.N.)   \n",
       "200                              Uprade to Windows 10                Quoting   \n",
       "201  S7-300 Being osboleted/customer code no longer...  Solution Development   \n",
       "202             V16 has quicker update times than V13.               Quoting   \n",
       "203                                                NaN               Quoting   \n",
       "205                                                NaN  Solution Development   \n",
       "206                         Current GE PLC is obsolete  Solution Development   \n",
       "207                                                NaN  Solution Development   \n",
       "208                                                NaN               Quoting   \n",
       "209                                                NaN               Quoting   \n",
       "210                                                NaN               Quoting   \n",
       "211       Moving from renting Coriolis to Purchasing.                Quoting   \n",
       "212    Complications from unknown application versions               Working   \n",
       "213  They bought new RTUs from us but don't have ma...  Discovery (S.P.I.N.)   \n",
       "214            Has project where client specified W120               Working   \n",
       "216                      Unreliable outdated equipment               Working   \n",
       "217  Some dissatisfaction with AB drive, Willing to...               Quoting   \n",
       "218                    AB doesn't offer redundant SIL3               Working   \n",
       "219                  Obsolete facilities and equipment               Quoting   \n",
       "220         New manufacturing line for bigger products               Quoting   \n",
       "221  Unknown stopped clarifier rake results in cake...  Solution Development   \n",
       "222                    New project from their customer               Quoting   \n",
       "224                               New customer project               Working   \n",
       "227                       Expansion of existing system               Quoting   \n",
       "229                                Need real-time data               Quoting   \n",
       "230                              New drilling contract               Quoting   \n",
       "231                            New product development               Working   \n",
       "\n",
       "     ProbPercentStage  ProbPercentDiff  \\\n",
       "0                0.60              NaN   \n",
       "1                0.40              NaN   \n",
       "2                0.60              NaN   \n",
       "3                0.40              NaN   \n",
       "4                0.40              NaN   \n",
       "5                0.60              NaN   \n",
       "6                0.40              NaN   \n",
       "7                0.60              NaN   \n",
       "9                0.60              NaN   \n",
       "10               0.60              NaN   \n",
       "11               0.60              NaN   \n",
       "12               0.60              NaN   \n",
       "14               0.60              NaN   \n",
       "15               0.75              NaN   \n",
       "16               0.60              NaN   \n",
       "17               0.75              NaN   \n",
       "18               0.60              NaN   \n",
       "21               0.75              NaN   \n",
       "22               0.75              NaN   \n",
       "23               0.60              NaN   \n",
       "24               0.40              NaN   \n",
       "25               0.75              NaN   \n",
       "26               0.75              NaN   \n",
       "27               0.40              NaN   \n",
       "28               0.90              NaN   \n",
       "29               0.90              NaN   \n",
       "30               0.60              NaN   \n",
       "31               0.60              NaN   \n",
       "33               0.75              NaN   \n",
       "34               0.40              NaN   \n",
       "..                ...              ...   \n",
       "196              0.75              NaN   \n",
       "197              0.50              NaN   \n",
       "198              0.75              NaN   \n",
       "199              0.40              NaN   \n",
       "200              0.60              NaN   \n",
       "201              0.50              NaN   \n",
       "202              0.60              NaN   \n",
       "203              0.60              NaN   \n",
       "205              0.50              NaN   \n",
       "206              0.50              NaN   \n",
       "207              0.50              NaN   \n",
       "208              0.60              NaN   \n",
       "209              0.60              NaN   \n",
       "210              0.60              NaN   \n",
       "211              0.60              NaN   \n",
       "212              0.75              NaN   \n",
       "213              0.40              NaN   \n",
       "214              0.75              NaN   \n",
       "216              0.75              NaN   \n",
       "217              0.60              NaN   \n",
       "218              0.75              NaN   \n",
       "219              0.60              NaN   \n",
       "220              0.60              NaN   \n",
       "221              0.50              NaN   \n",
       "222              0.60              NaN   \n",
       "224              0.75              NaN   \n",
       "227              0.60              NaN   \n",
       "229              0.60              NaN   \n",
       "230              0.60              NaN   \n",
       "231              0.75              NaN   \n",
       "\n",
       "                                       YourNextBIGStep  \\\n",
       "0    Contact Rickey at SAS re: which contractor was...   \n",
       "1                     Coordinate Mtg w/ DMS & Entegris   \n",
       "2      Zoom mtg with Project Mgr re: schedule and cost   \n",
       "3                   Contact Adam Baker on WW expansion   \n",
       "4             Schedule FAT of Phase I and bid Phase II   \n",
       "5                        Schedule Deer Park Work Order   \n",
       "6    Mtg with SAS/SECAI to determine \"Pre-Order\" Lo...   \n",
       "7    Follow-up on bid submitted last week to determ...   \n",
       "9    Site visit with Metso to review ASI network ar...   \n",
       "10   Bid going out 5/20 for 2nd batch of units.   F...   \n",
       "11   Zoom mtg with Urban and SW Solutions on 5/21 t...   \n",
       "12   Phone call with contractor to see if they have...   \n",
       "14                       Build test assembly in Austin   \n",
       "15                                                 NaN   \n",
       "16                                                 NaN   \n",
       "17                                                 NaN   \n",
       "18                                                 NaN   \n",
       "21                                                 NaN   \n",
       "22           Finalize KIT requirement with their image   \n",
       "23        Finalizing G130 design with WE Manufacturing   \n",
       "24                                                 NaN   \n",
       "25   Working on final production design with Engine...   \n",
       "26   Meeting on Friday to discuss SCOPE for Limited...   \n",
       "27   Contact Joe Byrd for update. Customer upgradin...   \n",
       "28   Joint meeting in Junewith Magnum Engineering a...   \n",
       "29                   Follow up with Chappa on June 1st   \n",
       "30   Trainings for TIA Portal, waiting on model num...   \n",
       "31                   Follow up with Gerald on timeline   \n",
       "33   Quote wireharness package, sheetmetal package,...   \n",
       "34   Joint meeting with Fred Maynard on high speed ...   \n",
       "..                                                 ...   \n",
       "196                  design complete, waiting on order   \n",
       "197  Customer is currently testing system. Follow u...   \n",
       "198                                   Follow up 1 Week   \n",
       "199  Crossed over P&F Barriers, engineering is reve...   \n",
       "200                 Dropping off demo unit this week.    \n",
       "201                                Follow up 2 Weeks.    \n",
       "202                                                NaN   \n",
       "203                                  Follow up 2 Weeks   \n",
       "205                                   Actively Quoting   \n",
       "206       Meeting to work on solution in several weeks   \n",
       "207                                  Follow up 2 Weeks   \n",
       "208                                 Follow up 2 weeks    \n",
       "209                                 Follow up 2 weeks    \n",
       "210                                  Follow Up 2 weeks   \n",
       "211                                   Follow up Friday   \n",
       "212  Continue to encourage slow City procurement pr...   \n",
       "213        Visit plant with Josh and E/A to scope work   \n",
       "214                     Quote alternate configurations   \n",
       "216                          Help project move forward   \n",
       "217                   Get quote from AWC Projects Team   \n",
       "218  Stay in touch as customer's client considers p...   \n",
       "219                              Assist winning bidder   \n",
       "220  Secure special project discounting from SC and RT   \n",
       "221               Finalize design and prepare proposal   \n",
       "222  Identify and work with engineer who replaced t...   \n",
       "224   Follow up on my reqeust to confirm architecture    \n",
       "227             Finalize revision 1 of system proposal   \n",
       "229                                  Follow Up 2 weeks   \n",
       "230                                Follow up 2 Weeks.    \n",
       "231  Assist with system changes after initial deplo...   \n",
       "\n",
       "                                                 Notes UpdateDate  UD_delta  \\\n",
       "0                     Change order to existing project 2020-05-19       -29   \n",
       "1                      Continued releases of new tools 2020-05-19       -29   \n",
       "2    Pre-construction approved and awaiting project... 2020-05-19       -29   \n",
       "3             New lead from StoneL for Q3 2020 upgrade 2020-05-13       -35   \n",
       "4    Patti is completing P1 and should be ordering ... 2020-05-13       -35   \n",
       "5                                                  NaN 2020-05-13       -35   \n",
       "6                   Part of major Cool Tower expansion 2020-05-13       -35   \n",
       "7    Prototype system for bearing vibration monitoring 2020-05-14       -34   \n",
       "9                         New Product being developed  2020-05-13       -35   \n",
       "10                          2nd set of Adalet housings 2020-05-13       -35   \n",
       "11              (12)  HMI Clients for new control room 2020-05-14       -34   \n",
       "12                                   Phase 2 expansion 2020-05-13       -35   \n",
       "14   5/12 - Working with Shawn Mills and Tanner Smi... 2020-05-12       -36   \n",
       "15   5/12 - Cost per EMS panel is $26k.  Working wi... 2020-05-12       -36   \n",
       "16   5/12 - Submitting proposal 5/12/2020 based off... 2020-05-12       -36   \n",
       "17   5/12 - Contract to be sent over next week for ... 2020-05-12       -36   \n",
       "18   5/12 - Submitted proposal 5/5/2020.  OVIVO wit... 2020-05-12       -36   \n",
       "21   5/12 - Cost per TMF is $80k.  Currently workin... 2020-05-12       -36   \n",
       "22   Phoenix BL2 Box PC Passed testing with RapidDe... 2020-05-12       -36   \n",
       "23                       5/12 - Tunnel in design phase 2020-05-12       -36   \n",
       "24                   5/12 - Working with site on scope 2020-05-12       -36   \n",
       "25                 5/12 - Cost per microBlox is $80k.  2020-05-19       -29   \n",
       "26   5/19 - Utilizing existing design from our init... 2020-05-19       -29   \n",
       "27                    5/19 Customer working with CPUSA 2020-05-20       -28   \n",
       "28   5/20 Seth responded they are still working on ... 2020-05-20       -28   \n",
       "29   5/12 Spoke with customer, project on hold unti... 2020-05-12       -36   \n",
       "30   5/12 Customer ordered software, waiting on mod... 2020-05-19       -29   \n",
       "31   5/19 Discovered customer retiring, reaching ou... 2020-05-19       -29   \n",
       "33   5/19 Waiting on multiple project bids due by F... 2020-05-19       -29   \n",
       "34   5/19 Quoted Siemens Software to Roberto, provi... 2020-05-19       -29   \n",
       "..                                                 ...        ...       ...   \n",
       "196                                                NaN 2020-05-19       -29   \n",
       "197                                                NaN 2020-05-18       -30   \n",
       "198  We have specfied in multiple different parts, ... 2020-05-18       -30   \n",
       "199                                                NaN 2020-05-18       -30   \n",
       "200  Customer is off of hold and is starting to test.  2020-05-18       -30   \n",
       "201  Solution is going to China, China is testing t... 2020-05-18       -30   \n",
       "202                                                NaN 2020-05-18       -30   \n",
       "203                                                NaN 2020-05-18       -30   \n",
       "205                                                NaN 2020-05-18       -30   \n",
       "206                                                NaN 2020-05-18       -30   \n",
       "207  Customer project on hold due to current enviro... 2020-05-18       -30   \n",
       "208  Customer is pushing off purchasing due to curr... 2020-05-18       -30   \n",
       "209  Customer is pushing off purchasing due to curr... 2020-05-18       -30   \n",
       "210  Customer project on hold due to current enviro... 2020-05-18       -30   \n",
       "211  Customer has been purchasing Rosemount not Sie... 2020-05-18       -30   \n",
       "212  Original quote was July 2019, Latest is versio... 2020-05-19       -29   \n",
       "213  HAS is slow to respond and we have not been ab... 2020-05-19       -29   \n",
       "214  Usemco is in submittal stage with their client... 2020-05-19       -29   \n",
       "216  City went quiet since COVID quarantine started... 2020-05-19       -29   \n",
       "217                     Can be a good foot in the door 2020-05-19       -29   \n",
       "218       We should get this order if they get the job 2020-05-19       -29   \n",
       "219           First project of multiple similar phases 2020-05-19       -29   \n",
       "220  Engineer has to compare prices with Italy so w... 2020-05-19       -29   \n",
       "221  Waiting for E/A to visit plant to figure labor... 2020-05-19       -29   \n",
       "222  Have gone through multiple design changes, Key... 2020-05-19       -29   \n",
       "224                                                NaN 2020-05-19       -29   \n",
       "227                                                NaN 2020-05-20       -28   \n",
       "229                                                NaN 2020-05-19       -29   \n",
       "230              Order was put on hold after oil crash 2020-05-20       -28   \n",
       "231      Initial 30K system was sold earlier this year 2020-05-20       -28   \n",
       "\n",
       "    ExpectedOrderDate  EOD_delta ExpectedOrderDateM     ExpectedOrderDateW  \n",
       "0          2020-08-01       45.0            2020-08  2020-07-27/2020-08-02  \n",
       "1          2020-07-15       28.0            2020-07  2020-07-13/2020-07-19  \n",
       "2          2020-06-30       13.0            2020-06  2020-06-29/2020-07-05  \n",
       "3          2020-10-15      120.0            2020-10  2020-10-12/2020-10-18  \n",
       "4          2020-09-01       76.0            2020-09  2020-08-31/2020-09-06  \n",
       "5          2020-06-01      -16.0            2020-06  2020-06-01/2020-06-07  \n",
       "6          2020-09-01       76.0            2020-09  2020-08-31/2020-09-06  \n",
       "7          2020-07-15       28.0            2020-07  2020-07-13/2020-07-19  \n",
       "9          2020-07-01       14.0            2020-07  2020-06-29/2020-07-05  \n",
       "10         2020-07-01       14.0            2020-07  2020-06-29/2020-07-05  \n",
       "11         2020-06-15       -2.0            2020-06  2020-06-15/2020-06-21  \n",
       "12         2020-06-15       -2.0            2020-06  2020-06-15/2020-06-21  \n",
       "14         2020-06-04      -13.0            2020-06  2020-06-01/2020-06-07  \n",
       "15         2020-06-10       -7.0            2020-06  2020-06-08/2020-06-14  \n",
       "16         2020-06-03      -14.0            2020-06  2020-06-01/2020-06-07  \n",
       "17         2020-06-15       -2.0            2020-06  2020-06-15/2020-06-21  \n",
       "18         2020-05-29      -19.0            2020-05  2020-05-25/2020-05-31  \n",
       "21         2020-10-05      110.0            2020-10  2020-10-05/2020-10-11  \n",
       "22         2020-10-15      120.0            2020-10  2020-10-12/2020-10-18  \n",
       "23         2020-10-15      120.0            2020-10  2020-10-12/2020-10-18  \n",
       "24                NaT        NaN                NaT                    NaT  \n",
       "25         2020-10-05      110.0            2020-10  2020-10-05/2020-10-11  \n",
       "26         2020-06-15       -2.0            2020-06  2020-06-15/2020-06-21  \n",
       "27         2020-10-01      106.0            2020-10  2020-09-28/2020-10-04  \n",
       "28         2020-09-01       76.0            2020-09  2020-08-31/2020-09-06  \n",
       "29         2020-12-01      167.0            2020-12  2020-11-30/2020-12-06  \n",
       "30         2020-06-01      -16.0            2020-06  2020-06-01/2020-06-07  \n",
       "31         2020-07-01       14.0            2020-07  2020-06-29/2020-07-05  \n",
       "33         2020-07-01       14.0            2020-07  2020-06-29/2020-07-05  \n",
       "34         2021-01-01      198.0            2021-01  2020-12-28/2021-01-03  \n",
       "..                ...        ...                ...                    ...  \n",
       "196        2020-06-01      -16.0            2020-06  2020-06-01/2020-06-07  \n",
       "197        2020-10-31      136.0            2020-10  2020-10-26/2020-11-01  \n",
       "198               NaT        NaN                NaT                    NaT  \n",
       "199        2020-10-31      136.0            2020-10  2020-10-26/2020-11-01  \n",
       "200        2020-10-31      136.0            2020-10  2020-10-26/2020-11-01  \n",
       "201        2020-10-31      136.0            2020-10  2020-10-26/2020-11-01  \n",
       "202               NaT        NaN                NaT                    NaT  \n",
       "203               NaT        NaN                NaT                    NaT  \n",
       "205        2020-07-31       44.0            2020-07  2020-07-27/2020-08-02  \n",
       "206               NaT        NaN                NaT                    NaT  \n",
       "207        2020-10-31      136.0            2020-10  2020-10-26/2020-11-01  \n",
       "208        2020-10-31      136.0            2020-10  2020-10-26/2020-11-01  \n",
       "209        2020-10-31      136.0            2020-10  2020-10-26/2020-11-01  \n",
       "210        2020-10-31      136.0            2020-10  2020-10-26/2020-11-01  \n",
       "211        2020-07-31       44.0            2020-07  2020-07-27/2020-08-02  \n",
       "212        2020-06-30       13.0            2020-06  2020-06-29/2020-07-05  \n",
       "213               NaT        NaN                NaT                    NaT  \n",
       "214        2020-06-30       13.0            2020-06  2020-06-29/2020-07-05  \n",
       "216        2020-06-30       13.0            2020-06  2020-06-29/2020-07-05  \n",
       "217        2020-06-15       -2.0            2020-06  2020-06-15/2020-06-21  \n",
       "218        2020-07-31       44.0            2020-07  2020-07-27/2020-08-02  \n",
       "219               NaT        NaN                NaT                    NaT  \n",
       "220               NaT        NaN                NaT                    NaT  \n",
       "221        2020-07-31       44.0            2020-07  2020-07-27/2020-08-02  \n",
       "222        2020-06-30       13.0            2020-06  2020-06-29/2020-07-05  \n",
       "224        2020-07-31       44.0            2020-07  2020-07-27/2020-08-02  \n",
       "227        2020-06-30       13.0            2020-06  2020-06-29/2020-07-05  \n",
       "229        2020-10-31      136.0            2020-10  2020-10-26/2020-11-01  \n",
       "230        2020-10-31      136.0            2020-10  2020-10-26/2020-11-01  \n",
       "231        2020-10-31      136.0            2020-10  2020-10-26/2020-11-01  \n",
       "\n",
       "[203 rows x 28 columns]"
      ]
     },
     "execution_count": 53,
     "metadata": {},
     "output_type": "execute_result"
    }
   ],
   "source": [
    "df_num[df_num[\"Stage\"].isin(['Quoting',\n",
    "        'Discovery (S.P.I.N.)','Working', 'On Hold',\n",
    "        'Solution Development'])]"
   ]
  },
  {
   "cell_type": "code",
   "execution_count": null,
   "metadata": {},
   "outputs": [],
   "source": [
    "[105540, 320000, 520067, 99000, 262500, 31000]"
   ]
  },
  {
   "cell_type": "code",
   "execution_count": 22,
   "metadata": {},
   "outputs": [
    {
     "data": {
      "text/plain": [
       "[105540, 99000, 262500, 31000, 320000, 520067]"
      ]
     },
     "execution_count": 22,
     "metadata": {},
     "output_type": "execute_result"
    }
   ],
   "source": [
    "[dff[b] for b in df_num[\"Branch\"].unique() if  b in dff.index]"
   ]
  },
  {
   "cell_type": "code",
   "execution_count": null,
   "metadata": {},
   "outputs": [],
   "source": [
    "agg_methods = ['sum','count','sum_ratio','count_ratio']"
   ]
  },
  {
   "cell_type": "code",
   "execution_count": null,
   "metadata": {},
   "outputs": [],
   "source": [
    "fig = go.Figure()\n",
    "\n",
    "stages = [['Won'],['Quoting','Discovery (S.P.I.N.)','Working', 'On Hold','Solution Development'],['Lost (why?)']\n",
    "names = [\"Won\",\"Ongoing\",\"Lost\"]\n",
    "\n",
    "if scope == 'By Branch':\n",
    "    if agg_method == 'Sum':\n",
    "        for i in range(len(stages)):\n",
    "          dff = df_num[df_num[\"Stage\"]==stages[i]].groupby(\"Branch\").sum()[\"PotentialValue\"]\n",
    "          fig.add_trace(go.Bar(\n",
    "            y=df_num[\"Branch\"].unique(),\n",
    "            x=[dff[b] for b in df_num[\"Branch\"].unique() if b in dff.index]\n",
    "            name=names[i],\n",
    "            orientation='h',\n",
    "            marker=dict(\n",
    "                color='rgba(246, 78, 139, 0.6)',\n",
    "                line=dict(color='rgba(246, 78, 139, 1.0)', width=3)\n",
    "            )\n",
    "        ))\n",
    "    elif agg_method == 'Count':\n",
    "        for i in range(len(stages)):\n",
    "            dff = df_num[df_num[\"Stage\"]==stages[i]].groupby(\"Branch\").count()[\"PotentialValue\"]\n",
    "            fig.add_trace(go.Bar(\n",
    "                y=df_num[\"Branch\"].unique(),\n",
    "                x=[dff[b] for b in df_num[\"Branch\"].unique() if b in dff.index]\n",
    "                name=names[i],\n",
    "                orientation='h',\n",
    "                marker=dict(\n",
    "                    color='rgba(246, 78, 139, 0.6)',\n",
    "                    line=dict(color='rgba(246, 78, 139, 1.0)', width=3)\n",
    "                )\n",
    "            ))\n",
    "    elif agg_method == 'Sum Ratio'\n",
    "                dff = df_num[df_num[\"Stage\"].isin(['Quoting',\n",
    "                    'Discovery (S.P.I.N.)','Working', 'On Hold',\n",
    "                    'Solution Development'])].groupby(\"Branch\").sum()[\"PotentialValue\"]\n",
    "                fig.add_trace(go.Bar(\n",
    "                    y=['giraffes', 'orangutans', 'monkeys'],\n",
    "                    x=[12, 18, 29],\n",
    "                    name='LA Zoo',\n",
    "                    orientation='h',\n",
    "                    marker=dict(\n",
    "                        color='rgba(58, 71, 80, 0.6)',\n",
    "                        line=dict(color='rgba(58, 71, 80, 1.0)', width=3)\n",
    "                    )\n",
    "                ))\n",
    "        fig.add_trace(go.Bar(\n",
    "            y=['giraffes', 'orangutans', 'monkeys'],\n",
    "            x=[12, 18, 29],\n",
    "            name='LA Zoo',\n",
    "            orientation='h',\n",
    "            marker=dict(\n",
    "                color='rgba(58, 71, 80, 0.6)',\n",
    "                line=dict(color='rgba(58, 71, 80, 1.0)', width=3)\n",
    "            )\n",
    "        ))\n",
    "elif scope == 'As Whole':\n",
    "\n",
    "fig.update_layout(barmode='stack')\n",
    "fig.show()"
   ]
  },
  {
   "cell_type": "code",
   "execution_count": null,
   "metadata": {},
   "outputs": [],
   "source": []
  },
  {
   "cell_type": "code",
   "execution_count": null,
   "metadata": {},
   "outputs": [],
   "source": []
  },
  {
   "cell_type": "code",
   "execution_count": null,
   "metadata": {},
   "outputs": [],
   "source": []
  },
  {
   "cell_type": "code",
   "execution_count": null,
   "metadata": {},
   "outputs": [],
   "source": [
    "# fixed on all data shown while hover"
   ]
  },
  {
   "cell_type": "code",
   "execution_count": 70,
   "metadata": {},
   "outputs": [
    {
     "data": {
      "text/plain": [
       "Index(['Div', 'Branch', 'OAM', 'LeadType', 'LeadSpecifics', 'Customer', 'Type',\n",
       "       'New', 'City, St', 'ProjectOpportunity', 'KeyVendor',\n",
       "       'TechnologiesServices Proposed', 'PotentialValue', 'ProbPercent',\n",
       "       'ExpectedValue', 'ExpectedValueStage', 'CustomerCompelingEvent',\n",
       "       'Stage', 'ProbPercentStage', 'ProbPercentDiff', 'YourNextBIGStep',\n",
       "       'Notes', 'UpdateDate', 'UD_delta', 'ExpectedOrderDate', 'EOD_delta',\n",
       "       'ExpectedOrderDateM', 'ExpectedOrderDateW'],\n",
       "      dtype='object')"
      ]
     },
     "execution_count": 70,
     "metadata": {},
     "output_type": "execute_result"
    }
   ],
   "source": [
    "df_num.columns"
   ]
  },
  {
   "cell_type": "code",
   "execution_count": null,
   "metadata": {},
   "outputs": [],
   "source": [
    "stages = [['Won'],['Quoting','Discovery (S.P.I.N.)','Working', 'On Hold','Solution Development'],['Lost (why?)']\n",
    "names = [\"Won\",\"Ongoing\",\"Lost\"]"
   ]
  },
  {
   "cell_type": "code",
   "execution_count": null,
   "metadata": {},
   "outputs": [],
   "source": [
    "df_num[df_num[\"Stage\"].isin(['Quoting','Discovery (S.P.I.N.)','Working', 'On Hold','Solution Development'])]\n",
    "df_num[df_num[\"Stage\"].isin(['Won','Lost (why?)'])\n",
    "       dff = df_num[df_num[\"Stage\"].isin(['Won','Lost (why?)'])"
   ]
  },
  {
   "cell_type": "code",
   "execution_count": 72,
   "metadata": {},
   "outputs": [],
   "source": [
    "dsa = ['Div','Branch','OAM','LeadType','Customer',\n",
    "    'Type','New','City, St','KeyVendor','Stage','UpdateDate']"
   ]
  },
  {
   "cell_type": "code",
   "execution_count": 86,
   "metadata": {},
   "outputs": [
    {
     "ename": "SyntaxError",
     "evalue": "EOL while scanning string literal (<ipython-input-86-cd060dcfd59a>, line 22)",
     "output_type": "error",
     "traceback": [
      "\u001b[1;36m  File \u001b[1;32m\"<ipython-input-86-cd060dcfd59a>\"\u001b[1;36m, line \u001b[1;32m22\u001b[0m\n\u001b[1;33m    \"Proportions of Stages by OAM\u001b[0m\n\u001b[1;37m                                 ^\u001b[0m\n\u001b[1;31mSyntaxError\u001b[0m\u001b[1;31m:\u001b[0m EOL while scanning string literal\n"
     ]
    }
   ],
   "source": [
    "path_mode = ''\n",
    "included = 'Win vs Ongoing vs Lose'\n",
    "numerical = 'Sum'\n",
    "\n",
    "values = 'PotentialValue' if numerical == 'Sum' else [1]*len(df_num)\n",
    "if included == 'All':\n",
    "    dff = df_num\n",
    "elif included == 'Win vs Lose':\n",
    "    dff= df_num[df_num[\"Stage\"].isin(['Won','Lost (why?)'])]\n",
    "elif included == 'Win vs Ongoing vs Lose':\n",
    "    dff = df_num\n",
    "    dff[\"Stage\"] = df_num[\"Stage\"].replace(['Quoting','Discovery (S.P.I.N.)','Working',\n",
    "                                  'On Hold','Solution Development'], 'Ongoing')\n",
    "\n",
    "if path_mode == 'Proportions of Branches Stage group'\n",
    "fig1 = px.sunburst(dff, path=['Branch','Stage'], values=values, color='Stage')\n",
    "\"Proportions of Branches by {} according to {}\".format(included, numerical)\n",
    "if path_mode == 'Proportions of Branches by OAM by Stage group'\n",
    "fig2 = px.sunburst(dff, path=['Branch','OAM','Stage'], values=values, color='Stage')\n",
    "\"Proportions of Branches by OAM by {} according to {}\".format(included, numerical)\n",
    "if path_mode == 'Proportions of Stage group by OAM'\n",
    "fig3 = px.sunburst(dff, path=['Stage','OAM'], values=values, color='Stage')\n",
    "\"Proportions of {} by OAM according to {}\".format(included, numerical)\n",
    "if path_mode == 'Proportions of Stage group by Customer'\n",
    "fig4 = px.sunburst(dff, path=['Stage','Customer'], values=values, color='Stage')\n",
    "\"Proportions of OAM by {} according to {}\"(included, numerical)\n",
    "\n",
    "\n",
    "\n",
    "\n",
    "\n",
    "fig.show()"
   ]
  },
  {
   "cell_type": "code",
   "execution_count": null,
   "metadata": {},
   "outputs": [],
   "source": [
    "fig.update_layout(title = \"{} of {} grouped by {}\".format(agg_method,numerical_group,group),\n",
    "                      \n",
    "                      #width=1750,\n",
    "                      #height=500,\n",
    "                      font=dict(\n",
    "                          #family=\"Courier New, monospace\",\n",
    "                          size=12,\n",
    "                          color=\"#000000\"\n",
    "                        )\n",
    "                 "
   ]
  },
  {
   "cell_type": "code",
   "execution_count": null,
   "metadata": {},
   "outputs": [],
   "source": [
    "#add in toggle for PotentialValue and [1]*len(df_num)"
   ]
  },
  {
   "cell_type": "code",
   "execution_count": 56,
   "metadata": {},
   "outputs": [
    {
     "data": {
      "application/vnd.plotly.v1+json": {
       "config": {
        "plotlyServerURL": "https://plot.ly"
       },
       "data": [
        {
         "branchvalues": "total",
         "customdata": [
          [
           "Won"
          ],
          [
           "Lost (why?)"
          ],
          [
           "Won"
          ],
          [
           "Won"
          ],
          [
           "Won"
          ],
          [
           "Won"
          ],
          [
           "Won"
          ],
          [
           "Won"
          ],
          [
           "Won"
          ],
          [
           "Won"
          ],
          [
           "Lost (why?)"
          ],
          [
           "Won"
          ],
          [
           "Won"
          ],
          [
           "Won"
          ]
         ],
         "domain": {
          "x": [
           0,
           1
          ],
          "y": [
           0,
           1
          ]
         },
         "hoverlabel": {
          "namelength": 0
         },
         "hovertemplate": "Stage=%{customdata[0]}<br>labels=%{label}<br>PotentialValue=%{value}<br>parent=%{parent}<br>id=%{id}",
         "ids": [
          "San Antonio",
          "Houston NOV/Lost (why?)",
          "Austin/Won",
          "Corpus Christi/Won",
          "Houston OEM/Won",
          "Midland/Won",
          "OKC/Won",
          "San Antonio/Won",
          "Austin",
          "Corpus Christi",
          "Houston NOV",
          "Houston OEM",
          "Midland",
          "OKC"
         ],
         "labels": [
          "San Antonio",
          "Lost (why?)",
          "Won",
          "Won",
          "Won",
          "Won",
          "Won",
          "Won",
          "Austin",
          "Corpus Christi",
          "Houston NOV",
          "Houston OEM",
          "Midland",
          "OKC"
         ],
         "marker": {
          "colors": [
           "#636efa",
           "#EF553B",
           "#636efa",
           "#636efa",
           "#636efa",
           "#636efa",
           "#636efa",
           "#636efa",
           "#636efa",
           "#636efa",
           "#EF553B",
           "#636efa",
           "#636efa",
           "#636efa"
          ]
         },
         "name": "",
         "parents": [
          "",
          "Houston NOV",
          "Austin",
          "Corpus Christi",
          "Houston OEM",
          "Midland",
          "OKC",
          "San Antonio",
          "",
          "",
          "",
          "",
          "",
          ""
         ],
         "type": "sunburst",
         "values": [
          31000,
          50000,
          105540,
          320000,
          520067,
          99000,
          262500,
          31000,
          105540,
          320000,
          50000,
          520067,
          99000,
          262500
         ]
        }
       ],
       "layout": {
        "legend": {
         "tracegroupgap": 0
        },
        "margin": {
         "t": 60
        },
        "template": {
         "data": {
          "bar": [
           {
            "error_x": {
             "color": "#2a3f5f"
            },
            "error_y": {
             "color": "#2a3f5f"
            },
            "marker": {
             "line": {
              "color": "#E5ECF6",
              "width": 0.5
             }
            },
            "type": "bar"
           }
          ],
          "barpolar": [
           {
            "marker": {
             "line": {
              "color": "#E5ECF6",
              "width": 0.5
             }
            },
            "type": "barpolar"
           }
          ],
          "carpet": [
           {
            "aaxis": {
             "endlinecolor": "#2a3f5f",
             "gridcolor": "white",
             "linecolor": "white",
             "minorgridcolor": "white",
             "startlinecolor": "#2a3f5f"
            },
            "baxis": {
             "endlinecolor": "#2a3f5f",
             "gridcolor": "white",
             "linecolor": "white",
             "minorgridcolor": "white",
             "startlinecolor": "#2a3f5f"
            },
            "type": "carpet"
           }
          ],
          "choropleth": [
           {
            "colorbar": {
             "outlinewidth": 0,
             "ticks": ""
            },
            "type": "choropleth"
           }
          ],
          "contour": [
           {
            "colorbar": {
             "outlinewidth": 0,
             "ticks": ""
            },
            "colorscale": [
             [
              0,
              "#0d0887"
             ],
             [
              0.1111111111111111,
              "#46039f"
             ],
             [
              0.2222222222222222,
              "#7201a8"
             ],
             [
              0.3333333333333333,
              "#9c179e"
             ],
             [
              0.4444444444444444,
              "#bd3786"
             ],
             [
              0.5555555555555556,
              "#d8576b"
             ],
             [
              0.6666666666666666,
              "#ed7953"
             ],
             [
              0.7777777777777778,
              "#fb9f3a"
             ],
             [
              0.8888888888888888,
              "#fdca26"
             ],
             [
              1,
              "#f0f921"
             ]
            ],
            "type": "contour"
           }
          ],
          "contourcarpet": [
           {
            "colorbar": {
             "outlinewidth": 0,
             "ticks": ""
            },
            "type": "contourcarpet"
           }
          ],
          "heatmap": [
           {
            "colorbar": {
             "outlinewidth": 0,
             "ticks": ""
            },
            "colorscale": [
             [
              0,
              "#0d0887"
             ],
             [
              0.1111111111111111,
              "#46039f"
             ],
             [
              0.2222222222222222,
              "#7201a8"
             ],
             [
              0.3333333333333333,
              "#9c179e"
             ],
             [
              0.4444444444444444,
              "#bd3786"
             ],
             [
              0.5555555555555556,
              "#d8576b"
             ],
             [
              0.6666666666666666,
              "#ed7953"
             ],
             [
              0.7777777777777778,
              "#fb9f3a"
             ],
             [
              0.8888888888888888,
              "#fdca26"
             ],
             [
              1,
              "#f0f921"
             ]
            ],
            "type": "heatmap"
           }
          ],
          "heatmapgl": [
           {
            "colorbar": {
             "outlinewidth": 0,
             "ticks": ""
            },
            "colorscale": [
             [
              0,
              "#0d0887"
             ],
             [
              0.1111111111111111,
              "#46039f"
             ],
             [
              0.2222222222222222,
              "#7201a8"
             ],
             [
              0.3333333333333333,
              "#9c179e"
             ],
             [
              0.4444444444444444,
              "#bd3786"
             ],
             [
              0.5555555555555556,
              "#d8576b"
             ],
             [
              0.6666666666666666,
              "#ed7953"
             ],
             [
              0.7777777777777778,
              "#fb9f3a"
             ],
             [
              0.8888888888888888,
              "#fdca26"
             ],
             [
              1,
              "#f0f921"
             ]
            ],
            "type": "heatmapgl"
           }
          ],
          "histogram": [
           {
            "marker": {
             "colorbar": {
              "outlinewidth": 0,
              "ticks": ""
             }
            },
            "type": "histogram"
           }
          ],
          "histogram2d": [
           {
            "colorbar": {
             "outlinewidth": 0,
             "ticks": ""
            },
            "colorscale": [
             [
              0,
              "#0d0887"
             ],
             [
              0.1111111111111111,
              "#46039f"
             ],
             [
              0.2222222222222222,
              "#7201a8"
             ],
             [
              0.3333333333333333,
              "#9c179e"
             ],
             [
              0.4444444444444444,
              "#bd3786"
             ],
             [
              0.5555555555555556,
              "#d8576b"
             ],
             [
              0.6666666666666666,
              "#ed7953"
             ],
             [
              0.7777777777777778,
              "#fb9f3a"
             ],
             [
              0.8888888888888888,
              "#fdca26"
             ],
             [
              1,
              "#f0f921"
             ]
            ],
            "type": "histogram2d"
           }
          ],
          "histogram2dcontour": [
           {
            "colorbar": {
             "outlinewidth": 0,
             "ticks": ""
            },
            "colorscale": [
             [
              0,
              "#0d0887"
             ],
             [
              0.1111111111111111,
              "#46039f"
             ],
             [
              0.2222222222222222,
              "#7201a8"
             ],
             [
              0.3333333333333333,
              "#9c179e"
             ],
             [
              0.4444444444444444,
              "#bd3786"
             ],
             [
              0.5555555555555556,
              "#d8576b"
             ],
             [
              0.6666666666666666,
              "#ed7953"
             ],
             [
              0.7777777777777778,
              "#fb9f3a"
             ],
             [
              0.8888888888888888,
              "#fdca26"
             ],
             [
              1,
              "#f0f921"
             ]
            ],
            "type": "histogram2dcontour"
           }
          ],
          "mesh3d": [
           {
            "colorbar": {
             "outlinewidth": 0,
             "ticks": ""
            },
            "type": "mesh3d"
           }
          ],
          "parcoords": [
           {
            "line": {
             "colorbar": {
              "outlinewidth": 0,
              "ticks": ""
             }
            },
            "type": "parcoords"
           }
          ],
          "pie": [
           {
            "automargin": true,
            "type": "pie"
           }
          ],
          "scatter": [
           {
            "marker": {
             "colorbar": {
              "outlinewidth": 0,
              "ticks": ""
             }
            },
            "type": "scatter"
           }
          ],
          "scatter3d": [
           {
            "line": {
             "colorbar": {
              "outlinewidth": 0,
              "ticks": ""
             }
            },
            "marker": {
             "colorbar": {
              "outlinewidth": 0,
              "ticks": ""
             }
            },
            "type": "scatter3d"
           }
          ],
          "scattercarpet": [
           {
            "marker": {
             "colorbar": {
              "outlinewidth": 0,
              "ticks": ""
             }
            },
            "type": "scattercarpet"
           }
          ],
          "scattergeo": [
           {
            "marker": {
             "colorbar": {
              "outlinewidth": 0,
              "ticks": ""
             }
            },
            "type": "scattergeo"
           }
          ],
          "scattergl": [
           {
            "marker": {
             "colorbar": {
              "outlinewidth": 0,
              "ticks": ""
             }
            },
            "type": "scattergl"
           }
          ],
          "scattermapbox": [
           {
            "marker": {
             "colorbar": {
              "outlinewidth": 0,
              "ticks": ""
             }
            },
            "type": "scattermapbox"
           }
          ],
          "scatterpolar": [
           {
            "marker": {
             "colorbar": {
              "outlinewidth": 0,
              "ticks": ""
             }
            },
            "type": "scatterpolar"
           }
          ],
          "scatterpolargl": [
           {
            "marker": {
             "colorbar": {
              "outlinewidth": 0,
              "ticks": ""
             }
            },
            "type": "scatterpolargl"
           }
          ],
          "scatterternary": [
           {
            "marker": {
             "colorbar": {
              "outlinewidth": 0,
              "ticks": ""
             }
            },
            "type": "scatterternary"
           }
          ],
          "surface": [
           {
            "colorbar": {
             "outlinewidth": 0,
             "ticks": ""
            },
            "colorscale": [
             [
              0,
              "#0d0887"
             ],
             [
              0.1111111111111111,
              "#46039f"
             ],
             [
              0.2222222222222222,
              "#7201a8"
             ],
             [
              0.3333333333333333,
              "#9c179e"
             ],
             [
              0.4444444444444444,
              "#bd3786"
             ],
             [
              0.5555555555555556,
              "#d8576b"
             ],
             [
              0.6666666666666666,
              "#ed7953"
             ],
             [
              0.7777777777777778,
              "#fb9f3a"
             ],
             [
              0.8888888888888888,
              "#fdca26"
             ],
             [
              1,
              "#f0f921"
             ]
            ],
            "type": "surface"
           }
          ],
          "table": [
           {
            "cells": {
             "fill": {
              "color": "#EBF0F8"
             },
             "line": {
              "color": "white"
             }
            },
            "header": {
             "fill": {
              "color": "#C8D4E3"
             },
             "line": {
              "color": "white"
             }
            },
            "type": "table"
           }
          ]
         },
         "layout": {
          "annotationdefaults": {
           "arrowcolor": "#2a3f5f",
           "arrowhead": 0,
           "arrowwidth": 1
          },
          "coloraxis": {
           "colorbar": {
            "outlinewidth": 0,
            "ticks": ""
           }
          },
          "colorscale": {
           "diverging": [
            [
             0,
             "#8e0152"
            ],
            [
             0.1,
             "#c51b7d"
            ],
            [
             0.2,
             "#de77ae"
            ],
            [
             0.3,
             "#f1b6da"
            ],
            [
             0.4,
             "#fde0ef"
            ],
            [
             0.5,
             "#f7f7f7"
            ],
            [
             0.6,
             "#e6f5d0"
            ],
            [
             0.7,
             "#b8e186"
            ],
            [
             0.8,
             "#7fbc41"
            ],
            [
             0.9,
             "#4d9221"
            ],
            [
             1,
             "#276419"
            ]
           ],
           "sequential": [
            [
             0,
             "#0d0887"
            ],
            [
             0.1111111111111111,
             "#46039f"
            ],
            [
             0.2222222222222222,
             "#7201a8"
            ],
            [
             0.3333333333333333,
             "#9c179e"
            ],
            [
             0.4444444444444444,
             "#bd3786"
            ],
            [
             0.5555555555555556,
             "#d8576b"
            ],
            [
             0.6666666666666666,
             "#ed7953"
            ],
            [
             0.7777777777777778,
             "#fb9f3a"
            ],
            [
             0.8888888888888888,
             "#fdca26"
            ],
            [
             1,
             "#f0f921"
            ]
           ],
           "sequentialminus": [
            [
             0,
             "#0d0887"
            ],
            [
             0.1111111111111111,
             "#46039f"
            ],
            [
             0.2222222222222222,
             "#7201a8"
            ],
            [
             0.3333333333333333,
             "#9c179e"
            ],
            [
             0.4444444444444444,
             "#bd3786"
            ],
            [
             0.5555555555555556,
             "#d8576b"
            ],
            [
             0.6666666666666666,
             "#ed7953"
            ],
            [
             0.7777777777777778,
             "#fb9f3a"
            ],
            [
             0.8888888888888888,
             "#fdca26"
            ],
            [
             1,
             "#f0f921"
            ]
           ]
          },
          "colorway": [
           "#636efa",
           "#EF553B",
           "#00cc96",
           "#ab63fa",
           "#FFA15A",
           "#19d3f3",
           "#FF6692",
           "#B6E880",
           "#FF97FF",
           "#FECB52"
          ],
          "font": {
           "color": "#2a3f5f"
          },
          "geo": {
           "bgcolor": "white",
           "lakecolor": "white",
           "landcolor": "#E5ECF6",
           "showlakes": true,
           "showland": true,
           "subunitcolor": "white"
          },
          "hoverlabel": {
           "align": "left"
          },
          "hovermode": "closest",
          "mapbox": {
           "style": "light"
          },
          "paper_bgcolor": "white",
          "plot_bgcolor": "#E5ECF6",
          "polar": {
           "angularaxis": {
            "gridcolor": "white",
            "linecolor": "white",
            "ticks": ""
           },
           "bgcolor": "#E5ECF6",
           "radialaxis": {
            "gridcolor": "white",
            "linecolor": "white",
            "ticks": ""
           }
          },
          "scene": {
           "xaxis": {
            "backgroundcolor": "#E5ECF6",
            "gridcolor": "white",
            "gridwidth": 2,
            "linecolor": "white",
            "showbackground": true,
            "ticks": "",
            "zerolinecolor": "white"
           },
           "yaxis": {
            "backgroundcolor": "#E5ECF6",
            "gridcolor": "white",
            "gridwidth": 2,
            "linecolor": "white",
            "showbackground": true,
            "ticks": "",
            "zerolinecolor": "white"
           },
           "zaxis": {
            "backgroundcolor": "#E5ECF6",
            "gridcolor": "white",
            "gridwidth": 2,
            "linecolor": "white",
            "showbackground": true,
            "ticks": "",
            "zerolinecolor": "white"
           }
          },
          "shapedefaults": {
           "line": {
            "color": "#2a3f5f"
           }
          },
          "ternary": {
           "aaxis": {
            "gridcolor": "white",
            "linecolor": "white",
            "ticks": ""
           },
           "baxis": {
            "gridcolor": "white",
            "linecolor": "white",
            "ticks": ""
           },
           "bgcolor": "#E5ECF6",
           "caxis": {
            "gridcolor": "white",
            "linecolor": "white",
            "ticks": ""
           }
          },
          "title": {
           "x": 0.05
          },
          "xaxis": {
           "automargin": true,
           "gridcolor": "white",
           "linecolor": "white",
           "ticks": "",
           "title": {
            "standoff": 15
           },
           "zerolinecolor": "white",
           "zerolinewidth": 2
          },
          "yaxis": {
           "automargin": true,
           "gridcolor": "white",
           "linecolor": "white",
           "ticks": "",
           "title": {
            "standoff": 15
           },
           "zerolinecolor": "white",
           "zerolinewidth": 2
          }
         }
        }
       }
      },
      "text/html": [
       "<div>\n",
       "        \n",
       "        \n",
       "            <div id=\"41064eae-0dce-4103-930a-698b56f8ab72\" class=\"plotly-graph-div\" style=\"height:525px; width:100%;\"></div>\n",
       "            <script type=\"text/javascript\">\n",
       "                require([\"plotly\"], function(Plotly) {\n",
       "                    window.PLOTLYENV=window.PLOTLYENV || {};\n",
       "                    \n",
       "                if (document.getElementById(\"41064eae-0dce-4103-930a-698b56f8ab72\")) {\n",
       "                    Plotly.newPlot(\n",
       "                        '41064eae-0dce-4103-930a-698b56f8ab72',\n",
       "                        [{\"branchvalues\": \"total\", \"customdata\": [[\"Won\"], [\"Lost (why?)\"], [\"Won\"], [\"Won\"], [\"Won\"], [\"Won\"], [\"Won\"], [\"Won\"], [\"Won\"], [\"Won\"], [\"Lost (why?)\"], [\"Won\"], [\"Won\"], [\"Won\"]], \"domain\": {\"x\": [0.0, 1.0], \"y\": [0.0, 1.0]}, \"hoverlabel\": {\"namelength\": 0}, \"hovertemplate\": \"Stage=%{customdata[0]}<br>labels=%{label}<br>PotentialValue=%{value}<br>parent=%{parent}<br>id=%{id}\", \"ids\": [\"San Antonio\", \"Houston NOV/Lost (why?)\", \"Austin/Won\", \"Corpus Christi/Won\", \"Houston OEM/Won\", \"Midland/Won\", \"OKC/Won\", \"San Antonio/Won\", \"Austin\", \"Corpus Christi\", \"Houston NOV\", \"Houston OEM\", \"Midland\", \"OKC\"], \"labels\": [\"San Antonio\", \"Lost (why?)\", \"Won\", \"Won\", \"Won\", \"Won\", \"Won\", \"Won\", \"Austin\", \"Corpus Christi\", \"Houston NOV\", \"Houston OEM\", \"Midland\", \"OKC\"], \"marker\": {\"colors\": [\"#636efa\", \"#EF553B\", \"#636efa\", \"#636efa\", \"#636efa\", \"#636efa\", \"#636efa\", \"#636efa\", \"#636efa\", \"#636efa\", \"#EF553B\", \"#636efa\", \"#636efa\", \"#636efa\"]}, \"name\": \"\", \"parents\": [\"\", \"Houston NOV\", \"Austin\", \"Corpus Christi\", \"Houston OEM\", \"Midland\", \"OKC\", \"San Antonio\", \"\", \"\", \"\", \"\", \"\", \"\"], \"type\": \"sunburst\", \"values\": [31000, 50000, 105540, 320000, 520067, 99000, 262500, 31000, 105540, 320000, 50000, 520067, 99000, 262500]}],\n",
       "                        {\"legend\": {\"tracegroupgap\": 0}, \"margin\": {\"t\": 60}, \"template\": {\"data\": {\"bar\": [{\"error_x\": {\"color\": \"#2a3f5f\"}, \"error_y\": {\"color\": \"#2a3f5f\"}, \"marker\": {\"line\": {\"color\": \"#E5ECF6\", \"width\": 0.5}}, \"type\": \"bar\"}], \"barpolar\": [{\"marker\": {\"line\": {\"color\": \"#E5ECF6\", \"width\": 0.5}}, \"type\": \"barpolar\"}], \"carpet\": [{\"aaxis\": {\"endlinecolor\": \"#2a3f5f\", \"gridcolor\": \"white\", \"linecolor\": \"white\", \"minorgridcolor\": \"white\", \"startlinecolor\": \"#2a3f5f\"}, \"baxis\": {\"endlinecolor\": \"#2a3f5f\", \"gridcolor\": \"white\", \"linecolor\": \"white\", \"minorgridcolor\": \"white\", \"startlinecolor\": \"#2a3f5f\"}, \"type\": \"carpet\"}], \"choropleth\": [{\"colorbar\": {\"outlinewidth\": 0, \"ticks\": \"\"}, \"type\": \"choropleth\"}], \"contour\": [{\"colorbar\": {\"outlinewidth\": 0, \"ticks\": \"\"}, \"colorscale\": [[0.0, \"#0d0887\"], [0.1111111111111111, \"#46039f\"], [0.2222222222222222, \"#7201a8\"], [0.3333333333333333, \"#9c179e\"], [0.4444444444444444, \"#bd3786\"], [0.5555555555555556, \"#d8576b\"], [0.6666666666666666, \"#ed7953\"], [0.7777777777777778, \"#fb9f3a\"], [0.8888888888888888, \"#fdca26\"], [1.0, \"#f0f921\"]], \"type\": \"contour\"}], \"contourcarpet\": [{\"colorbar\": {\"outlinewidth\": 0, \"ticks\": \"\"}, \"type\": \"contourcarpet\"}], \"heatmap\": [{\"colorbar\": {\"outlinewidth\": 0, \"ticks\": \"\"}, \"colorscale\": [[0.0, \"#0d0887\"], [0.1111111111111111, \"#46039f\"], [0.2222222222222222, \"#7201a8\"], [0.3333333333333333, \"#9c179e\"], [0.4444444444444444, \"#bd3786\"], [0.5555555555555556, \"#d8576b\"], [0.6666666666666666, \"#ed7953\"], [0.7777777777777778, \"#fb9f3a\"], [0.8888888888888888, \"#fdca26\"], [1.0, \"#f0f921\"]], \"type\": \"heatmap\"}], \"heatmapgl\": [{\"colorbar\": {\"outlinewidth\": 0, \"ticks\": \"\"}, \"colorscale\": [[0.0, \"#0d0887\"], [0.1111111111111111, \"#46039f\"], [0.2222222222222222, \"#7201a8\"], [0.3333333333333333, \"#9c179e\"], [0.4444444444444444, \"#bd3786\"], [0.5555555555555556, \"#d8576b\"], [0.6666666666666666, \"#ed7953\"], [0.7777777777777778, \"#fb9f3a\"], [0.8888888888888888, \"#fdca26\"], [1.0, \"#f0f921\"]], \"type\": \"heatmapgl\"}], \"histogram\": [{\"marker\": {\"colorbar\": {\"outlinewidth\": 0, \"ticks\": \"\"}}, \"type\": \"histogram\"}], \"histogram2d\": [{\"colorbar\": {\"outlinewidth\": 0, \"ticks\": \"\"}, \"colorscale\": [[0.0, \"#0d0887\"], [0.1111111111111111, \"#46039f\"], [0.2222222222222222, \"#7201a8\"], [0.3333333333333333, \"#9c179e\"], [0.4444444444444444, \"#bd3786\"], [0.5555555555555556, \"#d8576b\"], [0.6666666666666666, \"#ed7953\"], [0.7777777777777778, \"#fb9f3a\"], [0.8888888888888888, \"#fdca26\"], [1.0, \"#f0f921\"]], \"type\": \"histogram2d\"}], \"histogram2dcontour\": [{\"colorbar\": {\"outlinewidth\": 0, \"ticks\": \"\"}, \"colorscale\": [[0.0, \"#0d0887\"], [0.1111111111111111, \"#46039f\"], [0.2222222222222222, \"#7201a8\"], [0.3333333333333333, \"#9c179e\"], [0.4444444444444444, \"#bd3786\"], [0.5555555555555556, \"#d8576b\"], [0.6666666666666666, \"#ed7953\"], [0.7777777777777778, \"#fb9f3a\"], [0.8888888888888888, \"#fdca26\"], [1.0, \"#f0f921\"]], \"type\": \"histogram2dcontour\"}], \"mesh3d\": [{\"colorbar\": {\"outlinewidth\": 0, \"ticks\": \"\"}, \"type\": \"mesh3d\"}], \"parcoords\": [{\"line\": {\"colorbar\": {\"outlinewidth\": 0, \"ticks\": \"\"}}, \"type\": \"parcoords\"}], \"pie\": [{\"automargin\": true, \"type\": \"pie\"}], \"scatter\": [{\"marker\": {\"colorbar\": {\"outlinewidth\": 0, \"ticks\": \"\"}}, \"type\": \"scatter\"}], \"scatter3d\": [{\"line\": {\"colorbar\": {\"outlinewidth\": 0, \"ticks\": \"\"}}, \"marker\": {\"colorbar\": {\"outlinewidth\": 0, \"ticks\": \"\"}}, \"type\": \"scatter3d\"}], \"scattercarpet\": [{\"marker\": {\"colorbar\": {\"outlinewidth\": 0, \"ticks\": \"\"}}, \"type\": \"scattercarpet\"}], \"scattergeo\": [{\"marker\": {\"colorbar\": {\"outlinewidth\": 0, \"ticks\": \"\"}}, \"type\": \"scattergeo\"}], \"scattergl\": [{\"marker\": {\"colorbar\": {\"outlinewidth\": 0, \"ticks\": \"\"}}, \"type\": \"scattergl\"}], \"scattermapbox\": [{\"marker\": {\"colorbar\": {\"outlinewidth\": 0, \"ticks\": \"\"}}, \"type\": \"scattermapbox\"}], \"scatterpolar\": [{\"marker\": {\"colorbar\": {\"outlinewidth\": 0, \"ticks\": \"\"}}, \"type\": \"scatterpolar\"}], \"scatterpolargl\": [{\"marker\": {\"colorbar\": {\"outlinewidth\": 0, \"ticks\": \"\"}}, \"type\": \"scatterpolargl\"}], \"scatterternary\": [{\"marker\": {\"colorbar\": {\"outlinewidth\": 0, \"ticks\": \"\"}}, \"type\": \"scatterternary\"}], \"surface\": [{\"colorbar\": {\"outlinewidth\": 0, \"ticks\": \"\"}, \"colorscale\": [[0.0, \"#0d0887\"], [0.1111111111111111, \"#46039f\"], [0.2222222222222222, \"#7201a8\"], [0.3333333333333333, \"#9c179e\"], [0.4444444444444444, \"#bd3786\"], [0.5555555555555556, \"#d8576b\"], [0.6666666666666666, \"#ed7953\"], [0.7777777777777778, \"#fb9f3a\"], [0.8888888888888888, \"#fdca26\"], [1.0, \"#f0f921\"]], \"type\": \"surface\"}], \"table\": [{\"cells\": {\"fill\": {\"color\": \"#EBF0F8\"}, \"line\": {\"color\": \"white\"}}, \"header\": {\"fill\": {\"color\": \"#C8D4E3\"}, \"line\": {\"color\": \"white\"}}, \"type\": \"table\"}]}, \"layout\": {\"annotationdefaults\": {\"arrowcolor\": \"#2a3f5f\", \"arrowhead\": 0, \"arrowwidth\": 1}, \"coloraxis\": {\"colorbar\": {\"outlinewidth\": 0, \"ticks\": \"\"}}, \"colorscale\": {\"diverging\": [[0, \"#8e0152\"], [0.1, \"#c51b7d\"], [0.2, \"#de77ae\"], [0.3, \"#f1b6da\"], [0.4, \"#fde0ef\"], [0.5, \"#f7f7f7\"], [0.6, \"#e6f5d0\"], [0.7, \"#b8e186\"], [0.8, \"#7fbc41\"], [0.9, \"#4d9221\"], [1, \"#276419\"]], \"sequential\": [[0.0, \"#0d0887\"], [0.1111111111111111, \"#46039f\"], [0.2222222222222222, \"#7201a8\"], [0.3333333333333333, \"#9c179e\"], [0.4444444444444444, \"#bd3786\"], [0.5555555555555556, \"#d8576b\"], [0.6666666666666666, \"#ed7953\"], [0.7777777777777778, \"#fb9f3a\"], [0.8888888888888888, \"#fdca26\"], [1.0, \"#f0f921\"]], \"sequentialminus\": [[0.0, \"#0d0887\"], [0.1111111111111111, \"#46039f\"], [0.2222222222222222, \"#7201a8\"], [0.3333333333333333, \"#9c179e\"], [0.4444444444444444, \"#bd3786\"], [0.5555555555555556, \"#d8576b\"], [0.6666666666666666, \"#ed7953\"], [0.7777777777777778, \"#fb9f3a\"], [0.8888888888888888, \"#fdca26\"], [1.0, \"#f0f921\"]]}, \"colorway\": [\"#636efa\", \"#EF553B\", \"#00cc96\", \"#ab63fa\", \"#FFA15A\", \"#19d3f3\", \"#FF6692\", \"#B6E880\", \"#FF97FF\", \"#FECB52\"], \"font\": {\"color\": \"#2a3f5f\"}, \"geo\": {\"bgcolor\": \"white\", \"lakecolor\": \"white\", \"landcolor\": \"#E5ECF6\", \"showlakes\": true, \"showland\": true, \"subunitcolor\": \"white\"}, \"hoverlabel\": {\"align\": \"left\"}, \"hovermode\": \"closest\", \"mapbox\": {\"style\": \"light\"}, \"paper_bgcolor\": \"white\", \"plot_bgcolor\": \"#E5ECF6\", \"polar\": {\"angularaxis\": {\"gridcolor\": \"white\", \"linecolor\": \"white\", \"ticks\": \"\"}, \"bgcolor\": \"#E5ECF6\", \"radialaxis\": {\"gridcolor\": \"white\", \"linecolor\": \"white\", \"ticks\": \"\"}}, \"scene\": {\"xaxis\": {\"backgroundcolor\": \"#E5ECF6\", \"gridcolor\": \"white\", \"gridwidth\": 2, \"linecolor\": \"white\", \"showbackground\": true, \"ticks\": \"\", \"zerolinecolor\": \"white\"}, \"yaxis\": {\"backgroundcolor\": \"#E5ECF6\", \"gridcolor\": \"white\", \"gridwidth\": 2, \"linecolor\": \"white\", \"showbackground\": true, \"ticks\": \"\", \"zerolinecolor\": \"white\"}, \"zaxis\": {\"backgroundcolor\": \"#E5ECF6\", \"gridcolor\": \"white\", \"gridwidth\": 2, \"linecolor\": \"white\", \"showbackground\": true, \"ticks\": \"\", \"zerolinecolor\": \"white\"}}, \"shapedefaults\": {\"line\": {\"color\": \"#2a3f5f\"}}, \"ternary\": {\"aaxis\": {\"gridcolor\": \"white\", \"linecolor\": \"white\", \"ticks\": \"\"}, \"baxis\": {\"gridcolor\": \"white\", \"linecolor\": \"white\", \"ticks\": \"\"}, \"bgcolor\": \"#E5ECF6\", \"caxis\": {\"gridcolor\": \"white\", \"linecolor\": \"white\", \"ticks\": \"\"}}, \"title\": {\"x\": 0.05}, \"xaxis\": {\"automargin\": true, \"gridcolor\": \"white\", \"linecolor\": \"white\", \"ticks\": \"\", \"title\": {\"standoff\": 15}, \"zerolinecolor\": \"white\", \"zerolinewidth\": 2}, \"yaxis\": {\"automargin\": true, \"gridcolor\": \"white\", \"linecolor\": \"white\", \"ticks\": \"\", \"title\": {\"standoff\": 15}, \"zerolinecolor\": \"white\", \"zerolinewidth\": 2}}}},\n",
       "                        {\"responsive\": true}\n",
       "                    ).then(function(){\n",
       "                            \n",
       "var gd = document.getElementById('41064eae-0dce-4103-930a-698b56f8ab72');\n",
       "var x = new MutationObserver(function (mutations, observer) {{\n",
       "        var display = window.getComputedStyle(gd).display;\n",
       "        if (!display || display === 'none') {{\n",
       "            console.log([gd, 'removed!']);\n",
       "            Plotly.purge(gd);\n",
       "            observer.disconnect();\n",
       "        }}\n",
       "}});\n",
       "\n",
       "// Listen for the removal of the full notebook cells\n",
       "var notebookContainer = gd.closest('#notebook-container');\n",
       "if (notebookContainer) {{\n",
       "    x.observe(notebookContainer, {childList: true});\n",
       "}}\n",
       "\n",
       "// Listen for the clearing of the current output cell\n",
       "var outputEl = gd.closest('.output');\n",
       "if (outputEl) {{\n",
       "    x.observe(outputEl, {childList: true});\n",
       "}}\n",
       "\n",
       "                        })\n",
       "                };\n",
       "                });\n",
       "            </script>\n",
       "        </div>"
      ]
     },
     "metadata": {},
     "output_type": "display_data"
    }
   ],
   "source": [
    "import plotly.express as px\n",
    "dff = df_num[df_num[\"Stage\"].isin(['Won','Lost (why?)'])]\n",
    "fig = px.sunburst(dff, path=['Branch','Stage'], values='PotentialValue', color='Stage')\n",
    "fig.show()"
   ]
  },
  {
   "cell_type": "code",
   "execution_count": null,
   "metadata": {},
   "outputs": [],
   "source": []
  },
  {
   "cell_type": "code",
   "execution_count": 59,
   "metadata": {},
   "outputs": [
    {
     "data": {
      "application/vnd.plotly.v1+json": {
       "config": {
        "plotlyServerURL": "https://plot.ly"
       },
       "data": [
        {
         "branchvalues": "total",
         "customdata": [
          [
           "(?)"
          ],
          [
           "Discovery (S.P.I.N.)"
          ],
          [
           "Won"
          ],
          [
           "Discovery (S.P.I.N.)"
          ],
          [
           "Discovery (S.P.I.N.)"
          ],
          [
           "(?)"
          ],
          [
           "Lost (why?)"
          ],
          [
           "Won"
          ],
          [
           "Working"
          ],
          [
           "Working"
          ],
          [
           "Working"
          ],
          [
           "(?)"
          ],
          [
           "Working"
          ],
          [
           "Won"
          ],
          [
           "(?)"
          ],
          [
           "(?)"
          ],
          [
           "Working"
          ],
          [
           "(?)"
          ],
          [
           "Discovery (S.P.I.N.)"
          ],
          [
           "On Hold"
          ],
          [
           "Quoting"
          ],
          [
           "Discovery (S.P.I.N.)"
          ],
          [
           "Discovery (S.P.I.N.)"
          ],
          [
           "Quoting"
          ],
          [
           "On Hold"
          ],
          [
           "On Hold"
          ],
          [
           "Quoting"
          ],
          [
           "Quoting"
          ],
          [
           "On Hold"
          ],
          [
           "On Hold"
          ],
          [
           "Working"
          ],
          [
           "Solution Development"
          ],
          [
           "Quoting"
          ],
          [
           "Working"
          ],
          [
           "Quoting"
          ],
          [
           "Won"
          ],
          [
           "(?)"
          ],
          [
           "Won"
          ],
          [
           "Quoting"
          ],
          [
           "Won"
          ],
          [
           "Solution Development"
          ]
         ],
         "domain": {
          "x": [
           0,
           1
          ],
          "y": [
           0,
           1
          ]
         },
         "hoverlabel": {
          "namelength": 0
         },
         "hovertemplate": "Stage=%{customdata[0]}<br>labels=%{label}<br>value=%{value}<br>parent=%{parent}<br>id=%{id}",
         "ids": [
          "Austin",
          "Corpus Christi/Discovery (S.P.I.N.)",
          "Houston OEM/Won",
          "Houston OEM/Discovery (S.P.I.N.)",
          "OKC/Discovery (S.P.I.N.)",
          "Houston OEM",
          "Houston NOV/Lost (why?)",
          "San Antonio/Won",
          "San Antonio/Working",
          "Austin/Working",
          "Corpus Christi/Working",
          "San Antonio",
          "Houston OEM/Working",
          "Corpus Christi/Won",
          "Houston NOV",
          "Midland",
          "Houston NOV/Working",
          "OKC",
          "Austin/Discovery (S.P.I.N.)",
          "San Antonio/On Hold",
          "OKC/Quoting",
          "Houston NOV/Discovery (S.P.I.N.)",
          "San Antonio/Discovery (S.P.I.N.)",
          "Houston OEM/Quoting",
          "Austin/On Hold",
          "Houston NOV/On Hold",
          "Corpus Christi/Quoting",
          "Austin/Quoting",
          "OKC/On Hold",
          "Corpus Christi/On Hold",
          "Midland/Working",
          "Houston OEM/Solution Development",
          "San Antonio/Quoting",
          "OKC/Working",
          "Houston NOV/Quoting",
          "OKC/Won",
          "Corpus Christi",
          "Midland/Won",
          "Midland/Quoting",
          "Austin/Won",
          "OKC/Solution Development"
         ],
         "labels": [
          "Austin",
          "Discovery (S.P.I.N.)",
          "Won",
          "Discovery (S.P.I.N.)",
          "Discovery (S.P.I.N.)",
          "Houston OEM",
          "Lost (why?)",
          "Won",
          "Working",
          "Working",
          "Working",
          "San Antonio",
          "Working",
          "Won",
          "Houston NOV",
          "Midland",
          "Working",
          "OKC",
          "Discovery (S.P.I.N.)",
          "On Hold",
          "Quoting",
          "Discovery (S.P.I.N.)",
          "Discovery (S.P.I.N.)",
          "Quoting",
          "On Hold",
          "On Hold",
          "Quoting",
          "Quoting",
          "On Hold",
          "On Hold",
          "Working",
          "Solution Development",
          "Quoting",
          "Working",
          "Quoting",
          "Won",
          "Corpus Christi",
          "Won",
          "Quoting",
          "Won",
          "Solution Development"
         ],
         "marker": {
          "colors": [
           "#636efa",
           "#EF553B",
           "#00cc96",
           "#EF553B",
           "#EF553B",
           "#636efa",
           "#ab63fa",
           "#00cc96",
           "#FFA15A",
           "#FFA15A",
           "#FFA15A",
           "#636efa",
           "#FFA15A",
           "#00cc96",
           "#636efa",
           "#636efa",
           "#FFA15A",
           "#636efa",
           "#EF553B",
           "#19d3f3",
           "#FF6692",
           "#EF553B",
           "#EF553B",
           "#FF6692",
           "#19d3f3",
           "#19d3f3",
           "#FF6692",
           "#FF6692",
           "#19d3f3",
           "#19d3f3",
           "#FFA15A",
           "#B6E880",
           "#FF6692",
           "#FFA15A",
           "#FF6692",
           "#00cc96",
           "#636efa",
           "#00cc96",
           "#FF6692",
           "#00cc96",
           "#B6E880"
          ]
         },
         "name": "",
         "parents": [
          "",
          "Corpus Christi",
          "Houston OEM",
          "Houston OEM",
          "OKC",
          "",
          "Houston NOV",
          "San Antonio",
          "San Antonio",
          "Austin",
          "Corpus Christi",
          "",
          "Houston OEM",
          "Corpus Christi",
          "",
          "",
          "Houston NOV",
          "",
          "Austin",
          "San Antonio",
          "OKC",
          "Houston NOV",
          "San Antonio",
          "Houston OEM",
          "Austin",
          "Houston NOV",
          "Corpus Christi",
          "Austin",
          "OKC",
          "Corpus Christi",
          "Midland",
          "Houston OEM",
          "San Antonio",
          "OKC",
          "Houston NOV",
          "OKC",
          "",
          "Midland",
          "Midland",
          "Austin",
          "OKC"
         ],
         "type": "sunburst",
         "values": [
          52,
          1,
          9,
          12,
          3,
          76,
          1,
          2,
          6,
          9,
          5,
          20,
          12,
          3,
          22,
          21,
          7,
          20,
          14,
          2,
          4,
          2,
          2,
          36,
          4,
          5,
          8,
          21,
          1,
          1,
          12,
          7,
          8,
          7,
          7,
          4,
          18,
          3,
          6,
          4,
          1
         ]
        }
       ],
       "layout": {
        "legend": {
         "tracegroupgap": 0
        },
        "margin": {
         "t": 60
        },
        "template": {
         "data": {
          "bar": [
           {
            "error_x": {
             "color": "#2a3f5f"
            },
            "error_y": {
             "color": "#2a3f5f"
            },
            "marker": {
             "line": {
              "color": "#E5ECF6",
              "width": 0.5
             }
            },
            "type": "bar"
           }
          ],
          "barpolar": [
           {
            "marker": {
             "line": {
              "color": "#E5ECF6",
              "width": 0.5
             }
            },
            "type": "barpolar"
           }
          ],
          "carpet": [
           {
            "aaxis": {
             "endlinecolor": "#2a3f5f",
             "gridcolor": "white",
             "linecolor": "white",
             "minorgridcolor": "white",
             "startlinecolor": "#2a3f5f"
            },
            "baxis": {
             "endlinecolor": "#2a3f5f",
             "gridcolor": "white",
             "linecolor": "white",
             "minorgridcolor": "white",
             "startlinecolor": "#2a3f5f"
            },
            "type": "carpet"
           }
          ],
          "choropleth": [
           {
            "colorbar": {
             "outlinewidth": 0,
             "ticks": ""
            },
            "type": "choropleth"
           }
          ],
          "contour": [
           {
            "colorbar": {
             "outlinewidth": 0,
             "ticks": ""
            },
            "colorscale": [
             [
              0,
              "#0d0887"
             ],
             [
              0.1111111111111111,
              "#46039f"
             ],
             [
              0.2222222222222222,
              "#7201a8"
             ],
             [
              0.3333333333333333,
              "#9c179e"
             ],
             [
              0.4444444444444444,
              "#bd3786"
             ],
             [
              0.5555555555555556,
              "#d8576b"
             ],
             [
              0.6666666666666666,
              "#ed7953"
             ],
             [
              0.7777777777777778,
              "#fb9f3a"
             ],
             [
              0.8888888888888888,
              "#fdca26"
             ],
             [
              1,
              "#f0f921"
             ]
            ],
            "type": "contour"
           }
          ],
          "contourcarpet": [
           {
            "colorbar": {
             "outlinewidth": 0,
             "ticks": ""
            },
            "type": "contourcarpet"
           }
          ],
          "heatmap": [
           {
            "colorbar": {
             "outlinewidth": 0,
             "ticks": ""
            },
            "colorscale": [
             [
              0,
              "#0d0887"
             ],
             [
              0.1111111111111111,
              "#46039f"
             ],
             [
              0.2222222222222222,
              "#7201a8"
             ],
             [
              0.3333333333333333,
              "#9c179e"
             ],
             [
              0.4444444444444444,
              "#bd3786"
             ],
             [
              0.5555555555555556,
              "#d8576b"
             ],
             [
              0.6666666666666666,
              "#ed7953"
             ],
             [
              0.7777777777777778,
              "#fb9f3a"
             ],
             [
              0.8888888888888888,
              "#fdca26"
             ],
             [
              1,
              "#f0f921"
             ]
            ],
            "type": "heatmap"
           }
          ],
          "heatmapgl": [
           {
            "colorbar": {
             "outlinewidth": 0,
             "ticks": ""
            },
            "colorscale": [
             [
              0,
              "#0d0887"
             ],
             [
              0.1111111111111111,
              "#46039f"
             ],
             [
              0.2222222222222222,
              "#7201a8"
             ],
             [
              0.3333333333333333,
              "#9c179e"
             ],
             [
              0.4444444444444444,
              "#bd3786"
             ],
             [
              0.5555555555555556,
              "#d8576b"
             ],
             [
              0.6666666666666666,
              "#ed7953"
             ],
             [
              0.7777777777777778,
              "#fb9f3a"
             ],
             [
              0.8888888888888888,
              "#fdca26"
             ],
             [
              1,
              "#f0f921"
             ]
            ],
            "type": "heatmapgl"
           }
          ],
          "histogram": [
           {
            "marker": {
             "colorbar": {
              "outlinewidth": 0,
              "ticks": ""
             }
            },
            "type": "histogram"
           }
          ],
          "histogram2d": [
           {
            "colorbar": {
             "outlinewidth": 0,
             "ticks": ""
            },
            "colorscale": [
             [
              0,
              "#0d0887"
             ],
             [
              0.1111111111111111,
              "#46039f"
             ],
             [
              0.2222222222222222,
              "#7201a8"
             ],
             [
              0.3333333333333333,
              "#9c179e"
             ],
             [
              0.4444444444444444,
              "#bd3786"
             ],
             [
              0.5555555555555556,
              "#d8576b"
             ],
             [
              0.6666666666666666,
              "#ed7953"
             ],
             [
              0.7777777777777778,
              "#fb9f3a"
             ],
             [
              0.8888888888888888,
              "#fdca26"
             ],
             [
              1,
              "#f0f921"
             ]
            ],
            "type": "histogram2d"
           }
          ],
          "histogram2dcontour": [
           {
            "colorbar": {
             "outlinewidth": 0,
             "ticks": ""
            },
            "colorscale": [
             [
              0,
              "#0d0887"
             ],
             [
              0.1111111111111111,
              "#46039f"
             ],
             [
              0.2222222222222222,
              "#7201a8"
             ],
             [
              0.3333333333333333,
              "#9c179e"
             ],
             [
              0.4444444444444444,
              "#bd3786"
             ],
             [
              0.5555555555555556,
              "#d8576b"
             ],
             [
              0.6666666666666666,
              "#ed7953"
             ],
             [
              0.7777777777777778,
              "#fb9f3a"
             ],
             [
              0.8888888888888888,
              "#fdca26"
             ],
             [
              1,
              "#f0f921"
             ]
            ],
            "type": "histogram2dcontour"
           }
          ],
          "mesh3d": [
           {
            "colorbar": {
             "outlinewidth": 0,
             "ticks": ""
            },
            "type": "mesh3d"
           }
          ],
          "parcoords": [
           {
            "line": {
             "colorbar": {
              "outlinewidth": 0,
              "ticks": ""
             }
            },
            "type": "parcoords"
           }
          ],
          "pie": [
           {
            "automargin": true,
            "type": "pie"
           }
          ],
          "scatter": [
           {
            "marker": {
             "colorbar": {
              "outlinewidth": 0,
              "ticks": ""
             }
            },
            "type": "scatter"
           }
          ],
          "scatter3d": [
           {
            "line": {
             "colorbar": {
              "outlinewidth": 0,
              "ticks": ""
             }
            },
            "marker": {
             "colorbar": {
              "outlinewidth": 0,
              "ticks": ""
             }
            },
            "type": "scatter3d"
           }
          ],
          "scattercarpet": [
           {
            "marker": {
             "colorbar": {
              "outlinewidth": 0,
              "ticks": ""
             }
            },
            "type": "scattercarpet"
           }
          ],
          "scattergeo": [
           {
            "marker": {
             "colorbar": {
              "outlinewidth": 0,
              "ticks": ""
             }
            },
            "type": "scattergeo"
           }
          ],
          "scattergl": [
           {
            "marker": {
             "colorbar": {
              "outlinewidth": 0,
              "ticks": ""
             }
            },
            "type": "scattergl"
           }
          ],
          "scattermapbox": [
           {
            "marker": {
             "colorbar": {
              "outlinewidth": 0,
              "ticks": ""
             }
            },
            "type": "scattermapbox"
           }
          ],
          "scatterpolar": [
           {
            "marker": {
             "colorbar": {
              "outlinewidth": 0,
              "ticks": ""
             }
            },
            "type": "scatterpolar"
           }
          ],
          "scatterpolargl": [
           {
            "marker": {
             "colorbar": {
              "outlinewidth": 0,
              "ticks": ""
             }
            },
            "type": "scatterpolargl"
           }
          ],
          "scatterternary": [
           {
            "marker": {
             "colorbar": {
              "outlinewidth": 0,
              "ticks": ""
             }
            },
            "type": "scatterternary"
           }
          ],
          "surface": [
           {
            "colorbar": {
             "outlinewidth": 0,
             "ticks": ""
            },
            "colorscale": [
             [
              0,
              "#0d0887"
             ],
             [
              0.1111111111111111,
              "#46039f"
             ],
             [
              0.2222222222222222,
              "#7201a8"
             ],
             [
              0.3333333333333333,
              "#9c179e"
             ],
             [
              0.4444444444444444,
              "#bd3786"
             ],
             [
              0.5555555555555556,
              "#d8576b"
             ],
             [
              0.6666666666666666,
              "#ed7953"
             ],
             [
              0.7777777777777778,
              "#fb9f3a"
             ],
             [
              0.8888888888888888,
              "#fdca26"
             ],
             [
              1,
              "#f0f921"
             ]
            ],
            "type": "surface"
           }
          ],
          "table": [
           {
            "cells": {
             "fill": {
              "color": "#EBF0F8"
             },
             "line": {
              "color": "white"
             }
            },
            "header": {
             "fill": {
              "color": "#C8D4E3"
             },
             "line": {
              "color": "white"
             }
            },
            "type": "table"
           }
          ]
         },
         "layout": {
          "annotationdefaults": {
           "arrowcolor": "#2a3f5f",
           "arrowhead": 0,
           "arrowwidth": 1
          },
          "coloraxis": {
           "colorbar": {
            "outlinewidth": 0,
            "ticks": ""
           }
          },
          "colorscale": {
           "diverging": [
            [
             0,
             "#8e0152"
            ],
            [
             0.1,
             "#c51b7d"
            ],
            [
             0.2,
             "#de77ae"
            ],
            [
             0.3,
             "#f1b6da"
            ],
            [
             0.4,
             "#fde0ef"
            ],
            [
             0.5,
             "#f7f7f7"
            ],
            [
             0.6,
             "#e6f5d0"
            ],
            [
             0.7,
             "#b8e186"
            ],
            [
             0.8,
             "#7fbc41"
            ],
            [
             0.9,
             "#4d9221"
            ],
            [
             1,
             "#276419"
            ]
           ],
           "sequential": [
            [
             0,
             "#0d0887"
            ],
            [
             0.1111111111111111,
             "#46039f"
            ],
            [
             0.2222222222222222,
             "#7201a8"
            ],
            [
             0.3333333333333333,
             "#9c179e"
            ],
            [
             0.4444444444444444,
             "#bd3786"
            ],
            [
             0.5555555555555556,
             "#d8576b"
            ],
            [
             0.6666666666666666,
             "#ed7953"
            ],
            [
             0.7777777777777778,
             "#fb9f3a"
            ],
            [
             0.8888888888888888,
             "#fdca26"
            ],
            [
             1,
             "#f0f921"
            ]
           ],
           "sequentialminus": [
            [
             0,
             "#0d0887"
            ],
            [
             0.1111111111111111,
             "#46039f"
            ],
            [
             0.2222222222222222,
             "#7201a8"
            ],
            [
             0.3333333333333333,
             "#9c179e"
            ],
            [
             0.4444444444444444,
             "#bd3786"
            ],
            [
             0.5555555555555556,
             "#d8576b"
            ],
            [
             0.6666666666666666,
             "#ed7953"
            ],
            [
             0.7777777777777778,
             "#fb9f3a"
            ],
            [
             0.8888888888888888,
             "#fdca26"
            ],
            [
             1,
             "#f0f921"
            ]
           ]
          },
          "colorway": [
           "#636efa",
           "#EF553B",
           "#00cc96",
           "#ab63fa",
           "#FFA15A",
           "#19d3f3",
           "#FF6692",
           "#B6E880",
           "#FF97FF",
           "#FECB52"
          ],
          "font": {
           "color": "#2a3f5f"
          },
          "geo": {
           "bgcolor": "white",
           "lakecolor": "white",
           "landcolor": "#E5ECF6",
           "showlakes": true,
           "showland": true,
           "subunitcolor": "white"
          },
          "hoverlabel": {
           "align": "left"
          },
          "hovermode": "closest",
          "mapbox": {
           "style": "light"
          },
          "paper_bgcolor": "white",
          "plot_bgcolor": "#E5ECF6",
          "polar": {
           "angularaxis": {
            "gridcolor": "white",
            "linecolor": "white",
            "ticks": ""
           },
           "bgcolor": "#E5ECF6",
           "radialaxis": {
            "gridcolor": "white",
            "linecolor": "white",
            "ticks": ""
           }
          },
          "scene": {
           "xaxis": {
            "backgroundcolor": "#E5ECF6",
            "gridcolor": "white",
            "gridwidth": 2,
            "linecolor": "white",
            "showbackground": true,
            "ticks": "",
            "zerolinecolor": "white"
           },
           "yaxis": {
            "backgroundcolor": "#E5ECF6",
            "gridcolor": "white",
            "gridwidth": 2,
            "linecolor": "white",
            "showbackground": true,
            "ticks": "",
            "zerolinecolor": "white"
           },
           "zaxis": {
            "backgroundcolor": "#E5ECF6",
            "gridcolor": "white",
            "gridwidth": 2,
            "linecolor": "white",
            "showbackground": true,
            "ticks": "",
            "zerolinecolor": "white"
           }
          },
          "shapedefaults": {
           "line": {
            "color": "#2a3f5f"
           }
          },
          "ternary": {
           "aaxis": {
            "gridcolor": "white",
            "linecolor": "white",
            "ticks": ""
           },
           "baxis": {
            "gridcolor": "white",
            "linecolor": "white",
            "ticks": ""
           },
           "bgcolor": "#E5ECF6",
           "caxis": {
            "gridcolor": "white",
            "linecolor": "white",
            "ticks": ""
           }
          },
          "title": {
           "x": 0.05
          },
          "xaxis": {
           "automargin": true,
           "gridcolor": "white",
           "linecolor": "white",
           "ticks": "",
           "title": {
            "standoff": 15
           },
           "zerolinecolor": "white",
           "zerolinewidth": 2
          },
          "yaxis": {
           "automargin": true,
           "gridcolor": "white",
           "linecolor": "white",
           "ticks": "",
           "title": {
            "standoff": 15
           },
           "zerolinecolor": "white",
           "zerolinewidth": 2
          }
         }
        }
       }
      },
      "text/html": [
       "<div>\n",
       "        \n",
       "        \n",
       "            <div id=\"74bb6edf-9767-46a1-8f0f-d42afef3ea25\" class=\"plotly-graph-div\" style=\"height:525px; width:100%;\"></div>\n",
       "            <script type=\"text/javascript\">\n",
       "                require([\"plotly\"], function(Plotly) {\n",
       "                    window.PLOTLYENV=window.PLOTLYENV || {};\n",
       "                    \n",
       "                if (document.getElementById(\"74bb6edf-9767-46a1-8f0f-d42afef3ea25\")) {\n",
       "                    Plotly.newPlot(\n",
       "                        '74bb6edf-9767-46a1-8f0f-d42afef3ea25',\n",
       "                        [{\"branchvalues\": \"total\", \"customdata\": [[\"(?)\"], [\"Discovery (S.P.I.N.)\"], [\"Won\"], [\"Discovery (S.P.I.N.)\"], [\"Discovery (S.P.I.N.)\"], [\"(?)\"], [\"Lost (why?)\"], [\"Won\"], [\"Working\"], [\"Working\"], [\"Working\"], [\"(?)\"], [\"Working\"], [\"Won\"], [\"(?)\"], [\"(?)\"], [\"Working\"], [\"(?)\"], [\"Discovery (S.P.I.N.)\"], [\"On Hold\"], [\"Quoting\"], [\"Discovery (S.P.I.N.)\"], [\"Discovery (S.P.I.N.)\"], [\"Quoting\"], [\"On Hold\"], [\"On Hold\"], [\"Quoting\"], [\"Quoting\"], [\"On Hold\"], [\"On Hold\"], [\"Working\"], [\"Solution Development\"], [\"Quoting\"], [\"Working\"], [\"Quoting\"], [\"Won\"], [\"(?)\"], [\"Won\"], [\"Quoting\"], [\"Won\"], [\"Solution Development\"]], \"domain\": {\"x\": [0.0, 1.0], \"y\": [0.0, 1.0]}, \"hoverlabel\": {\"namelength\": 0}, \"hovertemplate\": \"Stage=%{customdata[0]}<br>labels=%{label}<br>value=%{value}<br>parent=%{parent}<br>id=%{id}\", \"ids\": [\"Austin\", \"Corpus Christi/Discovery (S.P.I.N.)\", \"Houston OEM/Won\", \"Houston OEM/Discovery (S.P.I.N.)\", \"OKC/Discovery (S.P.I.N.)\", \"Houston OEM\", \"Houston NOV/Lost (why?)\", \"San Antonio/Won\", \"San Antonio/Working\", \"Austin/Working\", \"Corpus Christi/Working\", \"San Antonio\", \"Houston OEM/Working\", \"Corpus Christi/Won\", \"Houston NOV\", \"Midland\", \"Houston NOV/Working\", \"OKC\", \"Austin/Discovery (S.P.I.N.)\", \"San Antonio/On Hold\", \"OKC/Quoting\", \"Houston NOV/Discovery (S.P.I.N.)\", \"San Antonio/Discovery (S.P.I.N.)\", \"Houston OEM/Quoting\", \"Austin/On Hold\", \"Houston NOV/On Hold\", \"Corpus Christi/Quoting\", \"Austin/Quoting\", \"OKC/On Hold\", \"Corpus Christi/On Hold\", \"Midland/Working\", \"Houston OEM/Solution Development\", \"San Antonio/Quoting\", \"OKC/Working\", \"Houston NOV/Quoting\", \"OKC/Won\", \"Corpus Christi\", \"Midland/Won\", \"Midland/Quoting\", \"Austin/Won\", \"OKC/Solution Development\"], \"labels\": [\"Austin\", \"Discovery (S.P.I.N.)\", \"Won\", \"Discovery (S.P.I.N.)\", \"Discovery (S.P.I.N.)\", \"Houston OEM\", \"Lost (why?)\", \"Won\", \"Working\", \"Working\", \"Working\", \"San Antonio\", \"Working\", \"Won\", \"Houston NOV\", \"Midland\", \"Working\", \"OKC\", \"Discovery (S.P.I.N.)\", \"On Hold\", \"Quoting\", \"Discovery (S.P.I.N.)\", \"Discovery (S.P.I.N.)\", \"Quoting\", \"On Hold\", \"On Hold\", \"Quoting\", \"Quoting\", \"On Hold\", \"On Hold\", \"Working\", \"Solution Development\", \"Quoting\", \"Working\", \"Quoting\", \"Won\", \"Corpus Christi\", \"Won\", \"Quoting\", \"Won\", \"Solution Development\"], \"marker\": {\"colors\": [\"#636efa\", \"#EF553B\", \"#00cc96\", \"#EF553B\", \"#EF553B\", \"#636efa\", \"#ab63fa\", \"#00cc96\", \"#FFA15A\", \"#FFA15A\", \"#FFA15A\", \"#636efa\", \"#FFA15A\", \"#00cc96\", \"#636efa\", \"#636efa\", \"#FFA15A\", \"#636efa\", \"#EF553B\", \"#19d3f3\", \"#FF6692\", \"#EF553B\", \"#EF553B\", \"#FF6692\", \"#19d3f3\", \"#19d3f3\", \"#FF6692\", \"#FF6692\", \"#19d3f3\", \"#19d3f3\", \"#FFA15A\", \"#B6E880\", \"#FF6692\", \"#FFA15A\", \"#FF6692\", \"#00cc96\", \"#636efa\", \"#00cc96\", \"#FF6692\", \"#00cc96\", \"#B6E880\"]}, \"name\": \"\", \"parents\": [\"\", \"Corpus Christi\", \"Houston OEM\", \"Houston OEM\", \"OKC\", \"\", \"Houston NOV\", \"San Antonio\", \"San Antonio\", \"Austin\", \"Corpus Christi\", \"\", \"Houston OEM\", \"Corpus Christi\", \"\", \"\", \"Houston NOV\", \"\", \"Austin\", \"San Antonio\", \"OKC\", \"Houston NOV\", \"San Antonio\", \"Houston OEM\", \"Austin\", \"Houston NOV\", \"Corpus Christi\", \"Austin\", \"OKC\", \"Corpus Christi\", \"Midland\", \"Houston OEM\", \"San Antonio\", \"OKC\", \"Houston NOV\", \"OKC\", \"\", \"Midland\", \"Midland\", \"Austin\", \"OKC\"], \"type\": \"sunburst\", \"values\": [52, 1, 9, 12, 3, 76, 1, 2, 6, 9, 5, 20, 12, 3, 22, 21, 7, 20, 14, 2, 4, 2, 2, 36, 4, 5, 8, 21, 1, 1, 12, 7, 8, 7, 7, 4, 18, 3, 6, 4, 1]}],\n",
       "                        {\"legend\": {\"tracegroupgap\": 0}, \"margin\": {\"t\": 60}, \"template\": {\"data\": {\"bar\": [{\"error_x\": {\"color\": \"#2a3f5f\"}, \"error_y\": {\"color\": \"#2a3f5f\"}, \"marker\": {\"line\": {\"color\": \"#E5ECF6\", \"width\": 0.5}}, \"type\": \"bar\"}], \"barpolar\": [{\"marker\": {\"line\": {\"color\": \"#E5ECF6\", \"width\": 0.5}}, \"type\": \"barpolar\"}], \"carpet\": [{\"aaxis\": {\"endlinecolor\": \"#2a3f5f\", \"gridcolor\": \"white\", \"linecolor\": \"white\", \"minorgridcolor\": \"white\", \"startlinecolor\": \"#2a3f5f\"}, \"baxis\": {\"endlinecolor\": \"#2a3f5f\", \"gridcolor\": \"white\", \"linecolor\": \"white\", \"minorgridcolor\": \"white\", \"startlinecolor\": \"#2a3f5f\"}, \"type\": \"carpet\"}], \"choropleth\": [{\"colorbar\": {\"outlinewidth\": 0, \"ticks\": \"\"}, \"type\": \"choropleth\"}], \"contour\": [{\"colorbar\": {\"outlinewidth\": 0, \"ticks\": \"\"}, \"colorscale\": [[0.0, \"#0d0887\"], [0.1111111111111111, \"#46039f\"], [0.2222222222222222, \"#7201a8\"], [0.3333333333333333, \"#9c179e\"], [0.4444444444444444, \"#bd3786\"], [0.5555555555555556, \"#d8576b\"], [0.6666666666666666, \"#ed7953\"], [0.7777777777777778, \"#fb9f3a\"], [0.8888888888888888, \"#fdca26\"], [1.0, \"#f0f921\"]], \"type\": \"contour\"}], \"contourcarpet\": [{\"colorbar\": {\"outlinewidth\": 0, \"ticks\": \"\"}, \"type\": \"contourcarpet\"}], \"heatmap\": [{\"colorbar\": {\"outlinewidth\": 0, \"ticks\": \"\"}, \"colorscale\": [[0.0, \"#0d0887\"], [0.1111111111111111, \"#46039f\"], [0.2222222222222222, \"#7201a8\"], [0.3333333333333333, \"#9c179e\"], [0.4444444444444444, \"#bd3786\"], [0.5555555555555556, \"#d8576b\"], [0.6666666666666666, \"#ed7953\"], [0.7777777777777778, \"#fb9f3a\"], [0.8888888888888888, \"#fdca26\"], [1.0, \"#f0f921\"]], \"type\": \"heatmap\"}], \"heatmapgl\": [{\"colorbar\": {\"outlinewidth\": 0, \"ticks\": \"\"}, \"colorscale\": [[0.0, \"#0d0887\"], [0.1111111111111111, \"#46039f\"], [0.2222222222222222, \"#7201a8\"], [0.3333333333333333, \"#9c179e\"], [0.4444444444444444, \"#bd3786\"], [0.5555555555555556, \"#d8576b\"], [0.6666666666666666, \"#ed7953\"], [0.7777777777777778, \"#fb9f3a\"], [0.8888888888888888, \"#fdca26\"], [1.0, \"#f0f921\"]], \"type\": \"heatmapgl\"}], \"histogram\": [{\"marker\": {\"colorbar\": {\"outlinewidth\": 0, \"ticks\": \"\"}}, \"type\": \"histogram\"}], \"histogram2d\": [{\"colorbar\": {\"outlinewidth\": 0, \"ticks\": \"\"}, \"colorscale\": [[0.0, \"#0d0887\"], [0.1111111111111111, \"#46039f\"], [0.2222222222222222, \"#7201a8\"], [0.3333333333333333, \"#9c179e\"], [0.4444444444444444, \"#bd3786\"], [0.5555555555555556, \"#d8576b\"], [0.6666666666666666, \"#ed7953\"], [0.7777777777777778, \"#fb9f3a\"], [0.8888888888888888, \"#fdca26\"], [1.0, \"#f0f921\"]], \"type\": \"histogram2d\"}], \"histogram2dcontour\": [{\"colorbar\": {\"outlinewidth\": 0, \"ticks\": \"\"}, \"colorscale\": [[0.0, \"#0d0887\"], [0.1111111111111111, \"#46039f\"], [0.2222222222222222, \"#7201a8\"], [0.3333333333333333, \"#9c179e\"], [0.4444444444444444, \"#bd3786\"], [0.5555555555555556, \"#d8576b\"], [0.6666666666666666, \"#ed7953\"], [0.7777777777777778, \"#fb9f3a\"], [0.8888888888888888, \"#fdca26\"], [1.0, \"#f0f921\"]], \"type\": \"histogram2dcontour\"}], \"mesh3d\": [{\"colorbar\": {\"outlinewidth\": 0, \"ticks\": \"\"}, \"type\": \"mesh3d\"}], \"parcoords\": [{\"line\": {\"colorbar\": {\"outlinewidth\": 0, \"ticks\": \"\"}}, \"type\": \"parcoords\"}], \"pie\": [{\"automargin\": true, \"type\": \"pie\"}], \"scatter\": [{\"marker\": {\"colorbar\": {\"outlinewidth\": 0, \"ticks\": \"\"}}, \"type\": \"scatter\"}], \"scatter3d\": [{\"line\": {\"colorbar\": {\"outlinewidth\": 0, \"ticks\": \"\"}}, \"marker\": {\"colorbar\": {\"outlinewidth\": 0, \"ticks\": \"\"}}, \"type\": \"scatter3d\"}], \"scattercarpet\": [{\"marker\": {\"colorbar\": {\"outlinewidth\": 0, \"ticks\": \"\"}}, \"type\": \"scattercarpet\"}], \"scattergeo\": [{\"marker\": {\"colorbar\": {\"outlinewidth\": 0, \"ticks\": \"\"}}, \"type\": \"scattergeo\"}], \"scattergl\": [{\"marker\": {\"colorbar\": {\"outlinewidth\": 0, \"ticks\": \"\"}}, \"type\": \"scattergl\"}], \"scattermapbox\": [{\"marker\": {\"colorbar\": {\"outlinewidth\": 0, \"ticks\": \"\"}}, \"type\": \"scattermapbox\"}], \"scatterpolar\": [{\"marker\": {\"colorbar\": {\"outlinewidth\": 0, \"ticks\": \"\"}}, \"type\": \"scatterpolar\"}], \"scatterpolargl\": [{\"marker\": {\"colorbar\": {\"outlinewidth\": 0, \"ticks\": \"\"}}, \"type\": \"scatterpolargl\"}], \"scatterternary\": [{\"marker\": {\"colorbar\": {\"outlinewidth\": 0, \"ticks\": \"\"}}, \"type\": \"scatterternary\"}], \"surface\": [{\"colorbar\": {\"outlinewidth\": 0, \"ticks\": \"\"}, \"colorscale\": [[0.0, \"#0d0887\"], [0.1111111111111111, \"#46039f\"], [0.2222222222222222, \"#7201a8\"], [0.3333333333333333, \"#9c179e\"], [0.4444444444444444, \"#bd3786\"], [0.5555555555555556, \"#d8576b\"], [0.6666666666666666, \"#ed7953\"], [0.7777777777777778, \"#fb9f3a\"], [0.8888888888888888, \"#fdca26\"], [1.0, \"#f0f921\"]], \"type\": \"surface\"}], \"table\": [{\"cells\": {\"fill\": {\"color\": \"#EBF0F8\"}, \"line\": {\"color\": \"white\"}}, \"header\": {\"fill\": {\"color\": \"#C8D4E3\"}, \"line\": {\"color\": \"white\"}}, \"type\": \"table\"}]}, \"layout\": {\"annotationdefaults\": {\"arrowcolor\": \"#2a3f5f\", \"arrowhead\": 0, \"arrowwidth\": 1}, \"coloraxis\": {\"colorbar\": {\"outlinewidth\": 0, \"ticks\": \"\"}}, \"colorscale\": {\"diverging\": [[0, \"#8e0152\"], [0.1, \"#c51b7d\"], [0.2, \"#de77ae\"], [0.3, \"#f1b6da\"], [0.4, \"#fde0ef\"], [0.5, \"#f7f7f7\"], [0.6, \"#e6f5d0\"], [0.7, \"#b8e186\"], [0.8, \"#7fbc41\"], [0.9, \"#4d9221\"], [1, \"#276419\"]], \"sequential\": [[0.0, \"#0d0887\"], [0.1111111111111111, \"#46039f\"], [0.2222222222222222, \"#7201a8\"], [0.3333333333333333, \"#9c179e\"], [0.4444444444444444, \"#bd3786\"], [0.5555555555555556, \"#d8576b\"], [0.6666666666666666, \"#ed7953\"], [0.7777777777777778, \"#fb9f3a\"], [0.8888888888888888, \"#fdca26\"], [1.0, \"#f0f921\"]], \"sequentialminus\": [[0.0, \"#0d0887\"], [0.1111111111111111, \"#46039f\"], [0.2222222222222222, \"#7201a8\"], [0.3333333333333333, \"#9c179e\"], [0.4444444444444444, \"#bd3786\"], [0.5555555555555556, \"#d8576b\"], [0.6666666666666666, \"#ed7953\"], [0.7777777777777778, \"#fb9f3a\"], [0.8888888888888888, \"#fdca26\"], [1.0, \"#f0f921\"]]}, \"colorway\": [\"#636efa\", \"#EF553B\", \"#00cc96\", \"#ab63fa\", \"#FFA15A\", \"#19d3f3\", \"#FF6692\", \"#B6E880\", \"#FF97FF\", \"#FECB52\"], \"font\": {\"color\": \"#2a3f5f\"}, \"geo\": {\"bgcolor\": \"white\", \"lakecolor\": \"white\", \"landcolor\": \"#E5ECF6\", \"showlakes\": true, \"showland\": true, \"subunitcolor\": \"white\"}, \"hoverlabel\": {\"align\": \"left\"}, \"hovermode\": \"closest\", \"mapbox\": {\"style\": \"light\"}, \"paper_bgcolor\": \"white\", \"plot_bgcolor\": \"#E5ECF6\", \"polar\": {\"angularaxis\": {\"gridcolor\": \"white\", \"linecolor\": \"white\", \"ticks\": \"\"}, \"bgcolor\": \"#E5ECF6\", \"radialaxis\": {\"gridcolor\": \"white\", \"linecolor\": \"white\", \"ticks\": \"\"}}, \"scene\": {\"xaxis\": {\"backgroundcolor\": \"#E5ECF6\", \"gridcolor\": \"white\", \"gridwidth\": 2, \"linecolor\": \"white\", \"showbackground\": true, \"ticks\": \"\", \"zerolinecolor\": \"white\"}, \"yaxis\": {\"backgroundcolor\": \"#E5ECF6\", \"gridcolor\": \"white\", \"gridwidth\": 2, \"linecolor\": \"white\", \"showbackground\": true, \"ticks\": \"\", \"zerolinecolor\": \"white\"}, \"zaxis\": {\"backgroundcolor\": \"#E5ECF6\", \"gridcolor\": \"white\", \"gridwidth\": 2, \"linecolor\": \"white\", \"showbackground\": true, \"ticks\": \"\", \"zerolinecolor\": \"white\"}}, \"shapedefaults\": {\"line\": {\"color\": \"#2a3f5f\"}}, \"ternary\": {\"aaxis\": {\"gridcolor\": \"white\", \"linecolor\": \"white\", \"ticks\": \"\"}, \"baxis\": {\"gridcolor\": \"white\", \"linecolor\": \"white\", \"ticks\": \"\"}, \"bgcolor\": \"#E5ECF6\", \"caxis\": {\"gridcolor\": \"white\", \"linecolor\": \"white\", \"ticks\": \"\"}}, \"title\": {\"x\": 0.05}, \"xaxis\": {\"automargin\": true, \"gridcolor\": \"white\", \"linecolor\": \"white\", \"ticks\": \"\", \"title\": {\"standoff\": 15}, \"zerolinecolor\": \"white\", \"zerolinewidth\": 2}, \"yaxis\": {\"automargin\": true, \"gridcolor\": \"white\", \"linecolor\": \"white\", \"ticks\": \"\", \"title\": {\"standoff\": 15}, \"zerolinecolor\": \"white\", \"zerolinewidth\": 2}}}},\n",
       "                        {\"responsive\": true}\n",
       "                    ).then(function(){\n",
       "                            \n",
       "var gd = document.getElementById('74bb6edf-9767-46a1-8f0f-d42afef3ea25');\n",
       "var x = new MutationObserver(function (mutations, observer) {{\n",
       "        var display = window.getComputedStyle(gd).display;\n",
       "        if (!display || display === 'none') {{\n",
       "            console.log([gd, 'removed!']);\n",
       "            Plotly.purge(gd);\n",
       "            observer.disconnect();\n",
       "        }}\n",
       "}});\n",
       "\n",
       "// Listen for the removal of the full notebook cells\n",
       "var notebookContainer = gd.closest('#notebook-container');\n",
       "if (notebookContainer) {{\n",
       "    x.observe(notebookContainer, {childList: true});\n",
       "}}\n",
       "\n",
       "// Listen for the clearing of the current output cell\n",
       "var outputEl = gd.closest('.output');\n",
       "if (outputEl) {{\n",
       "    x.observe(outputEl, {childList: true});\n",
       "}}\n",
       "\n",
       "                        })\n",
       "                };\n",
       "                });\n",
       "            </script>\n",
       "        </div>"
      ]
     },
     "metadata": {},
     "output_type": "display_data"
    }
   ],
   "source": [
    "import plotly.express as px\n",
    "\n",
    "fig = px.sunburst(df_num, path=['Branch','Stage'], values=[1]*len(df_num), color='Stage')\n",
    "fig.show()\n",
    "#add number and percentage of count for each"
   ]
  },
  {
   "cell_type": "code",
   "execution_count": 45,
   "metadata": {},
   "outputs": [
    {
     "data": {
      "application/vnd.plotly.v1+json": {
       "config": {
        "plotlyServerURL": "https://plot.ly"
       },
       "data": [
        {
         "domain": {
          "column": 0
         },
         "ids": [
          "Aromas",
          "Tastes",
          "Aromas-Enzymatic",
          "Aromas-Sugar Browning",
          "Aromas-Dry Distillation",
          "Tastes-Bitter",
          "Tastes-Salt",
          "Tastes-Sweet",
          "Tastes-Sour",
          "Enzymatic-Flowery",
          "Enzymatic-Fruity",
          "Enzymatic-Herby",
          "Sugar Browning-Nutty",
          "Sugar Browning-Carmelly",
          "Sugar Browning-Chocolatey",
          "Dry Distillation-Resinous",
          "Dry Distillation-Spicy",
          "Dry Distillation-Carbony",
          "Bitter-Pungent",
          "Bitter-Harsh",
          "Salt-Sharp",
          "Salt-Bland",
          "Sweet-Mellow",
          "Sweet-Acidy",
          "Sour-Winey",
          "Sour-Soury",
          "Flowery-Floral",
          "Flowery-Fragrant",
          "Fruity-Citrus",
          "Fruity-Berry-like",
          "Herby-Alliaceous",
          "Herby-Leguminous",
          "Nutty-Nut-like",
          "Nutty-Malt-like",
          "Carmelly-Candy-like",
          "Carmelly-Syrup-like",
          "Chocolatey-Chocolate-like",
          "Chocolatey-Vanilla-like",
          "Resinous-Turpeny",
          "Resinous-Medicinal",
          "Spicy-Warming",
          "Spicy-Pungent",
          "Carbony-Smokey",
          "Carbony-Ashy",
          "Pungent-Creosol",
          "Pungent-Phenolic",
          "Harsh-Caustic",
          "Harsh-Alkaline",
          "Sharp-Astringent",
          "Sharp-Rough",
          "Bland-Neutral",
          "Bland-Soft",
          "Mellow-Delicate",
          "Mellow-Mild",
          "Acidy-Nippy",
          "Acidy-Piquant",
          "Winey-Tangy",
          "Winey-Tart",
          "Soury-Hard",
          "Soury-Acrid",
          "Floral-Coffee Blossom",
          "Floral-Tea Rose",
          "Fragrant-Cardamon Caraway",
          "Fragrant-Coriander Seeds",
          "Citrus-Lemon",
          "Citrus-Apple",
          "Berry-like-Apricot",
          "Berry-like-Blackberry",
          "Alliaceous-Onion",
          "Alliaceous-Garlic",
          "Leguminous-Cucumber",
          "Leguminous-Garden Peas",
          "Nut-like-Roasted Peanuts",
          "Nut-like-Walnuts",
          "Malt-like-Balsamic Rice",
          "Malt-like-Toast",
          "Candy-like-Roasted Hazelnut",
          "Candy-like-Roasted Almond",
          "Syrup-like-Honey",
          "Syrup-like-Maple Syrup",
          "Chocolate-like-Bakers",
          "Chocolate-like-Dark Chocolate",
          "Vanilla-like-Swiss",
          "Vanilla-like-Butter",
          "Turpeny-Piney",
          "Turpeny-Blackcurrant-like",
          "Medicinal-Camphoric",
          "Medicinal-Cineolic",
          "Warming-Cedar",
          "Warming-Pepper",
          "Pungent-Clove",
          "Pungent-Thyme",
          "Smokey-Tarry",
          "Smokey-Pipe Tobacco",
          "Ashy-Burnt",
          "Ashy-Charred"
         ],
         "labels": [
          "Aromas",
          "Tastes",
          "Enzymatic",
          "Sugar Browning",
          "Dry Distillation",
          "Bitter",
          "Salt",
          "Sweet",
          "Sour",
          "Flowery",
          "Fruity",
          "Herby",
          "Nutty",
          "Carmelly",
          "Chocolatey",
          "Resinous",
          "Spicy",
          "Carbony",
          "Pungent",
          "Harsh",
          "Sharp",
          "Bland",
          "Mellow",
          "Acidy",
          "Winey",
          "Soury",
          "Floral",
          "Fragrant",
          "Citrus",
          "Berry-like",
          "Alliaceous",
          "Leguminous",
          "Nut-like",
          "Malt-like",
          "Candy-like",
          "Syrup-like",
          "Chocolate-like",
          "Vanilla-like",
          "Turpeny",
          "Medicinal",
          "Warming",
          "Pungent",
          "Smokey",
          "Ashy",
          "Creosol",
          "Phenolic",
          "Caustic",
          "Alkaline",
          "Astringent",
          "Rough",
          "Neutral",
          "Soft",
          "Delicate",
          "Mild",
          "Nippy",
          "Piquant",
          "Tangy",
          "Tart",
          "Hard",
          "Acrid",
          "Coffee Blossom",
          "Tea Rose",
          "Cardamon Caraway",
          "Coriander Seeds",
          "Lemon",
          "Apple",
          "Apricot",
          "Blackberry",
          "Onion",
          "Garlic",
          "Cucumber",
          "Garden Peas",
          "Roasted Peanuts",
          "Walnuts",
          "Balsamic Rice",
          "Toast",
          "Roasted Hazelnut",
          "Roasted Almond",
          "Honey",
          "Maple Syrup",
          "Bakers",
          "Dark Chocolate",
          "Swiss",
          "Butter",
          "Piney",
          "Blackcurrant-like",
          "Camphoric",
          "Cineolic",
          "Cedar",
          "Pepper",
          "Clove",
          "Thyme",
          "Tarry",
          "Pipe Tobacco",
          "Burnt",
          "Charred"
         ],
         "parents": [
          null,
          null,
          "Aromas",
          "Aromas",
          "Aromas",
          "Tastes",
          "Tastes",
          "Tastes",
          "Tastes",
          "Aromas-Enzymatic",
          "Aromas-Enzymatic",
          "Aromas-Enzymatic",
          "Aromas-Sugar Browning",
          "Aromas-Sugar Browning",
          "Aromas-Sugar Browning",
          "Aromas-Dry Distillation",
          "Aromas-Dry Distillation",
          "Aromas-Dry Distillation",
          "Tastes-Bitter",
          "Tastes-Bitter",
          "Tastes-Salt",
          "Tastes-Salt",
          "Tastes-Sweet",
          "Tastes-Sweet",
          "Tastes-Sour",
          "Tastes-Sour",
          "Enzymatic-Flowery",
          "Enzymatic-Flowery",
          "Enzymatic-Fruity",
          "Enzymatic-Fruity",
          "Enzymatic-Herby",
          "Enzymatic-Herby",
          "Sugar Browning-Nutty",
          "Sugar Browning-Nutty",
          "Sugar Browning-Carmelly",
          "Sugar Browning-Carmelly",
          "Sugar Browning-Chocolatey",
          "Sugar Browning-Chocolatey",
          "Dry Distillation-Resinous",
          "Dry Distillation-Resinous",
          "Dry Distillation-Spicy",
          "Dry Distillation-Spicy",
          "Dry Distillation-Carbony",
          "Dry Distillation-Carbony",
          "Bitter-Pungent",
          "Bitter-Pungent",
          "Bitter-Harsh",
          "Bitter-Harsh",
          "Salt-Sharp",
          "Salt-Sharp",
          "Salt-Bland",
          "Salt-Bland",
          "Sweet-Mellow",
          "Sweet-Mellow",
          "Sweet-Acidy",
          "Sweet-Acidy",
          "Sour-Winey",
          "Sour-Winey",
          "Sour-Soury",
          "Sour-Soury",
          "Flowery-Floral",
          "Flowery-Floral",
          "Flowery-Fragrant",
          "Flowery-Fragrant",
          "Fruity-Citrus",
          "Fruity-Citrus",
          "Fruity-Berry-like",
          "Fruity-Berry-like",
          "Herby-Alliaceous",
          "Herby-Alliaceous",
          "Herby-Leguminous",
          "Herby-Leguminous",
          "Nutty-Nut-like",
          "Nutty-Nut-like",
          "Nutty-Malt-like",
          "Nutty-Malt-like",
          "Carmelly-Candy-like",
          "Carmelly-Candy-like",
          "Carmelly-Syrup-like",
          "Carmelly-Syrup-like",
          "Chocolatey-Chocolate-like",
          "Chocolatey-Chocolate-like",
          "Chocolatey-Vanilla-like",
          "Chocolatey-Vanilla-like",
          "Resinous-Turpeny",
          "Resinous-Turpeny",
          "Resinous-Medicinal",
          "Resinous-Medicinal",
          "Spicy-Warming",
          "Spicy-Warming",
          "Spicy-Pungent",
          "Spicy-Pungent",
          "Carbony-Smokey",
          "Carbony-Smokey",
          "Carbony-Ashy",
          "Carbony-Ashy"
         ],
         "type": "sunburst"
        },
        {
         "domain": {
          "column": 1
         },
         "ids": [
          "Enzymatic-Flowery",
          "Enzymatic-Fruity",
          "Enzymatic-Herby",
          "Sugar Browning-Nutty",
          "Sugar Browning-Carmelly",
          "Sugar Browning-Chocolatey",
          "Dry Distillation-Resinous",
          "Dry Distillation-Spicy",
          "Dry Distillation-Carbony",
          "Bitter-Pungent",
          "Bitter-Harsh",
          "Salt-Sharp",
          "Salt-Bland",
          "Sweet-Mellow",
          "Sweet-Acidy",
          "Sour-Winey",
          "Sour-Soury",
          "Flowery-Floral",
          "Flowery-Fragrant",
          "Fruity-Citrus",
          "Fruity-Berry-like",
          "Herby-Alliaceous",
          "Herby-Leguminous",
          "Nutty-Nut-like",
          "Nutty-Malt-like",
          "Carmelly-Candy-like",
          "Carmelly-Syrup-like",
          "Chocolatey-Chocolate-like",
          "Chocolatey-Vanilla-like",
          "Resinous-Turpeny",
          "Resinous-Medicinal",
          "Spicy-Warming",
          "Spicy-Pungent",
          "Carbony-Smokey",
          "Carbony-Ashy",
          "Pungent-Creosol",
          "Pungent-Phenolic",
          "Harsh-Caustic",
          "Harsh-Alkaline",
          "Sharp-Astringent",
          "Sharp-Rough",
          "Bland-Neutral",
          "Bland-Soft",
          "Mellow-Delicate",
          "Mellow-Mild",
          "Acidy-Nippy",
          "Acidy-Piquant",
          "Winey-Tangy",
          "Winey-Tart",
          "Soury-Hard",
          "Soury-Acrid",
          "Floral-Coffee Blossom",
          "Floral-Tea Rose",
          "Fragrant-Cardamon Caraway",
          "Fragrant-Coriander Seeds",
          "Citrus-Lemon",
          "Citrus-Apple",
          "Berry-like-Apricot",
          "Berry-like-Blackberry",
          "Alliaceous-Onion",
          "Alliaceous-Garlic",
          "Leguminous-Cucumber",
          "Leguminous-Garden Peas",
          "Nut-like-Roasted Peanuts",
          "Nut-like-Walnuts",
          "Malt-like-Balsamic Rice",
          "Malt-like-Toast",
          "Candy-like-Roasted Hazelnut",
          "Candy-like-Roasted Almond",
          "Syrup-like-Honey",
          "Syrup-like-Maple Syrup",
          "Chocolate-like-Bakers",
          "Chocolate-like-Dark Chocolate",
          "Vanilla-like-Swiss",
          "Vanilla-like-Butter",
          "Turpeny-Piney",
          "Turpeny-Blackcurrant-like",
          "Medicinal-Camphoric",
          "Medicinal-Cineolic",
          "Warming-Cedar",
          "Warming-Pepper",
          "Pungent-Clove",
          "Pungent-Thyme",
          "Smokey-Tarry",
          "Smokey-Pipe Tobacco",
          "Ashy-Burnt",
          "Ashy-Charred"
         ],
         "labels": [
          "Flowery",
          "Fruity",
          "Herby",
          "Nutty",
          "Carmelly",
          "Chocolatey",
          "Resinous",
          "Spicy",
          "Carbony",
          "Pungent",
          "Harsh",
          "Sharp",
          "Bland",
          "Mellow",
          "Acidy",
          "Winey",
          "Soury",
          "Floral",
          "Fragrant",
          "Citrus",
          "Berry-like",
          "Alliaceous",
          "Leguminous",
          "Nut-like",
          "Malt-like",
          "Candy-like",
          "Syrup-like",
          "Chocolate-like",
          "Vanilla-like",
          "Turpeny",
          "Medicinal",
          "Warming",
          "Pungent",
          "Smokey",
          "Ashy",
          "Creosol",
          "Phenolic",
          "Caustic",
          "Alkaline",
          "Astringent",
          "Rough",
          "Neutral",
          "Soft",
          "Delicate",
          "Mild",
          "Nippy",
          "Piquant",
          "Tangy",
          "Tart",
          "Hard",
          "Acrid",
          "Coffee Blossom",
          "Tea Rose",
          "Cardamon Caraway",
          "Coriander Seeds",
          "Lemon",
          "Apple",
          "Apricot",
          "Blackberry",
          "Onion",
          "Garlic",
          "Cucumber",
          "Garden Peas",
          "Roasted Peanuts",
          "Walnuts",
          "Balsamic Rice",
          "Toast",
          "Roasted Hazelnut",
          "Roasted Almond",
          "Honey",
          "Maple Syrup",
          "Bakers",
          "Dark Chocolate",
          "Swiss",
          "Butter",
          "Piney",
          "Blackcurrant-like",
          "Camphoric",
          "Cineolic",
          "Cedar",
          "Pepper",
          "Clove",
          "Thyme",
          "Tarry",
          "Pipe Tobacco",
          "Burnt",
          "Charred"
         ],
         "maxdepth": 2,
         "parents": [
          null,
          null,
          null,
          null,
          null,
          null,
          null,
          null,
          null,
          null,
          null,
          null,
          null,
          null,
          null,
          null,
          null,
          "Enzymatic-Flowery",
          "Enzymatic-Flowery",
          "Enzymatic-Fruity",
          "Enzymatic-Fruity",
          "Enzymatic-Herby",
          "Enzymatic-Herby",
          "Sugar Browning-Nutty",
          "Sugar Browning-Nutty",
          "Sugar Browning-Carmelly",
          "Sugar Browning-Carmelly",
          "Sugar Browning-Chocolatey",
          "Sugar Browning-Chocolatey",
          "Dry Distillation-Resinous",
          "Dry Distillation-Resinous",
          "Dry Distillation-Spicy",
          "Dry Distillation-Spicy",
          "Dry Distillation-Carbony",
          "Dry Distillation-Carbony",
          "Bitter-Pungent",
          "Bitter-Pungent",
          "Bitter-Harsh",
          "Bitter-Harsh",
          "Salt-Sharp",
          "Salt-Sharp",
          "Salt-Bland",
          "Salt-Bland",
          "Sweet-Mellow",
          "Sweet-Mellow",
          "Sweet-Acidy",
          "Sweet-Acidy",
          "Sour-Winey",
          "Sour-Winey",
          "Sour-Soury",
          "Sour-Soury",
          "Flowery-Floral",
          "Flowery-Floral",
          "Flowery-Fragrant",
          "Flowery-Fragrant",
          "Fruity-Citrus",
          "Fruity-Citrus",
          "Fruity-Berry-like",
          "Fruity-Berry-like",
          "Herby-Alliaceous",
          "Herby-Alliaceous",
          "Herby-Leguminous",
          "Herby-Leguminous",
          "Nutty-Nut-like",
          "Nutty-Nut-like",
          "Nutty-Malt-like",
          "Nutty-Malt-like",
          "Carmelly-Candy-like",
          "Carmelly-Candy-like",
          "Carmelly-Syrup-like",
          "Carmelly-Syrup-like",
          "Chocolatey-Chocolate-like",
          "Chocolatey-Chocolate-like",
          "Chocolatey-Vanilla-like",
          "Chocolatey-Vanilla-like",
          "Resinous-Turpeny",
          "Resinous-Turpeny",
          "Resinous-Medicinal",
          "Resinous-Medicinal",
          "Spicy-Warming",
          "Spicy-Warming",
          "Spicy-Pungent",
          "Spicy-Pungent",
          "Carbony-Smokey",
          "Carbony-Smokey",
          "Carbony-Ashy",
          "Carbony-Ashy"
         ],
         "type": "sunburst"
        }
       ],
       "layout": {
        "grid": {
         "columns": 2,
         "rows": 1
        },
        "margin": {
         "b": 0,
         "l": 0,
         "r": 0,
         "t": 0
        },
        "template": {
         "data": {
          "bar": [
           {
            "error_x": {
             "color": "#2a3f5f"
            },
            "error_y": {
             "color": "#2a3f5f"
            },
            "marker": {
             "line": {
              "color": "#E5ECF6",
              "width": 0.5
             }
            },
            "type": "bar"
           }
          ],
          "barpolar": [
           {
            "marker": {
             "line": {
              "color": "#E5ECF6",
              "width": 0.5
             }
            },
            "type": "barpolar"
           }
          ],
          "carpet": [
           {
            "aaxis": {
             "endlinecolor": "#2a3f5f",
             "gridcolor": "white",
             "linecolor": "white",
             "minorgridcolor": "white",
             "startlinecolor": "#2a3f5f"
            },
            "baxis": {
             "endlinecolor": "#2a3f5f",
             "gridcolor": "white",
             "linecolor": "white",
             "minorgridcolor": "white",
             "startlinecolor": "#2a3f5f"
            },
            "type": "carpet"
           }
          ],
          "choropleth": [
           {
            "colorbar": {
             "outlinewidth": 0,
             "ticks": ""
            },
            "type": "choropleth"
           }
          ],
          "contour": [
           {
            "colorbar": {
             "outlinewidth": 0,
             "ticks": ""
            },
            "colorscale": [
             [
              0,
              "#0d0887"
             ],
             [
              0.1111111111111111,
              "#46039f"
             ],
             [
              0.2222222222222222,
              "#7201a8"
             ],
             [
              0.3333333333333333,
              "#9c179e"
             ],
             [
              0.4444444444444444,
              "#bd3786"
             ],
             [
              0.5555555555555556,
              "#d8576b"
             ],
             [
              0.6666666666666666,
              "#ed7953"
             ],
             [
              0.7777777777777778,
              "#fb9f3a"
             ],
             [
              0.8888888888888888,
              "#fdca26"
             ],
             [
              1,
              "#f0f921"
             ]
            ],
            "type": "contour"
           }
          ],
          "contourcarpet": [
           {
            "colorbar": {
             "outlinewidth": 0,
             "ticks": ""
            },
            "type": "contourcarpet"
           }
          ],
          "heatmap": [
           {
            "colorbar": {
             "outlinewidth": 0,
             "ticks": ""
            },
            "colorscale": [
             [
              0,
              "#0d0887"
             ],
             [
              0.1111111111111111,
              "#46039f"
             ],
             [
              0.2222222222222222,
              "#7201a8"
             ],
             [
              0.3333333333333333,
              "#9c179e"
             ],
             [
              0.4444444444444444,
              "#bd3786"
             ],
             [
              0.5555555555555556,
              "#d8576b"
             ],
             [
              0.6666666666666666,
              "#ed7953"
             ],
             [
              0.7777777777777778,
              "#fb9f3a"
             ],
             [
              0.8888888888888888,
              "#fdca26"
             ],
             [
              1,
              "#f0f921"
             ]
            ],
            "type": "heatmap"
           }
          ],
          "heatmapgl": [
           {
            "colorbar": {
             "outlinewidth": 0,
             "ticks": ""
            },
            "colorscale": [
             [
              0,
              "#0d0887"
             ],
             [
              0.1111111111111111,
              "#46039f"
             ],
             [
              0.2222222222222222,
              "#7201a8"
             ],
             [
              0.3333333333333333,
              "#9c179e"
             ],
             [
              0.4444444444444444,
              "#bd3786"
             ],
             [
              0.5555555555555556,
              "#d8576b"
             ],
             [
              0.6666666666666666,
              "#ed7953"
             ],
             [
              0.7777777777777778,
              "#fb9f3a"
             ],
             [
              0.8888888888888888,
              "#fdca26"
             ],
             [
              1,
              "#f0f921"
             ]
            ],
            "type": "heatmapgl"
           }
          ],
          "histogram": [
           {
            "marker": {
             "colorbar": {
              "outlinewidth": 0,
              "ticks": ""
             }
            },
            "type": "histogram"
           }
          ],
          "histogram2d": [
           {
            "colorbar": {
             "outlinewidth": 0,
             "ticks": ""
            },
            "colorscale": [
             [
              0,
              "#0d0887"
             ],
             [
              0.1111111111111111,
              "#46039f"
             ],
             [
              0.2222222222222222,
              "#7201a8"
             ],
             [
              0.3333333333333333,
              "#9c179e"
             ],
             [
              0.4444444444444444,
              "#bd3786"
             ],
             [
              0.5555555555555556,
              "#d8576b"
             ],
             [
              0.6666666666666666,
              "#ed7953"
             ],
             [
              0.7777777777777778,
              "#fb9f3a"
             ],
             [
              0.8888888888888888,
              "#fdca26"
             ],
             [
              1,
              "#f0f921"
             ]
            ],
            "type": "histogram2d"
           }
          ],
          "histogram2dcontour": [
           {
            "colorbar": {
             "outlinewidth": 0,
             "ticks": ""
            },
            "colorscale": [
             [
              0,
              "#0d0887"
             ],
             [
              0.1111111111111111,
              "#46039f"
             ],
             [
              0.2222222222222222,
              "#7201a8"
             ],
             [
              0.3333333333333333,
              "#9c179e"
             ],
             [
              0.4444444444444444,
              "#bd3786"
             ],
             [
              0.5555555555555556,
              "#d8576b"
             ],
             [
              0.6666666666666666,
              "#ed7953"
             ],
             [
              0.7777777777777778,
              "#fb9f3a"
             ],
             [
              0.8888888888888888,
              "#fdca26"
             ],
             [
              1,
              "#f0f921"
             ]
            ],
            "type": "histogram2dcontour"
           }
          ],
          "mesh3d": [
           {
            "colorbar": {
             "outlinewidth": 0,
             "ticks": ""
            },
            "type": "mesh3d"
           }
          ],
          "parcoords": [
           {
            "line": {
             "colorbar": {
              "outlinewidth": 0,
              "ticks": ""
             }
            },
            "type": "parcoords"
           }
          ],
          "pie": [
           {
            "automargin": true,
            "type": "pie"
           }
          ],
          "scatter": [
           {
            "marker": {
             "colorbar": {
              "outlinewidth": 0,
              "ticks": ""
             }
            },
            "type": "scatter"
           }
          ],
          "scatter3d": [
           {
            "line": {
             "colorbar": {
              "outlinewidth": 0,
              "ticks": ""
             }
            },
            "marker": {
             "colorbar": {
              "outlinewidth": 0,
              "ticks": ""
             }
            },
            "type": "scatter3d"
           }
          ],
          "scattercarpet": [
           {
            "marker": {
             "colorbar": {
              "outlinewidth": 0,
              "ticks": ""
             }
            },
            "type": "scattercarpet"
           }
          ],
          "scattergeo": [
           {
            "marker": {
             "colorbar": {
              "outlinewidth": 0,
              "ticks": ""
             }
            },
            "type": "scattergeo"
           }
          ],
          "scattergl": [
           {
            "marker": {
             "colorbar": {
              "outlinewidth": 0,
              "ticks": ""
             }
            },
            "type": "scattergl"
           }
          ],
          "scattermapbox": [
           {
            "marker": {
             "colorbar": {
              "outlinewidth": 0,
              "ticks": ""
             }
            },
            "type": "scattermapbox"
           }
          ],
          "scatterpolar": [
           {
            "marker": {
             "colorbar": {
              "outlinewidth": 0,
              "ticks": ""
             }
            },
            "type": "scatterpolar"
           }
          ],
          "scatterpolargl": [
           {
            "marker": {
             "colorbar": {
              "outlinewidth": 0,
              "ticks": ""
             }
            },
            "type": "scatterpolargl"
           }
          ],
          "scatterternary": [
           {
            "marker": {
             "colorbar": {
              "outlinewidth": 0,
              "ticks": ""
             }
            },
            "type": "scatterternary"
           }
          ],
          "surface": [
           {
            "colorbar": {
             "outlinewidth": 0,
             "ticks": ""
            },
            "colorscale": [
             [
              0,
              "#0d0887"
             ],
             [
              0.1111111111111111,
              "#46039f"
             ],
             [
              0.2222222222222222,
              "#7201a8"
             ],
             [
              0.3333333333333333,
              "#9c179e"
             ],
             [
              0.4444444444444444,
              "#bd3786"
             ],
             [
              0.5555555555555556,
              "#d8576b"
             ],
             [
              0.6666666666666666,
              "#ed7953"
             ],
             [
              0.7777777777777778,
              "#fb9f3a"
             ],
             [
              0.8888888888888888,
              "#fdca26"
             ],
             [
              1,
              "#f0f921"
             ]
            ],
            "type": "surface"
           }
          ],
          "table": [
           {
            "cells": {
             "fill": {
              "color": "#EBF0F8"
             },
             "line": {
              "color": "white"
             }
            },
            "header": {
             "fill": {
              "color": "#C8D4E3"
             },
             "line": {
              "color": "white"
             }
            },
            "type": "table"
           }
          ]
         },
         "layout": {
          "annotationdefaults": {
           "arrowcolor": "#2a3f5f",
           "arrowhead": 0,
           "arrowwidth": 1
          },
          "coloraxis": {
           "colorbar": {
            "outlinewidth": 0,
            "ticks": ""
           }
          },
          "colorscale": {
           "diverging": [
            [
             0,
             "#8e0152"
            ],
            [
             0.1,
             "#c51b7d"
            ],
            [
             0.2,
             "#de77ae"
            ],
            [
             0.3,
             "#f1b6da"
            ],
            [
             0.4,
             "#fde0ef"
            ],
            [
             0.5,
             "#f7f7f7"
            ],
            [
             0.6,
             "#e6f5d0"
            ],
            [
             0.7,
             "#b8e186"
            ],
            [
             0.8,
             "#7fbc41"
            ],
            [
             0.9,
             "#4d9221"
            ],
            [
             1,
             "#276419"
            ]
           ],
           "sequential": [
            [
             0,
             "#0d0887"
            ],
            [
             0.1111111111111111,
             "#46039f"
            ],
            [
             0.2222222222222222,
             "#7201a8"
            ],
            [
             0.3333333333333333,
             "#9c179e"
            ],
            [
             0.4444444444444444,
             "#bd3786"
            ],
            [
             0.5555555555555556,
             "#d8576b"
            ],
            [
             0.6666666666666666,
             "#ed7953"
            ],
            [
             0.7777777777777778,
             "#fb9f3a"
            ],
            [
             0.8888888888888888,
             "#fdca26"
            ],
            [
             1,
             "#f0f921"
            ]
           ],
           "sequentialminus": [
            [
             0,
             "#0d0887"
            ],
            [
             0.1111111111111111,
             "#46039f"
            ],
            [
             0.2222222222222222,
             "#7201a8"
            ],
            [
             0.3333333333333333,
             "#9c179e"
            ],
            [
             0.4444444444444444,
             "#bd3786"
            ],
            [
             0.5555555555555556,
             "#d8576b"
            ],
            [
             0.6666666666666666,
             "#ed7953"
            ],
            [
             0.7777777777777778,
             "#fb9f3a"
            ],
            [
             0.8888888888888888,
             "#fdca26"
            ],
            [
             1,
             "#f0f921"
            ]
           ]
          },
          "colorway": [
           "#636efa",
           "#EF553B",
           "#00cc96",
           "#ab63fa",
           "#FFA15A",
           "#19d3f3",
           "#FF6692",
           "#B6E880",
           "#FF97FF",
           "#FECB52"
          ],
          "font": {
           "color": "#2a3f5f"
          },
          "geo": {
           "bgcolor": "white",
           "lakecolor": "white",
           "landcolor": "#E5ECF6",
           "showlakes": true,
           "showland": true,
           "subunitcolor": "white"
          },
          "hoverlabel": {
           "align": "left"
          },
          "hovermode": "closest",
          "mapbox": {
           "style": "light"
          },
          "paper_bgcolor": "white",
          "plot_bgcolor": "#E5ECF6",
          "polar": {
           "angularaxis": {
            "gridcolor": "white",
            "linecolor": "white",
            "ticks": ""
           },
           "bgcolor": "#E5ECF6",
           "radialaxis": {
            "gridcolor": "white",
            "linecolor": "white",
            "ticks": ""
           }
          },
          "scene": {
           "xaxis": {
            "backgroundcolor": "#E5ECF6",
            "gridcolor": "white",
            "gridwidth": 2,
            "linecolor": "white",
            "showbackground": true,
            "ticks": "",
            "zerolinecolor": "white"
           },
           "yaxis": {
            "backgroundcolor": "#E5ECF6",
            "gridcolor": "white",
            "gridwidth": 2,
            "linecolor": "white",
            "showbackground": true,
            "ticks": "",
            "zerolinecolor": "white"
           },
           "zaxis": {
            "backgroundcolor": "#E5ECF6",
            "gridcolor": "white",
            "gridwidth": 2,
            "linecolor": "white",
            "showbackground": true,
            "ticks": "",
            "zerolinecolor": "white"
           }
          },
          "shapedefaults": {
           "line": {
            "color": "#2a3f5f"
           }
          },
          "ternary": {
           "aaxis": {
            "gridcolor": "white",
            "linecolor": "white",
            "ticks": ""
           },
           "baxis": {
            "gridcolor": "white",
            "linecolor": "white",
            "ticks": ""
           },
           "bgcolor": "#E5ECF6",
           "caxis": {
            "gridcolor": "white",
            "linecolor": "white",
            "ticks": ""
           }
          },
          "title": {
           "x": 0.05
          },
          "xaxis": {
           "automargin": true,
           "gridcolor": "white",
           "linecolor": "white",
           "ticks": "",
           "title": {
            "standoff": 15
           },
           "zerolinecolor": "white",
           "zerolinewidth": 2
          },
          "yaxis": {
           "automargin": true,
           "gridcolor": "white",
           "linecolor": "white",
           "ticks": "",
           "title": {
            "standoff": 15
           },
           "zerolinecolor": "white",
           "zerolinewidth": 2
          }
         }
        }
       }
      },
      "text/html": [
       "<div>\n",
       "        \n",
       "        \n",
       "            <div id=\"2bae6351-38f5-4ca9-86b3-57e153ff96e4\" class=\"plotly-graph-div\" style=\"height:525px; width:100%;\"></div>\n",
       "            <script type=\"text/javascript\">\n",
       "                require([\"plotly\"], function(Plotly) {\n",
       "                    window.PLOTLYENV=window.PLOTLYENV || {};\n",
       "                    \n",
       "                if (document.getElementById(\"2bae6351-38f5-4ca9-86b3-57e153ff96e4\")) {\n",
       "                    Plotly.newPlot(\n",
       "                        '2bae6351-38f5-4ca9-86b3-57e153ff96e4',\n",
       "                        [{\"domain\": {\"column\": 0}, \"ids\": [\"Aromas\", \"Tastes\", \"Aromas-Enzymatic\", \"Aromas-Sugar Browning\", \"Aromas-Dry Distillation\", \"Tastes-Bitter\", \"Tastes-Salt\", \"Tastes-Sweet\", \"Tastes-Sour\", \"Enzymatic-Flowery\", \"Enzymatic-Fruity\", \"Enzymatic-Herby\", \"Sugar Browning-Nutty\", \"Sugar Browning-Carmelly\", \"Sugar Browning-Chocolatey\", \"Dry Distillation-Resinous\", \"Dry Distillation-Spicy\", \"Dry Distillation-Carbony\", \"Bitter-Pungent\", \"Bitter-Harsh\", \"Salt-Sharp\", \"Salt-Bland\", \"Sweet-Mellow\", \"Sweet-Acidy\", \"Sour-Winey\", \"Sour-Soury\", \"Flowery-Floral\", \"Flowery-Fragrant\", \"Fruity-Citrus\", \"Fruity-Berry-like\", \"Herby-Alliaceous\", \"Herby-Leguminous\", \"Nutty-Nut-like\", \"Nutty-Malt-like\", \"Carmelly-Candy-like\", \"Carmelly-Syrup-like\", \"Chocolatey-Chocolate-like\", \"Chocolatey-Vanilla-like\", \"Resinous-Turpeny\", \"Resinous-Medicinal\", \"Spicy-Warming\", \"Spicy-Pungent\", \"Carbony-Smokey\", \"Carbony-Ashy\", \"Pungent-Creosol\", \"Pungent-Phenolic\", \"Harsh-Caustic\", \"Harsh-Alkaline\", \"Sharp-Astringent\", \"Sharp-Rough\", \"Bland-Neutral\", \"Bland-Soft\", \"Mellow-Delicate\", \"Mellow-Mild\", \"Acidy-Nippy\", \"Acidy-Piquant\", \"Winey-Tangy\", \"Winey-Tart\", \"Soury-Hard\", \"Soury-Acrid\", \"Floral-Coffee Blossom\", \"Floral-Tea Rose\", \"Fragrant-Cardamon Caraway\", \"Fragrant-Coriander Seeds\", \"Citrus-Lemon\", \"Citrus-Apple\", \"Berry-like-Apricot\", \"Berry-like-Blackberry\", \"Alliaceous-Onion\", \"Alliaceous-Garlic\", \"Leguminous-Cucumber\", \"Leguminous-Garden Peas\", \"Nut-like-Roasted Peanuts\", \"Nut-like-Walnuts\", \"Malt-like-Balsamic Rice\", \"Malt-like-Toast\", \"Candy-like-Roasted Hazelnut\", \"Candy-like-Roasted Almond\", \"Syrup-like-Honey\", \"Syrup-like-Maple Syrup\", \"Chocolate-like-Bakers\", \"Chocolate-like-Dark Chocolate\", \"Vanilla-like-Swiss\", \"Vanilla-like-Butter\", \"Turpeny-Piney\", \"Turpeny-Blackcurrant-like\", \"Medicinal-Camphoric\", \"Medicinal-Cineolic\", \"Warming-Cedar\", \"Warming-Pepper\", \"Pungent-Clove\", \"Pungent-Thyme\", \"Smokey-Tarry\", \"Smokey-Pipe Tobacco\", \"Ashy-Burnt\", \"Ashy-Charred\"], \"labels\": [\"Aromas\", \"Tastes\", \"Enzymatic\", \"Sugar Browning\", \"Dry Distillation\", \"Bitter\", \"Salt\", \"Sweet\", \"Sour\", \"Flowery\", \"Fruity\", \"Herby\", \"Nutty\", \"Carmelly\", \"Chocolatey\", \"Resinous\", \"Spicy\", \"Carbony\", \"Pungent\", \"Harsh\", \"Sharp\", \"Bland\", \"Mellow\", \"Acidy\", \"Winey\", \"Soury\", \"Floral\", \"Fragrant\", \"Citrus\", \"Berry-like\", \"Alliaceous\", \"Leguminous\", \"Nut-like\", \"Malt-like\", \"Candy-like\", \"Syrup-like\", \"Chocolate-like\", \"Vanilla-like\", \"Turpeny\", \"Medicinal\", \"Warming\", \"Pungent\", \"Smokey\", \"Ashy\", \"Creosol\", \"Phenolic\", \"Caustic\", \"Alkaline\", \"Astringent\", \"Rough\", \"Neutral\", \"Soft\", \"Delicate\", \"Mild\", \"Nippy\", \"Piquant\", \"Tangy\", \"Tart\", \"Hard\", \"Acrid\", \"Coffee Blossom\", \"Tea Rose\", \"Cardamon Caraway\", \"Coriander Seeds\", \"Lemon\", \"Apple\", \"Apricot\", \"Blackberry\", \"Onion\", \"Garlic\", \"Cucumber\", \"Garden Peas\", \"Roasted Peanuts\", \"Walnuts\", \"Balsamic Rice\", \"Toast\", \"Roasted Hazelnut\", \"Roasted Almond\", \"Honey\", \"Maple Syrup\", \"Bakers\", \"Dark Chocolate\", \"Swiss\", \"Butter\", \"Piney\", \"Blackcurrant-like\", \"Camphoric\", \"Cineolic\", \"Cedar\", \"Pepper\", \"Clove\", \"Thyme\", \"Tarry\", \"Pipe Tobacco\", \"Burnt\", \"Charred\"], \"parents\": [null, null, \"Aromas\", \"Aromas\", \"Aromas\", \"Tastes\", \"Tastes\", \"Tastes\", \"Tastes\", \"Aromas-Enzymatic\", \"Aromas-Enzymatic\", \"Aromas-Enzymatic\", \"Aromas-Sugar Browning\", \"Aromas-Sugar Browning\", \"Aromas-Sugar Browning\", \"Aromas-Dry Distillation\", \"Aromas-Dry Distillation\", \"Aromas-Dry Distillation\", \"Tastes-Bitter\", \"Tastes-Bitter\", \"Tastes-Salt\", \"Tastes-Salt\", \"Tastes-Sweet\", \"Tastes-Sweet\", \"Tastes-Sour\", \"Tastes-Sour\", \"Enzymatic-Flowery\", \"Enzymatic-Flowery\", \"Enzymatic-Fruity\", \"Enzymatic-Fruity\", \"Enzymatic-Herby\", \"Enzymatic-Herby\", \"Sugar Browning-Nutty\", \"Sugar Browning-Nutty\", \"Sugar Browning-Carmelly\", \"Sugar Browning-Carmelly\", \"Sugar Browning-Chocolatey\", \"Sugar Browning-Chocolatey\", \"Dry Distillation-Resinous\", \"Dry Distillation-Resinous\", \"Dry Distillation-Spicy\", \"Dry Distillation-Spicy\", \"Dry Distillation-Carbony\", \"Dry Distillation-Carbony\", \"Bitter-Pungent\", \"Bitter-Pungent\", \"Bitter-Harsh\", \"Bitter-Harsh\", \"Salt-Sharp\", \"Salt-Sharp\", \"Salt-Bland\", \"Salt-Bland\", \"Sweet-Mellow\", \"Sweet-Mellow\", \"Sweet-Acidy\", \"Sweet-Acidy\", \"Sour-Winey\", \"Sour-Winey\", \"Sour-Soury\", \"Sour-Soury\", \"Flowery-Floral\", \"Flowery-Floral\", \"Flowery-Fragrant\", \"Flowery-Fragrant\", \"Fruity-Citrus\", \"Fruity-Citrus\", \"Fruity-Berry-like\", \"Fruity-Berry-like\", \"Herby-Alliaceous\", \"Herby-Alliaceous\", \"Herby-Leguminous\", \"Herby-Leguminous\", \"Nutty-Nut-like\", \"Nutty-Nut-like\", \"Nutty-Malt-like\", \"Nutty-Malt-like\", \"Carmelly-Candy-like\", \"Carmelly-Candy-like\", \"Carmelly-Syrup-like\", \"Carmelly-Syrup-like\", \"Chocolatey-Chocolate-like\", \"Chocolatey-Chocolate-like\", \"Chocolatey-Vanilla-like\", \"Chocolatey-Vanilla-like\", \"Resinous-Turpeny\", \"Resinous-Turpeny\", \"Resinous-Medicinal\", \"Resinous-Medicinal\", \"Spicy-Warming\", \"Spicy-Warming\", \"Spicy-Pungent\", \"Spicy-Pungent\", \"Carbony-Smokey\", \"Carbony-Smokey\", \"Carbony-Ashy\", \"Carbony-Ashy\"], \"type\": \"sunburst\"}, {\"domain\": {\"column\": 1}, \"ids\": [\"Enzymatic-Flowery\", \"Enzymatic-Fruity\", \"Enzymatic-Herby\", \"Sugar Browning-Nutty\", \"Sugar Browning-Carmelly\", \"Sugar Browning-Chocolatey\", \"Dry Distillation-Resinous\", \"Dry Distillation-Spicy\", \"Dry Distillation-Carbony\", \"Bitter-Pungent\", \"Bitter-Harsh\", \"Salt-Sharp\", \"Salt-Bland\", \"Sweet-Mellow\", \"Sweet-Acidy\", \"Sour-Winey\", \"Sour-Soury\", \"Flowery-Floral\", \"Flowery-Fragrant\", \"Fruity-Citrus\", \"Fruity-Berry-like\", \"Herby-Alliaceous\", \"Herby-Leguminous\", \"Nutty-Nut-like\", \"Nutty-Malt-like\", \"Carmelly-Candy-like\", \"Carmelly-Syrup-like\", \"Chocolatey-Chocolate-like\", \"Chocolatey-Vanilla-like\", \"Resinous-Turpeny\", \"Resinous-Medicinal\", \"Spicy-Warming\", \"Spicy-Pungent\", \"Carbony-Smokey\", \"Carbony-Ashy\", \"Pungent-Creosol\", \"Pungent-Phenolic\", \"Harsh-Caustic\", \"Harsh-Alkaline\", \"Sharp-Astringent\", \"Sharp-Rough\", \"Bland-Neutral\", \"Bland-Soft\", \"Mellow-Delicate\", \"Mellow-Mild\", \"Acidy-Nippy\", \"Acidy-Piquant\", \"Winey-Tangy\", \"Winey-Tart\", \"Soury-Hard\", \"Soury-Acrid\", \"Floral-Coffee Blossom\", \"Floral-Tea Rose\", \"Fragrant-Cardamon Caraway\", \"Fragrant-Coriander Seeds\", \"Citrus-Lemon\", \"Citrus-Apple\", \"Berry-like-Apricot\", \"Berry-like-Blackberry\", \"Alliaceous-Onion\", \"Alliaceous-Garlic\", \"Leguminous-Cucumber\", \"Leguminous-Garden Peas\", \"Nut-like-Roasted Peanuts\", \"Nut-like-Walnuts\", \"Malt-like-Balsamic Rice\", \"Malt-like-Toast\", \"Candy-like-Roasted Hazelnut\", \"Candy-like-Roasted Almond\", \"Syrup-like-Honey\", \"Syrup-like-Maple Syrup\", \"Chocolate-like-Bakers\", \"Chocolate-like-Dark Chocolate\", \"Vanilla-like-Swiss\", \"Vanilla-like-Butter\", \"Turpeny-Piney\", \"Turpeny-Blackcurrant-like\", \"Medicinal-Camphoric\", \"Medicinal-Cineolic\", \"Warming-Cedar\", \"Warming-Pepper\", \"Pungent-Clove\", \"Pungent-Thyme\", \"Smokey-Tarry\", \"Smokey-Pipe Tobacco\", \"Ashy-Burnt\", \"Ashy-Charred\"], \"labels\": [\"Flowery\", \"Fruity\", \"Herby\", \"Nutty\", \"Carmelly\", \"Chocolatey\", \"Resinous\", \"Spicy\", \"Carbony\", \"Pungent\", \"Harsh\", \"Sharp\", \"Bland\", \"Mellow\", \"Acidy\", \"Winey\", \"Soury\", \"Floral\", \"Fragrant\", \"Citrus\", \"Berry-like\", \"Alliaceous\", \"Leguminous\", \"Nut-like\", \"Malt-like\", \"Candy-like\", \"Syrup-like\", \"Chocolate-like\", \"Vanilla-like\", \"Turpeny\", \"Medicinal\", \"Warming\", \"Pungent\", \"Smokey\", \"Ashy\", \"Creosol\", \"Phenolic\", \"Caustic\", \"Alkaline\", \"Astringent\", \"Rough\", \"Neutral\", \"Soft\", \"Delicate\", \"Mild\", \"Nippy\", \"Piquant\", \"Tangy\", \"Tart\", \"Hard\", \"Acrid\", \"Coffee Blossom\", \"Tea Rose\", \"Cardamon Caraway\", \"Coriander Seeds\", \"Lemon\", \"Apple\", \"Apricot\", \"Blackberry\", \"Onion\", \"Garlic\", \"Cucumber\", \"Garden Peas\", \"Roasted Peanuts\", \"Walnuts\", \"Balsamic Rice\", \"Toast\", \"Roasted Hazelnut\", \"Roasted Almond\", \"Honey\", \"Maple Syrup\", \"Bakers\", \"Dark Chocolate\", \"Swiss\", \"Butter\", \"Piney\", \"Blackcurrant-like\", \"Camphoric\", \"Cineolic\", \"Cedar\", \"Pepper\", \"Clove\", \"Thyme\", \"Tarry\", \"Pipe Tobacco\", \"Burnt\", \"Charred\"], \"maxdepth\": 2, \"parents\": [null, null, null, null, null, null, null, null, null, null, null, null, null, null, null, null, null, \"Enzymatic-Flowery\", \"Enzymatic-Flowery\", \"Enzymatic-Fruity\", \"Enzymatic-Fruity\", \"Enzymatic-Herby\", \"Enzymatic-Herby\", \"Sugar Browning-Nutty\", \"Sugar Browning-Nutty\", \"Sugar Browning-Carmelly\", \"Sugar Browning-Carmelly\", \"Sugar Browning-Chocolatey\", \"Sugar Browning-Chocolatey\", \"Dry Distillation-Resinous\", \"Dry Distillation-Resinous\", \"Dry Distillation-Spicy\", \"Dry Distillation-Spicy\", \"Dry Distillation-Carbony\", \"Dry Distillation-Carbony\", \"Bitter-Pungent\", \"Bitter-Pungent\", \"Bitter-Harsh\", \"Bitter-Harsh\", \"Salt-Sharp\", \"Salt-Sharp\", \"Salt-Bland\", \"Salt-Bland\", \"Sweet-Mellow\", \"Sweet-Mellow\", \"Sweet-Acidy\", \"Sweet-Acidy\", \"Sour-Winey\", \"Sour-Winey\", \"Sour-Soury\", \"Sour-Soury\", \"Flowery-Floral\", \"Flowery-Floral\", \"Flowery-Fragrant\", \"Flowery-Fragrant\", \"Fruity-Citrus\", \"Fruity-Citrus\", \"Fruity-Berry-like\", \"Fruity-Berry-like\", \"Herby-Alliaceous\", \"Herby-Alliaceous\", \"Herby-Leguminous\", \"Herby-Leguminous\", \"Nutty-Nut-like\", \"Nutty-Nut-like\", \"Nutty-Malt-like\", \"Nutty-Malt-like\", \"Carmelly-Candy-like\", \"Carmelly-Candy-like\", \"Carmelly-Syrup-like\", \"Carmelly-Syrup-like\", \"Chocolatey-Chocolate-like\", \"Chocolatey-Chocolate-like\", \"Chocolatey-Vanilla-like\", \"Chocolatey-Vanilla-like\", \"Resinous-Turpeny\", \"Resinous-Turpeny\", \"Resinous-Medicinal\", \"Resinous-Medicinal\", \"Spicy-Warming\", \"Spicy-Warming\", \"Spicy-Pungent\", \"Spicy-Pungent\", \"Carbony-Smokey\", \"Carbony-Smokey\", \"Carbony-Ashy\", \"Carbony-Ashy\"], \"type\": \"sunburst\"}],\n",
       "                        {\"grid\": {\"columns\": 2, \"rows\": 1}, \"margin\": {\"b\": 0, \"l\": 0, \"r\": 0, \"t\": 0}, \"template\": {\"data\": {\"bar\": [{\"error_x\": {\"color\": \"#2a3f5f\"}, \"error_y\": {\"color\": \"#2a3f5f\"}, \"marker\": {\"line\": {\"color\": \"#E5ECF6\", \"width\": 0.5}}, \"type\": \"bar\"}], \"barpolar\": [{\"marker\": {\"line\": {\"color\": \"#E5ECF6\", \"width\": 0.5}}, \"type\": \"barpolar\"}], \"carpet\": [{\"aaxis\": {\"endlinecolor\": \"#2a3f5f\", \"gridcolor\": \"white\", \"linecolor\": \"white\", \"minorgridcolor\": \"white\", \"startlinecolor\": \"#2a3f5f\"}, \"baxis\": {\"endlinecolor\": \"#2a3f5f\", \"gridcolor\": \"white\", \"linecolor\": \"white\", \"minorgridcolor\": \"white\", \"startlinecolor\": \"#2a3f5f\"}, \"type\": \"carpet\"}], \"choropleth\": [{\"colorbar\": {\"outlinewidth\": 0, \"ticks\": \"\"}, \"type\": \"choropleth\"}], \"contour\": [{\"colorbar\": {\"outlinewidth\": 0, \"ticks\": \"\"}, \"colorscale\": [[0.0, \"#0d0887\"], [0.1111111111111111, \"#46039f\"], [0.2222222222222222, \"#7201a8\"], [0.3333333333333333, \"#9c179e\"], [0.4444444444444444, \"#bd3786\"], [0.5555555555555556, \"#d8576b\"], [0.6666666666666666, \"#ed7953\"], [0.7777777777777778, \"#fb9f3a\"], [0.8888888888888888, \"#fdca26\"], [1.0, \"#f0f921\"]], \"type\": \"contour\"}], \"contourcarpet\": [{\"colorbar\": {\"outlinewidth\": 0, \"ticks\": \"\"}, \"type\": \"contourcarpet\"}], \"heatmap\": [{\"colorbar\": {\"outlinewidth\": 0, \"ticks\": \"\"}, \"colorscale\": [[0.0, \"#0d0887\"], [0.1111111111111111, \"#46039f\"], [0.2222222222222222, \"#7201a8\"], [0.3333333333333333, \"#9c179e\"], [0.4444444444444444, \"#bd3786\"], [0.5555555555555556, \"#d8576b\"], [0.6666666666666666, \"#ed7953\"], [0.7777777777777778, \"#fb9f3a\"], [0.8888888888888888, \"#fdca26\"], [1.0, \"#f0f921\"]], \"type\": \"heatmap\"}], \"heatmapgl\": [{\"colorbar\": {\"outlinewidth\": 0, \"ticks\": \"\"}, \"colorscale\": [[0.0, \"#0d0887\"], [0.1111111111111111, \"#46039f\"], [0.2222222222222222, \"#7201a8\"], [0.3333333333333333, \"#9c179e\"], [0.4444444444444444, \"#bd3786\"], [0.5555555555555556, \"#d8576b\"], [0.6666666666666666, \"#ed7953\"], [0.7777777777777778, \"#fb9f3a\"], [0.8888888888888888, \"#fdca26\"], [1.0, \"#f0f921\"]], \"type\": \"heatmapgl\"}], \"histogram\": [{\"marker\": {\"colorbar\": {\"outlinewidth\": 0, \"ticks\": \"\"}}, \"type\": \"histogram\"}], \"histogram2d\": [{\"colorbar\": {\"outlinewidth\": 0, \"ticks\": \"\"}, \"colorscale\": [[0.0, \"#0d0887\"], [0.1111111111111111, \"#46039f\"], [0.2222222222222222, \"#7201a8\"], [0.3333333333333333, \"#9c179e\"], [0.4444444444444444, \"#bd3786\"], [0.5555555555555556, \"#d8576b\"], [0.6666666666666666, \"#ed7953\"], [0.7777777777777778, \"#fb9f3a\"], [0.8888888888888888, \"#fdca26\"], [1.0, \"#f0f921\"]], \"type\": \"histogram2d\"}], \"histogram2dcontour\": [{\"colorbar\": {\"outlinewidth\": 0, \"ticks\": \"\"}, \"colorscale\": [[0.0, \"#0d0887\"], [0.1111111111111111, \"#46039f\"], [0.2222222222222222, \"#7201a8\"], [0.3333333333333333, \"#9c179e\"], [0.4444444444444444, \"#bd3786\"], [0.5555555555555556, \"#d8576b\"], [0.6666666666666666, \"#ed7953\"], [0.7777777777777778, \"#fb9f3a\"], [0.8888888888888888, \"#fdca26\"], [1.0, \"#f0f921\"]], \"type\": \"histogram2dcontour\"}], \"mesh3d\": [{\"colorbar\": {\"outlinewidth\": 0, \"ticks\": \"\"}, \"type\": \"mesh3d\"}], \"parcoords\": [{\"line\": {\"colorbar\": {\"outlinewidth\": 0, \"ticks\": \"\"}}, \"type\": \"parcoords\"}], \"pie\": [{\"automargin\": true, \"type\": \"pie\"}], \"scatter\": [{\"marker\": {\"colorbar\": {\"outlinewidth\": 0, \"ticks\": \"\"}}, \"type\": \"scatter\"}], \"scatter3d\": [{\"line\": {\"colorbar\": {\"outlinewidth\": 0, \"ticks\": \"\"}}, \"marker\": {\"colorbar\": {\"outlinewidth\": 0, \"ticks\": \"\"}}, \"type\": \"scatter3d\"}], \"scattercarpet\": [{\"marker\": {\"colorbar\": {\"outlinewidth\": 0, \"ticks\": \"\"}}, \"type\": \"scattercarpet\"}], \"scattergeo\": [{\"marker\": {\"colorbar\": {\"outlinewidth\": 0, \"ticks\": \"\"}}, \"type\": \"scattergeo\"}], \"scattergl\": [{\"marker\": {\"colorbar\": {\"outlinewidth\": 0, \"ticks\": \"\"}}, \"type\": \"scattergl\"}], \"scattermapbox\": [{\"marker\": {\"colorbar\": {\"outlinewidth\": 0, \"ticks\": \"\"}}, \"type\": \"scattermapbox\"}], \"scatterpolar\": [{\"marker\": {\"colorbar\": {\"outlinewidth\": 0, \"ticks\": \"\"}}, \"type\": \"scatterpolar\"}], \"scatterpolargl\": [{\"marker\": {\"colorbar\": {\"outlinewidth\": 0, \"ticks\": \"\"}}, \"type\": \"scatterpolargl\"}], \"scatterternary\": [{\"marker\": {\"colorbar\": {\"outlinewidth\": 0, \"ticks\": \"\"}}, \"type\": \"scatterternary\"}], \"surface\": [{\"colorbar\": {\"outlinewidth\": 0, \"ticks\": \"\"}, \"colorscale\": [[0.0, \"#0d0887\"], [0.1111111111111111, \"#46039f\"], [0.2222222222222222, \"#7201a8\"], [0.3333333333333333, \"#9c179e\"], [0.4444444444444444, \"#bd3786\"], [0.5555555555555556, \"#d8576b\"], [0.6666666666666666, \"#ed7953\"], [0.7777777777777778, \"#fb9f3a\"], [0.8888888888888888, \"#fdca26\"], [1.0, \"#f0f921\"]], \"type\": \"surface\"}], \"table\": [{\"cells\": {\"fill\": {\"color\": \"#EBF0F8\"}, \"line\": {\"color\": \"white\"}}, \"header\": {\"fill\": {\"color\": \"#C8D4E3\"}, \"line\": {\"color\": \"white\"}}, \"type\": \"table\"}]}, \"layout\": {\"annotationdefaults\": {\"arrowcolor\": \"#2a3f5f\", \"arrowhead\": 0, \"arrowwidth\": 1}, \"coloraxis\": {\"colorbar\": {\"outlinewidth\": 0, \"ticks\": \"\"}}, \"colorscale\": {\"diverging\": [[0, \"#8e0152\"], [0.1, \"#c51b7d\"], [0.2, \"#de77ae\"], [0.3, \"#f1b6da\"], [0.4, \"#fde0ef\"], [0.5, \"#f7f7f7\"], [0.6, \"#e6f5d0\"], [0.7, \"#b8e186\"], [0.8, \"#7fbc41\"], [0.9, \"#4d9221\"], [1, \"#276419\"]], \"sequential\": [[0.0, \"#0d0887\"], [0.1111111111111111, \"#46039f\"], [0.2222222222222222, \"#7201a8\"], [0.3333333333333333, \"#9c179e\"], [0.4444444444444444, \"#bd3786\"], [0.5555555555555556, \"#d8576b\"], [0.6666666666666666, \"#ed7953\"], [0.7777777777777778, \"#fb9f3a\"], [0.8888888888888888, \"#fdca26\"], [1.0, \"#f0f921\"]], \"sequentialminus\": [[0.0, \"#0d0887\"], [0.1111111111111111, \"#46039f\"], [0.2222222222222222, \"#7201a8\"], [0.3333333333333333, \"#9c179e\"], [0.4444444444444444, \"#bd3786\"], [0.5555555555555556, \"#d8576b\"], [0.6666666666666666, \"#ed7953\"], [0.7777777777777778, \"#fb9f3a\"], [0.8888888888888888, \"#fdca26\"], [1.0, \"#f0f921\"]]}, \"colorway\": [\"#636efa\", \"#EF553B\", \"#00cc96\", \"#ab63fa\", \"#FFA15A\", \"#19d3f3\", \"#FF6692\", \"#B6E880\", \"#FF97FF\", \"#FECB52\"], \"font\": {\"color\": \"#2a3f5f\"}, \"geo\": {\"bgcolor\": \"white\", \"lakecolor\": \"white\", \"landcolor\": \"#E5ECF6\", \"showlakes\": true, \"showland\": true, \"subunitcolor\": \"white\"}, \"hoverlabel\": {\"align\": \"left\"}, \"hovermode\": \"closest\", \"mapbox\": {\"style\": \"light\"}, \"paper_bgcolor\": \"white\", \"plot_bgcolor\": \"#E5ECF6\", \"polar\": {\"angularaxis\": {\"gridcolor\": \"white\", \"linecolor\": \"white\", \"ticks\": \"\"}, \"bgcolor\": \"#E5ECF6\", \"radialaxis\": {\"gridcolor\": \"white\", \"linecolor\": \"white\", \"ticks\": \"\"}}, \"scene\": {\"xaxis\": {\"backgroundcolor\": \"#E5ECF6\", \"gridcolor\": \"white\", \"gridwidth\": 2, \"linecolor\": \"white\", \"showbackground\": true, \"ticks\": \"\", \"zerolinecolor\": \"white\"}, \"yaxis\": {\"backgroundcolor\": \"#E5ECF6\", \"gridcolor\": \"white\", \"gridwidth\": 2, \"linecolor\": \"white\", \"showbackground\": true, \"ticks\": \"\", \"zerolinecolor\": \"white\"}, \"zaxis\": {\"backgroundcolor\": \"#E5ECF6\", \"gridcolor\": \"white\", \"gridwidth\": 2, \"linecolor\": \"white\", \"showbackground\": true, \"ticks\": \"\", \"zerolinecolor\": \"white\"}}, \"shapedefaults\": {\"line\": {\"color\": \"#2a3f5f\"}}, \"ternary\": {\"aaxis\": {\"gridcolor\": \"white\", \"linecolor\": \"white\", \"ticks\": \"\"}, \"baxis\": {\"gridcolor\": \"white\", \"linecolor\": \"white\", \"ticks\": \"\"}, \"bgcolor\": \"#E5ECF6\", \"caxis\": {\"gridcolor\": \"white\", \"linecolor\": \"white\", \"ticks\": \"\"}}, \"title\": {\"x\": 0.05}, \"xaxis\": {\"automargin\": true, \"gridcolor\": \"white\", \"linecolor\": \"white\", \"ticks\": \"\", \"title\": {\"standoff\": 15}, \"zerolinecolor\": \"white\", \"zerolinewidth\": 2}, \"yaxis\": {\"automargin\": true, \"gridcolor\": \"white\", \"linecolor\": \"white\", \"ticks\": \"\", \"title\": {\"standoff\": 15}, \"zerolinecolor\": \"white\", \"zerolinewidth\": 2}}}},\n",
       "                        {\"responsive\": true}\n",
       "                    ).then(function(){\n",
       "                            \n",
       "var gd = document.getElementById('2bae6351-38f5-4ca9-86b3-57e153ff96e4');\n",
       "var x = new MutationObserver(function (mutations, observer) {{\n",
       "        var display = window.getComputedStyle(gd).display;\n",
       "        if (!display || display === 'none') {{\n",
       "            console.log([gd, 'removed!']);\n",
       "            Plotly.purge(gd);\n",
       "            observer.disconnect();\n",
       "        }}\n",
       "}});\n",
       "\n",
       "// Listen for the removal of the full notebook cells\n",
       "var notebookContainer = gd.closest('#notebook-container');\n",
       "if (notebookContainer) {{\n",
       "    x.observe(notebookContainer, {childList: true});\n",
       "}}\n",
       "\n",
       "// Listen for the clearing of the current output cell\n",
       "var outputEl = gd.closest('.output');\n",
       "if (outputEl) {{\n",
       "    x.observe(outputEl, {childList: true});\n",
       "}}\n",
       "\n",
       "                        })\n",
       "                };\n",
       "                });\n",
       "            </script>\n",
       "        </div>"
      ]
     },
     "metadata": {},
     "output_type": "display_data"
    }
   ],
   "source": [
    "\n",
    "import pandas as pd\n",
    "\n",
    "df1 = pd.read_csv('https://raw.githubusercontent.com/plotly/datasets/718417069ead87650b90472464c7565dc8c2cb1c/sunburst-coffee-flavors-complete.csv')\n",
    "df2 = pd.read_csv('https://raw.githubusercontent.com/plotly/datasets/718417069ead87650b90472464c7565dc8c2cb1c/coffee-flavors.csv')\n",
    "\n",
    "fig = go.Figure()\n",
    "\n",
    "fig.add_trace(go.Sunburst(\n",
    "    ids=df1.ids,\n",
    "    labels=df1.labels,\n",
    "    parents=df1.parents,\n",
    "    domain=dict(column=0)\n",
    "))\n",
    "\n",
    "fig.add_trace(go.Sunburst(\n",
    "    ids=df2.ids,\n",
    "    labels=df2.labels,\n",
    "    parents=df2.parents,\n",
    "    domain=dict(column=1),\n",
    "    maxdepth=2\n",
    "))\n",
    "\n",
    "fig.update_layout(\n",
    "    grid= dict(columns=2, rows=1),\n",
    "    margin = dict(t=0, l=0, r=0, b=0)\n",
    ")\n",
    "\n",
    "fig.show()"
   ]
  },
  {
   "cell_type": "code",
   "execution_count": null,
   "metadata": {},
   "outputs": [],
   "source": [
    "#customizing hover layer\n",
    "import plotly.express as px\n",
    "\n",
    "df = px.data.gapminder().query(\"continent=='Oceania'\")\n",
    "\n",
    "fig = px.line(df, x=\"year\", y=\"lifeExp\", color=\"country\", title=\"Custom layout.hoverlabel formatting\")\n",
    "fig.update_traces(mode=\"markers+lines\")\n",
    "\n",
    "fig.update_layout(\n",
    "    hoverlabel=dict(\n",
    "        bgcolor=\"white\", \n",
    "        font_size=16, \n",
    "        font_family=\"Rockwell\"\n",
    "    )\n",
    ")\n",
    "\n",
    "fig.show()"
   ]
  },
  {
   "cell_type": "code",
   "execution_count": null,
   "metadata": {},
   "outputs": [],
   "source": []
  },
  {
   "cell_type": "code",
   "execution_count": null,
   "metadata": {},
   "outputs": [],
   "source": [
    "#spike lines\n",
    "import plotly.express as px\n",
    "\n",
    "df = px.data.gapminder().query(\"continent=='Oceania'\")\n",
    "\n",
    "fig = px.line(df, x=\"year\", y=\"lifeExp\", color=\"country\", title=\"Spike lines active\")\n",
    "fig.update_traces(mode=\"markers+lines\")\n",
    "\n",
    "fig.update_xaxes(showspikes=True)\n",
    "fig.update_yaxes(showspikes=True)\n",
    "\n",
    "fig.show()"
   ]
  }
 ],
 "metadata": {
  "kernelspec": {
   "display_name": "Python 3",
   "language": "python",
   "name": "python3"
  },
  "language_info": {
   "codemirror_mode": {
    "name": "ipython",
    "version": 3
   },
   "file_extension": ".py",
   "mimetype": "text/x-python",
   "name": "python",
   "nbconvert_exporter": "python",
   "pygments_lexer": "ipython3",
   "version": "3.7.3"
  }
 },
 "nbformat": 4,
 "nbformat_minor": 2
}

{
 "cells": [
  {
   "cell_type": "code",
   "execution_count": null,
   "metadata": {},
   "outputs": [],
   "source": [
    "#pip install missingno"
   ]
  },
  {
   "cell_type": "code",
   "execution_count": 1,
   "metadata": {},
   "outputs": [],
   "source": [
    "import pandas as pd\n",
    "import numpy as np"
   ]
  },
  {
   "cell_type": "code",
   "execution_count": 3,
   "metadata": {},
   "outputs": [],
   "source": [
    "df = pd.read_csv(\"data/input.csv\", header=0)"
   ]
  },
  {
   "cell_type": "code",
   "execution_count": null,
   "metadata": {},
   "outputs": [],
   "source": [
    "import missingno as msno \n",
    "msno.matrix(df)"
   ]
  },
  {
   "cell_type": "code",
   "execution_count": null,
   "metadata": {},
   "outputs": [],
   "source": [
    "msno.bar(df)"
   ]
  },
  {
   "cell_type": "code",
   "execution_count": 4,
   "metadata": {},
   "outputs": [],
   "source": [
    "df[\"New\"] = df['New'].astype('str')\n",
    "df[\"Stage\"] = df['Stage'].astype('str')"
   ]
  },
  {
   "cell_type": "code",
   "execution_count": 5,
   "metadata": {},
   "outputs": [
    {
     "name": "stdout",
     "output_type": "stream",
     "text": [
      "173\n",
      "<class 'str'>\n",
      "nan\n",
      "177\n",
      "<class 'str'>\n",
      "nan\n",
      "178\n",
      "<class 'str'>\n",
      "nan\n",
      "179\n",
      "<class 'str'>\n",
      "nan\n"
     ]
    }
   ],
   "source": [
    "true_phrases = [\"new\",\"New\",\"ew\",\"Ne\",\"ne\"]\n",
    "false_phrases = [\"exist\",\"Exist\",\"ex\",\"Ex\",\"ist\",\"ng\",\"st\"]\n",
    "stage_phrases = [\"confirming\",\"con\",\"nfirm\",\"application\",\"app\",\"investigating\",\"invest\"]\n",
    "for index, row in df.iterrows():\n",
    "    for t_p in true_phrases:\n",
    "        if type(row[\"New\"]) == bool: break\n",
    "        if t_p in row[\"New\"]:\n",
    "            df.at[index,\"New\"] = True\n",
    "            \n",
    "    for f_p in false_phrases:\n",
    "        if type(row[\"New\"]) == bool: break\n",
    "        if f_p in row[\"New\"]:\n",
    "            df.at[index,\"New\"] = False\n",
    "    if type(row[\"New\"]) != bool:\n",
    "        print(index)\n",
    "        print(type(row[\"New\"]))\n",
    "        print(row[\"New\"])\n",
    "        #df.at[index,\"New\"] = np.nan\n",
    "        \n",
    "    \n",
    "    for s_p in stage_phrases:\n",
    "        if s_p in row[\"Stage\"]:\n",
    "            df.at[index,\"Stage\"] = \"Discovery (S.P.I.N.)\""
   ]
  },
  {
   "cell_type": "markdown",
   "metadata": {},
   "source": [
    "### removing artifacts from PV and PP"
   ]
  },
  {
   "cell_type": "code",
   "execution_count": 6,
   "metadata": {},
   "outputs": [],
   "source": [
    "df[\"PotentialValue\"] = df['PotentialValue'].astype('str')\n",
    "df[\"ProbPercent\"] = df['ProbPercent'].astype('str')"
   ]
  },
  {
   "cell_type": "code",
   "execution_count": 7,
   "metadata": {},
   "outputs": [
    {
     "name": "stdout",
     "output_type": "stream",
     "text": [
      "PV13\n",
      "PV96\n",
      "PP96\n"
     ]
    }
   ],
   "source": [
    "numlist = [\"0\",\"1\",\"2\",\"3\",\"4\",\"5\",\"6\",\"7\",\"8\",\"9\"]\n",
    "PVindex = []\n",
    "PPindex = []\n",
    "nonnumindex = []\n",
    "for index, row in df.iterrows():\n",
    "    stringa = row['PotentialValue']\n",
    "    row['PotentialValue'] = stringa.strip(\"$\").replace(',',\"\")\n",
    "    stringb = row['ProbPercent']\n",
    "    row['ProbPercent'] = stringb.strip(\"%\")\n",
    "    counta = 0\n",
    "    countb = 0\n",
    "    for num in numlist:\n",
    "        if num in stringa: counta += 1\n",
    "        if num in stringb: countb += 1\n",
    "    if counta == 0: \n",
    "        df.at[index,\"PotentialValue\"] = np.NaN\n",
    "        PVindex.append(index)\n",
    "        if index not in nonnumindex:\n",
    "            nonnumindex.append(index)\n",
    "        print(\"PV\"+str(index))\n",
    "    if countb == 0:\n",
    "        df.at[index,\"ProbPercent\"] = np.NaN\n",
    "        PPindex.append(index)\n",
    "        if index not in nonnumindex:\n",
    "            nonnumindex.append(index)\n",
    "        print(\"PP\"+str(index))"
   ]
  },
  {
   "cell_type": "code",
   "execution_count": 9,
   "metadata": {},
   "outputs": [
    {
     "name": "stdout",
     "output_type": "stream",
     "text": [
      "230\n"
     ]
    }
   ],
   "source": [
    "df_num = df.dropna(subset=[\"PotentialValue\",\"ProbPercent\"])\n",
    "print(len(df_num))"
   ]
  },
  {
   "cell_type": "code",
   "execution_count": 11,
   "metadata": {},
   "outputs": [
    {
     "name": "stderr",
     "output_type": "stream",
     "text": [
      "C:\\Users\\blake\\Anaconda3\\lib\\site-packages\\ipykernel_launcher.py:1: SettingWithCopyWarning: \n",
      "A value is trying to be set on a copy of a slice from a DataFrame.\n",
      "Try using .loc[row_indexer,col_indexer] = value instead\n",
      "\n",
      "See the caveats in the documentation: http://pandas.pydata.org/pandas-docs/stable/indexing.html#indexing-view-versus-copy\n",
      "  \"\"\"Entry point for launching an IPython kernel.\n",
      "C:\\Users\\blake\\Anaconda3\\lib\\site-packages\\ipykernel_launcher.py:2: SettingWithCopyWarning: \n",
      "A value is trying to be set on a copy of a slice from a DataFrame.\n",
      "Try using .loc[row_indexer,col_indexer] = value instead\n",
      "\n",
      "See the caveats in the documentation: http://pandas.pydata.org/pandas-docs/stable/indexing.html#indexing-view-versus-copy\n",
      "  \n"
     ]
    }
   ],
   "source": [
    "df_num[\"PotentialValue\"] = df_num['PotentialValue'].astype('int')\n",
    "df_num[\"ProbPercent\"] = df_num['ProbPercent'].astype('float')"
   ]
  },
  {
   "cell_type": "code",
   "execution_count": 12,
   "metadata": {},
   "outputs": [
    {
     "name": "stderr",
     "output_type": "stream",
     "text": [
      "C:\\Users\\blake\\Anaconda3\\lib\\site-packages\\ipykernel_launcher.py:1: SettingWithCopyWarning: \n",
      "A value is trying to be set on a copy of a slice from a DataFrame.\n",
      "Try using .loc[row_indexer,col_indexer] = value instead\n",
      "\n",
      "See the caveats in the documentation: http://pandas.pydata.org/pandas-docs/stable/indexing.html#indexing-view-versus-copy\n",
      "  \"\"\"Entry point for launching an IPython kernel.\n"
     ]
    }
   ],
   "source": [
    "df_num[\"ProbPercent\"] = df_num[\"ProbPercent\"] / 100\n"
   ]
  },
  {
   "cell_type": "code",
   "execution_count": null,
   "metadata": {},
   "outputs": [],
   "source": [
    "df_num[\"ExpectedValue\"] = df_num[\"PotentialValue\"] * df_num[\"ProbPercent\"]"
   ]
  },
  {
   "cell_type": "code",
   "execution_count": null,
   "metadata": {},
   "outputs": [],
   "source": []
  },
  {
   "cell_type": "code",
   "execution_count": null,
   "metadata": {},
   "outputs": [],
   "source": [
    "column_names = ['Div', 'Branch', 'OAM', 'UpdateDate', 'LeadType', 'LeadSpecifics',\n",
    "       'Customer', 'Type', 'New', 'City, St', 'ProjectOpportunity',\n",
    "       'KeyVendor', 'TechnologiesServices Proposed', 'PotentialValue',\n",
    "       'ProbPercent','ExpectedValue','CustomerCompelingEvent', 'Stage', 'YourNextBIGStep',\n",
    "       'ExpectedOrderDate', 'Notes']\n",
    "df_num = df_num.reindex(columns=column_names)"
   ]
  },
  {
   "cell_type": "markdown",
   "metadata": {},
   "source": [
    "# Opportunity Funnel"
   ]
  },
  {
   "cell_type": "markdown",
   "metadata": {},
   "source": [
    "### creating junk DataFrame"
   ]
  },
  {
   "cell_type": "code",
   "execution_count": null,
   "metadata": {},
   "outputs": [],
   "source": [
    "PV_list = list(df_num[\"PotentialValue\"].unique())\n",
    "df_junka = df[~df.PotentialValue.isin(PV_list)]\n",
    "df_junka\n"
   ]
  },
  {
   "cell_type": "code",
   "execution_count": null,
   "metadata": {},
   "outputs": [],
   "source": [
    "df_num[df_num[\"Branch\"]==\"Austin\"].groupby(\"Stage\").agg(\"mean\")"
   ]
  },
  {
   "cell_type": "code",
   "execution_count": null,
   "metadata": {},
   "outputs": [],
   "source": [
    "df_num[(df_num[\"Branch\"]==\"Austin\") & (df_num[\"Stage\"]==\"Won\")]"
   ]
  },
  {
   "cell_type": "code",
   "execution_count": null,
   "metadata": {},
   "outputs": [],
   "source": [
    "Cummunalative: cummun_sum of PV, cummun_sum of EV, cummun_len of rows\n",
    "\n",
    "\n",
    "\n",
    "Snapshot: sum of PV, sum of EV, avg of PP, len of rows"
   ]
  },
  {
   "cell_type": "code",
   "execution_count": null,
   "metadata": {},
   "outputs": [],
   "source": [
    "df_num = df\n",
    "for i in range(len(nonnumindex)):\n",
    "    df_num = df_num.drop([df_num.index[i]])\n",
    "    "
   ]
  },
  {
   "cell_type": "code",
   "execution_count": null,
   "metadata": {},
   "outputs": [],
   "source": [
    "df_num.drop(\"13\")"
   ]
  },
  {
   "cell_type": "code",
   "execution_count": null,
   "metadata": {},
   "outputs": [],
   "source": [
    "for index, row in df_num.iterrows():\n",
    "    print(index)"
   ]
  },
  {
   "cell_type": "code",
   "execution_count": null,
   "metadata": {},
   "outputs": [],
   "source": [
    "len(df_num)"
   ]
  },
  {
   "cell_type": "code",
   "execution_count": null,
   "metadata": {},
   "outputs": [],
   "source": [
    "df_num.head(100)"
   ]
  },
  {
   "cell_type": "code",
   "execution_count": null,
   "metadata": {},
   "outputs": [],
   "source": [
    "\n",
    "df_PV = df_PV.drop([df_PV.index[96-1]])\n",
    "len(df_PV)"
   ]
  },
  {
   "cell_type": "code",
   "execution_count": null,
   "metadata": {},
   "outputs": [],
   "source": [
    "df_num.in"
   ]
  },
  {
   "cell_type": "code",
   "execution_count": null,
   "metadata": {},
   "outputs": [],
   "source": [
    "for i in PVindex:\n",
    "    print(i)"
   ]
  },
  {
   "cell_type": "code",
   "execution_count": null,
   "metadata": {},
   "outputs": [],
   "source": [
    "df_PV = df\n",
    "df_PP = df\n",
    "#df_PV.drop([PVindex])\n",
    "#df_PP.drop([PPindex])\n",
    "for i in PVindex:\n",
    "    df_PV = df_PV.drop([df_PV.index[i]])\n",
    "for i in PPindex:\n",
    "    df_PP = df_PP.drop([df_PP.index[i]])\n",
    "print(len(df_PV))\n",
    "print(len(df_PP))"
   ]
  },
  {
   "cell_type": "code",
   "execution_count": null,
   "metadata": {},
   "outputs": [],
   "source": [
    "df_PV.reset_index(drop=True)\n",
    "df_PP.reset_index(drop=True)"
   ]
  },
  {
   "cell_type": "code",
   "execution_count": null,
   "metadata": {},
   "outputs": [],
   "source": [
    "numlist = [\"0\",\"1\",\"2\",\"3\",\"4\",\"5\",\"6\",\"7\",\"8\",\"9\"]\n",
    "PVindex = []\n",
    "PPindex = []\n",
    "count = 0\n",
    "for index, row in df_PV.iterrows():\n",
    "    stringa = row['PotentialValue']\n",
    "    \n",
    "    #row['PotentialValue'] = stringa.strip(\"$\").replace(',',\"\")\n",
    "    stringb = row['ProbPercent']\n",
    "    #row['ProbPercent'] = stringb.strip(\"%\")\n",
    "    if count == 0:\n",
    "        if type(stringa) != int:\n",
    "            print(index)\n",
    "            print(row[\"PotentialValue\"])\n",
    "            count += 1\n",
    " "
   ]
  },
  {
   "cell_type": "code",
   "execution_count": null,
   "metadata": {},
   "outputs": [],
   "source": [
    "for index, row in df_PV.iterrows():\n",
    "    inte = df_PV.at[index,\"PotentialValue\"]\n",
    "    df_PV.at[index,\"PotentialValue\"] = int(inte)"
   ]
  },
  {
   "cell_type": "code",
   "execution_count": null,
   "metadata": {},
   "outputs": [],
   "source": [
    "df_PV[\"PotentialValue\"] = df_PV['PotentialValue'].astype('float')\n",
    "df_PP[\"ProbPercent\"] = df_PP['ProbPercent'].astype('float')"
   ]
  },
  {
   "cell_type": "code",
   "execution_count": null,
   "metadata": {},
   "outputs": [],
   "source": [
    "df_PV[\"PotentialValue\"].unique()"
   ]
  },
  {
   "cell_type": "code",
   "execution_count": null,
   "metadata": {},
   "outputs": [],
   "source": [
    "pd.set_option('display.max_columns', 500)"
   ]
  },
  {
   "cell_type": "markdown",
   "metadata": {},
   "source": [
    "## removing nan from PotentialValue and ProbPercent"
   ]
  },
  {
   "cell_type": "code",
   "execution_count": null,
   "metadata": {},
   "outputs": [],
   "source": [
    "df_PV = df[df[\"PotentialValue\"] != np.nan]\n",
    "df_PP = df[df[\"ProbPercent\"] != np.nan]\n",
    "print(len(df_PV))\n",
    "print(len(df))"
   ]
  },
  {
   "cell_type": "code",
   "execution_count": null,
   "metadata": {},
   "outputs": [],
   "source": [
    "df_PV = df[df['PotentialValue'].notna()]\n",
    "df_PP = df[df[\"ProbPercent\"].notna()]\n",
    "print(len(df_PV))\n",
    "print(len(df))"
   ]
  },
  {
   "cell_type": "code",
   "execution_count": null,
   "metadata": {},
   "outputs": [],
   "source": [
    "df_PV[\"PotentialValue\"] = df_PV['PotentialValue'].astype('int')\n",
    "df_PP[\"ProbPercent\"] = df_PP['ProbPercent'].astype('float')"
   ]
  },
  {
   "cell_type": "markdown",
   "metadata": {},
   "source": [
    "## converting PV and PP to int and float"
   ]
  },
  {
   "cell_type": "code",
   "execution_count": null,
   "metadata": {},
   "outputs": [],
   "source": [
    "df[\"PotentialValue\"] = df['PotentialValue'].astype('int')\n",
    "df[\"ProbPercent\"] = df['ProbPercent'].astype('float')"
   ]
  },
  {
   "cell_type": "code",
   "execution_count": null,
   "metadata": {},
   "outputs": [],
   "source": [
    "df_PP[\"ProbPercent\"].unique()"
   ]
  },
  {
   "cell_type": "code",
   "execution_count": null,
   "metadata": {},
   "outputs": [],
   "source": [
    "dftest = df.loc[(df.Branch == \"Austin\") & (df.Stage == \"Working\")]\n",
    "dftest[\"PotentialValue\"].sum()"
   ]
  },
  {
   "cell_type": "code",
   "execution_count": null,
   "metadata": {},
   "outputs": [],
   "source": [
    "sum = 0\n",
    "\n",
    "for index,row in df.loc[(df.Branch == \"Austin\") & (df.Stage == \"Working\")][\"PotentialValue\"].iterrow()\n"
   ]
  },
  {
   "cell_type": "code",
   "execution_count": null,
   "metadata": {},
   "outputs": [],
   "source": [
    "#log rows with missing data\n",
    "def branchstage(branch):\n",
    "    \n",
    "    df.loc[(df.Branch == branch) & (df.Stage == \"Working\")]"
   ]
  },
  {
   "cell_type": "code",
   "execution_count": null,
   "metadata": {},
   "outputs": [],
   "source": [
    "df_sf = pd.DataFrame({\"Branch\": list(df[\"Branch\"].unique())\n",
    "                      \"Discovery (S.P.I.N.)\":[],\n",
    "                      \"Solution Development\":[],\n",
    "                      \"Quoting\":[],\n",
    "                      \"Working\":[],\n",
    "                      \"On Hold\":[],\n",
    "                      \"Won\":[],\n",
    "                      \"Lost (why?)\":[]                   \n",
    "})\n",
    "Branches = list(df[\"Branch\"].unique())\n",
    "Stages = [\"Discovery (S.P.I.N.)\",\"Solution Development\",\"Quoting\",\"Working\",\"On Hold\",\"Won\"]\n",
    "for branch in Branches:\n",
    "#    for stage in Stages\n",
    "row = "
   ]
  },
  {
   "cell_type": "code",
   "execution_count": null,
   "metadata": {},
   "outputs": [],
   "source": [
    "\n",
    "pd.DataFrame(df.groupby(\"Branch\"))"
   ]
  },
  {
   "cell_type": "code",
   "execution_count": null,
   "metadata": {},
   "outputs": [],
   "source": [
    "df[\"Stage\"].unique()"
   ]
  },
  {
   "cell_type": "markdown",
   "metadata": {},
   "source": [
    "# Anvil"
   ]
  },
  {
   "cell_type": "code",
   "execution_count": null,
   "metadata": {},
   "outputs": [],
   "source": [
    "import anvil.server"
   ]
  },
  {
   "cell_type": "code",
   "execution_count": null,
   "metadata": {},
   "outputs": [],
   "source": [
    "anvil.server.connect(\"CQDZVOXZXKELP4PAW2T6JHIQ-KRG6AGPQGUKD7FSD\")"
   ]
  },
  {
   "cell_type": "code",
   "execution_count": null,
   "metadata": {},
   "outputs": [],
   "source": [
    "import pandas as pd\n",
    "import anvil.tables as tables\n",
    "from anvil.tables import app_tables\n",
    "import anvil.media\n",
    "\n",
    "@anvil.server.callable\n",
    "def import_csv_data(file):\n",
    "  with anvil.media.TempFile(file, \"r\") as f:\n",
    "    df = pd.read_csv(f)\n",
    "    for d in df.to_dict(orient=\"records\"):\n",
    "      # d is now a dict of {columnname -> value} for this row\n",
    "      # We use Python's **kwargs syntax to pass the whole dict as\n",
    "      # keyword arguments\n",
    "        app_tables.raw.add_row(**d)"
   ]
  },
  {
   "cell_type": "code",
   "execution_count": null,
   "metadata": {},
   "outputs": [],
   "source": [
    "import_csv_data(\"colours.csv\")"
   ]
  },
  {
   "cell_type": "code",
   "execution_count": null,
   "metadata": {},
   "outputs": [],
   "source": [
    "df"
   ]
  },
  {
   "cell_type": "code",
   "execution_count": null,
   "metadata": {},
   "outputs": [],
   "source": []
  },
  {
   "cell_type": "markdown",
   "metadata": {},
   "source": [
    "# Sales Funnel"
   ]
  },
  {
   "cell_type": "code",
   "execution_count": null,
   "metadata": {},
   "outputs": [],
   "source": [
    "from plotly import graph_objects as go\n",
    "\n",
    "fig = go.Figure()\n",
    "\n",
    "fig.add_trace(go.Funnel(\n",
    "    name = 'Montreal',\n",
    "    y = [\"Website visit\", \"Downloads\", \"Potential customers\", \"Requested price\"],\n",
    "    x = [120, 60, 30, 20],\n",
    "    textinfo = \"value+percent initial\"))\n",
    "\n",
    "fig.add_trace(go.Funnel(\n",
    "    name = 'Toronto',\n",
    "    orientation = \"h\",\n",
    "    y = [\"Website visit\", \"Downloads\", \"Potential customers\", \"Requested price\", \"invoice sent\"],\n",
    "    x = [100, 60, 40, 30, 20],\n",
    "    textposition = \"inside\",\n",
    "    textinfo = \"value+percent previous\"))\n",
    "\n",
    "fig.add_trace(go.Funnel(\n",
    "    name = 'Vancouver',\n",
    "    orientation = \"h\",\n",
    "    y = [\"Website visit\", \"Downloads\", \"Potential customers\", \"Requested price\", \"invoice sent\", \"Finalized\"],\n",
    "    x = [90, 70, 50, 30, 10, 5],\n",
    "    textposition = \"outside\",\n",
    "    textinfo = \"value+percent total\"))\n",
    "\n",
    "fig.show()"
   ]
  },
  {
   "cell_type": "markdown",
   "metadata": {},
   "source": [
    "# OAM Visualization"
   ]
  },
  {
   "cell_type": "code",
   "execution_count": null,
   "metadata": {},
   "outputs": [],
   "source": [
    "df_OAM = df.groupby(\"OAM\").mean()\n",
    "df_OAM"
   ]
  },
  {
   "cell_type": "code",
   "execution_count": null,
   "metadata": {},
   "outputs": [],
   "source": []
  },
  {
   "cell_type": "code",
   "execution_count": null,
   "metadata": {},
   "outputs": [],
   "source": []
  },
  {
   "cell_type": "code",
   "execution_count": null,
   "metadata": {},
   "outputs": [],
   "source": []
  },
  {
   "cell_type": "markdown",
   "metadata": {},
   "source": [
    "# Dash"
   ]
  },
  {
   "cell_type": "code",
   "execution_count": null,
   "metadata": {},
   "outputs": [],
   "source": [
    "import plotly.graph_objects as go\n",
    "\n",
    "import pandas as pd\n",
    "\n",
    "df = pd.read_csv(\"https://raw.githubusercontent.com/bcdunbar/datasets/master/parcoords_data.csv\")\n",
    "\n",
    "fig = go.Figure(data=\n",
    "    go.Parcoords(\n",
    "        line = dict(color = df['colorVal'],\n",
    "                   colorscale = 'Electric',\n",
    "                   showscale = True,\n",
    "                   cmin = -4000,\n",
    "                   cmax = -100),\n",
    "        dimensions = list([\n",
    "            dict(range = [32000,227900],\n",
    "                 constraintrange = [100000,150000],\n",
    "                 label = \"Block Height\", values = df['blockHeight']),\n",
    "            dict(range = [0,700000],\n",
    "                 label = 'Block Width', values = df['blockWidth']),\n",
    "            dict(tickvals = [0,0.5,1,2,3],\n",
    "                 ticktext = ['A','AB','B','Y','Z'],\n",
    "                 label = 'Cyclinder Material', values = df['cycMaterial']),\n",
    "            dict(range = [-1,4],\n",
    "                 tickvals = [0,1,2,3],\n",
    "                 label = 'Block Material', values = df['blockMaterial']),\n",
    "            dict(range = [134,3154],\n",
    "                 visible = True,\n",
    "                 label = 'Total Weight', values = df['totalWeight']),\n",
    "            dict(range = [9,19984],\n",
    "                 label = 'Assembly Penalty Wt', values = df['assemblyPW']),\n",
    "            dict(range = [49000,568000],\n",
    "                 label = 'Height st Width', values = df['HstW'])])\n",
    "    )\n",
    ")\n",
    "fig.show()"
   ]
  },
  {
   "cell_type": "code",
   "execution_count": null,
   "metadata": {},
   "outputs": [],
   "source": []
  },
  {
   "cell_type": "code",
   "execution_count": null,
   "metadata": {},
   "outputs": [],
   "source": [
    "import plotly.graph_objects as go\n",
    "import ipywidgets as widgets\n",
    "import pandas as pd\n",
    "import numpy as np\n",
    "\n",
    "cars_df = pd.read_csv('https://raw.githubusercontent.com/plotly/datasets/master/imports-85.csv')\n",
    "\n",
    "# Build parcats dimensions\n",
    "categorical_dimensions = ['body-style', 'drive-wheels', 'fuel-type']\n",
    "\n",
    "dimensions = [dict(values=cars_df[label], label=label) for label in categorical_dimensions]\n",
    "\n",
    "# Build colorscale\n",
    "color = np.zeros(len(cars_df), dtype='uint8')\n",
    "colorscale = [[0, 'gray'], [0.33, 'gray'],\n",
    "              [0.33, 'firebrick'], [0.66, 'firebrick'],\n",
    "              [0.66, 'blue'], [1.0, 'blue']]\n",
    "cmin = -0.5\n",
    "cmax = 2.5\n",
    "\n",
    "# Build figure as FigureWidget\n",
    "fig = go.FigureWidget(\n",
    "    data=[go.Scatter(x=cars_df.horsepower, y=cars_df['highway-mpg'],\n",
    "                marker={'color': color, 'cmin': cmin, 'cmax': cmax,\n",
    "                        'colorscale': colorscale, 'showscale': True,\n",
    "                        'colorbar': {'tickvals': [0, 1, 2], 'ticktext': ['None', 'Red', 'Blue']}},\n",
    "                     mode='markers'),\n",
    "\n",
    "      go.Parcats(domain={'y': [0, 0.4]}, dimensions=dimensions,\n",
    "                   line={'colorscale': colorscale, 'cmin': cmin,\n",
    "                   'cmax': cmax, 'color': color, 'shape': 'hspline'})]\n",
    ")\n",
    "\n",
    "fig.update_layout(height=800, xaxis={'title': 'Horsepower'},\n",
    "                  yaxis={'title': 'MPG', 'domain': [0.6, 1]},\n",
    "                  dragmode='lasso', hovermode='closest')\n",
    "\n",
    "# Build color selection widget\n",
    "color_toggle = widgets.ToggleButtons(\n",
    "    options=['None', 'Red', 'Blue'],\n",
    "    index=1, description='Brush Color:', disabled=False)\n",
    "\n",
    "# Update color callback\n",
    "def update_color(trace, points, state):\n",
    "    # Compute new color array\n",
    "    new_color = np.array(fig.data[0].marker.color)\n",
    "    new_color[points.point_inds] = color_toggle.index\n",
    "\n",
    "    with fig.batch_update():\n",
    "        # Update scatter color\n",
    "        fig.data[0].marker.color = new_color\n",
    "\n",
    "        # Update parcats colors\n",
    "        fig.data[1].line.color = new_color\n",
    "\n",
    "# Register callback on scatter selection...\n",
    "fig.data[0].on_selection(update_color)\n",
    "# and parcats click\n",
    "fig.data[1].on_click(update_color)\n",
    "\n",
    "# Display figure\n",
    "widgets.VBox([color_toggle, fig])"
   ]
  },
  {
   "cell_type": "code",
   "execution_count": null,
   "metadata": {},
   "outputs": [],
   "source": [
    "import plotly.graph_objects as go\n",
    "import ipywidgets as widgets\n",
    "import pandas as pd\n",
    "import numpy as np\n",
    "\n",
    "cars_df = pd.read_csv('https://raw.githubusercontent.com/plotly/datasets/master/imports-85.csv')\n",
    "\n",
    "# Build parcats dimensions\n",
    "categorical_dimensions = ['body-style', 'drive-wheels', 'fuel-type']\n",
    "\n",
    "dimensions = [dict(values=cars_df[label], label=label) for label in categorical_dimensions]\n",
    "\n",
    "# Build colorscale\n",
    "color = np.zeros(len(cars_df), dtype='uint8')\n",
    "colorscale = [[0, 'gray'], [0.33, 'gray'],\n",
    "              [0.33, 'firebrick'], [0.66, 'firebrick'],\n",
    "              [0.66, 'blue'], [1.0, 'blue']]\n",
    "cmin = -0.5\n",
    "cmax = 2.5\n",
    "\n",
    "# Build figure as FigureWidget\n",
    "fig = go.FigureWidget(\n",
    "    data=[go.Scatter(x=cars_df.horsepower, y=cars_df['highway-mpg'],\n",
    "                marker={'color': color, 'cmin': cmin, 'cmax': cmax,\n",
    "                        'colorscale': colorscale, 'showscale': True,\n",
    "                        'colorbar': {'tickvals': [0, 1, 2], 'ticktext': ['None', 'Red', 'Blue']}},\n",
    "                     mode='markers'),\n",
    "\n",
    "      go.Parcats(domain={'y': [0, 0.4]}, dimensions=dimensions,\n",
    "                   line={'colorscale': colorscale, 'cmin': cmin,\n",
    "                   'cmax': cmax, 'color': color, 'shape': 'hspline'})]\n",
    ")\n",
    "\n",
    "fig.update_layout(height=800, xaxis={'title': 'Horsepower'},\n",
    "                  yaxis={'title': 'MPG', 'domain': [0.6, 1]},\n",
    "                  dragmode='lasso', hovermode='closest')\n",
    "\n",
    "# Build color selection widget\n",
    "color_toggle = widgets.ToggleButtons(\n",
    "    options=['None', 'Red', 'Blue'],\n",
    "    index=1, description='Brush Color:', disabled=False)\n",
    "\n",
    "# Update color callback\n",
    "def update_color(trace, points, state):\n",
    "    # Compute new color array\n",
    "    new_color = np.array(fig.data[0].marker.color)\n",
    "    new_color[points.point_inds] = color_toggle.index\n",
    "\n",
    "    with fig.batch_update():\n",
    "        # Update scatter color\n",
    "        fig.data[0].marker.color = new_color\n",
    "\n",
    "        # Update parcats colors\n",
    "        fig.data[1].line.color = new_color\n",
    "\n",
    "# Register callback on scatter selection...\n",
    "fig.data[0].on_selection(update_color)\n",
    "# and parcats click\n",
    "fig.data[1].on_click(update_color)\n",
    "\n",
    "# Display figure\n",
    "widgets.VBox([color_toggle, fig])"
   ]
  },
  {
   "cell_type": "code",
   "execution_count": null,
   "metadata": {},
   "outputs": [],
   "source": []
  },
  {
   "cell_type": "code",
   "execution_count": null,
   "metadata": {},
   "outputs": [],
   "source": []
  },
  {
   "cell_type": "code",
   "execution_count": null,
   "metadata": {},
   "outputs": [],
   "source": [
    "import plotly.graph_objects as go\n",
    "\n",
    "import pandas as pd\n",
    "\n",
    "df = pd.read_csv(\"https://raw.githubusercontent.com/bcdunbar/datasets/master/parcoords_data.csv\")\n",
    "\n",
    "fig = go.Figure(data=\n",
    "    go.Parcoords(\n",
    "        line = dict(color = df['colorVal'],\n",
    "                   colorscale = 'Electric',\n",
    "                   showscale = True,\n",
    "                   cmin = -4000,\n",
    "                   cmax = -100),\n",
    "        dimensions = list([\n",
    "            dict(range = [32000,227900],\n",
    "                 constraintrange = [100000,150000],\n",
    "                 label = \"Block Height\", values = df['blockHeight']),\n",
    "            dict(range = [0,700000],\n",
    "                 label = 'Block Width', values = df['blockWidth']),\n",
    "            dict(tickvals = [0,0.5,1,2,3],\n",
    "                 ticktext = ['A','AB','B','Y','Z'],\n",
    "                 label = 'Cyclinder Material', values = df['cycMaterial']),\n",
    "            dict(range = [-1,4],\n",
    "                 tickvals = [0,1,2,3],\n",
    "                 label = 'Block Material', values = df['blockMaterial']),\n",
    "            dict(range = [134,3154],\n",
    "                 visible = True,\n",
    "                 label = 'Total Weight', values = df['totalWeight']),\n",
    "            dict(range = [9,19984],\n",
    "                 label = 'Assembly Penalty Wt', values = df['assemblyPW']),\n",
    "            dict(range = [49000,568000],\n",
    "                 label = 'Height st Width', values = df['HstW'])])\n",
    "    )\n",
    ")\n",
    "fig.show()"
   ]
  },
  {
   "cell_type": "code",
   "execution_count": null,
   "metadata": {},
   "outputs": [],
   "source": []
  }
 ],
 "metadata": {
  "kernelspec": {
   "display_name": "Python 3",
   "language": "python",
   "name": "python3"
  },
  "language_info": {
   "codemirror_mode": {
    "name": "ipython",
    "version": 3
   },
   "file_extension": ".py",
   "mimetype": "text/x-python",
   "name": "python",
   "nbconvert_exporter": "python",
   "pygments_lexer": "ipython3",
   "version": "3.7.3"
  }
 },
 "nbformat": 4,
 "nbformat_minor": 2
}
